{
 "cells": [
  {
   "attachments": {},
   "cell_type": "markdown",
   "metadata": {},
   "source": [
    "# SETUP"
   ]
  },
  {
   "cell_type": "code",
   "execution_count": 37,
   "metadata": {},
   "outputs": [],
   "source": [
    "# Import stuff\n",
    "import torch\n",
    "import torch.nn as nn\n",
    "import torch.nn.functional as F\n",
    "import torch.optim as optim\n",
    "import numpy as np\n",
    "import einops\n",
    "from fancy_einsum import einsum\n",
    "import tqdm.auto as tqdm\n",
    "import random\n",
    "from pathlib import Path\n",
    "import plotly.express as px\n",
    "from torch.utils.data import DataLoader\n",
    "\n",
    "# from torchtyping import TensorType as TT\n",
    "from typing import List, Union, Optional\n",
    "from functools import partial\n",
    "import copy\n",
    "import gc\n",
    "\n",
    "import itertools\n",
    "from transformers import AutoModelForCausalLM, AutoConfig, AutoTokenizer\n",
    "import dataclasses\n",
    "import datasets\n",
    "from IPython.display import HTML\n",
    "from einops import rearrange\n",
    "\n",
    "# from sklearn.decomposition import PCA\n",
    "from scipy.special import softmax\n",
    "from scipy.interpolate import BSpline, make_interp_spline\n",
    "\n",
    "import transformer_lens\n",
    "import transformer_lens.utils as utils\n",
    "from transformer_lens.hook_points import (\n",
    "    HookedRootModule,\n",
    "    HookPoint,\n",
    ")  # Hooking utilities\n",
    "from transformer_lens import HookedTransformer, HookedTransformerConfig, FactoredMatrix, ActivationCache, loading_from_pretrained\n",
    "from transformer_lens.loading_from_pretrained import get_checkpoint_labels, get_official_model_name\n",
    "torch.set_grad_enabled(False)\n",
    "\n",
    "from transformer_lens import evals\n",
    "import matplotlib.pyplot as plt\n",
    "\n",
    "import plotly.io as pio\n",
    "import plotly.graph_objects as go\n",
    "pio.renderers.default = \"notebook_connected\"\n",
    "torch.set_grad_enabled(False)\n",
    "\n",
    "config = {\n",
    "  'toImageButtonOptions': {\n",
    "    'format': 'png', # one of png, svg, jpeg, webp\n",
    "    'filename': 'custom_image',\n",
    "    'height': 500,\n",
    "    'width': 900,\n",
    "    'scale':10 # Multiply title/legend/axis/canvas sizes by this factor\n",
    "  }\n",
    "}"
   ]
  },
  {
   "cell_type": "code",
   "execution_count": 38,
   "metadata": {},
   "outputs": [
    {
     "name": "stdout",
     "output_type": "stream",
     "text": [
      "_CudaDeviceProperties(name='GeForce RTX 2080 Ti', major=7, minor=5, total_memory=11019MB, multi_processor_count=68) 4\n"
     ]
    }
   ],
   "source": [
    "print(torch.cuda.get_device_properties(0), torch.cuda.device_count())\n",
    "device = \"cuda\" if torch.cuda.is_available() else \"cpu\""
   ]
  },
  {
   "cell_type": "code",
   "execution_count": 28,
   "metadata": {},
   "outputs": [],
   "source": [
    "def plot_effective_dimensionality(model_to_effective_dimension_qk, model_to_tokens_trained_on, title):\n",
    "    colors = ['#1f77b4', '#ff7f0e', '#2ca02c', '#d62728', '#9467bd', '#8c564b', '#e377c2', '#7f7f7f', '#bcbd22', '#17becf']\n",
    "    variance_alpha = 0.1\n",
    "\n",
    "    fig = go.Figure()\n",
    "    fig.update_layout(title=f'{title}')\n",
    "    # fig.update_xaxes(title=\"% token in training set\", type='log')\n",
    "    # fig.update_yaxes(title=\"Effective dimensionality\", type='log')\n",
    "\n",
    "    for i, (model_name, color) in enumerate(zip(model_to_effective_dimension_qk, colors)):\n",
    "        effective_dimension = np.asarray(model_to_effective_dimension_qk[model_name])\n",
    "        effective_dimension = effective_dimension/effective_dimension[0]\n",
    "\n",
    "\n",
    "        tokens_trained_on = np.asarray(model_to_tokens_trained_on[model_name])\n",
    "        tokens_trained_on = 100 * (tokens_trained_on / tokens_trained_on[-1])\n",
    "        tokens_trained_on[0] = 1e-2\n",
    "\n",
    "\n",
    "        mean_val = np.mean(effective_dimension, axis=1)\n",
    "        std_val = 0.5 * np.std(effective_dimension, axis=1)\n",
    "\n",
    "        fig.add_trace(go.Scatter(x=tokens_trained_on, y=mean_val, name=f'{model_name}',\n",
    "                                 mode='lines+markers', line=dict(color=color), marker=dict(color=color)))\n",
    "\n",
    "        fig.add_trace(go.Scatter(x=tokens_trained_on.tolist() + tokens_trained_on.tolist()[::-1],\n",
    "                                 y=(mean_val - std_val).tolist() + (mean_val + std_val).tolist()[::-1],\n",
    "                                 fill='toself', fillcolor=f'rgba({int(color[1:3], 16)}, {int(color[3:5], 16)}, {int(color[5:7], 16)}, {variance_alpha})',\n",
    "                                 line=dict(color='rgba(255,255,255,0)'),\n",
    "                                 name=f'{model_name} - Variance', showlegend=False))\n",
    "    return fig\n",
    "\n"
   ]
  },
  {
   "cell_type": "code",
   "execution_count": 29,
   "metadata": {},
   "outputs": [],
   "source": [
    "def plot_3d_trajectories(data):\n",
    "    \"\"\"\n",
    "    Plot 3D trajectories of the curves with the specified modifications.\n",
    "    \n",
    "    Parameters:\n",
    "    - data: A numpy array of shape [NxTx3]\n",
    "    \"\"\"\n",
    "    \n",
    "    # Create a 3D plot\n",
    "    fig = go.Figure()\n",
    "    \n",
    "    # Function to perform B-spline interpolation\n",
    "    def interpolate_bspline(points, k=3, num=100):\n",
    "        \"\"\"Interpolate points with a B-spline.\"\"\"\n",
    "        t = np.linspace(0, 1, len(points))\n",
    "        t_new = np.linspace(0, 1, num)\n",
    "        spline = make_interp_spline(t, points, k=k)\n",
    "        return spline(t_new)\n",
    "    \n",
    "    # Aesthetically pleasing color palette\n",
    "    colors = ['#1f77b4', '#ff7f0e', '#2ca02c', '#d62728', '#9467bd', '#8c564b', '#e377c2', '#7f7f7f', '#bcbd22', '#17becf']\n",
    "    \n",
    "    # Loop through each curve\n",
    "    for i in range(data.shape[0]):\n",
    "        curve = data[i]\n",
    "        color = colors[i % len(colors)]  # Cycle through colors if there are more curves than colors\n",
    "        \n",
    "        # Add a scatter plot for the actual data points with dimmed colors\n",
    "        fig.add_trace(go.Scatter3d(x=curve[:, 0], y=curve[:, 1], z=curve[:, 2], \n",
    "                                   mode='markers',\n",
    "                                   marker=dict(size=5, opacity=0.5, color=color),\n",
    "                                   showlegend=False))\n",
    "        \n",
    "        # Add a line to represent the smooth trajectory using B-spline interpolation\n",
    "        x_new, y_new, z_new = interpolate_bspline(curve).T\n",
    "        fig.add_trace(go.Scatter3d(x=x_new, y=y_new, z=z_new, \n",
    "                                   mode='lines',\n",
    "                                   line=dict(width=2, color=color),\n",
    "                                   name=f'Curve {i + 1}'))\n",
    "    \n",
    "    # Update layout to remove axis labels and values\n",
    "    fig.update_layout(scene=dict(xaxis=dict(showticklabels=False, title=\"\"),\n",
    "                                 yaxis=dict(showticklabels=False, title=\"\"),\n",
    "                                 zaxis=dict(showticklabels=False, title=\"\")),\n",
    "                      showlegend=True)\n",
    "    \n",
    "    return fig"
   ]
  },
  {
   "cell_type": "code",
   "execution_count": 30,
   "metadata": {},
   "outputs": [],
   "source": [
    "def effective_rank(model):\n",
    "    with torch.no_grad():\n",
    "        q_ov = model.OV.svd()[1]\n",
    "        q_qk = model.QK.svd()[1]\n",
    "        q_ov = q_ov/q_ov.sum(dim=-1, keepdim=True)\n",
    "        q_qk = q_qk/q_qk.sum(dim=-1, keepdim=True)\n",
    "        q_ov = torch.sum(q_ov * torch.log(q_ov), dim=-1)\n",
    "        q_qk = torch.sum(q_qk * torch.log(q_qk), dim=-1)\n",
    "        dims = [torch.exp(-q_ov).mean(axis=-1).cpu().detach().numpy(), torch.exp(-q_qk).mean(axis=-1).cpu().detach().numpy()]\n",
    "\n",
    "    del q_ov, q_qk\n",
    "    torch.cuda.empty_cache()\n",
    "    return dims\n",
    "\n",
    "\n",
    "def uniformly_spaced_integers(N, k):\n",
    "    # Compute the step size\n",
    "    step = N / (k-1)\n",
    "    \n",
    "    # Generate the numbers\n",
    "    numbers = np.arange(0, N+1, step, dtype=int)\n",
    "    \n",
    "    # If due to floating point inaccuracies the numbers are less than k, adjust the last number\n",
    "    if len(numbers) < k:\n",
    "        numbers = np.append(numbers, N)\n",
    "    elif len(numbers) > k:\n",
    "        numbers = numbers[:k]\n",
    "\n",
    "    # Append -1 to the array\n",
    "    numbers = np.append(numbers, -1) \n",
    "\n",
    "    return numbers\n",
    "\n",
    "def log_scaled_integers_v2(N, k, base=np.e):\n",
    "    # Generate k-1 numbers between log(2) (to ensure we start from a non-zero value) and log_base(N+1)\n",
    "    log_values = np.linspace(np.log(2)/np.log(base), np.log(N+1)/np.log(base), k)\n",
    "    \n",
    "    # Use the exponential function with the desired base to expand the range\n",
    "    numbers = (base ** log_values - 1) * (N / (base ** (np.log(N+1)/np.log(base)) - 1))\n",
    "    numbers = np.round(numbers).astype(int)\n",
    "    \n",
    "    # Ensure the array size is k+1 by appending -1 at the end and prepend 0 at the beginning\n",
    "    numbers = numbers[2:-1]\n",
    "    numbers = np.append(0, numbers)\n",
    "    numbers = np.append(numbers, -1)\n",
    "    \n",
    "    return numbers\n",
    "\n"
   ]
  },
  {
   "attachments": {},
   "cell_type": "markdown",
   "metadata": {},
   "source": [
    "# Weights Analysis"
   ]
  },
  {
   "cell_type": "code",
   "execution_count": 31,
   "metadata": {},
   "outputs": [
    {
     "name": "stdout",
     "output_type": "stream",
     "text": [
      "attn-only-1l\n",
      "0\n",
      "Loaded pretrained model attn-only-1l into HookedTransformer\n",
      "2\n",
      "Loaded pretrained model attn-only-1l into HookedTransformer\n",
      "3\n",
      "Loaded pretrained model attn-only-1l into HookedTransformer\n",
      "4\n",
      "Loaded pretrained model attn-only-1l into HookedTransformer\n",
      "5\n",
      "Loaded pretrained model attn-only-1l into HookedTransformer\n",
      "7\n",
      "Loaded pretrained model attn-only-1l into HookedTransformer\n",
      "9\n",
      "Loaded pretrained model attn-only-1l into HookedTransformer\n",
      "12\n",
      "Loaded pretrained model attn-only-1l into HookedTransformer\n",
      "15\n",
      "Loaded pretrained model attn-only-1l into HookedTransformer\n",
      "19\n",
      "Loaded pretrained model attn-only-1l into HookedTransformer\n",
      "25\n",
      "Loaded pretrained model attn-only-1l into HookedTransformer\n",
      "31\n",
      "Loaded pretrained model attn-only-1l into HookedTransformer\n",
      "40\n",
      "Loaded pretrained model attn-only-1l into HookedTransformer\n",
      "50\n",
      "Loaded pretrained model attn-only-1l into HookedTransformer\n",
      "64\n",
      "Loaded pretrained model attn-only-1l into HookedTransformer\n",
      "81\n",
      "Loaded pretrained model attn-only-1l into HookedTransformer\n",
      "102\n",
      "Loaded pretrained model attn-only-1l into HookedTransformer\n",
      "129\n",
      "Loaded pretrained model attn-only-1l into HookedTransformer\n",
      "-1\n",
      "Loaded pretrained model attn-only-1l into HookedTransformer\n",
      "attn-only-2l\n",
      "0\n",
      "Loaded pretrained model attn-only-2l into HookedTransformer\n",
      "2\n",
      "Loaded pretrained model attn-only-2l into HookedTransformer\n",
      "3\n",
      "Loaded pretrained model attn-only-2l into HookedTransformer\n",
      "4\n",
      "Loaded pretrained model attn-only-2l into HookedTransformer\n",
      "5\n",
      "Loaded pretrained model attn-only-2l into HookedTransformer\n",
      "7\n",
      "Loaded pretrained model attn-only-2l into HookedTransformer\n",
      "9\n",
      "Loaded pretrained model attn-only-2l into HookedTransformer\n",
      "12\n",
      "Loaded pretrained model attn-only-2l into HookedTransformer\n",
      "15\n",
      "Loaded pretrained model attn-only-2l into HookedTransformer\n",
      "19\n",
      "Loaded pretrained model attn-only-2l into HookedTransformer\n",
      "25\n",
      "Loaded pretrained model attn-only-2l into HookedTransformer\n",
      "31\n",
      "Loaded pretrained model attn-only-2l into HookedTransformer\n",
      "40\n",
      "Loaded pretrained model attn-only-2l into HookedTransformer\n",
      "50\n",
      "Loaded pretrained model attn-only-2l into HookedTransformer\n",
      "64\n",
      "Loaded pretrained model attn-only-2l into HookedTransformer\n",
      "81\n",
      "Loaded pretrained model attn-only-2l into HookedTransformer\n",
      "102\n",
      "Loaded pretrained model attn-only-2l into HookedTransformer\n",
      "129\n",
      "Loaded pretrained model attn-only-2l into HookedTransformer\n",
      "-1\n",
      "Loaded pretrained model attn-only-2l into HookedTransformer\n",
      "attn-only-3l\n",
      "0\n",
      "Loaded pretrained model attn-only-3l into HookedTransformer\n",
      "2\n",
      "Loaded pretrained model attn-only-3l into HookedTransformer\n",
      "3\n",
      "Loaded pretrained model attn-only-3l into HookedTransformer\n",
      "4\n",
      "Loaded pretrained model attn-only-3l into HookedTransformer\n",
      "5\n",
      "Loaded pretrained model attn-only-3l into HookedTransformer\n",
      "7\n",
      "Loaded pretrained model attn-only-3l into HookedTransformer\n",
      "9\n",
      "Loaded pretrained model attn-only-3l into HookedTransformer\n",
      "12\n",
      "Loaded pretrained model attn-only-3l into HookedTransformer\n",
      "15\n",
      "Loaded pretrained model attn-only-3l into HookedTransformer\n",
      "19\n",
      "Loaded pretrained model attn-only-3l into HookedTransformer\n",
      "25\n",
      "Loaded pretrained model attn-only-3l into HookedTransformer\n",
      "31\n",
      "Loaded pretrained model attn-only-3l into HookedTransformer\n",
      "40\n",
      "Loaded pretrained model attn-only-3l into HookedTransformer\n",
      "50\n",
      "Loaded pretrained model attn-only-3l into HookedTransformer\n",
      "64\n",
      "Loaded pretrained model attn-only-3l into HookedTransformer\n",
      "81\n",
      "Loaded pretrained model attn-only-3l into HookedTransformer\n",
      "102\n",
      "Loaded pretrained model attn-only-3l into HookedTransformer\n",
      "129\n",
      "Loaded pretrained model attn-only-3l into HookedTransformer\n",
      "-1\n",
      "Loaded pretrained model attn-only-3l into HookedTransformer\n",
      "attn-only-4l\n",
      "0\n",
      "Loaded pretrained model attn-only-4l into HookedTransformer\n",
      "2\n",
      "Loaded pretrained model attn-only-4l into HookedTransformer\n",
      "3\n",
      "Loaded pretrained model attn-only-4l into HookedTransformer\n",
      "4\n",
      "Loaded pretrained model attn-only-4l into HookedTransformer\n",
      "5\n",
      "Loaded pretrained model attn-only-4l into HookedTransformer\n",
      "7\n",
      "Loaded pretrained model attn-only-4l into HookedTransformer\n",
      "9\n",
      "Loaded pretrained model attn-only-4l into HookedTransformer\n",
      "12\n",
      "Loaded pretrained model attn-only-4l into HookedTransformer\n",
      "15\n",
      "Loaded pretrained model attn-only-4l into HookedTransformer\n",
      "19\n",
      "Loaded pretrained model attn-only-4l into HookedTransformer\n",
      "25\n",
      "Loaded pretrained model attn-only-4l into HookedTransformer\n",
      "31\n",
      "Loaded pretrained model attn-only-4l into HookedTransformer\n",
      "40\n",
      "Loaded pretrained model attn-only-4l into HookedTransformer\n",
      "50\n",
      "Loaded pretrained model attn-only-4l into HookedTransformer\n",
      "64\n",
      "Loaded pretrained model attn-only-4l into HookedTransformer\n",
      "81\n",
      "Loaded pretrained model attn-only-4l into HookedTransformer\n",
      "102\n",
      "Loaded pretrained model attn-only-4l into HookedTransformer\n",
      "129\n",
      "Loaded pretrained model attn-only-4l into HookedTransformer\n",
      "-1\n",
      "Loaded pretrained model attn-only-4l into HookedTransformer\n",
      "stanford-gpt2-small-a\n",
      "0\n"
     ]
    },
    {
     "name": "stderr",
     "output_type": "stream",
     "text": [
      "Using pad_token, but it is not set yet.\n"
     ]
    },
    {
     "name": "stdout",
     "output_type": "stream",
     "text": [
      "Loaded pretrained model stanford-gpt2-small-a into HookedTransformer\n",
      "3\n"
     ]
    },
    {
     "name": "stderr",
     "output_type": "stream",
     "text": [
      "Using pad_token, but it is not set yet.\n"
     ]
    },
    {
     "name": "stdout",
     "output_type": "stream",
     "text": [
      "Loaded pretrained model stanford-gpt2-small-a into HookedTransformer\n",
      "4\n"
     ]
    },
    {
     "name": "stderr",
     "output_type": "stream",
     "text": [
      "Using pad_token, but it is not set yet.\n"
     ]
    },
    {
     "name": "stdout",
     "output_type": "stream",
     "text": [
      "Loaded pretrained model stanford-gpt2-small-a into HookedTransformer\n",
      "6\n"
     ]
    },
    {
     "name": "stderr",
     "output_type": "stream",
     "text": [
      "Using pad_token, but it is not set yet.\n"
     ]
    },
    {
     "name": "stdout",
     "output_type": "stream",
     "text": [
      "Loaded pretrained model stanford-gpt2-small-a into HookedTransformer\n",
      "8\n"
     ]
    },
    {
     "name": "stderr",
     "output_type": "stream",
     "text": [
      "Using pad_token, but it is not set yet.\n"
     ]
    },
    {
     "name": "stdout",
     "output_type": "stream",
     "text": [
      "Loaded pretrained model stanford-gpt2-small-a into HookedTransformer\n",
      "11\n"
     ]
    },
    {
     "name": "stderr",
     "output_type": "stream",
     "text": [
      "Using pad_token, but it is not set yet.\n"
     ]
    },
    {
     "name": "stdout",
     "output_type": "stream",
     "text": [
      "Loaded pretrained model stanford-gpt2-small-a into HookedTransformer\n",
      "15\n"
     ]
    },
    {
     "name": "stderr",
     "output_type": "stream",
     "text": [
      "Using pad_token, but it is not set yet.\n"
     ]
    },
    {
     "name": "stdout",
     "output_type": "stream",
     "text": [
      "Loaded pretrained model stanford-gpt2-small-a into HookedTransformer\n",
      "21\n"
     ]
    },
    {
     "name": "stderr",
     "output_type": "stream",
     "text": [
      "Using pad_token, but it is not set yet.\n"
     ]
    },
    {
     "name": "stdout",
     "output_type": "stream",
     "text": [
      "Loaded pretrained model stanford-gpt2-small-a into HookedTransformer\n",
      "29\n"
     ]
    },
    {
     "name": "stderr",
     "output_type": "stream",
     "text": [
      "Using pad_token, but it is not set yet.\n"
     ]
    },
    {
     "name": "stdout",
     "output_type": "stream",
     "text": [
      "Loaded pretrained model stanford-gpt2-small-a into HookedTransformer\n",
      "40\n"
     ]
    },
    {
     "name": "stderr",
     "output_type": "stream",
     "text": [
      "Using pad_token, but it is not set yet.\n"
     ]
    },
    {
     "name": "stdout",
     "output_type": "stream",
     "text": [
      "Loaded pretrained model stanford-gpt2-small-a into HookedTransformer\n",
      "54\n"
     ]
    },
    {
     "name": "stderr",
     "output_type": "stream",
     "text": [
      "Using pad_token, but it is not set yet.\n"
     ]
    },
    {
     "name": "stdout",
     "output_type": "stream",
     "text": [
      "Loaded pretrained model stanford-gpt2-small-a into HookedTransformer\n",
      "73\n"
     ]
    },
    {
     "name": "stderr",
     "output_type": "stream",
     "text": [
      "Using pad_token, but it is not set yet.\n"
     ]
    },
    {
     "name": "stdout",
     "output_type": "stream",
     "text": [
      "Loaded pretrained model stanford-gpt2-small-a into HookedTransformer\n",
      "99\n"
     ]
    },
    {
     "name": "stderr",
     "output_type": "stream",
     "text": [
      "Using pad_token, but it is not set yet.\n"
     ]
    },
    {
     "name": "stdout",
     "output_type": "stream",
     "text": [
      "Loaded pretrained model stanford-gpt2-small-a into HookedTransformer\n",
      "134\n"
     ]
    },
    {
     "name": "stderr",
     "output_type": "stream",
     "text": [
      "Using pad_token, but it is not set yet.\n"
     ]
    },
    {
     "name": "stdout",
     "output_type": "stream",
     "text": [
      "Loaded pretrained model stanford-gpt2-small-a into HookedTransformer\n",
      "182\n"
     ]
    },
    {
     "name": "stderr",
     "output_type": "stream",
     "text": [
      "Using pad_token, but it is not set yet.\n"
     ]
    },
    {
     "name": "stdout",
     "output_type": "stream",
     "text": [
      "Loaded pretrained model stanford-gpt2-small-a into HookedTransformer\n",
      "246\n"
     ]
    },
    {
     "name": "stderr",
     "output_type": "stream",
     "text": [
      "Using pad_token, but it is not set yet.\n"
     ]
    },
    {
     "name": "stdout",
     "output_type": "stream",
     "text": [
      "Loaded pretrained model stanford-gpt2-small-a into HookedTransformer\n",
      "333\n"
     ]
    },
    {
     "name": "stderr",
     "output_type": "stream",
     "text": [
      "Using pad_token, but it is not set yet.\n"
     ]
    },
    {
     "name": "stdout",
     "output_type": "stream",
     "text": [
      "Loaded pretrained model stanford-gpt2-small-a into HookedTransformer\n",
      "450\n"
     ]
    },
    {
     "name": "stderr",
     "output_type": "stream",
     "text": [
      "Using pad_token, but it is not set yet.\n"
     ]
    },
    {
     "name": "stdout",
     "output_type": "stream",
     "text": [
      "Loaded pretrained model stanford-gpt2-small-a into HookedTransformer\n",
      "-1\n"
     ]
    },
    {
     "name": "stderr",
     "output_type": "stream",
     "text": [
      "Using pad_token, but it is not set yet.\n"
     ]
    },
    {
     "name": "stdout",
     "output_type": "stream",
     "text": [
      "Loaded pretrained model stanford-gpt2-small-a into HookedTransformer\n",
      "stanford-gpt2-small-c\n",
      "0\n"
     ]
    },
    {
     "name": "stderr",
     "output_type": "stream",
     "text": [
      "Using pad_token, but it is not set yet.\n"
     ]
    },
    {
     "name": "stdout",
     "output_type": "stream",
     "text": [
      "Loaded pretrained model stanford-gpt2-small-c into HookedTransformer\n",
      "3\n"
     ]
    },
    {
     "name": "stderr",
     "output_type": "stream",
     "text": [
      "Using pad_token, but it is not set yet.\n"
     ]
    },
    {
     "name": "stdout",
     "output_type": "stream",
     "text": [
      "Loaded pretrained model stanford-gpt2-small-c into HookedTransformer\n",
      "4\n"
     ]
    },
    {
     "name": "stderr",
     "output_type": "stream",
     "text": [
      "Using pad_token, but it is not set yet.\n"
     ]
    },
    {
     "name": "stdout",
     "output_type": "stream",
     "text": [
      "Loaded pretrained model stanford-gpt2-small-c into HookedTransformer\n",
      "6\n"
     ]
    },
    {
     "name": "stderr",
     "output_type": "stream",
     "text": [
      "Using pad_token, but it is not set yet.\n"
     ]
    },
    {
     "name": "stdout",
     "output_type": "stream",
     "text": [
      "Loaded pretrained model stanford-gpt2-small-c into HookedTransformer\n",
      "8\n"
     ]
    },
    {
     "name": "stderr",
     "output_type": "stream",
     "text": [
      "Using pad_token, but it is not set yet.\n"
     ]
    },
    {
     "name": "stdout",
     "output_type": "stream",
     "text": [
      "Loaded pretrained model stanford-gpt2-small-c into HookedTransformer\n",
      "11\n"
     ]
    },
    {
     "name": "stderr",
     "output_type": "stream",
     "text": [
      "Using pad_token, but it is not set yet.\n"
     ]
    },
    {
     "name": "stdout",
     "output_type": "stream",
     "text": [
      "Loaded pretrained model stanford-gpt2-small-c into HookedTransformer\n",
      "15\n"
     ]
    },
    {
     "name": "stderr",
     "output_type": "stream",
     "text": [
      "Using pad_token, but it is not set yet.\n"
     ]
    },
    {
     "name": "stdout",
     "output_type": "stream",
     "text": [
      "Loaded pretrained model stanford-gpt2-small-c into HookedTransformer\n",
      "21\n"
     ]
    },
    {
     "name": "stderr",
     "output_type": "stream",
     "text": [
      "Using pad_token, but it is not set yet.\n"
     ]
    },
    {
     "name": "stdout",
     "output_type": "stream",
     "text": [
      "Loaded pretrained model stanford-gpt2-small-c into HookedTransformer\n",
      "29\n"
     ]
    },
    {
     "name": "stderr",
     "output_type": "stream",
     "text": [
      "Using pad_token, but it is not set yet.\n"
     ]
    },
    {
     "name": "stdout",
     "output_type": "stream",
     "text": [
      "Loaded pretrained model stanford-gpt2-small-c into HookedTransformer\n",
      "40\n"
     ]
    },
    {
     "name": "stderr",
     "output_type": "stream",
     "text": [
      "Using pad_token, but it is not set yet.\n"
     ]
    },
    {
     "name": "stdout",
     "output_type": "stream",
     "text": [
      "Loaded pretrained model stanford-gpt2-small-c into HookedTransformer\n",
      "54\n"
     ]
    },
    {
     "name": "stderr",
     "output_type": "stream",
     "text": [
      "Using pad_token, but it is not set yet.\n"
     ]
    },
    {
     "name": "stdout",
     "output_type": "stream",
     "text": [
      "Loaded pretrained model stanford-gpt2-small-c into HookedTransformer\n",
      "73\n"
     ]
    },
    {
     "name": "stderr",
     "output_type": "stream",
     "text": [
      "Using pad_token, but it is not set yet.\n"
     ]
    },
    {
     "name": "stdout",
     "output_type": "stream",
     "text": [
      "Loaded pretrained model stanford-gpt2-small-c into HookedTransformer\n",
      "99\n"
     ]
    },
    {
     "name": "stderr",
     "output_type": "stream",
     "text": [
      "Using pad_token, but it is not set yet.\n"
     ]
    },
    {
     "name": "stdout",
     "output_type": "stream",
     "text": [
      "Loaded pretrained model stanford-gpt2-small-c into HookedTransformer\n",
      "134\n"
     ]
    },
    {
     "name": "stderr",
     "output_type": "stream",
     "text": [
      "Using pad_token, but it is not set yet.\n"
     ]
    },
    {
     "name": "stdout",
     "output_type": "stream",
     "text": [
      "Loaded pretrained model stanford-gpt2-small-c into HookedTransformer\n",
      "182\n"
     ]
    },
    {
     "name": "stderr",
     "output_type": "stream",
     "text": [
      "Using pad_token, but it is not set yet.\n"
     ]
    },
    {
     "name": "stdout",
     "output_type": "stream",
     "text": [
      "Loaded pretrained model stanford-gpt2-small-c into HookedTransformer\n",
      "246\n"
     ]
    },
    {
     "name": "stderr",
     "output_type": "stream",
     "text": [
      "Using pad_token, but it is not set yet.\n"
     ]
    },
    {
     "name": "stdout",
     "output_type": "stream",
     "text": [
      "Loaded pretrained model stanford-gpt2-small-c into HookedTransformer\n",
      "333\n"
     ]
    },
    {
     "name": "stderr",
     "output_type": "stream",
     "text": [
      "Using pad_token, but it is not set yet.\n"
     ]
    },
    {
     "name": "stdout",
     "output_type": "stream",
     "text": [
      "Loaded pretrained model stanford-gpt2-small-c into HookedTransformer\n",
      "450\n"
     ]
    },
    {
     "name": "stderr",
     "output_type": "stream",
     "text": [
      "Using pad_token, but it is not set yet.\n"
     ]
    },
    {
     "name": "stdout",
     "output_type": "stream",
     "text": [
      "Loaded pretrained model stanford-gpt2-small-c into HookedTransformer\n",
      "-1\n"
     ]
    },
    {
     "name": "stderr",
     "output_type": "stream",
     "text": [
      "Using pad_token, but it is not set yet.\n"
     ]
    },
    {
     "name": "stdout",
     "output_type": "stream",
     "text": [
      "Loaded pretrained model stanford-gpt2-small-c into HookedTransformer\n",
      "stanford-gpt2-small-d\n",
      "0\n"
     ]
    },
    {
     "name": "stderr",
     "output_type": "stream",
     "text": [
      "Using pad_token, but it is not set yet.\n"
     ]
    },
    {
     "name": "stdout",
     "output_type": "stream",
     "text": [
      "Loaded pretrained model stanford-gpt2-small-d into HookedTransformer\n",
      "3\n"
     ]
    },
    {
     "name": "stderr",
     "output_type": "stream",
     "text": [
      "Using pad_token, but it is not set yet.\n"
     ]
    },
    {
     "name": "stdout",
     "output_type": "stream",
     "text": [
      "Loaded pretrained model stanford-gpt2-small-d into HookedTransformer\n",
      "4\n"
     ]
    },
    {
     "name": "stderr",
     "output_type": "stream",
     "text": [
      "Using pad_token, but it is not set yet.\n"
     ]
    },
    {
     "name": "stdout",
     "output_type": "stream",
     "text": [
      "Loaded pretrained model stanford-gpt2-small-d into HookedTransformer\n",
      "6\n"
     ]
    },
    {
     "name": "stderr",
     "output_type": "stream",
     "text": [
      "Using pad_token, but it is not set yet.\n"
     ]
    },
    {
     "name": "stdout",
     "output_type": "stream",
     "text": [
      "Loaded pretrained model stanford-gpt2-small-d into HookedTransformer\n",
      "8\n"
     ]
    },
    {
     "name": "stderr",
     "output_type": "stream",
     "text": [
      "Using pad_token, but it is not set yet.\n"
     ]
    },
    {
     "name": "stdout",
     "output_type": "stream",
     "text": [
      "Loaded pretrained model stanford-gpt2-small-d into HookedTransformer\n",
      "11\n"
     ]
    },
    {
     "name": "stderr",
     "output_type": "stream",
     "text": [
      "Using pad_token, but it is not set yet.\n"
     ]
    },
    {
     "name": "stdout",
     "output_type": "stream",
     "text": [
      "Loaded pretrained model stanford-gpt2-small-d into HookedTransformer\n",
      "15\n"
     ]
    },
    {
     "name": "stderr",
     "output_type": "stream",
     "text": [
      "Using pad_token, but it is not set yet.\n"
     ]
    },
    {
     "name": "stdout",
     "output_type": "stream",
     "text": [
      "Loaded pretrained model stanford-gpt2-small-d into HookedTransformer\n",
      "21\n"
     ]
    },
    {
     "name": "stderr",
     "output_type": "stream",
     "text": [
      "Using pad_token, but it is not set yet.\n"
     ]
    },
    {
     "name": "stdout",
     "output_type": "stream",
     "text": [
      "Loaded pretrained model stanford-gpt2-small-d into HookedTransformer\n",
      "29\n"
     ]
    },
    {
     "name": "stderr",
     "output_type": "stream",
     "text": [
      "Using pad_token, but it is not set yet.\n"
     ]
    },
    {
     "name": "stdout",
     "output_type": "stream",
     "text": [
      "Loaded pretrained model stanford-gpt2-small-d into HookedTransformer\n",
      "40\n"
     ]
    },
    {
     "name": "stderr",
     "output_type": "stream",
     "text": [
      "Using pad_token, but it is not set yet.\n"
     ]
    },
    {
     "name": "stdout",
     "output_type": "stream",
     "text": [
      "Loaded pretrained model stanford-gpt2-small-d into HookedTransformer\n",
      "54\n"
     ]
    },
    {
     "name": "stderr",
     "output_type": "stream",
     "text": [
      "Using pad_token, but it is not set yet.\n"
     ]
    },
    {
     "name": "stdout",
     "output_type": "stream",
     "text": [
      "Loaded pretrained model stanford-gpt2-small-d into HookedTransformer\n",
      "73\n"
     ]
    },
    {
     "name": "stderr",
     "output_type": "stream",
     "text": [
      "Using pad_token, but it is not set yet.\n"
     ]
    },
    {
     "name": "stdout",
     "output_type": "stream",
     "text": [
      "Loaded pretrained model stanford-gpt2-small-d into HookedTransformer\n",
      "99\n"
     ]
    },
    {
     "name": "stderr",
     "output_type": "stream",
     "text": [
      "Using pad_token, but it is not set yet.\n"
     ]
    },
    {
     "name": "stdout",
     "output_type": "stream",
     "text": [
      "Loaded pretrained model stanford-gpt2-small-d into HookedTransformer\n",
      "134\n"
     ]
    },
    {
     "name": "stderr",
     "output_type": "stream",
     "text": [
      "Using pad_token, but it is not set yet.\n"
     ]
    },
    {
     "name": "stdout",
     "output_type": "stream",
     "text": [
      "Loaded pretrained model stanford-gpt2-small-d into HookedTransformer\n",
      "182\n"
     ]
    },
    {
     "name": "stderr",
     "output_type": "stream",
     "text": [
      "Using pad_token, but it is not set yet.\n"
     ]
    },
    {
     "name": "stdout",
     "output_type": "stream",
     "text": [
      "Loaded pretrained model stanford-gpt2-small-d into HookedTransformer\n",
      "246\n"
     ]
    },
    {
     "name": "stderr",
     "output_type": "stream",
     "text": [
      "Using pad_token, but it is not set yet.\n"
     ]
    },
    {
     "name": "stdout",
     "output_type": "stream",
     "text": [
      "Loaded pretrained model stanford-gpt2-small-d into HookedTransformer\n",
      "333\n"
     ]
    },
    {
     "name": "stderr",
     "output_type": "stream",
     "text": [
      "Using pad_token, but it is not set yet.\n"
     ]
    },
    {
     "name": "stdout",
     "output_type": "stream",
     "text": [
      "Loaded pretrained model stanford-gpt2-small-d into HookedTransformer\n",
      "450\n"
     ]
    },
    {
     "name": "stderr",
     "output_type": "stream",
     "text": [
      "Using pad_token, but it is not set yet.\n"
     ]
    },
    {
     "name": "stdout",
     "output_type": "stream",
     "text": [
      "Loaded pretrained model stanford-gpt2-small-d into HookedTransformer\n",
      "-1\n"
     ]
    },
    {
     "name": "stderr",
     "output_type": "stream",
     "text": [
      "Using pad_token, but it is not set yet.\n"
     ]
    },
    {
     "name": "stdout",
     "output_type": "stream",
     "text": [
      "Loaded pretrained model stanford-gpt2-small-d into HookedTransformer\n",
      "stanford-gpt2-medium-c\n",
      "0\n"
     ]
    },
    {
     "name": "stderr",
     "output_type": "stream",
     "text": [
      "Using pad_token, but it is not set yet.\n"
     ]
    },
    {
     "name": "stdout",
     "output_type": "stream",
     "text": [
      "Loaded pretrained model stanford-gpt2-medium-c into HookedTransformer\n",
      "3\n"
     ]
    },
    {
     "name": "stderr",
     "output_type": "stream",
     "text": [
      "Using pad_token, but it is not set yet.\n"
     ]
    },
    {
     "name": "stdout",
     "output_type": "stream",
     "text": [
      "Loaded pretrained model stanford-gpt2-medium-c into HookedTransformer\n",
      "4\n"
     ]
    },
    {
     "name": "stderr",
     "output_type": "stream",
     "text": [
      "Using pad_token, but it is not set yet.\n"
     ]
    },
    {
     "name": "stdout",
     "output_type": "stream",
     "text": [
      "Loaded pretrained model stanford-gpt2-medium-c into HookedTransformer\n",
      "6\n"
     ]
    },
    {
     "name": "stderr",
     "output_type": "stream",
     "text": [
      "Using pad_token, but it is not set yet.\n"
     ]
    },
    {
     "name": "stdout",
     "output_type": "stream",
     "text": [
      "Loaded pretrained model stanford-gpt2-medium-c into HookedTransformer\n",
      "8\n"
     ]
    },
    {
     "name": "stderr",
     "output_type": "stream",
     "text": [
      "Using pad_token, but it is not set yet.\n"
     ]
    },
    {
     "name": "stdout",
     "output_type": "stream",
     "text": [
      "Loaded pretrained model stanford-gpt2-medium-c into HookedTransformer\n",
      "11\n"
     ]
    },
    {
     "name": "stderr",
     "output_type": "stream",
     "text": [
      "Using pad_token, but it is not set yet.\n"
     ]
    },
    {
     "name": "stdout",
     "output_type": "stream",
     "text": [
      "Loaded pretrained model stanford-gpt2-medium-c into HookedTransformer\n",
      "15\n"
     ]
    },
    {
     "name": "stderr",
     "output_type": "stream",
     "text": [
      "Using pad_token, but it is not set yet.\n"
     ]
    },
    {
     "name": "stdout",
     "output_type": "stream",
     "text": [
      "Loaded pretrained model stanford-gpt2-medium-c into HookedTransformer\n",
      "21\n"
     ]
    },
    {
     "name": "stderr",
     "output_type": "stream",
     "text": [
      "Using pad_token, but it is not set yet.\n"
     ]
    },
    {
     "name": "stdout",
     "output_type": "stream",
     "text": [
      "Loaded pretrained model stanford-gpt2-medium-c into HookedTransformer\n",
      "29\n"
     ]
    },
    {
     "name": "stderr",
     "output_type": "stream",
     "text": [
      "Using pad_token, but it is not set yet.\n"
     ]
    },
    {
     "name": "stdout",
     "output_type": "stream",
     "text": [
      "Loaded pretrained model stanford-gpt2-medium-c into HookedTransformer\n",
      "40\n"
     ]
    },
    {
     "name": "stderr",
     "output_type": "stream",
     "text": [
      "Using pad_token, but it is not set yet.\n"
     ]
    },
    {
     "name": "stdout",
     "output_type": "stream",
     "text": [
      "Loaded pretrained model stanford-gpt2-medium-c into HookedTransformer\n",
      "54\n"
     ]
    },
    {
     "name": "stderr",
     "output_type": "stream",
     "text": [
      "Using pad_token, but it is not set yet.\n"
     ]
    },
    {
     "name": "stdout",
     "output_type": "stream",
     "text": [
      "Loaded pretrained model stanford-gpt2-medium-c into HookedTransformer\n",
      "73\n"
     ]
    },
    {
     "name": "stderr",
     "output_type": "stream",
     "text": [
      "Using pad_token, but it is not set yet.\n"
     ]
    },
    {
     "name": "stdout",
     "output_type": "stream",
     "text": [
      "Loaded pretrained model stanford-gpt2-medium-c into HookedTransformer\n",
      "99\n"
     ]
    },
    {
     "name": "stderr",
     "output_type": "stream",
     "text": [
      "Using pad_token, but it is not set yet.\n"
     ]
    },
    {
     "name": "stdout",
     "output_type": "stream",
     "text": [
      "Loaded pretrained model stanford-gpt2-medium-c into HookedTransformer\n",
      "134\n"
     ]
    },
    {
     "name": "stderr",
     "output_type": "stream",
     "text": [
      "Using pad_token, but it is not set yet.\n"
     ]
    },
    {
     "name": "stdout",
     "output_type": "stream",
     "text": [
      "Loaded pretrained model stanford-gpt2-medium-c into HookedTransformer\n",
      "182\n"
     ]
    },
    {
     "name": "stderr",
     "output_type": "stream",
     "text": [
      "Using pad_token, but it is not set yet.\n"
     ]
    },
    {
     "name": "stdout",
     "output_type": "stream",
     "text": [
      "Loaded pretrained model stanford-gpt2-medium-c into HookedTransformer\n",
      "246\n"
     ]
    },
    {
     "name": "stderr",
     "output_type": "stream",
     "text": [
      "Using pad_token, but it is not set yet.\n"
     ]
    },
    {
     "name": "stdout",
     "output_type": "stream",
     "text": [
      "Loaded pretrained model stanford-gpt2-medium-c into HookedTransformer\n",
      "333\n"
     ]
    },
    {
     "name": "stderr",
     "output_type": "stream",
     "text": [
      "Using pad_token, but it is not set yet.\n"
     ]
    },
    {
     "name": "stdout",
     "output_type": "stream",
     "text": [
      "Loaded pretrained model stanford-gpt2-medium-c into HookedTransformer\n",
      "450\n"
     ]
    },
    {
     "name": "stderr",
     "output_type": "stream",
     "text": [
      "Using pad_token, but it is not set yet.\n"
     ]
    },
    {
     "name": "stdout",
     "output_type": "stream",
     "text": [
      "Loaded pretrained model stanford-gpt2-medium-c into HookedTransformer\n",
      "-1\n"
     ]
    },
    {
     "name": "stderr",
     "output_type": "stream",
     "text": [
      "Using pad_token, but it is not set yet.\n"
     ]
    },
    {
     "name": "stdout",
     "output_type": "stream",
     "text": [
      "Loaded pretrained model stanford-gpt2-medium-c into HookedTransformer\n",
      "stanford-gpt2-medium-d\n",
      "1\n"
     ]
    },
    {
     "name": "stderr",
     "output_type": "stream",
     "text": [
      "Using pad_token, but it is not set yet.\n"
     ]
    },
    {
     "name": "stdout",
     "output_type": "stream",
     "text": [
      "Loaded pretrained model stanford-gpt2-medium-d into HookedTransformer\n",
      "3\n"
     ]
    },
    {
     "name": "stderr",
     "output_type": "stream",
     "text": [
      "Using pad_token, but it is not set yet.\n"
     ]
    },
    {
     "name": "stdout",
     "output_type": "stream",
     "text": [
      "Loaded pretrained model stanford-gpt2-medium-d into HookedTransformer\n",
      "4\n"
     ]
    },
    {
     "name": "stderr",
     "output_type": "stream",
     "text": [
      "Using pad_token, but it is not set yet.\n"
     ]
    },
    {
     "name": "stdout",
     "output_type": "stream",
     "text": [
      "Loaded pretrained model stanford-gpt2-medium-d into HookedTransformer\n",
      "6\n"
     ]
    },
    {
     "name": "stderr",
     "output_type": "stream",
     "text": [
      "Using pad_token, but it is not set yet.\n"
     ]
    },
    {
     "name": "stdout",
     "output_type": "stream",
     "text": [
      "Loaded pretrained model stanford-gpt2-medium-d into HookedTransformer\n",
      "8\n"
     ]
    },
    {
     "name": "stderr",
     "output_type": "stream",
     "text": [
      "Using pad_token, but it is not set yet.\n"
     ]
    },
    {
     "name": "stdout",
     "output_type": "stream",
     "text": [
      "Loaded pretrained model stanford-gpt2-medium-d into HookedTransformer\n",
      "11\n"
     ]
    },
    {
     "name": "stderr",
     "output_type": "stream",
     "text": [
      "Using pad_token, but it is not set yet.\n"
     ]
    },
    {
     "name": "stdout",
     "output_type": "stream",
     "text": [
      "Loaded pretrained model stanford-gpt2-medium-d into HookedTransformer\n",
      "15\n"
     ]
    },
    {
     "name": "stderr",
     "output_type": "stream",
     "text": [
      "Using pad_token, but it is not set yet.\n"
     ]
    },
    {
     "name": "stdout",
     "output_type": "stream",
     "text": [
      "Loaded pretrained model stanford-gpt2-medium-d into HookedTransformer\n",
      "21\n"
     ]
    },
    {
     "name": "stderr",
     "output_type": "stream",
     "text": [
      "Using pad_token, but it is not set yet.\n"
     ]
    },
    {
     "name": "stdout",
     "output_type": "stream",
     "text": [
      "Loaded pretrained model stanford-gpt2-medium-d into HookedTransformer\n",
      "29\n"
     ]
    },
    {
     "name": "stderr",
     "output_type": "stream",
     "text": [
      "Using pad_token, but it is not set yet.\n"
     ]
    },
    {
     "name": "stdout",
     "output_type": "stream",
     "text": [
      "Loaded pretrained model stanford-gpt2-medium-d into HookedTransformer\n",
      "40\n"
     ]
    },
    {
     "name": "stderr",
     "output_type": "stream",
     "text": [
      "Using pad_token, but it is not set yet.\n"
     ]
    },
    {
     "name": "stdout",
     "output_type": "stream",
     "text": [
      "Loaded pretrained model stanford-gpt2-medium-d into HookedTransformer\n",
      "54\n"
     ]
    },
    {
     "name": "stderr",
     "output_type": "stream",
     "text": [
      "Using pad_token, but it is not set yet.\n"
     ]
    },
    {
     "name": "stdout",
     "output_type": "stream",
     "text": [
      "Loaded pretrained model stanford-gpt2-medium-d into HookedTransformer\n",
      "73\n"
     ]
    },
    {
     "name": "stderr",
     "output_type": "stream",
     "text": [
      "Using pad_token, but it is not set yet.\n"
     ]
    },
    {
     "name": "stdout",
     "output_type": "stream",
     "text": [
      "Loaded pretrained model stanford-gpt2-medium-d into HookedTransformer\n",
      "99\n"
     ]
    },
    {
     "name": "stderr",
     "output_type": "stream",
     "text": [
      "Using pad_token, but it is not set yet.\n"
     ]
    },
    {
     "name": "stdout",
     "output_type": "stream",
     "text": [
      "Loaded pretrained model stanford-gpt2-medium-d into HookedTransformer\n",
      "134\n"
     ]
    },
    {
     "name": "stderr",
     "output_type": "stream",
     "text": [
      "Using pad_token, but it is not set yet.\n"
     ]
    },
    {
     "name": "stdout",
     "output_type": "stream",
     "text": [
      "Loaded pretrained model stanford-gpt2-medium-d into HookedTransformer\n",
      "182\n"
     ]
    },
    {
     "name": "stderr",
     "output_type": "stream",
     "text": [
      "Using pad_token, but it is not set yet.\n"
     ]
    },
    {
     "name": "stdout",
     "output_type": "stream",
     "text": [
      "Loaded pretrained model stanford-gpt2-medium-d into HookedTransformer\n",
      "246\n"
     ]
    },
    {
     "name": "stderr",
     "output_type": "stream",
     "text": [
      "Using pad_token, but it is not set yet.\n"
     ]
    },
    {
     "name": "stdout",
     "output_type": "stream",
     "text": [
      "Loaded pretrained model stanford-gpt2-medium-d into HookedTransformer\n",
      "333\n"
     ]
    },
    {
     "name": "stderr",
     "output_type": "stream",
     "text": [
      "Using pad_token, but it is not set yet.\n"
     ]
    },
    {
     "name": "stdout",
     "output_type": "stream",
     "text": [
      "Loaded pretrained model stanford-gpt2-medium-d into HookedTransformer\n",
      "450\n"
     ]
    },
    {
     "name": "stderr",
     "output_type": "stream",
     "text": [
      "Using pad_token, but it is not set yet.\n"
     ]
    },
    {
     "name": "stdout",
     "output_type": "stream",
     "text": [
      "Loaded pretrained model stanford-gpt2-medium-d into HookedTransformer\n",
      "-1\n"
     ]
    },
    {
     "name": "stderr",
     "output_type": "stream",
     "text": [
      "Using pad_token, but it is not set yet.\n"
     ]
    },
    {
     "name": "stdout",
     "output_type": "stream",
     "text": [
      "Loaded pretrained model stanford-gpt2-medium-d into HookedTransformer\n"
     ]
    }
   ],
   "source": [
    "\n",
    "torch.cuda.empty_cache()\n",
    "step_size = 20\n",
    "model_to_effective_dimension_ov = {}\n",
    "model_to_effective_dimension_qk = {}\n",
    "model_to_tokens_trained_on = {}\n",
    "\n",
    "# all_models = [\n",
    "#     \"attn-only-1l\", \"attn-only-2l\", \"attn-only-3l\", \"attn-only-4l\",\n",
    "#     \"stanford-gpt2-small-a\", \"stanford-gpt2-medium-a\"]\n",
    "all_models = [\n",
    "    \"attn-only-1l\", \"attn-only-2l\", \"attn-only-3l\", \"attn-only-4l\",\n",
    "    \"stanford-gpt2-small-a\", \"stanford-gpt2-small-c\", \"stanford-gpt2-small-d\", \n",
    "    # \"stanford-gpt2-medium-a\", \"stanford-gpt2-medium-c\", \"stanford-gpt2-medium-d\"]\n",
    "    \"stanford-gpt2-medium-c\", \"stanford-gpt2-medium-d\"]\n",
    "for model_name in all_models:\n",
    "    print(model_name)\n",
    "    checkpoints = get_checkpoint_labels(get_official_model_name(model_name))[0]\n",
    "    checkpoints = log_scaled_integers_v2(len(checkpoints), step_size, 10)\n",
    "    if model_name == \"stanford-gpt2-medium-d\":\n",
    "        checkpoints[0] = 1\n",
    "    tokens_trained_on = []\n",
    "    effective_dimension_ov =[]\n",
    "    effective_dimension_qk =[]\n",
    "    \n",
    "    for index in checkpoints:\n",
    "        print(index)\n",
    "        model_for_this_checkpoint = HookedTransformer.from_pretrained(model_name, checkpoint_index=index, device=\"cpu\")\n",
    "\n",
    "        tokens_seen_for_this_checkpoint = model_for_this_checkpoint.cfg.checkpoint_value\n",
    "        tokens_trained_on.append(tokens_seen_for_this_checkpoint)\n",
    "\n",
    "        temp_ov, temp_qk = effective_rank(model_for_this_checkpoint)\n",
    "\n",
    "        effective_dimension_ov.append(temp_ov)\n",
    "        effective_dimension_qk.append(temp_qk)\n",
    "\n",
    "        del temp_ov, temp_qk, model_for_this_checkpoint\n",
    "        torch.cuda.empty_cache()\n",
    "        gc.collect()\n",
    "\n",
    "    model_to_tokens_trained_on[model_name] = tokens_trained_on\n",
    "    model_to_effective_dimension_ov[model_name] = effective_dimension_ov\n",
    "    model_to_effective_dimension_qk[model_name] = effective_dimension_qk\n",
    "\n",
    "    del tokens_trained_on, effective_dimension_ov, effective_dimension_qk\n",
    "    torch.cuda.empty_cache()\n",
    "    gc.collect()\n"
   ]
  },
  {
   "cell_type": "code",
   "execution_count": null,
   "metadata": {},
   "outputs": [],
   "source": [
    "# torch.save(model_logits, 'attn+stan_model_logits.pth')"
   ]
  },
  {
   "cell_type": "code",
   "execution_count": 40,
   "metadata": {},
   "outputs": [
    {
     "data": {
      "text/html": [
       "<div>                            <div id=\"a00cd627-d160-45d9-9a49-2810047b07c4\" class=\"plotly-graph-div\" style=\"height:525px; width:100%;\"></div>            <script type=\"text/javascript\">                require([\"plotly\"], function(Plotly) {                    window.PLOTLYENV=window.PLOTLYENV || {};                                    if (document.getElementById(\"a00cd627-d160-45d9-9a49-2810047b07c4\")) {                    Plotly.newPlot(                        \"a00cd627-d160-45d9-9a49-2810047b07c4\",                        [{\"line\":{\"color\":\"#1f77b4\"},\"marker\":{\"color\":\"#1f77b4\"},\"mode\":\"lines+markers\",\"name\":\"attn-only-1l\",\"x\":[0.01,0.021664299641335483,0.032496449462003224,0.04212502708037455,0.05175360469874588,0.07221433213778494,0.09267505957682401,0.20340370218809425,0.35505379967744266,0.5572539296632405,0.8605541246419373,1.617601039886383,3.436198637556267,5.455792793009652,8.28418746840623,18.18356883229425,39.39532532556628,66.66706785740077,100.0],\"y\":[1.0,0.9999880790710449,0.9999715089797974,0.9999457001686096,0.9998899698257446,0.9994214177131653,0.997734010219574,0.9477192759513855,0.9150165319442749,0.8660123944282532,0.8412231206893921,0.8898962736129761,0.9419567584991455,0.957494854927063,0.9642118811607361,0.9691274166107178,0.9695706367492676,0.9677379131317139,0.9644904136657715],\"type\":\"scatter\"},{\"fill\":\"toself\",\"fillcolor\":\"rgba(31, 119, 180, 0.1)\",\"line\":{\"color\":\"rgba(255,255,255,0)\"},\"name\":\"attn-only-1l - Variance\",\"showlegend\":false,\"x\":[0.01,0.021664299641335483,0.032496449462003224,0.04212502708037455,0.05175360469874588,0.07221433213778494,0.09267505957682401,0.20340370218809425,0.35505379967744266,0.5572539296632405,0.8605541246419373,1.617601039886383,3.436198637556267,5.455792793009652,8.28418746840623,18.18356883229425,39.39532532556628,66.66706785740077,100.0,100.0,66.66706785740077,39.39532532556628,18.18356883229425,8.28418746840623,5.455792793009652,3.436198637556267,1.617601039886383,0.8605541246419373,0.5572539296632405,0.35505379967744266,0.20340370218809425,0.09267505957682401,0.07221433213778494,0.05175360469874588,0.04212502708037455,0.032496449462003224,0.021664299641335483,0.01],\"y\":[1.0,0.9999880790710449,0.9999715089797974,0.9999457001686096,0.9998899698257446,0.9994214177131653,0.997734010219574,0.9477192759513855,0.9150165319442749,0.8660123944282532,0.8412231206893921,0.8898962736129761,0.9419567584991455,0.957494854927063,0.9642118811607361,0.9691274166107178,0.9695706367492676,0.9677379131317139,0.9644904136657715,0.9644904136657715,0.9677379131317139,0.9695706367492676,0.9691274166107178,0.9642118811607361,0.957494854927063,0.9419567584991455,0.8898962736129761,0.8412231206893921,0.8660123944282532,0.9150165319442749,0.9477192759513855,0.997734010219574,0.9994214177131653,0.9998899698257446,0.9999457001686096,0.9999715089797974,0.9999880790710449,1.0],\"type\":\"scatter\"},{\"line\":{\"color\":\"#ff7f0e\"},\"marker\":{\"color\":\"#ff7f0e\"},\"mode\":\"lines+markers\",\"name\":\"attn-only-2l\",\"x\":[0.01,0.021664299641335483,0.032496449462003224,0.04212502708037455,0.05175360469874588,0.07221433213778494,0.09267505957682401,0.20340370218809425,0.35505379967744266,0.5572539296632405,0.8605541246419373,1.617601039886383,3.436198637556267,5.455792793009652,8.28418746840623,18.18356883229425,39.39532532556628,66.66706785740077,100.0],\"y\":[1.0,0.9999991655349731,0.9999923706054688,0.9999755620956421,0.9999397397041321,0.9997460842132568,0.9991230964660645,0.953225314617157,0.9222363233566284,0.8898524045944214,0.8482671976089478,0.7883859872817993,0.8159729242324829,0.8525888919830322,0.8766363859176636,0.901188313961029,0.9075740575790405,0.9018704295158386,0.8901336193084717],\"type\":\"scatter\"},{\"fill\":\"toself\",\"fillcolor\":\"rgba(255, 127, 14, 0.1)\",\"line\":{\"color\":\"rgba(255,255,255,0)\"},\"name\":\"attn-only-2l - Variance\",\"showlegend\":false,\"x\":[0.01,0.021664299641335483,0.032496449462003224,0.04212502708037455,0.05175360469874588,0.07221433213778494,0.09267505957682401,0.20340370218809425,0.35505379967744266,0.5572539296632405,0.8605541246419373,1.617601039886383,3.436198637556267,5.455792793009652,8.28418746840623,18.18356883229425,39.39532532556628,66.66706785740077,100.0,100.0,66.66706785740077,39.39532532556628,18.18356883229425,8.28418746840623,5.455792793009652,3.436198637556267,1.617601039886383,0.8605541246419373,0.5572539296632405,0.35505379967744266,0.20340370218809425,0.09267505957682401,0.07221433213778494,0.05175360469874588,0.04212502708037455,0.032496449462003224,0.021664299641335483,0.01],\"y\":[1.0,0.999998927116394,0.9999919533729553,0.999972939491272,0.9999321699142456,0.9997004270553589,0.998881995677948,0.9407094717025757,0.9113954305648804,0.8870360255241394,0.832180917263031,0.7480238676071167,0.8035199046134949,0.8238410949707031,0.8455450534820557,0.874667763710022,0.8841211795806885,0.8779871463775635,0.8652384281158447,0.9150288105010986,0.9257537126541138,0.9310269355773926,0.9277088642120361,0.9077277183532715,0.8813366889953613,0.828425943851471,0.8287481069564819,0.8643534779548645,0.8926687836647034,0.9330772161483765,0.9657411575317383,0.9993641972541809,0.9997917413711548,0.9999473094940186,0.9999781847000122,0.9999927878379822,0.9999994039535522,1.0],\"type\":\"scatter\"},{\"line\":{\"color\":\"#2ca02c\"},\"marker\":{\"color\":\"#2ca02c\"},\"mode\":\"lines+markers\",\"name\":\"attn-only-3l\",\"x\":[0.01,0.021664299641335483,0.032496449462003224,0.04212502708037455,0.05175360469874588,0.07221433213778494,0.09267505957682401,0.20340370218809425,0.35505379967744266,0.5572539296632405,0.8605541246419373,1.617601039886383,3.436198637556267,5.455792793009652,8.28418746840623,18.18356883229425,39.39532532556628,66.66706785740077,100.0],\"y\":[1.0,0.9999973177909851,0.9999871253967285,0.999967098236084,0.9999381899833679,0.9998264908790588,0.9994189143180847,0.9642719626426697,0.9322364926338196,0.8928197026252747,0.8423307538032532,0.7881653904914856,0.8068394660949707,0.8219199180603027,0.8454716801643372,0.8789205551147461,0.8721771836280823,0.862743616104126,0.8597893714904785],\"type\":\"scatter\"},{\"fill\":\"toself\",\"fillcolor\":\"rgba(44, 160, 44, 0.1)\",\"line\":{\"color\":\"rgba(255,255,255,0)\"},\"name\":\"attn-only-3l - Variance\",\"showlegend\":false,\"x\":[0.01,0.021664299641335483,0.032496449462003224,0.04212502708037455,0.05175360469874588,0.07221433213778494,0.09267505957682401,0.20340370218809425,0.35505379967744266,0.5572539296632405,0.8605541246419373,1.617601039886383,3.436198637556267,5.455792793009652,8.28418746840623,18.18356883229425,39.39532532556628,66.66706785740077,100.0,100.0,66.66706785740077,39.39532532556628,18.18356883229425,8.28418746840623,5.455792793009652,3.436198637556267,1.617601039886383,0.8605541246419373,0.5572539296632405,0.35505379967744266,0.20340370218809425,0.09267505957682401,0.07221433213778494,0.05175360469874588,0.04212502708037455,0.032496449462003224,0.021664299641335483,0.01],\"y\":[1.0,0.999994695186615,0.9999831914901733,0.9999641180038452,0.9999332427978516,0.9997979998588562,0.9992240071296692,0.9553802013397217,0.9216797947883606,0.8889680504798889,0.8319455981254578,0.7582674622535706,0.7741778492927551,0.7791749835014343,0.8000509738922119,0.8337660431861877,0.8208336234092712,0.8096293807029724,0.8087570667266846,0.9108216762542725,0.9158578515052795,0.9235207438468933,0.9240750670433044,0.8908923864364624,0.8646648526191711,0.8395010828971863,0.8180633187294006,0.8527159094810486,0.8966713547706604,0.9427931904792786,0.9731637239456177,0.9996138215065002,0.9998549818992615,0.9999431371688843,0.9999700784683228,0.9999910593032837,0.9999999403953552,1.0],\"type\":\"scatter\"},{\"line\":{\"color\":\"#d62728\"},\"marker\":{\"color\":\"#d62728\"},\"mode\":\"lines+markers\",\"name\":\"attn-only-4l\",\"x\":[0.01,0.021664299641335483,0.032496449462003224,0.04212502708037455,0.05175360469874588,0.07221433213778494,0.09267505957682401,0.20340370218809425,0.35505379967744266,0.5572539296632405,0.8605541246419373,1.617601039886383,3.436198637556267,5.455792793009652,8.28418746840623,18.18356883229425,39.39532532556628,66.66706785740077,100.0],\"y\":[1.0,0.9999962449073792,0.9999886751174927,0.9999749064445496,0.9999548196792603,0.9998769164085388,0.9995899200439453,0.9718088507652283,0.9456548690795898,0.9014132618904114,0.83638596534729,0.7650151252746582,0.7809818983078003,0.8151141405105591,0.8477185964584351,0.8857821226119995,0.8980453610420227,0.8987665772438049,0.895395040512085],\"type\":\"scatter\"},{\"fill\":\"toself\",\"fillcolor\":\"rgba(214, 39, 40, 0.1)\",\"line\":{\"color\":\"rgba(255,255,255,0)\"},\"name\":\"attn-only-4l - Variance\",\"showlegend\":false,\"x\":[0.01,0.021664299641335483,0.032496449462003224,0.04212502708037455,0.05175360469874588,0.07221433213778494,0.09267505957682401,0.20340370218809425,0.35505379967744266,0.5572539296632405,0.8605541246419373,1.617601039886383,3.436198637556267,5.455792793009652,8.28418746840623,18.18356883229425,39.39532532556628,66.66706785740077,100.0,100.0,66.66706785740077,39.39532532556628,18.18356883229425,8.28418746840623,5.455792793009652,3.436198637556267,1.617601039886383,0.8605541246419373,0.5572539296632405,0.35505379967744266,0.20340370218809425,0.09267505957682401,0.07221433213778494,0.05175360469874588,0.04212502708037455,0.032496449462003224,0.021664299641335483,0.01],\"y\":[1.0,0.999994695186615,0.999985933303833,0.9999708533287048,0.9999483823776245,0.9998534917831421,0.99947589635849,0.9615245461463928,0.9332746267318726,0.8940076231956482,0.8183349370956421,0.726125180721283,0.7344854474067688,0.7686800956726074,0.8052946925163269,0.8496591448783875,0.8617839813232422,0.8574536442756653,0.8523285984992981,0.9384614825248718,0.9400795102119446,0.9343067407608032,0.9219051003456116,0.8901425004005432,0.8615481853485107,0.8274783492088318,0.8039050698280334,0.854436993598938,0.9088189005851746,0.9580351114273071,0.9820931553840637,0.9997039437294006,0.9999003410339355,0.999961256980896,0.9999789595603943,0.9999914169311523,0.9999977946281433,1.0],\"type\":\"scatter\"},{\"line\":{\"color\":\"#9467bd\"},\"marker\":{\"color\":\"#9467bd\"},\"mode\":\"lines+markers\",\"name\":\"stanford-gpt2-small-a\",\"x\":[0.01,0.0075,0.01,0.015,0.02,0.0375,0.08750000000000001,0.1625,0.2625,0.4,0.65,1.125,1.775,2.65,3.85,9.5,31.25,60.5,100.0],\"y\":[1.0,0.999912440776825,0.999749481678009,0.9986187815666199,0.9958069920539856,0.9877035021781921,0.837650716304779,0.6649789214134216,0.5835192203521729,0.5445607900619507,0.5298919677734375,0.5164958834648132,0.5439331531524658,0.5886650085449219,0.6328981518745422,0.7500239014625549,0.8418720364570618,0.8809599876403809,0.88710618019104],\"type\":\"scatter\"},{\"fill\":\"toself\",\"fillcolor\":\"rgba(148, 103, 189, 0.1)\",\"line\":{\"color\":\"rgba(255,255,255,0)\"},\"name\":\"stanford-gpt2-small-a - Variance\",\"showlegend\":false,\"x\":[0.01,0.0075,0.01,0.015,0.02,0.0375,0.08750000000000001,0.1625,0.2625,0.4,0.65,1.125,1.775,2.65,3.85,9.5,31.25,60.5,100.0,100.0,60.5,31.25,9.5,3.85,2.65,1.775,1.125,0.65,0.4,0.2625,0.1625,0.08750000000000001,0.0375,0.02,0.015,0.01,0.0075,0.01],\"y\":[1.0,0.999877393245697,0.9995487332344055,0.9977396130561829,0.9938050508499146,0.9830062389373779,0.7775153517723083,0.5706747770309448,0.4782229959964752,0.43773242831230164,0.43492087721824646,0.4563030004501343,0.47896525263786316,0.5058436989784241,0.5340975522994995,0.6375311017036438,0.7539952993392944,0.8316094875335693,0.853469729423523,0.9207426309585571,0.9303104877471924,0.9297487735748291,0.8625167012214661,0.731698751449585,0.6714863181114197,0.6089010834693909,0.5766887664794922,0.6248630881309509,0.6513891816139221,0.6888154149055481,0.7592830657958984,0.8977860808372498,0.9924007654190063,0.9978089332580566,0.9994979500770569,0.9999502301216125,0.9999474883079529,1.0],\"type\":\"scatter\"},{\"line\":{\"color\":\"#8c564b\"},\"marker\":{\"color\":\"#8c564b\"},\"mode\":\"lines+markers\",\"name\":\"stanford-gpt2-small-c\",\"x\":[0.01,0.0075,0.01,0.015,0.02,0.0375,0.08750000000000001,0.1625,0.2625,0.4,0.65,1.125,1.775,2.65,3.85,9.5,31.25,60.5,100.0],\"y\":[1.0,0.9999149441719055,0.9997747540473938,0.9988362789154053,0.9968882203102112,0.9900040030479431,0.8432967066764832,0.6640212535858154,0.5888027548789978,0.5518341660499573,0.5330941677093506,0.5327227115631104,0.5575811266899109,0.6066027879714966,0.6603952646255493,0.7598616480827332,0.8548708558082581,0.8850733637809753,0.8893224596977234],\"type\":\"scatter\"},{\"fill\":\"toself\",\"fillcolor\":\"rgba(140, 86, 75, 0.1)\",\"line\":{\"color\":\"rgba(255,255,255,0)\"},\"name\":\"stanford-gpt2-small-c - Variance\",\"showlegend\":false,\"x\":[0.01,0.0075,0.01,0.015,0.02,0.0375,0.08750000000000001,0.1625,0.2625,0.4,0.65,1.125,1.775,2.65,3.85,9.5,31.25,60.5,100.0,100.0,60.5,31.25,9.5,3.85,2.65,1.775,1.125,0.65,0.4,0.2625,0.1625,0.08750000000000001,0.0375,0.02,0.015,0.01,0.0075,0.01],\"y\":[1.0,0.9998843669891357,0.9996367692947388,0.9981839060783386,0.9955300688743591,0.9856895804405212,0.7856390476226807,0.5641918182373047,0.4834623336791992,0.4447093904018402,0.4367736577987671,0.4644831418991089,0.49194860458374023,0.523646354675293,0.5637751817703247,0.6543623208999634,0.7842060327529907,0.8424723744392395,0.8578998446464539,0.9207450747489929,0.9276743531227112,0.9255356788635254,0.8653609752655029,0.7570153474807739,0.6895592212677002,0.6232136487960815,0.6009622812271118,0.6294146776199341,0.6589589715003967,0.6941431760787964,0.7638506889343262,0.9009543657302856,0.994318425655365,0.9982463717460632,0.9994886517524719,0.9999127388000488,0.9999455213546753,1.0],\"type\":\"scatter\"},{\"line\":{\"color\":\"#e377c2\"},\"marker\":{\"color\":\"#e377c2\"},\"mode\":\"lines+markers\",\"name\":\"stanford-gpt2-small-d\",\"x\":[0.01,0.0075,0.01,0.015,0.02,0.0375,0.08750000000000001,0.1625,0.2625,0.4,0.65,1.125,1.775,2.65,3.85,9.5,31.25,60.5,100.0],\"y\":[1.0,0.9999394416809082,0.9997913241386414,0.9990785717964172,0.997891902923584,0.9920246005058289,0.8481438159942627,0.6379814147949219,0.5701332092285156,0.5399801135063171,0.5285964608192444,0.5353215336799622,0.5408173203468323,0.5845166444778442,0.6419891715049744,0.754229724407196,0.8484711050987244,0.8779197335243225,0.8825337886810303],\"type\":\"scatter\"},{\"fill\":\"toself\",\"fillcolor\":\"rgba(227, 119, 194, 0.1)\",\"line\":{\"color\":\"rgba(255,255,255,0)\"},\"name\":\"stanford-gpt2-small-d - Variance\",\"showlegend\":false,\"x\":[0.01,0.0075,0.01,0.015,0.02,0.0375,0.08750000000000001,0.1625,0.2625,0.4,0.65,1.125,1.775,2.65,3.85,9.5,31.25,60.5,100.0,100.0,60.5,31.25,9.5,3.85,2.65,1.775,1.125,0.65,0.4,0.2625,0.1625,0.08750000000000001,0.0375,0.02,0.015,0.01,0.0075,0.01],\"y\":[1.0,0.9999193549156189,0.9996510744094849,0.9984787702560425,0.9966597557067871,0.988350510597229,0.7992258071899414,0.5367313623428345,0.46328094601631165,0.4346989691257477,0.4368082880973816,0.4726000428199768,0.4808594584465027,0.5087704062461853,0.5519927740097046,0.6508320569992065,0.7785630226135254,0.8331254720687866,0.8481163382530212,0.9169512391090393,0.9227139949798584,0.9183791875839233,0.8576273918151855,0.7319855690002441,0.6602628827095032,0.6007751822471619,0.5980430245399475,0.6203846335411072,0.645261287689209,0.6769854426383972,0.7392314672470093,0.897061824798584,0.9956986904144287,0.9991240501403809,0.999678373336792,0.9999315738677979,0.9999595284461975,1.0],\"type\":\"scatter\"},{\"line\":{\"color\":\"#7f7f7f\"},\"marker\":{\"color\":\"#7f7f7f\"},\"mode\":\"lines+markers\",\"name\":\"stanford-gpt2-medium-c\",\"x\":[0.01,0.0075,0.01,0.015,0.02,0.0375,0.08750000000000001,0.1625,0.2625,0.4,0.65,1.125,1.775,2.65,3.85,9.5,31.25,60.5,100.0],\"y\":[1.0,0.9999974370002747,0.9999942183494568,0.9999811053276062,0.9999451637268066,0.9992246627807617,0.9921525120735168,0.902980387210846,0.8214626312255859,0.7413630485534668,0.6183384656906128,0.5111851692199707,0.4735419750213623,0.4582330286502838,0.4532287120819092,0.48524272441864014,0.6223531365394592,0.6939106583595276,0.7142189145088196],\"type\":\"scatter\"},{\"fill\":\"toself\",\"fillcolor\":\"rgba(127, 127, 127, 0.1)\",\"line\":{\"color\":\"rgba(255,255,255,0)\"},\"name\":\"stanford-gpt2-medium-c - Variance\",\"showlegend\":false,\"x\":[0.01,0.0075,0.01,0.015,0.02,0.0375,0.08750000000000001,0.1625,0.2625,0.4,0.65,1.125,1.775,2.65,3.85,9.5,31.25,60.5,100.0,100.0,60.5,31.25,9.5,3.85,2.65,1.775,1.125,0.65,0.4,0.2625,0.1625,0.08750000000000001,0.0375,0.02,0.015,0.01,0.0075,0.01],\"y\":[1.0,0.9999952912330627,0.9999886751174927,0.9999659061431885,0.9999193549156189,0.9988880157470703,0.9890590906143188,0.8591493368148804,0.7563132047653198,0.669926643371582,0.5353367924690247,0.4072028398513794,0.3648917078971863,0.3545980453491211,0.35920172929763794,0.40741264820098877,0.5365039110183716,0.6093452572822571,0.6287773251533508,0.7996605038642883,0.7784760594367981,0.7082023620605469,0.5630728006362915,0.5472556948661804,0.5618680119514465,0.5821922421455383,0.615167498588562,0.7013401389122009,0.8127994537353516,0.886612057685852,0.9468114376068115,0.9952459335327148,0.9995613098144531,0.9999709725379944,0.9999963045120239,0.9999997615814209,0.9999995827674866,1.0],\"type\":\"scatter\"},{\"line\":{\"color\":\"#bcbd22\"},\"marker\":{\"color\":\"#bcbd22\"},\"mode\":\"lines+markers\",\"name\":\"stanford-gpt2-medium-d\",\"x\":[0.01,0.0075,0.01,0.015,0.02,0.0375,0.08750000000000001,0.1625,0.2625,0.4,0.65,1.125,1.775,2.65,3.85,9.5,31.25,60.5,100.0],\"y\":[1.0,0.9999983906745911,0.9999949336051941,0.9999790191650391,0.9999184608459473,0.9990466237068176,0.9922190308570862,0.9095373153686523,0.8267657160758972,0.7383505702018738,0.624332845211029,0.5307028293609619,0.47691869735717773,0.44691553711891174,0.4358753263950348,0.46139320731163025,0.6089200973510742,0.6781327724456787,0.6989827156066895],\"type\":\"scatter\"},{\"fill\":\"toself\",\"fillcolor\":\"rgba(188, 189, 34, 0.1)\",\"line\":{\"color\":\"rgba(255,255,255,0)\"},\"name\":\"stanford-gpt2-medium-d - Variance\",\"showlegend\":false,\"x\":[0.01,0.0075,0.01,0.015,0.02,0.0375,0.08750000000000001,0.1625,0.2625,0.4,0.65,1.125,1.775,2.65,3.85,9.5,31.25,60.5,100.0,100.0,60.5,31.25,9.5,3.85,2.65,1.775,1.125,0.65,0.4,0.2625,0.1625,0.08750000000000001,0.0375,0.02,0.015,0.01,0.0075,0.01],\"y\":[1.0,0.9999968409538269,0.999989926815033,0.9999651908874512,0.9998899698257446,0.9986569881439209,0.9899749755859375,0.8663873672485352,0.7639814615249634,0.6679239273071289,0.538522481918335,0.4304148852825165,0.36921146512031555,0.3423120081424713,0.34082478284835815,0.3818628787994385,0.5166510343551636,0.5851659178733826,0.6063319444656372,0.7916334867477417,0.7710996270179749,0.7011891603469849,0.540923535823822,0.5309258699417114,0.5515190958976746,0.5846258997917175,0.630990743637085,0.7101432085037231,0.8087772130966187,0.889549970626831,0.9526872634887695,0.9944630861282349,0.9994362592697144,0.9999469518661499,0.999992847442627,0.9999999403953552,0.9999999403953552,1.0],\"type\":\"scatter\"}],                        {\"template\":{\"data\":{\"histogram2dcontour\":[{\"type\":\"histogram2dcontour\",\"colorbar\":{\"outlinewidth\":0,\"ticks\":\"\"},\"colorscale\":[[0.0,\"#0d0887\"],[0.1111111111111111,\"#46039f\"],[0.2222222222222222,\"#7201a8\"],[0.3333333333333333,\"#9c179e\"],[0.4444444444444444,\"#bd3786\"],[0.5555555555555556,\"#d8576b\"],[0.6666666666666666,\"#ed7953\"],[0.7777777777777778,\"#fb9f3a\"],[0.8888888888888888,\"#fdca26\"],[1.0,\"#f0f921\"]]}],\"choropleth\":[{\"type\":\"choropleth\",\"colorbar\":{\"outlinewidth\":0,\"ticks\":\"\"}}],\"histogram2d\":[{\"type\":\"histogram2d\",\"colorbar\":{\"outlinewidth\":0,\"ticks\":\"\"},\"colorscale\":[[0.0,\"#0d0887\"],[0.1111111111111111,\"#46039f\"],[0.2222222222222222,\"#7201a8\"],[0.3333333333333333,\"#9c179e\"],[0.4444444444444444,\"#bd3786\"],[0.5555555555555556,\"#d8576b\"],[0.6666666666666666,\"#ed7953\"],[0.7777777777777778,\"#fb9f3a\"],[0.8888888888888888,\"#fdca26\"],[1.0,\"#f0f921\"]]}],\"heatmap\":[{\"type\":\"heatmap\",\"colorbar\":{\"outlinewidth\":0,\"ticks\":\"\"},\"colorscale\":[[0.0,\"#0d0887\"],[0.1111111111111111,\"#46039f\"],[0.2222222222222222,\"#7201a8\"],[0.3333333333333333,\"#9c179e\"],[0.4444444444444444,\"#bd3786\"],[0.5555555555555556,\"#d8576b\"],[0.6666666666666666,\"#ed7953\"],[0.7777777777777778,\"#fb9f3a\"],[0.8888888888888888,\"#fdca26\"],[1.0,\"#f0f921\"]]}],\"heatmapgl\":[{\"type\":\"heatmapgl\",\"colorbar\":{\"outlinewidth\":0,\"ticks\":\"\"},\"colorscale\":[[0.0,\"#0d0887\"],[0.1111111111111111,\"#46039f\"],[0.2222222222222222,\"#7201a8\"],[0.3333333333333333,\"#9c179e\"],[0.4444444444444444,\"#bd3786\"],[0.5555555555555556,\"#d8576b\"],[0.6666666666666666,\"#ed7953\"],[0.7777777777777778,\"#fb9f3a\"],[0.8888888888888888,\"#fdca26\"],[1.0,\"#f0f921\"]]}],\"contourcarpet\":[{\"type\":\"contourcarpet\",\"colorbar\":{\"outlinewidth\":0,\"ticks\":\"\"}}],\"contour\":[{\"type\":\"contour\",\"colorbar\":{\"outlinewidth\":0,\"ticks\":\"\"},\"colorscale\":[[0.0,\"#0d0887\"],[0.1111111111111111,\"#46039f\"],[0.2222222222222222,\"#7201a8\"],[0.3333333333333333,\"#9c179e\"],[0.4444444444444444,\"#bd3786\"],[0.5555555555555556,\"#d8576b\"],[0.6666666666666666,\"#ed7953\"],[0.7777777777777778,\"#fb9f3a\"],[0.8888888888888888,\"#fdca26\"],[1.0,\"#f0f921\"]]}],\"surface\":[{\"type\":\"surface\",\"colorbar\":{\"outlinewidth\":0,\"ticks\":\"\"},\"colorscale\":[[0.0,\"#0d0887\"],[0.1111111111111111,\"#46039f\"],[0.2222222222222222,\"#7201a8\"],[0.3333333333333333,\"#9c179e\"],[0.4444444444444444,\"#bd3786\"],[0.5555555555555556,\"#d8576b\"],[0.6666666666666666,\"#ed7953\"],[0.7777777777777778,\"#fb9f3a\"],[0.8888888888888888,\"#fdca26\"],[1.0,\"#f0f921\"]]}],\"mesh3d\":[{\"type\":\"mesh3d\",\"colorbar\":{\"outlinewidth\":0,\"ticks\":\"\"}}],\"scatter\":[{\"fillpattern\":{\"fillmode\":\"overlay\",\"size\":10,\"solidity\":0.2},\"type\":\"scatter\"}],\"parcoords\":[{\"type\":\"parcoords\",\"line\":{\"colorbar\":{\"outlinewidth\":0,\"ticks\":\"\"}}}],\"scatterpolargl\":[{\"type\":\"scatterpolargl\",\"marker\":{\"colorbar\":{\"outlinewidth\":0,\"ticks\":\"\"}}}],\"bar\":[{\"error_x\":{\"color\":\"#2a3f5f\"},\"error_y\":{\"color\":\"#2a3f5f\"},\"marker\":{\"line\":{\"color\":\"#E5ECF6\",\"width\":0.5},\"pattern\":{\"fillmode\":\"overlay\",\"size\":10,\"solidity\":0.2}},\"type\":\"bar\"}],\"scattergeo\":[{\"type\":\"scattergeo\",\"marker\":{\"colorbar\":{\"outlinewidth\":0,\"ticks\":\"\"}}}],\"scatterpolar\":[{\"type\":\"scatterpolar\",\"marker\":{\"colorbar\":{\"outlinewidth\":0,\"ticks\":\"\"}}}],\"histogram\":[{\"marker\":{\"pattern\":{\"fillmode\":\"overlay\",\"size\":10,\"solidity\":0.2}},\"type\":\"histogram\"}],\"scattergl\":[{\"type\":\"scattergl\",\"marker\":{\"colorbar\":{\"outlinewidth\":0,\"ticks\":\"\"}}}],\"scatter3d\":[{\"type\":\"scatter3d\",\"line\":{\"colorbar\":{\"outlinewidth\":0,\"ticks\":\"\"}},\"marker\":{\"colorbar\":{\"outlinewidth\":0,\"ticks\":\"\"}}}],\"scattermapbox\":[{\"type\":\"scattermapbox\",\"marker\":{\"colorbar\":{\"outlinewidth\":0,\"ticks\":\"\"}}}],\"scatterternary\":[{\"type\":\"scatterternary\",\"marker\":{\"colorbar\":{\"outlinewidth\":0,\"ticks\":\"\"}}}],\"scattercarpet\":[{\"type\":\"scattercarpet\",\"marker\":{\"colorbar\":{\"outlinewidth\":0,\"ticks\":\"\"}}}],\"carpet\":[{\"aaxis\":{\"endlinecolor\":\"#2a3f5f\",\"gridcolor\":\"white\",\"linecolor\":\"white\",\"minorgridcolor\":\"white\",\"startlinecolor\":\"#2a3f5f\"},\"baxis\":{\"endlinecolor\":\"#2a3f5f\",\"gridcolor\":\"white\",\"linecolor\":\"white\",\"minorgridcolor\":\"white\",\"startlinecolor\":\"#2a3f5f\"},\"type\":\"carpet\"}],\"table\":[{\"cells\":{\"fill\":{\"color\":\"#EBF0F8\"},\"line\":{\"color\":\"white\"}},\"header\":{\"fill\":{\"color\":\"#C8D4E3\"},\"line\":{\"color\":\"white\"}},\"type\":\"table\"}],\"barpolar\":[{\"marker\":{\"line\":{\"color\":\"#E5ECF6\",\"width\":0.5},\"pattern\":{\"fillmode\":\"overlay\",\"size\":10,\"solidity\":0.2}},\"type\":\"barpolar\"}],\"pie\":[{\"automargin\":true,\"type\":\"pie\"}]},\"layout\":{\"autotypenumbers\":\"strict\",\"colorway\":[\"#636efa\",\"#EF553B\",\"#00cc96\",\"#ab63fa\",\"#FFA15A\",\"#19d3f3\",\"#FF6692\",\"#B6E880\",\"#FF97FF\",\"#FECB52\"],\"font\":{\"color\":\"#2a3f5f\"},\"hovermode\":\"closest\",\"hoverlabel\":{\"align\":\"left\"},\"paper_bgcolor\":\"white\",\"plot_bgcolor\":\"#E5ECF6\",\"polar\":{\"bgcolor\":\"#E5ECF6\",\"angularaxis\":{\"gridcolor\":\"white\",\"linecolor\":\"white\",\"ticks\":\"\"},\"radialaxis\":{\"gridcolor\":\"white\",\"linecolor\":\"white\",\"ticks\":\"\"}},\"ternary\":{\"bgcolor\":\"#E5ECF6\",\"aaxis\":{\"gridcolor\":\"white\",\"linecolor\":\"white\",\"ticks\":\"\"},\"baxis\":{\"gridcolor\":\"white\",\"linecolor\":\"white\",\"ticks\":\"\"},\"caxis\":{\"gridcolor\":\"white\",\"linecolor\":\"white\",\"ticks\":\"\"}},\"coloraxis\":{\"colorbar\":{\"outlinewidth\":0,\"ticks\":\"\"}},\"colorscale\":{\"sequential\":[[0.0,\"#0d0887\"],[0.1111111111111111,\"#46039f\"],[0.2222222222222222,\"#7201a8\"],[0.3333333333333333,\"#9c179e\"],[0.4444444444444444,\"#bd3786\"],[0.5555555555555556,\"#d8576b\"],[0.6666666666666666,\"#ed7953\"],[0.7777777777777778,\"#fb9f3a\"],[0.8888888888888888,\"#fdca26\"],[1.0,\"#f0f921\"]],\"sequentialminus\":[[0.0,\"#0d0887\"],[0.1111111111111111,\"#46039f\"],[0.2222222222222222,\"#7201a8\"],[0.3333333333333333,\"#9c179e\"],[0.4444444444444444,\"#bd3786\"],[0.5555555555555556,\"#d8576b\"],[0.6666666666666666,\"#ed7953\"],[0.7777777777777778,\"#fb9f3a\"],[0.8888888888888888,\"#fdca26\"],[1.0,\"#f0f921\"]],\"diverging\":[[0,\"#8e0152\"],[0.1,\"#c51b7d\"],[0.2,\"#de77ae\"],[0.3,\"#f1b6da\"],[0.4,\"#fde0ef\"],[0.5,\"#f7f7f7\"],[0.6,\"#e6f5d0\"],[0.7,\"#b8e186\"],[0.8,\"#7fbc41\"],[0.9,\"#4d9221\"],[1,\"#276419\"]]},\"xaxis\":{\"gridcolor\":\"white\",\"linecolor\":\"white\",\"ticks\":\"\",\"title\":{\"standoff\":15},\"zerolinecolor\":\"white\",\"automargin\":true,\"zerolinewidth\":2},\"yaxis\":{\"gridcolor\":\"white\",\"linecolor\":\"white\",\"ticks\":\"\",\"title\":{\"standoff\":15},\"zerolinecolor\":\"white\",\"automargin\":true,\"zerolinewidth\":2},\"scene\":{\"xaxis\":{\"backgroundcolor\":\"#E5ECF6\",\"gridcolor\":\"white\",\"linecolor\":\"white\",\"showbackground\":true,\"ticks\":\"\",\"zerolinecolor\":\"white\",\"gridwidth\":2},\"yaxis\":{\"backgroundcolor\":\"#E5ECF6\",\"gridcolor\":\"white\",\"linecolor\":\"white\",\"showbackground\":true,\"ticks\":\"\",\"zerolinecolor\":\"white\",\"gridwidth\":2},\"zaxis\":{\"backgroundcolor\":\"#E5ECF6\",\"gridcolor\":\"white\",\"linecolor\":\"white\",\"showbackground\":true,\"ticks\":\"\",\"zerolinecolor\":\"white\",\"gridwidth\":2}},\"shapedefaults\":{\"line\":{\"color\":\"#2a3f5f\"}},\"annotationdefaults\":{\"arrowcolor\":\"#2a3f5f\",\"arrowhead\":0,\"arrowwidth\":1},\"geo\":{\"bgcolor\":\"white\",\"landcolor\":\"#E5ECF6\",\"subunitcolor\":\"white\",\"showland\":true,\"showlakes\":true,\"lakecolor\":\"white\"},\"title\":{\"x\":0.05},\"mapbox\":{\"style\":\"light\"}}},\"title\":{\"text\":\"W_QK dim\"},\"shapes\":[{\"fillcolor\":\"gold\",\"line\":{\"width\":1},\"opacity\":0.2,\"type\":\"rect\",\"x0\":0.5,\"x1\":1.5,\"xref\":\"x\",\"y0\":0,\"y1\":1,\"yref\":\"y domain\"}],\"xaxis\":{\"title\":{\"text\":\"% token in training set\"},\"type\":\"log\"},\"yaxis\":{\"title\":{\"text\":\"Effective dimensionality\"},\"type\":\"log\"}},                        {\"toImageButtonOptions\": {\"format\": \"png\", \"filename\": \"custom_image\", \"height\": 500, \"width\": 900, \"scale\": 10}, \"responsive\": true}                    ).then(function(){\n",
       "                            \n",
       "var gd = document.getElementById('a00cd627-d160-45d9-9a49-2810047b07c4');\n",
       "var x = new MutationObserver(function (mutations, observer) {{\n",
       "        var display = window.getComputedStyle(gd).display;\n",
       "        if (!display || display === 'none') {{\n",
       "            console.log([gd, 'removed!']);\n",
       "            Plotly.purge(gd);\n",
       "            observer.disconnect();\n",
       "        }}\n",
       "}});\n",
       "\n",
       "// Listen for the removal of the full notebook cells\n",
       "var notebookContainer = gd.closest('#notebook-container');\n",
       "if (notebookContainer) {{\n",
       "    x.observe(notebookContainer, {childList: true});\n",
       "}}\n",
       "\n",
       "// Listen for the clearing of the current output cell\n",
       "var outputEl = gd.closest('.output');\n",
       "if (outputEl) {{\n",
       "    x.observe(outputEl, {childList: true});\n",
       "}}\n",
       "\n",
       "                        })                };                });            </script>        </div>"
      ]
     },
     "metadata": {},
     "output_type": "display_data"
    },
    {
     "data": {
      "text/html": [
       "<div>                            <div id=\"a637ad8b-c708-4010-b202-3671d2f4d49e\" class=\"plotly-graph-div\" style=\"height:525px; width:100%;\"></div>            <script type=\"text/javascript\">                require([\"plotly\"], function(Plotly) {                    window.PLOTLYENV=window.PLOTLYENV || {};                                    if (document.getElementById(\"a637ad8b-c708-4010-b202-3671d2f4d49e\")) {                    Plotly.newPlot(                        \"a637ad8b-c708-4010-b202-3671d2f4d49e\",                        [{\"line\":{\"color\":\"#1f77b4\"},\"marker\":{\"color\":\"#1f77b4\"},\"mode\":\"lines+markers\",\"name\":\"attn-only-1l\",\"x\":[0.01,0.021664299641335483,0.032496449462003224,0.04212502708037455,0.05175360469874588,0.07221433213778494,0.09267505957682401,0.20340370218809425,0.35505379967744266,0.5572539296632405,0.8605541246419373,1.617601039886383,3.436198637556267,5.455792793009652,8.28418746840623,18.18356883229425,39.39532532556628,66.66706785740077,100.0],\"y\":[1.0,0.9999977946281433,0.9999963045120239,0.9999856948852539,0.9999358654022217,0.999544620513916,0.9988477230072021,0.995917022228241,0.9954566359519958,0.9982786774635315,1.0047119855880737,1.0085632801055908,1.009458303451538,1.0101526975631714,1.0106241703033447,1.0093656778335571,1.0060040950775146,1.0017250776290894,0.9983094930648804],\"type\":\"scatter\"},{\"fill\":\"toself\",\"fillcolor\":\"rgba(31, 119, 180, 0.1)\",\"line\":{\"color\":\"rgba(255,255,255,0)\"},\"name\":\"attn-only-1l - Variance\",\"showlegend\":false,\"x\":[0.01,0.021664299641335483,0.032496449462003224,0.04212502708037455,0.05175360469874588,0.07221433213778494,0.09267505957682401,0.20340370218809425,0.35505379967744266,0.5572539296632405,0.8605541246419373,1.617601039886383,3.436198637556267,5.455792793009652,8.28418746840623,18.18356883229425,39.39532532556628,66.66706785740077,100.0,100.0,66.66706785740077,39.39532532556628,18.18356883229425,8.28418746840623,5.455792793009652,3.436198637556267,1.617601039886383,0.8605541246419373,0.5572539296632405,0.35505379967744266,0.20340370218809425,0.09267505957682401,0.07221433213778494,0.05175360469874588,0.04212502708037455,0.032496449462003224,0.021664299641335483,0.01],\"y\":[1.0,0.9999977946281433,0.9999963045120239,0.9999856948852539,0.9999358654022217,0.999544620513916,0.9988477230072021,0.995917022228241,0.9954566359519958,0.9982786774635315,1.0047119855880737,1.0085632801055908,1.009458303451538,1.0101526975631714,1.0106241703033447,1.0093656778335571,1.0060040950775146,1.0017250776290894,0.9983094930648804,0.9983094930648804,1.0017250776290894,1.0060040950775146,1.0093656778335571,1.0106241703033447,1.0101526975631714,1.009458303451538,1.0085632801055908,1.0047119855880737,0.9982786774635315,0.9954566359519958,0.995917022228241,0.9988477230072021,0.999544620513916,0.9999358654022217,0.9999856948852539,0.9999963045120239,0.9999977946281433,1.0],\"type\":\"scatter\"},{\"line\":{\"color\":\"#ff7f0e\"},\"marker\":{\"color\":\"#ff7f0e\"},\"mode\":\"lines+markers\",\"name\":\"attn-only-2l\",\"x\":[0.01,0.021664299641335483,0.032496449462003224,0.04212502708037455,0.05175360469874588,0.07221433213778494,0.09267505957682401,0.20340370218809425,0.35505379967744266,0.5572539296632405,0.8605541246419373,1.617601039886383,3.436198637556267,5.455792793009652,8.28418746840623,18.18356883229425,39.39532532556628,66.66706785740077,100.0],\"y\":[1.0,1.000005841255188,1.0000193119049072,1.0000309944152832,1.0000101327896118,0.9998360276222229,0.9996646642684937,0.9973646402359009,0.9941483736038208,0.9934169054031372,0.9940949082374573,0.9905195236206055,0.9742786884307861,0.9729859232902527,0.9723607301712036,0.9727176427841187,0.9723665714263916,0.9693453311920166,0.966615617275238],\"type\":\"scatter\"},{\"fill\":\"toself\",\"fillcolor\":\"rgba(255, 127, 14, 0.1)\",\"line\":{\"color\":\"rgba(255,255,255,0)\"},\"name\":\"attn-only-2l - Variance\",\"showlegend\":false,\"x\":[0.01,0.021664299641335483,0.032496449462003224,0.04212502708037455,0.05175360469874588,0.07221433213778494,0.09267505957682401,0.20340370218809425,0.35505379967744266,0.5572539296632405,0.8605541246419373,1.617601039886383,3.436198637556267,5.455792793009652,8.28418746840623,18.18356883229425,39.39532532556628,66.66706785740077,100.0,100.0,66.66706785740077,39.39532532556628,18.18356883229425,8.28418746840623,5.455792793009652,3.436198637556267,1.617601039886383,0.8605541246419373,0.5572539296632405,0.35505379967744266,0.20340370218809425,0.09267505957682401,0.07221433213778494,0.05175360469874588,0.04212502708037455,0.032496449462003224,0.021664299641335483,0.01],\"y\":[1.0,1.0000035762786865,1.0000115633010864,1.0000123977661133,0.9999769926071167,0.9997882843017578,0.999613881111145,0.9963196516036987,0.9918063282966614,0.9910458326339722,0.9915744662284851,0.98690265417099,0.9601995348930359,0.9561307430267334,0.9541138410568237,0.9543178081512451,0.9552612900733948,0.9521085619926453,0.948472261428833,0.9847589731216431,0.9865821003913879,0.9894718527793884,0.9911174774169922,0.9906076192855835,0.989841103553772,0.9883578419685364,0.994136393070221,0.9966153502464294,0.9957879781723022,0.9964904189109802,0.998409628868103,0.9997154474258423,0.999883770942688,1.000043272972107,1.0000495910644531,1.000027060508728,1.0000081062316895,1.0],\"type\":\"scatter\"},{\"line\":{\"color\":\"#2ca02c\"},\"marker\":{\"color\":\"#2ca02c\"},\"mode\":\"lines+markers\",\"name\":\"attn-only-3l\",\"x\":[0.01,0.021664299641335483,0.032496449462003224,0.04212502708037455,0.05175360469874588,0.07221433213778494,0.09267505957682401,0.20340370218809425,0.35505379967744266,0.5572539296632405,0.8605541246419373,1.617601039886383,3.436198637556267,5.455792793009652,8.28418746840623,18.18356883229425,39.39532532556628,66.66706785740077,100.0],\"y\":[1.0,1.0000059604644775,1.0000174045562744,1.0000206232070923,0.9999998211860657,0.9998742938041687,0.9997549057006836,0.9971653819084167,0.99355149269104,0.9900735020637512,0.9845070838928223,0.9709808826446533,0.9579643607139587,0.9515550136566162,0.9507965445518494,0.9578688144683838,0.9597452282905579,0.9602273106575012,0.9604402184486389],\"type\":\"scatter\"},{\"fill\":\"toself\",\"fillcolor\":\"rgba(44, 160, 44, 0.1)\",\"line\":{\"color\":\"rgba(255,255,255,0)\"},\"name\":\"attn-only-3l - Variance\",\"showlegend\":false,\"x\":[0.01,0.021664299641335483,0.032496449462003224,0.04212502708037455,0.05175360469874588,0.07221433213778494,0.09267505957682401,0.20340370218809425,0.35505379967744266,0.5572539296632405,0.8605541246419373,1.617601039886383,3.436198637556267,5.455792793009652,8.28418746840623,18.18356883229425,39.39532532556628,66.66706785740077,100.0,100.0,66.66706785740077,39.39532532556628,18.18356883229425,8.28418746840623,5.455792793009652,3.436198637556267,1.617601039886383,0.8605541246419373,0.5572539296632405,0.35505379967744266,0.20340370218809425,0.09267505957682401,0.07221433213778494,0.05175360469874588,0.04212502708037455,0.032496449462003224,0.021664299641335483,0.01],\"y\":[1.0,1.000005841255188,1.000016689300537,1.0000181198120117,0.9999874830245972,0.9998241662979126,0.9996659159660339,0.9956309795379639,0.9902709722518921,0.9859406352043152,0.9802780151367188,0.9679996967315674,0.9445648789405823,0.9286080002784729,0.9242551326751709,0.9349221587181091,0.9401235580444336,0.9423728585243225,0.9434495568275452,0.9774308800697327,0.9780817627906799,0.9793668985366821,0.9808154702186584,0.9773379564285278,0.9745020270347595,0.9713638424873352,0.9739620685577393,0.9887361526489258,0.9942063689231873,0.996832013130188,0.9986997842788696,0.9998438954353333,0.9999244213104248,1.0000121593475342,1.0000231266021729,1.0000181198120117,1.000006079673767,1.0],\"type\":\"scatter\"},{\"line\":{\"color\":\"#d62728\"},\"marker\":{\"color\":\"#d62728\"},\"mode\":\"lines+markers\",\"name\":\"attn-only-4l\",\"x\":[0.01,0.021664299641335483,0.032496449462003224,0.04212502708037455,0.05175360469874588,0.07221433213778494,0.09267505957682401,0.20340370218809425,0.35505379967744266,0.5572539296632405,0.8605541246419373,1.617601039886383,3.436198637556267,5.455792793009652,8.28418746840623,18.18356883229425,39.39532532556628,66.66706785740077,100.0],\"y\":[1.0,1.000006079673767,1.0000120401382446,0.9999992847442627,0.9999639987945557,0.9998493194580078,0.9997419118881226,0.9973734617233276,0.9940456748008728,0.9884729385375977,0.975638210773468,0.9452491402626038,0.936200737953186,0.9413424134254456,0.9482772350311279,0.9622781276702881,0.9669767022132874,0.9669066071510315,0.9663436412811279],\"type\":\"scatter\"},{\"fill\":\"toself\",\"fillcolor\":\"rgba(214, 39, 40, 0.1)\",\"line\":{\"color\":\"rgba(255,255,255,0)\"},\"name\":\"attn-only-4l - Variance\",\"showlegend\":false,\"x\":[0.01,0.021664299641335483,0.032496449462003224,0.04212502708037455,0.05175360469874588,0.07221433213778494,0.09267505957682401,0.20340370218809425,0.35505379967744266,0.5572539296632405,0.8605541246419373,1.617601039886383,3.436198637556267,5.455792793009652,8.28418746840623,18.18356883229425,39.39532532556628,66.66706785740077,100.0,100.0,66.66706785740077,39.39532532556628,18.18356883229425,8.28418746840623,5.455792793009652,3.436198637556267,1.617601039886383,0.8605541246419373,0.5572539296632405,0.35505379967744266,0.20340370218809425,0.09267505957682401,0.07221433213778494,0.05175360469874588,0.04212502708037455,0.032496449462003224,0.021664299641335483,0.01],\"y\":[1.0,1.0000035762786865,1.0000067949295044,0.9999967217445374,0.9999498724937439,0.9998096823692322,0.9996667504310608,0.9957238435745239,0.990745484828949,0.9844318628311157,0.9706423878669739,0.9379794597625732,0.9206299781799316,0.9207854866981506,0.9275414943695068,0.9465113878250122,0.9535998106002808,0.9532575011253357,0.9522605538368225,0.9804267287254333,0.9805557131767273,0.980353593826294,0.978044867515564,0.969012975692749,0.9618993401527405,0.9517714977264404,0.9525188207626343,0.9806340336799622,0.9925140142440796,0.9973458647727966,0.9990230798721313,0.9998170733451843,0.9998889565467834,0.9999781250953674,1.0000019073486328,1.0000172853469849,1.0000085830688477,1.0],\"type\":\"scatter\"},{\"line\":{\"color\":\"#9467bd\"},\"marker\":{\"color\":\"#9467bd\"},\"mode\":\"lines+markers\",\"name\":\"stanford-gpt2-small-a\",\"x\":[0.01,0.0075,0.01,0.015,0.02,0.0375,0.08750000000000001,0.1625,0.2625,0.4,0.65,1.125,1.775,2.65,3.85,9.5,31.25,60.5,100.0],\"y\":[1.0,0.9966731667518616,0.9943780899047852,0.9921737313270569,0.9912428855895996,0.9846224784851074,0.9145051836967468,0.8782119154930115,0.8788340091705322,0.8857221603393555,0.8918414115905762,0.8469766974449158,0.8919196724891663,0.8990888595581055,0.9078548550605774,0.9431841373443604,0.9706514477729797,0.9808241724967957,0.9876548647880554],\"type\":\"scatter\"},{\"fill\":\"toself\",\"fillcolor\":\"rgba(148, 103, 189, 0.1)\",\"line\":{\"color\":\"rgba(255,255,255,0)\"},\"name\":\"stanford-gpt2-small-a - Variance\",\"showlegend\":false,\"x\":[0.01,0.0075,0.01,0.015,0.02,0.0375,0.08750000000000001,0.1625,0.2625,0.4,0.65,1.125,1.775,2.65,3.85,9.5,31.25,60.5,100.0,100.0,60.5,31.25,9.5,3.85,2.65,1.775,1.125,0.65,0.4,0.2625,0.1625,0.08750000000000001,0.0375,0.02,0.015,0.01,0.0075,0.01],\"y\":[1.0,0.9961709380149841,0.9934040904045105,0.9907774329185486,0.9898144602775574,0.9817163944244385,0.8895102739334106,0.8472238779067993,0.8553512096405029,0.8680392503738403,0.8727105259895325,0.8054519295692444,0.8540934324264526,0.8525108098983765,0.8561742305755615,0.9075450897216797,0.953980565071106,0.9714102149009705,0.9811863899230957,0.9941233396530151,0.9902381300926208,0.9873223304748535,0.978823184967041,0.9595354795455933,0.9456669092178345,0.9297459125518799,0.8885014653205872,0.9109722971916199,0.9034050703048706,0.9023168087005615,0.9091999530792236,0.939500093460083,0.9875285625457764,0.9926713109016418,0.9935700297355652,0.9953520894050598,0.997175395488739,1.0],\"type\":\"scatter\"},{\"line\":{\"color\":\"#8c564b\"},\"marker\":{\"color\":\"#8c564b\"},\"mode\":\"lines+markers\",\"name\":\"stanford-gpt2-small-c\",\"x\":[0.01,0.0075,0.01,0.015,0.02,0.0375,0.08750000000000001,0.1625,0.2625,0.4,0.65,1.125,1.775,2.65,3.85,9.5,31.25,60.5,100.0],\"y\":[1.0,0.9967915415763855,0.9947569370269775,0.9927358031272888,0.9917523860931396,0.9853604435920715,0.9152904152870178,0.8783033490180969,0.8788132667541504,0.8776997923851013,0.8910618424415588,0.8946390748023987,0.8971888422966003,0.9027984142303467,0.9140368103981018,0.9452610611915588,0.9718160629272461,0.9811155200004578,0.9881303906440735],\"type\":\"scatter\"},{\"fill\":\"toself\",\"fillcolor\":\"rgba(140, 86, 75, 0.1)\",\"line\":{\"color\":\"rgba(255,255,255,0)\"},\"name\":\"stanford-gpt2-small-c - Variance\",\"showlegend\":false,\"x\":[0.01,0.0075,0.01,0.015,0.02,0.0375,0.08750000000000001,0.1625,0.2625,0.4,0.65,1.125,1.775,2.65,3.85,9.5,31.25,60.5,100.0,100.0,60.5,31.25,9.5,3.85,2.65,1.775,1.125,0.65,0.4,0.2625,0.1625,0.08750000000000001,0.0375,0.02,0.015,0.01,0.0075,0.01],\"y\":[1.0,0.9962776303291321,0.9938031435012817,0.9913252592086792,0.9902772903442383,0.9830363988876343,0.8896322250366211,0.8472238183021545,0.854342520236969,0.8578366637229919,0.872579038143158,0.8664216995239258,0.8568825721740723,0.8553208708763123,0.8665533065795898,0.9120014309883118,0.955575168132782,0.9707589149475098,0.98113614320755,0.9951246380805969,0.9914721250534058,0.9880569577217102,0.9785206913948059,0.9615203142166138,0.9502759575843811,0.9374951124191284,0.9228564500808716,0.9095446467399597,0.8975629210472107,0.9032840132713318,0.9093828797340393,0.9409486055374146,0.9876844882965088,0.993227481842041,0.9941463470458984,0.9957107305526733,0.9973054528236389,1.0],\"type\":\"scatter\"},{\"line\":{\"color\":\"#e377c2\"},\"marker\":{\"color\":\"#e377c2\"},\"mode\":\"lines+markers\",\"name\":\"stanford-gpt2-small-d\",\"x\":[0.01,0.0075,0.01,0.015,0.02,0.0375,0.08750000000000001,0.1625,0.2625,0.4,0.65,1.125,1.775,2.65,3.85,9.5,31.25,60.5,100.0],\"y\":[1.0,0.9973306059837341,0.994702160358429,0.9923155903816223,0.9914401173591614,0.9857742786407471,0.9252719879150391,0.8746978640556335,0.8775415420532227,0.8873388171195984,0.8945388197898865,0.8986740112304688,0.8842102885246277,0.9006878733634949,0.9138750433921814,0.9463726878166199,0.9690095782279968,0.9806209206581116,0.9885423183441162],\"type\":\"scatter\"},{\"fill\":\"toself\",\"fillcolor\":\"rgba(227, 119, 194, 0.1)\",\"line\":{\"color\":\"rgba(255,255,255,0)\"},\"name\":\"stanford-gpt2-small-d - Variance\",\"showlegend\":false,\"x\":[0.01,0.0075,0.01,0.015,0.02,0.0375,0.08750000000000001,0.1625,0.2625,0.4,0.65,1.125,1.775,2.65,3.85,9.5,31.25,60.5,100.0,100.0,60.5,31.25,9.5,3.85,2.65,1.775,1.125,0.65,0.4,0.2625,0.1625,0.08750000000000001,0.0375,0.02,0.015,0.01,0.0075,0.01],\"y\":[1.0,0.9968838691711426,0.9935826063156128,0.9906815886497498,0.9897988438606262,0.9832031726837158,0.9083498120307922,0.8471900224685669,0.8554053902626038,0.8695403933525085,0.8756640553474426,0.8710814118385315,0.8398079872131348,0.85547935962677,0.8681848049163818,0.9136136770248413,0.9500438570976257,0.9696479439735413,0.9821962118148804,0.994888424873352,0.9915938973426819,0.9879752993583679,0.9791316986083984,0.959565281867981,0.9458963871002197,0.9286125898361206,0.926266610622406,0.9134135842323303,0.9051372408866882,0.8996776938438416,0.9022057056427002,0.9421941637992859,0.9883453845977783,0.9930813908576965,0.9939495921134949,0.9958217144012451,0.9977773427963257,1.0],\"type\":\"scatter\"},{\"line\":{\"color\":\"#7f7f7f\"},\"marker\":{\"color\":\"#7f7f7f\"},\"mode\":\"lines+markers\",\"name\":\"stanford-gpt2-medium-c\",\"x\":[0.01,0.0075,0.01,0.015,0.02,0.0375,0.08750000000000001,0.1625,0.2625,0.4,0.65,1.125,1.775,2.65,3.85,9.5,31.25,60.5,100.0],\"y\":[1.0,0.9998742938041687,0.9997966885566711,0.9996943473815918,0.9996468424797058,0.9994308352470398,0.9949079155921936,0.9768680930137634,0.9664087295532227,0.9619898200035095,0.9569376111030579,0.9505346417427063,0.9478874206542969,0.947321355342865,0.9476134181022644,0.9531477093696594,0.9729177951812744,0.9808637499809265,0.985125720500946],\"type\":\"scatter\"},{\"fill\":\"toself\",\"fillcolor\":\"rgba(127, 127, 127, 0.1)\",\"line\":{\"color\":\"rgba(255,255,255,0)\"},\"name\":\"stanford-gpt2-medium-c - Variance\",\"showlegend\":false,\"x\":[0.01,0.0075,0.01,0.015,0.02,0.0375,0.08750000000000001,0.1625,0.2625,0.4,0.65,1.125,1.775,2.65,3.85,9.5,31.25,60.5,100.0,100.0,60.5,31.25,9.5,3.85,2.65,1.775,1.125,0.65,0.4,0.2625,0.1625,0.08750000000000001,0.0375,0.02,0.015,0.01,0.0075,0.01],\"y\":[1.0,0.999855101108551,0.9997597336769104,0.9996360540390015,0.9995861649513245,0.9993571639060974,0.9932007789611816,0.9662852883338928,0.9526864886283875,0.9492818713188171,0.9470314383506775,0.9435765147209167,0.9410415887832642,0.9397481679916382,0.9389206171035767,0.9409260153770447,0.9628074765205383,0.9735009074211121,0.9791767001152039,0.9910747408866882,0.988226592540741,0.9830281138420105,0.9653694033622742,0.9563062191009521,0.9548945426940918,0.9547332525253296,0.9574927687644958,0.9668437838554382,0.9746977686882019,0.9801309704780579,0.987450897693634,0.9966150522232056,0.9995045065879822,0.9997075200080872,0.9997526407241821,0.9998336434364319,0.9998934864997864,1.0],\"type\":\"scatter\"},{\"line\":{\"color\":\"#bcbd22\"},\"marker\":{\"color\":\"#bcbd22\"},\"mode\":\"lines+markers\",\"name\":\"stanford-gpt2-medium-d\",\"x\":[0.01,0.0075,0.01,0.015,0.02,0.0375,0.08750000000000001,0.1625,0.2625,0.4,0.65,1.125,1.775,2.65,3.85,9.5,31.25,60.5,100.0],\"y\":[1.0,0.9998647570610046,0.9997823238372803,0.9996780753135681,0.9996216893196106,0.9993312954902649,0.994288980960846,0.9766674041748047,0.9674875736236572,0.9625353813171387,0.957526683807373,0.9537834525108337,0.9504857063293457,0.9491167068481445,0.9474143981933594,0.9511032104492188,0.970027506351471,0.9796380996704102,0.9850077629089355],\"type\":\"scatter\"},{\"fill\":\"toself\",\"fillcolor\":\"rgba(188, 189, 34, 0.1)\",\"line\":{\"color\":\"rgba(255,255,255,0)\"},\"name\":\"stanford-gpt2-medium-d - Variance\",\"showlegend\":false,\"x\":[0.01,0.0075,0.01,0.015,0.02,0.0375,0.08750000000000001,0.1625,0.2625,0.4,0.65,1.125,1.775,2.65,3.85,9.5,31.25,60.5,100.0,100.0,60.5,31.25,9.5,3.85,2.65,1.775,1.125,0.65,0.4,0.2625,0.1625,0.08750000000000001,0.0375,0.02,0.015,0.01,0.0075,0.01],\"y\":[1.0,0.9998400211334229,0.9997376799583435,0.9996081590652466,0.9995505213737488,0.9992381930351257,0.9920935034751892,0.9647624492645264,0.9534576535224915,0.9497135281562805,0.9479777812957764,0.9470468163490295,0.9440749287605286,0.941333532333374,0.9377025365829468,0.9378374814987183,0.958284318447113,0.9716612100601196,0.9792742729187012,0.9907412528991699,0.9876149892807007,0.9817706942558289,0.9643689393997192,0.957126259803772,0.956899881362915,0.9568964838981628,0.9605200886726379,0.9670755863189697,0.9753572344779968,0.981517493724823,0.988572359085083,0.9964844584465027,0.999424397945404,0.9996928572654724,0.9997479915618896,0.999826967716217,0.9998894929885864,1.0],\"type\":\"scatter\"}],                        {\"template\":{\"data\":{\"histogram2dcontour\":[{\"type\":\"histogram2dcontour\",\"colorbar\":{\"outlinewidth\":0,\"ticks\":\"\"},\"colorscale\":[[0.0,\"#0d0887\"],[0.1111111111111111,\"#46039f\"],[0.2222222222222222,\"#7201a8\"],[0.3333333333333333,\"#9c179e\"],[0.4444444444444444,\"#bd3786\"],[0.5555555555555556,\"#d8576b\"],[0.6666666666666666,\"#ed7953\"],[0.7777777777777778,\"#fb9f3a\"],[0.8888888888888888,\"#fdca26\"],[1.0,\"#f0f921\"]]}],\"choropleth\":[{\"type\":\"choropleth\",\"colorbar\":{\"outlinewidth\":0,\"ticks\":\"\"}}],\"histogram2d\":[{\"type\":\"histogram2d\",\"colorbar\":{\"outlinewidth\":0,\"ticks\":\"\"},\"colorscale\":[[0.0,\"#0d0887\"],[0.1111111111111111,\"#46039f\"],[0.2222222222222222,\"#7201a8\"],[0.3333333333333333,\"#9c179e\"],[0.4444444444444444,\"#bd3786\"],[0.5555555555555556,\"#d8576b\"],[0.6666666666666666,\"#ed7953\"],[0.7777777777777778,\"#fb9f3a\"],[0.8888888888888888,\"#fdca26\"],[1.0,\"#f0f921\"]]}],\"heatmap\":[{\"type\":\"heatmap\",\"colorbar\":{\"outlinewidth\":0,\"ticks\":\"\"},\"colorscale\":[[0.0,\"#0d0887\"],[0.1111111111111111,\"#46039f\"],[0.2222222222222222,\"#7201a8\"],[0.3333333333333333,\"#9c179e\"],[0.4444444444444444,\"#bd3786\"],[0.5555555555555556,\"#d8576b\"],[0.6666666666666666,\"#ed7953\"],[0.7777777777777778,\"#fb9f3a\"],[0.8888888888888888,\"#fdca26\"],[1.0,\"#f0f921\"]]}],\"heatmapgl\":[{\"type\":\"heatmapgl\",\"colorbar\":{\"outlinewidth\":0,\"ticks\":\"\"},\"colorscale\":[[0.0,\"#0d0887\"],[0.1111111111111111,\"#46039f\"],[0.2222222222222222,\"#7201a8\"],[0.3333333333333333,\"#9c179e\"],[0.4444444444444444,\"#bd3786\"],[0.5555555555555556,\"#d8576b\"],[0.6666666666666666,\"#ed7953\"],[0.7777777777777778,\"#fb9f3a\"],[0.8888888888888888,\"#fdca26\"],[1.0,\"#f0f921\"]]}],\"contourcarpet\":[{\"type\":\"contourcarpet\",\"colorbar\":{\"outlinewidth\":0,\"ticks\":\"\"}}],\"contour\":[{\"type\":\"contour\",\"colorbar\":{\"outlinewidth\":0,\"ticks\":\"\"},\"colorscale\":[[0.0,\"#0d0887\"],[0.1111111111111111,\"#46039f\"],[0.2222222222222222,\"#7201a8\"],[0.3333333333333333,\"#9c179e\"],[0.4444444444444444,\"#bd3786\"],[0.5555555555555556,\"#d8576b\"],[0.6666666666666666,\"#ed7953\"],[0.7777777777777778,\"#fb9f3a\"],[0.8888888888888888,\"#fdca26\"],[1.0,\"#f0f921\"]]}],\"surface\":[{\"type\":\"surface\",\"colorbar\":{\"outlinewidth\":0,\"ticks\":\"\"},\"colorscale\":[[0.0,\"#0d0887\"],[0.1111111111111111,\"#46039f\"],[0.2222222222222222,\"#7201a8\"],[0.3333333333333333,\"#9c179e\"],[0.4444444444444444,\"#bd3786\"],[0.5555555555555556,\"#d8576b\"],[0.6666666666666666,\"#ed7953\"],[0.7777777777777778,\"#fb9f3a\"],[0.8888888888888888,\"#fdca26\"],[1.0,\"#f0f921\"]]}],\"mesh3d\":[{\"type\":\"mesh3d\",\"colorbar\":{\"outlinewidth\":0,\"ticks\":\"\"}}],\"scatter\":[{\"fillpattern\":{\"fillmode\":\"overlay\",\"size\":10,\"solidity\":0.2},\"type\":\"scatter\"}],\"parcoords\":[{\"type\":\"parcoords\",\"line\":{\"colorbar\":{\"outlinewidth\":0,\"ticks\":\"\"}}}],\"scatterpolargl\":[{\"type\":\"scatterpolargl\",\"marker\":{\"colorbar\":{\"outlinewidth\":0,\"ticks\":\"\"}}}],\"bar\":[{\"error_x\":{\"color\":\"#2a3f5f\"},\"error_y\":{\"color\":\"#2a3f5f\"},\"marker\":{\"line\":{\"color\":\"#E5ECF6\",\"width\":0.5},\"pattern\":{\"fillmode\":\"overlay\",\"size\":10,\"solidity\":0.2}},\"type\":\"bar\"}],\"scattergeo\":[{\"type\":\"scattergeo\",\"marker\":{\"colorbar\":{\"outlinewidth\":0,\"ticks\":\"\"}}}],\"scatterpolar\":[{\"type\":\"scatterpolar\",\"marker\":{\"colorbar\":{\"outlinewidth\":0,\"ticks\":\"\"}}}],\"histogram\":[{\"marker\":{\"pattern\":{\"fillmode\":\"overlay\",\"size\":10,\"solidity\":0.2}},\"type\":\"histogram\"}],\"scattergl\":[{\"type\":\"scattergl\",\"marker\":{\"colorbar\":{\"outlinewidth\":0,\"ticks\":\"\"}}}],\"scatter3d\":[{\"type\":\"scatter3d\",\"line\":{\"colorbar\":{\"outlinewidth\":0,\"ticks\":\"\"}},\"marker\":{\"colorbar\":{\"outlinewidth\":0,\"ticks\":\"\"}}}],\"scattermapbox\":[{\"type\":\"scattermapbox\",\"marker\":{\"colorbar\":{\"outlinewidth\":0,\"ticks\":\"\"}}}],\"scatterternary\":[{\"type\":\"scatterternary\",\"marker\":{\"colorbar\":{\"outlinewidth\":0,\"ticks\":\"\"}}}],\"scattercarpet\":[{\"type\":\"scattercarpet\",\"marker\":{\"colorbar\":{\"outlinewidth\":0,\"ticks\":\"\"}}}],\"carpet\":[{\"aaxis\":{\"endlinecolor\":\"#2a3f5f\",\"gridcolor\":\"white\",\"linecolor\":\"white\",\"minorgridcolor\":\"white\",\"startlinecolor\":\"#2a3f5f\"},\"baxis\":{\"endlinecolor\":\"#2a3f5f\",\"gridcolor\":\"white\",\"linecolor\":\"white\",\"minorgridcolor\":\"white\",\"startlinecolor\":\"#2a3f5f\"},\"type\":\"carpet\"}],\"table\":[{\"cells\":{\"fill\":{\"color\":\"#EBF0F8\"},\"line\":{\"color\":\"white\"}},\"header\":{\"fill\":{\"color\":\"#C8D4E3\"},\"line\":{\"color\":\"white\"}},\"type\":\"table\"}],\"barpolar\":[{\"marker\":{\"line\":{\"color\":\"#E5ECF6\",\"width\":0.5},\"pattern\":{\"fillmode\":\"overlay\",\"size\":10,\"solidity\":0.2}},\"type\":\"barpolar\"}],\"pie\":[{\"automargin\":true,\"type\":\"pie\"}]},\"layout\":{\"autotypenumbers\":\"strict\",\"colorway\":[\"#636efa\",\"#EF553B\",\"#00cc96\",\"#ab63fa\",\"#FFA15A\",\"#19d3f3\",\"#FF6692\",\"#B6E880\",\"#FF97FF\",\"#FECB52\"],\"font\":{\"color\":\"#2a3f5f\"},\"hovermode\":\"closest\",\"hoverlabel\":{\"align\":\"left\"},\"paper_bgcolor\":\"white\",\"plot_bgcolor\":\"#E5ECF6\",\"polar\":{\"bgcolor\":\"#E5ECF6\",\"angularaxis\":{\"gridcolor\":\"white\",\"linecolor\":\"white\",\"ticks\":\"\"},\"radialaxis\":{\"gridcolor\":\"white\",\"linecolor\":\"white\",\"ticks\":\"\"}},\"ternary\":{\"bgcolor\":\"#E5ECF6\",\"aaxis\":{\"gridcolor\":\"white\",\"linecolor\":\"white\",\"ticks\":\"\"},\"baxis\":{\"gridcolor\":\"white\",\"linecolor\":\"white\",\"ticks\":\"\"},\"caxis\":{\"gridcolor\":\"white\",\"linecolor\":\"white\",\"ticks\":\"\"}},\"coloraxis\":{\"colorbar\":{\"outlinewidth\":0,\"ticks\":\"\"}},\"colorscale\":{\"sequential\":[[0.0,\"#0d0887\"],[0.1111111111111111,\"#46039f\"],[0.2222222222222222,\"#7201a8\"],[0.3333333333333333,\"#9c179e\"],[0.4444444444444444,\"#bd3786\"],[0.5555555555555556,\"#d8576b\"],[0.6666666666666666,\"#ed7953\"],[0.7777777777777778,\"#fb9f3a\"],[0.8888888888888888,\"#fdca26\"],[1.0,\"#f0f921\"]],\"sequentialminus\":[[0.0,\"#0d0887\"],[0.1111111111111111,\"#46039f\"],[0.2222222222222222,\"#7201a8\"],[0.3333333333333333,\"#9c179e\"],[0.4444444444444444,\"#bd3786\"],[0.5555555555555556,\"#d8576b\"],[0.6666666666666666,\"#ed7953\"],[0.7777777777777778,\"#fb9f3a\"],[0.8888888888888888,\"#fdca26\"],[1.0,\"#f0f921\"]],\"diverging\":[[0,\"#8e0152\"],[0.1,\"#c51b7d\"],[0.2,\"#de77ae\"],[0.3,\"#f1b6da\"],[0.4,\"#fde0ef\"],[0.5,\"#f7f7f7\"],[0.6,\"#e6f5d0\"],[0.7,\"#b8e186\"],[0.8,\"#7fbc41\"],[0.9,\"#4d9221\"],[1,\"#276419\"]]},\"xaxis\":{\"gridcolor\":\"white\",\"linecolor\":\"white\",\"ticks\":\"\",\"title\":{\"standoff\":15},\"zerolinecolor\":\"white\",\"automargin\":true,\"zerolinewidth\":2},\"yaxis\":{\"gridcolor\":\"white\",\"linecolor\":\"white\",\"ticks\":\"\",\"title\":{\"standoff\":15},\"zerolinecolor\":\"white\",\"automargin\":true,\"zerolinewidth\":2},\"scene\":{\"xaxis\":{\"backgroundcolor\":\"#E5ECF6\",\"gridcolor\":\"white\",\"linecolor\":\"white\",\"showbackground\":true,\"ticks\":\"\",\"zerolinecolor\":\"white\",\"gridwidth\":2},\"yaxis\":{\"backgroundcolor\":\"#E5ECF6\",\"gridcolor\":\"white\",\"linecolor\":\"white\",\"showbackground\":true,\"ticks\":\"\",\"zerolinecolor\":\"white\",\"gridwidth\":2},\"zaxis\":{\"backgroundcolor\":\"#E5ECF6\",\"gridcolor\":\"white\",\"linecolor\":\"white\",\"showbackground\":true,\"ticks\":\"\",\"zerolinecolor\":\"white\",\"gridwidth\":2}},\"shapedefaults\":{\"line\":{\"color\":\"#2a3f5f\"}},\"annotationdefaults\":{\"arrowcolor\":\"#2a3f5f\",\"arrowhead\":0,\"arrowwidth\":1},\"geo\":{\"bgcolor\":\"white\",\"landcolor\":\"#E5ECF6\",\"subunitcolor\":\"white\",\"showland\":true,\"showlakes\":true,\"lakecolor\":\"white\"},\"title\":{\"x\":0.05},\"mapbox\":{\"style\":\"light\"}}},\"title\":{\"text\":\"W_OV dim\"},\"shapes\":[{\"fillcolor\":\"gold\",\"line\":{\"width\":1},\"opacity\":0.2,\"type\":\"rect\",\"x0\":0.5,\"x1\":1.5,\"xref\":\"x\",\"y0\":0,\"y1\":1,\"yref\":\"y domain\"}],\"xaxis\":{\"title\":{\"text\":\"% token in training set\"},\"type\":\"log\"},\"yaxis\":{\"title\":{\"text\":\"Effective dimensionality\"},\"type\":\"log\"}},                        {\"toImageButtonOptions\": {\"format\": \"png\", \"filename\": \"custom_image\", \"height\": 500, \"width\": 900, \"scale\": 10}, \"responsive\": true}                    ).then(function(){\n",
       "                            \n",
       "var gd = document.getElementById('a637ad8b-c708-4010-b202-3671d2f4d49e');\n",
       "var x = new MutationObserver(function (mutations, observer) {{\n",
       "        var display = window.getComputedStyle(gd).display;\n",
       "        if (!display || display === 'none') {{\n",
       "            console.log([gd, 'removed!']);\n",
       "            Plotly.purge(gd);\n",
       "            observer.disconnect();\n",
       "        }}\n",
       "}});\n",
       "\n",
       "// Listen for the removal of the full notebook cells\n",
       "var notebookContainer = gd.closest('#notebook-container');\n",
       "if (notebookContainer) {{\n",
       "    x.observe(notebookContainer, {childList: true});\n",
       "}}\n",
       "\n",
       "// Listen for the clearing of the current output cell\n",
       "var outputEl = gd.closest('.output');\n",
       "if (outputEl) {{\n",
       "    x.observe(outputEl, {childList: true});\n",
       "}}\n",
       "\n",
       "                        })                };                });            </script>        </div>"
      ]
     },
     "metadata": {},
     "output_type": "display_data"
    }
   ],
   "source": [
    "fig = plot_effective_dimensionality(model_to_effective_dimension_qk, model_to_tokens_trained_on, \"W_QK dim\")\n",
    "fig.add_vrect(x0=0.5, x1=1.5, line_width=1, fillcolor=\"gold\", opacity=0.2)\n",
    "fig.update_xaxes(title=\"% token in training set\", type='log')\n",
    "fig.update_yaxes(title=\"Effective dimensionality\", type='log')\n",
    "fig.show(config=config)\n",
    "fig.write_image(\"w_qk.png\", scale=6)\n",
    "\n",
    "fig = plot_effective_dimensionality(model_to_effective_dimension_ov, model_to_tokens_trained_on, \"W_OV dim\")\n",
    "fig.add_vrect(x0=0.5, x1=1.5, line_width=1, fillcolor=\"gold\", opacity=0.2)\n",
    "fig.update_xaxes(title=\"% token in training set\", type='log')\n",
    "fig.update_yaxes(title=\"Effective dimensionality\", type='log')\n",
    "fig.show(config=config)\n",
    "fig.write_image(\"w_ov.png\", scale=6)"
   ]
  },
  {
   "attachments": {},
   "cell_type": "markdown",
   "metadata": {},
   "source": [
    "# PCA"
   ]
  },
  {
   "cell_type": "code",
   "execution_count": 6,
   "metadata": {},
   "outputs": [
    {
     "name": "stdout",
     "output_type": "stream",
     "text": [
      "Loaded pretrained model attn-only-2l into HookedTransformer\n"
     ]
    },
    {
     "name": "stderr",
     "output_type": "stream",
     "text": [
      "Using pad_token, but it is not set yet.\n"
     ]
    },
    {
     "name": "stdout",
     "output_type": "stream",
     "text": [
      "Loaded pretrained model stanford-gpt2-small-a into HookedTransformer\n",
      "10000\n"
     ]
    }
   ],
   "source": [
    "# Small batch size to avoid cuda memory issues on colab\n",
    "model_attn = HookedTransformer.from_pretrained(\"attn-only-2l\", device='cpu')\n",
    "model_stan = HookedTransformer.from_pretrained(\"stanford-gpt2-small-a\", device='cpu')\n",
    "pile_batch_size = 1\n",
    "pile_dataloader = evals.make_pile_data_loader(tokenizer=model_attn.tokenizer, batch_size=pile_batch_size)"
   ]
  },
  {
   "cell_type": "code",
   "execution_count": null,
   "metadata": {},
   "outputs": [],
   "source": [
    "# just to dowlonload the models\n",
    "all_models = [\n",
    "    \"attn-only-1l\", \"attn-only-2l\", \"attn-only-3l\", \"attn-only-4l\",]\n",
    "#    \"stanford-gpt2-medium-d\"]\n",
    "\n",
    "for model_name in all_models:\n",
    "    print(model_name)\n",
    "    checkpoints = get_checkpoint_labels(get_official_model_name(model_name))[0]\n",
    "    checkpoints = log_scaled_integers_v2(len(checkpoints), step_size, 10)\n",
    "    if model_name == \"stanford-gpt2-medium-d\":\n",
    "        checkpoints[0] = 1\n",
    "\n",
    "    for index in checkpoints:\n",
    "        print(index)\n",
    "        model_for_this_checkpoint = HookedTransformer.from_pretrained(model_name, checkpoint_index=index, device=device)\n",
    "        del model_for_this_checkpoint\n",
    "        torch.cuda.empty_cache()"
   ]
  },
  {
   "cell_type": "code",
   "execution_count": 21,
   "metadata": {},
   "outputs": [
    {
     "name": "stdout",
     "output_type": "stream",
     "text": [
      "attn-only-1l\n",
      "Checkpoint 0\n",
      "Loaded pretrained model attn-only-1l into HookedTransformer\n",
      "Checkpoint 2\n",
      "Loaded pretrained model attn-only-1l into HookedTransformer\n",
      "Checkpoint 3\n",
      "Loaded pretrained model attn-only-1l into HookedTransformer\n",
      "Checkpoint 4\n",
      "Loaded pretrained model attn-only-1l into HookedTransformer\n",
      "Checkpoint 5\n",
      "Loaded pretrained model attn-only-1l into HookedTransformer\n",
      "Checkpoint 7\n",
      "Loaded pretrained model attn-only-1l into HookedTransformer\n",
      "Checkpoint 9\n",
      "Loaded pretrained model attn-only-1l into HookedTransformer\n",
      "Checkpoint 12\n",
      "Loaded pretrained model attn-only-1l into HookedTransformer\n",
      "Checkpoint 15\n",
      "Loaded pretrained model attn-only-1l into HookedTransformer\n",
      "Checkpoint 19\n",
      "Loaded pretrained model attn-only-1l into HookedTransformer\n",
      "Checkpoint 25\n",
      "Loaded pretrained model attn-only-1l into HookedTransformer\n",
      "Checkpoint 31\n",
      "Loaded pretrained model attn-only-1l into HookedTransformer\n",
      "Checkpoint 40\n",
      "Loaded pretrained model attn-only-1l into HookedTransformer\n",
      "Checkpoint 50\n",
      "Loaded pretrained model attn-only-1l into HookedTransformer\n",
      "Checkpoint 64\n",
      "Loaded pretrained model attn-only-1l into HookedTransformer\n",
      "Checkpoint 81\n",
      "Loaded pretrained model attn-only-1l into HookedTransformer\n",
      "Checkpoint 102\n",
      "Loaded pretrained model attn-only-1l into HookedTransformer\n",
      "Checkpoint 129\n",
      "Loaded pretrained model attn-only-1l into HookedTransformer\n",
      "Checkpoint -1\n",
      "Loaded pretrained model attn-only-1l into HookedTransformer\n",
      "attn-only-2l\n",
      "Checkpoint 0\n",
      "Loaded pretrained model attn-only-2l into HookedTransformer\n",
      "Checkpoint 2\n",
      "Loaded pretrained model attn-only-2l into HookedTransformer\n",
      "Checkpoint 3\n",
      "Loaded pretrained model attn-only-2l into HookedTransformer\n",
      "Checkpoint 4\n",
      "Loaded pretrained model attn-only-2l into HookedTransformer\n",
      "Checkpoint 5\n",
      "Loaded pretrained model attn-only-2l into HookedTransformer\n",
      "Checkpoint 7\n",
      "Loaded pretrained model attn-only-2l into HookedTransformer\n",
      "Checkpoint 9\n",
      "Loaded pretrained model attn-only-2l into HookedTransformer\n",
      "Checkpoint 12\n",
      "Loaded pretrained model attn-only-2l into HookedTransformer\n",
      "Checkpoint 15\n",
      "Loaded pretrained model attn-only-2l into HookedTransformer\n",
      "Checkpoint 19\n",
      "Loaded pretrained model attn-only-2l into HookedTransformer\n",
      "Checkpoint 25\n",
      "Loaded pretrained model attn-only-2l into HookedTransformer\n",
      "Checkpoint 31\n",
      "Loaded pretrained model attn-only-2l into HookedTransformer\n",
      "Checkpoint 40\n",
      "Loaded pretrained model attn-only-2l into HookedTransformer\n",
      "Checkpoint 50\n",
      "Loaded pretrained model attn-only-2l into HookedTransformer\n",
      "Checkpoint 64\n",
      "Loaded pretrained model attn-only-2l into HookedTransformer\n",
      "Checkpoint 81\n",
      "Loaded pretrained model attn-only-2l into HookedTransformer\n",
      "Checkpoint 102\n",
      "Loaded pretrained model attn-only-2l into HookedTransformer\n",
      "Checkpoint 129\n",
      "Loaded pretrained model attn-only-2l into HookedTransformer\n",
      "Checkpoint -1\n",
      "Loaded pretrained model attn-only-2l into HookedTransformer\n",
      "attn-only-3l\n",
      "Checkpoint 0\n",
      "Loaded pretrained model attn-only-3l into HookedTransformer\n",
      "Checkpoint 2\n",
      "Loaded pretrained model attn-only-3l into HookedTransformer\n",
      "Checkpoint 3\n",
      "Loaded pretrained model attn-only-3l into HookedTransformer\n",
      "Checkpoint 4\n",
      "Loaded pretrained model attn-only-3l into HookedTransformer\n",
      "Checkpoint 5\n",
      "Loaded pretrained model attn-only-3l into HookedTransformer\n",
      "Checkpoint 7\n",
      "Loaded pretrained model attn-only-3l into HookedTransformer\n",
      "Checkpoint 9\n",
      "Loaded pretrained model attn-only-3l into HookedTransformer\n",
      "Checkpoint 12\n",
      "Loaded pretrained model attn-only-3l into HookedTransformer\n",
      "Checkpoint 15\n",
      "Loaded pretrained model attn-only-3l into HookedTransformer\n",
      "Checkpoint 19\n",
      "Loaded pretrained model attn-only-3l into HookedTransformer\n",
      "Checkpoint 25\n",
      "Loaded pretrained model attn-only-3l into HookedTransformer\n",
      "Checkpoint 31\n",
      "Loaded pretrained model attn-only-3l into HookedTransformer\n",
      "Checkpoint 40\n",
      "Loaded pretrained model attn-only-3l into HookedTransformer\n",
      "Checkpoint 50\n",
      "Loaded pretrained model attn-only-3l into HookedTransformer\n",
      "Checkpoint 64\n",
      "Loaded pretrained model attn-only-3l into HookedTransformer\n",
      "Checkpoint 81\n",
      "Loaded pretrained model attn-only-3l into HookedTransformer\n",
      "Checkpoint 102\n",
      "Loaded pretrained model attn-only-3l into HookedTransformer\n",
      "Checkpoint 129\n",
      "Loaded pretrained model attn-only-3l into HookedTransformer\n",
      "Checkpoint -1\n",
      "Loaded pretrained model attn-only-3l into HookedTransformer\n",
      "attn-only-4l\n",
      "Checkpoint 0\n",
      "Loaded pretrained model attn-only-4l into HookedTransformer\n",
      "Checkpoint 2\n",
      "Loaded pretrained model attn-only-4l into HookedTransformer\n",
      "Checkpoint 3\n",
      "Loaded pretrained model attn-only-4l into HookedTransformer\n",
      "Checkpoint 4\n",
      "Loaded pretrained model attn-only-4l into HookedTransformer\n",
      "Checkpoint 5\n",
      "Loaded pretrained model attn-only-4l into HookedTransformer\n",
      "Checkpoint 7\n",
      "Loaded pretrained model attn-only-4l into HookedTransformer\n",
      "Checkpoint 9\n",
      "Loaded pretrained model attn-only-4l into HookedTransformer\n",
      "Checkpoint 12\n",
      "Loaded pretrained model attn-only-4l into HookedTransformer\n",
      "Checkpoint 15\n",
      "Loaded pretrained model attn-only-4l into HookedTransformer\n",
      "Checkpoint 19\n",
      "Loaded pretrained model attn-only-4l into HookedTransformer\n",
      "Checkpoint 25\n",
      "Loaded pretrained model attn-only-4l into HookedTransformer\n",
      "Checkpoint 31\n",
      "Loaded pretrained model attn-only-4l into HookedTransformer\n",
      "Checkpoint 40\n",
      "Loaded pretrained model attn-only-4l into HookedTransformer\n",
      "Checkpoint 50\n",
      "Loaded pretrained model attn-only-4l into HookedTransformer\n",
      "Checkpoint 64\n",
      "Loaded pretrained model attn-only-4l into HookedTransformer\n",
      "Checkpoint 81\n",
      "Loaded pretrained model attn-only-4l into HookedTransformer\n",
      "Checkpoint 102\n",
      "Loaded pretrained model attn-only-4l into HookedTransformer\n",
      "Checkpoint 129\n",
      "Loaded pretrained model attn-only-4l into HookedTransformer\n",
      "Checkpoint -1\n",
      "Loaded pretrained model attn-only-4l into HookedTransformer\n",
      "stanford-gpt2-small-a\n",
      "Checkpoint 0\n"
     ]
    },
    {
     "name": "stderr",
     "output_type": "stream",
     "text": [
      "Using pad_token, but it is not set yet.\n"
     ]
    },
    {
     "name": "stdout",
     "output_type": "stream",
     "text": [
      "Loaded pretrained model stanford-gpt2-small-a into HookedTransformer\n",
      "Checkpoint 3\n"
     ]
    },
    {
     "name": "stderr",
     "output_type": "stream",
     "text": [
      "Using pad_token, but it is not set yet.\n"
     ]
    },
    {
     "name": "stdout",
     "output_type": "stream",
     "text": [
      "Loaded pretrained model stanford-gpt2-small-a into HookedTransformer\n",
      "Checkpoint 4\n"
     ]
    },
    {
     "name": "stderr",
     "output_type": "stream",
     "text": [
      "Using pad_token, but it is not set yet.\n"
     ]
    },
    {
     "name": "stdout",
     "output_type": "stream",
     "text": [
      "Loaded pretrained model stanford-gpt2-small-a into HookedTransformer\n",
      "Checkpoint 6\n"
     ]
    },
    {
     "name": "stderr",
     "output_type": "stream",
     "text": [
      "Using pad_token, but it is not set yet.\n"
     ]
    },
    {
     "name": "stdout",
     "output_type": "stream",
     "text": [
      "Loaded pretrained model stanford-gpt2-small-a into HookedTransformer\n",
      "Checkpoint 8\n"
     ]
    },
    {
     "name": "stderr",
     "output_type": "stream",
     "text": [
      "Using pad_token, but it is not set yet.\n"
     ]
    },
    {
     "name": "stdout",
     "output_type": "stream",
     "text": [
      "Loaded pretrained model stanford-gpt2-small-a into HookedTransformer\n",
      "Checkpoint 11\n"
     ]
    },
    {
     "name": "stderr",
     "output_type": "stream",
     "text": [
      "Using pad_token, but it is not set yet.\n"
     ]
    },
    {
     "name": "stdout",
     "output_type": "stream",
     "text": [
      "Loaded pretrained model stanford-gpt2-small-a into HookedTransformer\n",
      "Checkpoint 15\n"
     ]
    },
    {
     "name": "stderr",
     "output_type": "stream",
     "text": [
      "Using pad_token, but it is not set yet.\n"
     ]
    },
    {
     "name": "stdout",
     "output_type": "stream",
     "text": [
      "Loaded pretrained model stanford-gpt2-small-a into HookedTransformer\n",
      "Checkpoint 21\n"
     ]
    },
    {
     "name": "stderr",
     "output_type": "stream",
     "text": [
      "Using pad_token, but it is not set yet.\n"
     ]
    },
    {
     "name": "stdout",
     "output_type": "stream",
     "text": [
      "Loaded pretrained model stanford-gpt2-small-a into HookedTransformer\n",
      "Checkpoint 29\n"
     ]
    },
    {
     "name": "stderr",
     "output_type": "stream",
     "text": [
      "Using pad_token, but it is not set yet.\n"
     ]
    },
    {
     "name": "stdout",
     "output_type": "stream",
     "text": [
      "Loaded pretrained model stanford-gpt2-small-a into HookedTransformer\n",
      "Checkpoint 40\n"
     ]
    },
    {
     "name": "stderr",
     "output_type": "stream",
     "text": [
      "Using pad_token, but it is not set yet.\n"
     ]
    },
    {
     "name": "stdout",
     "output_type": "stream",
     "text": [
      "Loaded pretrained model stanford-gpt2-small-a into HookedTransformer\n",
      "Checkpoint 54\n"
     ]
    },
    {
     "name": "stderr",
     "output_type": "stream",
     "text": [
      "Using pad_token, but it is not set yet.\n"
     ]
    },
    {
     "name": "stdout",
     "output_type": "stream",
     "text": [
      "Loaded pretrained model stanford-gpt2-small-a into HookedTransformer\n",
      "Checkpoint 73\n"
     ]
    },
    {
     "name": "stderr",
     "output_type": "stream",
     "text": [
      "Using pad_token, but it is not set yet.\n"
     ]
    },
    {
     "name": "stdout",
     "output_type": "stream",
     "text": [
      "Loaded pretrained model stanford-gpt2-small-a into HookedTransformer\n",
      "Checkpoint 99\n"
     ]
    },
    {
     "name": "stderr",
     "output_type": "stream",
     "text": [
      "Using pad_token, but it is not set yet.\n"
     ]
    },
    {
     "name": "stdout",
     "output_type": "stream",
     "text": [
      "Loaded pretrained model stanford-gpt2-small-a into HookedTransformer\n",
      "Checkpoint 134\n"
     ]
    },
    {
     "name": "stderr",
     "output_type": "stream",
     "text": [
      "Using pad_token, but it is not set yet.\n"
     ]
    },
    {
     "name": "stdout",
     "output_type": "stream",
     "text": [
      "Loaded pretrained model stanford-gpt2-small-a into HookedTransformer\n",
      "Checkpoint 182\n"
     ]
    },
    {
     "name": "stderr",
     "output_type": "stream",
     "text": [
      "Using pad_token, but it is not set yet.\n"
     ]
    },
    {
     "name": "stdout",
     "output_type": "stream",
     "text": [
      "Loaded pretrained model stanford-gpt2-small-a into HookedTransformer\n",
      "Checkpoint 246\n"
     ]
    },
    {
     "name": "stderr",
     "output_type": "stream",
     "text": [
      "Using pad_token, but it is not set yet.\n"
     ]
    },
    {
     "name": "stdout",
     "output_type": "stream",
     "text": [
      "Loaded pretrained model stanford-gpt2-small-a into HookedTransformer\n",
      "Checkpoint 333\n"
     ]
    },
    {
     "name": "stderr",
     "output_type": "stream",
     "text": [
      "Using pad_token, but it is not set yet.\n"
     ]
    },
    {
     "name": "stdout",
     "output_type": "stream",
     "text": [
      "Loaded pretrained model stanford-gpt2-small-a into HookedTransformer\n",
      "Checkpoint 450\n"
     ]
    },
    {
     "name": "stderr",
     "output_type": "stream",
     "text": [
      "Using pad_token, but it is not set yet.\n"
     ]
    },
    {
     "name": "stdout",
     "output_type": "stream",
     "text": [
      "Loaded pretrained model stanford-gpt2-small-a into HookedTransformer\n",
      "Checkpoint -1\n"
     ]
    },
    {
     "name": "stderr",
     "output_type": "stream",
     "text": [
      "Using pad_token, but it is not set yet.\n"
     ]
    },
    {
     "name": "stdout",
     "output_type": "stream",
     "text": [
      "Loaded pretrained model stanford-gpt2-small-a into HookedTransformer\n",
      "stanford-gpt2-small-c\n",
      "Checkpoint 0\n"
     ]
    },
    {
     "name": "stderr",
     "output_type": "stream",
     "text": [
      "Using pad_token, but it is not set yet.\n"
     ]
    },
    {
     "name": "stdout",
     "output_type": "stream",
     "text": [
      "Loaded pretrained model stanford-gpt2-small-c into HookedTransformer\n",
      "Checkpoint 3\n"
     ]
    },
    {
     "name": "stderr",
     "output_type": "stream",
     "text": [
      "Using pad_token, but it is not set yet.\n"
     ]
    },
    {
     "name": "stdout",
     "output_type": "stream",
     "text": [
      "Loaded pretrained model stanford-gpt2-small-c into HookedTransformer\n",
      "Checkpoint 4\n"
     ]
    },
    {
     "name": "stderr",
     "output_type": "stream",
     "text": [
      "Using pad_token, but it is not set yet.\n"
     ]
    },
    {
     "name": "stdout",
     "output_type": "stream",
     "text": [
      "Loaded pretrained model stanford-gpt2-small-c into HookedTransformer\n",
      "Checkpoint 6\n"
     ]
    },
    {
     "name": "stderr",
     "output_type": "stream",
     "text": [
      "Using pad_token, but it is not set yet.\n"
     ]
    },
    {
     "name": "stdout",
     "output_type": "stream",
     "text": [
      "Loaded pretrained model stanford-gpt2-small-c into HookedTransformer\n",
      "Checkpoint 8\n"
     ]
    },
    {
     "name": "stderr",
     "output_type": "stream",
     "text": [
      "Using pad_token, but it is not set yet.\n"
     ]
    },
    {
     "name": "stdout",
     "output_type": "stream",
     "text": [
      "Loaded pretrained model stanford-gpt2-small-c into HookedTransformer\n",
      "Checkpoint 11\n"
     ]
    },
    {
     "name": "stderr",
     "output_type": "stream",
     "text": [
      "Using pad_token, but it is not set yet.\n"
     ]
    },
    {
     "name": "stdout",
     "output_type": "stream",
     "text": [
      "Loaded pretrained model stanford-gpt2-small-c into HookedTransformer\n",
      "Checkpoint 15\n"
     ]
    },
    {
     "name": "stderr",
     "output_type": "stream",
     "text": [
      "Using pad_token, but it is not set yet.\n"
     ]
    },
    {
     "name": "stdout",
     "output_type": "stream",
     "text": [
      "Loaded pretrained model stanford-gpt2-small-c into HookedTransformer\n",
      "Checkpoint 21\n"
     ]
    },
    {
     "name": "stderr",
     "output_type": "stream",
     "text": [
      "Using pad_token, but it is not set yet.\n"
     ]
    },
    {
     "name": "stdout",
     "output_type": "stream",
     "text": [
      "Loaded pretrained model stanford-gpt2-small-c into HookedTransformer\n",
      "Checkpoint 29\n"
     ]
    },
    {
     "name": "stderr",
     "output_type": "stream",
     "text": [
      "Using pad_token, but it is not set yet.\n"
     ]
    },
    {
     "name": "stdout",
     "output_type": "stream",
     "text": [
      "Loaded pretrained model stanford-gpt2-small-c into HookedTransformer\n",
      "Checkpoint 40\n"
     ]
    },
    {
     "name": "stderr",
     "output_type": "stream",
     "text": [
      "Using pad_token, but it is not set yet.\n"
     ]
    },
    {
     "name": "stdout",
     "output_type": "stream",
     "text": [
      "Loaded pretrained model stanford-gpt2-small-c into HookedTransformer\n",
      "Checkpoint 54\n"
     ]
    },
    {
     "name": "stderr",
     "output_type": "stream",
     "text": [
      "Using pad_token, but it is not set yet.\n"
     ]
    },
    {
     "name": "stdout",
     "output_type": "stream",
     "text": [
      "Loaded pretrained model stanford-gpt2-small-c into HookedTransformer\n",
      "Checkpoint 73\n"
     ]
    },
    {
     "name": "stderr",
     "output_type": "stream",
     "text": [
      "Using pad_token, but it is not set yet.\n"
     ]
    },
    {
     "name": "stdout",
     "output_type": "stream",
     "text": [
      "Loaded pretrained model stanford-gpt2-small-c into HookedTransformer\n",
      "Checkpoint 99\n"
     ]
    },
    {
     "name": "stderr",
     "output_type": "stream",
     "text": [
      "Using pad_token, but it is not set yet.\n"
     ]
    },
    {
     "name": "stdout",
     "output_type": "stream",
     "text": [
      "Loaded pretrained model stanford-gpt2-small-c into HookedTransformer\n",
      "Checkpoint 134\n"
     ]
    },
    {
     "name": "stderr",
     "output_type": "stream",
     "text": [
      "Using pad_token, but it is not set yet.\n"
     ]
    },
    {
     "name": "stdout",
     "output_type": "stream",
     "text": [
      "Loaded pretrained model stanford-gpt2-small-c into HookedTransformer\n",
      "Checkpoint 182\n"
     ]
    },
    {
     "name": "stderr",
     "output_type": "stream",
     "text": [
      "Using pad_token, but it is not set yet.\n"
     ]
    },
    {
     "name": "stdout",
     "output_type": "stream",
     "text": [
      "Loaded pretrained model stanford-gpt2-small-c into HookedTransformer\n",
      "Checkpoint 246\n"
     ]
    },
    {
     "name": "stderr",
     "output_type": "stream",
     "text": [
      "Using pad_token, but it is not set yet.\n"
     ]
    },
    {
     "name": "stdout",
     "output_type": "stream",
     "text": [
      "Loaded pretrained model stanford-gpt2-small-c into HookedTransformer\n",
      "Checkpoint 333\n"
     ]
    },
    {
     "name": "stderr",
     "output_type": "stream",
     "text": [
      "Using pad_token, but it is not set yet.\n"
     ]
    },
    {
     "name": "stdout",
     "output_type": "stream",
     "text": [
      "Loaded pretrained model stanford-gpt2-small-c into HookedTransformer\n",
      "Checkpoint 450\n"
     ]
    },
    {
     "name": "stderr",
     "output_type": "stream",
     "text": [
      "Using pad_token, but it is not set yet.\n"
     ]
    },
    {
     "name": "stdout",
     "output_type": "stream",
     "text": [
      "Loaded pretrained model stanford-gpt2-small-c into HookedTransformer\n",
      "Checkpoint -1\n"
     ]
    },
    {
     "name": "stderr",
     "output_type": "stream",
     "text": [
      "Using pad_token, but it is not set yet.\n"
     ]
    },
    {
     "name": "stdout",
     "output_type": "stream",
     "text": [
      "Loaded pretrained model stanford-gpt2-small-c into HookedTransformer\n",
      "stanford-gpt2-small-d\n",
      "Checkpoint 0\n"
     ]
    },
    {
     "name": "stderr",
     "output_type": "stream",
     "text": [
      "Using pad_token, but it is not set yet.\n"
     ]
    },
    {
     "name": "stdout",
     "output_type": "stream",
     "text": [
      "Loaded pretrained model stanford-gpt2-small-d into HookedTransformer\n",
      "Checkpoint 3\n"
     ]
    },
    {
     "name": "stderr",
     "output_type": "stream",
     "text": [
      "Using pad_token, but it is not set yet.\n"
     ]
    },
    {
     "name": "stdout",
     "output_type": "stream",
     "text": [
      "Loaded pretrained model stanford-gpt2-small-d into HookedTransformer\n",
      "Checkpoint 4\n"
     ]
    },
    {
     "name": "stderr",
     "output_type": "stream",
     "text": [
      "Using pad_token, but it is not set yet.\n"
     ]
    },
    {
     "name": "stdout",
     "output_type": "stream",
     "text": [
      "Loaded pretrained model stanford-gpt2-small-d into HookedTransformer\n",
      "Checkpoint 6\n"
     ]
    },
    {
     "name": "stderr",
     "output_type": "stream",
     "text": [
      "Using pad_token, but it is not set yet.\n"
     ]
    },
    {
     "name": "stdout",
     "output_type": "stream",
     "text": [
      "Loaded pretrained model stanford-gpt2-small-d into HookedTransformer\n",
      "Checkpoint 8\n"
     ]
    },
    {
     "name": "stderr",
     "output_type": "stream",
     "text": [
      "Using pad_token, but it is not set yet.\n"
     ]
    },
    {
     "name": "stdout",
     "output_type": "stream",
     "text": [
      "Loaded pretrained model stanford-gpt2-small-d into HookedTransformer\n",
      "Checkpoint 11\n"
     ]
    },
    {
     "name": "stderr",
     "output_type": "stream",
     "text": [
      "Using pad_token, but it is not set yet.\n"
     ]
    },
    {
     "name": "stdout",
     "output_type": "stream",
     "text": [
      "Loaded pretrained model stanford-gpt2-small-d into HookedTransformer\n",
      "Checkpoint 15\n"
     ]
    },
    {
     "name": "stderr",
     "output_type": "stream",
     "text": [
      "Using pad_token, but it is not set yet.\n"
     ]
    },
    {
     "name": "stdout",
     "output_type": "stream",
     "text": [
      "Loaded pretrained model stanford-gpt2-small-d into HookedTransformer\n",
      "Checkpoint 21\n"
     ]
    },
    {
     "name": "stderr",
     "output_type": "stream",
     "text": [
      "Using pad_token, but it is not set yet.\n"
     ]
    },
    {
     "name": "stdout",
     "output_type": "stream",
     "text": [
      "Loaded pretrained model stanford-gpt2-small-d into HookedTransformer\n",
      "Checkpoint 29\n"
     ]
    },
    {
     "name": "stderr",
     "output_type": "stream",
     "text": [
      "Using pad_token, but it is not set yet.\n"
     ]
    },
    {
     "name": "stdout",
     "output_type": "stream",
     "text": [
      "Loaded pretrained model stanford-gpt2-small-d into HookedTransformer\n",
      "Checkpoint 40\n"
     ]
    },
    {
     "name": "stderr",
     "output_type": "stream",
     "text": [
      "Using pad_token, but it is not set yet.\n"
     ]
    },
    {
     "name": "stdout",
     "output_type": "stream",
     "text": [
      "Loaded pretrained model stanford-gpt2-small-d into HookedTransformer\n",
      "Checkpoint 54\n"
     ]
    },
    {
     "name": "stderr",
     "output_type": "stream",
     "text": [
      "Using pad_token, but it is not set yet.\n"
     ]
    },
    {
     "name": "stdout",
     "output_type": "stream",
     "text": [
      "Loaded pretrained model stanford-gpt2-small-d into HookedTransformer\n",
      "Checkpoint 73\n"
     ]
    },
    {
     "name": "stderr",
     "output_type": "stream",
     "text": [
      "Using pad_token, but it is not set yet.\n"
     ]
    },
    {
     "name": "stdout",
     "output_type": "stream",
     "text": [
      "Loaded pretrained model stanford-gpt2-small-d into HookedTransformer\n",
      "Checkpoint 99\n"
     ]
    },
    {
     "name": "stderr",
     "output_type": "stream",
     "text": [
      "Using pad_token, but it is not set yet.\n"
     ]
    },
    {
     "name": "stdout",
     "output_type": "stream",
     "text": [
      "Loaded pretrained model stanford-gpt2-small-d into HookedTransformer\n",
      "Checkpoint 134\n"
     ]
    },
    {
     "name": "stderr",
     "output_type": "stream",
     "text": [
      "Using pad_token, but it is not set yet.\n"
     ]
    },
    {
     "name": "stdout",
     "output_type": "stream",
     "text": [
      "Loaded pretrained model stanford-gpt2-small-d into HookedTransformer\n",
      "Checkpoint 182\n"
     ]
    },
    {
     "name": "stderr",
     "output_type": "stream",
     "text": [
      "Using pad_token, but it is not set yet.\n"
     ]
    },
    {
     "name": "stdout",
     "output_type": "stream",
     "text": [
      "Loaded pretrained model stanford-gpt2-small-d into HookedTransformer\n",
      "Checkpoint 246\n"
     ]
    },
    {
     "name": "stderr",
     "output_type": "stream",
     "text": [
      "Using pad_token, but it is not set yet.\n"
     ]
    },
    {
     "name": "stdout",
     "output_type": "stream",
     "text": [
      "Loaded pretrained model stanford-gpt2-small-d into HookedTransformer\n",
      "Checkpoint 333\n"
     ]
    },
    {
     "name": "stderr",
     "output_type": "stream",
     "text": [
      "Using pad_token, but it is not set yet.\n"
     ]
    },
    {
     "name": "stdout",
     "output_type": "stream",
     "text": [
      "Loaded pretrained model stanford-gpt2-small-d into HookedTransformer\n",
      "Checkpoint 450\n"
     ]
    },
    {
     "name": "stderr",
     "output_type": "stream",
     "text": [
      "Using pad_token, but it is not set yet.\n"
     ]
    },
    {
     "name": "stdout",
     "output_type": "stream",
     "text": [
      "Loaded pretrained model stanford-gpt2-small-d into HookedTransformer\n",
      "Checkpoint -1\n"
     ]
    },
    {
     "name": "stderr",
     "output_type": "stream",
     "text": [
      "Using pad_token, but it is not set yet.\n"
     ]
    },
    {
     "name": "stdout",
     "output_type": "stream",
     "text": [
      "Loaded pretrained model stanford-gpt2-small-d into HookedTransformer\n",
      "stanford-gpt2-medium-a\n",
      "Checkpoint 0\n"
     ]
    },
    {
     "name": "stderr",
     "output_type": "stream",
     "text": [
      "Using pad_token, but it is not set yet.\n"
     ]
    },
    {
     "name": "stdout",
     "output_type": "stream",
     "text": [
      "Loaded pretrained model stanford-gpt2-medium-a into HookedTransformer\n",
      "Checkpoint 3\n"
     ]
    },
    {
     "name": "stderr",
     "output_type": "stream",
     "text": [
      "Using pad_token, but it is not set yet.\n"
     ]
    },
    {
     "name": "stdout",
     "output_type": "stream",
     "text": [
      "Loaded pretrained model stanford-gpt2-medium-a into HookedTransformer\n",
      "Checkpoint 4\n"
     ]
    },
    {
     "name": "stderr",
     "output_type": "stream",
     "text": [
      "Using pad_token, but it is not set yet.\n"
     ]
    },
    {
     "name": "stdout",
     "output_type": "stream",
     "text": [
      "Loaded pretrained model stanford-gpt2-medium-a into HookedTransformer\n",
      "Checkpoint 6\n"
     ]
    },
    {
     "name": "stderr",
     "output_type": "stream",
     "text": [
      "Using pad_token, but it is not set yet.\n"
     ]
    },
    {
     "name": "stdout",
     "output_type": "stream",
     "text": [
      "Loaded pretrained model stanford-gpt2-medium-a into HookedTransformer\n",
      "Checkpoint 8\n"
     ]
    },
    {
     "name": "stderr",
     "output_type": "stream",
     "text": [
      "Using pad_token, but it is not set yet.\n"
     ]
    },
    {
     "name": "stdout",
     "output_type": "stream",
     "text": [
      "Loaded pretrained model stanford-gpt2-medium-a into HookedTransformer\n",
      "Checkpoint 11\n"
     ]
    },
    {
     "name": "stderr",
     "output_type": "stream",
     "text": [
      "Using pad_token, but it is not set yet.\n"
     ]
    },
    {
     "name": "stdout",
     "output_type": "stream",
     "text": [
      "Loaded pretrained model stanford-gpt2-medium-a into HookedTransformer\n",
      "Checkpoint 15\n"
     ]
    },
    {
     "name": "stderr",
     "output_type": "stream",
     "text": [
      "Using pad_token, but it is not set yet.\n"
     ]
    },
    {
     "name": "stdout",
     "output_type": "stream",
     "text": [
      "Loaded pretrained model stanford-gpt2-medium-a into HookedTransformer\n",
      "Checkpoint 21\n"
     ]
    },
    {
     "name": "stderr",
     "output_type": "stream",
     "text": [
      "Using pad_token, but it is not set yet.\n"
     ]
    },
    {
     "name": "stdout",
     "output_type": "stream",
     "text": [
      "Loaded pretrained model stanford-gpt2-medium-a into HookedTransformer\n",
      "Checkpoint 29\n"
     ]
    },
    {
     "name": "stderr",
     "output_type": "stream",
     "text": [
      "Using pad_token, but it is not set yet.\n"
     ]
    },
    {
     "name": "stdout",
     "output_type": "stream",
     "text": [
      "Loaded pretrained model stanford-gpt2-medium-a into HookedTransformer\n",
      "Checkpoint 40\n"
     ]
    },
    {
     "name": "stderr",
     "output_type": "stream",
     "text": [
      "Using pad_token, but it is not set yet.\n"
     ]
    },
    {
     "name": "stdout",
     "output_type": "stream",
     "text": [
      "Loaded pretrained model stanford-gpt2-medium-a into HookedTransformer\n",
      "Checkpoint 54\n"
     ]
    },
    {
     "name": "stderr",
     "output_type": "stream",
     "text": [
      "Using pad_token, but it is not set yet.\n"
     ]
    },
    {
     "name": "stdout",
     "output_type": "stream",
     "text": [
      "Loaded pretrained model stanford-gpt2-medium-a into HookedTransformer\n",
      "Checkpoint 73\n"
     ]
    },
    {
     "name": "stderr",
     "output_type": "stream",
     "text": [
      "Using pad_token, but it is not set yet.\n"
     ]
    },
    {
     "name": "stdout",
     "output_type": "stream",
     "text": [
      "Loaded pretrained model stanford-gpt2-medium-a into HookedTransformer\n",
      "Checkpoint 99\n"
     ]
    },
    {
     "name": "stderr",
     "output_type": "stream",
     "text": [
      "Using pad_token, but it is not set yet.\n"
     ]
    },
    {
     "name": "stdout",
     "output_type": "stream",
     "text": [
      "Loaded pretrained model stanford-gpt2-medium-a into HookedTransformer\n",
      "Checkpoint 134\n"
     ]
    },
    {
     "name": "stderr",
     "output_type": "stream",
     "text": [
      "Using pad_token, but it is not set yet.\n"
     ]
    },
    {
     "name": "stdout",
     "output_type": "stream",
     "text": [
      "Loaded pretrained model stanford-gpt2-medium-a into HookedTransformer\n",
      "Checkpoint 182\n"
     ]
    },
    {
     "name": "stderr",
     "output_type": "stream",
     "text": [
      "Using pad_token, but it is not set yet.\n"
     ]
    },
    {
     "name": "stdout",
     "output_type": "stream",
     "text": [
      "Loaded pretrained model stanford-gpt2-medium-a into HookedTransformer\n",
      "Checkpoint 246\n"
     ]
    },
    {
     "name": "stderr",
     "output_type": "stream",
     "text": [
      "Using pad_token, but it is not set yet.\n"
     ]
    },
    {
     "name": "stdout",
     "output_type": "stream",
     "text": [
      "Loaded pretrained model stanford-gpt2-medium-a into HookedTransformer\n",
      "Checkpoint 333\n"
     ]
    },
    {
     "name": "stderr",
     "output_type": "stream",
     "text": [
      "Using pad_token, but it is not set yet.\n"
     ]
    },
    {
     "name": "stdout",
     "output_type": "stream",
     "text": [
      "Loaded pretrained model stanford-gpt2-medium-a into HookedTransformer\n",
      "Checkpoint 450\n"
     ]
    },
    {
     "name": "stderr",
     "output_type": "stream",
     "text": [
      "Using pad_token, but it is not set yet.\n"
     ]
    },
    {
     "name": "stdout",
     "output_type": "stream",
     "text": [
      "Loaded pretrained model stanford-gpt2-medium-a into HookedTransformer\n",
      "Checkpoint -1\n"
     ]
    },
    {
     "name": "stderr",
     "output_type": "stream",
     "text": [
      "Using pad_token, but it is not set yet.\n"
     ]
    },
    {
     "name": "stdout",
     "output_type": "stream",
     "text": [
      "Loaded pretrained model stanford-gpt2-medium-a into HookedTransformer\n",
      "stanford-gpt2-medium-c\n",
      "Checkpoint 0\n"
     ]
    },
    {
     "name": "stderr",
     "output_type": "stream",
     "text": [
      "Using pad_token, but it is not set yet.\n"
     ]
    },
    {
     "name": "stdout",
     "output_type": "stream",
     "text": [
      "Loaded pretrained model stanford-gpt2-medium-c into HookedTransformer\n",
      "Checkpoint 3\n"
     ]
    },
    {
     "name": "stderr",
     "output_type": "stream",
     "text": [
      "Using pad_token, but it is not set yet.\n"
     ]
    },
    {
     "name": "stdout",
     "output_type": "stream",
     "text": [
      "Loaded pretrained model stanford-gpt2-medium-c into HookedTransformer\n",
      "Checkpoint 4\n"
     ]
    },
    {
     "name": "stderr",
     "output_type": "stream",
     "text": [
      "Using pad_token, but it is not set yet.\n"
     ]
    },
    {
     "name": "stdout",
     "output_type": "stream",
     "text": [
      "Loaded pretrained model stanford-gpt2-medium-c into HookedTransformer\n",
      "Checkpoint 6\n"
     ]
    },
    {
     "name": "stderr",
     "output_type": "stream",
     "text": [
      "Using pad_token, but it is not set yet.\n"
     ]
    },
    {
     "name": "stdout",
     "output_type": "stream",
     "text": [
      "Loaded pretrained model stanford-gpt2-medium-c into HookedTransformer\n",
      "Checkpoint 8\n"
     ]
    },
    {
     "name": "stderr",
     "output_type": "stream",
     "text": [
      "Using pad_token, but it is not set yet.\n"
     ]
    },
    {
     "name": "stdout",
     "output_type": "stream",
     "text": [
      "Loaded pretrained model stanford-gpt2-medium-c into HookedTransformer\n",
      "Checkpoint 11\n"
     ]
    },
    {
     "name": "stderr",
     "output_type": "stream",
     "text": [
      "Using pad_token, but it is not set yet.\n"
     ]
    },
    {
     "name": "stdout",
     "output_type": "stream",
     "text": [
      "Loaded pretrained model stanford-gpt2-medium-c into HookedTransformer\n",
      "Checkpoint 15\n"
     ]
    },
    {
     "name": "stderr",
     "output_type": "stream",
     "text": [
      "Using pad_token, but it is not set yet.\n"
     ]
    },
    {
     "name": "stdout",
     "output_type": "stream",
     "text": [
      "Loaded pretrained model stanford-gpt2-medium-c into HookedTransformer\n",
      "Checkpoint 21\n"
     ]
    },
    {
     "name": "stderr",
     "output_type": "stream",
     "text": [
      "Using pad_token, but it is not set yet.\n"
     ]
    },
    {
     "name": "stdout",
     "output_type": "stream",
     "text": [
      "Loaded pretrained model stanford-gpt2-medium-c into HookedTransformer\n",
      "Checkpoint 29\n"
     ]
    },
    {
     "name": "stderr",
     "output_type": "stream",
     "text": [
      "Using pad_token, but it is not set yet.\n"
     ]
    },
    {
     "name": "stdout",
     "output_type": "stream",
     "text": [
      "Loaded pretrained model stanford-gpt2-medium-c into HookedTransformer\n",
      "Checkpoint 40\n"
     ]
    },
    {
     "name": "stderr",
     "output_type": "stream",
     "text": [
      "Using pad_token, but it is not set yet.\n"
     ]
    },
    {
     "name": "stdout",
     "output_type": "stream",
     "text": [
      "Loaded pretrained model stanford-gpt2-medium-c into HookedTransformer\n",
      "Checkpoint 54\n"
     ]
    },
    {
     "name": "stderr",
     "output_type": "stream",
     "text": [
      "Using pad_token, but it is not set yet.\n"
     ]
    },
    {
     "name": "stdout",
     "output_type": "stream",
     "text": [
      "Loaded pretrained model stanford-gpt2-medium-c into HookedTransformer\n",
      "Checkpoint 73\n"
     ]
    },
    {
     "name": "stderr",
     "output_type": "stream",
     "text": [
      "Using pad_token, but it is not set yet.\n"
     ]
    },
    {
     "name": "stdout",
     "output_type": "stream",
     "text": [
      "Loaded pretrained model stanford-gpt2-medium-c into HookedTransformer\n",
      "Checkpoint 99\n"
     ]
    },
    {
     "name": "stderr",
     "output_type": "stream",
     "text": [
      "Using pad_token, but it is not set yet.\n"
     ]
    },
    {
     "name": "stdout",
     "output_type": "stream",
     "text": [
      "Loaded pretrained model stanford-gpt2-medium-c into HookedTransformer\n",
      "Checkpoint 134\n"
     ]
    },
    {
     "name": "stderr",
     "output_type": "stream",
     "text": [
      "Using pad_token, but it is not set yet.\n"
     ]
    },
    {
     "name": "stdout",
     "output_type": "stream",
     "text": [
      "Loaded pretrained model stanford-gpt2-medium-c into HookedTransformer\n",
      "Checkpoint 182\n"
     ]
    },
    {
     "name": "stderr",
     "output_type": "stream",
     "text": [
      "Using pad_token, but it is not set yet.\n"
     ]
    },
    {
     "name": "stdout",
     "output_type": "stream",
     "text": [
      "Loaded pretrained model stanford-gpt2-medium-c into HookedTransformer\n",
      "Checkpoint 246\n"
     ]
    },
    {
     "name": "stderr",
     "output_type": "stream",
     "text": [
      "Using pad_token, but it is not set yet.\n"
     ]
    },
    {
     "name": "stdout",
     "output_type": "stream",
     "text": [
      "Loaded pretrained model stanford-gpt2-medium-c into HookedTransformer\n",
      "Checkpoint 333\n"
     ]
    },
    {
     "name": "stderr",
     "output_type": "stream",
     "text": [
      "Using pad_token, but it is not set yet.\n"
     ]
    },
    {
     "name": "stdout",
     "output_type": "stream",
     "text": [
      "Loaded pretrained model stanford-gpt2-medium-c into HookedTransformer\n",
      "Checkpoint 450\n"
     ]
    },
    {
     "name": "stderr",
     "output_type": "stream",
     "text": [
      "Using pad_token, but it is not set yet.\n"
     ]
    },
    {
     "name": "stdout",
     "output_type": "stream",
     "text": [
      "Loaded pretrained model stanford-gpt2-medium-c into HookedTransformer\n",
      "Checkpoint -1\n"
     ]
    },
    {
     "name": "stderr",
     "output_type": "stream",
     "text": [
      "Using pad_token, but it is not set yet.\n"
     ]
    },
    {
     "name": "stdout",
     "output_type": "stream",
     "text": [
      "Loaded pretrained model stanford-gpt2-medium-c into HookedTransformer\n",
      "stanford-gpt2-medium-d\n",
      "Checkpoint 1\n"
     ]
    },
    {
     "name": "stderr",
     "output_type": "stream",
     "text": [
      "Using pad_token, but it is not set yet.\n"
     ]
    },
    {
     "name": "stdout",
     "output_type": "stream",
     "text": [
      "Loaded pretrained model stanford-gpt2-medium-d into HookedTransformer\n",
      "Checkpoint 3\n"
     ]
    },
    {
     "name": "stderr",
     "output_type": "stream",
     "text": [
      "Using pad_token, but it is not set yet.\n"
     ]
    },
    {
     "name": "stdout",
     "output_type": "stream",
     "text": [
      "Loaded pretrained model stanford-gpt2-medium-d into HookedTransformer\n",
      "Checkpoint 4\n"
     ]
    },
    {
     "name": "stderr",
     "output_type": "stream",
     "text": [
      "Using pad_token, but it is not set yet.\n"
     ]
    },
    {
     "name": "stdout",
     "output_type": "stream",
     "text": [
      "Loaded pretrained model stanford-gpt2-medium-d into HookedTransformer\n",
      "Checkpoint 6\n"
     ]
    },
    {
     "name": "stderr",
     "output_type": "stream",
     "text": [
      "Using pad_token, but it is not set yet.\n"
     ]
    },
    {
     "name": "stdout",
     "output_type": "stream",
     "text": [
      "Loaded pretrained model stanford-gpt2-medium-d into HookedTransformer\n",
      "Checkpoint 8\n"
     ]
    },
    {
     "name": "stderr",
     "output_type": "stream",
     "text": [
      "Using pad_token, but it is not set yet.\n"
     ]
    },
    {
     "name": "stdout",
     "output_type": "stream",
     "text": [
      "Loaded pretrained model stanford-gpt2-medium-d into HookedTransformer\n",
      "Checkpoint 11\n"
     ]
    },
    {
     "name": "stderr",
     "output_type": "stream",
     "text": [
      "Using pad_token, but it is not set yet.\n"
     ]
    },
    {
     "name": "stdout",
     "output_type": "stream",
     "text": [
      "Loaded pretrained model stanford-gpt2-medium-d into HookedTransformer\n",
      "Checkpoint 15\n"
     ]
    },
    {
     "name": "stderr",
     "output_type": "stream",
     "text": [
      "Using pad_token, but it is not set yet.\n"
     ]
    },
    {
     "name": "stdout",
     "output_type": "stream",
     "text": [
      "Loaded pretrained model stanford-gpt2-medium-d into HookedTransformer\n",
      "Checkpoint 21\n"
     ]
    },
    {
     "name": "stderr",
     "output_type": "stream",
     "text": [
      "Using pad_token, but it is not set yet.\n"
     ]
    },
    {
     "name": "stdout",
     "output_type": "stream",
     "text": [
      "Loaded pretrained model stanford-gpt2-medium-d into HookedTransformer\n",
      "Checkpoint 29\n"
     ]
    },
    {
     "name": "stderr",
     "output_type": "stream",
     "text": [
      "Using pad_token, but it is not set yet.\n"
     ]
    },
    {
     "name": "stdout",
     "output_type": "stream",
     "text": [
      "Loaded pretrained model stanford-gpt2-medium-d into HookedTransformer\n",
      "Checkpoint 40\n"
     ]
    },
    {
     "name": "stderr",
     "output_type": "stream",
     "text": [
      "Using pad_token, but it is not set yet.\n"
     ]
    },
    {
     "name": "stdout",
     "output_type": "stream",
     "text": [
      "Loaded pretrained model stanford-gpt2-medium-d into HookedTransformer\n",
      "Checkpoint 54\n"
     ]
    },
    {
     "name": "stderr",
     "output_type": "stream",
     "text": [
      "Using pad_token, but it is not set yet.\n"
     ]
    },
    {
     "name": "stdout",
     "output_type": "stream",
     "text": [
      "Loaded pretrained model stanford-gpt2-medium-d into HookedTransformer\n",
      "Checkpoint 73\n"
     ]
    },
    {
     "name": "stderr",
     "output_type": "stream",
     "text": [
      "Using pad_token, but it is not set yet.\n"
     ]
    },
    {
     "name": "stdout",
     "output_type": "stream",
     "text": [
      "Loaded pretrained model stanford-gpt2-medium-d into HookedTransformer\n",
      "Checkpoint 99\n"
     ]
    },
    {
     "name": "stderr",
     "output_type": "stream",
     "text": [
      "Using pad_token, but it is not set yet.\n"
     ]
    },
    {
     "name": "stdout",
     "output_type": "stream",
     "text": [
      "Loaded pretrained model stanford-gpt2-medium-d into HookedTransformer\n",
      "Checkpoint 134\n"
     ]
    },
    {
     "name": "stderr",
     "output_type": "stream",
     "text": [
      "Using pad_token, but it is not set yet.\n"
     ]
    },
    {
     "name": "stdout",
     "output_type": "stream",
     "text": [
      "Loaded pretrained model stanford-gpt2-medium-d into HookedTransformer\n",
      "Checkpoint 182\n"
     ]
    },
    {
     "name": "stderr",
     "output_type": "stream",
     "text": [
      "Using pad_token, but it is not set yet.\n"
     ]
    },
    {
     "name": "stdout",
     "output_type": "stream",
     "text": [
      "Loaded pretrained model stanford-gpt2-medium-d into HookedTransformer\n",
      "Checkpoint 246\n"
     ]
    },
    {
     "name": "stderr",
     "output_type": "stream",
     "text": [
      "Using pad_token, but it is not set yet.\n"
     ]
    },
    {
     "name": "stdout",
     "output_type": "stream",
     "text": [
      "Loaded pretrained model stanford-gpt2-medium-d into HookedTransformer\n",
      "Checkpoint 333\n"
     ]
    },
    {
     "name": "stderr",
     "output_type": "stream",
     "text": [
      "Using pad_token, but it is not set yet.\n"
     ]
    },
    {
     "name": "stdout",
     "output_type": "stream",
     "text": [
      "Loaded pretrained model stanford-gpt2-medium-d into HookedTransformer\n",
      "Checkpoint 450\n"
     ]
    },
    {
     "name": "stderr",
     "output_type": "stream",
     "text": [
      "Using pad_token, but it is not set yet.\n"
     ]
    },
    {
     "name": "stdout",
     "output_type": "stream",
     "text": [
      "Loaded pretrained model stanford-gpt2-medium-d into HookedTransformer\n",
      "Checkpoint -1\n"
     ]
    },
    {
     "name": "stderr",
     "output_type": "stream",
     "text": [
      "Using pad_token, but it is not set yet.\n"
     ]
    },
    {
     "name": "stdout",
     "output_type": "stream",
     "text": [
      "Loaded pretrained model stanford-gpt2-medium-d into HookedTransformer\n"
     ]
    }
   ],
   "source": [
    "#Step 1: get model internal activities\n",
    "torch.cuda.empty_cache()\n",
    "\n",
    "step_size = 20\n",
    "token = next(iter(pile_dataloader))['tokens'].to(device)\n",
    "model_to_tokens_trained_on = []\n",
    "\n",
    "all_models = [\n",
    "    \"attn-only-1l\", \"attn-only-2l\", \"attn-only-3l\", \"attn-only-4l\",\n",
    "    \"stanford-gpt2-small-a\", \"stanford-gpt2-small-c\", \"stanford-gpt2-small-d\", \n",
    "    \"stanford-gpt2-medium-a\", \"stanford-gpt2-medium-c\", \"stanford-gpt2-medium-d\"]\n",
    "\n",
    "selected_columns = random.sample(range(model_stan.cfg.d_vocab), model_attn.cfg.d_vocab)\n",
    "\n",
    "model_logits = torch.zeros(((step_size-1)*len(all_models), token.size()[1], model_attn.cfg.d_vocab), device=\"cpu\")\n",
    "for mc, model_name in enumerate(all_models):\n",
    "    print(model_name)\n",
    "    checkpoints = get_checkpoint_labels(get_official_model_name(model_name))[0]\n",
    "    checkpoints = log_scaled_integers_v2(len(checkpoints), step_size, 10)\n",
    "    if model_name == \"stanford-gpt2-medium-d\":\n",
    "        checkpoints[0] = 1\n",
    "    tokens_trained_on = []\n",
    "    \n",
    "    for idx, index in enumerate(checkpoints):\n",
    "        print(f\"Checkpoint {index}\")\n",
    "        model_for_this_checkpoint = HookedTransformer.from_pretrained(model_name, checkpoint_index=index, device=device)\n",
    "        tokens_trained_on.append(model_for_this_checkpoint.cfg.checkpoint_value)\n",
    "\n",
    "        if 'stanford' in model_name:\n",
    "            model_logits[mc*len(checkpoints)+idx, :, :] += model_for_this_checkpoint(token, return_type=\"logits\").mean(dim=0, keepdim=True).squeeze()[:, selected_columns].cpu()\n",
    "        else:\n",
    "            model_logits[mc*len(checkpoints)+idx, :, :] += model_for_this_checkpoint(token, return_type=\"logits\").mean(dim=0, keepdim=True).squeeze().cpu()\n",
    "\n",
    "\n",
    "        del model_for_this_checkpoint\n",
    "        torch.cuda.empty_cache()\n",
    "    model_to_tokens_trained_on.append(tokens_trained_on)\n",
    "    del tokens_trained_on\n",
    "    torch.cuda.empty_cache()\n",
    "\n",
    "\n",
    "# torch.save(model_logits, 'attn+stan_model_logits.pth')"
   ]
  },
  {
   "cell_type": "code",
   "execution_count": 11,
   "metadata": {},
   "outputs": [],
   "source": [
    "def bhattacharyya_distance_matrix(mat):\n",
    "    \"\"\"\n",
    "    Takes a collection of models and computes the pairwise\n",
    "    Bhattacharyya distance between all pairs of models.\n",
    "    \"\"\"\n",
    "    mat = np.sqrt(mat) + 1e-9\n",
    "    mat1 = np.transpose(mat, axes=[1, 0, 2])\n",
    "    mat2 = np.transpose(mat, axes=[1, 2, 0])\n",
    "\n",
    "    Dmat = 0.0\n",
    "    dim = len(mat1)\n",
    "    batch = 500\n",
    "\n",
    "    # Compute distance in batches to avoid OOM\n",
    "    for i in range(0, dim, batch):\n",
    "        Dmat += (np.log(mat1[i:i+batch] @ mat2[i:i+batch])).sum(0)\n",
    "    Dmat = Dmat / dim\n",
    "    return Dmat\n",
    "\n",
    "def compute_inpca(Dmat):\n",
    "    \"\"\"\n",
    "    Compute the InPCA embedding from a pairwise distance matrix\n",
    "    \"\"\"\n",
    "    # Double center matrix\n",
    "    ldim = Dmat.shape[0]\n",
    "    Pmat = np.eye(ldim) - 1.0/ ldim\n",
    "    Wmat = (Pmat @ Dmat @ Pmat) / 2\n",
    "\n",
    "    eigenval, eigenvec = np.linalg.eigh(Wmat)\n",
    "\n",
    "    #Sort eigen-values by magnitude\n",
    "    sort_ind = np.argsort(-np.abs(eigenval))\n",
    "    eigenval = eigenval[sort_ind]\n",
    "    eigenvec = eigenvec[:, sort_ind]\n",
    "    sqrt_eigenval = np.sqrt(np.abs(eigenval))\n",
    "\n",
    "    # Find projections\n",
    "    projection = eigenvec * sqrt_eigenval.reshape(1, -1)\n",
    "\n",
    "    return eigenval, projection\n",
    "\n",
    "def inpca(model_predictions):\n",
    "    predictions = model_predictions.cpu().numpy()\n",
    "    probabilities = softmax(predictions, axis=2)\n",
    "    distance_matrix = bhattacharyya_distance_matrix(probabilities)\n",
    "    eigenval, embed = compute_inpca(distance_matrix)\n",
    "    # embed = embed.reshape([model_predictions.shape[0]//len(all_models), len(all_models), -1])\n",
    "    return embed"
   ]
  },
  {
   "cell_type": "code",
   "execution_count": 22,
   "metadata": {},
   "outputs": [
    {
     "name": "stdout",
     "output_type": "stream",
     "text": [
      "(190, 190)\n"
     ]
    }
   ],
   "source": [
    "with torch.no_grad():\n",
    "    torch.cuda.empty_cache()\n",
    "pca = inpca(model_logits)\n",
    "print(pca.shape)# (model_numsXcheckpointsXdims)"
   ]
  },
  {
   "cell_type": "code",
   "execution_count": null,
   "metadata": {},
   "outputs": [],
   "source": [
    "\n",
    "pca= pca.reshape([len(all_models), model_logits.shape[0]//len(all_models), -1])\n",
    "for j in range(20):\n",
    "  fig = go.Figure(layout={'title': f'PC {j+1}'})\n",
    "  fig.update_xaxes(title=\"Elapsed Training Tokens\", type='log')\n",
    "  fig.add_vrect(x0=0.2, x1=1, line_width=1, fillcolor=\"gold\", opacity=0.2)\n",
    "  for p, m, t in zip(pca, all_models, model_to_tokens_trained_on):\n",
    "    tokens_trained_on = np.asarray(t)\n",
    "    tokens_trained_on = 100 * (tokens_trained_on / tokens_trained_on[-1])\n",
    "    tokens_trained_on[0] = 1e-4\n",
    "    fig.add_trace(go.Scatter(x=tokens_trained_on, y=p[:,j], name=m, mode='lines+markers'))\n",
    "  fig.show(config=config)\n",
    "  # fig.write_image(f\"stan+attn_ipca_{j+1}_probabilities.png\", scale=5)"
   ]
  },
  {
   "cell_type": "code",
   "execution_count": null,
   "metadata": {},
   "outputs": [],
   "source": [
    "# plot_3d_trajectories(pca[0:4, :, 1:4]).show(config=config)\n",
    "plot_3d_trajectories(pca[:, :, :3]).show(config=config)"
   ]
  },
  {
   "cell_type": "code",
   "execution_count": null,
   "metadata": {},
   "outputs": [],
   "source": [
    "with torch.no_grad():\n",
    "    torch.cuda.empty_cache()\n",
    "context_pca = inpca(context_logit[::50, :,:])\n",
    "print(context_pca.shape)# (model_numsXcheckpointsXdims)\n",
    "\n",
    "fig = go.Figure(layout={'title': f'PC {j+1}'})\n",
    "fig.update_xaxes(title=\"Elapsed Context time\")\n",
    "for i, p in enumerate(context_pca):\n",
    "  fig.add_trace(go.Scatter(x=np.arange(0,p.shape[0]), y=p, name=f'PC {i+1}', mode='lines+markers'))\n",
    "fig.add_trace(go.Scatter(x=np.arange(0,context_pca[0].shape[0]), y=context_pca.mean(axis=-1), name='mean', mode='lines+markers'))\n",
    "fig.show(config=config)"
   ]
  },
  {
   "attachments": {},
   "cell_type": "markdown",
   "metadata": {},
   "source": [
    "# Activity Analysis"
   ]
  },
  {
   "cell_type": "code",
   "execution_count": 6,
   "metadata": {},
   "outputs": [
    {
     "name": "stdout",
     "output_type": "stream",
     "text": [
      "Loaded pretrained model attn-only-1l into HookedTransformer\n",
      "10000\n"
     ]
    }
   ],
   "source": [
    "model_attn = HookedTransformer.from_pretrained(\"attn-only-1l\", device='cpu')\n",
    "# model_stan = HookedTransformer.from_pretrained(\n",
    "#     \"stanford-gpt2-small-a\", device='cpu')\n",
    "pile_batch_size = 1\n",
    "pile_dataloader = evals.make_pile_data_loader(\n",
    "    tokenizer=model_attn.tokenizer, batch_size=pile_batch_size)"
   ]
  },
  {
   "cell_type": "code",
   "execution_count": 8,
   "metadata": {},
   "outputs": [
    {
     "name": "stderr",
     "output_type": "stream",
     "text": [
      "Using pad_token, but it is not set yet.\n"
     ]
    },
    {
     "name": "stdout",
     "output_type": "stream",
     "text": [
      "Loaded pretrained model stanford-gpt2-medium-a into HookedTransformer\n"
     ]
    }
   ],
   "source": [
    "model_for_this_checkpoint = HookedTransformer.from_pretrained(\"stanford-gpt2-medium-a\", checkpoint_index=0, device=device)"
   ]
  },
  {
   "cell_type": "code",
   "execution_count": 21,
   "metadata": {},
   "outputs": [
    {
     "name": "stdout",
     "output_type": "stream",
     "text": [
      "stanford-gpt2-medium-a\n",
      "0\n"
     ]
    },
    {
     "name": "stderr",
     "output_type": "stream",
     "text": [
      "Using pad_token, but it is not set yet.\n"
     ]
    },
    {
     "name": "stdout",
     "output_type": "stream",
     "text": [
      "Loaded pretrained model stanford-gpt2-medium-a into HookedTransformer\n",
      "3\n"
     ]
    },
    {
     "name": "stderr",
     "output_type": "stream",
     "text": [
      "Using pad_token, but it is not set yet.\n"
     ]
    },
    {
     "name": "stdout",
     "output_type": "stream",
     "text": [
      "Loaded pretrained model stanford-gpt2-medium-a into HookedTransformer\n",
      "4\n"
     ]
    },
    {
     "name": "stderr",
     "output_type": "stream",
     "text": [
      "Using pad_token, but it is not set yet.\n"
     ]
    },
    {
     "name": "stdout",
     "output_type": "stream",
     "text": [
      "Loaded pretrained model stanford-gpt2-medium-a into HookedTransformer\n",
      "6\n"
     ]
    },
    {
     "name": "stderr",
     "output_type": "stream",
     "text": [
      "Using pad_token, but it is not set yet.\n"
     ]
    },
    {
     "name": "stdout",
     "output_type": "stream",
     "text": [
      "Loaded pretrained model stanford-gpt2-medium-a into HookedTransformer\n",
      "8\n"
     ]
    },
    {
     "name": "stderr",
     "output_type": "stream",
     "text": [
      "Using pad_token, but it is not set yet.\n"
     ]
    },
    {
     "name": "stdout",
     "output_type": "stream",
     "text": [
      "Loaded pretrained model stanford-gpt2-medium-a into HookedTransformer\n",
      "11\n"
     ]
    },
    {
     "name": "stderr",
     "output_type": "stream",
     "text": [
      "Using pad_token, but it is not set yet.\n"
     ]
    },
    {
     "name": "stdout",
     "output_type": "stream",
     "text": [
      "Loaded pretrained model stanford-gpt2-medium-a into HookedTransformer\n",
      "15\n"
     ]
    },
    {
     "name": "stderr",
     "output_type": "stream",
     "text": [
      "Using pad_token, but it is not set yet.\n"
     ]
    },
    {
     "name": "stdout",
     "output_type": "stream",
     "text": [
      "Loaded pretrained model stanford-gpt2-medium-a into HookedTransformer\n",
      "21\n"
     ]
    },
    {
     "name": "stderr",
     "output_type": "stream",
     "text": [
      "Using pad_token, but it is not set yet.\n"
     ]
    },
    {
     "name": "stdout",
     "output_type": "stream",
     "text": [
      "Loaded pretrained model stanford-gpt2-medium-a into HookedTransformer\n",
      "29\n"
     ]
    },
    {
     "name": "stderr",
     "output_type": "stream",
     "text": [
      "Using pad_token, but it is not set yet.\n"
     ]
    },
    {
     "name": "stdout",
     "output_type": "stream",
     "text": [
      "Loaded pretrained model stanford-gpt2-medium-a into HookedTransformer\n",
      "40\n"
     ]
    },
    {
     "name": "stderr",
     "output_type": "stream",
     "text": [
      "Using pad_token, but it is not set yet.\n"
     ]
    },
    {
     "name": "stdout",
     "output_type": "stream",
     "text": [
      "Loaded pretrained model stanford-gpt2-medium-a into HookedTransformer\n",
      "54\n"
     ]
    },
    {
     "name": "stderr",
     "output_type": "stream",
     "text": [
      "Using pad_token, but it is not set yet.\n"
     ]
    },
    {
     "name": "stdout",
     "output_type": "stream",
     "text": [
      "Loaded pretrained model stanford-gpt2-medium-a into HookedTransformer\n",
      "73\n"
     ]
    },
    {
     "name": "stderr",
     "output_type": "stream",
     "text": [
      "Using pad_token, but it is not set yet.\n"
     ]
    },
    {
     "name": "stdout",
     "output_type": "stream",
     "text": [
      "Loaded pretrained model stanford-gpt2-medium-a into HookedTransformer\n",
      "99\n"
     ]
    },
    {
     "name": "stderr",
     "output_type": "stream",
     "text": [
      "Using pad_token, but it is not set yet.\n"
     ]
    },
    {
     "name": "stdout",
     "output_type": "stream",
     "text": [
      "Loaded pretrained model stanford-gpt2-medium-a into HookedTransformer\n",
      "134\n"
     ]
    },
    {
     "name": "stderr",
     "output_type": "stream",
     "text": [
      "Using pad_token, but it is not set yet.\n"
     ]
    },
    {
     "name": "stdout",
     "output_type": "stream",
     "text": [
      "Loaded pretrained model stanford-gpt2-medium-a into HookedTransformer\n",
      "182\n"
     ]
    },
    {
     "name": "stderr",
     "output_type": "stream",
     "text": [
      "Using pad_token, but it is not set yet.\n"
     ]
    },
    {
     "name": "stdout",
     "output_type": "stream",
     "text": [
      "Loaded pretrained model stanford-gpt2-medium-a into HookedTransformer\n",
      "246\n"
     ]
    },
    {
     "name": "stderr",
     "output_type": "stream",
     "text": [
      "Using pad_token, but it is not set yet.\n"
     ]
    },
    {
     "name": "stdout",
     "output_type": "stream",
     "text": [
      "Loaded pretrained model stanford-gpt2-medium-a into HookedTransformer\n",
      "333\n"
     ]
    },
    {
     "name": "stderr",
     "output_type": "stream",
     "text": [
      "Using pad_token, but it is not set yet.\n"
     ]
    },
    {
     "name": "stdout",
     "output_type": "stream",
     "text": [
      "Loaded pretrained model stanford-gpt2-medium-a into HookedTransformer\n",
      "450\n"
     ]
    },
    {
     "name": "stderr",
     "output_type": "stream",
     "text": [
      "Using pad_token, but it is not set yet.\n"
     ]
    },
    {
     "name": "stdout",
     "output_type": "stream",
     "text": [
      "Loaded pretrained model stanford-gpt2-medium-a into HookedTransformer\n",
      "-1\n"
     ]
    },
    {
     "name": "stderr",
     "output_type": "stream",
     "text": [
      "Using pad_token, but it is not set yet.\n"
     ]
    },
    {
     "name": "stdout",
     "output_type": "stream",
     "text": [
      "Loaded pretrained model stanford-gpt2-medium-a into HookedTransformer\n",
      "stanford-gpt2-medium-c\n",
      "0\n"
     ]
    },
    {
     "name": "stderr",
     "output_type": "stream",
     "text": [
      "Using pad_token, but it is not set yet.\n"
     ]
    },
    {
     "name": "stdout",
     "output_type": "stream",
     "text": [
      "Loaded pretrained model stanford-gpt2-medium-c into HookedTransformer\n",
      "3\n"
     ]
    },
    {
     "name": "stderr",
     "output_type": "stream",
     "text": [
      "Using pad_token, but it is not set yet.\n"
     ]
    },
    {
     "name": "stdout",
     "output_type": "stream",
     "text": [
      "Loaded pretrained model stanford-gpt2-medium-c into HookedTransformer\n",
      "4\n"
     ]
    },
    {
     "name": "stderr",
     "output_type": "stream",
     "text": [
      "Using pad_token, but it is not set yet.\n"
     ]
    },
    {
     "name": "stdout",
     "output_type": "stream",
     "text": [
      "Loaded pretrained model stanford-gpt2-medium-c into HookedTransformer\n",
      "6\n"
     ]
    },
    {
     "name": "stderr",
     "output_type": "stream",
     "text": [
      "Using pad_token, but it is not set yet.\n"
     ]
    },
    {
     "name": "stdout",
     "output_type": "stream",
     "text": [
      "Loaded pretrained model stanford-gpt2-medium-c into HookedTransformer\n",
      "8\n"
     ]
    },
    {
     "name": "stderr",
     "output_type": "stream",
     "text": [
      "Using pad_token, but it is not set yet.\n"
     ]
    },
    {
     "name": "stdout",
     "output_type": "stream",
     "text": [
      "Loaded pretrained model stanford-gpt2-medium-c into HookedTransformer\n",
      "11\n"
     ]
    },
    {
     "name": "stderr",
     "output_type": "stream",
     "text": [
      "Using pad_token, but it is not set yet.\n"
     ]
    },
    {
     "name": "stdout",
     "output_type": "stream",
     "text": [
      "Loaded pretrained model stanford-gpt2-medium-c into HookedTransformer\n",
      "15\n"
     ]
    },
    {
     "name": "stderr",
     "output_type": "stream",
     "text": [
      "Using pad_token, but it is not set yet.\n"
     ]
    },
    {
     "name": "stdout",
     "output_type": "stream",
     "text": [
      "Loaded pretrained model stanford-gpt2-medium-c into HookedTransformer\n",
      "21\n"
     ]
    },
    {
     "name": "stderr",
     "output_type": "stream",
     "text": [
      "Using pad_token, but it is not set yet.\n"
     ]
    },
    {
     "name": "stdout",
     "output_type": "stream",
     "text": [
      "Loaded pretrained model stanford-gpt2-medium-c into HookedTransformer\n",
      "29\n"
     ]
    },
    {
     "name": "stderr",
     "output_type": "stream",
     "text": [
      "Using pad_token, but it is not set yet.\n"
     ]
    },
    {
     "name": "stdout",
     "output_type": "stream",
     "text": [
      "Loaded pretrained model stanford-gpt2-medium-c into HookedTransformer\n",
      "40\n"
     ]
    },
    {
     "name": "stderr",
     "output_type": "stream",
     "text": [
      "Using pad_token, but it is not set yet.\n"
     ]
    },
    {
     "name": "stdout",
     "output_type": "stream",
     "text": [
      "Loaded pretrained model stanford-gpt2-medium-c into HookedTransformer\n",
      "54\n"
     ]
    },
    {
     "name": "stderr",
     "output_type": "stream",
     "text": [
      "Using pad_token, but it is not set yet.\n"
     ]
    },
    {
     "name": "stdout",
     "output_type": "stream",
     "text": [
      "Loaded pretrained model stanford-gpt2-medium-c into HookedTransformer\n",
      "73\n"
     ]
    },
    {
     "name": "stderr",
     "output_type": "stream",
     "text": [
      "Using pad_token, but it is not set yet.\n"
     ]
    },
    {
     "name": "stdout",
     "output_type": "stream",
     "text": [
      "Loaded pretrained model stanford-gpt2-medium-c into HookedTransformer\n",
      "99\n"
     ]
    },
    {
     "name": "stderr",
     "output_type": "stream",
     "text": [
      "Using pad_token, but it is not set yet.\n"
     ]
    },
    {
     "name": "stdout",
     "output_type": "stream",
     "text": [
      "Loaded pretrained model stanford-gpt2-medium-c into HookedTransformer\n",
      "134\n"
     ]
    },
    {
     "name": "stderr",
     "output_type": "stream",
     "text": [
      "Using pad_token, but it is not set yet.\n"
     ]
    },
    {
     "name": "stdout",
     "output_type": "stream",
     "text": [
      "Loaded pretrained model stanford-gpt2-medium-c into HookedTransformer\n",
      "182\n"
     ]
    },
    {
     "name": "stderr",
     "output_type": "stream",
     "text": [
      "Using pad_token, but it is not set yet.\n"
     ]
    },
    {
     "name": "stdout",
     "output_type": "stream",
     "text": [
      "Loaded pretrained model stanford-gpt2-medium-c into HookedTransformer\n",
      "246\n"
     ]
    },
    {
     "name": "stderr",
     "output_type": "stream",
     "text": [
      "Using pad_token, but it is not set yet.\n"
     ]
    },
    {
     "name": "stdout",
     "output_type": "stream",
     "text": [
      "Loaded pretrained model stanford-gpt2-medium-c into HookedTransformer\n",
      "333\n"
     ]
    },
    {
     "name": "stderr",
     "output_type": "stream",
     "text": [
      "Using pad_token, but it is not set yet.\n"
     ]
    },
    {
     "name": "stdout",
     "output_type": "stream",
     "text": [
      "Loaded pretrained model stanford-gpt2-medium-c into HookedTransformer\n",
      "450\n"
     ]
    },
    {
     "name": "stderr",
     "output_type": "stream",
     "text": [
      "Using pad_token, but it is not set yet.\n"
     ]
    },
    {
     "name": "stdout",
     "output_type": "stream",
     "text": [
      "Loaded pretrained model stanford-gpt2-medium-c into HookedTransformer\n",
      "-1\n"
     ]
    },
    {
     "name": "stderr",
     "output_type": "stream",
     "text": [
      "Using pad_token, but it is not set yet.\n"
     ]
    },
    {
     "name": "stdout",
     "output_type": "stream",
     "text": [
      "Loaded pretrained model stanford-gpt2-medium-c into HookedTransformer\n",
      "stanford-gpt2-medium-d\n",
      "1\n"
     ]
    },
    {
     "name": "stderr",
     "output_type": "stream",
     "text": [
      "Using pad_token, but it is not set yet.\n"
     ]
    },
    {
     "name": "stdout",
     "output_type": "stream",
     "text": [
      "Loaded pretrained model stanford-gpt2-medium-d into HookedTransformer\n",
      "3\n"
     ]
    },
    {
     "name": "stderr",
     "output_type": "stream",
     "text": [
      "Using pad_token, but it is not set yet.\n"
     ]
    },
    {
     "name": "stdout",
     "output_type": "stream",
     "text": [
      "Loaded pretrained model stanford-gpt2-medium-d into HookedTransformer\n",
      "4\n"
     ]
    },
    {
     "name": "stderr",
     "output_type": "stream",
     "text": [
      "Using pad_token, but it is not set yet.\n"
     ]
    },
    {
     "name": "stdout",
     "output_type": "stream",
     "text": [
      "Loaded pretrained model stanford-gpt2-medium-d into HookedTransformer\n",
      "6\n"
     ]
    },
    {
     "name": "stderr",
     "output_type": "stream",
     "text": [
      "Using pad_token, but it is not set yet.\n"
     ]
    },
    {
     "name": "stdout",
     "output_type": "stream",
     "text": [
      "Loaded pretrained model stanford-gpt2-medium-d into HookedTransformer\n",
      "8\n"
     ]
    },
    {
     "name": "stderr",
     "output_type": "stream",
     "text": [
      "Using pad_token, but it is not set yet.\n"
     ]
    },
    {
     "name": "stdout",
     "output_type": "stream",
     "text": [
      "Loaded pretrained model stanford-gpt2-medium-d into HookedTransformer\n",
      "11\n"
     ]
    },
    {
     "name": "stderr",
     "output_type": "stream",
     "text": [
      "Using pad_token, but it is not set yet.\n"
     ]
    },
    {
     "name": "stdout",
     "output_type": "stream",
     "text": [
      "Loaded pretrained model stanford-gpt2-medium-d into HookedTransformer\n",
      "15\n"
     ]
    },
    {
     "name": "stderr",
     "output_type": "stream",
     "text": [
      "Using pad_token, but it is not set yet.\n"
     ]
    },
    {
     "name": "stdout",
     "output_type": "stream",
     "text": [
      "Loaded pretrained model stanford-gpt2-medium-d into HookedTransformer\n",
      "21\n"
     ]
    },
    {
     "name": "stderr",
     "output_type": "stream",
     "text": [
      "Using pad_token, but it is not set yet.\n"
     ]
    },
    {
     "name": "stdout",
     "output_type": "stream",
     "text": [
      "Loaded pretrained model stanford-gpt2-medium-d into HookedTransformer\n",
      "29\n"
     ]
    },
    {
     "name": "stderr",
     "output_type": "stream",
     "text": [
      "Using pad_token, but it is not set yet.\n"
     ]
    },
    {
     "name": "stdout",
     "output_type": "stream",
     "text": [
      "Loaded pretrained model stanford-gpt2-medium-d into HookedTransformer\n",
      "40\n"
     ]
    },
    {
     "name": "stderr",
     "output_type": "stream",
     "text": [
      "Using pad_token, but it is not set yet.\n"
     ]
    },
    {
     "name": "stdout",
     "output_type": "stream",
     "text": [
      "Loaded pretrained model stanford-gpt2-medium-d into HookedTransformer\n",
      "54\n"
     ]
    },
    {
     "name": "stderr",
     "output_type": "stream",
     "text": [
      "Using pad_token, but it is not set yet.\n"
     ]
    },
    {
     "name": "stdout",
     "output_type": "stream",
     "text": [
      "Loaded pretrained model stanford-gpt2-medium-d into HookedTransformer\n",
      "73\n"
     ]
    },
    {
     "name": "stderr",
     "output_type": "stream",
     "text": [
      "Using pad_token, but it is not set yet.\n"
     ]
    },
    {
     "name": "stdout",
     "output_type": "stream",
     "text": [
      "Loaded pretrained model stanford-gpt2-medium-d into HookedTransformer\n",
      "99\n"
     ]
    },
    {
     "name": "stderr",
     "output_type": "stream",
     "text": [
      "Using pad_token, but it is not set yet.\n"
     ]
    },
    {
     "name": "stdout",
     "output_type": "stream",
     "text": [
      "Loaded pretrained model stanford-gpt2-medium-d into HookedTransformer\n",
      "134\n"
     ]
    },
    {
     "name": "stderr",
     "output_type": "stream",
     "text": [
      "Using pad_token, but it is not set yet.\n"
     ]
    },
    {
     "name": "stdout",
     "output_type": "stream",
     "text": [
      "Loaded pretrained model stanford-gpt2-medium-d into HookedTransformer\n",
      "182\n"
     ]
    },
    {
     "name": "stderr",
     "output_type": "stream",
     "text": [
      "Using pad_token, but it is not set yet.\n"
     ]
    },
    {
     "name": "stdout",
     "output_type": "stream",
     "text": [
      "Loaded pretrained model stanford-gpt2-medium-d into HookedTransformer\n",
      "246\n"
     ]
    },
    {
     "name": "stderr",
     "output_type": "stream",
     "text": [
      "Using pad_token, but it is not set yet.\n"
     ]
    },
    {
     "name": "stdout",
     "output_type": "stream",
     "text": [
      "Loaded pretrained model stanford-gpt2-medium-d into HookedTransformer\n",
      "333\n"
     ]
    },
    {
     "name": "stderr",
     "output_type": "stream",
     "text": [
      "Using pad_token, but it is not set yet.\n"
     ]
    },
    {
     "name": "stdout",
     "output_type": "stream",
     "text": [
      "Loaded pretrained model stanford-gpt2-medium-d into HookedTransformer\n",
      "450\n"
     ]
    },
    {
     "name": "stderr",
     "output_type": "stream",
     "text": [
      "Using pad_token, but it is not set yet.\n"
     ]
    },
    {
     "name": "stdout",
     "output_type": "stream",
     "text": [
      "Loaded pretrained model stanford-gpt2-medium-d into HookedTransformer\n",
      "-1\n"
     ]
    },
    {
     "name": "stderr",
     "output_type": "stream",
     "text": [
      "Using pad_token, but it is not set yet.\n"
     ]
    },
    {
     "name": "stdout",
     "output_type": "stream",
     "text": [
      "Loaded pretrained model stanford-gpt2-medium-d into HookedTransformer\n"
     ]
    }
   ],
   "source": [
    "def activity_eff_dim(cache, layers):\n",
    "    eff_dim = []\n",
    "    for i in range(layers):\n",
    "        # Move the tensor to CPU after getting it from the cache\n",
    "        neuron = cache[f\"blocks.{i}.hook_attn_out\"].mean(dim=0, keepdim=False)\n",
    "        \n",
    "        q = torch.linalg.svdvals(neuron.T @ neuron)\n",
    "        temp_eff_dim = (q).sum()**2 / (q**2).sum()\n",
    "        eff_dim.append(temp_eff_dim.item())\n",
    "        \n",
    "        # Delete temporary variables to free up memory\n",
    "        del neuron, q, temp_eff_dim\n",
    "        torch.cuda.empty_cache()\n",
    "    # Clear the cache dictionary\n",
    "    return np.asarray(eff_dim)\n",
    "\n",
    "torch.cuda.empty_cache()\n",
    "step_size = 20\n",
    "\n",
    "# model_to_in_context_learning_scores = {}\n",
    "# model_to_effective_dimension = {}\n",
    "# model_to_tokens_trained_on = {}\n",
    "\n",
    "all_models = [\n",
    "    # \"attn-only-1l\", \"attn-only-2l\", \"attn-only-3l\", \"attn-only-4l\",]\n",
    "    # \"stanford-gpt2-small-a\", \"stanford-gpt2-small-c\", \"stanford-gpt2-small-d\",]\n",
    "    \"stanford-gpt2-medium-a\", \"stanford-gpt2-medium-c\", \"stanford-gpt2-medium-d\"]\n",
    "\n",
    "for model_name in all_models:\n",
    "    print(model_name)\n",
    "    checkpoints = get_checkpoint_labels(get_official_model_name(model_name))[0]\n",
    "    checkpoints = log_scaled_integers_v2(len(checkpoints), step_size, 10)\n",
    "    \n",
    "    if model_name == \"stanford-gpt2-medium-d\":\n",
    "        checkpoints[0] = 1\n",
    "        \n",
    "    tokens_trained_on = []\n",
    "    effective_dimension = []\n",
    "\n",
    "    for index in checkpoints:\n",
    "        print(index)\n",
    "        model_for_this_checkpoint = HookedTransformer.from_pretrained(model_name, checkpoint_index=index, device=device)\n",
    "        layers = model_for_this_checkpoint.cfg.n_layers\n",
    "\n",
    "        tokens_seen_for_this_checkpoint = model_for_this_checkpoint.cfg.checkpoint_value\n",
    "        tokens_trained_on.append(tokens_seen_for_this_checkpoint)\n",
    "\n",
    "        effective_dimension_for_this_checkpoint = np.zeros(model_for_this_checkpoint.cfg.n_layers)\n",
    "        num_batches = 20 // pile_batch_size\n",
    "        \n",
    "        for i, x in enumerate(pile_dataloader):\n",
    "            tokens = x['tokens'].to(device)\n",
    "            loss, cache = model_for_this_checkpoint.run_with_cache(tokens, return_type='loss')\n",
    "\n",
    "            effective_dimension_for_this_checkpoint += activity_eff_dim(cache, layers)\n",
    "            \n",
    "            # Delete the tokens tensor to free up GPU memory.\n",
    "            del tokens, cache, loss\n",
    "            \n",
    "            if i == num_batches:\n",
    "                break\n",
    "\n",
    "        del model_for_this_checkpoint\n",
    "        torch.cuda.empty_cache()\n",
    "        gc.collect()\n",
    "                \n",
    "        effective_dimension.append(effective_dimension_for_this_checkpoint/num_batches)\n",
    "        \n",
    "        # Delete the model to free up GPU memory.\n",
    "\n",
    "    model_to_tokens_trained_on[model_name] = tokens_trained_on\n",
    "    model_to_effective_dimension[model_name] = effective_dimension\n",
    "    \n",
    "    torch.cuda.empty_cache()\n"
   ]
  },
  {
   "cell_type": "code",
   "execution_count": 25,
   "metadata": {},
   "outputs": [
    {
     "data": {
      "text/html": [
       "<div>                            <div id=\"fbcd82ec-fc56-43f0-a5f4-827727c56050\" class=\"plotly-graph-div\" style=\"height:525px; width:100%;\"></div>            <script type=\"text/javascript\">                require([\"plotly\"], function(Plotly) {                    window.PLOTLYENV=window.PLOTLYENV || {};                                    if (document.getElementById(\"fbcd82ec-fc56-43f0-a5f4-827727c56050\")) {                    Plotly.newPlot(                        \"fbcd82ec-fc56-43f0-a5f4-827727c56050\",                        [{\"line\":{\"color\":\"#1f77b4\"},\"marker\":{\"color\":\"#1f77b4\"},\"mode\":\"lines+markers\",\"name\":\"attn-only-1l\",\"x\":[0.01,0.021664299641335483,0.032496449462003224,0.04212502708037455,0.05175360469874588,0.07221433213778494,0.09267505957682401,0.20340370218809425,0.35505379967744266,0.5572539296632405,0.8605541246419373,1.617601039886383,3.436198637556267,5.455792793009652,8.28418746840623,18.18356883229425,39.39532532556628,66.66706785740077,100.0],\"y\":[1.0,0.9266287724137122,0.7757849253309572,0.6484825062460428,0.5385464538107085,0.4649555954929455,0.4712815945380351,1.1322905352594586,1.7284747806902885,1.9806193764850377,2.4990990465009655,3.9049469822023113,2.4210296485395935,1.8106260690749496,1.4977050038810098,1.244026519304531,1.1528890441439381,1.209284617834077,1.376213314998268],\"type\":\"scatter\"},{\"fill\":\"toself\",\"fillcolor\":\"rgba(31, 119, 180, 0.1)\",\"line\":{\"color\":\"rgba(255,255,255,0)\"},\"name\":\"attn-only-1l - Variance\",\"showlegend\":false,\"x\":[0.01,0.021664299641335483,0.032496449462003224,0.04212502708037455,0.05175360469874588,0.07221433213778494,0.09267505957682401,0.20340370218809425,0.35505379967744266,0.5572539296632405,0.8605541246419373,1.617601039886383,3.436198637556267,5.455792793009652,8.28418746840623,18.18356883229425,39.39532532556628,66.66706785740077,100.0,100.0,66.66706785740077,39.39532532556628,18.18356883229425,8.28418746840623,5.455792793009652,3.436198637556267,1.617601039886383,0.8605541246419373,0.5572539296632405,0.35505379967744266,0.20340370218809425,0.09267505957682401,0.07221433213778494,0.05175360469874588,0.04212502708037455,0.032496449462003224,0.021664299641335483,0.01],\"y\":[1.0,0.9266287724137122,0.7757849253309572,0.6484825062460428,0.5385464538107085,0.4649555954929455,0.4712815945380351,1.1322905352594586,1.7284747806902885,1.9806193764850377,2.4990990465009655,3.9049469822023113,2.4210296485395935,1.8106260690749496,1.4977050038810098,1.244026519304531,1.1528890441439381,1.209284617834077,1.376213314998268,1.376213314998268,1.209284617834077,1.1528890441439381,1.244026519304531,1.4977050038810098,1.8106260690749496,2.4210296485395935,3.9049469822023113,2.4990990465009655,1.9806193764850377,1.7284747806902885,1.1322905352594586,0.4712815945380351,0.4649555954929455,0.5385464538107085,0.6484825062460428,0.7757849253309572,0.9266287724137122,1.0],\"type\":\"scatter\"},{\"line\":{\"color\":\"#ff7f0e\"},\"marker\":{\"color\":\"#ff7f0e\"},\"mode\":\"lines+markers\",\"name\":\"attn-only-2l\",\"x\":[0.01,0.021664299641335483,0.032496449462003224,0.04212502708037455,0.05175360469874588,0.07221433213778494,0.09267505957682401,0.20340370218809425,0.35505379967744266,0.5572539296632405,0.8605541246419373,1.617601039886383,3.436198637556267,5.455792793009652,8.28418746840623,18.18356883229425,39.39532532556628,66.66706785740077,100.0],\"y\":[1.0,0.9546660350627822,0.8550964066903952,0.75220662973559,0.6901588156449021,0.6554209653801959,0.6586075357247132,1.2164011968706685,1.9931753705962727,3.1290676748365422,3.0949853718151354,3.987070464191307,5.417026279799947,4.5117690180205,4.540907305538235,3.364695889078501,2.9648727462231137,3.200070827824409,3.501888267810837],\"type\":\"scatter\"},{\"fill\":\"toself\",\"fillcolor\":\"rgba(255, 127, 14, 0.1)\",\"line\":{\"color\":\"rgba(255,255,255,0)\"},\"name\":\"attn-only-2l - Variance\",\"showlegend\":false,\"x\":[0.01,0.021664299641335483,0.032496449462003224,0.04212502708037455,0.05175360469874588,0.07221433213778494,0.09267505957682401,0.20340370218809425,0.35505379967744266,0.5572539296632405,0.8605541246419373,1.617601039886383,3.436198637556267,5.455792793009652,8.28418746840623,18.18356883229425,39.39532532556628,66.66706785740077,100.0,100.0,66.66706785740077,39.39532532556628,18.18356883229425,8.28418746840623,5.455792793009652,3.436198637556267,1.617601039886383,0.8605541246419373,0.5572539296632405,0.35505379967744266,0.20340370218809425,0.09267505957682401,0.07221433213778494,0.05175360469874588,0.04212502708037455,0.032496449462003224,0.021664299641335483,0.01],\"y\":[1.0,0.948895622364232,0.8356192471662954,0.7089568705505801,0.6293320461178121,0.5831298196042077,0.5891659666068665,1.1189180654727635,1.8584029642496644,2.9709022004512917,3.008957548162958,3.2787066938286427,4.729844226894763,3.8684705410793674,3.4570739378727393,2.5592166851318736,2.5368548307973664,2.874834606395944,3.2736478936437647,3.7301286419779096,3.5253070492528744,3.392890661648861,4.170175093025128,5.624740673203732,5.155067494961632,6.10420833270513,4.6954342345539715,3.181013195467313,3.2872331492217928,2.127947776942881,1.3138843282685735,0.7280491048425599,0.7277121111561841,0.7509855851719921,0.7954563889206,0.874573566214495,0.9604364477613325,1.0],\"type\":\"scatter\"},{\"line\":{\"color\":\"#2ca02c\"},\"marker\":{\"color\":\"#2ca02c\"},\"mode\":\"lines+markers\",\"name\":\"attn-only-3l\",\"x\":[0.01,0.021664299641335483,0.032496449462003224,0.04212502708037455,0.05175360469874588,0.07221433213778494,0.09267505957682401,0.20340370218809425,0.35505379967744266,0.5572539296632405,0.8605541246419373,1.617601039886383,3.436198637556267,5.455792793009652,8.28418746840623,18.18356883229425,39.39532532556628,66.66706785740077,100.0],\"y\":[1.0,0.9552406934835966,0.8643851549121021,0.8036053114890246,0.7736191141892762,0.74735043094917,0.7583029482880388,1.2639531501287131,2.1778419726069314,3.3138173875301824,3.6525559907518947,5.368856087245756,5.377121746019866,4.848964968971554,4.51688102281438,4.038861313599914,4.051296174918353,4.236372218616047,4.3076696478294565],\"type\":\"scatter\"},{\"fill\":\"toself\",\"fillcolor\":\"rgba(44, 160, 44, 0.1)\",\"line\":{\"color\":\"rgba(255,255,255,0)\"},\"name\":\"attn-only-3l - Variance\",\"showlegend\":false,\"x\":[0.01,0.021664299641335483,0.032496449462003224,0.04212502708037455,0.05175360469874588,0.07221433213778494,0.09267505957682401,0.20340370218809425,0.35505379967744266,0.5572539296632405,0.8605541246419373,1.617601039886383,3.436198637556267,5.455792793009652,8.28418746840623,18.18356883229425,39.39532532556628,66.66706785740077,100.0,100.0,66.66706785740077,39.39532532556628,18.18356883229425,8.28418746840623,5.455792793009652,3.436198637556267,1.617601039886383,0.8605541246419373,0.5572539296632405,0.35505379967744266,0.20340370218809425,0.09267505957682401,0.07221433213778494,0.05175360469874588,0.04212502708037455,0.032496449462003224,0.021664299641335483,0.01],\"y\":[1.0,0.9526835680777431,0.8513658073198682,0.7728096059641312,0.7313123903906968,0.6929139346588649,0.7127374003504332,1.193382395168886,2.096638847851308,3.122736455146846,3.4747352894959342,4.481957596718427,3.8012425032747226,3.4576557380495316,3.2849649343893126,3.114682620010292,3.2880499109080428,3.4672509245893743,3.5557516465850165,5.0595876490738965,5.005493512642721,4.8145424389286635,4.9630400071895355,5.748797111239448,6.240274199893577,6.95300098876501,6.255754577773084,3.8303766920078552,3.5048983199135186,2.259045097362555,1.3345239050885402,0.8038684962256444,0.8017869272394751,0.8159258379878556,0.834401017013918,0.877404502504336,0.9577978188894501,1.0],\"type\":\"scatter\"},{\"line\":{\"color\":\"#d62728\"},\"marker\":{\"color\":\"#d62728\"},\"mode\":\"lines+markers\",\"name\":\"attn-only-4l\",\"x\":[0.01,0.021664299641335483,0.032496449462003224,0.04212502708037455,0.05175360469874588,0.07221433213778494,0.09267505957682401,0.20340370218809425,0.35505379967744266,0.5572539296632405,0.8605541246419373,1.617601039886383,3.436198637556267,5.455792793009652,8.28418746840623,18.18356883229425,39.39532532556628,66.66706785740077,100.0],\"y\":[1.0,0.925210321097409,0.8475110388170896,0.8078451230346875,0.7915411537788201,0.7711846501230425,0.7708063477603018,1.3077486497388717,2.658954987278676,3.377860606340735,4.036894368644576,4.2093500072293,3.696535552325912,3.2860713788709375,3.1306188809776088,3.271283038632774,4.2035277115146,5.3618172713971655,5.838462232400639],\"type\":\"scatter\"},{\"fill\":\"toself\",\"fillcolor\":\"rgba(214, 39, 40, 0.1)\",\"line\":{\"color\":\"rgba(255,255,255,0)\"},\"name\":\"attn-only-4l - Variance\",\"showlegend\":false,\"x\":[0.01,0.021664299641335483,0.032496449462003224,0.04212502708037455,0.05175360469874588,0.07221433213778494,0.09267505957682401,0.20340370218809425,0.35505379967744266,0.5572539296632405,0.8605541246419373,1.617601039886383,3.436198637556267,5.455792793009652,8.28418746840623,18.18356883229425,39.39532532556628,66.66706785740077,100.0,100.0,66.66706785740077,39.39532532556628,18.18356883229425,8.28418746840623,5.455792793009652,3.436198637556267,1.617601039886383,0.8605541246419373,0.5572539296632405,0.35505379967744266,0.20340370218809425,0.09267505957682401,0.07221433213778494,0.05175360469874588,0.04212502708037455,0.032496449462003224,0.021664299641335483,0.01],\"y\":[1.0,0.9181133196825302,0.8210551487078145,0.7671786802983022,0.744783453955794,0.7128815305609173,0.7153090000353837,1.1993155051615243,2.493327333393015,3.0515274747355057,3.434761482665426,3.314408212814012,2.904906666034159,2.7117870542874423,2.670518371541212,2.763495920446049,3.296258723983583,4.087950775531543,4.500771002915715,7.176153461885563,6.635683767262788,5.1107966990456175,3.7790701568194986,3.5907193904140056,3.8603557034544327,4.488164438617665,5.104291801644589,4.639027254623727,3.7041937379459644,2.8245826411643375,1.4161817943162192,0.8263036954852199,0.8294877696851677,0.8382988536018461,0.8485115657710728,0.8739669289263646,0.9323073225122878,1.0],\"type\":\"scatter\"},{\"line\":{\"color\":\"#9467bd\"},\"marker\":{\"color\":\"#9467bd\"},\"mode\":\"lines+markers\",\"name\":\"stanford-gpt2-small-a\",\"x\":[0.01,0.0075,0.01,0.015,0.02,0.0375,0.08750000000000001,0.1625,0.2625,0.4,0.65,1.125,1.775,2.65,3.85,9.5,31.25,60.5,100.0],\"y\":[1.0,0.9030197949696165,0.9073589507951644,0.8746389806975104,0.8676928423382669,0.955718369044375,1.9426125456728125,3.049758762302245,6.094638281514215,7.016795130392584,7.458577402500899,5.701944125582474,6.108648504814287,5.053300626490066,6.367493337313537,7.3545559033079995,7.613972981183711,6.509587472232,5.712000868017619],\"type\":\"scatter\"},{\"fill\":\"toself\",\"fillcolor\":\"rgba(148, 103, 189, 0.1)\",\"line\":{\"color\":\"rgba(255,255,255,0)\"},\"name\":\"stanford-gpt2-small-a - Variance\",\"showlegend\":false,\"x\":[0.01,0.0075,0.01,0.015,0.02,0.0375,0.08750000000000001,0.1625,0.2625,0.4,0.65,1.125,1.775,2.65,3.85,9.5,31.25,60.5,100.0,100.0,60.5,31.25,9.5,3.85,2.65,1.775,1.125,0.65,0.4,0.2625,0.1625,0.08750000000000001,0.0375,0.02,0.015,0.01,0.0075,0.01],\"y\":[1.0,0.8865446907960453,0.8880081814805005,0.8342166426223014,0.8108690673836074,0.8955224318559792,1.456243550677689,2.0254453665488406,3.400863560236271,4.103363839357492,4.184848563255848,3.5508292603806577,3.851678913848676,3.2791214952607586,4.1056921992752695,4.923029603404281,5.070743629528863,4.65162730638535,4.13731829770047,7.2866834383347685,8.36754763807865,10.157202332838558,9.786082203211718,8.629294475351804,6.827479757719374,8.365618095779897,7.853058990784291,10.73230624174595,9.930226421427676,8.78841300279216,4.07407215805565,2.428981540667936,1.015914306232771,0.9245166172929264,0.9150613187727195,0.9267097201098282,0.9194948991431877,1.0],\"type\":\"scatter\"},{\"line\":{\"color\":\"#8c564b\"},\"marker\":{\"color\":\"#8c564b\"},\"mode\":\"lines+markers\",\"name\":\"stanford-gpt2-small-c\",\"x\":[0.01,0.0075,0.01,0.015,0.02,0.0375,0.08750000000000001,0.1625,0.2625,0.4,0.65,1.125,1.775,2.65,3.85,9.5,31.25,60.5,100.0],\"y\":[1.0,0.9018205815204282,0.9066569685797202,0.8876761329864343,0.8701127771293503,0.9052832053641106,1.8839086899345328,2.9357012512870555,6.416237824167685,7.095709274819426,7.298360194314074,5.777524298636344,7.2116085019549745,6.813146877363572,7.178565964989982,6.941677184110618,6.888412765419812,6.2347237589127715,6.188074949664369],\"type\":\"scatter\"},{\"fill\":\"toself\",\"fillcolor\":\"rgba(140, 86, 75, 0.1)\",\"line\":{\"color\":\"rgba(255,255,255,0)\"},\"name\":\"stanford-gpt2-small-c - Variance\",\"showlegend\":false,\"x\":[0.01,0.0075,0.01,0.015,0.02,0.0375,0.08750000000000001,0.1625,0.2625,0.4,0.65,1.125,1.775,2.65,3.85,9.5,31.25,60.5,100.0,100.0,60.5,31.25,9.5,3.85,2.65,1.775,1.125,0.65,0.4,0.2625,0.1625,0.08750000000000001,0.0375,0.02,0.015,0.01,0.0075,0.01],\"y\":[1.0,0.8855310126416852,0.8853523751826425,0.8567413598693272,0.8140650477658182,0.8449075400763165,1.4705232207695529,2.1510476646880274,4.2171183658597435,4.318025649639733,4.5814573131553935,3.5423307605055308,4.243868139947644,4.145983945962307,4.4856585709533725,4.64144208779188,5.010062803938062,4.37995412231663,4.1710610439052145,8.205088855423522,8.089493395508914,8.766762726901561,9.241912280429355,9.871473359026592,9.480309808764837,10.179348863962305,8.012717836767157,10.015263075472754,9.87339289999912,8.615357282475626,3.7203548378860836,2.2972941590995126,0.9656588706519046,0.9261605064928824,0.9186109061035415,0.9279615619767979,0.9181101503991712,1.0],\"type\":\"scatter\"},{\"line\":{\"color\":\"#e377c2\"},\"marker\":{\"color\":\"#e377c2\"},\"mode\":\"lines+markers\",\"name\":\"stanford-gpt2-small-d\",\"x\":[0.01,0.0075,0.01,0.015,0.02,0.0375,0.08750000000000001,0.1625,0.2625,0.4,0.65,1.125,1.775,2.65,3.85,9.5,31.25,60.5,100.0],\"y\":[1.0,0.8995241656577413,0.9056160281931588,0.8708582487984629,0.8661495603949168,0.9139577173512315,1.5839530473100212,3.1713888443899285,5.960838903191772,7.651970413976904,7.480551336121494,5.564163894135603,5.586703930063844,6.368802572387016,6.699056359768697,7.151636958581317,6.870253758631499,5.678759324707042,5.336442709984343],\"type\":\"scatter\"},{\"fill\":\"toself\",\"fillcolor\":\"rgba(227, 119, 194, 0.1)\",\"line\":{\"color\":\"rgba(255,255,255,0)\"},\"name\":\"stanford-gpt2-small-d - Variance\",\"showlegend\":false,\"x\":[0.01,0.0075,0.01,0.015,0.02,0.0375,0.08750000000000001,0.1625,0.2625,0.4,0.65,1.125,1.775,2.65,3.85,9.5,31.25,60.5,100.0,100.0,60.5,31.25,9.5,3.85,2.65,1.775,1.125,0.65,0.4,0.2625,0.1625,0.08750000000000001,0.0375,0.02,0.015,0.01,0.0075,0.01],\"y\":[1.0,0.8858891943117666,0.890521443708438,0.8226255173391558,0.8059237359281839,0.8502934387601395,1.403113378481371,2.368658863954601,3.8114537948995038,4.701335136564328,4.413573782259904,3.61455565246791,3.5886063157866213,4.196644893742144,4.596534122250125,4.95970502768898,4.750549707539673,4.039689585483977,3.8758966317747854,6.796988788193901,7.317829063930107,8.989957809723325,9.343568889473655,8.80157859728727,8.540960251031887,7.584801544341066,7.513772135803295,10.547528889983084,10.60260569138948,8.11022401148404,3.974118824825256,1.7647927161386714,0.9776219959423236,0.9263753848616496,0.9190909802577699,0.9207106126778796,0.913159137003716,1.0],\"type\":\"scatter\"},{\"line\":{\"color\":\"#7f7f7f\"},\"marker\":{\"color\":\"#7f7f7f\"},\"mode\":\"lines+markers\",\"name\":\"stanford-gpt2-medium-c\",\"x\":[0.01,0.0075,0.01,0.015,0.02,0.0375,0.08750000000000001,0.1625,0.2625,0.4,0.65,1.125,1.775,2.65,3.85,9.5,31.25,60.5,100.0],\"y\":[1.0,0.9191872736597605,0.9193854391021198,0.9148894164113813,0.9120730066274877,0.9443841431564989,1.1231027180062556,1.771571865258675,2.4881886302056473,3.9457447417495515,4.99331845029051,4.92323217352839,4.925120080601935,4.5759696130754355,4.822932891517799,5.525290745559313,5.665695018868042,6.0350814297532835,5.968178226438973],\"type\":\"scatter\"},{\"fill\":\"toself\",\"fillcolor\":\"rgba(127, 127, 127, 0.1)\",\"line\":{\"color\":\"rgba(255,255,255,0)\"},\"name\":\"stanford-gpt2-medium-c - Variance\",\"showlegend\":false,\"x\":[0.01,0.0075,0.01,0.015,0.02,0.0375,0.08750000000000001,0.1625,0.2625,0.4,0.65,1.125,1.775,2.65,3.85,9.5,31.25,60.5,100.0,100.0,60.5,31.25,9.5,3.85,2.65,1.775,1.125,0.65,0.4,0.2625,0.1625,0.08750000000000001,0.0375,0.02,0.015,0.01,0.0075,0.01],\"y\":[1.0,0.9055770791307902,0.9070064325822007,0.9086732644378402,0.8912635539320084,0.8959229996276472,1.0392014939101981,1.371320773641621,1.5785712979789746,2.0669834703798227,2.502924719012503,2.6892541073341762,2.8877014028739625,2.8681778108985885,3.0182071872614724,3.2540527997885014,3.5170860729890734,3.908806192745256,3.975562233535758,7.960794219342189,8.16135666676131,7.81430396474701,7.796528691330124,6.627658595774125,6.2837614152522825,6.962538758329907,7.1572102397226045,7.483712181568517,5.82450601311928,3.39780596243232,2.171822956875729,1.207003942102313,0.9928452866853505,0.932882459322967,0.9211055683849224,0.9317644456220389,0.9327974681887308,1.0],\"type\":\"scatter\"},{\"line\":{\"color\":\"#bcbd22\"},\"marker\":{\"color\":\"#bcbd22\"},\"mode\":\"lines+markers\",\"name\":\"stanford-gpt2-medium-d\",\"x\":[0.01,0.0075,0.01,0.015,0.02,0.0375,0.08750000000000001,0.1625,0.2625,0.4,0.65,1.125,1.775,2.65,3.85,9.5,31.25,60.5,100.0],\"y\":[1.0,0.9350970048792115,0.9372893513463129,0.9390015860071513,0.9368996656237384,0.9500315323305489,1.134935028587518,1.9038046271127502,2.443786187338047,3.9611910667933476,5.036037233802708,5.166558115484576,5.314998040058097,4.592743457836505,5.37898676438152,5.647426770743884,5.832365934371805,6.23262948921029,6.472694381791214],\"type\":\"scatter\"},{\"fill\":\"toself\",\"fillcolor\":\"rgba(188, 189, 34, 0.1)\",\"line\":{\"color\":\"rgba(255,255,255,0)\"},\"name\":\"stanford-gpt2-medium-d - Variance\",\"showlegend\":false,\"x\":[0.01,0.0075,0.01,0.015,0.02,0.0375,0.08750000000000001,0.1625,0.2625,0.4,0.65,1.125,1.775,2.65,3.85,9.5,31.25,60.5,100.0,100.0,60.5,31.25,9.5,3.85,2.65,1.775,1.125,0.65,0.4,0.2625,0.1625,0.08750000000000001,0.0375,0.02,0.015,0.01,0.0075,0.01],\"y\":[1.0,0.9257222737806426,0.9164726217367892,0.922016910667927,0.9275554978709325,0.9045860957756532,1.0528108151643778,1.3109514693734414,1.4527650864234571,2.285542916107391,2.7441390900851794,2.9014919219653614,3.1294491297202467,3.0125845156798663,3.395397101272943,3.6275613026625706,3.8511158583839036,3.806185262935886,4.028648475821164,8.916740287761264,8.659073715484695,7.8136160103597065,7.667292238825198,7.362576427490097,6.172902399993144,7.5005469503959485,7.431624309003791,7.327935377520237,5.636839217479304,3.434807288252637,2.496657784852059,1.217059242010658,0.9954769688854447,0.9462438333765443,0.9559862613463757,0.9581060809558365,0.9444717359777804,1.0],\"type\":\"scatter\"}],                        {\"template\":{\"data\":{\"histogram2dcontour\":[{\"type\":\"histogram2dcontour\",\"colorbar\":{\"outlinewidth\":0,\"ticks\":\"\"},\"colorscale\":[[0.0,\"#0d0887\"],[0.1111111111111111,\"#46039f\"],[0.2222222222222222,\"#7201a8\"],[0.3333333333333333,\"#9c179e\"],[0.4444444444444444,\"#bd3786\"],[0.5555555555555556,\"#d8576b\"],[0.6666666666666666,\"#ed7953\"],[0.7777777777777778,\"#fb9f3a\"],[0.8888888888888888,\"#fdca26\"],[1.0,\"#f0f921\"]]}],\"choropleth\":[{\"type\":\"choropleth\",\"colorbar\":{\"outlinewidth\":0,\"ticks\":\"\"}}],\"histogram2d\":[{\"type\":\"histogram2d\",\"colorbar\":{\"outlinewidth\":0,\"ticks\":\"\"},\"colorscale\":[[0.0,\"#0d0887\"],[0.1111111111111111,\"#46039f\"],[0.2222222222222222,\"#7201a8\"],[0.3333333333333333,\"#9c179e\"],[0.4444444444444444,\"#bd3786\"],[0.5555555555555556,\"#d8576b\"],[0.6666666666666666,\"#ed7953\"],[0.7777777777777778,\"#fb9f3a\"],[0.8888888888888888,\"#fdca26\"],[1.0,\"#f0f921\"]]}],\"heatmap\":[{\"type\":\"heatmap\",\"colorbar\":{\"outlinewidth\":0,\"ticks\":\"\"},\"colorscale\":[[0.0,\"#0d0887\"],[0.1111111111111111,\"#46039f\"],[0.2222222222222222,\"#7201a8\"],[0.3333333333333333,\"#9c179e\"],[0.4444444444444444,\"#bd3786\"],[0.5555555555555556,\"#d8576b\"],[0.6666666666666666,\"#ed7953\"],[0.7777777777777778,\"#fb9f3a\"],[0.8888888888888888,\"#fdca26\"],[1.0,\"#f0f921\"]]}],\"heatmapgl\":[{\"type\":\"heatmapgl\",\"colorbar\":{\"outlinewidth\":0,\"ticks\":\"\"},\"colorscale\":[[0.0,\"#0d0887\"],[0.1111111111111111,\"#46039f\"],[0.2222222222222222,\"#7201a8\"],[0.3333333333333333,\"#9c179e\"],[0.4444444444444444,\"#bd3786\"],[0.5555555555555556,\"#d8576b\"],[0.6666666666666666,\"#ed7953\"],[0.7777777777777778,\"#fb9f3a\"],[0.8888888888888888,\"#fdca26\"],[1.0,\"#f0f921\"]]}],\"contourcarpet\":[{\"type\":\"contourcarpet\",\"colorbar\":{\"outlinewidth\":0,\"ticks\":\"\"}}],\"contour\":[{\"type\":\"contour\",\"colorbar\":{\"outlinewidth\":0,\"ticks\":\"\"},\"colorscale\":[[0.0,\"#0d0887\"],[0.1111111111111111,\"#46039f\"],[0.2222222222222222,\"#7201a8\"],[0.3333333333333333,\"#9c179e\"],[0.4444444444444444,\"#bd3786\"],[0.5555555555555556,\"#d8576b\"],[0.6666666666666666,\"#ed7953\"],[0.7777777777777778,\"#fb9f3a\"],[0.8888888888888888,\"#fdca26\"],[1.0,\"#f0f921\"]]}],\"surface\":[{\"type\":\"surface\",\"colorbar\":{\"outlinewidth\":0,\"ticks\":\"\"},\"colorscale\":[[0.0,\"#0d0887\"],[0.1111111111111111,\"#46039f\"],[0.2222222222222222,\"#7201a8\"],[0.3333333333333333,\"#9c179e\"],[0.4444444444444444,\"#bd3786\"],[0.5555555555555556,\"#d8576b\"],[0.6666666666666666,\"#ed7953\"],[0.7777777777777778,\"#fb9f3a\"],[0.8888888888888888,\"#fdca26\"],[1.0,\"#f0f921\"]]}],\"mesh3d\":[{\"type\":\"mesh3d\",\"colorbar\":{\"outlinewidth\":0,\"ticks\":\"\"}}],\"scatter\":[{\"fillpattern\":{\"fillmode\":\"overlay\",\"size\":10,\"solidity\":0.2},\"type\":\"scatter\"}],\"parcoords\":[{\"type\":\"parcoords\",\"line\":{\"colorbar\":{\"outlinewidth\":0,\"ticks\":\"\"}}}],\"scatterpolargl\":[{\"type\":\"scatterpolargl\",\"marker\":{\"colorbar\":{\"outlinewidth\":0,\"ticks\":\"\"}}}],\"bar\":[{\"error_x\":{\"color\":\"#2a3f5f\"},\"error_y\":{\"color\":\"#2a3f5f\"},\"marker\":{\"line\":{\"color\":\"#E5ECF6\",\"width\":0.5},\"pattern\":{\"fillmode\":\"overlay\",\"size\":10,\"solidity\":0.2}},\"type\":\"bar\"}],\"scattergeo\":[{\"type\":\"scattergeo\",\"marker\":{\"colorbar\":{\"outlinewidth\":0,\"ticks\":\"\"}}}],\"scatterpolar\":[{\"type\":\"scatterpolar\",\"marker\":{\"colorbar\":{\"outlinewidth\":0,\"ticks\":\"\"}}}],\"histogram\":[{\"marker\":{\"pattern\":{\"fillmode\":\"overlay\",\"size\":10,\"solidity\":0.2}},\"type\":\"histogram\"}],\"scattergl\":[{\"type\":\"scattergl\",\"marker\":{\"colorbar\":{\"outlinewidth\":0,\"ticks\":\"\"}}}],\"scatter3d\":[{\"type\":\"scatter3d\",\"line\":{\"colorbar\":{\"outlinewidth\":0,\"ticks\":\"\"}},\"marker\":{\"colorbar\":{\"outlinewidth\":0,\"ticks\":\"\"}}}],\"scattermapbox\":[{\"type\":\"scattermapbox\",\"marker\":{\"colorbar\":{\"outlinewidth\":0,\"ticks\":\"\"}}}],\"scatterternary\":[{\"type\":\"scatterternary\",\"marker\":{\"colorbar\":{\"outlinewidth\":0,\"ticks\":\"\"}}}],\"scattercarpet\":[{\"type\":\"scattercarpet\",\"marker\":{\"colorbar\":{\"outlinewidth\":0,\"ticks\":\"\"}}}],\"carpet\":[{\"aaxis\":{\"endlinecolor\":\"#2a3f5f\",\"gridcolor\":\"white\",\"linecolor\":\"white\",\"minorgridcolor\":\"white\",\"startlinecolor\":\"#2a3f5f\"},\"baxis\":{\"endlinecolor\":\"#2a3f5f\",\"gridcolor\":\"white\",\"linecolor\":\"white\",\"minorgridcolor\":\"white\",\"startlinecolor\":\"#2a3f5f\"},\"type\":\"carpet\"}],\"table\":[{\"cells\":{\"fill\":{\"color\":\"#EBF0F8\"},\"line\":{\"color\":\"white\"}},\"header\":{\"fill\":{\"color\":\"#C8D4E3\"},\"line\":{\"color\":\"white\"}},\"type\":\"table\"}],\"barpolar\":[{\"marker\":{\"line\":{\"color\":\"#E5ECF6\",\"width\":0.5},\"pattern\":{\"fillmode\":\"overlay\",\"size\":10,\"solidity\":0.2}},\"type\":\"barpolar\"}],\"pie\":[{\"automargin\":true,\"type\":\"pie\"}]},\"layout\":{\"autotypenumbers\":\"strict\",\"colorway\":[\"#636efa\",\"#EF553B\",\"#00cc96\",\"#ab63fa\",\"#FFA15A\",\"#19d3f3\",\"#FF6692\",\"#B6E880\",\"#FF97FF\",\"#FECB52\"],\"font\":{\"color\":\"#2a3f5f\"},\"hovermode\":\"closest\",\"hoverlabel\":{\"align\":\"left\"},\"paper_bgcolor\":\"white\",\"plot_bgcolor\":\"#E5ECF6\",\"polar\":{\"bgcolor\":\"#E5ECF6\",\"angularaxis\":{\"gridcolor\":\"white\",\"linecolor\":\"white\",\"ticks\":\"\"},\"radialaxis\":{\"gridcolor\":\"white\",\"linecolor\":\"white\",\"ticks\":\"\"}},\"ternary\":{\"bgcolor\":\"#E5ECF6\",\"aaxis\":{\"gridcolor\":\"white\",\"linecolor\":\"white\",\"ticks\":\"\"},\"baxis\":{\"gridcolor\":\"white\",\"linecolor\":\"white\",\"ticks\":\"\"},\"caxis\":{\"gridcolor\":\"white\",\"linecolor\":\"white\",\"ticks\":\"\"}},\"coloraxis\":{\"colorbar\":{\"outlinewidth\":0,\"ticks\":\"\"}},\"colorscale\":{\"sequential\":[[0.0,\"#0d0887\"],[0.1111111111111111,\"#46039f\"],[0.2222222222222222,\"#7201a8\"],[0.3333333333333333,\"#9c179e\"],[0.4444444444444444,\"#bd3786\"],[0.5555555555555556,\"#d8576b\"],[0.6666666666666666,\"#ed7953\"],[0.7777777777777778,\"#fb9f3a\"],[0.8888888888888888,\"#fdca26\"],[1.0,\"#f0f921\"]],\"sequentialminus\":[[0.0,\"#0d0887\"],[0.1111111111111111,\"#46039f\"],[0.2222222222222222,\"#7201a8\"],[0.3333333333333333,\"#9c179e\"],[0.4444444444444444,\"#bd3786\"],[0.5555555555555556,\"#d8576b\"],[0.6666666666666666,\"#ed7953\"],[0.7777777777777778,\"#fb9f3a\"],[0.8888888888888888,\"#fdca26\"],[1.0,\"#f0f921\"]],\"diverging\":[[0,\"#8e0152\"],[0.1,\"#c51b7d\"],[0.2,\"#de77ae\"],[0.3,\"#f1b6da\"],[0.4,\"#fde0ef\"],[0.5,\"#f7f7f7\"],[0.6,\"#e6f5d0\"],[0.7,\"#b8e186\"],[0.8,\"#7fbc41\"],[0.9,\"#4d9221\"],[1,\"#276419\"]]},\"xaxis\":{\"gridcolor\":\"white\",\"linecolor\":\"white\",\"ticks\":\"\",\"title\":{\"standoff\":15},\"zerolinecolor\":\"white\",\"automargin\":true,\"zerolinewidth\":2},\"yaxis\":{\"gridcolor\":\"white\",\"linecolor\":\"white\",\"ticks\":\"\",\"title\":{\"standoff\":15},\"zerolinecolor\":\"white\",\"automargin\":true,\"zerolinewidth\":2},\"scene\":{\"xaxis\":{\"backgroundcolor\":\"#E5ECF6\",\"gridcolor\":\"white\",\"linecolor\":\"white\",\"showbackground\":true,\"ticks\":\"\",\"zerolinecolor\":\"white\",\"gridwidth\":2},\"yaxis\":{\"backgroundcolor\":\"#E5ECF6\",\"gridcolor\":\"white\",\"linecolor\":\"white\",\"showbackground\":true,\"ticks\":\"\",\"zerolinecolor\":\"white\",\"gridwidth\":2},\"zaxis\":{\"backgroundcolor\":\"#E5ECF6\",\"gridcolor\":\"white\",\"linecolor\":\"white\",\"showbackground\":true,\"ticks\":\"\",\"zerolinecolor\":\"white\",\"gridwidth\":2}},\"shapedefaults\":{\"line\":{\"color\":\"#2a3f5f\"}},\"annotationdefaults\":{\"arrowcolor\":\"#2a3f5f\",\"arrowhead\":0,\"arrowwidth\":1},\"geo\":{\"bgcolor\":\"white\",\"landcolor\":\"#E5ECF6\",\"subunitcolor\":\"white\",\"showland\":true,\"showlakes\":true,\"lakecolor\":\"white\"},\"title\":{\"x\":0.05},\"mapbox\":{\"style\":\"light\"}}},\"title\":{\"text\":\"Activity dim\"},\"shapes\":[{\"fillcolor\":\"gold\",\"line\":{\"width\":1},\"opacity\":0.2,\"type\":\"rect\",\"x0\":0.5,\"x1\":1.8,\"xref\":\"x\",\"y0\":0,\"y1\":1,\"yref\":\"y domain\"}],\"xaxis\":{\"title\":{\"text\":\"% token in training set\"},\"type\":\"log\"},\"yaxis\":{\"title\":{\"text\":\"Effective dimensionality\"},\"type\":\"log\"}},                        {\"toImageButtonOptions\": {\"format\": \"png\", \"filename\": \"custom_image\", \"height\": 500, \"width\": 900, \"scale\": 10}, \"responsive\": true}                    ).then(function(){\n",
       "                            \n",
       "var gd = document.getElementById('fbcd82ec-fc56-43f0-a5f4-827727c56050');\n",
       "var x = new MutationObserver(function (mutations, observer) {{\n",
       "        var display = window.getComputedStyle(gd).display;\n",
       "        if (!display || display === 'none') {{\n",
       "            console.log([gd, 'removed!']);\n",
       "            Plotly.purge(gd);\n",
       "            observer.disconnect();\n",
       "        }}\n",
       "}});\n",
       "\n",
       "// Listen for the removal of the full notebook cells\n",
       "var notebookContainer = gd.closest('#notebook-container');\n",
       "if (notebookContainer) {{\n",
       "    x.observe(notebookContainer, {childList: true});\n",
       "}}\n",
       "\n",
       "// Listen for the clearing of the current output cell\n",
       "var outputEl = gd.closest('.output');\n",
       "if (outputEl) {{\n",
       "    x.observe(outputEl, {childList: true});\n",
       "}}\n",
       "\n",
       "                        })                };                });            </script>        </div>"
      ]
     },
     "metadata": {},
     "output_type": "display_data"
    }
   ],
   "source": [
    "fig = plot_effective_dimensionality(model_to_effective_dimension, model_to_tokens_trained_on, \"Activity dim\")\n",
    "fig.add_vrect(x0=0.5, x1=1.8, line_width=1, fillcolor=\"gold\", opacity=0.2)\n",
    "fig.update_xaxes(title=\"% token in training set\", type='log')\n",
    "fig.update_yaxes(title=\"Effective dimensionality\", type='log')\n",
    "fig.show(config=config)\n",
    "fig.write_image(\"activity_dim.png\", scale=6)"
   ]
  },
  {
   "attachments": {},
   "cell_type": "markdown",
   "metadata": {},
   "source": [
    "# Spectral learning"
   ]
  },
  {
   "cell_type": "code",
   "execution_count": null,
   "metadata": {},
   "outputs": [],
   "source": [
    "torch.cuda.empty_cache()\n",
    "step_size = 20\n",
    "\n",
    "model_spectrum = {}\n",
    "model_to_tokens_trained_on = {}\n",
    "\n",
    "all_models = [\n",
    "    \"attn-only-1l\", \"attn-only-2l\", \"attn-only-3l\", \"attn-only-4l\",\n",
    "    \"stanford-gpt2-small-a\", \"stanford-gpt2-small-c\", \"stanford-gpt2-small-d\",\n",
    "    \"stanford-gpt2-medium-a\", \"stanford-gpt2-medium-c\", \"stanford-gpt2-medium-d\"]\n",
    "\n",
    "for model_name in all_models:\n",
    "    print(model_name)\n",
    "    checkpoints = get_checkpoint_labels(get_official_model_name(model_name))[0]\n",
    "    checkpoints = log_scaled_integers_v2(len(checkpoints), step_size, 10)\n",
    "    \n",
    "    if model_name == \"stanford-gpt2-medium-d\":\n",
    "        checkpoints[0] = 1\n",
    "        \n",
    "    tokens_trained_on = []\n",
    "    spectrum = []\n",
    "\n",
    "    # Only compute and store the necessary components of the SVD\n",
    "    final_model = HookedTransformer.from_pretrained(model_name, checkpoint_index=-1, device='cpu')\n",
    "    # choose QK or OV here\n",
    "    U, s, V = final_model.QK.svd()\n",
    "    V_inv = torch.linalg.pinv(V)\n",
    "    U_inv = torch.linalg.pinv(U)\n",
    "\n",
    "    # Move the final model to CPU and free up GPU memory\n",
    "    del final_model\n",
    "    torch.cuda.empty_cache()\n",
    "\n",
    "    for index in checkpoints:\n",
    "        print(index)\n",
    "        model_for_this_checkpoint = HookedTransformer.from_pretrained(model_name, checkpoint_index=index, device='cpu')\n",
    "\n",
    "        M = model_for_this_checkpoint.OV\n",
    "        result_einsum = torch.einsum('ijkl,ijlm,ijmn->ijkn', U_inv, M.AB, V_inv.transpose(-2, -1))\n",
    "        result_diagonals = torch.einsum('ijkl->ijk', result_einsum).cpu().numpy()\n",
    "\n",
    "        tokens_seen_for_this_checkpoint = model_for_this_checkpoint.cfg.checkpoint_value\n",
    "        tokens_trained_on.append(tokens_seen_for_this_checkpoint)\n",
    "        spectrum.append(result_diagonals)\n",
    "\n",
    "        # Move the model for this checkpoint to CPU and free up GPU memory\n",
    "        del model_for_this_checkpoint, result_einsum, result_diagonals, M\n",
    "        torch.cuda.empty_cache()\n",
    "    \n",
    "    del U, s, V, V_inv, U_inv \n",
    "    torch.cuda.empty_cache()\n",
    "    gc.collect()\n",
    "\n",
    "    model_to_tokens_trained_on[model_name] = tokens_trained_on\n",
    "    model_spectrum[model_name] = spectrum\n"
   ]
  },
  {
   "cell_type": "code",
   "execution_count": 36,
   "metadata": {},
   "outputs": [
    {
     "data": {
      "text/html": [
       "<div>                            <div id=\"b8551058-9774-461f-b67c-3b4d5e9c2764\" class=\"plotly-graph-div\" style=\"height:525px; width:100%;\"></div>            <script type=\"text/javascript\">                require([\"plotly\"], function(Plotly) {                    window.PLOTLYENV=window.PLOTLYENV || {};                                    if (document.getElementById(\"b8551058-9774-461f-b67c-3b4d5e9c2764\")) {                    Plotly.newPlot(                        \"b8551058-9774-461f-b67c-3b4d5e9c2764\",                        [{\"opacity\":0.8,\"x\":[0.01,0.021664299641335483,0.032496449462003224,0.04212502708037455,0.05175360469874588,0.07221433213778494,0.09267505957682401,0.20340370218809425,0.35505379967744266,0.5572539296632405,0.8605541246419373,1.617601039886383,3.436198637556267,5.455792793009652,8.28418746840623,18.18356883229425,39.39532532556628,66.66706785740077,100.0],\"y\":[-0.005233201198279858,-0.005226721055805683,-0.005134862381964922,-0.004924744833260775,-0.00458943285048008,-0.003860215190798044,-0.0039100670255720615,-0.007048799190670252,-0.010125911794602871,-0.010584359057247639,-0.00791026372462511,-0.012296468019485474,-0.011249225586652756,-0.005417625419795513,0.006315330043435097,0.015507468953728676,-0.0009013870730996132,-0.018130099400877953,-0.025619782507419586],\"type\":\"scatter\"},{\"opacity\":0.8,\"x\":[0.01,0.021664299641335483,0.032496449462003224,0.04212502708037455,0.05175360469874588,0.07221433213778494,0.09267505957682401,0.20340370218809425,0.35505379967744266,0.5572539296632405,0.8605541246419373,1.617601039886383,3.436198637556267,5.455792793009652,8.28418746840623,18.18356883229425,39.39532532556628,66.66706785740077,100.0],\"y\":[0.004419306758791208,0.004317185841500759,0.004163074307143688,0.00396074540913105,0.0037329995539039373,0.003167190123349428,0.0029212282970547676,0.005345356650650501,0.00875577051192522,0.008819123730063438,0.007752078585326672,0.004770237952470779,-0.002229951787739992,-0.010440724901854992,-0.022965669631958008,-0.04863312095403671,-0.06906186044216156,-0.08388053625822067,-0.07820461690425873],\"type\":\"scatter\"},{\"opacity\":0.8,\"x\":[0.01,0.021664299641335483,0.032496449462003224,0.04212502708037455,0.05175360469874588,0.07221433213778494,0.09267505957682401,0.20340370218809425,0.35505379967744266,0.5572539296632405,0.8605541246419373,1.617601039886383,3.436198637556267,5.455792793009652,8.28418746840623,18.18356883229425,39.39532532556628,66.66706785740077,100.0],\"y\":[0.003316230606287718,0.0033419576939195395,0.003361362498253584,0.003345678560435772,0.003365915035828948,0.0036332025192677975,0.0038870929274708033,0.0064218901097774506,0.006483929231762886,0.008273832499980927,0.012922652065753937,0.009607909247279167,0.009329243563115597,0.010207097977399826,0.019600074738264084,0.014872601255774498,-0.0014468259178102016,-0.019208427518606186,-0.021879293024539948],\"type\":\"scatter\"},{\"opacity\":0.8,\"x\":[0.01,0.021664299641335483,0.032496449462003224,0.04212502708037455,0.05175360469874588,0.07221433213778494,0.09267505957682401,0.20340370218809425,0.35505379967744266,0.5572539296632405,0.8605541246419373,1.617601039886383,3.436198637556267,5.455792793009652,8.28418746840623,18.18356883229425,39.39532532556628,66.66706785740077,100.0],\"y\":[0.011427480727434158,0.01134624145925045,0.011222884058952332,0.011070428416132927,0.010935822501778603,0.01080307550728321,0.010758203454315662,0.009681529365479946,0.010865527205169201,0.015067248605191708,0.007778428494930267,-0.002818778157234192,-0.006048265378922224,-0.011809170246124268,-0.013711433857679367,-0.006882049608975649,0.013639097101986408,0.030467992648482323,0.036888815462589264],\"type\":\"scatter\"},{\"opacity\":0.8,\"x\":[0.01,0.021664299641335483,0.032496449462003224,0.04212502708037455,0.05175360469874588,0.07221433213778494,0.09267505957682401,0.20340370218809425,0.35505379967744266,0.5572539296632405,0.8605541246419373,1.617601039886383,3.436198637556267,5.455792793009652,8.28418746840623,18.18356883229425,39.39532532556628,66.66706785740077,100.0],\"y\":[-0.007120480295270681,-0.00724110659211874,-0.007410879712551832,-0.007592416368424892,-0.00776006281375885,-0.00807533971965313,-0.008179633878171444,-0.00930879544466734,-0.006360141094774008,-0.002860300475731492,-0.0024472312070429325,-0.004298836924135685,0.00468432204797864,0.006676137447357178,0.018696218729019165,0.017988083884119987,-0.004902048036456108,-0.02947423793375492,-0.03794274106621742],\"type\":\"scatter\"},{\"opacity\":0.8,\"x\":[0.01,0.021664299641335483,0.032496449462003224,0.04212502708037455,0.05175360469874588,0.07221433213778494,0.09267505957682401,0.20340370218809425,0.35505379967744266,0.5572539296632405,0.8605541246419373,1.617601039886383,3.436198637556267,5.455792793009652,8.28418746840623,18.18356883229425,39.39532532556628,66.66706785740077,100.0],\"y\":[0.0005047006998211145,0.000629061833024025,0.000791774713434279,0.0009997973684221506,0.0012248293496668339,0.0014519995311275125,0.001613509375602007,0.00028297898825258017,0.001245414954610169,0.004833161365240812,0.0017860933439806104,-0.0026621632277965546,-0.008815181441605091,-0.019896354526281357,-0.021822132170200348,-0.02482713758945465,-0.0223840344697237,0.0010537621565163136,-0.003320803865790367],\"type\":\"scatter\"},{\"opacity\":0.8,\"x\":[0.01,0.021664299641335483,0.032496449462003224,0.04212502708037455,0.05175360469874588,0.07221433213778494,0.09267505957682401,0.20340370218809425,0.35505379967744266,0.5572539296632405,0.8605541246419373,1.617601039886383,3.436198637556267,5.455792793009652,8.28418746840623,18.18356883229425,39.39532532556628,66.66706785740077,100.0],\"y\":[-0.005926932208240032,-0.005905313417315483,-0.005870688706636429,-0.005867687985301018,-0.00593950878828764,-0.006194121204316616,-0.006044028326869011,-0.006053296849131584,-0.01135231088846922,-0.01100822351872921,-0.007483542896807194,-0.00986001081764698,-0.006901546847075224,-0.004655549302697182,-0.004371006041765213,-0.004251008853316307,0.0021701259538531303,-0.007770952768623829,-0.013166983611881733],\"type\":\"scatter\"},{\"opacity\":0.8,\"x\":[0.01,0.021664299641335483,0.032496449462003224,0.04212502708037455,0.05175360469874588,0.07221433213778494,0.09267505957682401,0.20340370218809425,0.35505379967744266,0.5572539296632405,0.8605541246419373,1.617601039886383,3.436198637556267,5.455792793009652,8.28418746840623,18.18356883229425,39.39532532556628,66.66706785740077,100.0],\"y\":[0.0030329949222505093,0.0030020768754184246,0.00298174936324358,0.0029715108685195446,0.002926821121945977,0.0028367526829242706,0.002583406399935484,0.0034782334696501493,0.0057281493209302425,0.009682033210992813,0.010122185572981834,0.009764349088072777,0.011005133390426636,0.016635874286293983,0.014470817521214485,0.002803982701152563,-0.058131784200668335,-0.0814802348613739,-0.08727709949016571],\"type\":\"scatter\"},{\"opacity\":0.8,\"x\":[0.01,0.021664299641335483,0.032496449462003224,0.04212502708037455,0.05175360469874588,0.07221433213778494,0.09267505957682401,0.20340370218809425,0.35505379967744266,0.5572539296632405,0.8605541246419373,1.617601039886383,3.436198637556267,5.455792793009652,8.28418746840623,18.18356883229425,39.39532532556628,66.66706785740077,100.0],\"y\":[0.005984692834317684,0.006019162945449352,0.006066265050321817,0.006143408827483654,0.006260514259338379,0.006626787595450878,0.006610472686588764,0.006941956467926502,0.006169695407152176,0.0038601895794272423,0.0019174441695213318,0.002025886904448271,0.0018756414065137506,-0.003937812522053719,-0.005932028405368328,-0.02519553154706955,-0.03888958320021629,-0.031511373817920685,-0.03193092718720436],\"type\":\"scatter\"},{\"opacity\":0.8,\"x\":[0.01,0.021664299641335483,0.032496449462003224,0.04212502708037455,0.05175360469874588,0.07221433213778494,0.09267505957682401,0.20340370218809425,0.35505379967744266,0.5572539296632405,0.8605541246419373,1.617601039886383,3.436198637556267,5.455792793009652,8.28418746840623,18.18356883229425,39.39532532556628,66.66706785740077,100.0],\"y\":[-0.0051901014521718025,-0.005244538187980652,-0.005339073948562145,-0.005477468948811293,-0.005652363412082195,-0.005809285677969456,-0.005813158117234707,-0.007586977910250425,-0.005121471825987101,-0.002292968798428774,-0.002825469011440873,-0.006430730689316988,-0.006894162856042385,-0.00358068966306746,-0.016493553295731544,-0.009254150092601776,0.014584612101316452,0.03741540014743805,0.0452711321413517],\"type\":\"scatter\"},{\"opacity\":0.8,\"x\":[0.01,0.021664299641335483,0.032496449462003224,0.04212502708037455,0.05175360469874588,0.07221433213778494,0.09267505957682401,0.20340370218809425,0.35505379967744266,0.5572539296632405,0.8605541246419373,1.617601039886383,3.436198637556267,5.455792793009652,8.28418746840623,18.18356883229425,39.39532532556628,66.66706785740077,100.0],\"y\":[0.0011910712346434593,0.00116543413605541,0.0011481103720143437,0.001142033957876265,0.0011569662019610405,0.0011672490509226918,0.001673491089604795,0.006549681071192026,0.0059859780594706535,0.007208771072328091,0.002930962247774005,-0.0007396810688078403,-0.0029821409843862057,-0.005503225605934858,-0.005231257528066635,-0.005205545574426651,-0.020387090742588043,-0.015879008919000626,-0.02046050876379013],\"type\":\"scatter\"},{\"opacity\":0.8,\"x\":[0.01,0.021664299641335483,0.032496449462003224,0.04212502708037455,0.05175360469874588,0.07221433213778494,0.09267505957682401,0.20340370218809425,0.35505379967744266,0.5572539296632405,0.8605541246419373,1.617601039886383,3.436198637556267,5.455792793009652,8.28418746840623,18.18356883229425,39.39532532556628,66.66706785740077,100.0],\"y\":[-0.0024205397348850965,-0.0023478567600250244,-0.002271033124998212,-0.0022250888869166374,-0.00226116506382823,-0.002605387242510915,-0.002601275220513344,-0.0009437627159059048,-0.0024869858752936125,-0.005168233532458544,-0.0021161246113479137,-0.003420640481635928,0.0070893419906497,0.009265705943107605,0.013336915522813797,0.025460610166192055,0.05062132328748703,0.0482821986079216,0.04681628942489624],\"type\":\"scatter\"},{\"opacity\":0.8,\"x\":[0.01,0.021664299641335483,0.032496449462003224,0.04212502708037455,0.05175360469874588,0.07221433213778494,0.09267505957682401,0.20340370218809425,0.35505379967744266,0.5572539296632405,0.8605541246419373,1.617601039886383,3.436198637556267,5.455792793009652,8.28418746840623,18.18356883229425,39.39532532556628,66.66706785740077,100.0],\"y\":[0.0019828383810818195,0.002109784632921219,0.002273502293974161,0.002458650153130293,0.0026842239312827587,0.0030934661626815796,0.003462000750005245,0.005919317714869976,0.0055199116468429565,0.002520723268389702,0.0017266131471842527,-0.001236430834978819,0.006530938670039177,0.007623100653290749,0.002919306978583336,-0.008454293012619019,-0.016942579299211502,-0.007493325509130955,-0.0021209269762039185],\"type\":\"scatter\"},{\"opacity\":0.8,\"x\":[0.01,0.021664299641335483,0.032496449462003224,0.04212502708037455,0.05175360469874588,0.07221433213778494,0.09267505957682401,0.20340370218809425,0.35505379967744266,0.5572539296632405,0.8605541246419373,1.617601039886383,3.436198637556267,5.455792793009652,8.28418746840623,18.18356883229425,39.39532532556628,66.66706785740077,100.0],\"y\":[-0.000680199358612299,-0.000762802897952497,-0.0008946787565946579,-0.0011084286961704493,-0.0014412489254027605,-0.0021148754749447107,-0.0024539220612496138,-0.0004531714366748929,0.0015924093313515186,-0.0006751735927537084,0.0007115639746189117,-0.004844808019697666,-0.02306872047483921,-0.03125731647014618,-0.03776426240801811,-0.05722206458449364,-0.05742783471941948,-0.05121422931551933,-0.0583883598446846],\"type\":\"scatter\"},{\"opacity\":0.8,\"x\":[0.01,0.021664299641335483,0.032496449462003224,0.04212502708037455,0.05175360469874588,0.07221433213778494,0.09267505957682401,0.20340370218809425,0.35505379967744266,0.5572539296632405,0.8605541246419373,1.617601039886383,3.436198637556267,5.455792793009652,8.28418746840623,18.18356883229425,39.39532532556628,66.66706785740077,100.0],\"y\":[0.007318084128201008,0.007441939786076546,0.007614943198859692,0.007817316800355911,0.008064917288720608,0.008509955368936062,0.00890892930328846,0.014876078814268112,0.012217169627547264,0.010447013191878796,0.011012674309313297,0.01144268549978733,0.015421165153384209,0.016276661306619644,0.026360034942626953,0.0589725635945797,0.09351488202810287,0.12008186429738998,0.12261971086263657],\"type\":\"scatter\"},{\"opacity\":0.8,\"x\":[0.01,0.021664299641335483,0.032496449462003224,0.04212502708037455,0.05175360469874588,0.07221433213778494,0.09267505957682401,0.20340370218809425,0.35505379967744266,0.5572539296632405,0.8605541246419373,1.617601039886383,3.436198637556267,5.455792793009652,8.28418746840623,18.18356883229425,39.39532532556628,66.66706785740077,100.0],\"y\":[-0.011120716109871864,-0.011161815375089645,-0.011234680190682411,-0.011354237794876099,-0.01152697391808033,-0.011821876280009747,-0.01185702346265316,-0.008148463442921638,-0.01013683807104826,-0.012330197729170322,-0.01613631844520569,-0.011441672220826149,-0.0017699655145406723,0.00013704455341212451,-0.0017146789468824863,-0.03523913770914078,-0.08914726972579956,-0.11102435737848282,-0.1224338486790657],\"type\":\"scatter\"},{\"opacity\":0.8,\"x\":[0.01,0.021664299641335483,0.032496449462003224,0.04212502708037455,0.05175360469874588,0.07221433213778494,0.09267505957682401,0.20340370218809425,0.35505379967744266,0.5572539296632405,0.8605541246419373,1.617601039886383,3.436198637556267,5.455792793009652,8.28418746840623,18.18356883229425,39.39532532556628,66.66706785740077,100.0],\"y\":[0.0023232153616845608,0.0025022332556545734,0.0027760015800595284,0.0031786849722266197,0.003725872840732336,0.004948498215526342,0.006044712383300066,0.00818993616849184,0.01262588519603014,0.012079416774213314,0.012941787950694561,0.011843107640743256,0.014128945767879486,0.01831456646323204,0.015843333676457405,0.04248622804880142,0.053267449140548706,0.06470640003681183,0.06383126974105835],\"type\":\"scatter\"},{\"opacity\":0.8,\"x\":[0.01,0.021664299641335483,0.032496449462003224,0.04212502708037455,0.05175360469874588,0.07221433213778494,0.09267505957682401,0.20340370218809425,0.35505379967744266,0.5572539296632405,0.8605541246419373,1.617601039886383,3.436198637556267,5.455792793009652,8.28418746840623,18.18356883229425,39.39532532556628,66.66706785740077,100.0],\"y\":[-0.00856004748493433,-0.00862753763794899,-0.008724416606128216,-0.008812401443719864,-0.00885823741555214,-0.008912631310522556,-0.008979596197605133,-0.008866976946592331,-0.0084034763276577,-0.009407604113221169,-0.00807618536055088,-0.012199927121400833,-0.02282904088497162,-0.02682478353381157,-0.028527358546853065,-0.0325944721698761,-0.07095161825418472,-0.10731682926416397,-0.1265580803155899],\"type\":\"scatter\"},{\"opacity\":0.8,\"x\":[0.01,0.021664299641335483,0.032496449462003224,0.04212502708037455,0.05175360469874588,0.07221433213778494,0.09267505957682401,0.20340370218809425,0.35505379967744266,0.5572539296632405,0.8605541246419373,1.617601039886383,3.436198637556267,5.455792793009652,8.28418746840623,18.18356883229425,39.39532532556628,66.66706785740077,100.0],\"y\":[-0.00818735919892788,-0.008245092816650867,-0.008314660750329494,-0.008357111364603043,-0.008414935320615768,-0.008744756691157818,-0.009090816602110863,-0.012248693034052849,-0.013044956140220165,-0.009492123499512672,-0.006108374334871769,0.0011295541189610958,-0.006648296024650335,-0.015392569825053215,-0.025736071169376373,-0.030671212822198868,-0.05611686781048775,-0.07437784224748611,-0.07488290220499039],\"type\":\"scatter\"},{\"opacity\":0.8,\"x\":[0.01,0.021664299641335483,0.032496449462003224,0.04212502708037455,0.05175360469874588,0.07221433213778494,0.09267505957682401,0.20340370218809425,0.35505379967744266,0.5572539296632405,0.8605541246419373,1.617601039886383,3.436198637556267,5.455792793009652,8.28418746840623,18.18356883229425,39.39532532556628,66.66706785740077,100.0],\"y\":[-0.012413932010531425,-0.012324325740337372,-0.012203254736959934,-0.012052804231643677,-0.011844472959637642,-0.011429034173488617,-0.010798720642924309,-0.008097678422927856,-0.013304646126925945,-0.007613911293447018,-0.003014857182279229,-0.0034238044172525406,0.010627230629324913,0.015333488583564758,0.013083758763968945,-0.0030089160427451134,-0.005990386940538883,-0.010132196359336376,-0.005158842541277409],\"type\":\"scatter\"},{\"opacity\":0.8,\"x\":[0.01,0.021664299641335483,0.032496449462003224,0.04212502708037455,0.05175360469874588,0.07221433213778494,0.09267505957682401,0.20340370218809425,0.35505379967744266,0.5572539296632405,0.8605541246419373,1.617601039886383,3.436198637556267,5.455792793009652,8.28418746840623,18.18356883229425,39.39532532556628,66.66706785740077,100.0],\"y\":[0.0021726484410464764,0.0022903697099536657,0.0024894215166568756,0.0027871322818100452,0.0032241572625935078,0.004104497376829386,0.00415944866836071,0.000608971226029098,0.001365344738587737,0.002205238211899996,0.0032817814499139786,0.00701044499874115,0.0126572260633111,0.013189895078539848,0.008279993198812008,0.009427620097994804,-0.01038702204823494,-0.016615241765975952,-0.014263934455811977],\"type\":\"scatter\"},{\"opacity\":0.8,\"x\":[0.01,0.021664299641335483,0.032496449462003224,0.04212502708037455,0.05175360469874588,0.07221433213778494,0.09267505957682401,0.20340370218809425,0.35505379967744266,0.5572539296632405,0.8605541246419373,1.617601039886383,3.436198637556267,5.455792793009652,8.28418746840623,18.18356883229425,39.39532532556628,66.66706785740077,100.0],\"y\":[-0.007662349380552769,-0.007700943388044834,-0.0077397748827934265,-0.007771819364279509,-0.007816133089363575,-0.008130278438329697,-0.008385042659938335,-0.007666862569749355,-0.008137203752994537,-0.008005093783140182,-0.006378871388733387,-0.01162570808082819,-0.024523340165615082,-0.03660934418439865,-0.04934361204504967,-0.07065209746360779,-0.06810612231492996,-0.08504944294691086,-0.0884133130311966],\"type\":\"scatter\"},{\"opacity\":0.8,\"x\":[0.01,0.021664299641335483,0.032496449462003224,0.04212502708037455,0.05175360469874588,0.07221433213778494,0.09267505957682401,0.20340370218809425,0.35505379967744266,0.5572539296632405,0.8605541246419373,1.617601039886383,3.436198637556267,5.455792793009652,8.28418746840623,18.18356883229425,39.39532532556628,66.66706785740077,100.0],\"y\":[0.009999395348131657,0.009931963868439198,0.009818540886044502,0.009693851694464684,0.009552107192575932,0.009210476651787758,0.009195630438625813,0.006514628417789936,0.005600865930318832,0.005217658821493387,0.005289601162075996,0.003503465559333563,0.0003305587451905012,-0.01409988570958376,-0.013343360275030136,-0.023315319791436195,-0.0026074498891830444,0.013006365858018398,0.022901903837919235],\"type\":\"scatter\"},{\"opacity\":0.8,\"x\":[0.01,0.021664299641335483,0.032496449462003224,0.04212502708037455,0.05175360469874588,0.07221433213778494,0.09267505957682401,0.20340370218809425,0.35505379967744266,0.5572539296632405,0.8605541246419373,1.617601039886383,3.436198637556267,5.455792793009652,8.28418746840623,18.18356883229425,39.39532532556628,66.66706785740077,100.0],\"y\":[-0.002164119854569435,-0.002121654339134693,-0.0020837956108152866,-0.0020713056437671185,-0.002060273662209511,-0.0018206476233899593,-0.001092553953640163,0.003490540198981762,0.0034253476187586784,-0.0007899195188656449,-0.0014925873838365078,-0.0052636791951954365,-0.0054702190682291985,-0.007687263190746307,-0.013096600770950317,-0.026288971304893494,-0.02988729625940323,-0.02794252149760723,-0.014839675277471542],\"type\":\"scatter\"},{\"opacity\":0.8,\"x\":[0.01,0.021664299641335483,0.032496449462003224,0.04212502708037455,0.05175360469874588,0.07221433213778494,0.09267505957682401,0.20340370218809425,0.35505379967744266,0.5572539296632405,0.8605541246419373,1.617601039886383,3.436198637556267,5.455792793009652,8.28418746840623,18.18356883229425,39.39532532556628,66.66706785740077,100.0],\"y\":[-0.001483347499743104,-0.0013483499642461538,-0.001219145953655243,-0.0010860501788556576,-0.0009416108950972557,-0.0006964001804590225,-0.0003904714249074459,0.0021973163820803165,-0.0023019160144031048,-0.0012711257440969348,-0.002308820839971304,-0.0006844782619737089,0.004606572911143303,-0.002378471428528428,-0.013843993656337261,-0.012509185820817947,0.005200808867812157,0.03197309374809265,0.04789278656244278],\"type\":\"scatter\"},{\"opacity\":0.8,\"x\":[0.01,0.021664299641335483,0.032496449462003224,0.04212502708037455,0.05175360469874588,0.07221433213778494,0.09267505957682401,0.20340370218809425,0.35505379967744266,0.5572539296632405,0.8605541246419373,1.617601039886383,3.436198637556267,5.455792793009652,8.28418746840623,18.18356883229425,39.39532532556628,66.66706785740077,100.0],\"y\":[-0.008372314274311066,-0.008233211934566498,-0.00805274210870266,-0.007814059033989906,-0.007557363249361515,-0.007315083406865597,-0.00731163565069437,-0.007681352086365223,-0.005162372253835201,-0.00615698704496026,-0.004104024264961481,-0.0018873540684580803,-0.004591662436723709,-0.011460629291832447,-0.00808859895914793,-0.011544466949999332,-0.002746252343058586,0.002893587574362755,0.012327713891863823],\"type\":\"scatter\"},{\"opacity\":0.8,\"x\":[0.01,0.021664299641335483,0.032496449462003224,0.04212502708037455,0.05175360469874588,0.07221433213778494,0.09267505957682401,0.20340370218809425,0.35505379967744266,0.5572539296632405,0.8605541246419373,1.617601039886383,3.436198637556267,5.455792793009652,8.28418746840623,18.18356883229425,39.39532532556628,66.66706785740077,100.0],\"y\":[0.00010154023766517639,0.00017484254203736782,0.0002950472990050912,0.0004537173081189394,0.000592648983001709,0.000548087409697473,0.00034876319114118814,-8.271750994026661e-05,-0.0026552050840109587,-0.00039672141429036856,0.0060141501016914845,0.011957806535065174,0.003160156076774001,0.007979720830917358,0.015474111773073673,0.02656463347375393,0.06607906520366669,0.0908486545085907,0.09655611217021942],\"type\":\"scatter\"},{\"opacity\":0.8,\"x\":[0.01,0.021664299641335483,0.032496449462003224,0.04212502708037455,0.05175360469874588,0.07221433213778494,0.09267505957682401,0.20340370218809425,0.35505379967744266,0.5572539296632405,0.8605541246419373,1.617601039886383,3.436198637556267,5.455792793009652,8.28418746840623,18.18356883229425,39.39532532556628,66.66706785740077,100.0],\"y\":[0.0006604320369660854,0.0006633340381085873,0.0007128382567316294,0.0008084205910563469,0.000966034596785903,0.00132617331109941,0.0018385666189715266,0.004629166796803474,0.0073457034304738045,0.008232701569795609,0.007120073772966862,0.006923695560544729,0.004519663751125336,0.00014778715558350086,-0.009628502652049065,0.001356752123683691,0.017450761049985886,0.02996651455760002,0.03648325055837631],\"type\":\"scatter\"},{\"opacity\":0.8,\"x\":[0.01,0.021664299641335483,0.032496449462003224,0.04212502708037455,0.05175360469874588,0.07221433213778494,0.09267505957682401,0.20340370218809425,0.35505379967744266,0.5572539296632405,0.8605541246419373,1.617601039886383,3.436198637556267,5.455792793009652,8.28418746840623,18.18356883229425,39.39532532556628,66.66706785740077,100.0],\"y\":[-0.0076032583601772785,-0.007689120247960091,-0.007820529863238335,-0.007958438247442245,-0.008093452081084251,-0.008040925487875938,-0.007824299857020378,-0.00769554078578949,-0.00950032752007246,-0.01008604932576418,-0.009014803916215897,-0.0032184298615902662,9.255018085241318e-06,-0.0025103799998760223,-0.002623691689223051,-0.00936985109001398,-0.030354522168636322,-0.032271139323711395,-0.022078916430473328],\"type\":\"scatter\"},{\"opacity\":0.8,\"x\":[0.01,0.021664299641335483,0.032496449462003224,0.04212502708037455,0.05175360469874588,0.07221433213778494,0.09267505957682401,0.20340370218809425,0.35505379967744266,0.5572539296632405,0.8605541246419373,1.617601039886383,3.436198637556267,5.455792793009652,8.28418746840623,18.18356883229425,39.39532532556628,66.66706785740077,100.0],\"y\":[0.007360360585153103,0.00745319202542305,0.00756908068433404,0.0077497707679867744,0.008006943389773369,0.008617215789854527,0.008889823220670223,0.012702415697276592,0.012426478788256645,0.008779119700193405,0.004636314697563648,0.0063290828838944435,-0.0019185373093932867,-0.003426165785640478,-0.001292554778046906,0.009818926453590393,0.05353311449289322,0.06374066323041916,0.06507813185453415],\"type\":\"scatter\"},{\"opacity\":0.8,\"x\":[0.01,0.021664299641335483,0.032496449462003224,0.04212502708037455,0.05175360469874588,0.07221433213778494,0.09267505957682401,0.20340370218809425,0.35505379967744266,0.5572539296632405,0.8605541246419373,1.617601039886383,3.436198637556267,5.455792793009652,8.28418746840623,18.18356883229425,39.39532532556628,66.66706785740077,100.0],\"y\":[0.004845174960792065,0.00465876841917634,0.004387497901916504,0.004052319563925266,0.00369370449334383,0.003069796599447727,0.002265028655529022,-0.004358779639005661,-0.002026607282459736,0.004272347316145897,0.0041255224496126175,0.011492324993014336,0.019192533567547798,0.022901615127921104,0.03516671434044838,0.039078108966350555,0.027121085673570633,0.026208937168121338,0.02340666949748993],\"type\":\"scatter\"},{\"opacity\":0.8,\"x\":[0.01,0.021664299641335483,0.032496449462003224,0.04212502708037455,0.05175360469874588,0.07221433213778494,0.09267505957682401,0.20340370218809425,0.35505379967744266,0.5572539296632405,0.8605541246419373,1.617601039886383,3.436198637556267,5.455792793009652,8.28418746840623,18.18356883229425,39.39532532556628,66.66706785740077,100.0],\"y\":[-0.004895620048046112,-0.004939734935760498,-0.00499205756932497,-0.0050291214138269424,-0.00502077117562294,-0.005061462987214327,-0.005465216003358364,-0.012109528295695782,-0.01320978719741106,-0.01322548370808363,-0.01119148824363947,-0.014387666247785091,-0.014394009485840797,-0.019293302670121193,-0.020724080502986908,-0.030368756502866745,-0.06152379512786865,-0.08420801162719727,-0.09243183583021164],\"type\":\"scatter\"},{\"opacity\":0.8,\"x\":[0.01,0.021664299641335483,0.032496449462003224,0.04212502708037455,0.05175360469874588,0.07221433213778494,0.09267505957682401,0.20340370218809425,0.35505379967744266,0.5572539296632405,0.8605541246419373,1.617601039886383,3.436198637556267,5.455792793009652,8.28418746840623,18.18356883229425,39.39532532556628,66.66706785740077,100.0],\"y\":[-0.019973676651716232,-0.0198440533131361,-0.019687481224536896,-0.019513092935085297,-0.019313033670186996,-0.018991243094205856,-0.01888708397746086,-0.012674056924879551,-0.012948118150234222,-0.01823873445391655,-0.013156743720173836,-0.0041007171384990215,0.002960361074656248,0.010408720932900906,0.01370895467698574,0.034711822867393494,0.01734817400574684,0.00521479919552803,-0.0029938947409391403],\"type\":\"scatter\"},{\"opacity\":0.8,\"x\":[0.01,0.021664299641335483,0.032496449462003224,0.04212502708037455,0.05175360469874588,0.07221433213778494,0.09267505957682401,0.20340370218809425,0.35505379967744266,0.5572539296632405,0.8605541246419373,1.617601039886383,3.436198637556267,5.455792793009652,8.28418746840623,18.18356883229425,39.39532532556628,66.66706785740077,100.0],\"y\":[-0.004957799334079027,-0.004929271060973406,-0.004930938594043255,-0.0049636876210570335,-0.00502558471634984,-0.005342083051800728,-0.005682270973920822,-0.0053483303636312485,-0.0052146571688354015,-0.005228464026004076,-0.0006798573303967714,-0.0004929904825985432,0.005793650634586811,0.008129356428980827,0.01087138056755066,0.01764512062072754,0.026169516146183014,0.031758781522512436,0.029004383832216263],\"type\":\"scatter\"},{\"opacity\":0.8,\"x\":[0.01,0.021664299641335483,0.032496449462003224,0.04212502708037455,0.05175360469874588,0.07221433213778494,0.09267505957682401,0.20340370218809425,0.35505379967744266,0.5572539296632405,0.8605541246419373,1.617601039886383,3.436198637556267,5.455792793009652,8.28418746840623,18.18356883229425,39.39532532556628,66.66706785740077,100.0],\"y\":[-0.01338190771639347,-0.013464299961924553,-0.013615933246910572,-0.013794939033687115,-0.013970823027193546,-0.014420989900827408,-0.01479463092982769,-0.01659036986529827,-0.01764264702796936,-0.01601128652691841,-0.015492541715502739,-0.008105264976620674,-0.011839787475764751,-0.0067771002650260925,-0.0025773632805794477,-0.013439520262181759,-0.0037132359575480223,-0.02268105559051037,-0.029306665062904358],\"type\":\"scatter\"},{\"opacity\":0.8,\"x\":[0.01,0.021664299641335483,0.032496449462003224,0.04212502708037455,0.05175360469874588,0.07221433213778494,0.09267505957682401,0.20340370218809425,0.35505379967744266,0.5572539296632405,0.8605541246419373,1.617601039886383,3.436198637556267,5.455792793009652,8.28418746840623,18.18356883229425,39.39532532556628,66.66706785740077,100.0],\"y\":[-0.000632409006357193,-0.0007457230240106583,-0.0008969912305474281,-0.0010682172141969204,-0.0012829594779759645,-0.0019300824496895075,-0.002143763704225421,0.00011713942512869835,0.004256916232407093,0.0035818000324070454,0.0053205331787467,0.009311522357165813,0.008889423683285713,0.005587213207036257,0.011639680713415146,0.031208030879497528,0.06501788645982742,0.07464615255594254,0.08419361710548401],\"type\":\"scatter\"},{\"opacity\":0.8,\"x\":[0.01,0.021664299641335483,0.032496449462003224,0.04212502708037455,0.05175360469874588,0.07221433213778494,0.09267505957682401,0.20340370218809425,0.35505379967744266,0.5572539296632405,0.8605541246419373,1.617601039886383,3.436198637556267,5.455792793009652,8.28418746840623,18.18356883229425,39.39532532556628,66.66706785740077,100.0],\"y\":[-0.003687152871862054,-0.003635678207501769,-0.0035375230945646763,-0.003376675769686699,-0.0031863334588706493,-0.002773459069430828,-0.0022520245984196663,-0.0005063042044639587,-0.00234796735458076,0.0007052472792565823,0.00525224395096302,0.006273987703025341,0.00615594582632184,0.018108224496245384,0.02562379091978073,0.05980849638581276,0.1030084490776062,0.12296588718891144,0.1272587925195694],\"type\":\"scatter\"},{\"opacity\":0.8,\"x\":[0.01,0.021664299641335483,0.032496449462003224,0.04212502708037455,0.05175360469874588,0.07221433213778494,0.09267505957682401,0.20340370218809425,0.35505379967744266,0.5572539296632405,0.8605541246419373,1.617601039886383,3.436198637556267,5.455792793009652,8.28418746840623,18.18356883229425,39.39532532556628,66.66706785740077,100.0],\"y\":[0.003721747314557433,0.0038741629105061293,0.004082051571458578,0.004369686357676983,0.004785515833646059,0.005482610315084457,0.005538727156817913,0.004839342087507248,0.0032266140915453434,0.0007583493134006858,0.0011287580709904432,-0.005040939897298813,-0.01740458980202675,-0.02691105753183365,-0.0321945883333683,-0.05453486740589142,-0.07637722045183182,-0.07642236351966858,-0.074039988219738],\"type\":\"scatter\"},{\"opacity\":0.8,\"x\":[0.01,0.021664299641335483,0.032496449462003224,0.04212502708037455,0.05175360469874588,0.07221433213778494,0.09267505957682401,0.20340370218809425,0.35505379967744266,0.5572539296632405,0.8605541246419373,1.617601039886383,3.436198637556267,5.455792793009652,8.28418746840623,18.18356883229425,39.39532532556628,66.66706785740077,100.0],\"y\":[-0.012219661846756935,-0.012293800711631775,-0.012436218559741974,-0.012653354555368423,-0.012959090061485767,-0.01357758417725563,-0.014072556048631668,-0.015481878072023392,-0.01132585946470499,-0.004498824942857027,-0.00043585430830717087,-0.005915270186960697,-0.010267803445458412,-0.008771568536758423,-0.004938171245157719,-0.00992242619395256,-0.02936580404639244,-0.059344515204429626,-0.07368059456348419],\"type\":\"scatter\"},{\"opacity\":0.8,\"x\":[0.01,0.021664299641335483,0.032496449462003224,0.04212502708037455,0.05175360469874588,0.07221433213778494,0.09267505957682401,0.20340370218809425,0.35505379967744266,0.5572539296632405,0.8605541246419373,1.617601039886383,3.436198637556267,5.455792793009652,8.28418746840623,18.18356883229425,39.39532532556628,66.66706785740077,100.0],\"y\":[0.00791977345943451,0.008023646660149097,0.008196080103516579,0.008429265581071377,0.008738063275814056,0.009496654383838177,0.009944245219230652,0.014447512105107307,0.015634628012776375,0.011398300528526306,0.0030443724244832993,-0.0024668483529239893,-0.006207314319908619,-0.005992208141833544,-0.004344134125858545,0.005465927999466658,0.03348740562796593,0.04719400405883789,0.05977743864059448],\"type\":\"scatter\"},{\"opacity\":0.8,\"x\":[0.01,0.021664299641335483,0.032496449462003224,0.04212502708037455,0.05175360469874588,0.07221433213778494,0.09267505957682401,0.20340370218809425,0.35505379967744266,0.5572539296632405,0.8605541246419373,1.617601039886383,3.436198637556267,5.455792793009652,8.28418746840623,18.18356883229425,39.39532532556628,66.66706785740077,100.0],\"y\":[0.005119987763464451,0.005158582702279091,0.00519684050232172,0.005233215633779764,0.005289004649966955,0.005500852130353451,0.005620571784675121,0.0048575978726148605,0.002267151139676571,0.0030310512520372868,0.0031372266821563244,0.018244845792651176,0.0179151501506567,0.01892193779349327,0.01587092876434326,0.030379051342606544,0.02419094741344452,0.01744142174720764,0.004917138256132603],\"type\":\"scatter\"},{\"opacity\":0.8,\"x\":[0.01,0.021664299641335483,0.032496449462003224,0.04212502708037455,0.05175360469874588,0.07221433213778494,0.09267505957682401,0.20340370218809425,0.35505379967744266,0.5572539296632405,0.8605541246419373,1.617601039886383,3.436198637556267,5.455792793009652,8.28418746840623,18.18356883229425,39.39532532556628,66.66706785740077,100.0],\"y\":[-0.01666564866900444,-0.016582820564508438,-0.01645120047032833,-0.01626964658498764,-0.016010785475373268,-0.015426522120833397,-0.015046423301100731,-0.013986941426992416,-0.012158622033894062,-0.008644646033644676,-0.01040252111852169,-0.013530702330172062,-0.02219340391457081,-0.02503950148820877,-0.028459034860134125,-0.04822355508804321,-0.07368673384189606,-0.0888882726430893,-0.08537038415670395],\"type\":\"scatter\"},{\"opacity\":0.8,\"x\":[0.01,0.021664299641335483,0.032496449462003224,0.04212502708037455,0.05175360469874588,0.07221433213778494,0.09267505957682401,0.20340370218809425,0.35505379967744266,0.5572539296632405,0.8605541246419373,1.617601039886383,3.436198637556267,5.455792793009652,8.28418746840623,18.18356883229425,39.39532532556628,66.66706785740077,100.0],\"y\":[0.001447268994525075,0.00142647884786129,0.0014051925390958786,0.0014311871491372585,0.001541381236165762,0.0018417676910758018,0.0026399586349725723,0.007118761073797941,0.007006906904280186,0.003189133945852518,0.0004575608763843775,0.004918982274830341,0.022803500294685364,0.03611736372113228,0.04067971184849739,0.07980209589004517,0.13573341071605682,0.15538181364536285,0.14722755551338196],\"type\":\"scatter\"},{\"opacity\":0.8,\"x\":[0.01,0.021664299641335483,0.032496449462003224,0.04212502708037455,0.05175360469874588,0.07221433213778494,0.09267505957682401,0.20340370218809425,0.35505379967744266,0.5572539296632405,0.8605541246419373,1.617601039886383,3.436198637556267,5.455792793009652,8.28418746840623,18.18356883229425,39.39532532556628,66.66706785740077,100.0],\"y\":[-0.005391206592321396,-0.005368460435420275,-0.005332395434379578,-0.005263128317892551,-0.005130976438522339,-0.0048343040980398655,-0.004563399590551853,-0.0012266116682440042,-0.00471892487257719,-0.0014548269100487232,-0.0010149306617677212,-0.014078373089432716,-0.013607440516352654,-0.006270418409258127,-0.004894776735454798,0.00031482335180044174,0.008573947474360466,0.024221990257501602,0.01639937236905098],\"type\":\"scatter\"},{\"opacity\":0.8,\"x\":[0.01,0.021664299641335483,0.032496449462003224,0.04212502708037455,0.05175360469874588,0.07221433213778494,0.09267505957682401,0.20340370218809425,0.35505379967744266,0.5572539296632405,0.8605541246419373,1.617601039886383,3.436198637556267,5.455792793009652,8.28418746840623,18.18356883229425,39.39532532556628,66.66706785740077,100.0],\"y\":[0.003415292827412486,0.0033997856080532074,0.0033577564172446728,0.003280472941696644,0.0031791513320058584,0.0031171056907624006,0.0033207531087100506,0.004581955261528492,0.0058659520000219345,0.005227372515946627,0.00236344151198864,-0.006618804764002562,-0.0231158547103405,-0.027499649673700333,-0.04940176010131836,-0.07476922124624252,-0.09504789859056473,-0.11104049533605576,-0.12223493307828903],\"type\":\"scatter\"},{\"opacity\":0.8,\"x\":[0.01,0.021664299641335483,0.032496449462003224,0.04212502708037455,0.05175360469874588,0.07221433213778494,0.09267505957682401,0.20340370218809425,0.35505379967744266,0.5572539296632405,0.8605541246419373,1.617601039886383,3.436198637556267,5.455792793009652,8.28418746840623,18.18356883229425,39.39532532556628,66.66706785740077,100.0],\"y\":[0.010402082465589046,0.010429838672280312,0.010488372296094894,0.010600510984659195,0.010810447856783867,0.011611002497375011,0.012175344862043858,0.01742205210030079,0.02017519809305668,0.01792724058032036,0.01586080715060234,0.009618951007723808,0.006794992368668318,-0.004917821381241083,-0.00043277768418192863,0.01261962205171585,0.0341668501496315,0.0483524426817894,0.04178851097822189],\"type\":\"scatter\"},{\"opacity\":0.8,\"x\":[0.01,0.021664299641335483,0.032496449462003224,0.04212502708037455,0.05175360469874588,0.07221433213778494,0.09267505957682401,0.20340370218809425,0.35505379967744266,0.5572539296632405,0.8605541246419373,1.617601039886383,3.436198637556267,5.455792793009652,8.28418746840623,18.18356883229425,39.39532532556628,66.66706785740077,100.0],\"y\":[-0.0026981052942574024,-0.00276528880931437,-0.00287859165109694,-0.0030232099816203117,-0.0032554236240684986,-0.003881533397361636,-0.004249934107065201,-0.003532978007569909,-0.0030498206615448,-0.006997772958129644,-0.0009118359303101897,-0.002823105314746499,-0.012843850068747997,-0.018340421840548515,-0.015810657292604446,-0.007484444882720709,0.0032095664646476507,0.013410808518528938,0.00805220752954483],\"type\":\"scatter\"},{\"opacity\":0.8,\"x\":[0.01,0.021664299641335483,0.032496449462003224,0.04212502708037455,0.05175360469874588,0.07221433213778494,0.09267505957682401,0.20340370218809425,0.35505379967744266,0.5572539296632405,0.8605541246419373,1.617601039886383,3.436198637556267,5.455792793009652,8.28418746840623,18.18356883229425,39.39532532556628,66.66706785740077,100.0],\"y\":[0.016711093485355377,0.01662524975836277,0.016548624262213707,0.01649434305727482,0.01644299179315567,0.016285954043269157,0.016069306060671806,0.017787765711545944,0.01947380043566227,0.01252929400652647,0.0071409582160413265,-0.0016502102371305227,0.002302944427356124,-0.006179364398121834,-0.016304880380630493,-0.0418584980070591,-0.04787067696452141,-0.04002311825752258,-0.03370096534490585],\"type\":\"scatter\"},{\"opacity\":0.8,\"x\":[0.01,0.021664299641335483,0.032496449462003224,0.04212502708037455,0.05175360469874588,0.07221433213778494,0.09267505957682401,0.20340370218809425,0.35505379967744266,0.5572539296632405,0.8605541246419373,1.617601039886383,3.436198637556267,5.455792793009652,8.28418746840623,18.18356883229425,39.39532532556628,66.66706785740077,100.0],\"y\":[0.0006246819393709302,0.0006074560806155205,0.000592246069572866,0.0006008610362187028,0.0006389322225004435,0.0007078966591507196,0.0005611202213913202,-0.0031653870828449726,-0.005801273509860039,-0.005184629932045937,-0.004119953606277704,-0.0025014099664986134,-0.006268783938139677,-0.007959162816405296,-0.007770477328449488,-0.008320942521095276,-0.010987559333443642,-0.025409400463104248,-0.017230764031410217],\"type\":\"scatter\"},{\"opacity\":0.8,\"x\":[0.01,0.021664299641335483,0.032496449462003224,0.04212502708037455,0.05175360469874588,0.07221433213778494,0.09267505957682401,0.20340370218809425,0.35505379967744266,0.5572539296632405,0.8605541246419373,1.617601039886383,3.436198637556267,5.455792793009652,8.28418746840623,18.18356883229425,39.39532532556628,66.66706785740077,100.0],\"y\":[-0.005365649703890085,-0.005474379286170006,-0.005625723861157894,-0.005844969302415848,-0.0061621819622814655,-0.006822410970926285,-0.007548899855464697,-0.009706089273095131,-0.008083594031631947,-0.009776636958122253,-0.0011616155970841646,0.0013029967667534947,0.01769242249429226,0.019887350499629974,0.03448840603232384,0.05947456508874893,0.07943695783615112,0.08450910449028015,0.09526834636926651],\"type\":\"scatter\"},{\"opacity\":0.8,\"x\":[0.01,0.021664299641335483,0.032496449462003224,0.04212502708037455,0.05175360469874588,0.07221433213778494,0.09267505957682401,0.20340370218809425,0.35505379967744266,0.5572539296632405,0.8605541246419373,1.617601039886383,3.436198637556267,5.455792793009652,8.28418746840623,18.18356883229425,39.39532532556628,66.66706785740077,100.0],\"y\":[-0.0026362440548837185,-0.002498704707249999,-0.0022952975705266,-0.002001812681555748,-0.0016018806491047144,-0.0006654588505625725,-9.156647138297558e-05,-0.003486215602606535,0.00216644536703825,0.002264452865347266,-0.004084212239831686,-0.0038048885762691498,0.0005750601412728429,0.0036233551800251007,0.003040025010704994,-0.007591417990624905,-0.001569497399032116,0.006442979909479618,0.009115947410464287],\"type\":\"scatter\"},{\"opacity\":0.8,\"x\":[0.01,0.021664299641335483,0.032496449462003224,0.04212502708037455,0.05175360469874588,0.07221433213778494,0.09267505957682401,0.20340370218809425,0.35505379967744266,0.5572539296632405,0.8605541246419373,1.617601039886383,3.436198637556267,5.455792793009652,8.28418746840623,18.18356883229425,39.39532532556628,66.66706785740077,100.0],\"y\":[0.010001341812312603,0.009854862466454506,0.009637809358537197,0.009409964084625244,0.009222010150551796,0.008960592560470104,0.008558941073715687,0.009291947819292545,0.011130066588521004,0.00966702587902546,0.009239568375051022,0.00889634620398283,0.006505399942398071,0.002118391450494528,0.0036506918258965015,0.0184628926217556,0.02263222448527813,0.02911500260233879,0.025507133454084396],\"type\":\"scatter\"},{\"opacity\":0.8,\"x\":[0.01,0.021664299641335483,0.032496449462003224,0.04212502708037455,0.05175360469874588,0.07221433213778494,0.09267505957682401,0.20340370218809425,0.35505379967744266,0.5572539296632405,0.8605541246419373,1.617601039886383,3.436198637556267,5.455792793009652,8.28418746840623,18.18356883229425,39.39532532556628,66.66706785740077,100.0],\"y\":[-0.008150164969265461,-0.00813277717679739,-0.008117103017866611,-0.008113729767501354,-0.008118750527501106,-0.00814073532819748,-0.008563673123717308,-0.006131538189947605,-0.012655872851610184,-0.01281761098653078,-0.011831019073724747,-0.002265438437461853,0.011570066213607788,0.015291308052837849,0.017489060759544373,0.029517177492380142,0.05216251686215401,0.057052381336688995,0.06576273590326309],\"type\":\"scatter\"},{\"opacity\":0.8,\"x\":[0.01,0.021664299641335483,0.032496449462003224,0.04212502708037455,0.05175360469874588,0.07221433213778494,0.09267505957682401,0.20340370218809425,0.35505379967744266,0.5572539296632405,0.8605541246419373,1.617601039886383,3.436198637556267,5.455792793009652,8.28418746840623,18.18356883229425,39.39532532556628,66.66706785740077,100.0],\"y\":[-0.017282310873270035,-0.017341207712888718,-0.017384549602866173,-0.01737179234623909,-0.017244212329387665,-0.016565635800361633,-0.015844063833355904,-0.013898615725338459,-0.012152353301644325,-0.012677712365984917,-0.010677089914679527,-0.015615676529705524,-0.00984951015561819,-0.008559430949389935,-0.0049185678362846375,0.007331135217100382,0.030158091336488724,0.04773743078112602,0.05233491584658623],\"type\":\"scatter\"},{\"opacity\":0.8,\"x\":[0.01,0.021664299641335483,0.032496449462003224,0.04212502708037455,0.05175360469874588,0.07221433213778494,0.09267505957682401,0.20340370218809425,0.35505379967744266,0.5572539296632405,0.8605541246419373,1.617601039886383,3.436198637556267,5.455792793009652,8.28418746840623,18.18356883229425,39.39532532556628,66.66706785740077,100.0],\"y\":[-0.006693181581795216,-0.006540178321301937,-0.006287530995905399,-0.005914008244872093,-0.0053422655910253525,-0.004105006344616413,-0.0030984380282461643,0.000624511856585741,-0.003868319094181061,-0.004795141983777285,-0.004157870076596737,-0.008609828539192677,-0.007400978822261095,-0.006991642992943525,-0.004863780457526445,0.016752637922763824,0.02811102196574211,0.045089881867170334,0.04612874612212181],\"type\":\"scatter\"},{\"opacity\":0.8,\"x\":[0.01,0.021664299641335483,0.032496449462003224,0.04212502708037455,0.05175360469874588,0.07221433213778494,0.09267505957682401,0.20340370218809425,0.35505379967744266,0.5572539296632405,0.8605541246419373,1.617601039886383,3.436198637556267,5.455792793009652,8.28418746840623,18.18356883229425,39.39532532556628,66.66706785740077,100.0],\"y\":[0.0018871671054512262,0.0017166344914585352,0.0014970870688557625,0.0011866101995110512,0.0007288462948054075,-0.0005115370731800795,-0.0009181725326925516,0.0031554223969578743,0.009419852867722511,0.009978847578167915,0.00717282947152853,0.006686225067824125,-0.0009304194245487452,-0.004090950824320316,-0.006796105764806271,-0.014948473311960697,-0.02666148729622364,-0.051185496151447296,-0.06256620585918427],\"type\":\"scatter\"},{\"opacity\":0.8,\"x\":[0.01,0.021664299641335483,0.032496449462003224,0.04212502708037455,0.05175360469874588,0.07221433213778494,0.09267505957682401,0.20340370218809425,0.35505379967744266,0.5572539296632405,0.8605541246419373,1.617601039886383,3.436198637556267,5.455792793009652,8.28418746840623,18.18356883229425,39.39532532556628,66.66706785740077,100.0],\"y\":[0.007290758192539215,0.00740678608417511,0.007584089878946543,0.007768097333610058,0.00795789435505867,0.00829221960157156,0.008742101490497589,0.009104502387344837,0.010729244910180569,0.013199437409639359,0.007319859694689512,-0.002724491059780121,-0.011361904442310333,-0.011612932197749615,-0.024479428306221962,-0.02269652485847473,-0.026792392134666443,-0.006524965167045593,0.00777600659057498],\"type\":\"scatter\"},{\"opacity\":0.8,\"x\":[0.01,0.021664299641335483,0.032496449462003224,0.04212502708037455,0.05175360469874588,0.07221433213778494,0.09267505957682401,0.20340370218809425,0.35505379967744266,0.5572539296632405,0.8605541246419373,1.617601039886383,3.436198637556267,5.455792793009652,8.28418746840623,18.18356883229425,39.39532532556628,66.66706785740077,100.0],\"y\":[0.007033022120594978,0.006930120289325714,0.006774125620722771,0.006553166545927525,0.006260537542402744,0.005643806420266628,0.005407959222793579,0.006581593304872513,0.01204712688922882,0.009829262271523476,0.009696637280285358,0.011708223260939121,0.018044354394078255,0.02481006272137165,0.04094338044524193,0.04676305875182152,0.053220491856336594,0.053119905292987823,0.04597995802760124],\"type\":\"scatter\"},{\"opacity\":0.8,\"x\":[0.01,0.021664299641335483,0.032496449462003224,0.04212502708037455,0.05175360469874588,0.07221433213778494,0.09267505957682401,0.20340370218809425,0.35505379967744266,0.5572539296632405,0.8605541246419373,1.617601039886383,3.436198637556267,5.455792793009652,8.28418746840623,18.18356883229425,39.39532532556628,66.66706785740077,100.0],\"y\":[0.00759368808940053,0.007475530728697777,0.007356581278145313,0.007225201930850744,0.007060545030981302,0.006679194048047066,0.006406642496585846,0.007809445261955261,0.0061524841003119946,0.006909721996635199,0.008431283757090569,0.004226077813655138,-0.002421740675345063,-0.002817839849740267,-0.010492042638361454,-0.006981732323765755,-0.023794449865818024,-0.024930648505687714,-0.04117791727185249],\"type\":\"scatter\"},{\"opacity\":0.8,\"x\":[0.01,0.021664299641335483,0.032496449462003224,0.04212502708037455,0.05175360469874588,0.07221433213778494,0.09267505957682401,0.20340370218809425,0.35505379967744266,0.5572539296632405,0.8605541246419373,1.617601039886383,3.436198637556267,5.455792793009652,8.28418746840623,18.18356883229425,39.39532532556628,66.66706785740077,100.0],\"y\":[-0.0032216617837548256,-0.003032912500202656,-0.002818942768499255,-0.002579759107902646,-0.002282211557030678,-0.0015863310545682907,-0.001014692708849907,0.0024490803480148315,-0.001184290274977684,-0.00043319002725183964,-0.0034740203991532326,-0.005354637745767832,-0.009214373305439949,-0.0052858516573905945,-0.005877757910639048,-0.005927924998104572,-0.016565177589654922,-0.000630691647529602,0.008818369358778],\"type\":\"scatter\"},{\"opacity\":0.8,\"x\":[0.01,0.021664299641335483,0.032496449462003224,0.04212502708037455,0.05175360469874588,0.07221433213778494,0.09267505957682401,0.20340370218809425,0.35505379967744266,0.5572539296632405,0.8605541246419373,1.617601039886383,3.436198637556267,5.455792793009652,8.28418746840623,18.18356883229425,39.39532532556628,66.66706785740077,100.0],\"y\":[0.009643557481467724,0.009585120715200901,0.009511644020676613,0.009449785575270653,0.009448481723666191,0.009687136858701706,0.010093528777360916,0.009887788444757462,0.011639941483736038,0.009089749306440353,0.007758184336125851,0.003017030656337738,-0.0009729787707328796,-0.002834546146914363,0.0031555769965052605,0.0022293170914053917,0.01413791999220848,0.028498494997620583,0.03652147203683853],\"type\":\"scatter\"},{\"opacity\":0.8,\"x\":[0.01,0.021664299641335483,0.032496449462003224,0.04212502708037455,0.05175360469874588,0.07221433213778494,0.09267505957682401,0.20340370218809425,0.35505379967744266,0.5572539296632405,0.8605541246419373,1.617601039886383,3.436198637556267,5.455792793009652,8.28418746840623,18.18356883229425,39.39532532556628,66.66706785740077,100.0],\"y\":[-0.004225428681820631,-0.004241019953042269,-0.004251102451235056,-0.0042264582589268684,-0.004150506108999252,-0.003940110560506582,-0.003952739294618368,-0.0037412934470921755,-0.006106005050241947,-0.0043612755835056305,-0.0009048777865245938,-0.0005081406561657786,-0.0024778745137155056,-0.0026729260571300983,-0.008155401796102524,-0.01632234826683998,-0.03751833364367485,-0.04419492557644844,-0.04402817413210869],\"type\":\"scatter\"},{\"opacity\":0.8,\"x\":[0.01,0.021664299641335483,0.032496449462003224,0.04212502708037455,0.05175360469874588,0.07221433213778494,0.09267505957682401,0.20340370218809425,0.35505379967744266,0.5572539296632405,0.8605541246419373,1.617601039886383,3.436198637556267,5.455792793009652,8.28418746840623,18.18356883229425,39.39532532556628,66.66706785740077,100.0],\"y\":[-0.00038873800076544285,-0.00036150868982076645,-0.00030857918318361044,-0.00025307387113571167,-0.00016438285820186138,-1.4097196981310844e-05,-0.0001551699242554605,-0.0010811437387019396,-0.0021457679104059935,0.0010358520084992051,-0.00013708957703784108,0.0023928089067339897,-0.0006747228326275945,-0.0050356131978333,-0.0032271016389131546,-0.015000853687524796,-0.019640294834971428,-0.02365158125758171,-0.028542589396238327],\"type\":\"scatter\"},{\"opacity\":0.8,\"x\":[0.01,0.021664299641335483,0.032496449462003224,0.04212502708037455,0.05175360469874588,0.07221433213778494,0.09267505957682401,0.20340370218809425,0.35505379967744266,0.5572539296632405,0.8605541246419373,1.617601039886383,3.436198637556267,5.455792793009652,8.28418746840623,18.18356883229425,39.39532532556628,66.66706785740077,100.0],\"y\":[-0.007613686844706535,-0.007587845902889967,-0.007610755506902933,-0.007721142377704382,-0.007978418841958046,-0.008831731975078583,-0.008958172984421253,-0.008034317754209042,-0.008301053196191788,-0.008606205694377422,-0.009909631684422493,-0.011913727968931198,-0.01007059682160616,-0.005089761223644018,-0.01539816427975893,-0.00754670612514019,-0.015950283035635948,-0.01638694852590561,-0.01679910160601139],\"type\":\"scatter\"}],                        {\"title\":{\"text\":\"Spectral dynamics: attn-only-1l\"},\"template\":{\"data\":{\"histogram2dcontour\":[{\"type\":\"histogram2dcontour\",\"colorbar\":{\"outlinewidth\":0,\"ticks\":\"\"},\"colorscale\":[[0.0,\"#0d0887\"],[0.1111111111111111,\"#46039f\"],[0.2222222222222222,\"#7201a8\"],[0.3333333333333333,\"#9c179e\"],[0.4444444444444444,\"#bd3786\"],[0.5555555555555556,\"#d8576b\"],[0.6666666666666666,\"#ed7953\"],[0.7777777777777778,\"#fb9f3a\"],[0.8888888888888888,\"#fdca26\"],[1.0,\"#f0f921\"]]}],\"choropleth\":[{\"type\":\"choropleth\",\"colorbar\":{\"outlinewidth\":0,\"ticks\":\"\"}}],\"histogram2d\":[{\"type\":\"histogram2d\",\"colorbar\":{\"outlinewidth\":0,\"ticks\":\"\"},\"colorscale\":[[0.0,\"#0d0887\"],[0.1111111111111111,\"#46039f\"],[0.2222222222222222,\"#7201a8\"],[0.3333333333333333,\"#9c179e\"],[0.4444444444444444,\"#bd3786\"],[0.5555555555555556,\"#d8576b\"],[0.6666666666666666,\"#ed7953\"],[0.7777777777777778,\"#fb9f3a\"],[0.8888888888888888,\"#fdca26\"],[1.0,\"#f0f921\"]]}],\"heatmap\":[{\"type\":\"heatmap\",\"colorbar\":{\"outlinewidth\":0,\"ticks\":\"\"},\"colorscale\":[[0.0,\"#0d0887\"],[0.1111111111111111,\"#46039f\"],[0.2222222222222222,\"#7201a8\"],[0.3333333333333333,\"#9c179e\"],[0.4444444444444444,\"#bd3786\"],[0.5555555555555556,\"#d8576b\"],[0.6666666666666666,\"#ed7953\"],[0.7777777777777778,\"#fb9f3a\"],[0.8888888888888888,\"#fdca26\"],[1.0,\"#f0f921\"]]}],\"heatmapgl\":[{\"type\":\"heatmapgl\",\"colorbar\":{\"outlinewidth\":0,\"ticks\":\"\"},\"colorscale\":[[0.0,\"#0d0887\"],[0.1111111111111111,\"#46039f\"],[0.2222222222222222,\"#7201a8\"],[0.3333333333333333,\"#9c179e\"],[0.4444444444444444,\"#bd3786\"],[0.5555555555555556,\"#d8576b\"],[0.6666666666666666,\"#ed7953\"],[0.7777777777777778,\"#fb9f3a\"],[0.8888888888888888,\"#fdca26\"],[1.0,\"#f0f921\"]]}],\"contourcarpet\":[{\"type\":\"contourcarpet\",\"colorbar\":{\"outlinewidth\":0,\"ticks\":\"\"}}],\"contour\":[{\"type\":\"contour\",\"colorbar\":{\"outlinewidth\":0,\"ticks\":\"\"},\"colorscale\":[[0.0,\"#0d0887\"],[0.1111111111111111,\"#46039f\"],[0.2222222222222222,\"#7201a8\"],[0.3333333333333333,\"#9c179e\"],[0.4444444444444444,\"#bd3786\"],[0.5555555555555556,\"#d8576b\"],[0.6666666666666666,\"#ed7953\"],[0.7777777777777778,\"#fb9f3a\"],[0.8888888888888888,\"#fdca26\"],[1.0,\"#f0f921\"]]}],\"surface\":[{\"type\":\"surface\",\"colorbar\":{\"outlinewidth\":0,\"ticks\":\"\"},\"colorscale\":[[0.0,\"#0d0887\"],[0.1111111111111111,\"#46039f\"],[0.2222222222222222,\"#7201a8\"],[0.3333333333333333,\"#9c179e\"],[0.4444444444444444,\"#bd3786\"],[0.5555555555555556,\"#d8576b\"],[0.6666666666666666,\"#ed7953\"],[0.7777777777777778,\"#fb9f3a\"],[0.8888888888888888,\"#fdca26\"],[1.0,\"#f0f921\"]]}],\"mesh3d\":[{\"type\":\"mesh3d\",\"colorbar\":{\"outlinewidth\":0,\"ticks\":\"\"}}],\"scatter\":[{\"fillpattern\":{\"fillmode\":\"overlay\",\"size\":10,\"solidity\":0.2},\"type\":\"scatter\"}],\"parcoords\":[{\"type\":\"parcoords\",\"line\":{\"colorbar\":{\"outlinewidth\":0,\"ticks\":\"\"}}}],\"scatterpolargl\":[{\"type\":\"scatterpolargl\",\"marker\":{\"colorbar\":{\"outlinewidth\":0,\"ticks\":\"\"}}}],\"bar\":[{\"error_x\":{\"color\":\"#2a3f5f\"},\"error_y\":{\"color\":\"#2a3f5f\"},\"marker\":{\"line\":{\"color\":\"#E5ECF6\",\"width\":0.5},\"pattern\":{\"fillmode\":\"overlay\",\"size\":10,\"solidity\":0.2}},\"type\":\"bar\"}],\"scattergeo\":[{\"type\":\"scattergeo\",\"marker\":{\"colorbar\":{\"outlinewidth\":0,\"ticks\":\"\"}}}],\"scatterpolar\":[{\"type\":\"scatterpolar\",\"marker\":{\"colorbar\":{\"outlinewidth\":0,\"ticks\":\"\"}}}],\"histogram\":[{\"marker\":{\"pattern\":{\"fillmode\":\"overlay\",\"size\":10,\"solidity\":0.2}},\"type\":\"histogram\"}],\"scattergl\":[{\"type\":\"scattergl\",\"marker\":{\"colorbar\":{\"outlinewidth\":0,\"ticks\":\"\"}}}],\"scatter3d\":[{\"type\":\"scatter3d\",\"line\":{\"colorbar\":{\"outlinewidth\":0,\"ticks\":\"\"}},\"marker\":{\"colorbar\":{\"outlinewidth\":0,\"ticks\":\"\"}}}],\"scattermapbox\":[{\"type\":\"scattermapbox\",\"marker\":{\"colorbar\":{\"outlinewidth\":0,\"ticks\":\"\"}}}],\"scatterternary\":[{\"type\":\"scatterternary\",\"marker\":{\"colorbar\":{\"outlinewidth\":0,\"ticks\":\"\"}}}],\"scattercarpet\":[{\"type\":\"scattercarpet\",\"marker\":{\"colorbar\":{\"outlinewidth\":0,\"ticks\":\"\"}}}],\"carpet\":[{\"aaxis\":{\"endlinecolor\":\"#2a3f5f\",\"gridcolor\":\"white\",\"linecolor\":\"white\",\"minorgridcolor\":\"white\",\"startlinecolor\":\"#2a3f5f\"},\"baxis\":{\"endlinecolor\":\"#2a3f5f\",\"gridcolor\":\"white\",\"linecolor\":\"white\",\"minorgridcolor\":\"white\",\"startlinecolor\":\"#2a3f5f\"},\"type\":\"carpet\"}],\"table\":[{\"cells\":{\"fill\":{\"color\":\"#EBF0F8\"},\"line\":{\"color\":\"white\"}},\"header\":{\"fill\":{\"color\":\"#C8D4E3\"},\"line\":{\"color\":\"white\"}},\"type\":\"table\"}],\"barpolar\":[{\"marker\":{\"line\":{\"color\":\"#E5ECF6\",\"width\":0.5},\"pattern\":{\"fillmode\":\"overlay\",\"size\":10,\"solidity\":0.2}},\"type\":\"barpolar\"}],\"pie\":[{\"automargin\":true,\"type\":\"pie\"}]},\"layout\":{\"autotypenumbers\":\"strict\",\"colorway\":[\"#636efa\",\"#EF553B\",\"#00cc96\",\"#ab63fa\",\"#FFA15A\",\"#19d3f3\",\"#FF6692\",\"#B6E880\",\"#FF97FF\",\"#FECB52\"],\"font\":{\"color\":\"#2a3f5f\"},\"hovermode\":\"closest\",\"hoverlabel\":{\"align\":\"left\"},\"paper_bgcolor\":\"white\",\"plot_bgcolor\":\"#E5ECF6\",\"polar\":{\"bgcolor\":\"#E5ECF6\",\"angularaxis\":{\"gridcolor\":\"white\",\"linecolor\":\"white\",\"ticks\":\"\"},\"radialaxis\":{\"gridcolor\":\"white\",\"linecolor\":\"white\",\"ticks\":\"\"}},\"ternary\":{\"bgcolor\":\"#E5ECF6\",\"aaxis\":{\"gridcolor\":\"white\",\"linecolor\":\"white\",\"ticks\":\"\"},\"baxis\":{\"gridcolor\":\"white\",\"linecolor\":\"white\",\"ticks\":\"\"},\"caxis\":{\"gridcolor\":\"white\",\"linecolor\":\"white\",\"ticks\":\"\"}},\"coloraxis\":{\"colorbar\":{\"outlinewidth\":0,\"ticks\":\"\"}},\"colorscale\":{\"sequential\":[[0.0,\"#0d0887\"],[0.1111111111111111,\"#46039f\"],[0.2222222222222222,\"#7201a8\"],[0.3333333333333333,\"#9c179e\"],[0.4444444444444444,\"#bd3786\"],[0.5555555555555556,\"#d8576b\"],[0.6666666666666666,\"#ed7953\"],[0.7777777777777778,\"#fb9f3a\"],[0.8888888888888888,\"#fdca26\"],[1.0,\"#f0f921\"]],\"sequentialminus\":[[0.0,\"#0d0887\"],[0.1111111111111111,\"#46039f\"],[0.2222222222222222,\"#7201a8\"],[0.3333333333333333,\"#9c179e\"],[0.4444444444444444,\"#bd3786\"],[0.5555555555555556,\"#d8576b\"],[0.6666666666666666,\"#ed7953\"],[0.7777777777777778,\"#fb9f3a\"],[0.8888888888888888,\"#fdca26\"],[1.0,\"#f0f921\"]],\"diverging\":[[0,\"#8e0152\"],[0.1,\"#c51b7d\"],[0.2,\"#de77ae\"],[0.3,\"#f1b6da\"],[0.4,\"#fde0ef\"],[0.5,\"#f7f7f7\"],[0.6,\"#e6f5d0\"],[0.7,\"#b8e186\"],[0.8,\"#7fbc41\"],[0.9,\"#4d9221\"],[1,\"#276419\"]]},\"xaxis\":{\"gridcolor\":\"white\",\"linecolor\":\"white\",\"ticks\":\"\",\"title\":{\"standoff\":15},\"zerolinecolor\":\"white\",\"automargin\":true,\"zerolinewidth\":2},\"yaxis\":{\"gridcolor\":\"white\",\"linecolor\":\"white\",\"ticks\":\"\",\"title\":{\"standoff\":15},\"zerolinecolor\":\"white\",\"automargin\":true,\"zerolinewidth\":2},\"scene\":{\"xaxis\":{\"backgroundcolor\":\"#E5ECF6\",\"gridcolor\":\"white\",\"linecolor\":\"white\",\"showbackground\":true,\"ticks\":\"\",\"zerolinecolor\":\"white\",\"gridwidth\":2},\"yaxis\":{\"backgroundcolor\":\"#E5ECF6\",\"gridcolor\":\"white\",\"linecolor\":\"white\",\"showbackground\":true,\"ticks\":\"\",\"zerolinecolor\":\"white\",\"gridwidth\":2},\"zaxis\":{\"backgroundcolor\":\"#E5ECF6\",\"gridcolor\":\"white\",\"linecolor\":\"white\",\"showbackground\":true,\"ticks\":\"\",\"zerolinecolor\":\"white\",\"gridwidth\":2}},\"shapedefaults\":{\"line\":{\"color\":\"#2a3f5f\"}},\"annotationdefaults\":{\"arrowcolor\":\"#2a3f5f\",\"arrowhead\":0,\"arrowwidth\":1},\"geo\":{\"bgcolor\":\"white\",\"landcolor\":\"#E5ECF6\",\"subunitcolor\":\"white\",\"showland\":true,\"showlakes\":true,\"lakecolor\":\"white\"},\"title\":{\"x\":0.05},\"mapbox\":{\"style\":\"light\"}}},\"xaxis\":{\"title\":{\"text\":\"% Total Training Tokens\"},\"type\":\"log\"},\"shapes\":[{\"fillcolor\":\"gold\",\"line\":{\"width\":1},\"opacity\":0.2,\"type\":\"rect\",\"x0\":0.6,\"x1\":1.3,\"xref\":\"x\",\"y0\":0,\"y1\":1,\"yref\":\"y domain\"}]},                        {\"responsive\": true}                    ).then(function(){\n",
       "                            \n",
       "var gd = document.getElementById('b8551058-9774-461f-b67c-3b4d5e9c2764');\n",
       "var x = new MutationObserver(function (mutations, observer) {{\n",
       "        var display = window.getComputedStyle(gd).display;\n",
       "        if (!display || display === 'none') {{\n",
       "            console.log([gd, 'removed!']);\n",
       "            Plotly.purge(gd);\n",
       "            observer.disconnect();\n",
       "        }}\n",
       "}});\n",
       "\n",
       "// Listen for the removal of the full notebook cells\n",
       "var notebookContainer = gd.closest('#notebook-container');\n",
       "if (notebookContainer) {{\n",
       "    x.observe(notebookContainer, {childList: true});\n",
       "}}\n",
       "\n",
       "// Listen for the clearing of the current output cell\n",
       "var outputEl = gd.closest('.output');\n",
       "if (outputEl) {{\n",
       "    x.observe(outputEl, {childList: true});\n",
       "}}\n",
       "\n",
       "                        })                };                });            </script>        </div>"
      ]
     },
     "metadata": {},
     "output_type": "display_data"
    },
    {
     "data": {
      "text/html": [
       "<div>                            <div id=\"bad0caf5-48bd-4ee2-90c4-4eff8010e081\" class=\"plotly-graph-div\" style=\"height:525px; width:100%;\"></div>            <script type=\"text/javascript\">                require([\"plotly\"], function(Plotly) {                    window.PLOTLYENV=window.PLOTLYENV || {};                                    if (document.getElementById(\"bad0caf5-48bd-4ee2-90c4-4eff8010e081\")) {                    Plotly.newPlot(                        \"bad0caf5-48bd-4ee2-90c4-4eff8010e081\",                        [{\"opacity\":0.8,\"x\":[0.01,0.021664299641335483,0.032496449462003224,0.04212502708037455,0.05175360469874588,0.07221433213778494,0.09267505957682401,0.20340370218809425,0.35505379967744266,0.5572539296632405,0.8605541246419373,1.617601039886383,3.436198637556267,5.455792793009652,8.28418746840623,18.18356883229425,39.39532532556628,66.66706785740077,100.0],\"y\":[0.0003850138746201992,0.000530199846252799,0.0006651263684034348,0.0007591451867483556,0.0008592046797275543,0.0010707047767937183,0.0011109060142189264,0.0003457037382759154,-0.0019822455942630768,-0.002512507140636444,-0.0013364716432988644,-0.00030190154211595654,-0.006041358225047588,-0.008916107937693596,-0.005236415192484856,-0.007343375589698553,-0.03273063898086548,-0.05255016312003136,-0.062182094901800156],\"type\":\"scatter\"},{\"opacity\":0.8,\"x\":[0.01,0.021664299641335483,0.032496449462003224,0.04212502708037455,0.05175360469874588,0.07221433213778494,0.09267505957682401,0.20340370218809425,0.35505379967744266,0.5572539296632405,0.8605541246419373,1.617601039886383,3.436198637556267,5.455792793009652,8.28418746840623,18.18356883229425,39.39532532556628,66.66706785740077,100.0],\"y\":[-0.0004324675537645817,-0.0003026188351213932,-0.0001698845298960805,-1.811899710446596e-05,9.892357047647238e-05,0.0002136977855116129,0.00023440283257514238,-0.0005152976373210549,-0.0001556919887661934,-0.00030943029560148716,-0.0013313230592757463,-0.003797154175117612,-0.009288371540606022,-0.011114622466266155,-0.01079496555030346,-0.019385822117328644,-0.006241893395781517,-0.021075377240777016,-0.031044166535139084],\"type\":\"scatter\"},{\"opacity\":0.8,\"x\":[0.01,0.021664299641335483,0.032496449462003224,0.04212502708037455,0.05175360469874588,0.07221433213778494,0.09267505957682401,0.20340370218809425,0.35505379967744266,0.5572539296632405,0.8605541246419373,1.617601039886383,3.436198637556267,5.455792793009652,8.28418746840623,18.18356883229425,39.39532532556628,66.66706785740077,100.0],\"y\":[0.0012493801768869162,0.0011753898579627275,0.0011366067919880152,0.001102527603507042,0.0010646011214703321,0.0010934752644971013,0.0010684416629374027,0.0005805264227092266,0.0006300261011347175,0.00037439254811033607,0.0025853016413748264,0.0046241977252066135,0.005622358992695808,0.00996896531432867,0.01032115239650011,0.021678397431969643,0.026575356721878052,0.05326085165143013,0.06025298684835434],\"type\":\"scatter\"},{\"opacity\":0.8,\"x\":[0.01,0.021664299641335483,0.032496449462003224,0.04212502708037455,0.05175360469874588,0.07221433213778494,0.09267505957682401,0.20340370218809425,0.35505379967744266,0.5572539296632405,0.8605541246419373,1.617601039886383,3.436198637556267,5.455792793009652,8.28418746840623,18.18356883229425,39.39532532556628,66.66706785740077,100.0],\"y\":[0.007450245786458254,0.007619412615895271,0.007858410477638245,0.008068172261118889,0.008257177658379078,0.008680292405188084,0.009047950617969036,0.009193576872348785,0.009301193058490753,0.007737770210951567,0.00645523751154542,0.007656923960894346,0.006990546360611916,0.006464735139161348,0.0038791305851191282,0.011633886955678463,0.0016802726313471794,-0.016993263736367226,-0.027678214013576508],\"type\":\"scatter\"},{\"opacity\":0.8,\"x\":[0.01,0.021664299641335483,0.032496449462003224,0.04212502708037455,0.05175360469874588,0.07221433213778494,0.09267505957682401,0.20340370218809425,0.35505379967744266,0.5572539296632405,0.8605541246419373,1.617601039886383,3.436198637556267,5.455792793009652,8.28418746840623,18.18356883229425,39.39532532556628,66.66706785740077,100.0],\"y\":[0.003917519934475422,0.004017428960651159,0.004067425616085529,0.004036120139062405,0.004007096868008375,0.0040359655395150185,0.004032357595860958,0.0032818899489939213,0.002640247344970703,0.003048018552362919,0.003022037446498871,0.0005789867136627436,0.002712594112381339,-0.0033512325026094913,0.00035805394873023033,-0.008202754892408848,-0.021225588396191597,-0.030565936118364334,-0.041772209107875824],\"type\":\"scatter\"},{\"opacity\":0.8,\"x\":[0.01,0.021664299641335483,0.032496449462003224,0.04212502708037455,0.05175360469874588,0.07221433213778494,0.09267505957682401,0.20340370218809425,0.35505379967744266,0.5572539296632405,0.8605541246419373,1.617601039886383,3.436198637556267,5.455792793009652,8.28418746840623,18.18356883229425,39.39532532556628,66.66706785740077,100.0],\"y\":[-0.0034680869430303574,-0.0034411041997373104,-0.0034269304014742374,-0.0034383288584649563,-0.0034130567219108343,-0.003359139198437333,-0.0033608446829020977,-0.004055334255099297,-0.003029429819434881,-0.003085928503423929,-0.0014349843841046095,0.0031494740396738052,-0.0010949550196528435,-0.0066717881709337234,-0.015890711918473244,-0.021510982885956764,-0.033802032470703125,-0.022930756211280823,-0.0170836690813303],\"type\":\"scatter\"},{\"opacity\":0.8,\"x\":[0.01,0.021664299641335483,0.032496449462003224,0.04212502708037455,0.05175360469874588,0.07221433213778494,0.09267505957682401,0.20340370218809425,0.35505379967744266,0.5572539296632405,0.8605541246419373,1.617601039886383,3.436198637556267,5.455792793009652,8.28418746840623,18.18356883229425,39.39532532556628,66.66706785740077,100.0],\"y\":[-0.0021857686806470156,-0.0021245437674224377,-0.0020835893228650093,-0.0020492859184741974,-0.0019975299946963787,-0.0019525963580235839,-0.0019415237475186586,-0.0025826911441981792,0.00016528251580893993,0.0003698380896821618,-0.0007158684311434627,-0.0022390359081327915,-0.00277308514341712,-0.0018230387941002846,-0.008104966953396797,-0.04723295569419861,-0.09992319345474243,-0.13699351251125336,-0.14456921815872192],\"type\":\"scatter\"},{\"opacity\":0.8,\"x\":[0.01,0.021664299641335483,0.032496449462003224,0.04212502708037455,0.05175360469874588,0.07221433213778494,0.09267505957682401,0.20340370218809425,0.35505379967744266,0.5572539296632405,0.8605541246419373,1.617601039886383,3.436198637556267,5.455792793009652,8.28418746840623,18.18356883229425,39.39532532556628,66.66706785740077,100.0],\"y\":[0.001112316153012216,0.001108157797716558,0.0010788775980472565,0.0010780164739117026,0.0011009336449205875,0.0012047321069985628,0.001273464411497116,0.0006288377335295081,0.0023575969971716404,0.0022913438733667135,0.0066419909708201885,0.008991697803139687,0.0065168095752596855,0.0034268980380147696,0.0021782296244055033,0.020564526319503784,0.05342622473835945,0.08496205508708954,0.10025941580533981],\"type\":\"scatter\"},{\"opacity\":0.8,\"x\":[0.01,0.021664299641335483,0.032496449462003224,0.04212502708037455,0.05175360469874588,0.07221433213778494,0.09267505957682401,0.20340370218809425,0.35505379967744266,0.5572539296632405,0.8605541246419373,1.617601039886383,3.436198637556267,5.455792793009652,8.28418746840623,18.18356883229425,39.39532532556628,66.66706785740077,100.0],\"y\":[-0.0012173941358923912,-0.0011691933032125235,-0.001147023867815733,-0.0011410092702135444,-0.0010993352625519037,-0.0009607865940779448,-0.000962018733844161,-0.0007191191543824971,-0.00164093729108572,-0.0020292536355555058,-0.006425182335078716,-0.003995841834694147,-0.007036234252154827,-0.01683255471289158,-0.02465052902698517,-0.03918463736772537,-0.05385284870862961,-0.05716346949338913,-0.0648195669054985],\"type\":\"scatter\"},{\"opacity\":0.8,\"x\":[0.01,0.021664299641335483,0.032496449462003224,0.04212502708037455,0.05175360469874588,0.07221433213778494,0.09267505957682401,0.20340370218809425,0.35505379967744266,0.5572539296632405,0.8605541246419373,1.617601039886383,3.436198637556267,5.455792793009652,8.28418746840623,18.18356883229425,39.39532532556628,66.66706785740077,100.0],\"y\":[0.002957415534183383,0.003010301385074854,0.0030659104231745005,0.0031085575465112925,0.0031320247799158096,0.0032942723482847214,0.003672228893265128,0.004385714884847403,0.008527310565114021,0.008066227659583092,0.003966221585869789,0.0004900172352790833,-0.0011355761671438813,0.000322572304867208,-0.001607036218047142,-0.0069695147685706615,-0.019506998360157013,-0.024251967668533325,-0.024714086204767227],\"type\":\"scatter\"},{\"opacity\":0.8,\"x\":[0.01,0.021664299641335483,0.032496449462003224,0.04212502708037455,0.05175360469874588,0.07221433213778494,0.09267505957682401,0.20340370218809425,0.35505379967744266,0.5572539296632405,0.8605541246419373,1.617601039886383,3.436198637556267,5.455792793009652,8.28418746840623,18.18356883229425,39.39532532556628,66.66706785740077,100.0],\"y\":[0.003199573140591383,0.0031083771027624607,0.003028680570423603,0.0030094922985881567,0.0030367409344762564,0.0030385921709239483,0.003126999596133828,0.004940791986882687,0.005138622131198645,0.0053748623467981815,0.0036270292475819588,-0.001576991518959403,-0.006915879435837269,-0.008581586182117462,-0.0036111711524426937,0.010157489217817783,0.04694078862667084,0.09057704359292984,0.10816451162099838],\"type\":\"scatter\"},{\"opacity\":0.8,\"x\":[0.01,0.021664299641335483,0.032496449462003224,0.04212502708037455,0.05175360469874588,0.07221433213778494,0.09267505957682401,0.20340370218809425,0.35505379967744266,0.5572539296632405,0.8605541246419373,1.617601039886383,3.436198637556267,5.455792793009652,8.28418746840623,18.18356883229425,39.39532532556628,66.66706785740077,100.0],\"y\":[-0.0024837269447743893,-0.0024582454934716225,-0.00243475497700274,-0.002437661401927471,-0.002479436807334423,-0.0026452909223735332,-0.002773676998913288,-0.0036397543735802174,-0.004389225505292416,-0.0031927668023854494,-0.0022039685864001513,-0.0025638937950134277,-0.004454970825463533,-0.011838313192129135,-0.01638484187424183,-0.0124383345246315,0.007486596703529358,0.03493266552686691,0.04186731576919556],\"type\":\"scatter\"},{\"opacity\":0.8,\"x\":[0.01,0.021664299641335483,0.032496449462003224,0.04212502708037455,0.05175360469874588,0.07221433213778494,0.09267505957682401,0.20340370218809425,0.35505379967744266,0.5572539296632405,0.8605541246419373,1.617601039886383,3.436198637556267,5.455792793009652,8.28418746840623,18.18356883229425,39.39532532556628,66.66706785740077,100.0],\"y\":[0.002688476350158453,0.002781485440209508,0.002881203778088093,0.0029618525877594948,0.0030324095860123634,0.0030788318254053593,0.0031873928382992744,0.003792870556935668,0.005595684051513672,0.005844570230692625,0.0030457901302725077,0.0022272581700235605,-0.00388238369487226,-0.009008530527353287,-0.019107520580291748,-0.05422023683786392,-0.05743110924959183,-0.0571201890707016,-0.04543919861316681],\"type\":\"scatter\"},{\"opacity\":0.8,\"x\":[0.01,0.021664299641335483,0.032496449462003224,0.04212502708037455,0.05175360469874588,0.07221433213778494,0.09267505957682401,0.20340370218809425,0.35505379967744266,0.5572539296632405,0.8605541246419373,1.617601039886383,3.436198637556267,5.455792793009652,8.28418746840623,18.18356883229425,39.39532532556628,66.66706785740077,100.0],\"y\":[0.005037149880081415,0.0050181238912045956,0.005046264734119177,0.005076141096651554,0.005065335426479578,0.005099401343613863,0.005239133723080158,0.005266457796096802,0.006875305436551571,0.0060814786702394485,0.003834470873698592,-0.0005928488681092858,0.010637138970196247,0.016567908227443695,0.022042207419872284,0.020837122574448586,0.010906859301030636,0.011595355346798897,-0.0010235197842121124],\"type\":\"scatter\"},{\"opacity\":0.8,\"x\":[0.01,0.021664299641335483,0.032496449462003224,0.04212502708037455,0.05175360469874588,0.07221433213778494,0.09267505957682401,0.20340370218809425,0.35505379967744266,0.5572539296632405,0.8605541246419373,1.617601039886383,3.436198637556267,5.455792793009652,8.28418746840623,18.18356883229425,39.39532532556628,66.66706785740077,100.0],\"y\":[-0.0030458271503448486,-0.0030682324431836605,-0.003069203579798341,-0.0030713812448084354,-0.003066489240154624,-0.003023234661668539,-0.002999831922352314,-0.0028493120335042477,-0.004013548139482737,-0.0019411632092669606,0.002172393025830388,0.00018009764607995749,-0.005888083018362522,-0.008577043190598488,-0.013769106939435005,-0.02052384987473488,-0.007598962634801865,-0.011342234909534454,-0.00940018706023693],\"type\":\"scatter\"},{\"opacity\":0.8,\"x\":[0.01,0.021664299641335483,0.032496449462003224,0.04212502708037455,0.05175360469874588,0.07221433213778494,0.09267505957682401,0.20340370218809425,0.35505379967744266,0.5572539296632405,0.8605541246419373,1.617601039886383,3.436198637556267,5.455792793009652,8.28418746840623,18.18356883229425,39.39532532556628,66.66706785740077,100.0],\"y\":[-0.009576592594385147,-0.009560703299939632,-0.009556882083415985,-0.009519180282950401,-0.009419430047273636,-0.00936773233115673,-0.009228813461959362,-0.007876967079937458,-0.005398104898631573,-0.0038062420208007097,-0.0046712784096598625,-0.00156264693941921,0.009245095774531364,0.008374359458684921,0.008673294447362423,0.023489423096179962,0.026251573115587234,0.042980507016181946,0.04760436713695526],\"type\":\"scatter\"},{\"opacity\":0.8,\"x\":[0.01,0.021664299641335483,0.032496449462003224,0.04212502708037455,0.05175360469874588,0.07221433213778494,0.09267505957682401,0.20340370218809425,0.35505379967744266,0.5572539296632405,0.8605541246419373,1.617601039886383,3.436198637556267,5.455792793009652,8.28418746840623,18.18356883229425,39.39532532556628,66.66706785740077,100.0],\"y\":[0.006060922984033823,0.006031573284417391,0.005983724724501371,0.005884889513254166,0.005787733010947704,0.005743793211877346,0.005786413326859474,0.006291976664215326,0.0068072848953306675,0.004369696602225304,0.0008318140171468258,-0.006428359542042017,-0.02089677006006241,-0.02194179594516754,-0.020086783915758133,-0.020628096535801888,-0.008875450119376183,-0.004901235923171043,0.0008002743124961853],\"type\":\"scatter\"},{\"opacity\":0.8,\"x\":[0.01,0.021664299641335483,0.032496449462003224,0.04212502708037455,0.05175360469874588,0.07221433213778494,0.09267505957682401,0.20340370218809425,0.35505379967744266,0.5572539296632405,0.8605541246419373,1.617601039886383,3.436198637556267,5.455792793009652,8.28418746840623,18.18356883229425,39.39532532556628,66.66706785740077,100.0],\"y\":[-0.003676634281873703,-0.003704262198880315,-0.0037774492520838976,-0.003908826969563961,-0.004051839932799339,-0.004173623397946358,-0.004224051255732775,-0.00390823045745492,-0.004500498063862324,-0.0023864656686782837,-0.0010579547379165888,-0.0016729568596929312,0.004079892300069332,0.005963339935988188,0.006387820467352867,0.013143196702003479,0.03518294915556908,0.054106611758470535,0.06309986114501953],\"type\":\"scatter\"},{\"opacity\":0.8,\"x\":[0.01,0.021664299641335483,0.032496449462003224,0.04212502708037455,0.05175360469874588,0.07221433213778494,0.09267505957682401,0.20340370218809425,0.35505379967744266,0.5572539296632405,0.8605541246419373,1.617601039886383,3.436198637556267,5.455792793009652,8.28418746840623,18.18356883229425,39.39532532556628,66.66706785740077,100.0],\"y\":[-2.7999398298561573e-05,3.508786903694272e-06,8.27570038381964e-05,0.00021665982785634696,0.0003715715429279953,0.0006162207573652267,0.0007754009566269815,0.0008099953411146998,-0.0015293315518647432,-0.0017057206714525819,0.000759716669563204,0.000781482900492847,-0.005328615196049213,-0.008092032745480537,-0.006664643995463848,-0.020190900191664696,-0.034705691039562225,-0.030622359365224838,-0.02735961601138115],\"type\":\"scatter\"},{\"opacity\":0.8,\"x\":[0.01,0.021664299641335483,0.032496449462003224,0.04212502708037455,0.05175360469874588,0.07221433213778494,0.09267505957682401,0.20340370218809425,0.35505379967744266,0.5572539296632405,0.8605541246419373,1.617601039886383,3.436198637556267,5.455792793009652,8.28418746840623,18.18356883229425,39.39532532556628,66.66706785740077,100.0],\"y\":[0.0011900118552148342,0.0011829122668132186,0.0011533988872542977,0.0011327352840453386,0.0011177039705216885,0.0010879675392061472,0.0009538563899695873,-0.001099507324397564,-0.0026102843694388866,-0.0030135761480778456,-0.001480703940615058,-0.0009712695609778166,-0.0063679413869977,-0.008507702499628067,-0.00515187531709671,0.0029754675924777985,0.03194156289100647,0.04931168258190155,0.045785292983055115],\"type\":\"scatter\"},{\"opacity\":0.8,\"x\":[0.01,0.021664299641335483,0.032496449462003224,0.04212502708037455,0.05175360469874588,0.07221433213778494,0.09267505957682401,0.20340370218809425,0.35505379967744266,0.5572539296632405,0.8605541246419373,1.617601039886383,3.436198637556267,5.455792793009652,8.28418746840623,18.18356883229425,39.39532532556628,66.66706785740077,100.0],\"y\":[0.005272114649415016,0.0053140162490308285,0.00539857754483819,0.005512238014489412,0.005583873484283686,0.0057527762837708,0.005927123595029116,0.004935846198350191,0.004904166795313358,0.007016465999186039,0.008485764265060425,0.006307600531727076,0.0037885508500039577,0.006299028173089027,0.0032099015079438686,-0.006456054747104645,-0.005382772535085678,-0.0002641454339027405,0.0013863518834114075],\"type\":\"scatter\"},{\"opacity\":0.8,\"x\":[0.01,0.021664299641335483,0.032496449462003224,0.04212502708037455,0.05175360469874588,0.07221433213778494,0.09267505957682401,0.20340370218809425,0.35505379967744266,0.5572539296632405,0.8605541246419373,1.617601039886383,3.436198637556267,5.455792793009652,8.28418746840623,18.18356883229425,39.39532532556628,66.66706785740077,100.0],\"y\":[0.0004864854272454977,0.000562506727874279,0.0006313438061624765,0.0006692265160381794,0.0006749352905899286,0.0007618262898176908,0.0007826441433280706,0.0009562987834215164,0.0002490422921255231,1.708907075226307e-05,-0.0025232441257685423,-0.008834066800773144,-0.006568354554474354,-0.01205420307815075,-0.01589653640985489,-0.04032576084136963,-0.05175834894180298,-0.06780754774808884,-0.07772605866193771],\"type\":\"scatter\"},{\"opacity\":0.8,\"x\":[0.01,0.021664299641335483,0.032496449462003224,0.04212502708037455,0.05175360469874588,0.07221433213778494,0.09267505957682401,0.20340370218809425,0.35505379967744266,0.5572539296632405,0.8605541246419373,1.617601039886383,3.436198637556267,5.455792793009652,8.28418746840623,18.18356883229425,39.39532532556628,66.66706785740077,100.0],\"y\":[0.0016491342103108764,0.001614504843018949,0.0016043350333347917,0.0016366931376978755,0.0017007497372105718,0.0017712307162582874,0.0018109256634488702,0.0012409065384417772,0.0025225363206118345,0.001615287852473557,-0.0007192372577264905,0.002243705792352557,0.006219485774636269,0.00601196801289916,0.008882930502295494,-0.0018383651040494442,0.002655033953487873,-0.01798814907670021,-0.03551387041807175],\"type\":\"scatter\"},{\"opacity\":0.8,\"x\":[0.01,0.021664299641335483,0.032496449462003224,0.04212502708037455,0.05175360469874588,0.07221433213778494,0.09267505957682401,0.20340370218809425,0.35505379967744266,0.5572539296632405,0.8605541246419373,1.617601039886383,3.436198637556267,5.455792793009652,8.28418746840623,18.18356883229425,39.39532532556628,66.66706785740077,100.0],\"y\":[-0.005176998674869537,-0.005150957964360714,-0.005137081257998943,-0.005160989239811897,-0.005186240188777447,-0.005169556941837072,-0.005102211143821478,-0.005730339325964451,-0.004319087602198124,-0.004171529319137335,-0.004394778050482273,0.0009278346551582217,0.0018737120553851128,-0.004696410149335861,-0.006611283868551254,-0.03416772931814194,-0.08774285018444061,-0.11232763528823853,-0.11755979061126709],\"type\":\"scatter\"},{\"opacity\":0.8,\"x\":[0.01,0.021664299641335483,0.032496449462003224,0.04212502708037455,0.05175360469874588,0.07221433213778494,0.09267505957682401,0.20340370218809425,0.35505379967744266,0.5572539296632405,0.8605541246419373,1.617601039886383,3.436198637556267,5.455792793009652,8.28418746840623,18.18356883229425,39.39532532556628,66.66706785740077,100.0],\"y\":[-6.726104766130447e-05,-7.890257984399796e-05,-0.00010171113535761833,-0.0001368480734527111,-0.00017413543537259102,-0.0001879315823316574,-0.00020677689462900162,-0.0007902088109403849,-0.0025753681547939777,-0.0017821453511714935,-0.003736024722456932,-0.0010200877441093326,0.0046595074236392975,0.002255322877317667,0.00989343598484993,0.015432992950081825,-0.011300474405288696,-0.026502178981900215,-0.035067807883024216],\"type\":\"scatter\"},{\"opacity\":0.8,\"x\":[0.01,0.021664299641335483,0.032496449462003224,0.04212502708037455,0.05175360469874588,0.07221433213778494,0.09267505957682401,0.20340370218809425,0.35505379967744266,0.5572539296632405,0.8605541246419373,1.617601039886383,3.436198637556267,5.455792793009652,8.28418746840623,18.18356883229425,39.39532532556628,66.66706785740077,100.0],\"y\":[0.0017373081063851714,0.0017678211443126202,0.0018361208494752645,0.0019672398921102285,0.0020536945667117834,0.002225669799372554,0.002450414700433612,0.001779099809937179,0.0022086293902248144,0.005663403309881687,0.0033102731686085463,0.0011795451864600182,0.004805305972695351,0.0013284366577863693,-0.001862349919974804,-0.020597955211997032,-0.02937973476946354,-0.03360717371106148,-0.028442177921533585],\"type\":\"scatter\"},{\"opacity\":0.8,\"x\":[0.01,0.021664299641335483,0.032496449462003224,0.04212502708037455,0.05175360469874588,0.07221433213778494,0.09267505957682401,0.20340370218809425,0.35505379967744266,0.5572539296632405,0.8605541246419373,1.617601039886383,3.436198637556267,5.455792793009652,8.28418746840623,18.18356883229425,39.39532532556628,66.66706785740077,100.0],\"y\":[0.0025300404522567987,0.00254229037091136,0.002487358869984746,0.002377339405938983,0.002251881640404463,0.0020173981320112944,0.0017719632014632225,0.0022581799421459436,0.0026871527079492807,0.0020214845426380634,-0.0013400042662397027,-0.002299137180671096,0.0019276420352980494,0.0008014459162950516,0.0039047016762197018,0.025579672306776047,0.03168082237243652,0.030467096716165543,0.027311455458402634],\"type\":\"scatter\"},{\"opacity\":0.8,\"x\":[0.01,0.021664299641335483,0.032496449462003224,0.04212502708037455,0.05175360469874588,0.07221433213778494,0.09267505957682401,0.20340370218809425,0.35505379967744266,0.5572539296632405,0.8605541246419373,1.617601039886383,3.436198637556267,5.455792793009652,8.28418746840623,18.18356883229425,39.39532532556628,66.66706785740077,100.0],\"y\":[-0.00510096549987793,-0.00515091884881258,-0.0052068098448216915,-0.005230636801570654,-0.005247949622571468,-0.005315257236361504,-0.005243130028247833,-0.006324771326035261,-0.004281093366444111,-0.004148443695157766,-0.004715306218713522,0.001995585160329938,0.0003300156386103481,-0.002020505955442786,-0.001509757712483406,-0.0013260096311569214,0.012941738590598106,0.020831091329455376,0.04102702811360359],\"type\":\"scatter\"},{\"opacity\":0.8,\"x\":[0.01,0.021664299641335483,0.032496449462003224,0.04212502708037455,0.05175360469874588,0.07221433213778494,0.09267505957682401,0.20340370218809425,0.35505379967744266,0.5572539296632405,0.8605541246419373,1.617601039886383,3.436198637556267,5.455792793009652,8.28418746840623,18.18356883229425,39.39532532556628,66.66706785740077,100.0],\"y\":[0.00492902984842658,0.004933799151331186,0.004957663826644421,0.0050219083204865456,0.005082536954432726,0.005229517817497253,0.005413336679339409,0.00544577045366168,0.007306687533855438,0.007634442299604416,0.004664610140025616,-0.007108720950782299,-0.01861346699297428,-0.022303815931081772,-0.029737772420048714,-0.06004955992102623,-0.12616169452667236,-0.16407546401023865,-0.178057461977005],\"type\":\"scatter\"},{\"opacity\":0.8,\"x\":[0.01,0.021664299641335483,0.032496449462003224,0.04212502708037455,0.05175360469874588,0.07221433213778494,0.09267505957682401,0.20340370218809425,0.35505379967744266,0.5572539296632405,0.8605541246419373,1.617601039886383,3.436198637556267,5.455792793009652,8.28418746840623,18.18356883229425,39.39532532556628,66.66706785740077,100.0],\"y\":[0.00407637981697917,0.004076392389833927,0.004134493414312601,0.004217478912323713,0.004297678824514151,0.004349143244326115,0.004239160567522049,0.0040176380425691605,0.0055865328758955,0.007084227167069912,0.008970201946794987,0.004334612283855677,0.012305374257266521,0.015488572418689728,0.015050447545945644,0.02674858644604683,0.05250393599271774,0.07300354540348053,0.08624058216810226],\"type\":\"scatter\"},{\"opacity\":0.8,\"x\":[0.01,0.021664299641335483,0.032496449462003224,0.04212502708037455,0.05175360469874588,0.07221433213778494,0.09267505957682401,0.20340370218809425,0.35505379967744266,0.5572539296632405,0.8605541246419373,1.617601039886383,3.436198637556267,5.455792793009652,8.28418746840623,18.18356883229425,39.39532532556628,66.66706785740077,100.0],\"y\":[-0.00032086519058793783,-0.0003506745269987732,-0.00037402857560664415,-0.0003758294624276459,-0.000386219413485378,-0.0003613204462453723,-0.0003297778603155166,0.0007696651155129075,0.0017409917199984193,0.0012743365950882435,0.0010038587497547269,0.001534826005809009,0.0004334652330726385,0.010490858927369118,0.009042327292263508,0.013965790160000324,0.010303637012839317,0.013181963935494423,0.010092499665915966],\"type\":\"scatter\"},{\"opacity\":0.8,\"x\":[0.01,0.021664299641335483,0.032496449462003224,0.04212502708037455,0.05175360469874588,0.07221433213778494,0.09267505957682401,0.20340370218809425,0.35505379967744266,0.5572539296632405,0.8605541246419373,1.617601039886383,3.436198637556267,5.455792793009652,8.28418746840623,18.18356883229425,39.39532532556628,66.66706785740077,100.0],\"y\":[-0.002903570421040058,-0.0029396158643066883,-0.0029953038319945335,-0.003075195010751486,-0.0031587271951138973,-0.003301665186882019,-0.0034331507049500942,-0.0026996994856745005,-0.003730721538886428,-0.0020554508082568645,-0.0005462706321850419,-0.0022282060235738754,-0.0014322217321023345,-0.0016064629890024662,-0.0018266607075929642,-0.0036673680879175663,0.013057276606559753,0.049462370574474335,0.059113048017024994],\"type\":\"scatter\"},{\"opacity\":0.8,\"x\":[0.01,0.021664299641335483,0.032496449462003224,0.04212502708037455,0.05175360469874588,0.07221433213778494,0.09267505957682401,0.20340370218809425,0.35505379967744266,0.5572539296632405,0.8605541246419373,1.617601039886383,3.436198637556267,5.455792793009652,8.28418746840623,18.18356883229425,39.39532532556628,66.66706785740077,100.0],\"y\":[0.0006289754528552294,0.0005253920098766685,0.00038045094697736204,0.0002733878791332245,0.00022111130238045007,8.162736048689112e-05,0.00010878282773774117,9.977786976378411e-05,0.003408449701964855,0.0033534131944179535,0.0026235547848045826,-0.002603944856673479,-0.002221103757619858,-0.011318445205688477,-0.022097241133451462,-0.044742804020643234,-0.04975612461566925,-0.052173636853694916,-0.05039248988032341],\"type\":\"scatter\"},{\"opacity\":0.8,\"x\":[0.01,0.021664299641335483,0.032496449462003224,0.04212502708037455,0.05175360469874588,0.07221433213778494,0.09267505957682401,0.20340370218809425,0.35505379967744266,0.5572539296632405,0.8605541246419373,1.617601039886383,3.436198637556267,5.455792793009652,8.28418746840623,18.18356883229425,39.39532532556628,66.66706785740077,100.0],\"y\":[-0.008103890344500542,-0.008055215701460838,-0.008006727322936058,-0.007907332852482796,-0.007790225092321634,-0.00757966935634613,-0.0074246544390916824,-0.006937237456440926,-0.007495151832699776,-0.0061173345893621445,-0.0070885056629776955,-0.0042966874316334724,-0.005019682925194502,-0.006688899360597134,-0.011648720130324364,-0.02829701267182827,-0.04818078503012657,-0.06549330055713654,-0.07309024780988693],\"type\":\"scatter\"},{\"opacity\":0.8,\"x\":[0.01,0.021664299641335483,0.032496449462003224,0.04212502708037455,0.05175360469874588,0.07221433213778494,0.09267505957682401,0.20340370218809425,0.35505379967744266,0.5572539296632405,0.8605541246419373,1.617601039886383,3.436198637556267,5.455792793009652,8.28418746840623,18.18356883229425,39.39532532556628,66.66706785740077,100.0],\"y\":[0.0019380715675652027,0.001950388541445136,0.0019671835470944643,0.002010517055168748,0.002071032300591469,0.0021567970979958773,0.0022020884789526463,0.0023683414328843355,0.0026779179461300373,0.003601720556616783,0.003117890562862158,0.0007182665867730975,0.005452271550893784,-0.000655490206554532,-0.0007963692769408226,0.0009618736803531647,0.0330999530851841,0.06172738969326019,0.07002764195203781],\"type\":\"scatter\"},{\"opacity\":0.8,\"x\":[0.01,0.021664299641335483,0.032496449462003224,0.04212502708037455,0.05175360469874588,0.07221433213778494,0.09267505957682401,0.20340370218809425,0.35505379967744266,0.5572539296632405,0.8605541246419373,1.617601039886383,3.436198637556267,5.455792793009652,8.28418746840623,18.18356883229425,39.39532532556628,66.66706785740077,100.0],\"y\":[-0.003119322471320629,-0.0030790837481617928,-0.003076613415032625,-0.0031046918593347073,-0.00310986815020442,-0.0029397502075880766,-0.0028288071043789387,-0.003894848981872201,-0.007385152392089367,-0.008123387582600117,-0.003953221719712019,0.001972308848053217,0.008276982232928276,0.008199510164558887,0.0023822649382054806,-0.0020719552412629128,0.007061083801090717,-0.003546547144651413,-0.01281464472413063],\"type\":\"scatter\"},{\"opacity\":0.8,\"x\":[0.01,0.021664299641335483,0.032496449462003224,0.04212502708037455,0.05175360469874588,0.07221433213778494,0.09267505957682401,0.20340370218809425,0.35505379967744266,0.5572539296632405,0.8605541246419373,1.617601039886383,3.436198637556267,5.455792793009652,8.28418746840623,18.18356883229425,39.39532532556628,66.66706785740077,100.0],\"y\":[0.00504191592335701,0.004958935081958771,0.004829371813684702,0.00472033116966486,0.004649308510124683,0.0043848054483532906,0.0041919914074242115,0.004911957308650017,0.005038432776927948,0.0038501936942338943,0.0027944862376898527,-4.9758702516555786e-05,-0.0031521650962531567,-0.00203836802393198,-0.0052149007096886635,-0.017443634569644928,-0.01258915290236473,-0.006765358150005341,0.003297552466392517],\"type\":\"scatter\"},{\"opacity\":0.8,\"x\":[0.01,0.021664299641335483,0.032496449462003224,0.04212502708037455,0.05175360469874588,0.07221433213778494,0.09267505957682401,0.20340370218809425,0.35505379967744266,0.5572539296632405,0.8605541246419373,1.617601039886383,3.436198637556267,5.455792793009652,8.28418746840623,18.18356883229425,39.39532532556628,66.66706785740077,100.0],\"y\":[0.006769545841962099,0.00673256628215313,0.0067512583918869495,0.006867072079330683,0.0070142606273293495,0.007167442236095667,0.007274462375789881,0.008784607984125614,0.0071604251861572266,0.006099184043705463,0.005354580469429493,0.003444717265665531,-0.009666668251156807,-0.012851844541728497,-0.016483426094055176,-0.031626928597688675,-0.05866354703903198,-0.07304045557975769,-0.07424713671207428],\"type\":\"scatter\"},{\"opacity\":0.8,\"x\":[0.01,0.021664299641335483,0.032496449462003224,0.04212502708037455,0.05175360469874588,0.07221433213778494,0.09267505957682401,0.20340370218809425,0.35505379967744266,0.5572539296632405,0.8605541246419373,1.617601039886383,3.436198637556267,5.455792793009652,8.28418746840623,18.18356883229425,39.39532532556628,66.66706785740077,100.0],\"y\":[-0.0024575532879680395,-0.002480897819623351,-0.002505362033843994,-0.002529182005673647,-0.002519909292459488,-0.0024412712082266808,-0.0024233609437942505,-0.0028464901261031628,-0.0030289667192846537,-0.002141013741493225,0.0015859706327319145,-0.0013183075934648514,-0.005153770558536053,0.0017649605870246887,0.013506666757166386,0.0368279293179512,0.05019315704703331,0.038942817598581314,0.02717065066099167],\"type\":\"scatter\"},{\"opacity\":0.8,\"x\":[0.01,0.021664299641335483,0.032496449462003224,0.04212502708037455,0.05175360469874588,0.07221433213778494,0.09267505957682401,0.20340370218809425,0.35505379967744266,0.5572539296632405,0.8605541246419373,1.617601039886383,3.436198637556267,5.455792793009652,8.28418746840623,18.18356883229425,39.39532532556628,66.66706785740077,100.0],\"y\":[-0.0014749437104910612,-0.0014136082027107477,-0.0013334432151168585,-0.001306841499172151,-0.001318765920586884,-0.0012102983891963959,-0.0010544417891651392,-0.0024426502641290426,-0.0017125059384852648,-0.005042405799031258,-0.005766059271991253,-0.003798846388235688,-0.002119921613484621,-0.004289158619940281,0.004999431781470776,0.03880171850323677,0.08459678292274475,0.1216454952955246,0.1417132019996643],\"type\":\"scatter\"},{\"opacity\":0.8,\"x\":[0.01,0.021664299641335483,0.032496449462003224,0.04212502708037455,0.05175360469874588,0.07221433213778494,0.09267505957682401,0.20340370218809425,0.35505379967744266,0.5572539296632405,0.8605541246419373,1.617601039886383,3.436198637556267,5.455792793009652,8.28418746840623,18.18356883229425,39.39532532556628,66.66706785740077,100.0],\"y\":[0.004284700844436884,0.004306746181100607,0.00440022861585021,0.004501383751630783,0.004621484782546759,0.004872539080679417,0.0049359542317688465,0.0037482623010873795,0.0031196996569633484,0.00194111792370677,0.0015484094619750977,-0.0022187228314578533,0.001758066238835454,0.005054806359112263,0.01174511294811964,0.004270749166607857,-0.011451302096247673,-0.005703888833522797,-0.007024794816970825],\"type\":\"scatter\"},{\"opacity\":0.8,\"x\":[0.01,0.021664299641335483,0.032496449462003224,0.04212502708037455,0.05175360469874588,0.07221433213778494,0.09267505957682401,0.20340370218809425,0.35505379967744266,0.5572539296632405,0.8605541246419373,1.617601039886383,3.436198637556267,5.455792793009652,8.28418746840623,18.18356883229425,39.39532532556628,66.66706785740077,100.0],\"y\":[0.0037054778076708317,0.003673003986477852,0.0036335301119834185,0.0035733943805098534,0.003525880863890052,0.003450058400630951,0.0034363423474133015,0.004268491640686989,0.003986162133514881,0.004682411905378103,0.006803141441196203,0.006414947099983692,0.007460903842002153,0.01292607095092535,0.022582322359085083,0.03477322682738304,0.04461362957954407,0.026107946410775185,0.018887493759393692],\"type\":\"scatter\"},{\"opacity\":0.8,\"x\":[0.01,0.021664299641335483,0.032496449462003224,0.04212502708037455,0.05175360469874588,0.07221433213778494,0.09267505957682401,0.20340370218809425,0.35505379967744266,0.5572539296632405,0.8605541246419373,1.617601039886383,3.436198637556267,5.455792793009652,8.28418746840623,18.18356883229425,39.39532532556628,66.66706785740077,100.0],\"y\":[0.0006031884113326669,0.0006187775870785117,0.0005992946680635214,0.0005750264972448349,0.0005992073565721512,0.0007350717205554247,0.0008767861872911453,0.0014899447560310364,0.0027399302925914526,0.003205524990335107,0.0026031897868961096,0.0036427679006010294,-0.0028846266213804483,0.00588297238573432,0.011963926255702972,0.03497187793254852,0.0577310211956501,0.07489117234945297,0.08120919018983841],\"type\":\"scatter\"},{\"opacity\":0.8,\"x\":[0.01,0.021664299641335483,0.032496449462003224,0.04212502708037455,0.05175360469874588,0.07221433213778494,0.09267505957682401,0.20340370218809425,0.35505379967744266,0.5572539296632405,0.8605541246419373,1.617601039886383,3.436198637556267,5.455792793009652,8.28418746840623,18.18356883229425,39.39532532556628,66.66706785740077,100.0],\"y\":[-0.004631451331079006,-0.004623105749487877,-0.004651160910725594,-0.00469577219337225,-0.004688929300755262,-0.004471703432500362,-0.004308152943849564,-0.0044008237309753895,-0.005324842408299446,-0.0062834471464157104,-0.005066460929811001,-0.0032235258258879185,0.00266817444935441,0.0021345035638660192,-0.0008349365089088678,0.004501444287598133,0.01635369285941124,0.017717530950903893,0.014561157673597336],\"type\":\"scatter\"},{\"opacity\":0.8,\"x\":[0.01,0.021664299641335483,0.032496449462003224,0.04212502708037455,0.05175360469874588,0.07221433213778494,0.09267505957682401,0.20340370218809425,0.35505379967744266,0.5572539296632405,0.8605541246419373,1.617601039886383,3.436198637556267,5.455792793009652,8.28418746840623,18.18356883229425,39.39532532556628,66.66706785740077,100.0],\"y\":[0.0012562691699713469,0.001212812727317214,0.001177240046672523,0.001150788739323616,0.0011433192994445562,0.0011530355550348759,0.0011510939802974463,-0.00018218683544546366,0.0007574077462777495,0.003177760634571314,-4.398031160235405e-05,0.001657493645325303,0.009133259765803814,0.005625225603580475,0.007701830007135868,-0.004422291181981564,-0.018723051995038986,-0.03668469563126564,-0.04274533689022064],\"type\":\"scatter\"},{\"opacity\":0.8,\"x\":[0.01,0.021664299641335483,0.032496449462003224,0.04212502708037455,0.05175360469874588,0.07221433213778494,0.09267505957682401,0.20340370218809425,0.35505379967744266,0.5572539296632405,0.8605541246419373,1.617601039886383,3.436198637556267,5.455792793009652,8.28418746840623,18.18356883229425,39.39532532556628,66.66706785740077,100.0],\"y\":[0.0056402236223220825,0.005665029399096966,0.005678649991750717,0.005687662400305271,0.005678964778780937,0.0056009478867053986,0.005481659434735775,0.006223419681191444,0.004994374234229326,0.005028869956731796,0.007621126249432564,0.00883086770772934,0.012199833989143372,0.018927980214357376,0.025396941229701042,0.03834683075547218,0.05286094918847084,0.056953586637973785,0.06132343411445618],\"type\":\"scatter\"},{\"opacity\":0.8,\"x\":[0.01,0.021664299641335483,0.032496449462003224,0.04212502708037455,0.05175360469874588,0.07221433213778494,0.09267505957682401,0.20340370218809425,0.35505379967744266,0.5572539296632405,0.8605541246419373,1.617601039886383,3.436198637556267,5.455792793009652,8.28418746840623,18.18356883229425,39.39532532556628,66.66706785740077,100.0],\"y\":[0.0040230462327599525,0.004064968787133694,0.004124007187783718,0.0041659013368189335,0.004214440938085318,0.004239765927195549,0.0042114038951694965,0.006349051836878061,0.005136560183018446,0.00513639859855175,0.00511952256783843,0.004641291219741106,0.006814870983362198,0.00706045376136899,0.004274056758731604,0.013358093798160553,0.02844693511724472,0.03478496894240379,0.033265870064496994],\"type\":\"scatter\"},{\"opacity\":0.8,\"x\":[0.01,0.021664299641335483,0.032496449462003224,0.04212502708037455,0.05175360469874588,0.07221433213778494,0.09267505957682401,0.20340370218809425,0.35505379967744266,0.5572539296632405,0.8605541246419373,1.617601039886383,3.436198637556267,5.455792793009652,8.28418746840623,18.18356883229425,39.39532532556628,66.66706785740077,100.0],\"y\":[0.005758881103247404,0.00586236547678709,0.006004202179610729,0.0061342124827206135,0.006210442632436752,0.006330858916044235,0.00637909397482872,0.003919563256204128,0.0027142364997416735,0.005035989917814732,0.007656047120690346,0.003534373128786683,0.005574867129325867,0.012363018468022346,0.011140475980937481,0.0026714978739619255,-0.036646850407123566,-0.04231269285082817,-0.03875313699245453],\"type\":\"scatter\"},{\"opacity\":0.8,\"x\":[0.01,0.021664299641335483,0.032496449462003224,0.04212502708037455,0.05175360469874588,0.07221433213778494,0.09267505957682401,0.20340370218809425,0.35505379967744266,0.5572539296632405,0.8605541246419373,1.617601039886383,3.436198637556267,5.455792793009652,8.28418746840623,18.18356883229425,39.39532532556628,66.66706785740077,100.0],\"y\":[0.004361146129667759,0.004350590985268354,0.0043536280281841755,0.004387984052300453,0.004450264386832714,0.004609919153153896,0.004749051295220852,0.003916310612112284,0.0014660069718956947,0.001099677407182753,0.0026066419668495655,0.004099885001778603,0.012639697641134262,0.01254255697131157,0.014804867096245289,0.023956604301929474,0.048911988735198975,0.05505852773785591,0.042085200548172],\"type\":\"scatter\"},{\"opacity\":0.8,\"x\":[0.01,0.021664299641335483,0.032496449462003224,0.04212502708037455,0.05175360469874588,0.07221433213778494,0.09267505957682401,0.20340370218809425,0.35505379967744266,0.5572539296632405,0.8605541246419373,1.617601039886383,3.436198637556267,5.455792793009652,8.28418746840623,18.18356883229425,39.39532532556628,66.66706785740077,100.0],\"y\":[0.00032336643198505044,0.00034374144161120057,0.0004057835030835122,0.00049967021914199,0.0006031068041920662,0.0007638087263330817,0.0008252690313383937,-0.0003693259786814451,-0.0009463850292377174,-0.00045451842015609145,-0.0021974751725792885,0.0012223399244248867,-0.0036042737774550915,-0.0035891530569642782,-0.0031368283089250326,-0.017340831458568573,-0.017081189900636673,-0.009142886847257614,-0.00035855360329151154],\"type\":\"scatter\"},{\"opacity\":0.8,\"x\":[0.01,0.021664299641335483,0.032496449462003224,0.04212502708037455,0.05175360469874588,0.07221433213778494,0.09267505957682401,0.20340370218809425,0.35505379967744266,0.5572539296632405,0.8605541246419373,1.617601039886383,3.436198637556267,5.455792793009652,8.28418746840623,18.18356883229425,39.39532532556628,66.66706785740077,100.0],\"y\":[0.005485348869115114,0.005416597239673138,0.005372683051973581,0.005384629592299461,0.005435027647763491,0.005458014085888863,0.005413964856415987,0.005946063902229071,0.005417972337454557,0.006562879309058189,0.004573274403810501,0.005143711343407631,0.016428567469120026,0.023098159581422806,0.028390638530254364,0.04907095432281494,0.08719149976968765,0.08882877975702286,0.07823578268289566],\"type\":\"scatter\"},{\"opacity\":0.8,\"x\":[0.01,0.021664299641335483,0.032496449462003224,0.04212502708037455,0.05175360469874588,0.07221433213778494,0.09267505957682401,0.20340370218809425,0.35505379967744266,0.5572539296632405,0.8605541246419373,1.617601039886383,3.436198637556267,5.455792793009652,8.28418746840623,18.18356883229425,39.39532532556628,66.66706785740077,100.0],\"y\":[-0.0029191551730036736,-0.002898908220231533,-0.0028413578402251005,-0.0027438770048320293,-0.0026418159250169992,-0.0025290767662227154,-0.0025456734001636505,-0.002506826538592577,-0.0019449188839644194,8.504802826792002e-05,0.0011046872241422534,0.00379714067094028,0.0015922081656754017,-0.00916699506342411,-0.025468207895755768,-0.06384865939617157,-0.11984996497631073,-0.137227401137352,-0.14625577628612518],\"type\":\"scatter\"},{\"opacity\":0.8,\"x\":[0.01,0.021664299641335483,0.032496449462003224,0.04212502708037455,0.05175360469874588,0.07221433213778494,0.09267505957682401,0.20340370218809425,0.35505379967744266,0.5572539296632405,0.8605541246419373,1.617601039886383,3.436198637556267,5.455792793009652,8.28418746840623,18.18356883229425,39.39532532556628,66.66706785740077,100.0],\"y\":[0.010354217141866684,0.010446767322719097,0.01052628830075264,0.010570742189884186,0.010644346475601196,0.010958523489534855,0.011216538958251476,0.01130512822419405,0.010537593625485897,0.009077571332454681,0.010020307265222073,0.006709874141961336,0.0036662365309894085,0.0026625427417457104,0.0036680351477116346,-0.011004431173205376,-0.020565439015626907,-0.046275779604911804,-0.043473854660987854],\"type\":\"scatter\"},{\"opacity\":0.8,\"x\":[0.01,0.021664299641335483,0.032496449462003224,0.04212502708037455,0.05175360469874588,0.07221433213778494,0.09267505957682401,0.20340370218809425,0.35505379967744266,0.5572539296632405,0.8605541246419373,1.617601039886383,3.436198637556267,5.455792793009652,8.28418746840623,18.18356883229425,39.39532532556628,66.66706785740077,100.0],\"y\":[-0.0024413014762103558,-0.0023922992404550314,-0.0023763366043567657,-0.0024093645624816418,-0.002464106772094965,-0.002499447437003255,-0.002556413412094116,-0.005369365215301514,-0.0064582545310258865,-0.006376610137522221,-0.0036808536387979984,-0.0004677892429754138,0.004068722017109394,0.0063529592007398605,0.015192503109574318,0.021114103496074677,0.04110219329595566,0.06925446540117264,0.0754002034664154],\"type\":\"scatter\"},{\"opacity\":0.8,\"x\":[0.01,0.021664299641335483,0.032496449462003224,0.04212502708037455,0.05175360469874588,0.07221433213778494,0.09267505957682401,0.20340370218809425,0.35505379967744266,0.5572539296632405,0.8605541246419373,1.617601039886383,3.436198637556267,5.455792793009652,8.28418746840623,18.18356883229425,39.39532532556628,66.66706785740077,100.0],\"y\":[-0.00109210389200598,-0.0010605115676298738,-0.0010331390658393502,-0.0010436661541461945,-0.0010402691550552845,-0.0008944792207330465,-0.0008018931839615107,-0.001957171829417348,-0.001336326589807868,-0.0025789428036659956,-0.004038545303046703,-0.0020684171468019485,0.007738845888525248,0.018588673323392868,0.022708918899297714,0.028521591797471046,0.03817849978804588,0.055150892585515976,0.05976300686597824],\"type\":\"scatter\"},{\"opacity\":0.8,\"x\":[0.01,0.021664299641335483,0.032496449462003224,0.04212502708037455,0.05175360469874588,0.07221433213778494,0.09267505957682401,0.20340370218809425,0.35505379967744266,0.5572539296632405,0.8605541246419373,1.617601039886383,3.436198637556267,5.455792793009652,8.28418746840623,18.18356883229425,39.39532532556628,66.66706785740077,100.0],\"y\":[-6.046233465895057e-05,-7.243885193020105e-06,5.031796172261238e-05,4.602147964760661e-05,3.915972774848342e-05,5.57154999114573e-05,0.00010275340173393488,1.8731923773884773e-05,0.000741452444344759,0.0016142405802384019,0.0025506149977445602,0.006266229320317507,0.01649240031838417,0.007765157148241997,0.006490127649158239,-0.0027360906824469566,-0.01304324995726347,-0.02290111780166626,-0.021639874204993248],\"type\":\"scatter\"},{\"opacity\":0.8,\"x\":[0.01,0.021664299641335483,0.032496449462003224,0.04212502708037455,0.05175360469874588,0.07221433213778494,0.09267505957682401,0.20340370218809425,0.35505379967744266,0.5572539296632405,0.8605541246419373,1.617601039886383,3.436198637556267,5.455792793009652,8.28418746840623,18.18356883229425,39.39532532556628,66.66706785740077,100.0],\"y\":[0.0031856349669396877,0.00321950763463974,0.0032411455176770687,0.0032694803085178137,0.0033239347394555807,0.003387162461876869,0.003433922305703163,0.004850142635405064,0.0067447335459291935,0.00795041210949421,0.004091859329491854,0.002980570774525404,-0.0038046767003834248,-0.0055666593834757805,-0.0010759165743365884,0.009228641167283058,0.005140461027622223,-0.008931199088692665,-0.012239182367920876],\"type\":\"scatter\"},{\"opacity\":0.8,\"x\":[0.01,0.021664299641335483,0.032496449462003224,0.04212502708037455,0.05175360469874588,0.07221433213778494,0.09267505957682401,0.20340370218809425,0.35505379967744266,0.5572539296632405,0.8605541246419373,1.617601039886383,3.436198637556267,5.455792793009652,8.28418746840623,18.18356883229425,39.39532532556628,66.66706785740077,100.0],\"y\":[-0.004487707279622555,-0.004422855097800493,-0.004368974827229977,-0.004372240975499153,-0.0044028800912201405,-0.0044697849079966545,-0.004586203023791313,-0.005752467550337315,-0.007853269577026367,-0.006170681677758694,-0.004932250827550888,-0.004251301288604736,0.0008998845005407929,-0.0007693319348618388,-0.0033267822582274675,-0.008756953291594982,0.0010554846376180649,0.0296771302819252,0.03487173467874527],\"type\":\"scatter\"},{\"opacity\":0.8,\"x\":[0.01,0.021664299641335483,0.032496449462003224,0.04212502708037455,0.05175360469874588,0.07221433213778494,0.09267505957682401,0.20340370218809425,0.35505379967744266,0.5572539296632405,0.8605541246419373,1.617601039886383,3.436198637556267,5.455792793009652,8.28418746840623,18.18356883229425,39.39532532556628,66.66706785740077,100.0],\"y\":[0.00793392863124609,0.007881136611104012,0.007724754512310028,0.007506698369979858,0.007293287198990583,0.006983267143368721,0.006830782629549503,0.006122243590652943,0.006258564535528421,0.008114490658044815,0.008647538721561432,0.008006096817553043,0.009267359040677547,0.01779593527317047,0.025067077949643135,0.03246987983584404,0.014597132802009583,-0.003955557942390442,-0.008472075685858727],\"type\":\"scatter\"},{\"opacity\":0.8,\"x\":[0.01,0.021664299641335483,0.032496449462003224,0.04212502708037455,0.05175360469874588,0.07221433213778494,0.09267505957682401,0.20340370218809425,0.35505379967744266,0.5572539296632405,0.8605541246419373,1.617601039886383,3.436198637556267,5.455792793009652,8.28418746840623,18.18356883229425,39.39532532556628,66.66706785740077,100.0],\"y\":[0.0014611731749027967,0.0014853798784315586,0.0014831612352281809,0.001435242360457778,0.0013513825833797455,0.0012619150802493095,0.0012050301302224398,0.0005906517617404461,-0.0019641632679849863,0.0005372511222958565,0.0016793091781437397,-0.0007654542569071054,-0.0006938701262697577,0.0027945036999881268,0.011219745501875877,0.02309870719909668,0.07816746830940247,0.09815239906311035,0.09734000265598297],\"type\":\"scatter\"},{\"opacity\":0.8,\"x\":[0.01,0.021664299641335483,0.032496449462003224,0.04212502708037455,0.05175360469874588,0.07221433213778494,0.09267505957682401,0.20340370218809425,0.35505379967744266,0.5572539296632405,0.8605541246419373,1.617601039886383,3.436198637556267,5.455792793009652,8.28418746840623,18.18356883229425,39.39532532556628,66.66706785740077,100.0],\"y\":[0.004740533418953419,0.004689506255090237,0.004619468469172716,0.004522258415818214,0.0044126627035439014,0.004188996739685535,0.004070891533046961,0.0029993613716214895,0.0047604115679860115,0.005635980516672134,0.007007984444499016,0.008122339844703674,0.011856628581881523,0.015276141464710236,0.018313514068722725,0.023559262976050377,0.0498027540743351,0.055447887629270554,0.05932911857962608],\"type\":\"scatter\"},{\"opacity\":0.8,\"x\":[0.01,0.021664299641335483,0.032496449462003224,0.04212502708037455,0.05175360469874588,0.07221433213778494,0.09267505957682401,0.20340370218809425,0.35505379967744266,0.5572539296632405,0.8605541246419373,1.617601039886383,3.436198637556267,5.455792793009652,8.28418746840623,18.18356883229425,39.39532532556628,66.66706785740077,100.0],\"y\":[0.006512293592095375,0.006477195769548416,0.006466689519584179,0.006435777060687542,0.006437985692173243,0.006695480085909367,0.006878041196614504,0.006905119400471449,0.007412349805235863,0.00802753958851099,0.006744741927832365,0.0017183513846248388,0.010568393394351006,0.014439528807997704,0.02187986671924591,0.03137824311852455,0.04296001046895981,0.055389195680618286,0.04899696633219719],\"type\":\"scatter\"},{\"opacity\":0.8,\"x\":[0.01,0.021664299641335483,0.032496449462003224,0.04212502708037455,0.05175360469874588,0.07221433213778494,0.09267505957682401,0.20340370218809425,0.35505379967744266,0.5572539296632405,0.8605541246419373,1.617601039886383,3.436198637556267,5.455792793009652,8.28418746840623,18.18356883229425,39.39532532556628,66.66706785740077,100.0],\"y\":[0.004071748349815607,0.0040455167181789875,0.004004078451544046,0.00395161984488368,0.0038844128139317036,0.003773824777454138,0.0036472193896770477,0.004488683771342039,0.0032971641048789024,0.0036673713475465775,0.002809441415593028,0.0023302040062844753,0.0011750478297472,0.001981032080948353,0.004632708616554737,0.010945454239845276,0.027325622737407684,0.02621619589626789,0.030389219522476196],\"type\":\"scatter\"},{\"opacity\":0.8,\"x\":[0.01,0.021664299641335483,0.032496449462003224,0.04212502708037455,0.05175360469874588,0.07221433213778494,0.09267505957682401,0.20340370218809425,0.35505379967744266,0.5572539296632405,0.8605541246419373,1.617601039886383,3.436198637556267,5.455792793009652,8.28418746840623,18.18356883229425,39.39532532556628,66.66706785740077,100.0],\"y\":[0.0019444255158305168,0.0018576192669570446,0.001749343704432249,0.0016698535764589906,0.0016361630987375975,0.0015342467231675982,0.0015468155033886433,0.0020628187339752913,0.004307086579501629,0.004613207653164864,0.0046166954562067986,0.0016059286426752806,-0.00041753757977858186,0.004013468511402607,0.0025811558589339256,-0.008502630516886711,-0.022425204515457153,-0.02411053329706192,-0.030835993587970734],\"type\":\"scatter\"}],                        {\"title\":{\"text\":\"Spectral dynamics: attn-only-2l\"},\"template\":{\"data\":{\"histogram2dcontour\":[{\"type\":\"histogram2dcontour\",\"colorbar\":{\"outlinewidth\":0,\"ticks\":\"\"},\"colorscale\":[[0.0,\"#0d0887\"],[0.1111111111111111,\"#46039f\"],[0.2222222222222222,\"#7201a8\"],[0.3333333333333333,\"#9c179e\"],[0.4444444444444444,\"#bd3786\"],[0.5555555555555556,\"#d8576b\"],[0.6666666666666666,\"#ed7953\"],[0.7777777777777778,\"#fb9f3a\"],[0.8888888888888888,\"#fdca26\"],[1.0,\"#f0f921\"]]}],\"choropleth\":[{\"type\":\"choropleth\",\"colorbar\":{\"outlinewidth\":0,\"ticks\":\"\"}}],\"histogram2d\":[{\"type\":\"histogram2d\",\"colorbar\":{\"outlinewidth\":0,\"ticks\":\"\"},\"colorscale\":[[0.0,\"#0d0887\"],[0.1111111111111111,\"#46039f\"],[0.2222222222222222,\"#7201a8\"],[0.3333333333333333,\"#9c179e\"],[0.4444444444444444,\"#bd3786\"],[0.5555555555555556,\"#d8576b\"],[0.6666666666666666,\"#ed7953\"],[0.7777777777777778,\"#fb9f3a\"],[0.8888888888888888,\"#fdca26\"],[1.0,\"#f0f921\"]]}],\"heatmap\":[{\"type\":\"heatmap\",\"colorbar\":{\"outlinewidth\":0,\"ticks\":\"\"},\"colorscale\":[[0.0,\"#0d0887\"],[0.1111111111111111,\"#46039f\"],[0.2222222222222222,\"#7201a8\"],[0.3333333333333333,\"#9c179e\"],[0.4444444444444444,\"#bd3786\"],[0.5555555555555556,\"#d8576b\"],[0.6666666666666666,\"#ed7953\"],[0.7777777777777778,\"#fb9f3a\"],[0.8888888888888888,\"#fdca26\"],[1.0,\"#f0f921\"]]}],\"heatmapgl\":[{\"type\":\"heatmapgl\",\"colorbar\":{\"outlinewidth\":0,\"ticks\":\"\"},\"colorscale\":[[0.0,\"#0d0887\"],[0.1111111111111111,\"#46039f\"],[0.2222222222222222,\"#7201a8\"],[0.3333333333333333,\"#9c179e\"],[0.4444444444444444,\"#bd3786\"],[0.5555555555555556,\"#d8576b\"],[0.6666666666666666,\"#ed7953\"],[0.7777777777777778,\"#fb9f3a\"],[0.8888888888888888,\"#fdca26\"],[1.0,\"#f0f921\"]]}],\"contourcarpet\":[{\"type\":\"contourcarpet\",\"colorbar\":{\"outlinewidth\":0,\"ticks\":\"\"}}],\"contour\":[{\"type\":\"contour\",\"colorbar\":{\"outlinewidth\":0,\"ticks\":\"\"},\"colorscale\":[[0.0,\"#0d0887\"],[0.1111111111111111,\"#46039f\"],[0.2222222222222222,\"#7201a8\"],[0.3333333333333333,\"#9c179e\"],[0.4444444444444444,\"#bd3786\"],[0.5555555555555556,\"#d8576b\"],[0.6666666666666666,\"#ed7953\"],[0.7777777777777778,\"#fb9f3a\"],[0.8888888888888888,\"#fdca26\"],[1.0,\"#f0f921\"]]}],\"surface\":[{\"type\":\"surface\",\"colorbar\":{\"outlinewidth\":0,\"ticks\":\"\"},\"colorscale\":[[0.0,\"#0d0887\"],[0.1111111111111111,\"#46039f\"],[0.2222222222222222,\"#7201a8\"],[0.3333333333333333,\"#9c179e\"],[0.4444444444444444,\"#bd3786\"],[0.5555555555555556,\"#d8576b\"],[0.6666666666666666,\"#ed7953\"],[0.7777777777777778,\"#fb9f3a\"],[0.8888888888888888,\"#fdca26\"],[1.0,\"#f0f921\"]]}],\"mesh3d\":[{\"type\":\"mesh3d\",\"colorbar\":{\"outlinewidth\":0,\"ticks\":\"\"}}],\"scatter\":[{\"fillpattern\":{\"fillmode\":\"overlay\",\"size\":10,\"solidity\":0.2},\"type\":\"scatter\"}],\"parcoords\":[{\"type\":\"parcoords\",\"line\":{\"colorbar\":{\"outlinewidth\":0,\"ticks\":\"\"}}}],\"scatterpolargl\":[{\"type\":\"scatterpolargl\",\"marker\":{\"colorbar\":{\"outlinewidth\":0,\"ticks\":\"\"}}}],\"bar\":[{\"error_x\":{\"color\":\"#2a3f5f\"},\"error_y\":{\"color\":\"#2a3f5f\"},\"marker\":{\"line\":{\"color\":\"#E5ECF6\",\"width\":0.5},\"pattern\":{\"fillmode\":\"overlay\",\"size\":10,\"solidity\":0.2}},\"type\":\"bar\"}],\"scattergeo\":[{\"type\":\"scattergeo\",\"marker\":{\"colorbar\":{\"outlinewidth\":0,\"ticks\":\"\"}}}],\"scatterpolar\":[{\"type\":\"scatterpolar\",\"marker\":{\"colorbar\":{\"outlinewidth\":0,\"ticks\":\"\"}}}],\"histogram\":[{\"marker\":{\"pattern\":{\"fillmode\":\"overlay\",\"size\":10,\"solidity\":0.2}},\"type\":\"histogram\"}],\"scattergl\":[{\"type\":\"scattergl\",\"marker\":{\"colorbar\":{\"outlinewidth\":0,\"ticks\":\"\"}}}],\"scatter3d\":[{\"type\":\"scatter3d\",\"line\":{\"colorbar\":{\"outlinewidth\":0,\"ticks\":\"\"}},\"marker\":{\"colorbar\":{\"outlinewidth\":0,\"ticks\":\"\"}}}],\"scattermapbox\":[{\"type\":\"scattermapbox\",\"marker\":{\"colorbar\":{\"outlinewidth\":0,\"ticks\":\"\"}}}],\"scatterternary\":[{\"type\":\"scatterternary\",\"marker\":{\"colorbar\":{\"outlinewidth\":0,\"ticks\":\"\"}}}],\"scattercarpet\":[{\"type\":\"scattercarpet\",\"marker\":{\"colorbar\":{\"outlinewidth\":0,\"ticks\":\"\"}}}],\"carpet\":[{\"aaxis\":{\"endlinecolor\":\"#2a3f5f\",\"gridcolor\":\"white\",\"linecolor\":\"white\",\"minorgridcolor\":\"white\",\"startlinecolor\":\"#2a3f5f\"},\"baxis\":{\"endlinecolor\":\"#2a3f5f\",\"gridcolor\":\"white\",\"linecolor\":\"white\",\"minorgridcolor\":\"white\",\"startlinecolor\":\"#2a3f5f\"},\"type\":\"carpet\"}],\"table\":[{\"cells\":{\"fill\":{\"color\":\"#EBF0F8\"},\"line\":{\"color\":\"white\"}},\"header\":{\"fill\":{\"color\":\"#C8D4E3\"},\"line\":{\"color\":\"white\"}},\"type\":\"table\"}],\"barpolar\":[{\"marker\":{\"line\":{\"color\":\"#E5ECF6\",\"width\":0.5},\"pattern\":{\"fillmode\":\"overlay\",\"size\":10,\"solidity\":0.2}},\"type\":\"barpolar\"}],\"pie\":[{\"automargin\":true,\"type\":\"pie\"}]},\"layout\":{\"autotypenumbers\":\"strict\",\"colorway\":[\"#636efa\",\"#EF553B\",\"#00cc96\",\"#ab63fa\",\"#FFA15A\",\"#19d3f3\",\"#FF6692\",\"#B6E880\",\"#FF97FF\",\"#FECB52\"],\"font\":{\"color\":\"#2a3f5f\"},\"hovermode\":\"closest\",\"hoverlabel\":{\"align\":\"left\"},\"paper_bgcolor\":\"white\",\"plot_bgcolor\":\"#E5ECF6\",\"polar\":{\"bgcolor\":\"#E5ECF6\",\"angularaxis\":{\"gridcolor\":\"white\",\"linecolor\":\"white\",\"ticks\":\"\"},\"radialaxis\":{\"gridcolor\":\"white\",\"linecolor\":\"white\",\"ticks\":\"\"}},\"ternary\":{\"bgcolor\":\"#E5ECF6\",\"aaxis\":{\"gridcolor\":\"white\",\"linecolor\":\"white\",\"ticks\":\"\"},\"baxis\":{\"gridcolor\":\"white\",\"linecolor\":\"white\",\"ticks\":\"\"},\"caxis\":{\"gridcolor\":\"white\",\"linecolor\":\"white\",\"ticks\":\"\"}},\"coloraxis\":{\"colorbar\":{\"outlinewidth\":0,\"ticks\":\"\"}},\"colorscale\":{\"sequential\":[[0.0,\"#0d0887\"],[0.1111111111111111,\"#46039f\"],[0.2222222222222222,\"#7201a8\"],[0.3333333333333333,\"#9c179e\"],[0.4444444444444444,\"#bd3786\"],[0.5555555555555556,\"#d8576b\"],[0.6666666666666666,\"#ed7953\"],[0.7777777777777778,\"#fb9f3a\"],[0.8888888888888888,\"#fdca26\"],[1.0,\"#f0f921\"]],\"sequentialminus\":[[0.0,\"#0d0887\"],[0.1111111111111111,\"#46039f\"],[0.2222222222222222,\"#7201a8\"],[0.3333333333333333,\"#9c179e\"],[0.4444444444444444,\"#bd3786\"],[0.5555555555555556,\"#d8576b\"],[0.6666666666666666,\"#ed7953\"],[0.7777777777777778,\"#fb9f3a\"],[0.8888888888888888,\"#fdca26\"],[1.0,\"#f0f921\"]],\"diverging\":[[0,\"#8e0152\"],[0.1,\"#c51b7d\"],[0.2,\"#de77ae\"],[0.3,\"#f1b6da\"],[0.4,\"#fde0ef\"],[0.5,\"#f7f7f7\"],[0.6,\"#e6f5d0\"],[0.7,\"#b8e186\"],[0.8,\"#7fbc41\"],[0.9,\"#4d9221\"],[1,\"#276419\"]]},\"xaxis\":{\"gridcolor\":\"white\",\"linecolor\":\"white\",\"ticks\":\"\",\"title\":{\"standoff\":15},\"zerolinecolor\":\"white\",\"automargin\":true,\"zerolinewidth\":2},\"yaxis\":{\"gridcolor\":\"white\",\"linecolor\":\"white\",\"ticks\":\"\",\"title\":{\"standoff\":15},\"zerolinecolor\":\"white\",\"automargin\":true,\"zerolinewidth\":2},\"scene\":{\"xaxis\":{\"backgroundcolor\":\"#E5ECF6\",\"gridcolor\":\"white\",\"linecolor\":\"white\",\"showbackground\":true,\"ticks\":\"\",\"zerolinecolor\":\"white\",\"gridwidth\":2},\"yaxis\":{\"backgroundcolor\":\"#E5ECF6\",\"gridcolor\":\"white\",\"linecolor\":\"white\",\"showbackground\":true,\"ticks\":\"\",\"zerolinecolor\":\"white\",\"gridwidth\":2},\"zaxis\":{\"backgroundcolor\":\"#E5ECF6\",\"gridcolor\":\"white\",\"linecolor\":\"white\",\"showbackground\":true,\"ticks\":\"\",\"zerolinecolor\":\"white\",\"gridwidth\":2}},\"shapedefaults\":{\"line\":{\"color\":\"#2a3f5f\"}},\"annotationdefaults\":{\"arrowcolor\":\"#2a3f5f\",\"arrowhead\":0,\"arrowwidth\":1},\"geo\":{\"bgcolor\":\"white\",\"landcolor\":\"#E5ECF6\",\"subunitcolor\":\"white\",\"showland\":true,\"showlakes\":true,\"lakecolor\":\"white\"},\"title\":{\"x\":0.05},\"mapbox\":{\"style\":\"light\"}}},\"xaxis\":{\"title\":{\"text\":\"% Total Training Tokens\"},\"type\":\"log\"},\"shapes\":[{\"fillcolor\":\"gold\",\"line\":{\"width\":1},\"opacity\":0.2,\"type\":\"rect\",\"x0\":0.6,\"x1\":1.3,\"xref\":\"x\",\"y0\":0,\"y1\":1,\"yref\":\"y domain\"}]},                        {\"responsive\": true}                    ).then(function(){\n",
       "                            \n",
       "var gd = document.getElementById('bad0caf5-48bd-4ee2-90c4-4eff8010e081');\n",
       "var x = new MutationObserver(function (mutations, observer) {{\n",
       "        var display = window.getComputedStyle(gd).display;\n",
       "        if (!display || display === 'none') {{\n",
       "            console.log([gd, 'removed!']);\n",
       "            Plotly.purge(gd);\n",
       "            observer.disconnect();\n",
       "        }}\n",
       "}});\n",
       "\n",
       "// Listen for the removal of the full notebook cells\n",
       "var notebookContainer = gd.closest('#notebook-container');\n",
       "if (notebookContainer) {{\n",
       "    x.observe(notebookContainer, {childList: true});\n",
       "}}\n",
       "\n",
       "// Listen for the clearing of the current output cell\n",
       "var outputEl = gd.closest('.output');\n",
       "if (outputEl) {{\n",
       "    x.observe(outputEl, {childList: true});\n",
       "}}\n",
       "\n",
       "                        })                };                });            </script>        </div>"
      ]
     },
     "metadata": {},
     "output_type": "display_data"
    },
    {
     "data": {
      "text/html": [
       "<div>                            <div id=\"0e80ee90-06d7-439e-a304-c38381be41c1\" class=\"plotly-graph-div\" style=\"height:525px; width:100%;\"></div>            <script type=\"text/javascript\">                require([\"plotly\"], function(Plotly) {                    window.PLOTLYENV=window.PLOTLYENV || {};                                    if (document.getElementById(\"0e80ee90-06d7-439e-a304-c38381be41c1\")) {                    Plotly.newPlot(                        \"0e80ee90-06d7-439e-a304-c38381be41c1\",                        [{\"opacity\":0.8,\"x\":[0.01,0.021664299641335483,0.032496449462003224,0.04212502708037455,0.05175360469874588,0.07221433213778494,0.09267505957682401,0.20340370218809425,0.35505379967744266,0.5572539296632405,0.8605541246419373,1.617601039886383,3.436198637556267,5.455792793009652,8.28418746840623,18.18356883229425,39.39532532556628,66.66706785740077,100.0],\"y\":[-0.0025273386854678392,-0.002609268529340625,-0.0027112180832773447,-0.0028280627448111773,-0.002859034575521946,-0.002780440030619502,-0.002719306154176593,-0.0028856771532446146,-0.002031825017184019,0.0012797130038961768,0.0003536664880812168,-0.0016949897399172187,-0.008404846303164959,-0.021368825808167458,-0.04066179692745209,-0.08258531242609024,-0.12443271279335022,-0.12078270316123962,-0.10870596021413803],\"type\":\"scatter\"},{\"opacity\":0.8,\"x\":[0.01,0.021664299641335483,0.032496449462003224,0.04212502708037455,0.05175360469874588,0.07221433213778494,0.09267505957682401,0.20340370218809425,0.35505379967744266,0.5572539296632405,0.8605541246419373,1.617601039886383,3.436198637556267,5.455792793009652,8.28418746840623,18.18356883229425,39.39532532556628,66.66706785740077,100.0],\"y\":[0.003302990458905697,0.003320898162201047,0.0033729819115251303,0.0034000619780272245,0.003416359657421708,0.0034229718148708344,0.003408583579584956,0.0021891037467867136,0.002107875654473901,0.001270896289497614,-0.0008721366175450385,-0.003895151661708951,0.005161175969988108,0.0077206045389175415,0.01023174449801445,0.0069885458797216415,-0.021350594237446785,-0.029765957966446877,-0.014376689679920673],\"type\":\"scatter\"},{\"opacity\":0.8,\"x\":[0.01,0.021664299641335483,0.032496449462003224,0.04212502708037455,0.05175360469874588,0.07221433213778494,0.09267505957682401,0.20340370218809425,0.35505379967744266,0.5572539296632405,0.8605541246419373,1.617601039886383,3.436198637556267,5.455792793009652,8.28418746840623,18.18356883229425,39.39532532556628,66.66706785740077,100.0],\"y\":[0.002811962040141225,0.0027501254808157682,0.0026984717696905136,0.0026315331924706697,0.0025577135384082794,0.002615559846162796,0.0027331418823450804,0.0038877809420228004,0.004134166985750198,0.005061678122729063,0.003132101148366928,-0.0020599847193807364,-0.013648309744894505,-0.024341879412531853,-0.03272543475031853,-0.02763199619948864,0.033359345048666,0.08692101389169693,0.09789467602968216],\"type\":\"scatter\"},{\"opacity\":0.8,\"x\":[0.01,0.021664299641335483,0.032496449462003224,0.04212502708037455,0.05175360469874588,0.07221433213778494,0.09267505957682401,0.20340370218809425,0.35505379967744266,0.5572539296632405,0.8605541246419373,1.617601039886383,3.436198637556267,5.455792793009652,8.28418746840623,18.18356883229425,39.39532532556628,66.66706785740077,100.0],\"y\":[-0.0002273305581184104,-0.00021648257097695023,-0.00022244722640607506,-0.00022198139049578458,-0.0001661442220211029,-0.0001800778991309926,-0.00020337947353255004,8.243439515354112e-05,0.0001967857388081029,0.0015451163053512573,-0.0007495053578168154,-0.0012928427895531058,0.003181247739121318,-6.422043225029483e-05,-0.0032233658712357283,-0.03845153748989105,-0.038500819355249405,-0.04281461611390114,-0.045054737478494644],\"type\":\"scatter\"},{\"opacity\":0.8,\"x\":[0.01,0.021664299641335483,0.032496449462003224,0.04212502708037455,0.05175360469874588,0.07221433213778494,0.09267505957682401,0.20340370218809425,0.35505379967744266,0.5572539296632405,0.8605541246419373,1.617601039886383,3.436198637556267,5.455792793009652,8.28418746840623,18.18356883229425,39.39532532556628,66.66706785740077,100.0],\"y\":[-0.0025429120287299156,-0.0024758391082286835,-0.0023616990074515343,-0.0022217510268092155,-0.002078165067359805,-0.0018348363228142262,-0.0017731096595525742,-0.0019014016725122929,-0.0017127542523667216,-0.0016625545686110854,-0.0010007164673879743,-0.00018465130415279418,0.0054243821650743484,0.016839908435940742,0.0385126918554306,0.09647607803344727,0.13857673108577728,0.10968364030122757,0.0887652039527893],\"type\":\"scatter\"},{\"opacity\":0.8,\"x\":[0.01,0.021664299641335483,0.032496449462003224,0.04212502708037455,0.05175360469874588,0.07221433213778494,0.09267505957682401,0.20340370218809425,0.35505379967744266,0.5572539296632405,0.8605541246419373,1.617601039886383,3.436198637556267,5.455792793009652,8.28418746840623,18.18356883229425,39.39532532556628,66.66706785740077,100.0],\"y\":[-0.0027912650257349014,-0.002838209504261613,-0.0028976304456591606,-0.0029373595025390387,-0.0029290474485605955,-0.0027880349662154913,-0.002758712274953723,-0.0022419418673962355,-0.0008046662551350892,-0.0011590700596570969,-0.00090726901544258,-0.0023132446222007275,-0.00414683623239398,-0.010243400000035763,-0.014625832438468933,-0.043898582458496094,-0.0708303302526474,-0.06265581399202347,-0.06883151084184647],\"type\":\"scatter\"},{\"opacity\":0.8,\"x\":[0.01,0.021664299641335483,0.032496449462003224,0.04212502708037455,0.05175360469874588,0.07221433213778494,0.09267505957682401,0.20340370218809425,0.35505379967744266,0.5572539296632405,0.8605541246419373,1.617601039886383,3.436198637556267,5.455792793009652,8.28418746840623,18.18356883229425,39.39532532556628,66.66706785740077,100.0],\"y\":[-0.0004514578322414309,-0.0004391592519823462,-0.0004764289187733084,-0.0004903000663034618,-0.0005061072297394276,-0.0006286108982749283,-0.000707870174665004,-0.0003449538198765367,0.0011349391425028443,0.0030352806206792593,0.005097521003335714,0.005117345135658979,0.0004174035566393286,0.008327999152243137,0.022834867238998413,0.08309604972600937,0.11710796505212784,0.10571124404668808,0.11192534118890762],\"type\":\"scatter\"},{\"opacity\":0.8,\"x\":[0.01,0.021664299641335483,0.032496449462003224,0.04212502708037455,0.05175360469874588,0.07221433213778494,0.09267505957682401,0.20340370218809425,0.35505379967744266,0.5572539296632405,0.8605541246419373,1.617601039886383,3.436198637556267,5.455792793009652,8.28418746840623,18.18356883229425,39.39532532556628,66.66706785740077,100.0],\"y\":[0.00689331442117691,0.006963096559047699,0.007040577474981546,0.007097408175468445,0.007130561396479607,0.0073072235099971294,0.007349876221269369,0.007287560496479273,0.006556882057338953,0.006192436441779137,0.0038412408903241158,0.0006548466626554728,-0.021650046110153198,-0.03740912303328514,-0.05558927729725838,-0.0768277645111084,-0.07255584001541138,-0.05994204804301262,-0.03254958987236023],\"type\":\"scatter\"},{\"opacity\":0.8,\"x\":[0.01,0.021664299641335483,0.032496449462003224,0.04212502708037455,0.05175360469874588,0.07221433213778494,0.09267505957682401,0.20340370218809425,0.35505379967744266,0.5572539296632405,0.8605541246419373,1.617601039886383,3.436198637556267,5.455792793009652,8.28418746840623,18.18356883229425,39.39532532556628,66.66706785740077,100.0],\"y\":[0.0008403866668231785,0.0007918386836536229,0.0007294589304365218,0.0006487221689894795,0.0005767886177636683,0.0005205615307204425,0.00047551895841024816,0.001376371830701828,0.0017843185923993587,0.002197188325226307,0.002340409904718399,0.0034754471853375435,0.0022793258540332317,-0.001671784557402134,-0.0023927113506942987,-0.004301339853554964,-0.017224708572030067,-0.031752556562423706,-0.02554960735142231],\"type\":\"scatter\"},{\"opacity\":0.8,\"x\":[0.01,0.021664299641335483,0.032496449462003224,0.04212502708037455,0.05175360469874588,0.07221433213778494,0.09267505957682401,0.20340370218809425,0.35505379967744266,0.5572539296632405,0.8605541246419373,1.617601039886383,3.436198637556267,5.455792793009652,8.28418746840623,18.18356883229425,39.39532532556628,66.66706785740077,100.0],\"y\":[0.002864782465621829,0.0028832554817199707,0.002965737832710147,0.003063012845814228,0.0031383223831653595,0.0032142444979399443,0.003238559002056718,0.0037191417068243027,0.0033219873439520597,0.002875878242775798,0.0010245830053463578,0.0004890227573923767,0.00492140045389533,0.012418416328728199,0.01752244122326374,0.03753671050071716,0.057435330003499985,0.062246907502412796,0.053670335561037064],\"type\":\"scatter\"},{\"opacity\":0.8,\"x\":[0.01,0.021664299641335483,0.032496449462003224,0.04212502708037455,0.05175360469874588,0.07221433213778494,0.09267505957682401,0.20340370218809425,0.35505379967744266,0.5572539296632405,0.8605541246419373,1.617601039886383,3.436198637556267,5.455792793009652,8.28418746840623,18.18356883229425,39.39532532556628,66.66706785740077,100.0],\"y\":[0.0035248184576630592,0.0035242177546024323,0.0035103384871035814,0.0034914901480078697,0.0034553699661046267,0.0035205755848437548,0.0036118931602686644,0.00453622592613101,0.0037736159283667803,0.004433969967067242,0.00493368785828352,0.006716617848724127,-0.00208902801387012,-0.004060116596519947,0.0015126258367672563,-0.008161339908838272,-0.0066055841743946075,-0.036287546157836914,-0.026827001944184303],\"type\":\"scatter\"},{\"opacity\":0.8,\"x\":[0.01,0.021664299641335483,0.032496449462003224,0.04212502708037455,0.05175360469874588,0.07221433213778494,0.09267505957682401,0.20340370218809425,0.35505379967744266,0.5572539296632405,0.8605541246419373,1.617601039886383,3.436198637556267,5.455792793009652,8.28418746840623,18.18356883229425,39.39532532556628,66.66706785740077,100.0],\"y\":[0.00027185134240426123,0.0002643995394464582,0.0002858747320715338,0.00032726535573601723,0.0003628211561590433,0.00034371865331195295,0.00030619194149039686,0.0001941751834237948,0.0015099915908649564,0.0027842000126838684,0.001374339102767408,0.0013144990662112832,-0.003874380374327302,-0.006095076445490122,-0.007700331509113312,0.007558912038803101,0.014678727835416794,0.014915339648723602,0.020819926634430885],\"type\":\"scatter\"},{\"opacity\":0.8,\"x\":[0.01,0.021664299641335483,0.032496449462003224,0.04212502708037455,0.05175360469874588,0.07221433213778494,0.09267505957682401,0.20340370218809425,0.35505379967744266,0.5572539296632405,0.8605541246419373,1.617601039886383,3.436198637556267,5.455792793009652,8.28418746840623,18.18356883229425,39.39532532556628,66.66706785740077,100.0],\"y\":[0.00025437131989747286,0.0002958012337330729,0.0003585431259125471,0.00042494956869632006,0.0004901569918729365,0.0005835811025463045,0.000595786317717284,0.0007818331941962242,0.0006020083674229681,0.00240585976280272,0.00019891602278221399,0.002877450780943036,0.0074101598002016544,0.006936764344573021,0.0015271032461896539,-0.006223255302757025,0.0010849324753507972,0.0111464262008667,0.010710243135690689],\"type\":\"scatter\"},{\"opacity\":0.8,\"x\":[0.01,0.021664299641335483,0.032496449462003224,0.04212502708037455,0.05175360469874588,0.07221433213778494,0.09267505957682401,0.20340370218809425,0.35505379967744266,0.5572539296632405,0.8605541246419373,1.617601039886383,3.436198637556267,5.455792793009652,8.28418746840623,18.18356883229425,39.39532532556628,66.66706785740077,100.0],\"y\":[0.0019728525076061487,0.0019423268968239427,0.0018818204989656806,0.0018005785532295704,0.0017456607893109322,0.001688620657660067,0.0016927920514717698,0.0015567950904369354,0.0018414874793961644,0.002155940979719162,0.0039045976009219885,0.0038697815034538507,0.006026627495884895,0.004553141538053751,0.015273037366569042,0.029253942891955376,0.04782947525382042,0.051360275596380234,0.04369361326098442],\"type\":\"scatter\"},{\"opacity\":0.8,\"x\":[0.01,0.021664299641335483,0.032496449462003224,0.04212502708037455,0.05175360469874588,0.07221433213778494,0.09267505957682401,0.20340370218809425,0.35505379967744266,0.5572539296632405,0.8605541246419373,1.617601039886383,3.436198637556267,5.455792793009652,8.28418746840623,18.18356883229425,39.39532532556628,66.66706785740077,100.0],\"y\":[-0.002739872084930539,-0.0027381714899092913,-0.002760133473202586,-0.0027656585443764925,-0.002703180769458413,-0.0027235327288508415,-0.0027566656935960054,-0.002795386128127575,-0.002321144100278616,-0.004437003750354052,-0.004069252405315638,-0.001394482678733766,-0.0034850791562348604,-0.006720052566379309,-0.002174992114305496,0.01535862684249878,0.050415873527526855,0.06103998422622681,0.06312965601682663],\"type\":\"scatter\"},{\"opacity\":0.8,\"x\":[0.01,0.021664299641335483,0.032496449462003224,0.04212502708037455,0.05175360469874588,0.07221433213778494,0.09267505957682401,0.20340370218809425,0.35505379967744266,0.5572539296632405,0.8605541246419373,1.617601039886383,3.436198637556267,5.455792793009652,8.28418746840623,18.18356883229425,39.39532532556628,66.66706785740077,100.0],\"y\":[0.0025929156690835953,0.0026223037857562304,0.0026481340173631907,0.0026783605571836233,0.0027208502870053053,0.0028514547739177942,0.002855757251381874,0.003795603523030877,0.004595515783876181,0.005988834425806999,0.004770983476191759,0.0030972736421972513,0.009490345604717731,0.008373452350497246,0.0062188380397856236,-7.703123992541805e-05,0.013520452193915844,0.01688223145902157,0.01740284450352192],\"type\":\"scatter\"},{\"opacity\":0.8,\"x\":[0.01,0.021664299641335483,0.032496449462003224,0.04212502708037455,0.05175360469874588,0.07221433213778494,0.09267505957682401,0.20340370218809425,0.35505379967744266,0.5572539296632405,0.8605541246419373,1.617601039886383,3.436198637556267,5.455792793009652,8.28418746840623,18.18356883229425,39.39532532556628,66.66706785740077,100.0],\"y\":[0.002288414631038904,0.0022890709806233644,0.002227382967248559,0.002146964892745018,0.002095351694151759,0.002100949175655842,0.002110106172040105,0.001276718103326857,-0.0013903789222240448,-0.0022222038824111223,-0.0017876880010589957,-0.0007458046893589199,-0.0034404024481773376,-0.005349846091121435,-0.004435911308974028,-0.0329122468829155,-0.08695786446332932,-0.10889235883951187,-0.11190518736839294],\"type\":\"scatter\"},{\"opacity\":0.8,\"x\":[0.01,0.021664299641335483,0.032496449462003224,0.04212502708037455,0.05175360469874588,0.07221433213778494,0.09267505957682401,0.20340370218809425,0.35505379967744266,0.5572539296632405,0.8605541246419373,1.617601039886383,3.436198637556267,5.455792793009652,8.28418746840623,18.18356883229425,39.39532532556628,66.66706785740077,100.0],\"y\":[-0.0019688745960593224,-0.001960407244041562,-0.0019678634125739336,-0.0019880032632499933,-0.001961295958608389,-0.001790183479897678,-0.0016671689227223396,-0.00181143032386899,-0.0010410690447315574,-0.002442864002659917,-0.00248499377630651,-0.0015508666401728988,0.004510772880166769,0.007030760869383812,0.005383434239774942,0.0216101985424757,0.026565968990325928,0.02617582678794861,0.032518353313207626],\"type\":\"scatter\"},{\"opacity\":0.8,\"x\":[0.01,0.021664299641335483,0.032496449462003224,0.04212502708037455,0.05175360469874588,0.07221433213778494,0.09267505957682401,0.20340370218809425,0.35505379967744266,0.5572539296632405,0.8605541246419373,1.617601039886383,3.436198637556267,5.455792793009652,8.28418746840623,18.18356883229425,39.39532532556628,66.66706785740077,100.0],\"y\":[-0.0020614792592823505,-0.0020453494507819414,-0.0019815119449049234,-0.0018815943039953709,-0.0018262825906276703,-0.0017804643139243126,-0.0017225429182872176,-0.0011116514215245843,-0.0022422485053539276,-0.0020602934528142214,-0.0036207742523401976,0.00043815808021463454,-0.000985970487818122,0.0004991427413187921,0.007204411551356316,0.0029885992407798767,-0.022021114826202393,-0.03139564394950867,-0.041829466819763184],\"type\":\"scatter\"},{\"opacity\":0.8,\"x\":[0.01,0.021664299641335483,0.032496449462003224,0.04212502708037455,0.05175360469874588,0.07221433213778494,0.09267505957682401,0.20340370218809425,0.35505379967744266,0.5572539296632405,0.8605541246419373,1.617601039886383,3.436198637556267,5.455792793009652,8.28418746840623,18.18356883229425,39.39532532556628,66.66706785740077,100.0],\"y\":[0.0014778394252061844,0.0015217812033370137,0.0015723746037110686,0.0016250795451924205,0.0016125807305797935,0.0015070964582264423,0.0014565667370334268,0.0015428928891196847,-0.0011652234243229032,-0.0014390390133485198,0.0005072814528830349,0.003757400205358863,-0.007284653838723898,-0.007357330527156591,-0.011406400240957737,-0.04045984894037247,-0.03448573499917984,-0.003987716976553202,0.013469119556248188],\"type\":\"scatter\"},{\"opacity\":0.8,\"x\":[0.01,0.021664299641335483,0.032496449462003224,0.04212502708037455,0.05175360469874588,0.07221433213778494,0.09267505957682401,0.20340370218809425,0.35505379967744266,0.5572539296632405,0.8605541246419373,1.617601039886383,3.436198637556267,5.455792793009652,8.28418746840623,18.18356883229425,39.39532532556628,66.66706785740077,100.0],\"y\":[-0.0027819809038192034,-0.002732840133830905,-0.002630008151754737,-0.0025591235607862473,-0.0025627741124480963,-0.002639837795868516,-0.0026982901617884636,-0.003237478667870164,-0.003170628333464265,-0.0012105257483199239,-0.0004562071990221739,0.002499484457075596,-4.552716200123541e-05,-0.0004723663441836834,0.0032782237976789474,0.024850664660334587,0.020497292280197144,0.015292197465896606,0.00951614324003458],\"type\":\"scatter\"},{\"opacity\":0.8,\"x\":[0.01,0.021664299641335483,0.032496449462003224,0.04212502708037455,0.05175360469874588,0.07221433213778494,0.09267505957682401,0.20340370218809425,0.35505379967744266,0.5572539296632405,0.8605541246419373,1.617601039886383,3.436198637556267,5.455792793009652,8.28418746840623,18.18356883229425,39.39532532556628,66.66706785740077,100.0],\"y\":[0.0005177546408958733,0.0005495400982908905,0.0005971140344627202,0.0006626839749515057,0.0006850457866676152,0.000632832816336304,0.0005453357007354498,-0.00027101216255687177,-0.0004191329062450677,-0.00024728840799070895,-0.0017863760003820062,-0.006597604602575302,-0.0024483685847371817,0.0009671564330346882,0.0026878931093961,-0.0053322999738156796,-0.011336498893797398,-0.0037056889850646257,-0.0022941294591873884],\"type\":\"scatter\"},{\"opacity\":0.8,\"x\":[0.01,0.021664299641335483,0.032496449462003224,0.04212502708037455,0.05175360469874588,0.07221433213778494,0.09267505957682401,0.20340370218809425,0.35505379967744266,0.5572539296632405,0.8605541246419373,1.617601039886383,3.436198637556267,5.455792793009652,8.28418746840623,18.18356883229425,39.39532532556628,66.66706785740077,100.0],\"y\":[0.00031870263046585023,0.00030989875085651875,0.00024292927992064506,0.00015777512453496456,6.611071148654446e-05,-0.00011366939725121483,-0.00017781609494704753,-0.00090600032126531,-0.0018950126832351089,-0.001440861145965755,0.0002293268480570987,-0.00031431697425432503,-0.003386297496035695,-0.003014585003256798,-0.003988147247582674,-0.012337971478700638,-0.014951779507100582,-0.015767186880111694,-0.016963601112365723],\"type\":\"scatter\"},{\"opacity\":0.8,\"x\":[0.01,0.021664299641335483,0.032496449462003224,0.04212502708037455,0.05175360469874588,0.07221433213778494,0.09267505957682401,0.20340370218809425,0.35505379967744266,0.5572539296632405,0.8605541246419373,1.617601039886383,3.436198637556267,5.455792793009652,8.28418746840623,18.18356883229425,39.39532532556628,66.66706785740077,100.0],\"y\":[-0.00027392824995331466,-0.00023190974025055766,-0.00018324230040889233,-0.00015911547234281898,-0.00010684641165426001,6.408217359421542e-06,0.0001030445346259512,-0.0002999281568918377,-0.0010624011047184467,-0.0015790872275829315,-0.0003570652042981237,0.0006191512220539153,0.005210068076848984,0.010170458815991879,0.026148656383156776,0.03643897920846939,0.04107384756207466,0.034530118107795715,0.027471965178847313],\"type\":\"scatter\"},{\"opacity\":0.8,\"x\":[0.01,0.021664299641335483,0.032496449462003224,0.04212502708037455,0.05175360469874588,0.07221433213778494,0.09267505957682401,0.20340370218809425,0.35505379967744266,0.5572539296632405,0.8605541246419373,1.617601039886383,3.436198637556267,5.455792793009652,8.28418746840623,18.18356883229425,39.39532532556628,66.66706785740077,100.0],\"y\":[-0.0014764918014407158,-0.0014334283769130707,-0.0013504632515832782,-0.0012625990202650428,-0.0012546738144010305,-0.001298017450608313,-0.0013227126328274608,-0.001397096668370068,-0.0021142875775694847,-0.0009923207107931376,0.0009169904515147209,-0.00010269827907904983,-0.004564800765365362,-0.003369071753695607,-0.006859259679913521,-0.004587342496961355,0.00431678956374526,0.015546831302344799,0.0166181530803442],\"type\":\"scatter\"},{\"opacity\":0.8,\"x\":[0.01,0.021664299641335483,0.032496449462003224,0.04212502708037455,0.05175360469874588,0.07221433213778494,0.09267505957682401,0.20340370218809425,0.35505379967744266,0.5572539296632405,0.8605541246419373,1.617601039886383,3.436198637556267,5.455792793009652,8.28418746840623,18.18356883229425,39.39532532556628,66.66706785740077,100.0],\"y\":[0.0005603704485110939,0.000576462596654892,0.0006693066097795963,0.0007549962028861046,0.0007748834905214608,0.0008107283501885831,0.0008182877209037542,0.0010797316208481789,0.0031731727067381144,0.002671891590580344,0.0021701559890061617,0.002327178604900837,-0.002804420655593276,-0.006442164536565542,-0.009342837147414684,-0.022245904430747032,-0.037196818739175797,-0.03751317039132118,-0.0402250699698925],\"type\":\"scatter\"},{\"opacity\":0.8,\"x\":[0.01,0.021664299641335483,0.032496449462003224,0.04212502708037455,0.05175360469874588,0.07221433213778494,0.09267505957682401,0.20340370218809425,0.35505379967744266,0.5572539296632405,0.8605541246419373,1.617601039886383,3.436198637556267,5.455792793009652,8.28418746840623,18.18356883229425,39.39532532556628,66.66706785740077,100.0],\"y\":[0.0022370177321135998,0.00229150359518826,0.0023575264494866133,0.002392963506281376,0.002452832879498601,0.0026339113246649504,0.002777308225631714,0.0031699547544121742,0.0013080124044790864,0.001223444938659668,-0.0007793715340085328,-0.005856516305357218,-0.005774207413196564,-0.0037687160074710846,-0.006637796759605408,-0.0346951000392437,-0.05339440330862999,-0.06215810403227806,-0.05381064489483833],\"type\":\"scatter\"},{\"opacity\":0.8,\"x\":[0.01,0.021664299641335483,0.032496449462003224,0.04212502708037455,0.05175360469874588,0.07221433213778494,0.09267505957682401,0.20340370218809425,0.35505379967744266,0.5572539296632405,0.8605541246419373,1.617601039886383,3.436198637556267,5.455792793009652,8.28418746840623,18.18356883229425,39.39532532556628,66.66706785740077,100.0],\"y\":[-0.0011740447953343391,-0.0011302271159365773,-0.0011405812110751867,-0.0012073717080056667,-0.0012487915810197592,-0.0012097236467525363,-0.0011815327452495694,-0.001978076295927167,-0.002674245974048972,-0.0014924798160791397,-0.002093720017001033,0.0030592884868383408,-0.0010171193862333894,-0.005437296349555254,-0.01274680346250534,-0.011708009988069534,-0.008478231728076935,-0.012819145806133747,-0.0225297212600708],\"type\":\"scatter\"},{\"opacity\":0.8,\"x\":[0.01,0.021664299641335483,0.032496449462003224,0.04212502708037455,0.05175360469874588,0.07221433213778494,0.09267505957682401,0.20340370218809425,0.35505379967744266,0.5572539296632405,0.8605541246419373,1.617601039886383,3.436198637556267,5.455792793009652,8.28418746840623,18.18356883229425,39.39532532556628,66.66706785740077,100.0],\"y\":[0.0010239329421892762,0.0009914882248267531,0.000870784220751375,0.0007517843623645604,0.0006361217820085585,0.0003625471144914627,0.00028330585337243974,-0.00036647822707891464,-0.0004102479724679142,-0.0022795081604272127,-0.0028440356254577637,-0.0012234129244461656,-0.0038996636867523193,-0.0026485139969736338,-0.006591644138097763,-0.0038199119735509157,0.003701071022078395,0.01890142448246479,0.024647867307066917],\"type\":\"scatter\"},{\"opacity\":0.8,\"x\":[0.01,0.021664299641335483,0.032496449462003224,0.04212502708037455,0.05175360469874588,0.07221433213778494,0.09267505957682401,0.20340370218809425,0.35505379967744266,0.5572539296632405,0.8605541246419373,1.617601039886383,3.436198637556267,5.455792793009652,8.28418746840623,18.18356883229425,39.39532532556628,66.66706785740077,100.0],\"y\":[-0.005683571565896273,-0.005725699942559004,-0.005800044629722834,-0.005866142455488443,-0.005897470284253359,-0.0059178597293794155,-0.005946736317127943,-0.0056447722017765045,-0.004649084061384201,-0.004029247909784317,-0.003733834018930793,-0.0021920197177678347,0.0004263978044036776,0.003263193415477872,0.005412095692008734,0.02572057954967022,0.04214581847190857,0.03646855056285858,0.03188494220376015],\"type\":\"scatter\"},{\"opacity\":0.8,\"x\":[0.01,0.021664299641335483,0.032496449462003224,0.04212502708037455,0.05175360469874588,0.07221433213778494,0.09267505957682401,0.20340370218809425,0.35505379967744266,0.5572539296632405,0.8605541246419373,1.617601039886383,3.436198637556267,5.455792793009652,8.28418746840623,18.18356883229425,39.39532532556628,66.66706785740077,100.0],\"y\":[0.0034399209544062614,0.0034002831671386957,0.003304143436253071,0.0031790994107723236,0.003077494679018855,0.002883629873394966,0.002776989946141839,0.002453907858580351,0.00399263110011816,0.0024853728245943785,0.0005894994246773422,-0.00032747877412475646,-0.007743933703750372,-0.006026084069162607,-0.00926851574331522,-0.032516881823539734,-0.03489278256893158,-0.038738999515771866,-0.03540128841996193],\"type\":\"scatter\"},{\"opacity\":0.8,\"x\":[0.01,0.021664299641335483,0.032496449462003224,0.04212502708037455,0.05175360469874588,0.07221433213778494,0.09267505957682401,0.20340370218809425,0.35505379967744266,0.5572539296632405,0.8605541246419373,1.617601039886383,3.436198637556267,5.455792793009652,8.28418746840623,18.18356883229425,39.39532532556628,66.66706785740077,100.0],\"y\":[0.00733589380979538,0.007372346241027117,0.0074392701499164104,0.007518470287322998,0.007626169826835394,0.0078474385663867,0.007959860377013683,0.007607107982039452,0.008110401220619678,0.008774133399128914,0.006151245906949043,0.004480106756091118,0.002689313841983676,0.009723602794110775,0.012750246562063694,0.0066487654112279415,0.0031908948440104723,-0.00523415207862854,-0.005151381250470877],\"type\":\"scatter\"},{\"opacity\":0.8,\"x\":[0.01,0.021664299641335483,0.032496449462003224,0.04212502708037455,0.05175360469874588,0.07221433213778494,0.09267505957682401,0.20340370218809425,0.35505379967744266,0.5572539296632405,0.8605541246419373,1.617601039886383,3.436198637556267,5.455792793009652,8.28418746840623,18.18356883229425,39.39532532556628,66.66706785740077,100.0],\"y\":[0.0002841133682522923,0.0003132925776299089,0.0003721857210621238,0.0004384959174785763,0.0005027412553317845,0.0007015960291028023,0.0008445117273367941,0.0007599762757308781,0.0018746769055724144,0.001774527714587748,0.0011246484937146306,0.001019741641357541,0.00267086923122406,-0.008318893611431122,-0.013093434274196625,-0.01767474226653576,-0.04756031557917595,-0.041376497596502304,-0.031290452927351],\"type\":\"scatter\"},{\"opacity\":0.8,\"x\":[0.01,0.021664299641335483,0.032496449462003224,0.04212502708037455,0.05175360469874588,0.07221433213778494,0.09267505957682401,0.20340370218809425,0.35505379967744266,0.5572539296632405,0.8605541246419373,1.617601039886383,3.436198637556267,5.455792793009652,8.28418746840623,18.18356883229425,39.39532532556628,66.66706785740077,100.0],\"y\":[0.0014078583335503936,0.0013470788253471255,0.0012898454442620277,0.0012388905743137002,0.0011917619267478585,0.0011518113315105438,0.001046850928105414,-0.0002144117170246318,-7.59598333388567e-05,-0.00017541235138196498,0.0016366379568353295,-0.0006094666314311326,0.0010075541213154793,0.0017015222692862153,0.001426911330781877,-0.005072855390608311,-0.029679549857974052,-0.04285574331879616,-0.040713388472795486],\"type\":\"scatter\"},{\"opacity\":0.8,\"x\":[0.01,0.021664299641335483,0.032496449462003224,0.04212502708037455,0.05175360469874588,0.07221433213778494,0.09267505957682401,0.20340370218809425,0.35505379967744266,0.5572539296632405,0.8605541246419373,1.617601039886383,3.436198637556267,5.455792793009652,8.28418746840623,18.18356883229425,39.39532532556628,66.66706785740077,100.0],\"y\":[0.002967986511066556,0.0030191719997674227,0.0030633232090622187,0.003105949843302369,0.003154187463223934,0.0030997663270682096,0.0031085312366485596,0.0027811501640826464,0.0027781780809164047,0.002137686824426055,0.002046673558652401,-0.00575358048081398,-0.012882247567176819,-0.010759043507277966,-0.004843051079660654,0.0017159549752250314,0.022513659670948982,0.029866548255085945,0.03991724178195],\"type\":\"scatter\"},{\"opacity\":0.8,\"x\":[0.01,0.021664299641335483,0.032496449462003224,0.04212502708037455,0.05175360469874588,0.07221433213778494,0.09267505957682401,0.20340370218809425,0.35505379967744266,0.5572539296632405,0.8605541246419373,1.617601039886383,3.436198637556267,5.455792793009652,8.28418746840623,18.18356883229425,39.39532532556628,66.66706785740077,100.0],\"y\":[-0.0008779673953540623,-0.0009721024543978274,-0.001070167520083487,-0.001136789214797318,-0.001227134489454329,-0.0014827930135652423,-0.0015484915347769856,-0.0016798190772533417,-0.0004960839869454503,0.00024323277466464788,0.0005757192266173661,2.7581118047237396e-05,0.001573215238749981,0.004823889583349228,0.011349928565323353,0.022538388147950172,0.03116636537015438,0.025029189884662628,0.02236911468207836],\"type\":\"scatter\"},{\"opacity\":0.8,\"x\":[0.01,0.021664299641335483,0.032496449462003224,0.04212502708037455,0.05175360469874588,0.07221433213778494,0.09267505957682401,0.20340370218809425,0.35505379967744266,0.5572539296632405,0.8605541246419373,1.617601039886383,3.436198637556267,5.455792793009652,8.28418746840623,18.18356883229425,39.39532532556628,66.66706785740077,100.0],\"y\":[0.006049836054444313,0.006056814920157194,0.006090731825679541,0.006143901962786913,0.006127690430730581,0.0060502346605062485,0.00602330407127738,0.00672812620177865,0.004612969700247049,0.003313571447506547,0.0025942351203411818,0.0061731585301458836,0.006643183995038271,0.013067848049104214,0.0207506213337183,0.03464585170149803,0.03961137309670448,0.048603564500808716,0.05422854423522949],\"type\":\"scatter\"},{\"opacity\":0.8,\"x\":[0.01,0.021664299641335483,0.032496449462003224,0.04212502708037455,0.05175360469874588,0.07221433213778494,0.09267505957682401,0.20340370218809425,0.35505379967744266,0.5572539296632405,0.8605541246419373,1.617601039886383,3.436198637556267,5.455792793009652,8.28418746840623,18.18356883229425,39.39532532556628,66.66706785740077,100.0],\"y\":[-0.0006916180718690157,-0.0006406870088540018,-0.0005759115447290242,-0.0004884912050329149,-0.00040742187411524355,-0.0003278418444097042,-0.0002548414340708405,-0.0003424109017942101,-0.0002744778757914901,0.0004915102035738528,-0.00028185875271447003,0.00407007010653615,0.012030652724206448,0.016423530876636505,0.021629659458994865,0.026727601885795593,0.04648374021053314,0.04312300309538841,0.04704497754573822],\"type\":\"scatter\"},{\"opacity\":0.8,\"x\":[0.01,0.021664299641335483,0.032496449462003224,0.04212502708037455,0.05175360469874588,0.07221433213778494,0.09267505957682401,0.20340370218809425,0.35505379967744266,0.5572539296632405,0.8605541246419373,1.617601039886383,3.436198637556267,5.455792793009652,8.28418746840623,18.18356883229425,39.39532532556628,66.66706785740077,100.0],\"y\":[-0.0006157684256322682,-0.0006157936877571046,-0.0005918597453273833,-0.000568088551517576,-0.0005461956025101244,-0.0005891586770303547,-0.0006435603136196733,-0.0008399853832088411,-0.0006899547879584134,0.0001282620505662635,-0.0006292719044722617,-0.0007621241384185851,-0.0065242149867117405,-0.008155629970133305,-0.0019138758070766926,0.003633783431723714,0.017949767410755157,0.022882310673594475,0.02089942991733551],\"type\":\"scatter\"},{\"opacity\":0.8,\"x\":[0.01,0.021664299641335483,0.032496449462003224,0.04212502708037455,0.05175360469874588,0.07221433213778494,0.09267505957682401,0.20340370218809425,0.35505379967744266,0.5572539296632405,0.8605541246419373,1.617601039886383,3.436198637556267,5.455792793009652,8.28418746840623,18.18356883229425,39.39532532556628,66.66706785740077,100.0],\"y\":[-0.002577509032562375,-0.002540426794439554,-0.002482691779732704,-0.002382677746936679,-0.0022833943367004395,-0.0022133744787424803,-0.0021804021671414375,-0.002275114879012108,-0.00189597113057971,-0.000799234549049288,-0.0003579469630494714,0.0005090830381959677,-0.0008280476904474199,-1.9445238649495877e-05,-0.0005922047421336174,-0.0018601889023557305,-0.015743106603622437,-0.022300848737359047,-0.02293294109404087],\"type\":\"scatter\"},{\"opacity\":0.8,\"x\":[0.01,0.021664299641335483,0.032496449462003224,0.04212502708037455,0.05175360469874588,0.07221433213778494,0.09267505957682401,0.20340370218809425,0.35505379967744266,0.5572539296632405,0.8605541246419373,1.617601039886383,3.436198637556267,5.455792793009652,8.28418746840623,18.18356883229425,39.39532532556628,66.66706785740077,100.0],\"y\":[0.00276885530911386,0.0028293707873672247,0.0028694437351077795,0.002896375022828579,0.0029310528188943863,0.0029118319507688284,0.002853459445759654,0.0025240732356905937,0.0024438221007585526,0.0029425735119730234,0.0024773431941866875,0.0017451680032536387,-0.004658086691051722,-0.008838112466037273,-0.003949337173253298,-0.003038918599486351,-0.011720786802470684,-0.010208872146904469,-0.00523332366719842],\"type\":\"scatter\"},{\"opacity\":0.8,\"x\":[0.01,0.021664299641335483,0.032496449462003224,0.04212502708037455,0.05175360469874588,0.07221433213778494,0.09267505957682401,0.20340370218809425,0.35505379967744266,0.5572539296632405,0.8605541246419373,1.617601039886383,3.436198637556267,5.455792793009652,8.28418746840623,18.18356883229425,39.39532532556628,66.66706785740077,100.0],\"y\":[-0.002459385199472308,-0.002472241409122944,-0.002506174612790346,-0.002546489704400301,-0.002596586011350155,-0.0026871704030781984,-0.002720741555094719,-0.0023482434917241335,-0.0027887567412108183,-0.003542983904480934,-0.004594794008880854,-0.001407256699167192,-0.0011890879832208157,-0.006510118488222361,-0.013075228780508041,-0.031267352402210236,-0.032753732055425644,-0.023323843255639076,-0.014981952495872974],\"type\":\"scatter\"},{\"opacity\":0.8,\"x\":[0.01,0.021664299641335483,0.032496449462003224,0.04212502708037455,0.05175360469874588,0.07221433213778494,0.09267505957682401,0.20340370218809425,0.35505379967744266,0.5572539296632405,0.8605541246419373,1.617601039886383,3.436198637556267,5.455792793009652,8.28418746840623,18.18356883229425,39.39532532556628,66.66706785740077,100.0],\"y\":[-0.008745715953409672,-0.008783930912613869,-0.008814940229058266,-0.008855137042701244,-0.00892725307494402,-0.009023037739098072,-0.009059363976120949,-0.008297279477119446,-0.007755344733595848,-0.005680273752659559,-0.0031560661736875772,-0.003175969235599041,-6.687687709927559e-05,-0.00046212683082558215,-0.006965265143662691,-0.02357574738562107,-0.020569926127791405,-0.021043619140982628,-0.010707259178161621],\"type\":\"scatter\"},{\"opacity\":0.8,\"x\":[0.01,0.021664299641335483,0.032496449462003224,0.04212502708037455,0.05175360469874588,0.07221433213778494,0.09267505957682401,0.20340370218809425,0.35505379967744266,0.5572539296632405,0.8605541246419373,1.617601039886383,3.436198637556267,5.455792793009652,8.28418746840623,18.18356883229425,39.39532532556628,66.66706785740077,100.0],\"y\":[0.0005502866115421057,0.0005417090142145753,0.0005079301190562546,0.00045356378541328013,0.0004096981429029256,0.00035074236802756786,0.0002923562133219093,0.00038285410846583545,0.0013309413334354758,0.0037586763501167297,0.002708417596295476,0.0002851554600056261,-0.007927573285996914,-0.010494333691895008,-0.01619328372180462,-0.017943045124411583,-0.0044961548410356045,-0.0024323042016476393,-0.001627013087272644],\"type\":\"scatter\"},{\"opacity\":0.8,\"x\":[0.01,0.021664299641335483,0.032496449462003224,0.04212502708037455,0.05175360469874588,0.07221433213778494,0.09267505957682401,0.20340370218809425,0.35505379967744266,0.5572539296632405,0.8605541246419373,1.617601039886383,3.436198637556267,5.455792793009652,8.28418746840623,18.18356883229425,39.39532532556628,66.66706785740077,100.0],\"y\":[0.0003395402163732797,0.0003570235858205706,0.0003183548105880618,0.0002354878088226542,0.00017503452545497566,0.00031445021159015596,0.00039153010584414005,0.00034767272882163525,0.001229986664839089,0.0021817174274474382,0.001130583812482655,-0.0008130891364999115,-0.0016510449349880219,-1.1576649740163703e-05,0.0037620391231030226,0.023787274956703186,0.03394320234656334,0.03040795959532261,0.024208739399909973],\"type\":\"scatter\"},{\"opacity\":0.8,\"x\":[0.01,0.021664299641335483,0.032496449462003224,0.04212502708037455,0.05175360469874588,0.07221433213778494,0.09267505957682401,0.20340370218809425,0.35505379967744266,0.5572539296632405,0.8605541246419373,1.617601039886383,3.436198637556267,5.455792793009652,8.28418746840623,18.18356883229425,39.39532532556628,66.66706785740077,100.0],\"y\":[-0.005164122674614191,-0.005159084219485521,-0.005121028982102871,-0.005089399870485067,-0.005100176203995943,-0.005146118346601725,-0.005163302645087242,-0.006360460072755814,-0.007106939796358347,-0.006645834073424339,-0.006774831097573042,-0.00687681557610631,-0.011307246051728725,-0.014779120683670044,-0.015545815229415894,-0.004163936246186495,0.0017168348422273993,0.013121304102241993,0.01335227768868208],\"type\":\"scatter\"},{\"opacity\":0.8,\"x\":[0.01,0.021664299641335483,0.032496449462003224,0.04212502708037455,0.05175360469874588,0.07221433213778494,0.09267505957682401,0.20340370218809425,0.35505379967744266,0.5572539296632405,0.8605541246419373,1.617601039886383,3.436198637556267,5.455792793009652,8.28418746840623,18.18356883229425,39.39532532556628,66.66706785740077,100.0],\"y\":[0.002282259287312627,0.0022640542592853308,0.0022897899616509676,0.00231650797650218,0.002347501227632165,0.0023792264983057976,0.0023922291584312916,0.0027955081313848495,0.004287745803594589,0.004173327703028917,0.0037157877814024687,0.0017082836711779237,-0.0031584377866238356,-0.005035606678575277,-0.0045790174044668674,0.0003423127345740795,0.004695603158324957,0.011400674469769001,0.013214654289186],\"type\":\"scatter\"},{\"opacity\":0.8,\"x\":[0.01,0.021664299641335483,0.032496449462003224,0.04212502708037455,0.05175360469874588,0.07221433213778494,0.09267505957682401,0.20340370218809425,0.35505379967744266,0.5572539296632405,0.8605541246419373,1.617601039886383,3.436198637556267,5.455792793009652,8.28418746840623,18.18356883229425,39.39532532556628,66.66706785740077,100.0],\"y\":[-0.002195958746597171,-0.0021687429398298264,-0.0021446545142680407,-0.0021706430707126856,-0.002203051932156086,-0.0021819735411554575,-0.0021009109914302826,-0.0014115975936874747,-0.0013224644353613257,-0.0019412683323025703,-0.0018268326530233026,-3.7946196243865415e-05,-0.0047882674261927605,-0.0058313943445682526,-0.008227083832025528,-0.002513723447918892,-0.004281226545572281,-0.010552431456744671,-0.012973432429134846],\"type\":\"scatter\"},{\"opacity\":0.8,\"x\":[0.01,0.021664299641335483,0.032496449462003224,0.04212502708037455,0.05175360469874588,0.07221433213778494,0.09267505957682401,0.20340370218809425,0.35505379967744266,0.5572539296632405,0.8605541246419373,1.617601039886383,3.436198637556267,5.455792793009652,8.28418746840623,18.18356883229425,39.39532532556628,66.66706785740077,100.0],\"y\":[-0.0011336113093420863,-0.0011277749435976148,-0.0011453869519755244,-0.001188078080303967,-0.001165238325484097,-0.0009576771990396082,-0.0008599742432124913,-0.000560937391128391,-0.001000218908302486,-0.0012366255978122354,-0.002661818638443947,9.446327567275148e-06,-0.0064592971466481686,-0.015454720705747604,-0.027300098910927773,-0.03550155833363533,-0.01923469267785549,-0.01878960244357586,-0.024255959317088127],\"type\":\"scatter\"},{\"opacity\":0.8,\"x\":[0.01,0.021664299641335483,0.032496449462003224,0.04212502708037455,0.05175360469874588,0.07221433213778494,0.09267505957682401,0.20340370218809425,0.35505379967744266,0.5572539296632405,0.8605541246419373,1.617601039886383,3.436198637556267,5.455792793009652,8.28418746840623,18.18356883229425,39.39532532556628,66.66706785740077,100.0],\"y\":[0.000778599176555872,0.0007224460714496672,0.0006305073038674891,0.0005502195563167334,0.0004972991882823408,0.00040459688170813024,0.0003443225286900997,0.00017165862664114684,0.0007968885474838316,0.0003215521282982081,0.0001795982097974047,0.007012017071247101,0.013052191585302353,0.02165658213198185,0.03287849202752113,0.07408124953508377,0.11042147874832153,0.10956666618585587,0.09485018253326416],\"type\":\"scatter\"},{\"opacity\":0.8,\"x\":[0.01,0.021664299641335483,0.032496449462003224,0.04212502708037455,0.05175360469874588,0.07221433213778494,0.09267505957682401,0.20340370218809425,0.35505379967744266,0.5572539296632405,0.8605541246419373,1.617601039886383,3.436198637556267,5.455792793009652,8.28418746840623,18.18356883229425,39.39532532556628,66.66706785740077,100.0],\"y\":[0.003992454148828983,0.0038967719301581383,0.00389431812800467,0.003913101740181446,0.003852816065773368,0.0037939378526061773,0.0037484720814973116,0.0033008630853146315,0.0030417500529438257,0.0030974429100751877,0.0045811752788722515,0.005244247615337372,-0.002939157886430621,-0.0067621381022036076,-0.005722792819142342,-0.03013186901807785,-0.05817804113030434,-0.07729825377464294,-0.07847221195697784],\"type\":\"scatter\"},{\"opacity\":0.8,\"x\":[0.01,0.021664299641335483,0.032496449462003224,0.04212502708037455,0.05175360469874588,0.07221433213778494,0.09267505957682401,0.20340370218809425,0.35505379967744266,0.5572539296632405,0.8605541246419373,1.617601039886383,3.436198637556267,5.455792793009652,8.28418746840623,18.18356883229425,39.39532532556628,66.66706785740077,100.0],\"y\":[0.001574911642819643,0.0015947278589010239,0.0015911068767309189,0.0015639802441000938,0.0015529146185144782,0.0015551522374153137,0.0015351033071056008,0.0023201073054224253,0.003228232264518738,0.003804579610005021,0.005039699841290712,0.0076052225194871426,0.013171969912946224,0.01054894644767046,0.007505652029067278,0.014576057903468609,0.04284324869513512,0.04707670584321022,0.04290962591767311],\"type\":\"scatter\"},{\"opacity\":0.8,\"x\":[0.01,0.021664299641335483,0.032496449462003224,0.04212502708037455,0.05175360469874588,0.07221433213778494,0.09267505957682401,0.20340370218809425,0.35505379967744266,0.5572539296632405,0.8605541246419373,1.617601039886383,3.436198637556267,5.455792793009652,8.28418746840623,18.18356883229425,39.39532532556628,66.66706785740077,100.0],\"y\":[0.004309472627937794,0.0043339841067790985,0.004374460782855749,0.004422636236995459,0.004474868532270193,0.004510388243943453,0.004551529884338379,0.0046907635405659676,0.00607842905446887,0.008142613805830479,0.01029906515032053,0.010103756561875343,0.00015175763110164553,0.00264063966460526,-0.0010348936775699258,0.005295757669955492,0.034149203449487686,0.03692435473203659,0.029368527233600616],\"type\":\"scatter\"},{\"opacity\":0.8,\"x\":[0.01,0.021664299641335483,0.032496449462003224,0.04212502708037455,0.05175360469874588,0.07221433213778494,0.09267505957682401,0.20340370218809425,0.35505379967744266,0.5572539296632405,0.8605541246419373,1.617601039886383,3.436198637556267,5.455792793009652,8.28418746840623,18.18356883229425,39.39532532556628,66.66706785740077,100.0],\"y\":[-0.007779898587614298,-0.007820186205208302,-0.007868421263992786,-0.00792474951595068,-0.007959774695336819,-0.008016884326934814,-0.007961741648614407,-0.0065094479359686375,-0.007128091529011726,-0.0061623589135706425,-0.004611259792000055,-0.003366225166246295,-0.013766736723482609,-0.012307737022638321,-0.009374476037919521,0.007898062467575073,0.026187067851424217,0.03342451527714729,0.031753432005643845],\"type\":\"scatter\"},{\"opacity\":0.8,\"x\":[0.01,0.021664299641335483,0.032496449462003224,0.04212502708037455,0.05175360469874588,0.07221433213778494,0.09267505957682401,0.20340370218809425,0.35505379967744266,0.5572539296632405,0.8605541246419373,1.617601039886383,3.436198637556267,5.455792793009652,8.28418746840623,18.18356883229425,39.39532532556628,66.66706785740077,100.0],\"y\":[0.0014393309829756618,0.0014139931881800294,0.001360959722660482,0.0013036379823461175,0.0012364950962364674,0.0011731054401025176,0.0010927332332357764,0.001732311793603003,0.002605389803647995,0.0020711321849375963,0.0013783754548057914,-0.0016808354994282126,0.0010939911007881165,0.006056635174900293,0.006942788604646921,0.03507401794195175,0.051295701414346695,0.06368627399206161,0.06786824017763138],\"type\":\"scatter\"},{\"opacity\":0.8,\"x\":[0.01,0.021664299641335483,0.032496449462003224,0.04212502708037455,0.05175360469874588,0.07221433213778494,0.09267505957682401,0.20340370218809425,0.35505379967744266,0.5572539296632405,0.8605541246419373,1.617601039886383,3.436198637556267,5.455792793009652,8.28418746840623,18.18356883229425,39.39532532556628,66.66706785740077,100.0],\"y\":[0.0013245443115010858,0.0012592870043590665,0.0012066565686836839,0.001173163647763431,0.0011946327285841107,0.0013276898534968495,0.0014012460596859455,0.0016449609538540244,0.0013744933530688286,0.0017163193551823497,1.7603868400328793e-05,-0.00195129809435457,0.001677144318819046,0.0005162049201317132,-0.008002911694347858,-0.03727405145764351,-0.05075453221797943,-0.047690730541944504,-0.055166322737932205],\"type\":\"scatter\"},{\"opacity\":0.8,\"x\":[0.01,0.021664299641335483,0.032496449462003224,0.04212502708037455,0.05175360469874588,0.07221433213778494,0.09267505957682401,0.20340370218809425,0.35505379967744266,0.5572539296632405,0.8605541246419373,1.617601039886383,3.436198637556267,5.455792793009652,8.28418746840623,18.18356883229425,39.39532532556628,66.66706785740077,100.0],\"y\":[-0.0011454219929873943,-0.0011260529281571507,-0.0011297898599877954,-0.0011396108893677592,-0.0011172880185768008,-0.0011357329785823822,-0.0011467364383861423,-0.00039238412864506245,0.00037659177905879915,0.0018343878909945488,0.0017684362828731537,-0.0020875714253634214,0.0008252591942436993,-0.0009601356578059494,0.0006628556293435395,0.008153732866048813,0.013164463452994823,0.021479614078998566,0.023710740730166435],\"type\":\"scatter\"},{\"opacity\":0.8,\"x\":[0.01,0.021664299641335483,0.032496449462003224,0.04212502708037455,0.05175360469874588,0.07221433213778494,0.09267505957682401,0.20340370218809425,0.35505379967744266,0.5572539296632405,0.8605541246419373,1.617601039886383,3.436198637556267,5.455792793009652,8.28418746840623,18.18356883229425,39.39532532556628,66.66706785740077,100.0],\"y\":[0.003175821155309677,0.0031457506120204926,0.0031840158626437187,0.0032677629496902227,0.003331580199301243,0.003442770568653941,0.0034880859311670065,0.0035579924006015062,0.003157026134431362,0.0025446864310652018,0.003827444976195693,-0.0019484976073727012,-0.002861548447981477,-0.012322038412094116,-0.023090938106179237,-0.0368255190551281,-0.038245294243097305,-0.03891490027308464,-0.03389623761177063],\"type\":\"scatter\"},{\"opacity\":0.8,\"x\":[0.01,0.021664299641335483,0.032496449462003224,0.04212502708037455,0.05175360469874588,0.07221433213778494,0.09267505957682401,0.20340370218809425,0.35505379967744266,0.5572539296632405,0.8605541246419373,1.617601039886383,3.436198637556267,5.455792793009652,8.28418746840623,18.18356883229425,39.39532532556628,66.66706785740077,100.0],\"y\":[0.00039602219476364553,0.000311392912408337,0.0002624059852678329,0.0002584799367468804,0.0002653677947819233,0.00029933315818198025,0.000299017527140677,0.0009596629533916712,0.0023194325622171164,0.002688637003302574,-0.00022528359841089696,-0.0013305982574820518,-0.004283642861992121,-0.0034350950736552477,-0.00742186838760972,-0.01613347977399826,-0.0009775260696187615,-0.0026464660186320543,-0.004620204214006662],\"type\":\"scatter\"},{\"opacity\":0.8,\"x\":[0.01,0.021664299641335483,0.032496449462003224,0.04212502708037455,0.05175360469874588,0.07221433213778494,0.09267505957682401,0.20340370218809425,0.35505379967744266,0.5572539296632405,0.8605541246419373,1.617601039886383,3.436198637556267,5.455792793009652,8.28418746840623,18.18356883229425,39.39532532556628,66.66706785740077,100.0],\"y\":[0.0007233552751131356,0.0008073057397268713,0.0008713831775821745,0.000946517160627991,0.0010099040810018778,0.0010421505430713296,0.0010163491824641824,-0.00024098453286569566,0.00014727686357218772,0.0015207394026219845,0.0015865381574258208,0.0010964710963889956,-0.0009854378877207637,-0.00488834735006094,-0.0038359842728823423,0.004616445396095514,0.016262853518128395,0.02159324288368225,0.027087753638625145],\"type\":\"scatter\"},{\"opacity\":0.8,\"x\":[0.01,0.021664299641335483,0.032496449462003224,0.04212502708037455,0.05175360469874588,0.07221433213778494,0.09267505957682401,0.20340370218809425,0.35505379967744266,0.5572539296632405,0.8605541246419373,1.617601039886383,3.436198637556267,5.455792793009652,8.28418746840623,18.18356883229425,39.39532532556628,66.66706785740077,100.0],\"y\":[0.001074451138265431,0.001077720196917653,0.001079083769582212,0.0010869343532249331,0.0011150797363370657,0.0011638571741059422,0.001222228747792542,0.0013538150815293193,-0.0005609950167126954,-0.0013972389278933406,-0.001960821682587266,0.0007390626124106348,-0.0020025616977363825,-0.006206884980201721,-0.0018917802954092622,0.001699982793070376,0.015992579981684685,0.022579677402973175,0.03023316152393818],\"type\":\"scatter\"},{\"opacity\":0.8,\"x\":[0.01,0.021664299641335483,0.032496449462003224,0.04212502708037455,0.05175360469874588,0.07221433213778494,0.09267505957682401,0.20340370218809425,0.35505379967744266,0.5572539296632405,0.8605541246419373,1.617601039886383,3.436198637556267,5.455792793009652,8.28418746840623,18.18356883229425,39.39532532556628,66.66706785740077,100.0],\"y\":[0.0008703844505362213,0.0008602624293416739,0.0008292549755424261,0.0007921513170003891,0.0007613899651914835,0.0006565123912878335,0.0006308421725407243,0.0003667161799967289,0.0013452619314193726,0.002462320029735565,0.004521275404840708,0.004014167468994856,-0.0073118917644023895,-0.007860091514885426,-0.011524143628776073,-0.031654778867959976,-0.05809449777007103,-0.05914059653878212,-0.055190276354551315],\"type\":\"scatter\"},{\"opacity\":0.8,\"x\":[0.01,0.021664299641335483,0.032496449462003224,0.04212502708037455,0.05175360469874588,0.07221433213778494,0.09267505957682401,0.20340370218809425,0.35505379967744266,0.5572539296632405,0.8605541246419373,1.617601039886383,3.436198637556267,5.455792793009652,8.28418746840623,18.18356883229425,39.39532532556628,66.66706785740077,100.0],\"y\":[-0.0033241731580346823,-0.003321161726489663,-0.003330762265250087,-0.0033040381968021393,-0.0032262399327009916,-0.0031803883612155914,-0.003178482875227928,-0.0030986268538981676,-0.001982650952413678,-0.001954072155058384,-0.0035419624764472246,-0.0026195922400802374,0.0021692661102861166,0.0032247966155409813,0.004231067840009928,0.007970825769007206,0.026880988851189613,0.02933502197265625,0.019416043534874916],\"type\":\"scatter\"},{\"opacity\":0.8,\"x\":[0.01,0.021664299641335483,0.032496449462003224,0.04212502708037455,0.05175360469874588,0.07221433213778494,0.09267505957682401,0.20340370218809425,0.35505379967744266,0.5572539296632405,0.8605541246419373,1.617601039886383,3.436198637556267,5.455792793009652,8.28418746840623,18.18356883229425,39.39532532556628,66.66706785740077,100.0],\"y\":[-0.0028512710705399513,-0.0028785672038793564,-0.002910776063799858,-0.0029464170802384615,-0.002955193631350994,-0.0030603213235735893,-0.0030944060999900103,-0.0022602013777941465,-0.0024009502958506346,-0.002822587266564369,-0.0045243543572723866,-0.002357005374506116,-0.0018551605753600597,-0.004447563085705042,-0.003934928681701422,0.008321728557348251,0.019819792360067368,0.022682124748826027,0.02617925964295864],\"type\":\"scatter\"}],                        {\"title\":{\"text\":\"Spectral dynamics: attn-only-3l\"},\"template\":{\"data\":{\"histogram2dcontour\":[{\"type\":\"histogram2dcontour\",\"colorbar\":{\"outlinewidth\":0,\"ticks\":\"\"},\"colorscale\":[[0.0,\"#0d0887\"],[0.1111111111111111,\"#46039f\"],[0.2222222222222222,\"#7201a8\"],[0.3333333333333333,\"#9c179e\"],[0.4444444444444444,\"#bd3786\"],[0.5555555555555556,\"#d8576b\"],[0.6666666666666666,\"#ed7953\"],[0.7777777777777778,\"#fb9f3a\"],[0.8888888888888888,\"#fdca26\"],[1.0,\"#f0f921\"]]}],\"choropleth\":[{\"type\":\"choropleth\",\"colorbar\":{\"outlinewidth\":0,\"ticks\":\"\"}}],\"histogram2d\":[{\"type\":\"histogram2d\",\"colorbar\":{\"outlinewidth\":0,\"ticks\":\"\"},\"colorscale\":[[0.0,\"#0d0887\"],[0.1111111111111111,\"#46039f\"],[0.2222222222222222,\"#7201a8\"],[0.3333333333333333,\"#9c179e\"],[0.4444444444444444,\"#bd3786\"],[0.5555555555555556,\"#d8576b\"],[0.6666666666666666,\"#ed7953\"],[0.7777777777777778,\"#fb9f3a\"],[0.8888888888888888,\"#fdca26\"],[1.0,\"#f0f921\"]]}],\"heatmap\":[{\"type\":\"heatmap\",\"colorbar\":{\"outlinewidth\":0,\"ticks\":\"\"},\"colorscale\":[[0.0,\"#0d0887\"],[0.1111111111111111,\"#46039f\"],[0.2222222222222222,\"#7201a8\"],[0.3333333333333333,\"#9c179e\"],[0.4444444444444444,\"#bd3786\"],[0.5555555555555556,\"#d8576b\"],[0.6666666666666666,\"#ed7953\"],[0.7777777777777778,\"#fb9f3a\"],[0.8888888888888888,\"#fdca26\"],[1.0,\"#f0f921\"]]}],\"heatmapgl\":[{\"type\":\"heatmapgl\",\"colorbar\":{\"outlinewidth\":0,\"ticks\":\"\"},\"colorscale\":[[0.0,\"#0d0887\"],[0.1111111111111111,\"#46039f\"],[0.2222222222222222,\"#7201a8\"],[0.3333333333333333,\"#9c179e\"],[0.4444444444444444,\"#bd3786\"],[0.5555555555555556,\"#d8576b\"],[0.6666666666666666,\"#ed7953\"],[0.7777777777777778,\"#fb9f3a\"],[0.8888888888888888,\"#fdca26\"],[1.0,\"#f0f921\"]]}],\"contourcarpet\":[{\"type\":\"contourcarpet\",\"colorbar\":{\"outlinewidth\":0,\"ticks\":\"\"}}],\"contour\":[{\"type\":\"contour\",\"colorbar\":{\"outlinewidth\":0,\"ticks\":\"\"},\"colorscale\":[[0.0,\"#0d0887\"],[0.1111111111111111,\"#46039f\"],[0.2222222222222222,\"#7201a8\"],[0.3333333333333333,\"#9c179e\"],[0.4444444444444444,\"#bd3786\"],[0.5555555555555556,\"#d8576b\"],[0.6666666666666666,\"#ed7953\"],[0.7777777777777778,\"#fb9f3a\"],[0.8888888888888888,\"#fdca26\"],[1.0,\"#f0f921\"]]}],\"surface\":[{\"type\":\"surface\",\"colorbar\":{\"outlinewidth\":0,\"ticks\":\"\"},\"colorscale\":[[0.0,\"#0d0887\"],[0.1111111111111111,\"#46039f\"],[0.2222222222222222,\"#7201a8\"],[0.3333333333333333,\"#9c179e\"],[0.4444444444444444,\"#bd3786\"],[0.5555555555555556,\"#d8576b\"],[0.6666666666666666,\"#ed7953\"],[0.7777777777777778,\"#fb9f3a\"],[0.8888888888888888,\"#fdca26\"],[1.0,\"#f0f921\"]]}],\"mesh3d\":[{\"type\":\"mesh3d\",\"colorbar\":{\"outlinewidth\":0,\"ticks\":\"\"}}],\"scatter\":[{\"fillpattern\":{\"fillmode\":\"overlay\",\"size\":10,\"solidity\":0.2},\"type\":\"scatter\"}],\"parcoords\":[{\"type\":\"parcoords\",\"line\":{\"colorbar\":{\"outlinewidth\":0,\"ticks\":\"\"}}}],\"scatterpolargl\":[{\"type\":\"scatterpolargl\",\"marker\":{\"colorbar\":{\"outlinewidth\":0,\"ticks\":\"\"}}}],\"bar\":[{\"error_x\":{\"color\":\"#2a3f5f\"},\"error_y\":{\"color\":\"#2a3f5f\"},\"marker\":{\"line\":{\"color\":\"#E5ECF6\",\"width\":0.5},\"pattern\":{\"fillmode\":\"overlay\",\"size\":10,\"solidity\":0.2}},\"type\":\"bar\"}],\"scattergeo\":[{\"type\":\"scattergeo\",\"marker\":{\"colorbar\":{\"outlinewidth\":0,\"ticks\":\"\"}}}],\"scatterpolar\":[{\"type\":\"scatterpolar\",\"marker\":{\"colorbar\":{\"outlinewidth\":0,\"ticks\":\"\"}}}],\"histogram\":[{\"marker\":{\"pattern\":{\"fillmode\":\"overlay\",\"size\":10,\"solidity\":0.2}},\"type\":\"histogram\"}],\"scattergl\":[{\"type\":\"scattergl\",\"marker\":{\"colorbar\":{\"outlinewidth\":0,\"ticks\":\"\"}}}],\"scatter3d\":[{\"type\":\"scatter3d\",\"line\":{\"colorbar\":{\"outlinewidth\":0,\"ticks\":\"\"}},\"marker\":{\"colorbar\":{\"outlinewidth\":0,\"ticks\":\"\"}}}],\"scattermapbox\":[{\"type\":\"scattermapbox\",\"marker\":{\"colorbar\":{\"outlinewidth\":0,\"ticks\":\"\"}}}],\"scatterternary\":[{\"type\":\"scatterternary\",\"marker\":{\"colorbar\":{\"outlinewidth\":0,\"ticks\":\"\"}}}],\"scattercarpet\":[{\"type\":\"scattercarpet\",\"marker\":{\"colorbar\":{\"outlinewidth\":0,\"ticks\":\"\"}}}],\"carpet\":[{\"aaxis\":{\"endlinecolor\":\"#2a3f5f\",\"gridcolor\":\"white\",\"linecolor\":\"white\",\"minorgridcolor\":\"white\",\"startlinecolor\":\"#2a3f5f\"},\"baxis\":{\"endlinecolor\":\"#2a3f5f\",\"gridcolor\":\"white\",\"linecolor\":\"white\",\"minorgridcolor\":\"white\",\"startlinecolor\":\"#2a3f5f\"},\"type\":\"carpet\"}],\"table\":[{\"cells\":{\"fill\":{\"color\":\"#EBF0F8\"},\"line\":{\"color\":\"white\"}},\"header\":{\"fill\":{\"color\":\"#C8D4E3\"},\"line\":{\"color\":\"white\"}},\"type\":\"table\"}],\"barpolar\":[{\"marker\":{\"line\":{\"color\":\"#E5ECF6\",\"width\":0.5},\"pattern\":{\"fillmode\":\"overlay\",\"size\":10,\"solidity\":0.2}},\"type\":\"barpolar\"}],\"pie\":[{\"automargin\":true,\"type\":\"pie\"}]},\"layout\":{\"autotypenumbers\":\"strict\",\"colorway\":[\"#636efa\",\"#EF553B\",\"#00cc96\",\"#ab63fa\",\"#FFA15A\",\"#19d3f3\",\"#FF6692\",\"#B6E880\",\"#FF97FF\",\"#FECB52\"],\"font\":{\"color\":\"#2a3f5f\"},\"hovermode\":\"closest\",\"hoverlabel\":{\"align\":\"left\"},\"paper_bgcolor\":\"white\",\"plot_bgcolor\":\"#E5ECF6\",\"polar\":{\"bgcolor\":\"#E5ECF6\",\"angularaxis\":{\"gridcolor\":\"white\",\"linecolor\":\"white\",\"ticks\":\"\"},\"radialaxis\":{\"gridcolor\":\"white\",\"linecolor\":\"white\",\"ticks\":\"\"}},\"ternary\":{\"bgcolor\":\"#E5ECF6\",\"aaxis\":{\"gridcolor\":\"white\",\"linecolor\":\"white\",\"ticks\":\"\"},\"baxis\":{\"gridcolor\":\"white\",\"linecolor\":\"white\",\"ticks\":\"\"},\"caxis\":{\"gridcolor\":\"white\",\"linecolor\":\"white\",\"ticks\":\"\"}},\"coloraxis\":{\"colorbar\":{\"outlinewidth\":0,\"ticks\":\"\"}},\"colorscale\":{\"sequential\":[[0.0,\"#0d0887\"],[0.1111111111111111,\"#46039f\"],[0.2222222222222222,\"#7201a8\"],[0.3333333333333333,\"#9c179e\"],[0.4444444444444444,\"#bd3786\"],[0.5555555555555556,\"#d8576b\"],[0.6666666666666666,\"#ed7953\"],[0.7777777777777778,\"#fb9f3a\"],[0.8888888888888888,\"#fdca26\"],[1.0,\"#f0f921\"]],\"sequentialminus\":[[0.0,\"#0d0887\"],[0.1111111111111111,\"#46039f\"],[0.2222222222222222,\"#7201a8\"],[0.3333333333333333,\"#9c179e\"],[0.4444444444444444,\"#bd3786\"],[0.5555555555555556,\"#d8576b\"],[0.6666666666666666,\"#ed7953\"],[0.7777777777777778,\"#fb9f3a\"],[0.8888888888888888,\"#fdca26\"],[1.0,\"#f0f921\"]],\"diverging\":[[0,\"#8e0152\"],[0.1,\"#c51b7d\"],[0.2,\"#de77ae\"],[0.3,\"#f1b6da\"],[0.4,\"#fde0ef\"],[0.5,\"#f7f7f7\"],[0.6,\"#e6f5d0\"],[0.7,\"#b8e186\"],[0.8,\"#7fbc41\"],[0.9,\"#4d9221\"],[1,\"#276419\"]]},\"xaxis\":{\"gridcolor\":\"white\",\"linecolor\":\"white\",\"ticks\":\"\",\"title\":{\"standoff\":15},\"zerolinecolor\":\"white\",\"automargin\":true,\"zerolinewidth\":2},\"yaxis\":{\"gridcolor\":\"white\",\"linecolor\":\"white\",\"ticks\":\"\",\"title\":{\"standoff\":15},\"zerolinecolor\":\"white\",\"automargin\":true,\"zerolinewidth\":2},\"scene\":{\"xaxis\":{\"backgroundcolor\":\"#E5ECF6\",\"gridcolor\":\"white\",\"linecolor\":\"white\",\"showbackground\":true,\"ticks\":\"\",\"zerolinecolor\":\"white\",\"gridwidth\":2},\"yaxis\":{\"backgroundcolor\":\"#E5ECF6\",\"gridcolor\":\"white\",\"linecolor\":\"white\",\"showbackground\":true,\"ticks\":\"\",\"zerolinecolor\":\"white\",\"gridwidth\":2},\"zaxis\":{\"backgroundcolor\":\"#E5ECF6\",\"gridcolor\":\"white\",\"linecolor\":\"white\",\"showbackground\":true,\"ticks\":\"\",\"zerolinecolor\":\"white\",\"gridwidth\":2}},\"shapedefaults\":{\"line\":{\"color\":\"#2a3f5f\"}},\"annotationdefaults\":{\"arrowcolor\":\"#2a3f5f\",\"arrowhead\":0,\"arrowwidth\":1},\"geo\":{\"bgcolor\":\"white\",\"landcolor\":\"#E5ECF6\",\"subunitcolor\":\"white\",\"showland\":true,\"showlakes\":true,\"lakecolor\":\"white\"},\"title\":{\"x\":0.05},\"mapbox\":{\"style\":\"light\"}}},\"xaxis\":{\"title\":{\"text\":\"% Total Training Tokens\"},\"type\":\"log\"},\"shapes\":[{\"fillcolor\":\"gold\",\"line\":{\"width\":1},\"opacity\":0.2,\"type\":\"rect\",\"x0\":0.6,\"x1\":1.3,\"xref\":\"x\",\"y0\":0,\"y1\":1,\"yref\":\"y domain\"}]},                        {\"responsive\": true}                    ).then(function(){\n",
       "                            \n",
       "var gd = document.getElementById('0e80ee90-06d7-439e-a304-c38381be41c1');\n",
       "var x = new MutationObserver(function (mutations, observer) {{\n",
       "        var display = window.getComputedStyle(gd).display;\n",
       "        if (!display || display === 'none') {{\n",
       "            console.log([gd, 'removed!']);\n",
       "            Plotly.purge(gd);\n",
       "            observer.disconnect();\n",
       "        }}\n",
       "}});\n",
       "\n",
       "// Listen for the removal of the full notebook cells\n",
       "var notebookContainer = gd.closest('#notebook-container');\n",
       "if (notebookContainer) {{\n",
       "    x.observe(notebookContainer, {childList: true});\n",
       "}}\n",
       "\n",
       "// Listen for the clearing of the current output cell\n",
       "var outputEl = gd.closest('.output');\n",
       "if (outputEl) {{\n",
       "    x.observe(outputEl, {childList: true});\n",
       "}}\n",
       "\n",
       "                        })                };                });            </script>        </div>"
      ]
     },
     "metadata": {},
     "output_type": "display_data"
    },
    {
     "data": {
      "text/html": [
       "<div>                            <div id=\"f5aa98af-e6dc-48fb-bd92-16eab450a701\" class=\"plotly-graph-div\" style=\"height:525px; width:100%;\"></div>            <script type=\"text/javascript\">                require([\"plotly\"], function(Plotly) {                    window.PLOTLYENV=window.PLOTLYENV || {};                                    if (document.getElementById(\"f5aa98af-e6dc-48fb-bd92-16eab450a701\")) {                    Plotly.newPlot(                        \"f5aa98af-e6dc-48fb-bd92-16eab450a701\",                        [{\"opacity\":0.8,\"x\":[0.01,0.021664299641335483,0.032496449462003224,0.04212502708037455,0.05175360469874588,0.07221433213778494,0.09267505957682401,0.20340370218809425,0.35505379967744266,0.5572539296632405,0.8605541246419373,1.617601039886383,3.436198637556267,5.455792793009652,8.28418746840623,18.18356883229425,39.39532532556628,66.66706785740077,100.0],\"y\":[1.3811295502819121e-05,6.720712553942576e-05,7.162457040976733e-05,4.927410918753594e-05,2.0050560124218464e-05,-9.781411790754646e-05,-9.255605982616544e-05,-4.367971996543929e-05,0.00014369378914125264,0.0005645090714097023,0.0004922461230307817,0.001228542416356504,0.00387545395642519,0.006787852384150028,0.006625053472816944,-0.004503527190536261,-0.01038188673555851,-0.016096992418169975,-0.02020851895213127],\"type\":\"scatter\"},{\"opacity\":0.8,\"x\":[0.01,0.021664299641335483,0.032496449462003224,0.04212502708037455,0.05175360469874588,0.07221433213778494,0.09267505957682401,0.20340370218809425,0.35505379967744266,0.5572539296632405,0.8605541246419373,1.617601039886383,3.436198637556267,5.455792793009652,8.28418746840623,18.18356883229425,39.39532532556628,66.66706785740077,100.0],\"y\":[0.000928835361264646,0.0009492584504187107,0.000989363412372768,0.0010164591949433088,0.0009828732581809163,0.0009665479301474988,0.0009558469755575061,0.000442995922639966,0.00021277859923429787,-0.0005041563417762518,0.0006940270541235805,0.005288558080792427,0.008107095025479794,0.0072198426350951195,0.009233076125383377,0.018376044929027557,-0.015208553522825241,-0.03674878552556038,-0.04581345245242119],\"type\":\"scatter\"},{\"opacity\":0.8,\"x\":[0.01,0.021664299641335483,0.032496449462003224,0.04212502708037455,0.05175360469874588,0.07221433213778494,0.09267505957682401,0.20340370218809425,0.35505379967744266,0.5572539296632405,0.8605541246419373,1.617601039886383,3.436198637556267,5.455792793009652,8.28418746840623,18.18356883229425,39.39532532556628,66.66706785740077,100.0],\"y\":[-0.0009811903582885861,-0.0010069275740534067,-0.0010532396845519543,-0.0010879765031859279,-0.0011203403118997812,-0.0011681467294692993,-0.0011390363797545433,-0.001806364394724369,-0.0028947999235242605,-0.0027665761299431324,-0.0020605814643204212,0.0008196981507353485,-0.003178431885316968,-0.011958548799157143,-0.009189227595925331,0.0036604413762688637,0.0259331613779068,0.010959036648273468,0.004872724413871765],\"type\":\"scatter\"},{\"opacity\":0.8,\"x\":[0.01,0.021664299641335483,0.032496449462003224,0.04212502708037455,0.05175360469874588,0.07221433213778494,0.09267505957682401,0.20340370218809425,0.35505379967744266,0.5572539296632405,0.8605541246419373,1.617601039886383,3.436198637556267,5.455792793009652,8.28418746840623,18.18356883229425,39.39532532556628,66.66706785740077,100.0],\"y\":[0.0018045873148366809,0.001848297892138362,0.0018779408419504762,0.0018705879338085651,0.0018788694869726896,0.0018265065737068653,0.001800013706088066,0.0015378354582935572,5.2699295338243246e-05,0.0003214054449927062,0.0021065527107566595,-0.0012245853431522846,-0.003526735585182905,-0.010408474132418633,-0.0010913270525634289,-0.013311009854078293,-0.03705250471830368,-0.044017184525728226,-0.04013967886567116],\"type\":\"scatter\"},{\"opacity\":0.8,\"x\":[0.01,0.021664299641335483,0.032496449462003224,0.04212502708037455,0.05175360469874588,0.07221433213778494,0.09267505957682401,0.20340370218809425,0.35505379967744266,0.5572539296632405,0.8605541246419373,1.617601039886383,3.436198637556267,5.455792793009652,8.28418746840623,18.18356883229425,39.39532532556628,66.66706785740077,100.0],\"y\":[0.0022504439111799,0.0022625408601015806,0.0022671932820230722,0.002281127730384469,0.0022993753664195538,0.002256341278553009,0.0021853921934962273,0.0022408240474760532,0.00382402865216136,0.004024075344204903,0.00155244255438447,0.001203784253448248,0.007852664217352867,0.004235077183693647,0.004663450177758932,0.03465653955936432,0.07183599472045898,0.09913698583841324,0.10944769531488419],\"type\":\"scatter\"},{\"opacity\":0.8,\"x\":[0.01,0.021664299641335483,0.032496449462003224,0.04212502708037455,0.05175360469874588,0.07221433213778494,0.09267505957682401,0.20340370218809425,0.35505379967744266,0.5572539296632405,0.8605541246419373,1.617601039886383,3.436198637556267,5.455792793009652,8.28418746840623,18.18356883229425,39.39532532556628,66.66706785740077,100.0],\"y\":[0.0004009801778011024,0.000375634990632534,0.0003392069775145501,0.00030682014767080545,0.0003077841829508543,0.00033982956665568054,0.00036067969631403685,8.451977919321507e-05,1.6875856090337038e-05,0.0005078430403955281,0.0006669077556580305,0.0008453706977888942,0.0020125466398894787,0.005032488144934177,0.011601679027080536,0.02192528173327446,0.03259686380624771,0.043589089065790176,0.04621873423457146],\"type\":\"scatter\"},{\"opacity\":0.8,\"x\":[0.01,0.021664299641335483,0.032496449462003224,0.04212502708037455,0.05175360469874588,0.07221433213778494,0.09267505957682401,0.20340370218809425,0.35505379967744266,0.5572539296632405,0.8605541246419373,1.617601039886383,3.436198637556267,5.455792793009652,8.28418746840623,18.18356883229425,39.39532532556628,66.66706785740077,100.0],\"y\":[-0.002573836361989379,-0.0025538078043609858,-0.0025366363115608692,-0.002492131432518363,-0.0024624462239444256,-0.0024710611905902624,-0.002476758323609829,-0.0025504902005195618,-0.0017719205934554338,-0.0014546742895618081,0.0009575998992659152,0.001905612531118095,0.0022383176255971193,0.003847279818728566,0.014182892628014088,0.012283735908567905,-0.02716887556016445,-0.022976161912083626,-0.01709774136543274],\"type\":\"scatter\"},{\"opacity\":0.8,\"x\":[0.01,0.021664299641335483,0.032496449462003224,0.04212502708037455,0.05175360469874588,0.07221433213778494,0.09267505957682401,0.20340370218809425,0.35505379967744266,0.5572539296632405,0.8605541246419373,1.617601039886383,3.436198637556267,5.455792793009652,8.28418746840623,18.18356883229425,39.39532532556628,66.66706785740077,100.0],\"y\":[-0.002597287530079484,-0.0025736612733453512,-0.0025741946883499622,-0.002591474913060665,-0.002609065268188715,-0.002573513425886631,-0.0025553004816174507,-0.0020921207033097744,-0.0017846544506028295,-0.0024679801426827908,-0.001983273308724165,0.0007668303442187607,0.0039136274717748165,0.012663432396948338,0.01479736715555191,0.03759833797812462,0.04654766619205475,0.03747044503688812,0.025088055059313774],\"type\":\"scatter\"},{\"opacity\":0.8,\"x\":[0.01,0.021664299641335483,0.032496449462003224,0.04212502708037455,0.05175360469874588,0.07221433213778494,0.09267505957682401,0.20340370218809425,0.35505379967744266,0.5572539296632405,0.8605541246419373,1.617601039886383,3.436198637556267,5.455792793009652,8.28418746840623,18.18356883229425,39.39532532556628,66.66706785740077,100.0],\"y\":[-0.0026002347003668547,-0.0026049294974654913,-0.0026088289450854063,-0.0026073858607560396,-0.0026270123198628426,-0.002595775993540883,-0.0025895959697663784,-0.0032098402734845877,-0.003198243910446763,-0.0015768826706334949,-0.0023590403143316507,0.0014456724748015404,-0.0018444415181875229,-0.0013736020773649216,-0.005068301223218441,-0.031115282326936722,-0.021873723715543747,-0.01627304218709469,-0.027705777436494827],\"type\":\"scatter\"},{\"opacity\":0.8,\"x\":[0.01,0.021664299641335483,0.032496449462003224,0.04212502708037455,0.05175360469874588,0.07221433213778494,0.09267505957682401,0.20340370218809425,0.35505379967744266,0.5572539296632405,0.8605541246419373,1.617601039886383,3.436198637556267,5.455792793009652,8.28418746840623,18.18356883229425,39.39532532556628,66.66706785740077,100.0],\"y\":[0.0016991874435916543,0.001730423653498292,0.001801973907276988,0.0018788300221785903,0.0019373393151909113,0.001997238490730524,0.002033037832006812,0.001313989982008934,0.0009717099601402879,0.00014071253826841712,-0.0002933434152510017,-0.001249381573870778,-0.0021321054082363844,0.0014999327249825,-0.0033710631541907787,-0.016572166234254837,-0.045593537390232086,-0.08480514585971832,-0.08918869495391846],\"type\":\"scatter\"},{\"opacity\":0.8,\"x\":[0.01,0.021664299641335483,0.032496449462003224,0.04212502708037455,0.05175360469874588,0.07221433213778494,0.09267505957682401,0.20340370218809425,0.35505379967744266,0.5572539296632405,0.8605541246419373,1.617601039886383,3.436198637556267,5.455792793009652,8.28418746840623,18.18356883229425,39.39532532556628,66.66706785740077,100.0],\"y\":[0.0009891290683299303,0.0009712015162222087,0.0009614835726097226,0.0009703490068204701,0.0009616149473004043,0.0009844577871263027,0.0009351283661089838,0.0005424774717539549,0.0005800910294055939,0.0001786437351256609,-0.0017988609615713358,-0.005814527627080679,-0.007579544559121132,-0.012665824964642525,-0.017766781151294708,-0.019325200468301773,-0.040026742964982986,-0.031602054834365845,-0.02328977733850479],\"type\":\"scatter\"},{\"opacity\":0.8,\"x\":[0.01,0.021664299641335483,0.032496449462003224,0.04212502708037455,0.05175360469874588,0.07221433213778494,0.09267505957682401,0.20340370218809425,0.35505379967744266,0.5572539296632405,0.8605541246419373,1.617601039886383,3.436198637556267,5.455792793009652,8.28418746840623,18.18356883229425,39.39532532556628,66.66706785740077,100.0],\"y\":[-0.0065277195535600185,-0.006505399942398071,-0.006498434115201235,-0.006504489108920097,-0.0064964634366333485,-0.006466308608651161,-0.006479212548583746,-0.006439296528697014,-0.0069123078137636185,-0.0072157601825892925,-0.006194130051881075,-0.001170045230537653,0.00468403659760952,0.0019746716134250164,-0.006310955621302128,-0.053467459976673126,-0.12061731517314911,-0.14547058939933777,-0.15062996745109558],\"type\":\"scatter\"},{\"opacity\":0.8,\"x\":[0.01,0.021664299641335483,0.032496449462003224,0.04212502708037455,0.05175360469874588,0.07221433213778494,0.09267505957682401,0.20340370218809425,0.35505379967744266,0.5572539296632405,0.8605541246419373,1.617601039886383,3.436198637556267,5.455792793009652,8.28418746840623,18.18356883229425,39.39532532556628,66.66706785740077,100.0],\"y\":[0.0013956149341538548,0.0013462333008646965,0.001304276054725051,0.0013072279980406165,0.001317428657785058,0.0012591915437951684,0.0011681101750582457,0.000715725589543581,-0.00032889220165088773,-0.001845190767198801,-0.0020729717798531055,0.0003852065128739923,-0.000242553127463907,0.006727029103785753,0.017460810020565987,0.04161526635289192,0.0661386251449585,0.0674317479133606,0.07316984981298447],\"type\":\"scatter\"},{\"opacity\":0.8,\"x\":[0.01,0.021664299641335483,0.032496449462003224,0.04212502708037455,0.05175360469874588,0.07221433213778494,0.09267505957682401,0.20340370218809425,0.35505379967744266,0.5572539296632405,0.8605541246419373,1.617601039886383,3.436198637556267,5.455792793009652,8.28418746840623,18.18356883229425,39.39532532556628,66.66706785740077,100.0],\"y\":[-0.0014266707003116608,-0.0014093535719439387,-0.0013733615633100271,-0.0013234089128673077,-0.0012824088335037231,-0.0011865643318742514,-0.0011513036442920566,-0.0010597554501146078,-0.0007343824254348874,-0.0013014436699450016,-0.003126565832644701,-0.0013845340581610799,0.00030128040816634893,0.006190962623804808,0.008968873880803585,-0.00982804223895073,-0.09127135574817657,-0.12773342430591583,-0.14769096672534943],\"type\":\"scatter\"},{\"opacity\":0.8,\"x\":[0.01,0.021664299641335483,0.032496449462003224,0.04212502708037455,0.05175360469874588,0.07221433213778494,0.09267505957682401,0.20340370218809425,0.35505379967744266,0.5572539296632405,0.8605541246419373,1.617601039886383,3.436198637556267,5.455792793009652,8.28418746840623,18.18356883229425,39.39532532556628,66.66706785740077,100.0],\"y\":[-0.0017409559804946184,-0.001774605712853372,-0.0017960320692509413,-0.0018253959715366364,-0.0018946800846606493,-0.0020040853414684534,-0.0020422255620360374,-0.0018806704320013523,-0.0016590418526902795,-0.002362558152526617,-0.003623730270192027,-0.003433606121689081,-0.003942149691283703,9.014853276312351e-05,-0.0010533921886235476,-0.008002159185707569,-2.16728076338768e-05,-0.003869635984301567,-0.015550147742033005],\"type\":\"scatter\"},{\"opacity\":0.8,\"x\":[0.01,0.021664299641335483,0.032496449462003224,0.04212502708037455,0.05175360469874588,0.07221433213778494,0.09267505957682401,0.20340370218809425,0.35505379967744266,0.5572539296632405,0.8605541246419373,1.617601039886383,3.436198637556267,5.455792793009652,8.28418746840623,18.18356883229425,39.39532532556628,66.66706785740077,100.0],\"y\":[0.0011757356114685535,0.0011666861828416586,0.00112358876504004,0.00110534206032753,0.0011047008447349072,0.0010708137415349483,0.00102283526211977,0.0006318438099697232,-0.00018277502385899425,-0.000804373761638999,-0.0008797012851573527,0.006302031222730875,0.007454589940607548,0.010863781906664371,0.013255863450467587,0.029647618532180786,0.0454133115708828,0.06511824578046799,0.055573441088199615],\"type\":\"scatter\"},{\"opacity\":0.8,\"x\":[0.01,0.021664299641335483,0.032496449462003224,0.04212502708037455,0.05175360469874588,0.07221433213778494,0.09267505957682401,0.20340370218809425,0.35505379967744266,0.5572539296632405,0.8605541246419373,1.617601039886383,3.436198637556267,5.455792793009652,8.28418746840623,18.18356883229425,39.39532532556628,66.66706785740077,100.0],\"y\":[-0.0022289822809398174,-0.002215427113696933,-0.002260764827951789,-0.002315210411325097,-0.0023283178452402353,-0.0024500826839357615,-0.0025029403623193502,-0.0029581114649772644,-0.0021153888665139675,-0.001943316892720759,-0.0008873114129528403,-0.003388292621821165,-0.01202424056828022,-0.020200707018375397,-0.023152125999331474,-0.010480784811079502,0.024782877415418625,0.01690155267715454,0.012898833490908146],\"type\":\"scatter\"},{\"opacity\":0.8,\"x\":[0.01,0.021664299641335483,0.032496449462003224,0.04212502708037455,0.05175360469874588,0.07221433213778494,0.09267505957682401,0.20340370218809425,0.35505379967744266,0.5572539296632405,0.8605541246419373,1.617601039886383,3.436198637556267,5.455792793009652,8.28418746840623,18.18356883229425,39.39532532556628,66.66706785740077,100.0],\"y\":[0.0029549794271588326,0.0029680028092116117,0.0029769372195005417,0.0029453218448907137,0.002914206124842167,0.0028510214760899544,0.002767428057268262,0.0018283085664734244,0.0013705157907679677,0.002095723059028387,0.0034448381047695875,0.0038913660682737827,0.0016196409706026316,0.002307031536474824,-0.006724964361637831,-0.04205285385251045,-0.07090812176465988,-0.05868913233280182,-0.060488052666187286],\"type\":\"scatter\"},{\"opacity\":0.8,\"x\":[0.01,0.021664299641335483,0.032496449462003224,0.04212502708037455,0.05175360469874588,0.07221433213778494,0.09267505957682401,0.20340370218809425,0.35505379967744266,0.5572539296632405,0.8605541246419373,1.617601039886383,3.436198637556267,5.455792793009652,8.28418746840623,18.18356883229425,39.39532532556628,66.66706785740077,100.0],\"y\":[-0.001291551161557436,-0.0012433831579983234,-0.001136317732743919,-0.0010836685542017221,-0.0010531569132581353,-0.0010719647398218513,-0.0010274238884449005,-0.0003151263517793268,-0.0014550123596563935,-0.0010785764316096902,-0.000934018287807703,0.00011388974962756038,0.00530089158564806,0.003526623360812664,-0.007429265882819891,-0.0018114619888365269,0.005077796056866646,0.006140158977359533,0.003835678566247225],\"type\":\"scatter\"},{\"opacity\":0.8,\"x\":[0.01,0.021664299641335483,0.032496449462003224,0.04212502708037455,0.05175360469874588,0.07221433213778494,0.09267505957682401,0.20340370218809425,0.35505379967744266,0.5572539296632405,0.8605541246419373,1.617601039886383,3.436198637556267,5.455792793009652,8.28418746840623,18.18356883229425,39.39532532556628,66.66706785740077,100.0],\"y\":[0.0022726585157215595,0.0022503631189465523,0.002236945554614067,0.0022341643925756216,0.00223530363291502,0.0022296560928225517,0.00221642991527915,0.0022228953894227743,0.003466395428404212,0.003039615461602807,0.0035849472042173147,0.005211314186453819,0.007025251165032387,0.005946380086243153,0.017355548217892647,0.03072592243552208,0.0581623911857605,0.08055739849805832,0.07093419134616852],\"type\":\"scatter\"},{\"opacity\":0.8,\"x\":[0.01,0.021664299641335483,0.032496449462003224,0.04212502708037455,0.05175360469874588,0.07221433213778494,0.09267505957682401,0.20340370218809425,0.35505379967744266,0.5572539296632405,0.8605541246419373,1.617601039886383,3.436198637556267,5.455792793009652,8.28418746840623,18.18356883229425,39.39532532556628,66.66706785740077,100.0],\"y\":[0.0030906375031918287,0.003087056800723076,0.0030752113088965416,0.0030655323062092066,0.00305931200273335,0.0030916407704353333,0.0031898710876703262,0.0029089683666825294,0.002104440238326788,0.0026093297637999058,0.0029474308248609304,0.0017620406579226255,0.0006627433467656374,0.0024834051728248596,0.007651128806173801,0.006876801140606403,-0.016170591115951538,-0.03181776776909828,-0.03718205541372299],\"type\":\"scatter\"},{\"opacity\":0.8,\"x\":[0.01,0.021664299641335483,0.032496449462003224,0.04212502708037455,0.05175360469874588,0.07221433213778494,0.09267505957682401,0.20340370218809425,0.35505379967744266,0.5572539296632405,0.8605541246419373,1.617601039886383,3.436198637556267,5.455792793009652,8.28418746840623,18.18356883229425,39.39532532556628,66.66706785740077,100.0],\"y\":[0.003274196293205023,0.0032381503842771053,0.0032004830427467823,0.003134731203317642,0.003059211652725935,0.003011158434674144,0.00298233050853014,0.0028897945303469896,0.0026280484162271023,0.003623970551416278,0.00251701264642179,0.0053617567755281925,0.0125337028875947,0.013572579249739647,0.015924692153930664,0.03631183132529259,0.024060815572738647,0.014806178398430347,-0.004791825544089079],\"type\":\"scatter\"},{\"opacity\":0.8,\"x\":[0.01,0.021664299641335483,0.032496449462003224,0.04212502708037455,0.05175360469874588,0.07221433213778494,0.09267505957682401,0.20340370218809425,0.35505379967744266,0.5572539296632405,0.8605541246419373,1.617601039886383,3.436198637556267,5.455792793009652,8.28418746840623,18.18356883229425,39.39532532556628,66.66706785740077,100.0],\"y\":[0.0028140710201114416,0.0027653800789266825,0.0027135766576975584,0.002693639136850834,0.0026547156739979982,0.0026671099476516247,0.002666407497599721,0.002156495815142989,0.0013163458788767457,0.0018392866477370262,0.00021327979629859328,-0.0002451920590829104,-0.014324598014354706,-0.01918761618435383,-0.027125922963023186,-0.07057555764913559,-0.09248512983322144,-0.06818932294845581,-0.05725657939910889],\"type\":\"scatter\"},{\"opacity\":0.8,\"x\":[0.01,0.021664299641335483,0.032496449462003224,0.04212502708037455,0.05175360469874588,0.07221433213778494,0.09267505957682401,0.20340370218809425,0.35505379967744266,0.5572539296632405,0.8605541246419373,1.617601039886383,3.436198637556267,5.455792793009652,8.28418746840623,18.18356883229425,39.39532532556628,66.66706785740077,100.0],\"y\":[0.002336572390049696,0.0022727479226887226,0.0022197277285158634,0.0021832422353327274,0.002167271915823221,0.0021125529892742634,0.002047766000032425,0.0016201536636799574,0.001947806216776371,0.0017964192666113377,0.0025977210607379675,0.002106203231960535,-0.006144037935882807,-0.016246644780039787,-0.028214670717716217,-0.06114879995584488,-0.0809309259057045,-0.06848525255918503,-0.06706471741199493],\"type\":\"scatter\"},{\"opacity\":0.8,\"x\":[0.01,0.021664299641335483,0.032496449462003224,0.04212502708037455,0.05175360469874588,0.07221433213778494,0.09267505957682401,0.20340370218809425,0.35505379967744266,0.5572539296632405,0.8605541246419373,1.617601039886383,3.436198637556267,5.455792793009652,8.28418746840623,18.18356883229425,39.39532532556628,66.66706785740077,100.0],\"y\":[0.003071201965212822,0.003136721905320883,0.0032304697670042515,0.0033112880773842335,0.003363214433193207,0.003427117597311735,0.003409591969102621,0.0033488385379314423,0.004161880351603031,0.005584406666457653,0.0060661472380161285,0.005254634656012058,0.0026937699876725674,-0.0033308500424027443,-0.007419068831950426,-0.010840716771781445,0.0015015974640846252,-0.006855878978967667,-0.01475807186216116],\"type\":\"scatter\"},{\"opacity\":0.8,\"x\":[0.01,0.021664299641335483,0.032496449462003224,0.04212502708037455,0.05175360469874588,0.07221433213778494,0.09267505957682401,0.20340370218809425,0.35505379967744266,0.5572539296632405,0.8605541246419373,1.617601039886383,3.436198637556267,5.455792793009652,8.28418746840623,18.18356883229425,39.39532532556628,66.66706785740077,100.0],\"y\":[-0.0006843213923275471,-0.0006673376774415374,-0.0006118105375207961,-0.000557355466298759,-0.0005107203614898026,-0.00037319649709388614,-0.0003107603988610208,-0.0005036428337916732,0.0010309829376637936,0.002342513995245099,0.0022601366508752108,0.005205381661653519,0.01068352535367012,0.013364511542022228,0.024154208600521088,0.04792159050703049,0.05041390284895897,0.0558009147644043,0.06058694049715996],\"type\":\"scatter\"},{\"opacity\":0.8,\"x\":[0.01,0.021664299641335483,0.032496449462003224,0.04212502708037455,0.05175360469874588,0.07221433213778494,0.09267505957682401,0.20340370218809425,0.35505379967744266,0.5572539296632405,0.8605541246419373,1.617601039886383,3.436198637556267,5.455792793009652,8.28418746840623,18.18356883229425,39.39532532556628,66.66706785740077,100.0],\"y\":[0.000553661200683564,0.0005004630656912923,0.0004424258368089795,0.00039358058711513877,0.00037358648842200637,0.00034773274092003703,0.0003170494455844164,0.0005458557279780507,0.0014995415695011616,0.0006192350992932916,0.0011333548463881016,0.004479171242564917,0.0013083696831017733,0.0042436616495251656,0.01066097617149353,0.001615192275494337,-0.07173331081867218,-0.10106248408555984,-0.09428292512893677],\"type\":\"scatter\"},{\"opacity\":0.8,\"x\":[0.01,0.021664299641335483,0.032496449462003224,0.04212502708037455,0.05175360469874588,0.07221433213778494,0.09267505957682401,0.20340370218809425,0.35505379967744266,0.5572539296632405,0.8605541246419373,1.617601039886383,3.436198637556267,5.455792793009652,8.28418746840623,18.18356883229425,39.39532532556628,66.66706785740077,100.0],\"y\":[0.001213387935422361,0.0012296749046072364,0.001261006691493094,0.001278479816392064,0.0012673469027504325,0.0012728142319247127,0.0012184266233816743,0.0020157780963927507,0.002948075532913208,0.0021578308660537004,0.0006299435626715422,0.005709364078938961,-0.003873925656080246,-0.003555741161108017,-0.0037426352500915527,-0.004213945008814335,-0.025181110948324203,-0.024762434884905815,-0.02112748846411705],\"type\":\"scatter\"},{\"opacity\":0.8,\"x\":[0.01,0.021664299641335483,0.032496449462003224,0.04212502708037455,0.05175360469874588,0.07221433213778494,0.09267505957682401,0.20340370218809425,0.35505379967744266,0.5572539296632405,0.8605541246419373,1.617601039886383,3.436198637556267,5.455792793009652,8.28418746840623,18.18356883229425,39.39532532556628,66.66706785740077,100.0],\"y\":[-0.00016347099153790623,-8.445215644314885e-05,1.6506819520145655e-05,0.0001037557958625257,0.00015894847456365824,0.00026282621547579765,0.0002990644134115428,-0.0011228658258914948,-0.002931425580754876,-0.0030376112554222345,-0.0019996631890535355,0.0038249760400503874,0.006311418488621712,0.01068100519478321,0.010603015311062336,-0.016992181539535522,-0.0515180304646492,-0.06108615919947624,-0.06476281583309174],\"type\":\"scatter\"},{\"opacity\":0.8,\"x\":[0.01,0.021664299641335483,0.032496449462003224,0.04212502708037455,0.05175360469874588,0.07221433213778494,0.09267505957682401,0.20340370218809425,0.35505379967744266,0.5572539296632405,0.8605541246419373,1.617601039886383,3.436198637556267,5.455792793009652,8.28418746840623,18.18356883229425,39.39532532556628,66.66706785740077,100.0],\"y\":[-0.0015018610283732414,-0.0014900488313287497,-0.0014835617039352655,-0.0014803183730691671,-0.0014213928952813148,-0.001333689782768488,-0.0013164455303922296,-0.0008236215217038989,-0.001103757182136178,-0.0008162526646628976,-0.0006680055521428585,-0.0031677272636443377,-0.004242203664034605,-0.009144640527665615,-0.01983654499053955,-0.019992265850305557,-0.015667740255594254,-0.029765648767352104,-0.0336335152387619],\"type\":\"scatter\"},{\"opacity\":0.8,\"x\":[0.01,0.021664299641335483,0.032496449462003224,0.04212502708037455,0.05175360469874588,0.07221433213778494,0.09267505957682401,0.20340370218809425,0.35505379967744266,0.5572539296632405,0.8605541246419373,1.617601039886383,3.436198637556267,5.455792793009652,8.28418746840623,18.18356883229425,39.39532532556628,66.66706785740077,100.0],\"y\":[0.0028977824840694666,0.0028880969621241093,0.0028921570628881454,0.0028940795455127954,0.0029332595877349377,0.002983313985168934,0.002999484073370695,0.00320335291326046,0.0037422971799969673,0.00336882914416492,0.002863772911950946,0.004884557332843542,0.007027711719274521,0.005722087807953358,-0.003590372856706381,-0.023353658616542816,-0.02637074887752533,-0.0202842615544796,-0.014981713145971298],\"type\":\"scatter\"},{\"opacity\":0.8,\"x\":[0.01,0.021664299641335483,0.032496449462003224,0.04212502708037455,0.05175360469874588,0.07221433213778494,0.09267505957682401,0.20340370218809425,0.35505379967744266,0.5572539296632405,0.8605541246419373,1.617601039886383,3.436198637556267,5.455792793009652,8.28418746840623,18.18356883229425,39.39532532556628,66.66706785740077,100.0],\"y\":[-0.00014918931992724538,-9.06243221834302e-05,-5.034444620832801e-05,-2.408679574728012e-05,3.073853440582752e-05,9.268376743420959e-05,0.0001518357894383371,-0.0003505366912577301,0.0007605573046021163,-0.0003652316518127918,-0.001488982466980815,-0.0009615218732506037,-0.010454625822603703,-0.01857982575893402,-0.020984593778848648,-0.040109530091285706,-0.05719158053398132,-0.081479512155056,-0.07520154118537903],\"type\":\"scatter\"},{\"opacity\":0.8,\"x\":[0.01,0.021664299641335483,0.032496449462003224,0.04212502708037455,0.05175360469874588,0.07221433213778494,0.09267505957682401,0.20340370218809425,0.35505379967744266,0.5572539296632405,0.8605541246419373,1.617601039886383,3.436198637556267,5.455792793009652,8.28418746840623,18.18356883229425,39.39532532556628,66.66706785740077,100.0],\"y\":[-9.531300747767091e-05,-0.00010465458035469055,-0.00012238649651408195,-0.0001266465988010168,-0.0001199234975501895,-0.00015831302152946591,-0.0001798924058675766,-0.0005412587779574096,-0.0012626650277525187,-0.00153420923743397,-0.002321284729987383,-0.008078822866082191,-0.018893390893936157,-0.026487158611416817,-0.03506114333868027,-0.06663498282432556,-0.09579398483037949,-0.09231458604335785,-0.08462739735841751],\"type\":\"scatter\"},{\"opacity\":0.8,\"x\":[0.01,0.021664299641335483,0.032496449462003224,0.04212502708037455,0.05175360469874588,0.07221433213778494,0.09267505957682401,0.20340370218809425,0.35505379967744266,0.5572539296632405,0.8605541246419373,1.617601039886383,3.436198637556267,5.455792793009652,8.28418746840623,18.18356883229425,39.39532532556628,66.66706785740077,100.0],\"y\":[0.0019589178264141083,0.0019930696580559015,0.0020021393429487944,0.001994541846215725,0.001993828220292926,0.0020622063893824816,0.002097649499773979,0.0018639672780409455,0.0009892185917124152,0.0012512082466855645,0.002330702031031251,0.004063250496983528,-0.005359208211302757,-0.010884481482207775,-0.018964387476444244,-0.05579328164458275,-0.09519496560096741,-0.09834939986467361,-0.08942719548940659],\"type\":\"scatter\"},{\"opacity\":0.8,\"x\":[0.01,0.021664299641335483,0.032496449462003224,0.04212502708037455,0.05175360469874588,0.07221433213778494,0.09267505957682401,0.20340370218809425,0.35505379967744266,0.5572539296632405,0.8605541246419373,1.617601039886383,3.436198637556267,5.455792793009652,8.28418746840623,18.18356883229425,39.39532532556628,66.66706785740077,100.0],\"y\":[0.002682275138795376,0.0026209165807813406,0.0025683599524199963,0.002499591326341033,0.0024200703483074903,0.002253185026347637,0.0021497891284525394,0.0009448234341107309,-0.0009244232787750661,3.291358007118106e-05,0.001317079528234899,0.0025538087356835604,-0.003455368336290121,-0.012126315385103226,-0.020623711869120598,-0.021819498389959335,-0.004129405133426189,0.016098245978355408,0.026048237457871437],\"type\":\"scatter\"},{\"opacity\":0.8,\"x\":[0.01,0.021664299641335483,0.032496449462003224,0.04212502708037455,0.05175360469874588,0.07221433213778494,0.09267505957682401,0.20340370218809425,0.35505379967744266,0.5572539296632405,0.8605541246419373,1.617601039886383,3.436198637556267,5.455792793009652,8.28418746840623,18.18356883229425,39.39532532556628,66.66706785740077,100.0],\"y\":[0.0005323105724528432,0.0004913271404802799,0.00047672443906776607,0.0005172650562599301,0.0005756785976700485,0.0006203701486811042,0.0006347025046125054,-0.00025564018869772553,-0.0006877431878820062,-0.00036274403100833297,-8.759699994698167e-06,0.00037159258499741554,-0.0031219893135130405,0.003153122030198574,0.0036634253337979317,-0.007592040114104748,-0.020494788885116577,-0.006213412154465914,0.007941165938973427],\"type\":\"scatter\"},{\"opacity\":0.8,\"x\":[0.01,0.021664299641335483,0.032496449462003224,0.04212502708037455,0.05175360469874588,0.07221433213778494,0.09267505957682401,0.20340370218809425,0.35505379967744266,0.5572539296632405,0.8605541246419373,1.617601039886383,3.436198637556267,5.455792793009652,8.28418746840623,18.18356883229425,39.39532532556628,66.66706785740077,100.0],\"y\":[-0.0018805676372721791,-0.0018887128680944443,-0.001871527056209743,-0.0018639573827385902,-0.0018836072413250804,-0.0018794265342876315,-0.0018472546944394708,-0.0018589581595733762,-0.0005213338881731033,-0.00011732921120710671,0.0014267225051298738,0.0010111242299899459,-0.005558312404900789,-0.0073699443601071835,-0.010474114678800106,-0.011415129527449608,-0.008127640932798386,-0.0073470864444971085,-0.004547979682683945],\"type\":\"scatter\"},{\"opacity\":0.8,\"x\":[0.01,0.021664299641335483,0.032496449462003224,0.04212502708037455,0.05175360469874588,0.07221433213778494,0.09267505957682401,0.20340370218809425,0.35505379967744266,0.5572539296632405,0.8605541246419373,1.617601039886383,3.436198637556267,5.455792793009652,8.28418746840623,18.18356883229425,39.39532532556628,66.66706785740077,100.0],\"y\":[-0.00027531135128811,-0.00021765913697890937,-0.0001626636367291212,-9.184991358779371e-05,-3.6589233786799014e-05,8.256557339336723e-05,0.00011558580445125699,0.001002133940346539,0.0002206144854426384,0.0009947814978659153,0.0005521407001651824,-0.001492536161094904,-0.0025007533840835094,-0.004494145046919584,-0.002740657888352871,-0.020756442099809647,0.010955611243844032,0.011534393765032291,0.009649287909269333],\"type\":\"scatter\"},{\"opacity\":0.8,\"x\":[0.01,0.021664299641335483,0.032496449462003224,0.04212502708037455,0.05175360469874588,0.07221433213778494,0.09267505957682401,0.20340370218809425,0.35505379967744266,0.5572539296632405,0.8605541246419373,1.617601039886383,3.436198637556267,5.455792793009652,8.28418746840623,18.18356883229425,39.39532532556628,66.66706785740077,100.0],\"y\":[-1.2843433069065213e-05,-2.1913263481110334e-05,-1.6617064829915762e-05,2.0264124032109976e-06,3.989739343523979e-05,3.8669706555083394e-05,2.5244313292205334e-05,0.0003659104695543647,0.0016198726370930672,0.0007767960196360946,-0.00015306526620406657,-0.002662845654413104,0.00042662222404032946,-0.006147786043584347,-0.009300244972109795,-0.039127714931964874,-0.07277151197195053,-0.09643954038619995,-0.12011469155550003],\"type\":\"scatter\"},{\"opacity\":0.8,\"x\":[0.01,0.021664299641335483,0.032496449462003224,0.04212502708037455,0.05175360469874588,0.07221433213778494,0.09267505957682401,0.20340370218809425,0.35505379967744266,0.5572539296632405,0.8605541246419373,1.617601039886383,3.436198637556267,5.455792793009652,8.28418746840623,18.18356883229425,39.39532532556628,66.66706785740077,100.0],\"y\":[0.004106543958187103,0.004093891009688377,0.004101883620023727,0.00413492601364851,0.004158605821430683,0.004180673975497484,0.004167069215327501,0.003695555729791522,0.003999303560703993,0.004955194424837828,0.005297087598592043,0.009685040451586246,0.008722442202270031,0.006947228219360113,0.011181033216416836,0.009249994531273842,0.009381188079714775,0.01571189984679222,0.010568266734480858],\"type\":\"scatter\"},{\"opacity\":0.8,\"x\":[0.01,0.021664299641335483,0.032496449462003224,0.04212502708037455,0.05175360469874588,0.07221433213778494,0.09267505957682401,0.20340370218809425,0.35505379967744266,0.5572539296632405,0.8605541246419373,1.617601039886383,3.436198637556267,5.455792793009652,8.28418746840623,18.18356883229425,39.39532532556628,66.66706785740077,100.0],\"y\":[-0.00036215962609276175,-0.0004185059806331992,-0.00042505565215833485,-0.00039984597242437303,-0.0003668036370072514,-0.0002724674704950303,-0.00026277583674527705,0.0005641569732688367,0.0006287431460805237,-0.0004836846492253244,0.0006776460213586688,0.002282307483255863,0.004452128428965807,0.006572980433702469,0.014799383468925953,-0.01100884284824133,-0.0559920035302639,-0.06930433213710785,-0.08030279725790024],\"type\":\"scatter\"},{\"opacity\":0.8,\"x\":[0.01,0.021664299641335483,0.032496449462003224,0.04212502708037455,0.05175360469874588,0.07221433213778494,0.09267505957682401,0.20340370218809425,0.35505379967744266,0.5572539296632405,0.8605541246419373,1.617601039886383,3.436198637556267,5.455792793009652,8.28418746840623,18.18356883229425,39.39532532556628,66.66706785740077,100.0],\"y\":[0.0015670319553464651,0.0016420610481873155,0.0016859330935403705,0.0016970013966783881,0.0016651913756504655,0.001618460868485272,0.0016144714318215847,0.0017562772845849395,0.003117184154689312,0.0015452669467777014,-0.00038283082540147007,-0.0019345987820997834,-0.00046658003702759743,0.008958069607615471,0.0018318288493901491,-0.011562395840883255,-0.012259962037205696,-0.005176507867872715,0.0012486381456255913],\"type\":\"scatter\"},{\"opacity\":0.8,\"x\":[0.01,0.021664299641335483,0.032496449462003224,0.04212502708037455,0.05175360469874588,0.07221433213778494,0.09267505957682401,0.20340370218809425,0.35505379967744266,0.5572539296632405,0.8605541246419373,1.617601039886383,3.436198637556267,5.455792793009652,8.28418746840623,18.18356883229425,39.39532532556628,66.66706785740077,100.0],\"y\":[-0.0023312352132052183,-0.002359951613470912,-0.002385188825428486,-0.002412721049040556,-0.0024498491548001766,-0.0024932527448982,-0.0025365964975208044,-0.0015221491921693087,0.00021544824994634837,0.0013747158227488399,0.0013528501149266958,-0.0006211295258253813,-0.007797626778483391,-0.012996610254049301,-0.023471737280488014,-0.05769607797265053,-0.07000869512557983,-0.05347441881895065,-0.041063092648983],\"type\":\"scatter\"},{\"opacity\":0.8,\"x\":[0.01,0.021664299641335483,0.032496449462003224,0.04212502708037455,0.05175360469874588,0.07221433213778494,0.09267505957682401,0.20340370218809425,0.35505379967744266,0.5572539296632405,0.8605541246419373,1.617601039886383,3.436198637556267,5.455792793009652,8.28418746840623,18.18356883229425,39.39532532556628,66.66706785740077,100.0],\"y\":[-0.0006024702452123165,-0.0006248540012165904,-0.0006327289156615734,-0.0006049480871297419,-0.0005956985987722874,-0.0005508610047399998,-0.0004744332982227206,-0.0008164505125023425,-0.0010192238260060549,-0.00019938632613047957,0.0016523402882739902,0.007655682973563671,0.005020361393690109,-0.0011075211223214865,-0.011337543837726116,-0.025912664830684662,-0.050476156175136566,-0.0436958484351635,-0.04226447269320488],\"type\":\"scatter\"},{\"opacity\":0.8,\"x\":[0.01,0.021664299641335483,0.032496449462003224,0.04212502708037455,0.05175360469874588,0.07221433213778494,0.09267505957682401,0.20340370218809425,0.35505379967744266,0.5572539296632405,0.8605541246419373,1.617601039886383,3.436198637556267,5.455792793009652,8.28418746840623,18.18356883229425,39.39532532556628,66.66706785740077,100.0],\"y\":[0.004226173739880323,0.004255789332091808,0.0042337519116699696,0.0041848900727927685,0.004146096296608448,0.004107504617422819,0.004083412233740091,0.0040415129624307156,0.00383212068118155,0.002877473831176758,0.0029394663870334625,0.006001352798193693,0.0009581613121554255,0.002563438843935728,0.010545007884502411,0.004776736721396446,-0.026030879467725754,-0.05573342368006706,-0.0589766763150692],\"type\":\"scatter\"},{\"opacity\":0.8,\"x\":[0.01,0.021664299641335483,0.032496449462003224,0.04212502708037455,0.05175360469874588,0.07221433213778494,0.09267505957682401,0.20340370218809425,0.35505379967744266,0.5572539296632405,0.8605541246419373,1.617601039886383,3.436198637556267,5.455792793009652,8.28418746840623,18.18356883229425,39.39532532556628,66.66706785740077,100.0],\"y\":[0.00540250726044178,0.005429690703749657,0.005430995021015406,0.0054267155937850475,0.005449329037219286,0.005480763502418995,0.005506372079253197,0.006188966333866119,0.006426425650715828,0.006320400163531303,0.0059562609530985355,0.006126849912106991,0.014076377265155315,0.01516882423311472,0.016348689794540405,0.01580650918185711,0.007448339834809303,-0.014840609394013882,-0.031898416578769684],\"type\":\"scatter\"},{\"opacity\":0.8,\"x\":[0.01,0.021664299641335483,0.032496449462003224,0.04212502708037455,0.05175360469874588,0.07221433213778494,0.09267505957682401,0.20340370218809425,0.35505379967744266,0.5572539296632405,0.8605541246419373,1.617601039886383,3.436198637556267,5.455792793009652,8.28418746840623,18.18356883229425,39.39532532556628,66.66706785740077,100.0],\"y\":[0.0008408194407820702,0.0009013310773298144,0.0009365362348034978,0.0009633859735913575,0.001003681099973619,0.0010486249811947346,0.0010041201021522284,0.0012781332479789853,0.0009897482814267278,0.0013293108204379678,0.002802729606628418,0.005079984664916992,0.003088897792622447,0.0010847263038158417,-0.0017382731894031167,-0.03188828006386757,-0.04122769832611084,-0.015804577618837357,-0.006737292744219303],\"type\":\"scatter\"},{\"opacity\":0.8,\"x\":[0.01,0.021664299641335483,0.032496449462003224,0.04212502708037455,0.05175360469874588,0.07221433213778494,0.09267505957682401,0.20340370218809425,0.35505379967744266,0.5572539296632405,0.8605541246419373,1.617601039886383,3.436198637556267,5.455792793009652,8.28418746840623,18.18356883229425,39.39532532556628,66.66706785740077,100.0],\"y\":[0.0018065852345898747,0.0017492969054728746,0.0017276762519031763,0.001725084730423987,0.0016957174520939589,0.0017084494465962052,0.001633783453144133,0.0007489942363463342,0.0007376385619863868,0.0010866083903238177,0.002389764180406928,0.006779944058507681,0.014357323758304119,0.012162435799837112,0.01155476737767458,0.0021556662395596504,0.024619970470666885,0.0542742945253849,0.06176050752401352],\"type\":\"scatter\"},{\"opacity\":0.8,\"x\":[0.01,0.021664299641335483,0.032496449462003224,0.04212502708037455,0.05175360469874588,0.07221433213778494,0.09267505957682401,0.20340370218809425,0.35505379967744266,0.5572539296632405,0.8605541246419373,1.617601039886383,3.436198637556267,5.455792793009652,8.28418746840623,18.18356883229425,39.39532532556628,66.66706785740077,100.0],\"y\":[0.004730240907520056,0.0047307368367910385,0.004725924693048,0.004721748176962137,0.00469594169408083,0.004547511227428913,0.00449015386402607,0.0043120067566633224,0.004348723217844963,0.004497807007282972,0.0016557537019252777,0.00437567476183176,0.008775122463703156,0.009536849334836006,0.001251829438842833,-0.00782839860767126,-0.023632273077964783,-0.013572541996836662,-0.0024621044285595417],\"type\":\"scatter\"},{\"opacity\":0.8,\"x\":[0.01,0.021664299641335483,0.032496449462003224,0.04212502708037455,0.05175360469874588,0.07221433213778494,0.09267505957682401,0.20340370218809425,0.35505379967744266,0.5572539296632405,0.8605541246419373,1.617601039886383,3.436198637556267,5.455792793009652,8.28418746840623,18.18356883229425,39.39532532556628,66.66706785740077,100.0],\"y\":[0.00026645619072951376,0.00023466453421860933,0.00022384952171705663,0.00019618660735432059,0.0001501101942267269,0.00014125381130725145,0.0001079635476344265,-0.0006203465745784342,-0.0008353785960935056,0.0005378998466767371,-0.0015065879561007023,-0.0019566151313483715,0.0013734458480030298,0.0009995907312259078,0.009652338922023773,0.008843949995934963,0.003982733469456434,0.003340892493724823,-0.0006538601592183113],\"type\":\"scatter\"},{\"opacity\":0.8,\"x\":[0.01,0.021664299641335483,0.032496449462003224,0.04212502708037455,0.05175360469874588,0.07221433213778494,0.09267505957682401,0.20340370218809425,0.35505379967744266,0.5572539296632405,0.8605541246419373,1.617601039886383,3.436198637556267,5.455792793009652,8.28418746840623,18.18356883229425,39.39532532556628,66.66706785740077,100.0],\"y\":[0.0018418296240270138,0.0018933090614154935,0.0019218542147427797,0.0019410650711506605,0.0019475071458145976,0.0019871951080858707,0.002010985976085067,0.0030026505701243877,0.003130127675831318,0.001216083881445229,0.0017694075359031558,0.0015930215595290065,0.0031464560888707638,0.0001837455201894045,-0.0067824022844433784,0.005664399825036526,0.031083328649401665,0.03149795904755592,0.030348652973771095],\"type\":\"scatter\"},{\"opacity\":0.8,\"x\":[0.01,0.021664299641335483,0.032496449462003224,0.04212502708037455,0.05175360469874588,0.07221433213778494,0.09267505957682401,0.20340370218809425,0.35505379967744266,0.5572539296632405,0.8605541246419373,1.617601039886383,3.436198637556267,5.455792793009652,8.28418746840623,18.18356883229425,39.39532532556628,66.66706785740077,100.0],\"y\":[-0.003918488975614309,-0.003943159710615873,-0.0039426414296031,-0.003920422401279211,-0.0039037081878632307,-0.0039033114444464445,-0.003913223743438721,-0.003553768852725625,-0.002770328661426902,-0.0039125122129917145,-0.0053141163662076,-0.006211026106029749,-0.008554725907742977,-0.007856588810682297,-0.006485050544142723,0.003955444321036339,-0.0035732551477849483,-0.01420845091342926,-0.020271379500627518],\"type\":\"scatter\"},{\"opacity\":0.8,\"x\":[0.01,0.021664299641335483,0.032496449462003224,0.04212502708037455,0.05175360469874588,0.07221433213778494,0.09267505957682401,0.20340370218809425,0.35505379967744266,0.5572539296632405,0.8605541246419373,1.617601039886383,3.436198637556267,5.455792793009652,8.28418746840623,18.18356883229425,39.39532532556628,66.66706785740077,100.0],\"y\":[-0.0014260285533964634,-0.0014115292578935623,-0.0013684008736163378,-0.0013062087818980217,-0.0012916561681777239,-0.001256532734259963,-0.0012227629777044058,-0.0022015455178916454,-0.0012571326224133372,-0.001193246920593083,-0.001588328625075519,0.0019295242382213473,0.002573954174295068,-0.001458009472116828,-0.0005573658272624016,-0.013380873948335648,-0.05434436723589897,-0.06124849244952202,-0.05432714894413948],\"type\":\"scatter\"},{\"opacity\":0.8,\"x\":[0.01,0.021664299641335483,0.032496449462003224,0.04212502708037455,0.05175360469874588,0.07221433213778494,0.09267505957682401,0.20340370218809425,0.35505379967744266,0.5572539296632405,0.8605541246419373,1.617601039886383,3.436198637556267,5.455792793009652,8.28418746840623,18.18356883229425,39.39532532556628,66.66706785740077,100.0],\"y\":[-0.0037400859873741865,-0.0037108182441443205,-0.0036794133484363556,-0.0036428701132535934,-0.003611044492572546,-0.0035919153597205877,-0.0035737422294914722,-0.004185396712273359,-0.004348172340542078,-0.00268026115372777,-0.002802180591970682,-0.002209785394370556,-0.0049326117150485516,-0.012435298413038254,-0.013196052052080631,-0.02517910674214363,-0.028329020366072655,-0.024556009098887444,-0.01238623820245266],\"type\":\"scatter\"},{\"opacity\":0.8,\"x\":[0.01,0.021664299641335483,0.032496449462003224,0.04212502708037455,0.05175360469874588,0.07221433213778494,0.09267505957682401,0.20340370218809425,0.35505379967744266,0.5572539296632405,0.8605541246419373,1.617601039886383,3.436198637556267,5.455792793009652,8.28418746840623,18.18356883229425,39.39532532556628,66.66706785740077,100.0],\"y\":[-0.000483524810988456,-0.00047160423127934337,-0.00044882952352054417,-0.00040287832962349057,-0.00036277403705753386,-0.0003844118327833712,-0.00040586013346910477,-0.0013671917840838432,-0.0016953747253865004,-0.002927012275904417,-0.002096425974741578,-0.0002822992391884327,-0.0020891560707241297,0.007223338820040226,0.019245997071266174,0.03670119121670723,0.026999181136488914,0.01601669378578663,0.011563609354197979],\"type\":\"scatter\"},{\"opacity\":0.8,\"x\":[0.01,0.021664299641335483,0.032496449462003224,0.04212502708037455,0.05175360469874588,0.07221433213778494,0.09267505957682401,0.20340370218809425,0.35505379967744266,0.5572539296632405,0.8605541246419373,1.617601039886383,3.436198637556267,5.455792793009652,8.28418746840623,18.18356883229425,39.39532532556628,66.66706785740077,100.0],\"y\":[-0.000649470544885844,-0.0006739880191162229,-0.0007038481999188662,-0.0007514741737395525,-0.0007902446668595076,-0.0008204905898310244,-0.0008709443500265479,-0.001772852148860693,-0.0025494128931313753,-0.0032155178487300873,-0.0036470352206379175,-0.005460180342197418,-0.014416933991014957,-0.020115438848733902,-0.031387828290462494,-0.03705531731247902,-0.03617526963353157,-0.02351708523929119,-0.013110846281051636],\"type\":\"scatter\"},{\"opacity\":0.8,\"x\":[0.01,0.021664299641335483,0.032496449462003224,0.04212502708037455,0.05175360469874588,0.07221433213778494,0.09267505957682401,0.20340370218809425,0.35505379967744266,0.5572539296632405,0.8605541246419373,1.617601039886383,3.436198637556267,5.455792793009652,8.28418746840623,18.18356883229425,39.39532532556628,66.66706785740077,100.0],\"y\":[-0.00042165996273979545,-0.00038396293530240655,-0.0003631210420280695,-0.00035281150485388935,-0.0003366920573171228,-0.0003500257444102317,-0.00041394997970201075,-0.0002007580769713968,0.0010132850147783756,0.001413388061337173,0.0023573474027216434,0.007698736619204283,0.010991746559739113,0.005595077760517597,0.0005834298208355904,-0.008615415543317795,-0.009267887100577354,-0.020427599549293518,-0.020371196791529655],\"type\":\"scatter\"},{\"opacity\":0.8,\"x\":[0.01,0.021664299641335483,0.032496449462003224,0.04212502708037455,0.05175360469874588,0.07221433213778494,0.09267505957682401,0.20340370218809425,0.35505379967744266,0.5572539296632405,0.8605541246419373,1.617601039886383,3.436198637556267,5.455792793009652,8.28418746840623,18.18356883229425,39.39532532556628,66.66706785740077,100.0],\"y\":[0.00011031216126866639,0.00011571525828912854,7.596821524202824e-05,4.671543138101697e-05,5.513831274583936e-05,3.4848228096961975e-05,2.6552617782726884e-05,0.0007967344135977328,0.0016007160302251577,0.0024570804089307785,0.004022468347102404,0.0018187694950029254,7.064687088131905e-05,0.010903112590312958,0.01693003997206688,0.026056867092847824,0.07024186104536057,0.11105430126190186,0.12139148265123367],\"type\":\"scatter\"},{\"opacity\":0.8,\"x\":[0.01,0.021664299641335483,0.032496449462003224,0.04212502708037455,0.05175360469874588,0.07221433213778494,0.09267505957682401,0.20340370218809425,0.35505379967744266,0.5572539296632405,0.8605541246419373,1.617601039886383,3.436198637556267,5.455792793009652,8.28418746840623,18.18356883229425,39.39532532556628,66.66706785740077,100.0],\"y\":[0.0014418934006243944,0.0014486601576209068,0.001466464949771762,0.0014900265960022807,0.0015101291937753558,0.0014684039633721113,0.0014536950038746,0.002003575675189495,0.0017551747150719166,0.0018272552406415343,0.0005564269376918674,0.0018003908917307854,-0.005563945975154638,-0.01029661763459444,-0.014759832993149757,0.014629703015089035,0.024519454687833786,0.022087233141064644,0.022897016257047653],\"type\":\"scatter\"},{\"opacity\":0.8,\"x\":[0.01,0.021664299641335483,0.032496449462003224,0.04212502708037455,0.05175360469874588,0.07221433213778494,0.09267505957682401,0.20340370218809425,0.35505379967744266,0.5572539296632405,0.8605541246419373,1.617601039886383,3.436198637556267,5.455792793009652,8.28418746840623,18.18356883229425,39.39532532556628,66.66706785740077,100.0],\"y\":[-0.0012934356927871704,-0.0013940285425633192,-0.0015182533534243703,-0.0016094123711809516,-0.0016743434825912118,-0.0017287307418882847,-0.0017480463720858097,-0.0013347865315154195,-0.0011256912257522345,-0.0018511840607970953,-0.0013169937301427126,-0.00139188626781106,-0.0041005173698067665,-0.011302844621241093,-0.007103584241122007,0.0007424730574712157,0.002199882408604026,0.006239058915525675,0.009278484620153904],\"type\":\"scatter\"},{\"opacity\":0.8,\"x\":[0.01,0.021664299641335483,0.032496449462003224,0.04212502708037455,0.05175360469874588,0.07221433213778494,0.09267505957682401,0.20340370218809425,0.35505379967744266,0.5572539296632405,0.8605541246419373,1.617601039886383,3.436198637556267,5.455792793009652,8.28418746840623,18.18356883229425,39.39532532556628,66.66706785740077,100.0],\"y\":[0.00025723036378622055,0.00026699656154960394,0.0002468807506375015,0.00021009848569519818,0.00019598955987021327,0.00012581568444147706,6.320170359686017e-05,0.0012187542160972953,0.0011889711022377014,0.002212545368820429,0.0014952615601941943,0.0007836599252186716,-0.0014472363982349634,0.0018022028962150216,-0.0010650483891367912,-0.011378485709428787,-0.036814600229263306,-0.04851071536540985,-0.047389283776283264],\"type\":\"scatter\"},{\"opacity\":0.8,\"x\":[0.01,0.021664299641335483,0.032496449462003224,0.04212502708037455,0.05175360469874588,0.07221433213778494,0.09267505957682401,0.20340370218809425,0.35505379967744266,0.5572539296632405,0.8605541246419373,1.617601039886383,3.436198637556267,5.455792793009652,8.28418746840623,18.18356883229425,39.39532532556628,66.66706785740077,100.0],\"y\":[0.0002819673391059041,0.00028473231941461563,0.00028009910602122545,0.00027938344283029437,0.00028195741469971836,0.00026240653824061155,0.0002442457480356097,-0.00029052171157673,-0.0007280714344233274,-0.0006466624327003956,-0.0006148765096440911,-0.0005065563600510359,-0.0023408187553286552,-0.0024419366382062435,-0.011487028561532497,-0.0444004200398922,-0.08381114900112152,-0.09783884137868881,-0.09279907494783401],\"type\":\"scatter\"},{\"opacity\":0.8,\"x\":[0.01,0.021664299641335483,0.032496449462003224,0.04212502708037455,0.05175360469874588,0.07221433213778494,0.09267505957682401,0.20340370218809425,0.35505379967744266,0.5572539296632405,0.8605541246419373,1.617601039886383,3.436198637556267,5.455792793009652,8.28418746840623,18.18356883229425,39.39532532556628,66.66706785740077,100.0],\"y\":[-0.002743246965110302,-0.0027852279599756002,-0.002814840991050005,-0.002830116543918848,-0.002844687318429351,-0.002869744785130024,-0.002948849694803357,-0.002711627632379532,-0.0024308678694069386,-0.0023522076662629843,-0.0018552439287304878,0.00021035235840827227,0.006773103028535843,0.0049814521335065365,0.010835590772330761,0.04122822359204292,0.04620380327105522,0.05004122853279114,0.053518928587436676],\"type\":\"scatter\"},{\"opacity\":0.8,\"x\":[0.01,0.021664299641335483,0.032496449462003224,0.04212502708037455,0.05175360469874588,0.07221433213778494,0.09267505957682401,0.20340370218809425,0.35505379967744266,0.5572539296632405,0.8605541246419373,1.617601039886383,3.436198637556267,5.455792793009652,8.28418746840623,18.18356883229425,39.39532532556628,66.66706785740077,100.0],\"y\":[0.003016139380633831,0.0030585890635848045,0.00311886053532362,0.0031877404544502497,0.0032296592835336924,0.003277665004134178,0.003373399144038558,0.0033118450082838535,0.002699492499232292,0.0015531235840171576,0.0005967732286080718,-0.0005502707790583372,-0.002063468564301729,-0.002491538878530264,-0.009139087051153183,-0.020898420363664627,-0.02019953727722168,-0.0180243868380785,-0.012693872675299644],\"type\":\"scatter\"}],                        {\"title\":{\"text\":\"Spectral dynamics: attn-only-4l\"},\"template\":{\"data\":{\"histogram2dcontour\":[{\"type\":\"histogram2dcontour\",\"colorbar\":{\"outlinewidth\":0,\"ticks\":\"\"},\"colorscale\":[[0.0,\"#0d0887\"],[0.1111111111111111,\"#46039f\"],[0.2222222222222222,\"#7201a8\"],[0.3333333333333333,\"#9c179e\"],[0.4444444444444444,\"#bd3786\"],[0.5555555555555556,\"#d8576b\"],[0.6666666666666666,\"#ed7953\"],[0.7777777777777778,\"#fb9f3a\"],[0.8888888888888888,\"#fdca26\"],[1.0,\"#f0f921\"]]}],\"choropleth\":[{\"type\":\"choropleth\",\"colorbar\":{\"outlinewidth\":0,\"ticks\":\"\"}}],\"histogram2d\":[{\"type\":\"histogram2d\",\"colorbar\":{\"outlinewidth\":0,\"ticks\":\"\"},\"colorscale\":[[0.0,\"#0d0887\"],[0.1111111111111111,\"#46039f\"],[0.2222222222222222,\"#7201a8\"],[0.3333333333333333,\"#9c179e\"],[0.4444444444444444,\"#bd3786\"],[0.5555555555555556,\"#d8576b\"],[0.6666666666666666,\"#ed7953\"],[0.7777777777777778,\"#fb9f3a\"],[0.8888888888888888,\"#fdca26\"],[1.0,\"#f0f921\"]]}],\"heatmap\":[{\"type\":\"heatmap\",\"colorbar\":{\"outlinewidth\":0,\"ticks\":\"\"},\"colorscale\":[[0.0,\"#0d0887\"],[0.1111111111111111,\"#46039f\"],[0.2222222222222222,\"#7201a8\"],[0.3333333333333333,\"#9c179e\"],[0.4444444444444444,\"#bd3786\"],[0.5555555555555556,\"#d8576b\"],[0.6666666666666666,\"#ed7953\"],[0.7777777777777778,\"#fb9f3a\"],[0.8888888888888888,\"#fdca26\"],[1.0,\"#f0f921\"]]}],\"heatmapgl\":[{\"type\":\"heatmapgl\",\"colorbar\":{\"outlinewidth\":0,\"ticks\":\"\"},\"colorscale\":[[0.0,\"#0d0887\"],[0.1111111111111111,\"#46039f\"],[0.2222222222222222,\"#7201a8\"],[0.3333333333333333,\"#9c179e\"],[0.4444444444444444,\"#bd3786\"],[0.5555555555555556,\"#d8576b\"],[0.6666666666666666,\"#ed7953\"],[0.7777777777777778,\"#fb9f3a\"],[0.8888888888888888,\"#fdca26\"],[1.0,\"#f0f921\"]]}],\"contourcarpet\":[{\"type\":\"contourcarpet\",\"colorbar\":{\"outlinewidth\":0,\"ticks\":\"\"}}],\"contour\":[{\"type\":\"contour\",\"colorbar\":{\"outlinewidth\":0,\"ticks\":\"\"},\"colorscale\":[[0.0,\"#0d0887\"],[0.1111111111111111,\"#46039f\"],[0.2222222222222222,\"#7201a8\"],[0.3333333333333333,\"#9c179e\"],[0.4444444444444444,\"#bd3786\"],[0.5555555555555556,\"#d8576b\"],[0.6666666666666666,\"#ed7953\"],[0.7777777777777778,\"#fb9f3a\"],[0.8888888888888888,\"#fdca26\"],[1.0,\"#f0f921\"]]}],\"surface\":[{\"type\":\"surface\",\"colorbar\":{\"outlinewidth\":0,\"ticks\":\"\"},\"colorscale\":[[0.0,\"#0d0887\"],[0.1111111111111111,\"#46039f\"],[0.2222222222222222,\"#7201a8\"],[0.3333333333333333,\"#9c179e\"],[0.4444444444444444,\"#bd3786\"],[0.5555555555555556,\"#d8576b\"],[0.6666666666666666,\"#ed7953\"],[0.7777777777777778,\"#fb9f3a\"],[0.8888888888888888,\"#fdca26\"],[1.0,\"#f0f921\"]]}],\"mesh3d\":[{\"type\":\"mesh3d\",\"colorbar\":{\"outlinewidth\":0,\"ticks\":\"\"}}],\"scatter\":[{\"fillpattern\":{\"fillmode\":\"overlay\",\"size\":10,\"solidity\":0.2},\"type\":\"scatter\"}],\"parcoords\":[{\"type\":\"parcoords\",\"line\":{\"colorbar\":{\"outlinewidth\":0,\"ticks\":\"\"}}}],\"scatterpolargl\":[{\"type\":\"scatterpolargl\",\"marker\":{\"colorbar\":{\"outlinewidth\":0,\"ticks\":\"\"}}}],\"bar\":[{\"error_x\":{\"color\":\"#2a3f5f\"},\"error_y\":{\"color\":\"#2a3f5f\"},\"marker\":{\"line\":{\"color\":\"#E5ECF6\",\"width\":0.5},\"pattern\":{\"fillmode\":\"overlay\",\"size\":10,\"solidity\":0.2}},\"type\":\"bar\"}],\"scattergeo\":[{\"type\":\"scattergeo\",\"marker\":{\"colorbar\":{\"outlinewidth\":0,\"ticks\":\"\"}}}],\"scatterpolar\":[{\"type\":\"scatterpolar\",\"marker\":{\"colorbar\":{\"outlinewidth\":0,\"ticks\":\"\"}}}],\"histogram\":[{\"marker\":{\"pattern\":{\"fillmode\":\"overlay\",\"size\":10,\"solidity\":0.2}},\"type\":\"histogram\"}],\"scattergl\":[{\"type\":\"scattergl\",\"marker\":{\"colorbar\":{\"outlinewidth\":0,\"ticks\":\"\"}}}],\"scatter3d\":[{\"type\":\"scatter3d\",\"line\":{\"colorbar\":{\"outlinewidth\":0,\"ticks\":\"\"}},\"marker\":{\"colorbar\":{\"outlinewidth\":0,\"ticks\":\"\"}}}],\"scattermapbox\":[{\"type\":\"scattermapbox\",\"marker\":{\"colorbar\":{\"outlinewidth\":0,\"ticks\":\"\"}}}],\"scatterternary\":[{\"type\":\"scatterternary\",\"marker\":{\"colorbar\":{\"outlinewidth\":0,\"ticks\":\"\"}}}],\"scattercarpet\":[{\"type\":\"scattercarpet\",\"marker\":{\"colorbar\":{\"outlinewidth\":0,\"ticks\":\"\"}}}],\"carpet\":[{\"aaxis\":{\"endlinecolor\":\"#2a3f5f\",\"gridcolor\":\"white\",\"linecolor\":\"white\",\"minorgridcolor\":\"white\",\"startlinecolor\":\"#2a3f5f\"},\"baxis\":{\"endlinecolor\":\"#2a3f5f\",\"gridcolor\":\"white\",\"linecolor\":\"white\",\"minorgridcolor\":\"white\",\"startlinecolor\":\"#2a3f5f\"},\"type\":\"carpet\"}],\"table\":[{\"cells\":{\"fill\":{\"color\":\"#EBF0F8\"},\"line\":{\"color\":\"white\"}},\"header\":{\"fill\":{\"color\":\"#C8D4E3\"},\"line\":{\"color\":\"white\"}},\"type\":\"table\"}],\"barpolar\":[{\"marker\":{\"line\":{\"color\":\"#E5ECF6\",\"width\":0.5},\"pattern\":{\"fillmode\":\"overlay\",\"size\":10,\"solidity\":0.2}},\"type\":\"barpolar\"}],\"pie\":[{\"automargin\":true,\"type\":\"pie\"}]},\"layout\":{\"autotypenumbers\":\"strict\",\"colorway\":[\"#636efa\",\"#EF553B\",\"#00cc96\",\"#ab63fa\",\"#FFA15A\",\"#19d3f3\",\"#FF6692\",\"#B6E880\",\"#FF97FF\",\"#FECB52\"],\"font\":{\"color\":\"#2a3f5f\"},\"hovermode\":\"closest\",\"hoverlabel\":{\"align\":\"left\"},\"paper_bgcolor\":\"white\",\"plot_bgcolor\":\"#E5ECF6\",\"polar\":{\"bgcolor\":\"#E5ECF6\",\"angularaxis\":{\"gridcolor\":\"white\",\"linecolor\":\"white\",\"ticks\":\"\"},\"radialaxis\":{\"gridcolor\":\"white\",\"linecolor\":\"white\",\"ticks\":\"\"}},\"ternary\":{\"bgcolor\":\"#E5ECF6\",\"aaxis\":{\"gridcolor\":\"white\",\"linecolor\":\"white\",\"ticks\":\"\"},\"baxis\":{\"gridcolor\":\"white\",\"linecolor\":\"white\",\"ticks\":\"\"},\"caxis\":{\"gridcolor\":\"white\",\"linecolor\":\"white\",\"ticks\":\"\"}},\"coloraxis\":{\"colorbar\":{\"outlinewidth\":0,\"ticks\":\"\"}},\"colorscale\":{\"sequential\":[[0.0,\"#0d0887\"],[0.1111111111111111,\"#46039f\"],[0.2222222222222222,\"#7201a8\"],[0.3333333333333333,\"#9c179e\"],[0.4444444444444444,\"#bd3786\"],[0.5555555555555556,\"#d8576b\"],[0.6666666666666666,\"#ed7953\"],[0.7777777777777778,\"#fb9f3a\"],[0.8888888888888888,\"#fdca26\"],[1.0,\"#f0f921\"]],\"sequentialminus\":[[0.0,\"#0d0887\"],[0.1111111111111111,\"#46039f\"],[0.2222222222222222,\"#7201a8\"],[0.3333333333333333,\"#9c179e\"],[0.4444444444444444,\"#bd3786\"],[0.5555555555555556,\"#d8576b\"],[0.6666666666666666,\"#ed7953\"],[0.7777777777777778,\"#fb9f3a\"],[0.8888888888888888,\"#fdca26\"],[1.0,\"#f0f921\"]],\"diverging\":[[0,\"#8e0152\"],[0.1,\"#c51b7d\"],[0.2,\"#de77ae\"],[0.3,\"#f1b6da\"],[0.4,\"#fde0ef\"],[0.5,\"#f7f7f7\"],[0.6,\"#e6f5d0\"],[0.7,\"#b8e186\"],[0.8,\"#7fbc41\"],[0.9,\"#4d9221\"],[1,\"#276419\"]]},\"xaxis\":{\"gridcolor\":\"white\",\"linecolor\":\"white\",\"ticks\":\"\",\"title\":{\"standoff\":15},\"zerolinecolor\":\"white\",\"automargin\":true,\"zerolinewidth\":2},\"yaxis\":{\"gridcolor\":\"white\",\"linecolor\":\"white\",\"ticks\":\"\",\"title\":{\"standoff\":15},\"zerolinecolor\":\"white\",\"automargin\":true,\"zerolinewidth\":2},\"scene\":{\"xaxis\":{\"backgroundcolor\":\"#E5ECF6\",\"gridcolor\":\"white\",\"linecolor\":\"white\",\"showbackground\":true,\"ticks\":\"\",\"zerolinecolor\":\"white\",\"gridwidth\":2},\"yaxis\":{\"backgroundcolor\":\"#E5ECF6\",\"gridcolor\":\"white\",\"linecolor\":\"white\",\"showbackground\":true,\"ticks\":\"\",\"zerolinecolor\":\"white\",\"gridwidth\":2},\"zaxis\":{\"backgroundcolor\":\"#E5ECF6\",\"gridcolor\":\"white\",\"linecolor\":\"white\",\"showbackground\":true,\"ticks\":\"\",\"zerolinecolor\":\"white\",\"gridwidth\":2}},\"shapedefaults\":{\"line\":{\"color\":\"#2a3f5f\"}},\"annotationdefaults\":{\"arrowcolor\":\"#2a3f5f\",\"arrowhead\":0,\"arrowwidth\":1},\"geo\":{\"bgcolor\":\"white\",\"landcolor\":\"#E5ECF6\",\"subunitcolor\":\"white\",\"showland\":true,\"showlakes\":true,\"lakecolor\":\"white\"},\"title\":{\"x\":0.05},\"mapbox\":{\"style\":\"light\"}}},\"xaxis\":{\"title\":{\"text\":\"% Total Training Tokens\"},\"type\":\"log\"},\"shapes\":[{\"fillcolor\":\"gold\",\"line\":{\"width\":1},\"opacity\":0.2,\"type\":\"rect\",\"x0\":0.6,\"x1\":1.3,\"xref\":\"x\",\"y0\":0,\"y1\":1,\"yref\":\"y domain\"}]},                        {\"responsive\": true}                    ).then(function(){\n",
       "                            \n",
       "var gd = document.getElementById('f5aa98af-e6dc-48fb-bd92-16eab450a701');\n",
       "var x = new MutationObserver(function (mutations, observer) {{\n",
       "        var display = window.getComputedStyle(gd).display;\n",
       "        if (!display || display === 'none') {{\n",
       "            console.log([gd, 'removed!']);\n",
       "            Plotly.purge(gd);\n",
       "            observer.disconnect();\n",
       "        }}\n",
       "}});\n",
       "\n",
       "// Listen for the removal of the full notebook cells\n",
       "var notebookContainer = gd.closest('#notebook-container');\n",
       "if (notebookContainer) {{\n",
       "    x.observe(notebookContainer, {childList: true});\n",
       "}}\n",
       "\n",
       "// Listen for the clearing of the current output cell\n",
       "var outputEl = gd.closest('.output');\n",
       "if (outputEl) {{\n",
       "    x.observe(outputEl, {childList: true});\n",
       "}}\n",
       "\n",
       "                        })                };                });            </script>        </div>"
      ]
     },
     "metadata": {},
     "output_type": "display_data"
    },
    {
     "data": {
      "text/html": [
       "<div>                            <div id=\"833131d9-e628-4f7a-8ebe-8f55e39f0247\" class=\"plotly-graph-div\" style=\"height:525px; width:100%;\"></div>            <script type=\"text/javascript\">                require([\"plotly\"], function(Plotly) {                    window.PLOTLYENV=window.PLOTLYENV || {};                                    if (document.getElementById(\"833131d9-e628-4f7a-8ebe-8f55e39f0247\")) {                    Plotly.newPlot(                        \"833131d9-e628-4f7a-8ebe-8f55e39f0247\",                        [{\"opacity\":0.8,\"x\":[0.01,0.0075,0.01,0.015,0.02,0.0375,0.08750000000000001,0.1625,0.2625,0.4,0.65,1.125,1.775,2.65,3.85,9.5,31.25,60.5,100.0],\"y\":[-0.0010350849479436874,-0.0014987050089985132,-0.0014236370334401727,-0.0012710029259324074,-0.0012384827714413404,-0.0011587954359129071,0.0005512080388143659,0.0021084037143737078,0.0031107282266020775,0.0028109822887927294,0.0029240939766168594,0.00314738554880023,0.0003037445421796292,0.001988386269658804,-0.006907911039888859,0.004520031623542309,0.0022374929394572973,0.0032278778962790966,0.0006232555606402457],\"type\":\"scatter\"},{\"opacity\":0.8,\"x\":[0.01,0.0075,0.01,0.015,0.02,0.0375,0.08750000000000001,0.1625,0.2625,0.4,0.65,1.125,1.775,2.65,3.85,9.5,31.25,60.5,100.0],\"y\":[-0.00015654688468202949,-0.0004171165346633643,-0.0004789485828951001,-0.00047575184726156294,-0.0004359724698588252,-0.0001522138190921396,-0.0011034115450456738,-0.0015270921867340803,-0.000658260250929743,9.13417898118496e-06,-0.00048452874762006104,-0.0020200074650347233,-0.0020044834818691015,-0.003646771889179945,0.0033767595887184143,0.015292744152247906,-0.0074566625989973545,-0.007618420757353306,-0.00276780454441905],\"type\":\"scatter\"},{\"opacity\":0.8,\"x\":[0.01,0.0075,0.01,0.015,0.02,0.0375,0.08750000000000001,0.1625,0.2625,0.4,0.65,1.125,1.775,2.65,3.85,9.5,31.25,60.5,100.0],\"y\":[-0.0006592918070964515,-0.0007023976068012416,-0.0006965347565710545,-0.0007270447677001357,-0.0008733214344829321,-0.0010086093097925186,-0.0005897164810448885,-0.0006487334612756968,-0.0013667420716956258,0.0003431210061535239,0.0003390131751075387,-0.0048872302286326885,-0.008613985031843185,-0.016828171908855438,-0.019158782437443733,-0.013464059680700302,-0.032075390219688416,-0.014919078908860683,-0.005430241581052542],\"type\":\"scatter\"},{\"opacity\":0.8,\"x\":[0.01,0.0075,0.01,0.015,0.02,0.0375,0.08750000000000001,0.1625,0.2625,0.4,0.65,1.125,1.775,2.65,3.85,9.5,31.25,60.5,100.0],\"y\":[-0.00017989221669267863,-0.00019596882339101285,-0.0002165984478779137,-0.00019526926917023957,-0.0001914595195557922,-0.000355119991581887,0.0007605681894347072,0.0023901769891381264,0.002720298944041133,0.002288633491843939,0.002745966427028179,0.0017912534531205893,-0.0016120584914460778,-0.004074343014508486,0.004504346288740635,0.008330076932907104,0.0043358588591217995,0.004484172444790602,0.002661460777744651],\"type\":\"scatter\"},{\"opacity\":0.8,\"x\":[0.01,0.0075,0.01,0.015,0.02,0.0375,0.08750000000000001,0.1625,0.2625,0.4,0.65,1.125,1.775,2.65,3.85,9.5,31.25,60.5,100.0],\"y\":[-0.00043201830703765154,-0.00043020478915423155,-0.0004447970713954419,-0.0004959778743796051,-0.0006005109171383083,-0.000718361814506352,-4.2380765080451965e-05,-0.0007403178024105728,-0.001105963601730764,-0.0006891674129292369,-0.0020144684240221977,-0.006197186652570963,-0.001389973796904087,0.00342435110360384,0.011932644993066788,0.01350490190088749,0.017364203929901123,0.010530952364206314,0.005944754928350449],\"type\":\"scatter\"},{\"opacity\":0.8,\"x\":[0.01,0.0075,0.01,0.015,0.02,0.0375,0.08750000000000001,0.1625,0.2625,0.4,0.65,1.125,1.775,2.65,3.85,9.5,31.25,60.5,100.0],\"y\":[0.0005232696421444416,0.00021702429512515664,0.00012670460273511708,0.00020138183026574552,0.00023017890634946525,0.0002471104671712965,0.0005890121683478355,0.0004860112094320357,0.000421435252064839,-0.000809265358839184,-0.0037427758798003197,-0.006705960258841515,-0.007682594005018473,-0.011267615482211113,-0.014451633207499981,0.0004328883078414947,0.001530939363874495,0.006492882035672665,0.00491949450224638],\"type\":\"scatter\"},{\"opacity\":0.8,\"x\":[0.01,0.0075,0.01,0.015,0.02,0.0375,0.08750000000000001,0.1625,0.2625,0.4,0.65,1.125,1.775,2.65,3.85,9.5,31.25,60.5,100.0],\"y\":[-0.0001584720885148272,-0.00010523355740588158,-3.5198241675971076e-05,-5.7407487474847585e-05,-3.830196874332614e-06,6.53251918265596e-05,0.00039157556602731347,0.0014699921011924744,0.0035579907707870007,0.0028347144834697247,0.0012274534674361348,0.00036944731255061924,0.0002923472202382982,0.0010506357066333294,-0.0033392319455742836,-0.010544308461248875,0.0012147421948611736,-0.0015375149669125676,0.00016299050184898078],\"type\":\"scatter\"},{\"opacity\":0.8,\"x\":[0.01,0.0075,0.01,0.015,0.02,0.0375,0.08750000000000001,0.1625,0.2625,0.4,0.65,1.125,1.775,2.65,3.85,9.5,31.25,60.5,100.0],\"y\":[0.0002593196404632181,6.365893932525069e-05,2.583930836408399e-05,6.119444879004732e-05,0.00013269738701637834,0.00018530130910221487,0.00033639310277067125,0.0007285549654625356,0.0006285735289566219,0.0017085198778659105,0.0032624658197164536,-8.139870624290779e-05,0.005505089648067951,0.0013733026571571827,-0.002722659148275852,0.005768643692135811,-0.010649707168340683,-0.007906493730843067,-0.002790155354887247],\"type\":\"scatter\"},{\"opacity\":0.8,\"x\":[0.01,0.0075,0.01,0.015,0.02,0.0375,0.08750000000000001,0.1625,0.2625,0.4,0.65,1.125,1.775,2.65,3.85,9.5,31.25,60.5,100.0],\"y\":[0.0005552272195927799,0.0005913565400987864,0.00048698458704166114,0.0005333765875548124,0.0005779198836535215,0.0007968184654600918,0.0010007647797465324,-0.0008311740239150822,-0.0009192643337883055,0.0007447510724887252,0.002286297734826803,0.00936452392488718,0.01036547590047121,0.013541321270167828,0.015053674578666687,0.004061546642333269,-0.017628492787480354,-0.014729387126863003,-0.004862546920776367],\"type\":\"scatter\"},{\"opacity\":0.8,\"x\":[0.01,0.0075,0.01,0.015,0.02,0.0375,0.08750000000000001,0.1625,0.2625,0.4,0.65,1.125,1.775,2.65,3.85,9.5,31.25,60.5,100.0],\"y\":[0.00039654679130762815,0.00029655249090865254,0.00027665228117257357,0.0003011385560967028,0.0002849652955774218,0.00038390434929169714,0.0006399863632395864,7.642924902029335e-05,-0.0018511704402044415,-0.00395543035119772,-0.005154390819370747,-0.006888797041028738,-0.009515855461359024,-0.01054384745657444,-0.012717846781015396,-0.027469566091895103,-0.019549762830138206,-0.019848642870783806,-0.007593067828565836],\"type\":\"scatter\"},{\"opacity\":0.8,\"x\":[0.01,0.0075,0.01,0.015,0.02,0.0375,0.08750000000000001,0.1625,0.2625,0.4,0.65,1.125,1.775,2.65,3.85,9.5,31.25,60.5,100.0],\"y\":[0.0007406236254610121,0.000869953481014818,0.00086947251111269,0.0008861780515871942,0.0008536587120033801,0.0005498949903994799,0.0007658982649445534,-0.0009809894254431129,-0.0014234064146876335,-4.7695732064312324e-05,0.0011172712547704577,-0.0031267632730305195,0.0008612889796495438,0.0020252352114766836,0.0027568424120545387,-0.00383295607753098,0.010644106194376945,0.0015437830006703734,0.0006870633224025369],\"type\":\"scatter\"},{\"opacity\":0.8,\"x\":[0.01,0.0075,0.01,0.015,0.02,0.0375,0.08750000000000001,0.1625,0.2625,0.4,0.65,1.125,1.775,2.65,3.85,9.5,31.25,60.5,100.0],\"y\":[-0.0003474568948149681,-0.0004375983262434602,-0.0005081549170427024,-0.00044822879135608673,-0.0004151036264374852,-0.0008908432791940868,-0.0003765271685551852,0.00047466097748838365,-0.0009626912651583552,0.0014538702089339495,0.005993960425257683,0.014650995843112469,0.008161204867064953,0.0016323227901011705,-0.005224721506237984,-0.00822217296808958,-0.012236944399774075,-0.007532913703471422,-0.004787770565599203],\"type\":\"scatter\"},{\"opacity\":0.8,\"x\":[0.01,0.0075,0.01,0.015,0.02,0.0375,0.08750000000000001,0.1625,0.2625,0.4,0.65,1.125,1.775,2.65,3.85,9.5,31.25,60.5,100.0],\"y\":[-0.0004847873351536691,-0.00034207478165626526,-0.0002689305110834539,-0.00015020632417872548,-0.00014456879580393434,-0.0001313830871367827,0.00017871185264084488,0.0014952094061300159,-0.0007239733240567148,-0.00264675822108984,-0.005513990297913551,-0.0053594657219946384,-0.0011931960470974445,0.0020027784630656242,0.0032654046081006527,-0.0073655047453939915,-0.010629088617861271,-0.004298694431781769,-0.0028479795437306166],\"type\":\"scatter\"},{\"opacity\":0.8,\"x\":[0.01,0.0075,0.01,0.015,0.02,0.0375,0.08750000000000001,0.1625,0.2625,0.4,0.65,1.125,1.775,2.65,3.85,9.5,31.25,60.5,100.0],\"y\":[-0.0002913294592872262,-0.0005548342596739531,-0.0005932201165705919,-0.0005424115806818008,-0.0005726575618609786,-0.00041225459426641464,-0.0012966267531737685,-0.0011684163473546505,-0.0012582503259181976,-0.0016911207931116223,-0.004309121519327164,-0.005298190750181675,-0.006350008770823479,-0.007151077035814524,-0.002241474809125066,-0.013370099477469921,-0.02524387650191784,-0.018479039892554283,-0.010091368108987808],\"type\":\"scatter\"},{\"opacity\":0.8,\"x\":[0.01,0.0075,0.01,0.015,0.02,0.0375,0.08750000000000001,0.1625,0.2625,0.4,0.65,1.125,1.775,2.65,3.85,9.5,31.25,60.5,100.0],\"y\":[0.0003938480222132057,0.0005433112964965403,0.0005496423109434545,0.0005212903488427401,0.0003855271206703037,0.00036354284384287894,0.0005788588896393776,-0.0024125874042510986,-0.0027952787932008505,-0.0032978157978504896,-0.005736535415053368,-0.00562805263325572,-0.0010323114693164825,0.003830011934041977,0.0006325855501927435,-0.018436294049024582,-0.038916781544685364,-0.031562164425849915,-0.015289990231394768],\"type\":\"scatter\"},{\"opacity\":0.8,\"x\":[0.01,0.0075,0.01,0.015,0.02,0.0375,0.08750000000000001,0.1625,0.2625,0.4,0.65,1.125,1.775,2.65,3.85,9.5,31.25,60.5,100.0],\"y\":[-0.00012499011063482612,6.437751289922744e-05,7.810277020325884e-05,8.052986959228292e-05,4.089182039024308e-05,-3.307888255221769e-05,0.0007495035533793271,-0.0007516610785387456,-0.0009942646138370037,0.0017834444297477603,0.003910845145583153,0.002291714074090123,0.00654279300943017,0.003984356764703989,-0.0028687601443380117,2.45879505200719e-06,-0.00198459904640913,-0.012053962796926498,-0.005802009254693985],\"type\":\"scatter\"},{\"opacity\":0.8,\"x\":[0.01,0.0075,0.01,0.015,0.02,0.0375,0.08750000000000001,0.1625,0.2625,0.4,0.65,1.125,1.775,2.65,3.85,9.5,31.25,60.5,100.0],\"y\":[-0.0002158094575861469,-9.390066406922415e-05,-6.273945473367348e-05,2.0336048692115583e-05,0.00017293382552452385,0.0003705297422129661,0.0010829914826899767,0.0006177405011840165,0.001205574139021337,0.0009087251964956522,0.0026910274755209684,0.008357753045856953,0.005054456181824207,-9.197710460284725e-05,-0.003145090537145734,-0.016642410308122635,-0.015635402873158455,-0.0018653428414836526,0.0031753142829984426],\"type\":\"scatter\"},{\"opacity\":0.8,\"x\":[0.01,0.0075,0.01,0.015,0.02,0.0375,0.08750000000000001,0.1625,0.2625,0.4,0.65,1.125,1.775,2.65,3.85,9.5,31.25,60.5,100.0],\"y\":[0.00023469887673854828,0.00016666595183778554,0.00017450081941206008,8.167996566044167e-05,0.00014169889618642628,0.0003141021588817239,0.0003820856800302863,-2.4358696464332752e-05,0.0003332268970552832,0.001558329095132649,0.00249448511749506,-0.005943374242633581,-0.008199197240173817,-0.009820149280130863,-0.007390471175312996,-0.008791483938694,-0.015515574254095554,-0.01103487703949213,-0.007597761228680611],\"type\":\"scatter\"},{\"opacity\":0.8,\"x\":[0.01,0.0075,0.01,0.015,0.02,0.0375,0.08750000000000001,0.1625,0.2625,0.4,0.65,1.125,1.775,2.65,3.85,9.5,31.25,60.5,100.0],\"y\":[-0.0007416948792524636,-0.0007528570713475347,-0.0008242327603511512,-0.0008358274353668094,-0.0008452869369648397,-0.0009237288031727076,-0.0009701177477836609,-0.001636285800486803,-0.00391162047162652,-0.0038174684159457684,-0.004494019318372011,-0.007103459909558296,-0.012260732240974903,-0.01866016536951065,-0.01704408973455429,-0.02187725529074669,-0.006358117330819368,-0.0029919699300080538,-0.001723465626128018],\"type\":\"scatter\"},{\"opacity\":0.8,\"x\":[0.01,0.0075,0.01,0.015,0.02,0.0375,0.08750000000000001,0.1625,0.2625,0.4,0.65,1.125,1.775,2.65,3.85,9.5,31.25,60.5,100.0],\"y\":[-0.00034156430047005415,-0.00014369476411957294,-8.261443144874647e-05,-5.813375537400134e-05,5.118278932059184e-05,8.158704440575093e-05,-0.0005201158346608281,-0.0003607262915465981,-0.0001425679656676948,0.0008861116366460919,0.0021655031014233828,0.00594007782638073,0.011426970362663269,0.013189070858061314,0.013973484747111797,-0.00042999887955375016,-0.00801465567201376,-0.0063150557689368725,0.0005877988878637552],\"type\":\"scatter\"},{\"opacity\":0.8,\"x\":[0.01,0.0075,0.01,0.015,0.02,0.0375,0.08750000000000001,0.1625,0.2625,0.4,0.65,1.125,1.775,2.65,3.85,9.5,31.25,60.5,100.0],\"y\":[-0.0003444225003477186,-0.00029948417795822024,-0.0002924998407252133,-0.0002473968197591603,-0.00013185612624511123,-0.00024808960733935237,8.179744327208027e-05,0.0006104934145696461,-0.0020921165123581886,0.0009060462471097708,0.0019280151464045048,0.002188691170886159,-0.0018698788480833173,-0.0050109936855733395,-0.0070326500572264194,-0.005764873698353767,-0.024522844702005386,-0.022477127611637115,-0.010985945351421833],\"type\":\"scatter\"},{\"opacity\":0.8,\"x\":[0.01,0.0075,0.01,0.015,0.02,0.0375,0.08750000000000001,0.1625,0.2625,0.4,0.65,1.125,1.775,2.65,3.85,9.5,31.25,60.5,100.0],\"y\":[-0.0011075891088694334,-0.001129716169089079,-0.0011118180118501186,-0.0011161633301526308,-0.0010750734945759177,-0.0006833976949565113,-0.0009802671847864985,-0.0007534964242950082,0.000330054375808686,0.00045575055992230773,0.0015518278814852238,-0.0007949401624500751,0.00112268200609833,0.0027570175006985664,0.0031640599481761456,0.0061258478090167046,0.0025546650867909193,-0.0025382486637681723,-0.002518491819500923],\"type\":\"scatter\"},{\"opacity\":0.8,\"x\":[0.01,0.0075,0.01,0.015,0.02,0.0375,0.08750000000000001,0.1625,0.2625,0.4,0.65,1.125,1.775,2.65,3.85,9.5,31.25,60.5,100.0],\"y\":[-0.00029549244209192693,-0.00040584622183814645,-0.0005088748876005411,-0.0005101307178847492,-0.0005085723823867738,-8.953569340519607e-05,0.0001229508052347228,-0.001191712450236082,0.00013221375411376357,0.0006805100128985941,0.002400168916210532,0.0032376942690461874,-0.0017404691316187382,-0.0037742580752819777,-0.008188975043594837,-0.01810944639146328,-0.022269293665885925,-0.019689403474330902,-0.008213563822209835],\"type\":\"scatter\"},{\"opacity\":0.8,\"x\":[0.01,0.0075,0.01,0.015,0.02,0.0375,0.08750000000000001,0.1625,0.2625,0.4,0.65,1.125,1.775,2.65,3.85,9.5,31.25,60.5,100.0],\"y\":[0.0003790814953390509,0.00032548661692999303,0.00036375096533447504,0.00034288561437278986,0.00039972865488380194,0.0005176316481083632,-1.883493496279698e-05,-0.00087987061124295,-0.0016399644082412124,-0.0018937119748443365,-0.0031423610635101795,-0.004003926645964384,-0.004783022217452526,0.0007191654294729233,0.007205719593912363,0.00048603344475850463,-0.0003807852044701576,0.00016213813796639442,-0.0010455265874043107],\"type\":\"scatter\"},{\"opacity\":0.8,\"x\":[0.01,0.0075,0.01,0.015,0.02,0.0375,0.08750000000000001,0.1625,0.2625,0.4,0.65,1.125,1.775,2.65,3.85,9.5,31.25,60.5,100.0],\"y\":[0.0008023317786864936,0.0008731510024517775,0.0008925195434130728,0.0009377819951623678,0.0008690354297868907,0.0007091601728461683,0.0019405289785936475,0.0011350685963407159,0.0025453960988670588,0.004343111999332905,0.005339648108929396,0.009682925418019295,0.0043745385482907295,-0.001555200549773872,0.0017339976038783789,-0.003010568441823125,0.0005836387863382697,-0.005359466187655926,-0.0022932561114430428],\"type\":\"scatter\"},{\"opacity\":0.8,\"x\":[0.01,0.0075,0.01,0.015,0.02,0.0375,0.08750000000000001,0.1625,0.2625,0.4,0.65,1.125,1.775,2.65,3.85,9.5,31.25,60.5,100.0],\"y\":[-0.0007102511590346694,-0.0006980670150369406,-0.0006392879295162857,-0.00047434784937649965,-0.00029947469010949135,-0.0003039302537217736,0.0005871146568097174,0.0004690142523031682,0.0006817125831730664,0.0006457798299379647,0.00024510198272764683,-0.002472017193213105,-0.0025676973164081573,0.0005921355332247913,-0.001828872482292354,-0.005212564952671528,-0.014720668084919453,-0.007558366283774376,-0.005063973367214203],\"type\":\"scatter\"},{\"opacity\":0.8,\"x\":[0.01,0.0075,0.01,0.015,0.02,0.0375,0.08750000000000001,0.1625,0.2625,0.4,0.65,1.125,1.775,2.65,3.85,9.5,31.25,60.5,100.0],\"y\":[-0.00013408121594693512,-0.0001897340262075886,-0.000142618446261622,1.873360452009365e-05,0.00016578675422351807,0.00015820573025848716,0.000790956080891192,0.0003550204273778945,3.1080140615813434e-05,-0.0002389852306805551,-0.0030747712589800358,0.0035407559480518103,-0.0046131000854074955,-0.007727717515081167,-0.0028284157160669565,0.0035876519978046417,-0.00887883361428976,-0.00901066605001688,-0.004359473008662462],\"type\":\"scatter\"},{\"opacity\":0.8,\"x\":[0.01,0.0075,0.01,0.015,0.02,0.0375,0.08750000000000001,0.1625,0.2625,0.4,0.65,1.125,1.775,2.65,3.85,9.5,31.25,60.5,100.0],\"y\":[5.36777479283046e-05,0.00012143826461397111,0.0001495963369961828,0.00011229659867240116,0.0001028479018714279,0.000605239998549223,0.0010841934708878398,-0.0014073571655899286,-6.235826731426641e-05,0.0009795476216822863,6.773723725927994e-05,-0.004777733702212572,-0.005222567822784185,-0.00433536758646369,-0.009798750281333923,-0.006257775705307722,-0.026843590661883354,-0.027661526575684547,-0.01290258951485157],\"type\":\"scatter\"},{\"opacity\":0.8,\"x\":[0.01,0.0075,0.01,0.015,0.02,0.0375,0.08750000000000001,0.1625,0.2625,0.4,0.65,1.125,1.775,2.65,3.85,9.5,31.25,60.5,100.0],\"y\":[0.00023730873363092542,0.0004810921673197299,0.000530881981831044,0.0004921096842736006,0.00042157230200245976,0.00032066195853985846,-0.00030777676147408783,-0.001156457932665944,-0.002442810218781233,-0.0016787456115707755,0.0006182147189974785,-0.00010119701619260013,0.0014688547234982252,0.0015276097692549229,-0.0009771069744601846,-0.008333738893270493,-0.023593677207827568,-0.010759121738374233,-0.005126914009451866],\"type\":\"scatter\"},{\"opacity\":0.8,\"x\":[0.01,0.0075,0.01,0.015,0.02,0.0375,0.08750000000000001,0.1625,0.2625,0.4,0.65,1.125,1.775,2.65,3.85,9.5,31.25,60.5,100.0],\"y\":[-3.4887456422438845e-05,6.195862806634977e-05,7.951709994813427e-05,7.248828478623182e-05,3.066377030336298e-05,0.00021001353161409497,-0.0008942006970755756,-0.0012638383777812123,-0.0005821543163619936,2.1272806407068856e-05,0.0010905037634074688,0.001742445514537394,0.0028484766371548176,0.00041186457383446395,-0.00011805465328507125,0.008020286448299885,9.742756810737774e-05,0.002425658982247114,-0.0015112156979739666],\"type\":\"scatter\"},{\"opacity\":0.8,\"x\":[0.01,0.0075,0.01,0.015,0.02,0.0375,0.08750000000000001,0.1625,0.2625,0.4,0.65,1.125,1.775,2.65,3.85,9.5,31.25,60.5,100.0],\"y\":[-0.00010640619439072907,-0.00019239840912632644,-0.0001992420293390751,-0.0001927321427501738,-0.00018777392688207328,-9.260413207812235e-05,0.0009524360648356378,0.0012085511116310954,2.5105740860453807e-05,0.0010352262761443853,0.0007783559849485755,-7.406275835819542e-05,0.002194891218096018,-0.002208166290074587,0.0017233766848221421,0.004594461992383003,0.005116281099617481,0.0031254366040229797,0.001873484463430941],\"type\":\"scatter\"},{\"opacity\":0.8,\"x\":[0.01,0.0075,0.01,0.015,0.02,0.0375,0.08750000000000001,0.1625,0.2625,0.4,0.65,1.125,1.775,2.65,3.85,9.5,31.25,60.5,100.0],\"y\":[0.00027049679192714393,0.0002659984747879207,0.0002703857608139515,0.0003472898679319769,0.0004396623407956213,0.0005905770231038332,0.0008069358300417662,-9.533668344374746e-05,-0.0007140442612580955,-0.0016971324803307652,-0.0016602588584646583,-0.0029417886398732662,-0.004685124382376671,-0.0031096236780285835,0.0008870178135111928,-0.0028457066509872675,-0.011759786866605282,-0.009648759849369526,-0.004600276704877615],\"type\":\"scatter\"},{\"opacity\":0.8,\"x\":[0.01,0.0075,0.01,0.015,0.02,0.0375,0.08750000000000001,0.1625,0.2625,0.4,0.65,1.125,1.775,2.65,3.85,9.5,31.25,60.5,100.0],\"y\":[-0.0005729233380407095,-0.0006835059029981494,-0.0007441972848027945,-0.0006750330794602633,-0.0006663778913207352,-0.000987223000265658,-0.00013469409896060824,-0.0017074213828891516,0.0013192450860515237,0.0014216159470379353,0.0024371331091970205,0.0016620904207229614,-5.4704337344446685e-06,0.0033663283102214336,0.004926946479827166,0.00015886613982729614,0.004574290476739407,-0.006913771852850914,-0.005681702867150307],\"type\":\"scatter\"},{\"opacity\":0.8,\"x\":[0.01,0.0075,0.01,0.015,0.02,0.0375,0.08750000000000001,0.1625,0.2625,0.4,0.65,1.125,1.775,2.65,3.85,9.5,31.25,60.5,100.0],\"y\":[-1.764256739988923e-05,-2.4522454623365775e-05,3.839959390461445e-07,5.0008107791654766e-05,2.7371454052627087e-05,0.00016804698680061847,0.0011744953226298094,0.0020095324143767357,0.0032183839939534664,0.0036768983118236065,0.0056429579854011536,0.009557424113154411,0.006447941996157169,0.007621712051331997,0.001554878312163055,-0.012862835079431534,-0.019766660407185555,-0.01599324308335781,-0.005251288414001465],\"type\":\"scatter\"},{\"opacity\":0.8,\"x\":[0.01,0.0075,0.01,0.015,0.02,0.0375,0.08750000000000001,0.1625,0.2625,0.4,0.65,1.125,1.775,2.65,3.85,9.5,31.25,60.5,100.0],\"y\":[-0.0006196388858370483,-0.0005102523136883974,-0.00047706745681352913,-0.000426872429670766,-0.00041543555562384427,-0.00033033418003469706,-0.0003008181811310351,-0.0005785216926597059,-0.00259047350846231,-0.003579742042347789,-0.005009791813790798,-0.009301898069679737,-0.003983770962804556,-0.003257988253608346,-0.0017147405305877328,-0.01542048342525959,-0.013744662515819073,-0.018751801922917366,-0.00983777828514576],\"type\":\"scatter\"},{\"opacity\":0.8,\"x\":[0.01,0.0075,0.01,0.015,0.02,0.0375,0.08750000000000001,0.1625,0.2625,0.4,0.65,1.125,1.775,2.65,3.85,9.5,31.25,60.5,100.0],\"y\":[0.0004427215317264199,0.0003607066173572093,0.00032115192152559757,0.0002611807722132653,0.00038034928729757667,0.0007146695861592889,0.0016439694445580244,0.0015139803290367126,-7.202148844953626e-05,-9.937615686794743e-05,-0.0009296498028561473,-0.0036128892097622156,-0.005249613896012306,-0.00611012103036046,-0.005776561796665192,-0.00729335006326437,-0.008655671030282974,-0.0063802204094827175,-0.002486518584191799],\"type\":\"scatter\"},{\"opacity\":0.8,\"x\":[0.01,0.0075,0.01,0.015,0.02,0.0375,0.08750000000000001,0.1625,0.2625,0.4,0.65,1.125,1.775,2.65,3.85,9.5,31.25,60.5,100.0],\"y\":[-0.0005116231623105705,-0.0002749682462308556,-0.00028661719989031553,-0.0003725148271769285,-0.00032273365650326014,-0.0001954936742549762,-0.0010812724940478802,-0.0026607762556523085,-7.537245437561069e-06,-0.00036129943327978253,-0.00014597976405639201,-0.0011621802113950253,0.002677544020116329,-0.0003821338468696922,-0.003971231169998646,-0.019246160984039307,-0.025573546066880226,-0.01592029258608818,-0.00983314961194992],\"type\":\"scatter\"},{\"opacity\":0.8,\"x\":[0.01,0.0075,0.01,0.015,0.02,0.0375,0.08750000000000001,0.1625,0.2625,0.4,0.65,1.125,1.775,2.65,3.85,9.5,31.25,60.5,100.0],\"y\":[2.3602518922416493e-05,-3.707639916683547e-05,-0.00014866108540445566,-0.00019774172687903047,-0.00026801592321135104,-0.00032847144757397473,-0.0002534232335165143,-0.001236670184880495,-0.0007675557280890644,4.4336335122352466e-05,0.0029993942007422447,0.0032520645763725042,0.003315424546599388,0.005571230314671993,0.011906127445399761,0.008261322043836117,0.0008335194434039295,-0.004420176614075899,-0.0035835716407746077],\"type\":\"scatter\"},{\"opacity\":0.8,\"x\":[0.01,0.0075,0.01,0.015,0.02,0.0375,0.08750000000000001,0.1625,0.2625,0.4,0.65,1.125,1.775,2.65,3.85,9.5,31.25,60.5,100.0],\"y\":[-0.0002183777542086318,-0.0004042381187900901,-0.00041420903289690614,-0.00044452850124798715,-0.00048059257096610963,-0.0006489467923529446,-0.000654415984172374,0.0007268105400726199,0.0010224346769973636,-0.0006358352839015424,0.0009352157358080149,0.0029225193429738283,0.008448613807559013,0.012551129795610905,0.02065620757639408,0.013227896764874458,-0.0016876780427992344,-0.0018110810779035091,-0.0007743028691038489],\"type\":\"scatter\"},{\"opacity\":0.8,\"x\":[0.01,0.0075,0.01,0.015,0.02,0.0375,0.08750000000000001,0.1625,0.2625,0.4,0.65,1.125,1.775,2.65,3.85,9.5,31.25,60.5,100.0],\"y\":[0.00024007480533327907,0.00014918760280124843,0.00017823796952143312,0.00025346322217956185,0.00035363418282940984,0.0003140514309052378,0.001181095838546753,0.0029861717484891415,0.0016487358370795846,0.0027301632799208164,0.0014204045291990042,0.00010580512753222138,-0.003210613736882806,-0.0065290676429867744,-0.010705788619816303,-0.021196778863668442,-0.02901454083621502,-0.022454936057329178,-0.009869564324617386],\"type\":\"scatter\"},{\"opacity\":0.8,\"x\":[0.01,0.0075,0.01,0.015,0.02,0.0375,0.08750000000000001,0.1625,0.2625,0.4,0.65,1.125,1.775,2.65,3.85,9.5,31.25,60.5,100.0],\"y\":[1.5679330317652784e-05,-7.66228258726187e-05,-0.00018888441263698041,-0.00019118459022138268,-1.8172986528952606e-05,0.00020998154650442302,-0.00014743715291842818,0.0009648576378822327,0.0007635111105628312,0.0011020901147276163,0.001013865927234292,0.0015749107114970684,0.008700136095285416,0.008806701749563217,0.007050476036965847,0.011634056456387043,-0.019222497940063477,-0.014016308821737766,-0.009345862083137035],\"type\":\"scatter\"},{\"opacity\":0.8,\"x\":[0.01,0.0075,0.01,0.015,0.02,0.0375,0.08750000000000001,0.1625,0.2625,0.4,0.65,1.125,1.775,2.65,3.85,9.5,31.25,60.5,100.0],\"y\":[0.00022156068007461727,-0.00011327440734021366,-0.0002309096307726577,-0.00025023752823472023,-0.0001021779389702715,0.0002980733406729996,0.00034870341187343,-0.000307405018247664,-0.0007913731969892979,-0.0010326128685846925,0.0005426268908195198,0.0017930002650246024,0.0011217461433261633,0.0014937026426196098,0.004176417365670204,0.011998632922768593,-0.009604437276721,-0.0028965631499886513,-0.0006582096684724092],\"type\":\"scatter\"},{\"opacity\":0.8,\"x\":[0.01,0.0075,0.01,0.015,0.02,0.0375,0.08750000000000001,0.1625,0.2625,0.4,0.65,1.125,1.775,2.65,3.85,9.5,31.25,60.5,100.0],\"y\":[-0.00043354221270419657,-0.00026705244090408087,-0.00017073425988201052,-0.00018969763186760247,-0.00018749924493022263,-7.275126699823886e-05,-0.0002651732647791505,0.0013544890098273754,0.0037029790692031384,0.0038729889784008265,0.005158047191798687,0.007091029547154903,0.007491507567465305,0.008684358559548855,0.0041625360026955605,0.016925888136029243,0.0019929406698793173,-0.0015845694579184055,0.0004853550926782191],\"type\":\"scatter\"},{\"opacity\":0.8,\"x\":[0.01,0.0075,0.01,0.015,0.02,0.0375,0.08750000000000001,0.1625,0.2625,0.4,0.65,1.125,1.775,2.65,3.85,9.5,31.25,60.5,100.0],\"y\":[0.0003395423700567335,0.0003722641267813742,0.00034531799610704184,0.0002479847753420472,0.00017981031851377338,0.00023968072491697967,0.0013360324082896113,0.0015895281685516238,-2.6284986233804375e-05,-0.0010574540356174111,0.0021296762861311436,0.002626279601827264,0.004464209545403719,0.0029011250007897615,-0.004780260380357504,-0.006012375932186842,-0.012886316515505314,-0.00653748819604516,-0.002563206711784005],\"type\":\"scatter\"},{\"opacity\":0.8,\"x\":[0.01,0.0075,0.01,0.015,0.02,0.0375,0.08750000000000001,0.1625,0.2625,0.4,0.65,1.125,1.775,2.65,3.85,9.5,31.25,60.5,100.0],\"y\":[0.0004983202670700848,0.0005068902974016964,0.0004960948717780411,0.0005496207159012556,0.0005798483034595847,0.0006667000707238913,0.0014157694531604648,0.0033112973906099796,0.0019126422703266144,0.0004446719540283084,-0.00029615481616929173,-0.0008680599275976419,-0.0028446491342037916,-0.006501228082925081,0.002054135547950864,0.008593802340328693,-0.0012754601193591952,0.0009496028069406748,-0.0005463323905132711],\"type\":\"scatter\"},{\"opacity\":0.8,\"x\":[0.01,0.0075,0.01,0.015,0.02,0.0375,0.08750000000000001,0.1625,0.2625,0.4,0.65,1.125,1.775,2.65,3.85,9.5,31.25,60.5,100.0],\"y\":[7.695199019508436e-05,8.885821443982422e-05,0.00011304460349492729,0.00014396972255781293,9.55373834585771e-05,7.875709707150236e-05,-0.00029035317129455507,-0.0008991399081423879,-0.000770543934777379,-0.0014205514453351498,-0.0024451245553791523,-0.0028084374498575926,-0.0024077421985566616,-0.0006020378204993904,-0.003946615848690271,0.010229920968413353,0.005176985170692205,0.0012663750676438212,-0.0020815692842006683],\"type\":\"scatter\"},{\"opacity\":0.8,\"x\":[0.01,0.0075,0.01,0.015,0.02,0.0375,0.08750000000000001,0.1625,0.2625,0.4,0.65,1.125,1.775,2.65,3.85,9.5,31.25,60.5,100.0],\"y\":[-2.1431354980450124e-05,0.00022680364781990647,0.00027132779359817505,0.00025365164037793875,0.0001944707182701677,0.00024019641568884254,0.0006256824126467109,0.0019007306545972824,0.003942729905247688,0.0035777592565864325,0.005209887400269508,0.006077303551137447,0.00447677681222558,0.007051405031234026,0.009370733983814716,0.006231173872947693,-0.007422267459332943,-0.008032013662159443,-0.00512690469622612],\"type\":\"scatter\"},{\"opacity\":0.8,\"x\":[0.01,0.0075,0.01,0.015,0.02,0.0375,0.08750000000000001,0.1625,0.2625,0.4,0.65,1.125,1.775,2.65,3.85,9.5,31.25,60.5,100.0],\"y\":[0.0005362996598705649,0.00041606862214393914,0.0004408910172060132,0.0003858791314996779,0.0003530208778101951,0.00023598373809363693,-0.00110822229180485,-0.003071976825594902,-0.0037604724057018757,-0.003036956302821636,-0.003400081768631935,-0.006125277373939753,-0.01303123589605093,-0.015121104195713997,-0.02003493160009384,-0.004462112206965685,-0.013764004223048687,-0.009329069405794144,-0.00477472273632884],\"type\":\"scatter\"},{\"opacity\":0.8,\"x\":[0.01,0.0075,0.01,0.015,0.02,0.0375,0.08750000000000001,0.1625,0.2625,0.4,0.65,1.125,1.775,2.65,3.85,9.5,31.25,60.5,100.0],\"y\":[-0.00033093293313868344,-0.00023916007194202393,-0.00021241368085611612,-0.00015266527771018445,-0.00010696350364014506,4.0798026020638645e-05,-0.0008551952778361738,0.0023375595919787884,0.003459153464064002,0.0006060497253201902,-0.0001903696684166789,-0.0005615275586023927,0.0024639612529426813,0.010595749132335186,0.013860566541552544,0.00778438663110137,-0.010704771615564823,-0.011405814439058304,-0.007553365547209978],\"type\":\"scatter\"},{\"opacity\":0.8,\"x\":[0.01,0.0075,0.01,0.015,0.02,0.0375,0.08750000000000001,0.1625,0.2625,0.4,0.65,1.125,1.775,2.65,3.85,9.5,31.25,60.5,100.0],\"y\":[-0.0002753791050054133,-0.00023267691722139716,-0.0002309395931661129,-0.0002070732443826273,-0.00024109806690830737,-0.0003686324635054916,2.5958986952900887e-05,0.0016894076252356172,0.003360852599143982,0.0022343150340020657,0.00061041209846735,-0.005408132914453745,0.004499547183513641,0.013054662384092808,0.015584219247102737,0.012788196094334126,-0.000752695370465517,0.0005526325548999012,-0.0011086034355685115],\"type\":\"scatter\"},{\"opacity\":0.8,\"x\":[0.01,0.0075,0.01,0.015,0.02,0.0375,0.08750000000000001,0.1625,0.2625,0.4,0.65,1.125,1.775,2.65,3.85,9.5,31.25,60.5,100.0],\"y\":[0.00027127197245135903,0.00041200045961886644,0.00044042643276043236,0.00047836132580414414,0.0004177837981842458,0.00011964190343860537,-0.0008260642644017935,-0.0012709330767393112,-0.0005885094869881868,-0.0008247775258496404,-0.002204889664426446,0.000669569824822247,0.0004171767504885793,0.002711967332288623,0.0012774958740919828,0.0032477835193276405,-0.01660071313381195,-0.01227499172091484,-0.005057075526565313],\"type\":\"scatter\"},{\"opacity\":0.8,\"x\":[0.01,0.0075,0.01,0.015,0.02,0.0375,0.08750000000000001,0.1625,0.2625,0.4,0.65,1.125,1.775,2.65,3.85,9.5,31.25,60.5,100.0],\"y\":[-0.0007965117692947388,-0.0006177116301842034,-0.0005649053491652012,-0.00045250129187479615,-0.0005535946111194789,-0.0005694367573596537,-0.0002857400686480105,0.0013838820159435272,0.0015476250555366278,0.0004312083183322102,-0.0018795004580169916,-0.0018508103676140308,0.002577506937086582,0.008045218884944916,0.006602419074624777,0.004085952416062355,-0.010451002046465874,-0.006308395881205797,-0.0007829838432371616],\"type\":\"scatter\"},{\"opacity\":0.8,\"x\":[0.01,0.0075,0.01,0.015,0.02,0.0375,0.08750000000000001,0.1625,0.2625,0.4,0.65,1.125,1.775,2.65,3.85,9.5,31.25,60.5,100.0],\"y\":[-0.00015380786499008536,-0.00021190701227169484,-0.00022576999617740512,-0.00022799329599365592,-0.0002565055328886956,-0.00011382037337170914,-0.00024526671040803194,0.00015213601000141352,-0.0005352954613044858,0.00010015058069257066,-0.0008717611781321466,-0.004871211480349302,-0.002168437233194709,-0.001602028263732791,-0.0021076935809105635,0.011764641851186752,0.016554662957787514,0.016791846603155136,0.006143585778772831],\"type\":\"scatter\"},{\"opacity\":0.8,\"x\":[0.01,0.0075,0.01,0.015,0.02,0.0375,0.08750000000000001,0.1625,0.2625,0.4,0.65,1.125,1.775,2.65,3.85,9.5,31.25,60.5,100.0],\"y\":[0.00014340873167384416,0.00018263037782162428,0.0002672096889000386,0.00033953151432797313,0.0005125862662680447,0.0007468484691344202,0.001477851765230298,0.0017298266757279634,-0.0008514306973665953,-0.0035166230518370867,-0.005705328658223152,-0.0064121815375983715,-0.0016412341501563787,0.0004992018220946193,-0.0011441366514191031,0.003980237990617752,-0.00847726222127676,-0.006958297453820705,-0.004068313166499138],\"type\":\"scatter\"},{\"opacity\":0.8,\"x\":[0.01,0.0075,0.01,0.015,0.02,0.0375,0.08750000000000001,0.1625,0.2625,0.4,0.65,1.125,1.775,2.65,3.85,9.5,31.25,60.5,100.0],\"y\":[0.00040181109216064215,0.0004954541218467057,0.0004959882935509086,0.0004777271533384919,0.00041625331505201757,0.00038295332342386246,-0.0002875817008316517,-0.000380778219550848,-0.0006925931083969772,6.974134157644585e-05,0.0019236832158640027,0.007595579605549574,0.009122814983129501,0.0023709041997790337,-0.002722471486777067,-0.015286258421838284,-0.008697764948010445,-0.0011913530761376023,-0.0014325764495879412],\"type\":\"scatter\"},{\"opacity\":0.8,\"x\":[0.01,0.0075,0.01,0.015,0.02,0.0375,0.08750000000000001,0.1625,0.2625,0.4,0.65,1.125,1.775,2.65,3.85,9.5,31.25,60.5,100.0],\"y\":[-0.00036954189999960363,-0.00033676266320981085,-0.0003763990825973451,-0.0004327023634687066,-0.00046828543418087065,-0.0003453637764323503,-0.001163207576610148,-0.0028066530358046293,-0.003245686646550894,-0.005265257321298122,-0.005844715051352978,-0.0026561033446341753,-0.00036560080479830503,0.001586591242812574,-0.000638649333268404,0.007297213654965162,0.01654724031686783,0.0033912518993020058,0.0009406923782080412],\"type\":\"scatter\"},{\"opacity\":0.8,\"x\":[0.01,0.0075,0.01,0.015,0.02,0.0375,0.08750000000000001,0.1625,0.2625,0.4,0.65,1.125,1.775,2.65,3.85,9.5,31.25,60.5,100.0],\"y\":[0.0001849276159191504,0.0002417037612758577,0.0001762233441695571,8.205844642361626e-05,-1.676327701716218e-05,6.979195313761011e-05,0.0010235088411718607,0.001560676610097289,0.0014606748009100556,0.00012040064757457003,-0.0007586290594190359,-0.008063958026468754,-0.008572765626013279,-0.007201383356004953,-0.006016469560563564,0.0013215014478191733,-0.009543372318148613,-0.0007997196516953409,-0.0025591382291167974],\"type\":\"scatter\"},{\"opacity\":0.8,\"x\":[0.01,0.0075,0.01,0.015,0.02,0.0375,0.08750000000000001,0.1625,0.2625,0.4,0.65,1.125,1.775,2.65,3.85,9.5,31.25,60.5,100.0],\"y\":[-0.0008099235128611326,-0.0006939142476767302,-0.0006517228321172297,-0.0007104716496542096,-0.0007346924394369125,-0.0006935527198947966,-0.0011047678999602795,-0.0033323278184980154,-0.0021258972119539976,-0.0014764955267310143,-0.00205424171872437,0.0009595731971785426,-0.001486155902966857,-0.00564699387177825,-0.010717867873609066,-0.005690430290997028,-0.002811221405863762,-0.006095314864069223,-0.0038591015618294477],\"type\":\"scatter\"},{\"opacity\":0.8,\"x\":[0.01,0.0075,0.01,0.015,0.02,0.0375,0.08750000000000001,0.1625,0.2625,0.4,0.65,1.125,1.775,2.65,3.85,9.5,31.25,60.5,100.0],\"y\":[4.734962931252085e-05,7.050975546007976e-05,9.716062777442858e-05,9.944962948793545e-05,1.4383798770722933e-05,-5.555548705160618e-05,-0.0007526480476371944,0.0015688781859353185,0.0017330661648884416,0.001497818622738123,0.0010921687353402376,-0.000228909746510908,-0.0038456490729004145,-0.005842427723109722,-0.0015618279576301575,-0.013986004516482353,-0.020590495318174362,-0.0189201757311821,-0.008555952459573746],\"type\":\"scatter\"},{\"opacity\":0.8,\"x\":[0.01,0.0075,0.01,0.015,0.02,0.0375,0.08750000000000001,0.1625,0.2625,0.4,0.65,1.125,1.775,2.65,3.85,9.5,31.25,60.5,100.0],\"y\":[6.225523975444958e-05,0.00020740661420859396,0.00021527247736230493,0.00016509994748048484,0.00023012282326817513,0.00034761553979478776,0.001291607040911913,0.00029429461574181914,-0.0002827084972523153,-0.0007275415118783712,-0.00015359779354184866,-0.0043356651440262794,-0.0019289894262328744,0.0015321006067097187,0.008945704437792301,0.009077885188162327,-0.0031106125097721815,-0.009625124745070934,-0.0028094055596739054],\"type\":\"scatter\"},{\"opacity\":0.8,\"x\":[0.01,0.0075,0.01,0.015,0.02,0.0375,0.08750000000000001,0.1625,0.2625,0.4,0.65,1.125,1.775,2.65,3.85,9.5,31.25,60.5,100.0],\"y\":[0.0002686406660359353,0.00046765737351961434,0.00050944066606462,0.0004924177774228156,0.0004600730026140809,0.0005891962209716439,0.0004336755664553493,0.0013710170751437545,-0.0006798026734031737,-0.0007219008984975517,-0.00017909376765601337,-0.002714565023779869,-0.0009858408011496067,0.001670417026616633,0.005853714421391487,0.01233689859509468,0.01880739815533161,0.009720929898321629,0.005290735047310591],\"type\":\"scatter\"},{\"opacity\":0.8,\"x\":[0.01,0.0075,0.01,0.015,0.02,0.0375,0.08750000000000001,0.1625,0.2625,0.4,0.65,1.125,1.775,2.65,3.85,9.5,31.25,60.5,100.0],\"y\":[0.00016716335085220635,0.00025885511422529817,0.00032409661798737943,0.00040289483149535954,0.0002727761457208544,0.0004075988254044205,-0.0005992507212795317,-0.0018289093859493732,-0.0015850382624194026,-0.0006514631677418947,-0.0005236892611719668,0.0026241459418088198,0.003298429073765874,-0.0023170572239905596,-0.002132101682946086,-0.009594345465302467,-0.01726439967751503,-0.012328896671533585,-0.005190713796764612],\"type\":\"scatter\"},{\"opacity\":0.8,\"x\":[0.01,0.0075,0.01,0.015,0.02,0.0375,0.08750000000000001,0.1625,0.2625,0.4,0.65,1.125,1.775,2.65,3.85,9.5,31.25,60.5,100.0],\"y\":[-0.00027733782189898193,-0.0003506973444018513,-0.00040691884350962937,-0.0004052136791869998,-0.0003485491033643484,-0.00027796460199169815,-0.00020515923097264022,0.002996326657012105,0.001669535762630403,0.0011149060446769,0.002035328187048435,-0.0036632323171943426,-0.004531032871454954,-0.006563629489392042,-0.01574159413576126,-0.0066625881008803844,0.00033820420503616333,0.002871244680136442,0.0019240619149059057],\"type\":\"scatter\"},{\"opacity\":0.8,\"x\":[0.01,0.0075,0.01,0.015,0.02,0.0375,0.08750000000000001,0.1625,0.2625,0.4,0.65,1.125,1.775,2.65,3.85,9.5,31.25,60.5,100.0],\"y\":[-0.0002562777081038803,-0.00010927850962616503,-2.0758287064381875e-05,7.701930007897317e-05,9.237092308467254e-05,9.463065362069756e-05,-0.00098798971157521,-0.001754770870320499,-0.0006195754976943135,-0.0009602810023352504,-0.0011430736631155014,-0.0052351150661706924,-0.0073813796043396,-0.005567632615566254,-0.0042870184406638145,-0.002439115196466446,-0.008753111585974693,-0.01247517578303814,-0.007925278507173061],\"type\":\"scatter\"}],                        {\"title\":{\"text\":\"Spectral dynamics: stanford-gpt2-small-a\"},\"template\":{\"data\":{\"histogram2dcontour\":[{\"type\":\"histogram2dcontour\",\"colorbar\":{\"outlinewidth\":0,\"ticks\":\"\"},\"colorscale\":[[0.0,\"#0d0887\"],[0.1111111111111111,\"#46039f\"],[0.2222222222222222,\"#7201a8\"],[0.3333333333333333,\"#9c179e\"],[0.4444444444444444,\"#bd3786\"],[0.5555555555555556,\"#d8576b\"],[0.6666666666666666,\"#ed7953\"],[0.7777777777777778,\"#fb9f3a\"],[0.8888888888888888,\"#fdca26\"],[1.0,\"#f0f921\"]]}],\"choropleth\":[{\"type\":\"choropleth\",\"colorbar\":{\"outlinewidth\":0,\"ticks\":\"\"}}],\"histogram2d\":[{\"type\":\"histogram2d\",\"colorbar\":{\"outlinewidth\":0,\"ticks\":\"\"},\"colorscale\":[[0.0,\"#0d0887\"],[0.1111111111111111,\"#46039f\"],[0.2222222222222222,\"#7201a8\"],[0.3333333333333333,\"#9c179e\"],[0.4444444444444444,\"#bd3786\"],[0.5555555555555556,\"#d8576b\"],[0.6666666666666666,\"#ed7953\"],[0.7777777777777778,\"#fb9f3a\"],[0.8888888888888888,\"#fdca26\"],[1.0,\"#f0f921\"]]}],\"heatmap\":[{\"type\":\"heatmap\",\"colorbar\":{\"outlinewidth\":0,\"ticks\":\"\"},\"colorscale\":[[0.0,\"#0d0887\"],[0.1111111111111111,\"#46039f\"],[0.2222222222222222,\"#7201a8\"],[0.3333333333333333,\"#9c179e\"],[0.4444444444444444,\"#bd3786\"],[0.5555555555555556,\"#d8576b\"],[0.6666666666666666,\"#ed7953\"],[0.7777777777777778,\"#fb9f3a\"],[0.8888888888888888,\"#fdca26\"],[1.0,\"#f0f921\"]]}],\"heatmapgl\":[{\"type\":\"heatmapgl\",\"colorbar\":{\"outlinewidth\":0,\"ticks\":\"\"},\"colorscale\":[[0.0,\"#0d0887\"],[0.1111111111111111,\"#46039f\"],[0.2222222222222222,\"#7201a8\"],[0.3333333333333333,\"#9c179e\"],[0.4444444444444444,\"#bd3786\"],[0.5555555555555556,\"#d8576b\"],[0.6666666666666666,\"#ed7953\"],[0.7777777777777778,\"#fb9f3a\"],[0.8888888888888888,\"#fdca26\"],[1.0,\"#f0f921\"]]}],\"contourcarpet\":[{\"type\":\"contourcarpet\",\"colorbar\":{\"outlinewidth\":0,\"ticks\":\"\"}}],\"contour\":[{\"type\":\"contour\",\"colorbar\":{\"outlinewidth\":0,\"ticks\":\"\"},\"colorscale\":[[0.0,\"#0d0887\"],[0.1111111111111111,\"#46039f\"],[0.2222222222222222,\"#7201a8\"],[0.3333333333333333,\"#9c179e\"],[0.4444444444444444,\"#bd3786\"],[0.5555555555555556,\"#d8576b\"],[0.6666666666666666,\"#ed7953\"],[0.7777777777777778,\"#fb9f3a\"],[0.8888888888888888,\"#fdca26\"],[1.0,\"#f0f921\"]]}],\"surface\":[{\"type\":\"surface\",\"colorbar\":{\"outlinewidth\":0,\"ticks\":\"\"},\"colorscale\":[[0.0,\"#0d0887\"],[0.1111111111111111,\"#46039f\"],[0.2222222222222222,\"#7201a8\"],[0.3333333333333333,\"#9c179e\"],[0.4444444444444444,\"#bd3786\"],[0.5555555555555556,\"#d8576b\"],[0.6666666666666666,\"#ed7953\"],[0.7777777777777778,\"#fb9f3a\"],[0.8888888888888888,\"#fdca26\"],[1.0,\"#f0f921\"]]}],\"mesh3d\":[{\"type\":\"mesh3d\",\"colorbar\":{\"outlinewidth\":0,\"ticks\":\"\"}}],\"scatter\":[{\"fillpattern\":{\"fillmode\":\"overlay\",\"size\":10,\"solidity\":0.2},\"type\":\"scatter\"}],\"parcoords\":[{\"type\":\"parcoords\",\"line\":{\"colorbar\":{\"outlinewidth\":0,\"ticks\":\"\"}}}],\"scatterpolargl\":[{\"type\":\"scatterpolargl\",\"marker\":{\"colorbar\":{\"outlinewidth\":0,\"ticks\":\"\"}}}],\"bar\":[{\"error_x\":{\"color\":\"#2a3f5f\"},\"error_y\":{\"color\":\"#2a3f5f\"},\"marker\":{\"line\":{\"color\":\"#E5ECF6\",\"width\":0.5},\"pattern\":{\"fillmode\":\"overlay\",\"size\":10,\"solidity\":0.2}},\"type\":\"bar\"}],\"scattergeo\":[{\"type\":\"scattergeo\",\"marker\":{\"colorbar\":{\"outlinewidth\":0,\"ticks\":\"\"}}}],\"scatterpolar\":[{\"type\":\"scatterpolar\",\"marker\":{\"colorbar\":{\"outlinewidth\":0,\"ticks\":\"\"}}}],\"histogram\":[{\"marker\":{\"pattern\":{\"fillmode\":\"overlay\",\"size\":10,\"solidity\":0.2}},\"type\":\"histogram\"}],\"scattergl\":[{\"type\":\"scattergl\",\"marker\":{\"colorbar\":{\"outlinewidth\":0,\"ticks\":\"\"}}}],\"scatter3d\":[{\"type\":\"scatter3d\",\"line\":{\"colorbar\":{\"outlinewidth\":0,\"ticks\":\"\"}},\"marker\":{\"colorbar\":{\"outlinewidth\":0,\"ticks\":\"\"}}}],\"scattermapbox\":[{\"type\":\"scattermapbox\",\"marker\":{\"colorbar\":{\"outlinewidth\":0,\"ticks\":\"\"}}}],\"scatterternary\":[{\"type\":\"scatterternary\",\"marker\":{\"colorbar\":{\"outlinewidth\":0,\"ticks\":\"\"}}}],\"scattercarpet\":[{\"type\":\"scattercarpet\",\"marker\":{\"colorbar\":{\"outlinewidth\":0,\"ticks\":\"\"}}}],\"carpet\":[{\"aaxis\":{\"endlinecolor\":\"#2a3f5f\",\"gridcolor\":\"white\",\"linecolor\":\"white\",\"minorgridcolor\":\"white\",\"startlinecolor\":\"#2a3f5f\"},\"baxis\":{\"endlinecolor\":\"#2a3f5f\",\"gridcolor\":\"white\",\"linecolor\":\"white\",\"minorgridcolor\":\"white\",\"startlinecolor\":\"#2a3f5f\"},\"type\":\"carpet\"}],\"table\":[{\"cells\":{\"fill\":{\"color\":\"#EBF0F8\"},\"line\":{\"color\":\"white\"}},\"header\":{\"fill\":{\"color\":\"#C8D4E3\"},\"line\":{\"color\":\"white\"}},\"type\":\"table\"}],\"barpolar\":[{\"marker\":{\"line\":{\"color\":\"#E5ECF6\",\"width\":0.5},\"pattern\":{\"fillmode\":\"overlay\",\"size\":10,\"solidity\":0.2}},\"type\":\"barpolar\"}],\"pie\":[{\"automargin\":true,\"type\":\"pie\"}]},\"layout\":{\"autotypenumbers\":\"strict\",\"colorway\":[\"#636efa\",\"#EF553B\",\"#00cc96\",\"#ab63fa\",\"#FFA15A\",\"#19d3f3\",\"#FF6692\",\"#B6E880\",\"#FF97FF\",\"#FECB52\"],\"font\":{\"color\":\"#2a3f5f\"},\"hovermode\":\"closest\",\"hoverlabel\":{\"align\":\"left\"},\"paper_bgcolor\":\"white\",\"plot_bgcolor\":\"#E5ECF6\",\"polar\":{\"bgcolor\":\"#E5ECF6\",\"angularaxis\":{\"gridcolor\":\"white\",\"linecolor\":\"white\",\"ticks\":\"\"},\"radialaxis\":{\"gridcolor\":\"white\",\"linecolor\":\"white\",\"ticks\":\"\"}},\"ternary\":{\"bgcolor\":\"#E5ECF6\",\"aaxis\":{\"gridcolor\":\"white\",\"linecolor\":\"white\",\"ticks\":\"\"},\"baxis\":{\"gridcolor\":\"white\",\"linecolor\":\"white\",\"ticks\":\"\"},\"caxis\":{\"gridcolor\":\"white\",\"linecolor\":\"white\",\"ticks\":\"\"}},\"coloraxis\":{\"colorbar\":{\"outlinewidth\":0,\"ticks\":\"\"}},\"colorscale\":{\"sequential\":[[0.0,\"#0d0887\"],[0.1111111111111111,\"#46039f\"],[0.2222222222222222,\"#7201a8\"],[0.3333333333333333,\"#9c179e\"],[0.4444444444444444,\"#bd3786\"],[0.5555555555555556,\"#d8576b\"],[0.6666666666666666,\"#ed7953\"],[0.7777777777777778,\"#fb9f3a\"],[0.8888888888888888,\"#fdca26\"],[1.0,\"#f0f921\"]],\"sequentialminus\":[[0.0,\"#0d0887\"],[0.1111111111111111,\"#46039f\"],[0.2222222222222222,\"#7201a8\"],[0.3333333333333333,\"#9c179e\"],[0.4444444444444444,\"#bd3786\"],[0.5555555555555556,\"#d8576b\"],[0.6666666666666666,\"#ed7953\"],[0.7777777777777778,\"#fb9f3a\"],[0.8888888888888888,\"#fdca26\"],[1.0,\"#f0f921\"]],\"diverging\":[[0,\"#8e0152\"],[0.1,\"#c51b7d\"],[0.2,\"#de77ae\"],[0.3,\"#f1b6da\"],[0.4,\"#fde0ef\"],[0.5,\"#f7f7f7\"],[0.6,\"#e6f5d0\"],[0.7,\"#b8e186\"],[0.8,\"#7fbc41\"],[0.9,\"#4d9221\"],[1,\"#276419\"]]},\"xaxis\":{\"gridcolor\":\"white\",\"linecolor\":\"white\",\"ticks\":\"\",\"title\":{\"standoff\":15},\"zerolinecolor\":\"white\",\"automargin\":true,\"zerolinewidth\":2},\"yaxis\":{\"gridcolor\":\"white\",\"linecolor\":\"white\",\"ticks\":\"\",\"title\":{\"standoff\":15},\"zerolinecolor\":\"white\",\"automargin\":true,\"zerolinewidth\":2},\"scene\":{\"xaxis\":{\"backgroundcolor\":\"#E5ECF6\",\"gridcolor\":\"white\",\"linecolor\":\"white\",\"showbackground\":true,\"ticks\":\"\",\"zerolinecolor\":\"white\",\"gridwidth\":2},\"yaxis\":{\"backgroundcolor\":\"#E5ECF6\",\"gridcolor\":\"white\",\"linecolor\":\"white\",\"showbackground\":true,\"ticks\":\"\",\"zerolinecolor\":\"white\",\"gridwidth\":2},\"zaxis\":{\"backgroundcolor\":\"#E5ECF6\",\"gridcolor\":\"white\",\"linecolor\":\"white\",\"showbackground\":true,\"ticks\":\"\",\"zerolinecolor\":\"white\",\"gridwidth\":2}},\"shapedefaults\":{\"line\":{\"color\":\"#2a3f5f\"}},\"annotationdefaults\":{\"arrowcolor\":\"#2a3f5f\",\"arrowhead\":0,\"arrowwidth\":1},\"geo\":{\"bgcolor\":\"white\",\"landcolor\":\"#E5ECF6\",\"subunitcolor\":\"white\",\"showland\":true,\"showlakes\":true,\"lakecolor\":\"white\"},\"title\":{\"x\":0.05},\"mapbox\":{\"style\":\"light\"}}},\"xaxis\":{\"title\":{\"text\":\"% Total Training Tokens\"},\"type\":\"log\"},\"shapes\":[{\"fillcolor\":\"gold\",\"line\":{\"width\":1},\"opacity\":0.2,\"type\":\"rect\",\"x0\":0.6,\"x1\":1.3,\"xref\":\"x\",\"y0\":0,\"y1\":1,\"yref\":\"y domain\"}]},                        {\"responsive\": true}                    ).then(function(){\n",
       "                            \n",
       "var gd = document.getElementById('833131d9-e628-4f7a-8ebe-8f55e39f0247');\n",
       "var x = new MutationObserver(function (mutations, observer) {{\n",
       "        var display = window.getComputedStyle(gd).display;\n",
       "        if (!display || display === 'none') {{\n",
       "            console.log([gd, 'removed!']);\n",
       "            Plotly.purge(gd);\n",
       "            observer.disconnect();\n",
       "        }}\n",
       "}});\n",
       "\n",
       "// Listen for the removal of the full notebook cells\n",
       "var notebookContainer = gd.closest('#notebook-container');\n",
       "if (notebookContainer) {{\n",
       "    x.observe(notebookContainer, {childList: true});\n",
       "}}\n",
       "\n",
       "// Listen for the clearing of the current output cell\n",
       "var outputEl = gd.closest('.output');\n",
       "if (outputEl) {{\n",
       "    x.observe(outputEl, {childList: true});\n",
       "}}\n",
       "\n",
       "                        })                };                });            </script>        </div>"
      ]
     },
     "metadata": {},
     "output_type": "display_data"
    },
    {
     "data": {
      "text/html": [
       "<div>                            <div id=\"198deda4-515f-4227-bca3-2623e054018b\" class=\"plotly-graph-div\" style=\"height:525px; width:100%;\"></div>            <script type=\"text/javascript\">                require([\"plotly\"], function(Plotly) {                    window.PLOTLYENV=window.PLOTLYENV || {};                                    if (document.getElementById(\"198deda4-515f-4227-bca3-2623e054018b\")) {                    Plotly.newPlot(                        \"198deda4-515f-4227-bca3-2623e054018b\",                        [{\"opacity\":0.8,\"x\":[0.01,0.0075,0.01,0.015,0.02,0.0375,0.08750000000000001,0.1625,0.2625,0.4,0.65,1.125,1.775,2.65,3.85,9.5,31.25,60.5,100.0],\"y\":[0.00040001259185373783,0.00017747923266142607,0.00014109647599980235,0.0001372841070406139,0.00017182528972625732,8.66754780872725e-05,0.00031006240169517696,7.688238838454708e-06,-0.0005655803252011538,-0.0012492017121985555,-0.001176286255940795,-0.0006547996308654547,-0.003434177953749895,-0.009498928673565388,-0.013455354608595371,-0.01820620335638523,-0.020010389387607574,-0.013744172640144825,-0.004072105977684259],\"type\":\"scatter\"},{\"opacity\":0.8,\"x\":[0.01,0.0075,0.01,0.015,0.02,0.0375,0.08750000000000001,0.1625,0.2625,0.4,0.65,1.125,1.775,2.65,3.85,9.5,31.25,60.5,100.0],\"y\":[0.00012881381553597748,-0.00026758972671814263,-0.00035684669273905456,-0.00041112772305496037,-0.00044750107917934656,-0.0005708274547941983,-0.0011893543414771557,0.00033985855407081544,0.0005355313769541681,0.0031402623280882835,0.00564492167904973,0.005721470341086388,0.005341668147593737,0.0012588389217853546,-0.00880349613726139,-0.019180724397301674,-0.033949483186006546,-0.022565798833966255,-0.014696016907691956],\"type\":\"scatter\"},{\"opacity\":0.8,\"x\":[0.01,0.0075,0.01,0.015,0.02,0.0375,0.08750000000000001,0.1625,0.2625,0.4,0.65,1.125,1.775,2.65,3.85,9.5,31.25,60.5,100.0],\"y\":[0.0008092092466540635,0.000766955956351012,0.0007265509921126068,0.0007380276219919324,0.0007116210181266069,0.0007255490636453032,0.0004219074617139995,-0.00022958531917538494,-0.0007617414812557399,-0.003333529457449913,-0.004487131722271442,-0.004697215277701616,-0.003788506845012307,-0.004553954117000103,-0.009427594020962715,-0.0210930984467268,0.007361099123954773,0.010643979534506798,0.004387499764561653],\"type\":\"scatter\"},{\"opacity\":0.8,\"x\":[0.01,0.0075,0.01,0.015,0.02,0.0375,0.08750000000000001,0.1625,0.2625,0.4,0.65,1.125,1.775,2.65,3.85,9.5,31.25,60.5,100.0],\"y\":[-0.0005546926986426115,-0.0005623874603770673,-0.0005854485789313912,-0.0005580924917012453,-0.0005578760174103081,-0.0005525347078219056,-0.001221500220708549,0.00022822734899818897,0.0003331066691316664,-0.0005933346110396087,-0.001814096700400114,-6.293823389569297e-05,-0.0008390304283238947,0.0008680635364726186,0.0019849957898259163,0.02469019405543804,0.010896589607000351,-4.3351152271497995e-05,-0.0002785510150715709],\"type\":\"scatter\"},{\"opacity\":0.8,\"x\":[0.01,0.0075,0.01,0.015,0.02,0.0375,0.08750000000000001,0.1625,0.2625,0.4,0.65,1.125,1.775,2.65,3.85,9.5,31.25,60.5,100.0],\"y\":[-7.724469469394535e-05,-0.00011298965546302497,-9.757253428688273e-05,-0.00013294271775521338,-0.00019158190116286278,-0.00016958615742623806,-0.0008584770257584751,9.746693103807047e-05,0.0009399350383318961,0.0003718388616107404,0.0007986760465428233,0.0008394939359277487,-0.0037808220367878675,-0.016705213114619255,-0.022479508072137833,-0.02264273352921009,-0.00782134011387825,-0.0054189469665288925,-0.0026086813304573298],\"type\":\"scatter\"},{\"opacity\":0.8,\"x\":[0.01,0.0075,0.01,0.015,0.02,0.0375,0.08750000000000001,0.1625,0.2625,0.4,0.65,1.125,1.775,2.65,3.85,9.5,31.25,60.5,100.0],\"y\":[0.00010003129136748612,0.00010745146573754027,0.0001326057390542701,0.00022100393834989518,0.00023662847524974495,0.0003215203760191798,-0.000490597216412425,-0.0015712701715528965,-0.0029207493644207716,-0.002541339723393321,-0.004199448972940445,-0.007171265780925751,-0.00896244402974844,-0.007728148717433214,-0.007647817488759756,-0.03109709359705448,-0.02809266932308674,-0.013213363476097584,-0.0058245607651770115],\"type\":\"scatter\"},{\"opacity\":0.8,\"x\":[0.01,0.0075,0.01,0.015,0.02,0.0375,0.08750000000000001,0.1625,0.2625,0.4,0.65,1.125,1.775,2.65,3.85,9.5,31.25,60.5,100.0],\"y\":[-0.00010811651009134948,-0.00017271596880163997,-0.00019489909755066037,-0.0001806908258004114,-7.927919796202332e-05,0.0004847384989261627,-0.0010203146375715733,-0.0020243385806679726,-0.0013655130751430988,-0.0013179811649024487,-0.0035508396103978157,-0.0023040708620101213,0.003254047827795148,0.007628960069268942,0.0031458379235118628,0.0030924975872039795,0.024717791005969048,0.011670186184346676,0.00548273092135787],\"type\":\"scatter\"},{\"opacity\":0.8,\"x\":[0.01,0.0075,0.01,0.015,0.02,0.0375,0.08750000000000001,0.1625,0.2625,0.4,0.65,1.125,1.775,2.65,3.85,9.5,31.25,60.5,100.0],\"y\":[-0.00036984242615289986,-0.0003869752981700003,-0.0003982850175816566,-0.0003947434015572071,-0.00034321678685955703,-0.0004162016848567873,-0.002164107048884034,-0.0027382471598684788,-0.003225878579542041,-0.004484551027417183,-0.0034704336430877447,-0.00643014395609498,-0.0076468163169920444,-0.011878360994160175,-0.011089708656072617,-0.028512146323919296,-0.04134657606482506,-0.027212532237172127,-0.012968282215297222],\"type\":\"scatter\"},{\"opacity\":0.8,\"x\":[0.01,0.0075,0.01,0.015,0.02,0.0375,0.08750000000000001,0.1625,0.2625,0.4,0.65,1.125,1.775,2.65,3.85,9.5,31.25,60.5,100.0],\"y\":[-0.0004285783797968179,-0.0005425339913927019,-0.0006069362279959023,-0.0006888067000545561,-0.0006772378692403436,-0.00017724827921483666,-0.00129279016982764,-0.001708751660771668,-0.000578536419197917,-0.0032587095629423857,-0.006076110061258078,-0.008238724432885647,-0.01268291287124157,-0.01920151896774769,-0.021014519035816193,-0.010139407590031624,-0.015225604176521301,-0.00620737299323082,0.0010611385805532336],\"type\":\"scatter\"},{\"opacity\":0.8,\"x\":[0.01,0.0075,0.01,0.015,0.02,0.0375,0.08750000000000001,0.1625,0.2625,0.4,0.65,1.125,1.775,2.65,3.85,9.5,31.25,60.5,100.0],\"y\":[0.0005753429140895605,0.0005888771847821772,0.0005687397206202149,0.0005027909646742046,0.00041673670057207346,0.0003920290037058294,0.0009033839451149106,-0.0009461218141950667,-0.001502349739894271,-0.0020014112815260887,0.0006368672475218773,-0.0033309173304587603,-0.007306021172553301,-0.006359845399856567,-0.00013011663395445794,-0.0029230534564703703,0.001047475729137659,0.008221503347158432,0.0023820328060537577],\"type\":\"scatter\"},{\"opacity\":0.8,\"x\":[0.01,0.0075,0.01,0.015,0.02,0.0375,0.08750000000000001,0.1625,0.2625,0.4,0.65,1.125,1.775,2.65,3.85,9.5,31.25,60.5,100.0],\"y\":[0.0008604453760199249,0.0010859756730496883,0.0010947672417387366,0.0012064962647855282,0.0013414931017905474,0.0014059494715183973,0.0020560650154948235,0.0013115500332787633,-0.002014672849327326,-0.0035341952461749315,-0.0013088142732158303,0.002419622614979744,0.0039168293587863445,-0.0005646587233059108,-0.01027157623320818,0.003492512973025441,0.01649635285139084,0.006308112293481827,0.0026584176812320948],\"type\":\"scatter\"},{\"opacity\":0.8,\"x\":[0.01,0.0075,0.01,0.015,0.02,0.0375,0.08750000000000001,0.1625,0.2625,0.4,0.65,1.125,1.775,2.65,3.85,9.5,31.25,60.5,100.0],\"y\":[7.909905252745375e-05,-1.4564656112270313e-06,-5.575630893872585e-06,8.828769750834908e-06,0.0001170244358945638,-2.167795719287824e-05,-0.0010847937082871795,-0.00010078211198560894,0.0028416840359568596,0.002777701709419489,0.00042447401210665703,-0.0009419718408025801,-0.004474142100661993,-0.00884190946817398,-0.012796095572412014,-0.015455269254744053,-0.016250697895884514,-0.003957098349928856,-0.0006507789366878569],\"type\":\"scatter\"},{\"opacity\":0.8,\"x\":[0.01,0.0075,0.01,0.015,0.02,0.0375,0.08750000000000001,0.1625,0.2625,0.4,0.65,1.125,1.775,2.65,3.85,9.5,31.25,60.5,100.0],\"y\":[-0.00015442908625118434,-0.00013871888222638518,-0.00020906273857690394,-0.00015605363296344876,-0.00015407614409923553,4.51153282483574e-05,4.802513285540044e-05,0.0002465220168232918,-0.0002875304198823869,0.0011234334670007229,0.0018841945566236973,0.001140523236244917,0.0012011905200779438,-0.0032950760796666145,-0.005143938586115837,0.0015192509163171053,-0.029911888763308525,-0.02608598954975605,-0.010766460560262203],\"type\":\"scatter\"},{\"opacity\":0.8,\"x\":[0.01,0.0075,0.01,0.015,0.02,0.0375,0.08750000000000001,0.1625,0.2625,0.4,0.65,1.125,1.775,2.65,3.85,9.5,31.25,60.5,100.0],\"y\":[-0.00013627226871903986,-0.00037211598828434944,-0.00039963144809007645,-0.0004156525246798992,-0.0005288354004733264,-0.0007914684247225523,-0.00031813548412173986,-7.317213021451607e-05,-2.4036529794102535e-05,0.0005412833415903151,-0.0018610558472573757,0.0003658758068922907,0.0025351163931190968,0.006324787624180317,0.003362595336511731,0.0015872876392677426,0.006875663995742798,0.001442651846446097,0.0011826466070488095],\"type\":\"scatter\"},{\"opacity\":0.8,\"x\":[0.01,0.0075,0.01,0.015,0.02,0.0375,0.08750000000000001,0.1625,0.2625,0.4,0.65,1.125,1.775,2.65,3.85,9.5,31.25,60.5,100.0],\"y\":[-0.0004180217511020601,-0.0005230152746662498,-0.0005448343581520021,-0.000521957641467452,-0.0004971290472894907,-0.0001850288681453094,-0.0004548643482849002,-0.002312981290742755,-0.001999006373807788,-0.0038139675743877888,-0.0018642573850229383,0.0003270009474363178,0.008938312530517578,0.008199401199817657,0.013958442956209183,0.018503442406654358,0.006957852281630039,0.0003568549291230738,0.0010204357095062733],\"type\":\"scatter\"},{\"opacity\":0.8,\"x\":[0.01,0.0075,0.01,0.015,0.02,0.0375,0.08750000000000001,0.1625,0.2625,0.4,0.65,1.125,1.775,2.65,3.85,9.5,31.25,60.5,100.0],\"y\":[-6.769417086616158e-05,-0.0002623864565975964,-0.00030509952921420336,-0.000296850164886564,-0.0002856129431165755,-9.104227501666173e-06,0.0007440702174790204,-0.001816759118810296,-0.003304137848317623,-0.003876172937452793,-0.004615075420588255,-0.005608267150819302,-0.007073788903653622,-0.0007880219491198659,-0.00764361210167408,-0.017365314066410065,-0.026828395202755928,-0.015757545828819275,-0.008184008300304413],\"type\":\"scatter\"},{\"opacity\":0.8,\"x\":[0.01,0.0075,0.01,0.015,0.02,0.0375,0.08750000000000001,0.1625,0.2625,0.4,0.65,1.125,1.775,2.65,3.85,9.5,31.25,60.5,100.0],\"y\":[0.00033898596302606165,0.00035562951234169304,0.0003218769561499357,0.000354424788383767,0.00028965913224965334,0.00033914227969944477,-0.0005663444171659648,0.0010287256445735693,-0.00048370572039857507,0.0004814527928829193,-0.0006929279770702124,-0.003853296162560582,-0.005166192073374987,-0.0027102141175419092,-0.003337363712489605,-0.00491860369220376,-0.0021462328732013702,0.0037069027312099934,7.112901221262291e-05],\"type\":\"scatter\"},{\"opacity\":0.8,\"x\":[0.01,0.0075,0.01,0.015,0.02,0.0375,0.08750000000000001,0.1625,0.2625,0.4,0.65,1.125,1.775,2.65,3.85,9.5,31.25,60.5,100.0],\"y\":[0.0003663207171484828,0.0005338619812391698,0.00055509596131742,0.0005828642752021551,0.0005976464599370956,0.0006009716307744384,0.0007439207402057946,-0.0003430662036407739,-0.0007690951460972428,-0.0009189857519231737,-5.406463242252357e-05,-0.001865160302259028,-0.0024661864154040813,-0.001486591063439846,-0.006009813863784075,0.003992095123976469,-0.0019012942211702466,-0.006676511839032173,-0.0049576349556446075],\"type\":\"scatter\"},{\"opacity\":0.8,\"x\":[0.01,0.0075,0.01,0.015,0.02,0.0375,0.08750000000000001,0.1625,0.2625,0.4,0.65,1.125,1.775,2.65,3.85,9.5,31.25,60.5,100.0],\"y\":[-6.491781823569909e-05,-0.00015525837079621851,-0.00016212431364692748,-0.00010226659651380032,-6.939724698895589e-05,-0.0001512006128905341,0.000166735946550034,-0.0022118007764220238,-0.0032852396834641695,-0.004272583406418562,-0.004783913493156433,-0.005087682977318764,-0.008099222555756569,-0.009911410510540009,-0.009258152917027473,-0.011599949561059475,-0.007859945297241211,-0.0009810994379222393,9.649609273765236e-05],\"type\":\"scatter\"},{\"opacity\":0.8,\"x\":[0.01,0.0075,0.01,0.015,0.02,0.0375,0.08750000000000001,0.1625,0.2625,0.4,0.65,1.125,1.775,2.65,3.85,9.5,31.25,60.5,100.0],\"y\":[-0.00034181145019829273,-0.0004006218514405191,-0.00045206781942397356,-0.0005022441619075835,-0.0004519875510595739,-0.0005148036871105433,-0.000319306825986132,-0.0029824611265212297,-0.004786628298461437,-0.004385863430798054,-0.0042682792991399765,-0.0048821913078427315,-0.00545337563380599,-0.002160375937819481,-0.009914683178067207,-0.013240337371826172,-0.00854188296943903,-0.008255771361291409,-0.005087604746222496],\"type\":\"scatter\"},{\"opacity\":0.8,\"x\":[0.01,0.0075,0.01,0.015,0.02,0.0375,0.08750000000000001,0.1625,0.2625,0.4,0.65,1.125,1.775,2.65,3.85,9.5,31.25,60.5,100.0],\"y\":[0.00024008119362406433,0.00016435822180937976,0.00012297516514081508,0.00017967789608519524,0.00020093149214517325,6.374986696755514e-05,-0.0005862928810529411,-0.0020438118372112513,-0.003979995381087065,-0.0033285426907241344,-0.0007544520776718855,0.002544421935454011,0.00901849940419197,0.012737301178276539,0.018102817237377167,0.013450535014271736,0.010446352884173393,0.0045757293701171875,0.0030644091311842203],\"type\":\"scatter\"},{\"opacity\":0.8,\"x\":[0.01,0.0075,0.01,0.015,0.02,0.0375,0.08750000000000001,0.1625,0.2625,0.4,0.65,1.125,1.775,2.65,3.85,9.5,31.25,60.5,100.0],\"y\":[0.00022770756913814694,0.00012424409214872867,0.00011809998250100762,0.00014964189904276282,0.00016692969074938446,0.00011142789298901334,0.00018690017168410122,0.0005647447542287409,0.0021864338777959347,0.0016689212061464787,0.0017332647694274783,0.00310334749519825,0.0038724765181541443,-8.737564712646417e-06,-0.0038307318463921547,-0.008970029652118683,-0.015517509542405605,-0.00689453212544322,-0.00205050315707922],\"type\":\"scatter\"},{\"opacity\":0.8,\"x\":[0.01,0.0075,0.01,0.015,0.02,0.0375,0.08750000000000001,0.1625,0.2625,0.4,0.65,1.125,1.775,2.65,3.85,9.5,31.25,60.5,100.0],\"y\":[-0.00042410101741552353,-0.0003227529232390225,-0.00028835851117037237,-0.00032532488694414496,-0.0003792551869992167,-0.00029028652352280915,0.0005327099934220314,0.0006799111142754555,-0.0015723375836387277,-0.003592963330447674,-0.0049486299976706505,-0.006720331497490406,-0.01057056151330471,-0.011318478733301163,-0.0025485430378466845,-0.0022640079259872437,-0.009201614186167717,-0.003829739987850189,-0.0022463977802544832],\"type\":\"scatter\"},{\"opacity\":0.8,\"x\":[0.01,0.0075,0.01,0.015,0.02,0.0375,0.08750000000000001,0.1625,0.2625,0.4,0.65,1.125,1.775,2.65,3.85,9.5,31.25,60.5,100.0],\"y\":[0.00028398141148500144,-7.765115879010409e-05,-0.00014331931015476584,-0.00028017174918204546,-0.00036194073618389666,-0.0005545472959056497,9.641028009355068e-05,-0.0017528440803289413,-0.003822832368314266,-0.005436855833977461,-0.0067647951655089855,-0.004912585951387882,-0.003336961381137371,-0.004285456612706184,0.005649942439049482,0.005731972400099039,-0.01306555699557066,-0.014633466489613056,-0.0055456822738051414],\"type\":\"scatter\"},{\"opacity\":0.8,\"x\":[0.01,0.0075,0.01,0.015,0.02,0.0375,0.08750000000000001,0.1625,0.2625,0.4,0.65,1.125,1.775,2.65,3.85,9.5,31.25,60.5,100.0],\"y\":[0.00030064600287005305,0.00022551609436050057,0.00022753310622647405,0.00026101505500264466,0.0003144147922284901,0.0007108749123290181,0.00038276202394627035,0.001325038610957563,0.002566239796578884,0.0031822368036955595,5.390314072428737e-06,-0.0035626019816845655,-0.009622018784284592,-0.00875537283718586,-0.011251311749219894,-0.013591735623776913,-0.020887741819024086,-0.0172071885317564,-0.0075616720132529736],\"type\":\"scatter\"},{\"opacity\":0.8,\"x\":[0.01,0.0075,0.01,0.015,0.02,0.0375,0.08750000000000001,0.1625,0.2625,0.4,0.65,1.125,1.775,2.65,3.85,9.5,31.25,60.5,100.0],\"y\":[0.0004953225143253803,0.0004183450364507735,0.0003971389087382704,0.0003233329625800252,0.0002811345038935542,0.000109739565232303,0.000675458402838558,-0.0005830415757372975,-0.00341495918110013,-0.004851261619478464,-0.004347300156950951,-0.0044812727719545364,-0.009884227067232132,-0.013118861243128777,-0.010359174571931362,-0.006977612618356943,-0.013602923601865768,-0.010413425043225288,-0.00405533192679286],\"type\":\"scatter\"},{\"opacity\":0.8,\"x\":[0.01,0.0075,0.01,0.015,0.02,0.0375,0.08750000000000001,0.1625,0.2625,0.4,0.65,1.125,1.775,2.65,3.85,9.5,31.25,60.5,100.0],\"y\":[0.00046548634418286383,0.00035971752367913723,0.00031655962811782956,0.00025312602519989014,0.00023979967227205634,5.184292604099028e-05,-0.0003238014178350568,-0.002333994023501873,-0.005219559650868177,-0.005519642494618893,-0.00045685734949074686,0.0021832131315022707,0.0003979910397902131,-0.0013799670850858092,-0.0024390756152570248,-0.00582066411152482,-0.009751220233738422,-0.006925167050212622,-0.004555953200906515],\"type\":\"scatter\"},{\"opacity\":0.8,\"x\":[0.01,0.0075,0.01,0.015,0.02,0.0375,0.08750000000000001,0.1625,0.2625,0.4,0.65,1.125,1.775,2.65,3.85,9.5,31.25,60.5,100.0],\"y\":[-7.424744399031624e-05,7.870042463764548e-05,0.0001129332376876846,0.00016546469123568386,0.00020135661179665476,0.00031337764812633395,-0.0006464426405727863,-0.0027844319120049477,-0.003464196575805545,-0.004393658600747585,-0.004179603885859251,-0.003862609388306737,-0.007268738467246294,-0.01241953857243061,-0.013221402652561665,-0.014106394723057747,-0.007364621385931969,-0.0033224853686988354,-0.0022851983085274696],\"type\":\"scatter\"},{\"opacity\":0.8,\"x\":[0.01,0.0075,0.01,0.015,0.02,0.0375,0.08750000000000001,0.1625,0.2625,0.4,0.65,1.125,1.775,2.65,3.85,9.5,31.25,60.5,100.0],\"y\":[2.173687562390114e-06,-4.133241873205407e-06,1.072079066943843e-05,-2.9064701720926678e-06,-2.190192935813684e-05,0.0002040914405370131,-0.00023949301976244897,-0.0003471270902082324,0.00013460853369906545,0.0002559754648245871,0.00039372581522911787,-0.002952712355181575,-0.0021497122943401337,-0.0007569596637040377,0.008063952438533306,0.03535933792591095,0.010943510569632053,0.006546332035213709,0.0029351413249969482],\"type\":\"scatter\"},{\"opacity\":0.8,\"x\":[0.01,0.0075,0.01,0.015,0.02,0.0375,0.08750000000000001,0.1625,0.2625,0.4,0.65,1.125,1.775,2.65,3.85,9.5,31.25,60.5,100.0],\"y\":[-0.0002528511977288872,-9.732942089613061e-06,3.570448825485073e-05,9.614622103981674e-05,9.877049888018519e-05,-1.2542664080683608e-05,-0.0005138723645359278,0.0010017432505264878,0.00029089112649671733,0.0001466570101911202,8.453128975816071e-05,-0.0031910454854369164,-0.005234492942690849,-0.008682898245751858,-0.015170585364103317,-0.01628844067454338,-0.018836788833141327,-0.014867035672068596,-0.007140729110687971],\"type\":\"scatter\"},{\"opacity\":0.8,\"x\":[0.01,0.0075,0.01,0.015,0.02,0.0375,0.08750000000000001,0.1625,0.2625,0.4,0.65,1.125,1.775,2.65,3.85,9.5,31.25,60.5,100.0],\"y\":[-0.000267737137619406,-0.00045785808470100164,-0.0004997652140446007,-0.0005819402285851538,-0.0005986824398860335,-0.0007631818298250437,-0.0006863612798042595,0.00023606696049682796,0.0013897954486310482,0.0009935284033417702,0.000414924492361024,0.0011671417159959674,0.0003334118227940053,0.0010630388278514147,0.002107261447235942,0.007332234643399715,-0.006150004919618368,-0.0086781345307827,-0.004489343147724867],\"type\":\"scatter\"},{\"opacity\":0.8,\"x\":[0.01,0.0075,0.01,0.015,0.02,0.0375,0.08750000000000001,0.1625,0.2625,0.4,0.65,1.125,1.775,2.65,3.85,9.5,31.25,60.5,100.0],\"y\":[-0.00010987514542648569,-0.00021603003551717848,-0.0002902692067436874,-0.0003258766664657742,-0.00017681560711935163,-3.244845356675796e-05,-0.0018008208135142922,8.141464786604047e-05,0.0023391249123960733,0.002317905193194747,0.0030061928555369377,0.0024506349582225084,0.005379338748753071,0.007007739506661892,0.0030654806178063154,0.0073290299624204636,-5.889166641281918e-05,-0.0026003739330917597,-0.0013694734079763293],\"type\":\"scatter\"},{\"opacity\":0.8,\"x\":[0.01,0.0075,0.01,0.015,0.02,0.0375,0.08750000000000001,0.1625,0.2625,0.4,0.65,1.125,1.775,2.65,3.85,9.5,31.25,60.5,100.0],\"y\":[0.00010392774129286408,4.180237738182768e-05,6.804092845413834e-05,0.00012355584476608783,6.761203985661268e-05,-4.611338226823136e-05,0.00040636115591041744,0.0008365691755898297,0.0010221534175798297,-0.00046126777306199074,0.00037002196768298745,3.291286338935606e-05,0.0013774262042716146,0.004164434503763914,7.171220204327255e-05,-0.004943548701703548,-0.018885843455791473,-0.009832303039729595,-0.006106180138885975],\"type\":\"scatter\"},{\"opacity\":0.8,\"x\":[0.01,0.0075,0.01,0.015,0.02,0.0375,0.08750000000000001,0.1625,0.2625,0.4,0.65,1.125,1.775,2.65,3.85,9.5,31.25,60.5,100.0],\"y\":[-0.00016499721095897257,4.560289380606264e-05,0.00011676563008222729,0.0002520446723792702,0.0002983753220178187,-5.347004389477661e-06,-0.00099414330907166,-0.0025137844495475292,-0.0023754609283059835,-0.002111272420734167,-0.003441132605075836,-0.002649894915521145,-0.001560529344715178,0.002046984387561679,0.003834037808701396,-0.0007077162154018879,-0.006681147497147322,-0.005380291026085615,-0.002364195417612791],\"type\":\"scatter\"},{\"opacity\":0.8,\"x\":[0.01,0.0075,0.01,0.015,0.02,0.0375,0.08750000000000001,0.1625,0.2625,0.4,0.65,1.125,1.775,2.65,3.85,9.5,31.25,60.5,100.0],\"y\":[0.00014188104250933975,9.364577999804169e-05,6.638617196585983e-05,1.1940270269406028e-05,8.977372635854408e-05,0.00033458517282269895,-2.029085771937389e-05,-0.0010480311466380954,-0.0003377607499714941,-0.0016277262475341558,0.00029727190849371254,0.0025926590897142887,-0.0014778183540329337,-0.004772115033119917,-0.0025624101981520653,-0.009747616946697235,-0.020331621170043945,-0.014781396836042404,-0.006551247090101242],\"type\":\"scatter\"},{\"opacity\":0.8,\"x\":[0.01,0.0075,0.01,0.015,0.02,0.0375,0.08750000000000001,0.1625,0.2625,0.4,0.65,1.125,1.775,2.65,3.85,9.5,31.25,60.5,100.0],\"y\":[0.00015676823386456817,0.0001356784050585702,0.00016425838111899793,0.0001794271811377257,0.00022389786317944527,0.00023012245947029442,0.00027172279078513384,-0.00012007270561298355,0.0008731984416954219,-0.0008494339999742806,-0.0019455858273431659,-0.0024002359714359045,0.0012664200039580464,-0.0036394475027918816,-0.009798984974622726,-0.010170990601181984,-0.021702704951167107,-0.016512293368577957,-0.0066157495602965355],\"type\":\"scatter\"},{\"opacity\":0.8,\"x\":[0.01,0.0075,0.01,0.015,0.02,0.0375,0.08750000000000001,0.1625,0.2625,0.4,0.65,1.125,1.775,2.65,3.85,9.5,31.25,60.5,100.0],\"y\":[-0.0007272138027474284,-0.0008631398668512702,-0.0008798982598818839,-0.0009796194499358535,-0.0010422129416838288,-0.001164863002486527,-0.00047537958016619086,-0.00024621564080007374,-0.0012587876990437508,-0.002391810528934002,0.0005508118192665279,-0.0019483270589262247,-0.0020275323186069727,-0.006655051372945309,-0.017719291150569916,-0.015904217958450317,-0.010203339159488678,0.00010532875603530556,0.0006696681375615299],\"type\":\"scatter\"},{\"opacity\":0.8,\"x\":[0.01,0.0075,0.01,0.015,0.02,0.0375,0.08750000000000001,0.1625,0.2625,0.4,0.65,1.125,1.775,2.65,3.85,9.5,31.25,60.5,100.0],\"y\":[0.00021730193111579865,0.00043849056237377226,0.00045807845890522003,0.0004825054493267089,0.0005173401441425085,0.0004464580852072686,-0.0005535974050872028,-0.00039673535502515733,-0.00013251024938654155,-0.002077587181702256,-0.003479353617876768,-0.003878468880429864,-0.0007917911279946566,0.0007353194523602724,0.0006887976778671145,-0.001988784410059452,-0.02119349129498005,-0.01923997327685356,-0.009134292602539062],\"type\":\"scatter\"},{\"opacity\":0.8,\"x\":[0.01,0.0075,0.01,0.015,0.02,0.0375,0.08750000000000001,0.1625,0.2625,0.4,0.65,1.125,1.775,2.65,3.85,9.5,31.25,60.5,100.0],\"y\":[0.0003016904811374843,0.00040582293877378106,0.0004432006389833987,0.0004614192293956876,0.00043747140443883836,0.00039514433592557907,-0.00014499474491458386,-0.002261045388877392,-0.00065934396116063,0.0007559976074844599,-0.0003234344476368278,0.0010895164450630546,0.0008482260163873434,-0.0008376833284273744,-0.011690828017890453,-0.005267186090350151,-0.010196815244853497,-0.010453769937157631,-0.005665965843945742],\"type\":\"scatter\"},{\"opacity\":0.8,\"x\":[0.01,0.0075,0.01,0.015,0.02,0.0375,0.08750000000000001,0.1625,0.2625,0.4,0.65,1.125,1.775,2.65,3.85,9.5,31.25,60.5,100.0],\"y\":[-0.00036466075107455254,-0.0006134794093668461,-0.0006756250513717532,-0.0007167227449826896,-0.0006738838856108487,-0.0011472925543785095,-0.0012952449033036828,-0.0007531952578574419,0.0007573085022158921,0.001967583317309618,0.000170599072589539,-0.0025964381638914347,-0.007863687351346016,-0.007423665840178728,-0.009993110783398151,-0.014953131787478924,-0.027437232434749603,-0.025128595530986786,-0.013721625320613384],\"type\":\"scatter\"},{\"opacity\":0.8,\"x\":[0.01,0.0075,0.01,0.015,0.02,0.0375,0.08750000000000001,0.1625,0.2625,0.4,0.65,1.125,1.775,2.65,3.85,9.5,31.25,60.5,100.0],\"y\":[-5.9417572629172355e-05,-5.2861276344629005e-05,-5.523443905985914e-05,-5.880726530449465e-05,-1.19516953418497e-05,-9.891625813907012e-05,-2.0688555650849594e-06,0.0010650105541571975,-0.0019765153992921114,-0.001305976533330977,2.253587263112422e-05,0.0003010888467542827,0.0023286831565201283,0.003897527465596795,0.0012822705321013927,-0.006746518425643444,-0.014140225015580654,-0.012732799164950848,-0.008034111000597477],\"type\":\"scatter\"},{\"opacity\":0.8,\"x\":[0.01,0.0075,0.01,0.015,0.02,0.0375,0.08750000000000001,0.1625,0.2625,0.4,0.65,1.125,1.775,2.65,3.85,9.5,31.25,60.5,100.0],\"y\":[-0.00028665896388702095,-0.00031840632436797023,-0.00030857266392558813,-0.0002700365730561316,-0.00029546587029471993,-3.729796299012378e-05,-0.00034570362186059356,-0.0018811941845342517,-0.0012160885380581021,-0.0018658912740647793,-0.004471318330615759,-0.007611414417624474,-0.013073395937681198,-0.0138352420181036,-0.020925158634781837,-0.027352280914783478,-0.025398962199687958,-0.017283882945775986,-0.008659345097839832],\"type\":\"scatter\"},{\"opacity\":0.8,\"x\":[0.01,0.0075,0.01,0.015,0.02,0.0375,0.08750000000000001,0.1625,0.2625,0.4,0.65,1.125,1.775,2.65,3.85,9.5,31.25,60.5,100.0],\"y\":[-0.0003761195403058082,-0.0002869187155738473,-0.00028787937480956316,-0.00018644968804437667,-0.00016189257439691573,0.0001471084397053346,0.0009311498724855483,-0.00033446025918237865,0.00031658363877795637,0.0013318067649379373,0.0029364684596657753,0.0019496027380228043,0.0032774624414741993,0.0012188412947580218,0.0012633794685825706,0.013850442133843899,0.009193018078804016,0.0015541082248091698,-0.001930981408804655],\"type\":\"scatter\"},{\"opacity\":0.8,\"x\":[0.01,0.0075,0.01,0.015,0.02,0.0375,0.08750000000000001,0.1625,0.2625,0.4,0.65,1.125,1.775,2.65,3.85,9.5,31.25,60.5,100.0],\"y\":[-0.0006664888933300972,-0.0009237966733053327,-0.001005747471936047,-0.0011072964407503605,-0.001044668722897768,-0.001143008703365922,-0.0013409119565039873,7.772798562655225e-05,0.0020089789759367704,0.0008415179327130318,0.0002654108975548297,0.0020962445996701717,0.0037492646370083094,0.006644239649176598,0.007574861869215965,-0.006368016824126244,-0.00999419018626213,-0.009819918312132359,-0.005126815289258957],\"type\":\"scatter\"},{\"opacity\":0.8,\"x\":[0.01,0.0075,0.01,0.015,0.02,0.0375,0.08750000000000001,0.1625,0.2625,0.4,0.65,1.125,1.775,2.65,3.85,9.5,31.25,60.5,100.0],\"y\":[-0.0005684907082468271,-0.0005946722812950611,-0.0006722394609823823,-0.0006242746021598577,-0.000545799732208252,-0.0006243492243811488,0.00029591054772026837,-0.0006083798361942172,-0.0003053107939194888,0.0005864568520337343,0.0024065570905804634,0.0033357145730406046,0.006852159276604652,0.015327087603509426,0.014841250143945217,0.010351087898015976,0.012858439236879349,0.01391314435750246,0.0065792156383395195],\"type\":\"scatter\"},{\"opacity\":0.8,\"x\":[0.01,0.0075,0.01,0.015,0.02,0.0375,0.08750000000000001,0.1625,0.2625,0.4,0.65,1.125,1.775,2.65,3.85,9.5,31.25,60.5,100.0],\"y\":[0.0003265522245783359,0.00036814456689171493,0.00038790988037362695,0.00040904985507950187,0.00037690915632992983,0.0005319329793564975,0.0018079160945490003,0.0011263539781793952,0.002943923231214285,0.004597751423716545,0.004166585858911276,0.0025436165742576122,0.0001503507955931127,0.003156706690788269,0.004320264328271151,-0.011193666607141495,-0.006224778946489096,-0.004021866712719202,-0.0024932697415351868],\"type\":\"scatter\"},{\"opacity\":0.8,\"x\":[0.01,0.0075,0.01,0.015,0.02,0.0375,0.08750000000000001,0.1625,0.2625,0.4,0.65,1.125,1.775,2.65,3.85,9.5,31.25,60.5,100.0],\"y\":[0.000697708164807409,0.0008485458674840629,0.0008514773799106479,0.0008426433778367937,0.000878871011082083,0.0007667606696486473,0.0003193265583831817,0.0025706645101308823,0.0006740905810147524,0.0014932143967598677,0.0022757488768547773,0.0010731694055721164,-0.0023726653307676315,-0.005714463535696268,-0.003205144079402089,-0.002509700832888484,-0.015920870006084442,-0.009109394624829292,-0.001576936454512179],\"type\":\"scatter\"},{\"opacity\":0.8,\"x\":[0.01,0.0075,0.01,0.015,0.02,0.0375,0.08750000000000001,0.1625,0.2625,0.4,0.65,1.125,1.775,2.65,3.85,9.5,31.25,60.5,100.0],\"y\":[0.00023803443764336407,0.000144582474604249,0.0001567984581924975,0.00013618325465358794,0.00018744512635748833,0.0001842236379161477,0.00032109441235661507,0.0009457583073526621,-5.634414992528036e-05,0.0007295060204342008,0.0014034882187843323,0.0016529856948181987,0.0013811517274007201,0.003353579668328166,-0.002993476577103138,-0.018437225371599197,-0.021327080205082893,-0.006448065862059593,-0.0035894487518817186],\"type\":\"scatter\"},{\"opacity\":0.8,\"x\":[0.01,0.0075,0.01,0.015,0.02,0.0375,0.08750000000000001,0.1625,0.2625,0.4,0.65,1.125,1.775,2.65,3.85,9.5,31.25,60.5,100.0],\"y\":[0.000318081583827734,0.000293832941679284,0.00032867517438717186,0.00032930661109276116,0.00021516352717299014,0.0002493032952770591,0.0015396048547700047,0.001853623311035335,0.003237087046727538,0.004720078781247139,0.003832434304058552,0.005342921242117882,0.010346557945013046,0.010053255595266819,0.006431723013520241,0.009545164182782173,-0.008352696895599365,-0.009704340249300003,-0.004580909386277199],\"type\":\"scatter\"},{\"opacity\":0.8,\"x\":[0.01,0.0075,0.01,0.015,0.02,0.0375,0.08750000000000001,0.1625,0.2625,0.4,0.65,1.125,1.775,2.65,3.85,9.5,31.25,60.5,100.0],\"y\":[-2.1215550077613443e-05,0.0002550798235461116,0.00025685649598017335,0.0002589807554613799,0.00025056322920136154,0.0003383669536560774,0.0002456268121022731,0.0011070563923567533,0.0006385916494764388,-0.0010638724779710174,-0.0009192728903144598,0.0005174677353352308,0.0035061128437519073,0.0024431543424725533,0.005416342988610268,0.007799079176038504,0.0031528333202004433,0.0013918980257585645,0.0018461799481883645],\"type\":\"scatter\"},{\"opacity\":0.8,\"x\":[0.01,0.0075,0.01,0.015,0.02,0.0375,0.08750000000000001,0.1625,0.2625,0.4,0.65,1.125,1.775,2.65,3.85,9.5,31.25,60.5,100.0],\"y\":[0.0010075574973598123,0.000896756537258625,0.000819783250335604,0.0009333515190519392,0.000960610166657716,0.0009515138808637857,0.0018788344459608197,-0.0002890861942432821,-0.0004184280405752361,0.0003138218307867646,0.00044924646499566734,0.0010327760828658938,0.004877721890807152,0.010854467749595642,0.013354052789509296,0.029167545959353447,0.018687542527914047,0.00817455817013979,0.004904352128505707],\"type\":\"scatter\"},{\"opacity\":0.8,\"x\":[0.01,0.0075,0.01,0.015,0.02,0.0375,0.08750000000000001,0.1625,0.2625,0.4,0.65,1.125,1.775,2.65,3.85,9.5,31.25,60.5,100.0],\"y\":[0.000615500146523118,0.0005554583040066063,0.0005583558813668787,0.0005683040362782776,0.0006142964703030884,0.000703242898453027,0.0013768618227913976,0.0003861734294332564,-0.0012871078215539455,-0.002965172752737999,-0.005990121513605118,-0.007688505575060844,-0.012017998844385147,-0.016438573598861694,-0.018011633306741714,0.0018324260599911213,0.011921007186174393,0.003416950348764658,-0.0004041171632707119],\"type\":\"scatter\"},{\"opacity\":0.8,\"x\":[0.01,0.0075,0.01,0.015,0.02,0.0375,0.08750000000000001,0.1625,0.2625,0.4,0.65,1.125,1.775,2.65,3.85,9.5,31.25,60.5,100.0],\"y\":[-0.0003250891750212759,-0.00038008872070349753,-0.00040905954665504396,-0.0004287629562895745,-0.00035908306017518044,-1.5665485989302397e-05,0.00027005758602172136,-0.0009813917567953467,-0.00037066524964757264,0.0007300326251424849,0.0008597548585385084,-3.8502686948049814e-05,-0.003936403430998325,-0.005244432482868433,-0.0049943397752940655,-0.004366990644484758,-0.015712643042206764,-0.010167229920625687,-0.002887694863602519],\"type\":\"scatter\"},{\"opacity\":0.8,\"x\":[0.01,0.0075,0.01,0.015,0.02,0.0375,0.08750000000000001,0.1625,0.2625,0.4,0.65,1.125,1.775,2.65,3.85,9.5,31.25,60.5,100.0],\"y\":[-0.0002943396975751966,-0.00023163047444541007,-0.0002140561700798571,-0.00016052585851866752,-0.00011584914318518713,7.465775706805289e-05,0.0004504056996665895,0.0004114735056646168,0.0002584882022347301,-0.0007633317145518959,0.0004331428208388388,-0.0021329806186258793,-0.004484291188418865,-0.008439469151198864,-0.016308097168803215,-0.0030239499174058437,-0.008967023342847824,-0.006665132008492947,-0.005440577864646912],\"type\":\"scatter\"},{\"opacity\":0.8,\"x\":[0.01,0.0075,0.01,0.015,0.02,0.0375,0.08750000000000001,0.1625,0.2625,0.4,0.65,1.125,1.775,2.65,3.85,9.5,31.25,60.5,100.0],\"y\":[-0.0002536266983952373,-2.1223262592684478e-05,2.097778178722365e-06,-1.9185270502930507e-05,1.0024575203715358e-05,0.0003007348859682679,0.00023880375374574214,0.0013130002189427614,0.0029713320545852184,0.0033682803623378277,0.004414202179759741,0.004290316253900528,0.004776695277541876,0.00933300144970417,0.011146537028253078,0.009244175627827644,0.0038355018477886915,-0.0011911087203770876,-0.0033242329955101013],\"type\":\"scatter\"},{\"opacity\":0.8,\"x\":[0.01,0.0075,0.01,0.015,0.02,0.0375,0.08750000000000001,0.1625,0.2625,0.4,0.65,1.125,1.775,2.65,3.85,9.5,31.25,60.5,100.0],\"y\":[0.0002858467632904649,0.0003405220340937376,0.00028652502805925906,0.0002611343516036868,0.00028919888427481055,0.00036473709042184055,0.00029821821954101324,0.0009401592542417347,0.0005269193206913769,0.0012145490618422627,-0.00082954834215343,-0.003102328162640333,-0.00011140035348944366,0.004739426076412201,0.00341834407299757,0.004749341867864132,-0.00973493978381157,-0.009609032422304153,-0.0055742510594427586],\"type\":\"scatter\"},{\"opacity\":0.8,\"x\":[0.01,0.0075,0.01,0.015,0.02,0.0375,0.08750000000000001,0.1625,0.2625,0.4,0.65,1.125,1.775,2.65,3.85,9.5,31.25,60.5,100.0],\"y\":[0.0004420891054905951,0.0005471164477057755,0.0005302877398207784,0.00042125742766074836,0.0003526295768097043,0.00043557502795010805,0.0010691647185012698,0.0019905550871044397,0.002639307174831629,0.003073735162615776,0.00313691608607769,0.0006442379672080278,-0.0009803520515561104,-6.929790106369182e-05,-0.00019681396952364594,-0.003540229517966509,0.0004614457138814032,0.0013025314547121525,0.0009190280688926578],\"type\":\"scatter\"},{\"opacity\":0.8,\"x\":[0.01,0.0075,0.01,0.015,0.02,0.0375,0.08750000000000001,0.1625,0.2625,0.4,0.65,1.125,1.775,2.65,3.85,9.5,31.25,60.5,100.0],\"y\":[-0.000238290595007129,-0.00023254312691278756,-0.000225313677219674,-0.000269861426204443,-0.00026959829847328365,-0.00017339069745503366,-0.0005943471333011985,-0.0011180090950801969,-0.001692344550974667,-0.0017292877892032266,0.0026909816078841686,0.009158861823379993,0.012092185206711292,0.016223186627030373,0.015672720968723297,0.031059451401233673,0.027519790455698967,0.021794700995087624,0.010351832956075668],\"type\":\"scatter\"},{\"opacity\":0.8,\"x\":[0.01,0.0075,0.01,0.015,0.02,0.0375,0.08750000000000001,0.1625,0.2625,0.4,0.65,1.125,1.775,2.65,3.85,9.5,31.25,60.5,100.0],\"y\":[0.0005725479568354785,0.0005074776709079742,0.0005278395838104188,0.000446873193141073,0.00037369891651906073,0.0005704222130589187,-0.0005007332074455917,-5.326453901943751e-06,0.0012444076128304005,0.0003958765009883791,0.0010777631541714072,0.0019040898187085986,0.0022070035338401794,-7.130779704311863e-05,-0.004727063700556755,-0.02000407502055168,-0.006841987371444702,-0.007228715345263481,-0.0027591222897171974],\"type\":\"scatter\"},{\"opacity\":0.8,\"x\":[0.01,0.0075,0.01,0.015,0.02,0.0375,0.08750000000000001,0.1625,0.2625,0.4,0.65,1.125,1.775,2.65,3.85,9.5,31.25,60.5,100.0],\"y\":[9.138337918557227e-05,9.03827603906393e-05,0.00010839939204743132,0.00013562414096668363,0.00012726918794214725,-0.0001472990115871653,-0.0003689305449370295,-0.0011473909253254533,0.00019063492072746158,0.00016520365898031741,-0.0026517098303884268,-0.003303739009425044,-0.0046630725264549255,-0.007408516947180033,-0.00476418249309063,-0.0007414153660647571,-0.012720583938062191,-0.010483192279934883,-0.00493466854095459],\"type\":\"scatter\"},{\"opacity\":0.8,\"x\":[0.01,0.0075,0.01,0.015,0.02,0.0375,0.08750000000000001,0.1625,0.2625,0.4,0.65,1.125,1.775,2.65,3.85,9.5,31.25,60.5,100.0],\"y\":[-0.0003465827030595392,-0.00036055149394087493,-0.0003470325318630785,-0.00042021978879347444,-0.000512212049216032,-0.0003174759913235903,-0.0010867307428270578,0.001185882487334311,0.00371537241153419,0.004009515047073364,0.003642125753685832,0.004002781119197607,0.004828018136322498,0.0072916182689368725,0.009226926602423191,0.009069177322089672,-0.007632591761648655,-0.006869328673928976,-0.0036246213130652905],\"type\":\"scatter\"},{\"opacity\":0.8,\"x\":[0.01,0.0075,0.01,0.015,0.02,0.0375,0.08750000000000001,0.1625,0.2625,0.4,0.65,1.125,1.775,2.65,3.85,9.5,31.25,60.5,100.0],\"y\":[0.00021282039233483374,0.0003431504010222852,0.00033118034480139613,0.0003189995186403394,0.0004084817774128169,0.0004270329372957349,0.00026034872280433774,0.0028414949774742126,0.004589737392961979,0.004513311665505171,0.0032044334802776575,0.0021665741223841906,0.0005604790057986975,-0.0016744270687922835,-0.005295472219586372,-0.0014790160348638892,0.003332944819703698,-0.006922938860952854,-0.004265451803803444],\"type\":\"scatter\"},{\"opacity\":0.8,\"x\":[0.01,0.0075,0.01,0.015,0.02,0.0375,0.08750000000000001,0.1625,0.2625,0.4,0.65,1.125,1.775,2.65,3.85,9.5,31.25,60.5,100.0],\"y\":[-0.0006877185660414398,-0.0008132916409522295,-0.000814693805295974,-0.0007759583531878889,-0.0006920148152858019,-0.00040973801515065134,-0.0005872237379662693,-0.000692720350343734,-0.0006287089199759066,-0.00012308651639614254,-0.001619756338186562,-0.005463548470288515,-0.006399424280971289,-0.008626339957118034,-0.0031107941176742315,-0.002900869119912386,0.00024892608053050935,-0.0005394649924710393,-0.0005615455447696149],\"type\":\"scatter\"},{\"opacity\":0.8,\"x\":[0.01,0.0075,0.01,0.015,0.02,0.0375,0.08750000000000001,0.1625,0.2625,0.4,0.65,1.125,1.775,2.65,3.85,9.5,31.25,60.5,100.0],\"y\":[0.0001275902905035764,0.00016856596630532295,0.00016413808043580502,0.0001814689312595874,0.00020137765386607498,0.0003863797464873642,0.00035088014556095004,-0.00030820563551969826,-0.001880580559372902,-0.001961881062015891,0.0013940889621153474,0.006364863365888596,0.01061020977795124,0.006760905031114817,0.011443422175943851,0.005209485534578562,-0.004453873261809349,-0.004484213888645172,-0.0023829308338463306],\"type\":\"scatter\"}],                        {\"title\":{\"text\":\"Spectral dynamics: stanford-gpt2-small-c\"},\"template\":{\"data\":{\"histogram2dcontour\":[{\"type\":\"histogram2dcontour\",\"colorbar\":{\"outlinewidth\":0,\"ticks\":\"\"},\"colorscale\":[[0.0,\"#0d0887\"],[0.1111111111111111,\"#46039f\"],[0.2222222222222222,\"#7201a8\"],[0.3333333333333333,\"#9c179e\"],[0.4444444444444444,\"#bd3786\"],[0.5555555555555556,\"#d8576b\"],[0.6666666666666666,\"#ed7953\"],[0.7777777777777778,\"#fb9f3a\"],[0.8888888888888888,\"#fdca26\"],[1.0,\"#f0f921\"]]}],\"choropleth\":[{\"type\":\"choropleth\",\"colorbar\":{\"outlinewidth\":0,\"ticks\":\"\"}}],\"histogram2d\":[{\"type\":\"histogram2d\",\"colorbar\":{\"outlinewidth\":0,\"ticks\":\"\"},\"colorscale\":[[0.0,\"#0d0887\"],[0.1111111111111111,\"#46039f\"],[0.2222222222222222,\"#7201a8\"],[0.3333333333333333,\"#9c179e\"],[0.4444444444444444,\"#bd3786\"],[0.5555555555555556,\"#d8576b\"],[0.6666666666666666,\"#ed7953\"],[0.7777777777777778,\"#fb9f3a\"],[0.8888888888888888,\"#fdca26\"],[1.0,\"#f0f921\"]]}],\"heatmap\":[{\"type\":\"heatmap\",\"colorbar\":{\"outlinewidth\":0,\"ticks\":\"\"},\"colorscale\":[[0.0,\"#0d0887\"],[0.1111111111111111,\"#46039f\"],[0.2222222222222222,\"#7201a8\"],[0.3333333333333333,\"#9c179e\"],[0.4444444444444444,\"#bd3786\"],[0.5555555555555556,\"#d8576b\"],[0.6666666666666666,\"#ed7953\"],[0.7777777777777778,\"#fb9f3a\"],[0.8888888888888888,\"#fdca26\"],[1.0,\"#f0f921\"]]}],\"heatmapgl\":[{\"type\":\"heatmapgl\",\"colorbar\":{\"outlinewidth\":0,\"ticks\":\"\"},\"colorscale\":[[0.0,\"#0d0887\"],[0.1111111111111111,\"#46039f\"],[0.2222222222222222,\"#7201a8\"],[0.3333333333333333,\"#9c179e\"],[0.4444444444444444,\"#bd3786\"],[0.5555555555555556,\"#d8576b\"],[0.6666666666666666,\"#ed7953\"],[0.7777777777777778,\"#fb9f3a\"],[0.8888888888888888,\"#fdca26\"],[1.0,\"#f0f921\"]]}],\"contourcarpet\":[{\"type\":\"contourcarpet\",\"colorbar\":{\"outlinewidth\":0,\"ticks\":\"\"}}],\"contour\":[{\"type\":\"contour\",\"colorbar\":{\"outlinewidth\":0,\"ticks\":\"\"},\"colorscale\":[[0.0,\"#0d0887\"],[0.1111111111111111,\"#46039f\"],[0.2222222222222222,\"#7201a8\"],[0.3333333333333333,\"#9c179e\"],[0.4444444444444444,\"#bd3786\"],[0.5555555555555556,\"#d8576b\"],[0.6666666666666666,\"#ed7953\"],[0.7777777777777778,\"#fb9f3a\"],[0.8888888888888888,\"#fdca26\"],[1.0,\"#f0f921\"]]}],\"surface\":[{\"type\":\"surface\",\"colorbar\":{\"outlinewidth\":0,\"ticks\":\"\"},\"colorscale\":[[0.0,\"#0d0887\"],[0.1111111111111111,\"#46039f\"],[0.2222222222222222,\"#7201a8\"],[0.3333333333333333,\"#9c179e\"],[0.4444444444444444,\"#bd3786\"],[0.5555555555555556,\"#d8576b\"],[0.6666666666666666,\"#ed7953\"],[0.7777777777777778,\"#fb9f3a\"],[0.8888888888888888,\"#fdca26\"],[1.0,\"#f0f921\"]]}],\"mesh3d\":[{\"type\":\"mesh3d\",\"colorbar\":{\"outlinewidth\":0,\"ticks\":\"\"}}],\"scatter\":[{\"fillpattern\":{\"fillmode\":\"overlay\",\"size\":10,\"solidity\":0.2},\"type\":\"scatter\"}],\"parcoords\":[{\"type\":\"parcoords\",\"line\":{\"colorbar\":{\"outlinewidth\":0,\"ticks\":\"\"}}}],\"scatterpolargl\":[{\"type\":\"scatterpolargl\",\"marker\":{\"colorbar\":{\"outlinewidth\":0,\"ticks\":\"\"}}}],\"bar\":[{\"error_x\":{\"color\":\"#2a3f5f\"},\"error_y\":{\"color\":\"#2a3f5f\"},\"marker\":{\"line\":{\"color\":\"#E5ECF6\",\"width\":0.5},\"pattern\":{\"fillmode\":\"overlay\",\"size\":10,\"solidity\":0.2}},\"type\":\"bar\"}],\"scattergeo\":[{\"type\":\"scattergeo\",\"marker\":{\"colorbar\":{\"outlinewidth\":0,\"ticks\":\"\"}}}],\"scatterpolar\":[{\"type\":\"scatterpolar\",\"marker\":{\"colorbar\":{\"outlinewidth\":0,\"ticks\":\"\"}}}],\"histogram\":[{\"marker\":{\"pattern\":{\"fillmode\":\"overlay\",\"size\":10,\"solidity\":0.2}},\"type\":\"histogram\"}],\"scattergl\":[{\"type\":\"scattergl\",\"marker\":{\"colorbar\":{\"outlinewidth\":0,\"ticks\":\"\"}}}],\"scatter3d\":[{\"type\":\"scatter3d\",\"line\":{\"colorbar\":{\"outlinewidth\":0,\"ticks\":\"\"}},\"marker\":{\"colorbar\":{\"outlinewidth\":0,\"ticks\":\"\"}}}],\"scattermapbox\":[{\"type\":\"scattermapbox\",\"marker\":{\"colorbar\":{\"outlinewidth\":0,\"ticks\":\"\"}}}],\"scatterternary\":[{\"type\":\"scatterternary\",\"marker\":{\"colorbar\":{\"outlinewidth\":0,\"ticks\":\"\"}}}],\"scattercarpet\":[{\"type\":\"scattercarpet\",\"marker\":{\"colorbar\":{\"outlinewidth\":0,\"ticks\":\"\"}}}],\"carpet\":[{\"aaxis\":{\"endlinecolor\":\"#2a3f5f\",\"gridcolor\":\"white\",\"linecolor\":\"white\",\"minorgridcolor\":\"white\",\"startlinecolor\":\"#2a3f5f\"},\"baxis\":{\"endlinecolor\":\"#2a3f5f\",\"gridcolor\":\"white\",\"linecolor\":\"white\",\"minorgridcolor\":\"white\",\"startlinecolor\":\"#2a3f5f\"},\"type\":\"carpet\"}],\"table\":[{\"cells\":{\"fill\":{\"color\":\"#EBF0F8\"},\"line\":{\"color\":\"white\"}},\"header\":{\"fill\":{\"color\":\"#C8D4E3\"},\"line\":{\"color\":\"white\"}},\"type\":\"table\"}],\"barpolar\":[{\"marker\":{\"line\":{\"color\":\"#E5ECF6\",\"width\":0.5},\"pattern\":{\"fillmode\":\"overlay\",\"size\":10,\"solidity\":0.2}},\"type\":\"barpolar\"}],\"pie\":[{\"automargin\":true,\"type\":\"pie\"}]},\"layout\":{\"autotypenumbers\":\"strict\",\"colorway\":[\"#636efa\",\"#EF553B\",\"#00cc96\",\"#ab63fa\",\"#FFA15A\",\"#19d3f3\",\"#FF6692\",\"#B6E880\",\"#FF97FF\",\"#FECB52\"],\"font\":{\"color\":\"#2a3f5f\"},\"hovermode\":\"closest\",\"hoverlabel\":{\"align\":\"left\"},\"paper_bgcolor\":\"white\",\"plot_bgcolor\":\"#E5ECF6\",\"polar\":{\"bgcolor\":\"#E5ECF6\",\"angularaxis\":{\"gridcolor\":\"white\",\"linecolor\":\"white\",\"ticks\":\"\"},\"radialaxis\":{\"gridcolor\":\"white\",\"linecolor\":\"white\",\"ticks\":\"\"}},\"ternary\":{\"bgcolor\":\"#E5ECF6\",\"aaxis\":{\"gridcolor\":\"white\",\"linecolor\":\"white\",\"ticks\":\"\"},\"baxis\":{\"gridcolor\":\"white\",\"linecolor\":\"white\",\"ticks\":\"\"},\"caxis\":{\"gridcolor\":\"white\",\"linecolor\":\"white\",\"ticks\":\"\"}},\"coloraxis\":{\"colorbar\":{\"outlinewidth\":0,\"ticks\":\"\"}},\"colorscale\":{\"sequential\":[[0.0,\"#0d0887\"],[0.1111111111111111,\"#46039f\"],[0.2222222222222222,\"#7201a8\"],[0.3333333333333333,\"#9c179e\"],[0.4444444444444444,\"#bd3786\"],[0.5555555555555556,\"#d8576b\"],[0.6666666666666666,\"#ed7953\"],[0.7777777777777778,\"#fb9f3a\"],[0.8888888888888888,\"#fdca26\"],[1.0,\"#f0f921\"]],\"sequentialminus\":[[0.0,\"#0d0887\"],[0.1111111111111111,\"#46039f\"],[0.2222222222222222,\"#7201a8\"],[0.3333333333333333,\"#9c179e\"],[0.4444444444444444,\"#bd3786\"],[0.5555555555555556,\"#d8576b\"],[0.6666666666666666,\"#ed7953\"],[0.7777777777777778,\"#fb9f3a\"],[0.8888888888888888,\"#fdca26\"],[1.0,\"#f0f921\"]],\"diverging\":[[0,\"#8e0152\"],[0.1,\"#c51b7d\"],[0.2,\"#de77ae\"],[0.3,\"#f1b6da\"],[0.4,\"#fde0ef\"],[0.5,\"#f7f7f7\"],[0.6,\"#e6f5d0\"],[0.7,\"#b8e186\"],[0.8,\"#7fbc41\"],[0.9,\"#4d9221\"],[1,\"#276419\"]]},\"xaxis\":{\"gridcolor\":\"white\",\"linecolor\":\"white\",\"ticks\":\"\",\"title\":{\"standoff\":15},\"zerolinecolor\":\"white\",\"automargin\":true,\"zerolinewidth\":2},\"yaxis\":{\"gridcolor\":\"white\",\"linecolor\":\"white\",\"ticks\":\"\",\"title\":{\"standoff\":15},\"zerolinecolor\":\"white\",\"automargin\":true,\"zerolinewidth\":2},\"scene\":{\"xaxis\":{\"backgroundcolor\":\"#E5ECF6\",\"gridcolor\":\"white\",\"linecolor\":\"white\",\"showbackground\":true,\"ticks\":\"\",\"zerolinecolor\":\"white\",\"gridwidth\":2},\"yaxis\":{\"backgroundcolor\":\"#E5ECF6\",\"gridcolor\":\"white\",\"linecolor\":\"white\",\"showbackground\":true,\"ticks\":\"\",\"zerolinecolor\":\"white\",\"gridwidth\":2},\"zaxis\":{\"backgroundcolor\":\"#E5ECF6\",\"gridcolor\":\"white\",\"linecolor\":\"white\",\"showbackground\":true,\"ticks\":\"\",\"zerolinecolor\":\"white\",\"gridwidth\":2}},\"shapedefaults\":{\"line\":{\"color\":\"#2a3f5f\"}},\"annotationdefaults\":{\"arrowcolor\":\"#2a3f5f\",\"arrowhead\":0,\"arrowwidth\":1},\"geo\":{\"bgcolor\":\"white\",\"landcolor\":\"#E5ECF6\",\"subunitcolor\":\"white\",\"showland\":true,\"showlakes\":true,\"lakecolor\":\"white\"},\"title\":{\"x\":0.05},\"mapbox\":{\"style\":\"light\"}}},\"xaxis\":{\"title\":{\"text\":\"% Total Training Tokens\"},\"type\":\"log\"},\"shapes\":[{\"fillcolor\":\"gold\",\"line\":{\"width\":1},\"opacity\":0.2,\"type\":\"rect\",\"x0\":0.6,\"x1\":1.3,\"xref\":\"x\",\"y0\":0,\"y1\":1,\"yref\":\"y domain\"}]},                        {\"responsive\": true}                    ).then(function(){\n",
       "                            \n",
       "var gd = document.getElementById('198deda4-515f-4227-bca3-2623e054018b');\n",
       "var x = new MutationObserver(function (mutations, observer) {{\n",
       "        var display = window.getComputedStyle(gd).display;\n",
       "        if (!display || display === 'none') {{\n",
       "            console.log([gd, 'removed!']);\n",
       "            Plotly.purge(gd);\n",
       "            observer.disconnect();\n",
       "        }}\n",
       "}});\n",
       "\n",
       "// Listen for the removal of the full notebook cells\n",
       "var notebookContainer = gd.closest('#notebook-container');\n",
       "if (notebookContainer) {{\n",
       "    x.observe(notebookContainer, {childList: true});\n",
       "}}\n",
       "\n",
       "// Listen for the clearing of the current output cell\n",
       "var outputEl = gd.closest('.output');\n",
       "if (outputEl) {{\n",
       "    x.observe(outputEl, {childList: true});\n",
       "}}\n",
       "\n",
       "                        })                };                });            </script>        </div>"
      ]
     },
     "metadata": {},
     "output_type": "display_data"
    },
    {
     "data": {
      "text/html": [
       "<div>                            <div id=\"9b0de7e0-1e75-4b79-8d96-39bef3aab2b1\" class=\"plotly-graph-div\" style=\"height:525px; width:100%;\"></div>            <script type=\"text/javascript\">                require([\"plotly\"], function(Plotly) {                    window.PLOTLYENV=window.PLOTLYENV || {};                                    if (document.getElementById(\"9b0de7e0-1e75-4b79-8d96-39bef3aab2b1\")) {                    Plotly.newPlot(                        \"9b0de7e0-1e75-4b79-8d96-39bef3aab2b1\",                        [{\"opacity\":0.8,\"x\":[0.01,0.0075,0.01,0.015,0.02,0.0375,0.08750000000000001,0.1625,0.2625,0.4,0.65,1.125,1.775,2.65,3.85,9.5,31.25,60.5,100.0],\"y\":[0.00014164127060212195,0.00012671781587414443,7.170029130065814e-05,0.0001473108568461612,0.00024075958936009556,0.00030453677754849195,5.5288772273343056e-05,0.0004944438114762306,-0.0001970713201444596,-0.0013283740263432264,-0.005042090080678463,-0.006127874832600355,-0.005117024760693312,-0.001755550503730774,-0.0017113302601501346,-0.010141286998987198,0.003464417066425085,0.007247992791235447,0.003987416625022888],\"type\":\"scatter\"},{\"opacity\":0.8,\"x\":[0.01,0.0075,0.01,0.015,0.02,0.0375,0.08750000000000001,0.1625,0.2625,0.4,0.65,1.125,1.775,2.65,3.85,9.5,31.25,60.5,100.0],\"y\":[-0.00031767995096743107,-0.00036157615249976516,-0.00037659890949726105,-0.00032358200405724347,-0.0004330760857556015,-0.0004343828768469393,-0.00011311747221043333,-0.0007913921144790947,0.0010327808558940887,0.0018298882059752941,0.0023764153011143208,0.0021772373002022505,-1.8624382391863037e-06,0.0010126532288268209,0.0006658619968220592,-0.002852383768185973,-0.019429676234722137,-0.013082576915621758,-0.007129996083676815],\"type\":\"scatter\"},{\"opacity\":0.8,\"x\":[0.01,0.0075,0.01,0.015,0.02,0.0375,0.08750000000000001,0.1625,0.2625,0.4,0.65,1.125,1.775,2.65,3.85,9.5,31.25,60.5,100.0],\"y\":[-0.0007840988109819591,-0.000994213973172009,-0.001156709622591734,-0.00101712835021317,-0.0010163518600165844,-0.0008377032354474068,-0.0005757146282121539,-0.001071995822712779,0.0002032871125265956,0.0001395905128447339,0.0015092623652890325,0.002753189066424966,0.0037135432939976454,0.008294131606817245,0.01175453420728445,0.014344466850161552,0.01815936714410782,0.014304603450000286,0.007389424368739128],\"type\":\"scatter\"},{\"opacity\":0.8,\"x\":[0.01,0.0075,0.01,0.015,0.02,0.0375,0.08750000000000001,0.1625,0.2625,0.4,0.65,1.125,1.775,2.65,3.85,9.5,31.25,60.5,100.0],\"y\":[-0.0005958254914730787,-0.000687246210873127,-0.0007173831108957529,-0.0006143933860585093,-0.0005953538347966969,-0.0001675939274718985,0.0013380253221839666,0.001506440807133913,0.0021628951653838158,0.002605065703392029,0.003039174946025014,0.004381155129522085,0.0036753416061401367,0.0014188847271725535,0.004464888945221901,-0.0038000009953975677,0.012184868566691875,0.014884927310049534,0.0062291366048157215],\"type\":\"scatter\"},{\"opacity\":0.8,\"x\":[0.01,0.0075,0.01,0.015,0.02,0.0375,0.08750000000000001,0.1625,0.2625,0.4,0.65,1.125,1.775,2.65,3.85,9.5,31.25,60.5,100.0],\"y\":[-0.00046418639249168336,-0.0006729166489094496,-0.0008864487754181027,-0.000987981096841395,-0.001098646316677332,-0.0009691299055702984,-0.0009273759205825627,-0.00037322347634471953,-0.0004182630800642073,0.0004005657974630594,0.002056268509477377,0.005731809418648481,0.00890730693936348,0.010785829275846481,0.006683222949504852,0.01142051536589861,0.0030591818504035473,-0.0030169025994837284,-0.002031660871580243],\"type\":\"scatter\"},{\"opacity\":0.8,\"x\":[0.01,0.0075,0.01,0.015,0.02,0.0375,0.08750000000000001,0.1625,0.2625,0.4,0.65,1.125,1.775,2.65,3.85,9.5,31.25,60.5,100.0],\"y\":[0.0005648548249155283,0.000542478053830564,0.0004987141001038253,0.0005326776881702244,0.00031882067560218275,0.00025177348288707435,-0.00019032500858884305,0.0003642918891273439,0.002803853014484048,0.0035282622557133436,0.00490906648337841,0.008188878186047077,0.010203835554420948,0.015238506719470024,0.007985062897205353,0.0025374325923621655,-0.0003021619049832225,0.007109966594725847,0.0033383117988705635],\"type\":\"scatter\"},{\"opacity\":0.8,\"x\":[0.01,0.0075,0.01,0.015,0.02,0.0375,0.08750000000000001,0.1625,0.2625,0.4,0.65,1.125,1.775,2.65,3.85,9.5,31.25,60.5,100.0],\"y\":[0.0006916444981470704,0.0004924927488900721,0.0004430397821124643,0.00036934661329723895,0.00032652454683557153,9.889744251267985e-05,-1.0273872248944826e-05,0.0003815566306002438,-0.001080805086530745,0.0008470891043543816,0.004931142553687096,0.007476706523448229,0.00895812176167965,0.00885106809437275,0.007090524770319462,0.015478662215173244,0.0005468373419716954,-0.008258379064500332,-0.005416448228061199],\"type\":\"scatter\"},{\"opacity\":0.8,\"x\":[0.01,0.0075,0.01,0.015,0.02,0.0375,0.08750000000000001,0.1625,0.2625,0.4,0.65,1.125,1.775,2.65,3.85,9.5,31.25,60.5,100.0],\"y\":[-0.0008451256435364485,-0.0009340058313682675,-0.0009595873998478055,-0.0008445852436125278,-0.0008034631027840078,-0.0005626033525913954,0.0004856227315030992,-0.002102104714140296,0.0012982956832274795,0.003038199618458748,0.004683134611696005,0.0051485635340213776,0.004459934774786234,0.007738044019788504,0.007695682346820831,0.006311019882559776,0.005486709997057915,0.0006467887433245778,-0.001090905861929059],\"type\":\"scatter\"},{\"opacity\":0.8,\"x\":[0.01,0.0075,0.01,0.015,0.02,0.0375,0.08750000000000001,0.1625,0.2625,0.4,0.65,1.125,1.775,2.65,3.85,9.5,31.25,60.5,100.0],\"y\":[-5.407784192357212e-05,2.5587833079043776e-05,1.6335374311893247e-05,7.54337088437751e-05,0.00012191003770567477,3.671299054985866e-05,-4.5000415411777794e-05,-0.00025403028121218085,0.0014038955559954047,0.0027046764735132456,0.00468327896669507,0.004403556697070599,0.005852690897881985,0.004364614840596914,0.006195207126438618,0.012695618905127048,-0.022296151146292686,-0.022081516683101654,-0.013589151203632355],\"type\":\"scatter\"},{\"opacity\":0.8,\"x\":[0.01,0.0075,0.01,0.015,0.02,0.0375,0.08750000000000001,0.1625,0.2625,0.4,0.65,1.125,1.775,2.65,3.85,9.5,31.25,60.5,100.0],\"y\":[0.00017503944400232285,6.458917778218165e-05,2.2657764930045232e-05,8.048915333347395e-05,5.144792521605268e-05,0.000154081208165735,-0.0009931231616064906,-0.0029659715946763754,-0.0029727567452937365,-0.0022835517302155495,-0.00025148550048470497,0.0017267793882638216,0.0013040828052908182,0.005213135853409767,0.004576254170387983,-0.025287941098213196,-0.030931754037737846,-0.032908614724874496,-0.01916552521288395],\"type\":\"scatter\"},{\"opacity\":0.8,\"x\":[0.01,0.0075,0.01,0.015,0.02,0.0375,0.08750000000000001,0.1625,0.2625,0.4,0.65,1.125,1.775,2.65,3.85,9.5,31.25,60.5,100.0],\"y\":[-0.00012147315283073112,-0.00024669652339071035,-0.00028784541063942015,-0.00022518070181831717,-0.00013258607941679657,-7.218815881060436e-05,-0.000819401117041707,-1.3003811545786448e-05,0.0016560889780521393,0.003891147207468748,0.004130782559514046,0.002439993666484952,0.0024156069848686457,0.0020177471451461315,0.007947606034576893,0.007190624717622995,0.006492416840046644,-0.0023413863964378834,-0.0007850617985241115],\"type\":\"scatter\"},{\"opacity\":0.8,\"x\":[0.01,0.0075,0.01,0.015,0.02,0.0375,0.08750000000000001,0.1625,0.2625,0.4,0.65,1.125,1.775,2.65,3.85,9.5,31.25,60.5,100.0],\"y\":[0.0005959660047665238,0.0005418970831669867,0.0005035417270846665,0.0005045875441282988,0.0005984629970043898,0.0007549154688604176,0.0005237670848146081,-0.0002116565010510385,0.001074721454642713,0.0014691157266497612,0.0005126629839651287,0.004700158257037401,0.006380246952176094,0.008715126663446426,0.006422365549951792,0.00422137975692749,-0.005500365514308214,-0.004792601335793734,-0.0002631518873386085],\"type\":\"scatter\"},{\"opacity\":0.8,\"x\":[0.01,0.0075,0.01,0.015,0.02,0.0375,0.08750000000000001,0.1625,0.2625,0.4,0.65,1.125,1.775,2.65,3.85,9.5,31.25,60.5,100.0],\"y\":[-0.00013090571155771613,-8.853152394294739e-05,-2.4751685486990027e-05,-1.649406476644799e-05,0.00010155554627999663,1.6077632608357817e-05,0.00011268517118878663,-0.000899231992661953,-0.001613375497981906,-0.002534041181206703,-0.003143678419291973,-0.0029862308874726295,-0.0028583963867276907,-0.0068849921226501465,-0.009006500244140625,-0.01272989809513092,-0.008253674954175949,-0.00496589345857501,-0.002630547620356083],\"type\":\"scatter\"},{\"opacity\":0.8,\"x\":[0.01,0.0075,0.01,0.015,0.02,0.0375,0.08750000000000001,0.1625,0.2625,0.4,0.65,1.125,1.775,2.65,3.85,9.5,31.25,60.5,100.0],\"y\":[0.00020952493650838733,0.00022951203573029488,0.00016892788698896766,9.920504089677706e-05,0.00012440572027117014,7.331397500820458e-05,0.00034093789872713387,-0.0002794011670630425,0.0019529244164004922,0.0013528862036764622,-0.0003634733729995787,0.0012112472904846072,0.0028353917878121138,0.0011604754254221916,-0.005168586038053036,-0.007139675319194794,-0.007639330346137285,-0.011386974714696407,-0.006810525432229042],\"type\":\"scatter\"},{\"opacity\":0.8,\"x\":[0.01,0.0075,0.01,0.015,0.02,0.0375,0.08750000000000001,0.1625,0.2625,0.4,0.65,1.125,1.775,2.65,3.85,9.5,31.25,60.5,100.0],\"y\":[-0.0005867627332918346,-0.0005750753334723413,-0.0005618282011710107,-0.00044776141294278204,-0.0004940755316056311,-0.00032333622220903635,-0.0005532840732485056,-0.0008230738458223641,-0.002552528865635395,-0.0029122144915163517,-0.004501709248870611,-0.007268407382071018,-0.011165001429617405,-0.011264211498200893,-0.0035378767643123865,-0.0064264927059412,-0.01783648319542408,-0.011540093459188938,-0.00735173374414444],\"type\":\"scatter\"},{\"opacity\":0.8,\"x\":[0.01,0.0075,0.01,0.015,0.02,0.0375,0.08750000000000001,0.1625,0.2625,0.4,0.65,1.125,1.775,2.65,3.85,9.5,31.25,60.5,100.0],\"y\":[0.00019391239038668573,5.067823440185748e-05,-1.006647198664723e-05,8.365317626157776e-06,-3.970932448282838e-05,2.394943658146076e-05,0.00014564742741640657,0.0008367965929210186,0.0008446051506325603,0.0012831210624426603,0.0015139919705688953,0.002827093470841646,0.0006639626226387918,0.0025210946332663298,0.008468727581202984,0.025351541116833687,0.01601330377161503,0.005938535090535879,0.0012379797408357263],\"type\":\"scatter\"},{\"opacity\":0.8,\"x\":[0.01,0.0075,0.01,0.015,0.02,0.0375,0.08750000000000001,0.1625,0.2625,0.4,0.65,1.125,1.775,2.65,3.85,9.5,31.25,60.5,100.0],\"y\":[-0.0005084212752990425,-0.0004407257365528494,-0.00038011520518921316,-0.00024524598848074675,-8.819492359180003e-05,-4.499381611822173e-05,-0.000157436981680803,-0.0018601816846057773,-0.0009455413674004376,-0.0007262456929311156,-0.00038504807162098587,-0.0016377948923036456,-0.0025583633687347174,-0.004520396236330271,-0.015217695385217667,-0.03294415771961212,-0.02088780514895916,-0.016090506687760353,-0.007377309259027243],\"type\":\"scatter\"},{\"opacity\":0.8,\"x\":[0.01,0.0075,0.01,0.015,0.02,0.0375,0.08750000000000001,0.1625,0.2625,0.4,0.65,1.125,1.775,2.65,3.85,9.5,31.25,60.5,100.0],\"y\":[-0.00034760450944304466,-0.00034945589140988886,-0.0004015384765807539,-0.00040161062497645617,-0.00041169836185872555,-0.0005774252349510789,-0.0010012616403400898,1.8019503841060214e-05,0.001887940103188157,0.003329293103888631,0.006917613558471203,0.009401773102581501,0.01525496132671833,0.026967808604240417,0.03867142274975777,0.04302021488547325,0.01801273040473461,0.004576968029141426,0.0025424466002732515],\"type\":\"scatter\"},{\"opacity\":0.8,\"x\":[0.01,0.0075,0.01,0.015,0.02,0.0375,0.08750000000000001,0.1625,0.2625,0.4,0.65,1.125,1.775,2.65,3.85,9.5,31.25,60.5,100.0],\"y\":[0.00038415149901993573,0.00017654389375820756,8.920059190131724e-05,3.879966970998794e-05,-2.781841430987697e-05,1.8651273421710357e-05,-0.001048327307216823,-0.001219345023855567,-0.001028186990879476,-0.00012770517787430435,0.00034739740658551455,0.0005753171863034368,-0.0017772247083485126,-0.0005884857382625341,0.005595626309514046,0.005354194436222315,0.0026931799948215485,-6.615122401854023e-05,0.0005229332018643618],\"type\":\"scatter\"},{\"opacity\":0.8,\"x\":[0.01,0.0075,0.01,0.015,0.02,0.0375,0.08750000000000001,0.1625,0.2625,0.4,0.65,1.125,1.775,2.65,3.85,9.5,31.25,60.5,100.0],\"y\":[-2.1685315005015582e-05,6.344116991385818e-05,8.854767656885087e-05,0.00010611810284899548,9.492522804066539e-05,0.00010544087854214013,-9.817784302867949e-05,-0.0004711935471277684,-0.00010524335084483027,0.00228307512588799,0.0009137076558545232,0.0008888730080798268,-0.002655000425875187,-0.001381957670673728,-0.004948651418089867,-0.017787817865610123,-0.01925547607243061,-0.013414590619504452,-0.007059971336275339],\"type\":\"scatter\"},{\"opacity\":0.8,\"x\":[0.01,0.0075,0.01,0.015,0.02,0.0375,0.08750000000000001,0.1625,0.2625,0.4,0.65,1.125,1.775,2.65,3.85,9.5,31.25,60.5,100.0],\"y\":[-0.0009507740614935756,-0.0010337659623473883,-0.0010766444029286504,-0.0010744266910478473,-0.0011191470548510551,-0.0009578531607985497,-0.0005834231269545853,-6.342428241623566e-05,-0.0003443191235419363,0.0015836241655051708,0.0013552692253142595,0.001156249432824552,0.002945762127637863,0.000892794574610889,-0.0002992726513184607,-0.011041785590350628,-0.010656419210135937,-0.016111817210912704,-0.007906469516456127],\"type\":\"scatter\"},{\"opacity\":0.8,\"x\":[0.01,0.0075,0.01,0.015,0.02,0.0375,0.08750000000000001,0.1625,0.2625,0.4,0.65,1.125,1.775,2.65,3.85,9.5,31.25,60.5,100.0],\"y\":[0.0006255401531234384,0.0005852172616869211,0.0005463974084705114,0.0005598722491413355,0.0006255660555325449,0.0007758285501040518,0.0002382677048444748,-0.00033289301791228354,-0.0022391905076801777,-0.0035410793498158455,-0.005049793515354395,-0.005197570659220219,-0.003163578687235713,0.001644975389353931,0.011900032870471478,0.023042593151330948,-0.0015615364536643028,-0.00497202156111598,-0.003304347163066268],\"type\":\"scatter\"},{\"opacity\":0.8,\"x\":[0.01,0.0075,0.01,0.015,0.02,0.0375,0.08750000000000001,0.1625,0.2625,0.4,0.65,1.125,1.775,2.65,3.85,9.5,31.25,60.5,100.0],\"y\":[0.00032772248960100114,0.0003422135778237134,0.00030490700737573206,0.00016759631398599595,5.313745714374818e-05,0.00011673159315250814,-0.0013752884697169065,-0.0003563202917575836,-0.00021492775704246014,0.001304543693549931,0.0008631611708551645,0.0024081068113446236,0.0022785356268286705,0.0017685136990621686,0.003362312214449048,-0.0015671837609261274,-0.019559694454073906,-0.017332889139652252,-0.008778277784585953],\"type\":\"scatter\"},{\"opacity\":0.8,\"x\":[0.01,0.0075,0.01,0.015,0.02,0.0375,0.08750000000000001,0.1625,0.2625,0.4,0.65,1.125,1.775,2.65,3.85,9.5,31.25,60.5,100.0],\"y\":[-0.0003409465425647795,-0.00034852686803787947,-0.0004038760089315474,-0.0005010115564800799,-0.0004895066958852112,-0.0006881683366373181,-0.0015349970199167728,-0.0017057828372344375,-0.0013639237731695175,-0.0034556102473288774,-0.0030518670100718737,-0.0037556104362010956,-0.0008045132854022086,-0.003439985914155841,-0.005836205556988716,-0.020556757226586342,-0.019907984882593155,-0.017175108194351196,-0.009167478419840336],\"type\":\"scatter\"},{\"opacity\":0.8,\"x\":[0.01,0.0075,0.01,0.015,0.02,0.0375,0.08750000000000001,0.1625,0.2625,0.4,0.65,1.125,1.775,2.65,3.85,9.5,31.25,60.5,100.0],\"y\":[-0.00010526735422899947,-9.299879457103088e-05,-0.00014820481010247022,-0.00017477525398135185,-0.0001302654854953289,0.00019022011838387698,-0.00036041479324921966,-0.0020185252651572227,-0.0005699081812053919,-0.0010462579084560275,-0.0012803619029000401,-0.0019003900233656168,1.572720611875411e-05,-0.0006578908069059253,0.0030819298699498177,-0.00747965183109045,-0.011516415514051914,-0.005446125753223896,-0.0030306780245155096],\"type\":\"scatter\"},{\"opacity\":0.8,\"x\":[0.01,0.0075,0.01,0.015,0.02,0.0375,0.08750000000000001,0.1625,0.2625,0.4,0.65,1.125,1.775,2.65,3.85,9.5,31.25,60.5,100.0],\"y\":[-0.0002053578064078465,-9.573901479598135e-05,-5.738883919548243e-05,-2.8501110136858188e-05,1.3738080269831698e-05,0.00010917104373220354,4.555093255476095e-05,0.000394754926674068,-0.0011117615504190326,-9.789743489818648e-05,-0.0016024964861571789,0.001662321388721466,0.0038765801582485437,0.003852898022159934,0.003139180364087224,0.007638372480869293,-0.022097531706094742,-0.024972256273031235,-0.01154338102787733],\"type\":\"scatter\"},{\"opacity\":0.8,\"x\":[0.01,0.0075,0.01,0.015,0.02,0.0375,0.08750000000000001,0.1625,0.2625,0.4,0.65,1.125,1.775,2.65,3.85,9.5,31.25,60.5,100.0],\"y\":[-0.0002933639334514737,-0.0005442677065730095,-0.0006635407917201519,-0.0007251885253936052,-0.000686569488607347,-0.0005881639081053436,9.498582221567631e-05,-0.0010352031094953418,-0.0019449959509074688,-0.00037475035060197115,-0.0015074219554662704,-0.005156020633876324,-0.006405592896044254,-0.004881695844233036,-0.011051693931221962,-0.03222569078207016,-0.032081302255392075,-0.026224294677376747,-0.013723054900765419],\"type\":\"scatter\"},{\"opacity\":0.8,\"x\":[0.01,0.0075,0.01,0.015,0.02,0.0375,0.08750000000000001,0.1625,0.2625,0.4,0.65,1.125,1.775,2.65,3.85,9.5,31.25,60.5,100.0],\"y\":[-0.00030924510792829096,-0.00019629056623671204,-0.00022619437368120998,-0.00023934990167617798,-0.0002643246843945235,-1.5247723013089853e-06,-0.00017566395399626344,-0.0008317158208228648,0.0002648809750098735,0.000242565234657377,0.0015177505556493998,0.0019594852346926928,0.004217695444822311,0.004797749221324921,0.006323369685560465,0.000633390445727855,-0.005615479778498411,-0.013559510000050068,-0.006944532971829176],\"type\":\"scatter\"},{\"opacity\":0.8,\"x\":[0.01,0.0075,0.01,0.015,0.02,0.0375,0.08750000000000001,0.1625,0.2625,0.4,0.65,1.125,1.775,2.65,3.85,9.5,31.25,60.5,100.0],\"y\":[4.6914879931136966e-05,7.741033186903223e-06,3.0963954031903995e-06,-3.024592842848506e-06,8.701993647264317e-05,0.0006447050254791975,0.0006500585004687309,0.0005840926896780729,0.002408387837931514,0.0010919865453615785,-0.0003625573590397835,0.001873911707662046,0.007531331852078438,0.010473530739545822,0.008334418758749962,0.0014351591235026717,-0.01086560171097517,-0.0060179876163601875,-0.004485961049795151],\"type\":\"scatter\"},{\"opacity\":0.8,\"x\":[0.01,0.0075,0.01,0.015,0.02,0.0375,0.08750000000000001,0.1625,0.2625,0.4,0.65,1.125,1.775,2.65,3.85,9.5,31.25,60.5,100.0],\"y\":[-0.00028041936457157135,-0.00025995829491876066,-0.0002604700275696814,-0.0002145107282558456,-0.00023721624165773392,4.399224417284131e-05,-0.0003601056814659387,0.00023144966689869761,0.0006153177237138152,0.0016888626851141453,0.001910643419250846,0.0022884171921759844,0.0029739842284470797,0.006222141440957785,0.016095057129859924,0.009545328095555305,-0.0061572883278131485,-0.004034551326185465,-0.0016629855381324887],\"type\":\"scatter\"},{\"opacity\":0.8,\"x\":[0.01,0.0075,0.01,0.015,0.02,0.0375,0.08750000000000001,0.1625,0.2625,0.4,0.65,1.125,1.775,2.65,3.85,9.5,31.25,60.5,100.0],\"y\":[9.755491191754118e-05,0.00012913980754092336,0.00017160775314550847,0.00022144935792312026,0.00016529113054275513,5.6006778322625905e-05,-0.00019844569033011794,-0.00289240968413651,-0.0035406562965363264,-0.0018873009830713272,-0.0008222312899306417,-0.0024000443518161774,-0.002829823875799775,-0.004969276022166014,-0.0028366257902234793,-0.007346635684370995,-0.027554113417863846,-0.022723082453012466,-0.012962487526237965],\"type\":\"scatter\"},{\"opacity\":0.8,\"x\":[0.01,0.0075,0.01,0.015,0.02,0.0375,0.08750000000000001,0.1625,0.2625,0.4,0.65,1.125,1.775,2.65,3.85,9.5,31.25,60.5,100.0],\"y\":[0.0006571681587956846,0.0005475744255818427,0.0006478363065980375,0.0006995067815296352,0.0008099250262603164,0.0007513371529057622,0.0003983887145295739,-0.002028502058237791,-0.0016525615938007832,-0.0018538470612838864,-0.001247388543561101,0.0016395414713770151,0.005486670415848494,0.005816612392663956,0.006180299445986748,-0.0014717044541612267,-0.014763721264898777,-0.00889988150447607,-0.005793347489088774],\"type\":\"scatter\"},{\"opacity\":0.8,\"x\":[0.01,0.0075,0.01,0.015,0.02,0.0375,0.08750000000000001,0.1625,0.2625,0.4,0.65,1.125,1.775,2.65,3.85,9.5,31.25,60.5,100.0],\"y\":[0.0002400582452537492,0.0003556274459697306,0.000383133243303746,0.0003674506733659655,0.0003218726778868586,0.00030505037284456193,0.00019318240811116993,-4.3072865082649514e-05,-0.0008955320809036493,0.0018291135784238577,0.0029628504998981953,0.0020973356440663338,0.005391434300690889,0.004626443609595299,0.005219477228820324,0.0072127231396734715,0.005728000774979591,0.008395597338676453,0.004522988572716713],\"type\":\"scatter\"},{\"opacity\":0.8,\"x\":[0.01,0.0075,0.01,0.015,0.02,0.0375,0.08750000000000001,0.1625,0.2625,0.4,0.65,1.125,1.775,2.65,3.85,9.5,31.25,60.5,100.0],\"y\":[0.0008379225037060678,0.0006890250369906425,0.0006800645496696234,0.0006412844522856176,0.0005451220204122365,0.0003581995842978358,0.0008891525794751942,-0.0006896884297020733,-0.0019159931689500809,-0.0020606559701263905,0.0016059170011430979,0.0034657318610697985,0.005358463618904352,0.005899626296013594,0.015587450936436653,0.008613352663815022,-0.0028940539341419935,-0.008987629786133766,-0.00535115459933877],\"type\":\"scatter\"},{\"opacity\":0.8,\"x\":[0.01,0.0075,0.01,0.015,0.02,0.0375,0.08750000000000001,0.1625,0.2625,0.4,0.65,1.125,1.775,2.65,3.85,9.5,31.25,60.5,100.0],\"y\":[0.0005652830586768687,0.0005937616224400699,0.0005671707913279533,0.0005488595343194902,0.0006085968343541026,0.0010004648938775063,0.0009511386160738766,-0.0006227891426533461,-0.001267697080038488,-0.0009613870061002672,-0.0007719455752521753,-0.003681445261463523,-0.013632193207740784,-0.02059416100382805,-0.021260559558868408,-0.023423288017511368,-0.009939150884747505,-0.010973994620144367,-0.0037752517964690924],\"type\":\"scatter\"},{\"opacity\":0.8,\"x\":[0.01,0.0075,0.01,0.015,0.02,0.0375,0.08750000000000001,0.1625,0.2625,0.4,0.65,1.125,1.775,2.65,3.85,9.5,31.25,60.5,100.0],\"y\":[0.0005660563474521041,0.00044693026575259864,0.0004535756597761065,0.000529916025698185,0.0005849759327247739,0.0005934261134825647,0.0013499048072844744,0.001765053253620863,0.0034565196838229895,0.003301208605989814,0.0032971128821372986,0.0005901242839172482,0.0028531961143016815,0.004030109383165836,-0.0002839197404682636,0.00040346404421143234,-0.0121324323117733,-0.008337450213730335,-0.0038527837023139],\"type\":\"scatter\"},{\"opacity\":0.8,\"x\":[0.01,0.0075,0.01,0.015,0.02,0.0375,0.08750000000000001,0.1625,0.2625,0.4,0.65,1.125,1.775,2.65,3.85,9.5,31.25,60.5,100.0],\"y\":[-0.00020917123765684664,-0.0002669977257028222,-0.00030076951952651143,-0.00023134966613724828,-0.0001464417000534013,-7.547776476712897e-05,0.0015551771502941847,0.0008551764767616987,0.0008555946405977011,0.0006778461975045502,0.0012344340793788433,0.0023750285618007183,0.005415275692939758,0.009492265991866589,0.017987605184316635,0.004285534843802452,-0.005232896190136671,-0.010608971118927002,-0.005354593973606825],\"type\":\"scatter\"},{\"opacity\":0.8,\"x\":[0.01,0.0075,0.01,0.015,0.02,0.0375,0.08750000000000001,0.1625,0.2625,0.4,0.65,1.125,1.775,2.65,3.85,9.5,31.25,60.5,100.0],\"y\":[-0.0006131118279881775,-0.00043577468022704124,-0.00042208260856568813,-0.00039431764162145555,-0.00038416084134951234,-0.0002961219288408756,0.0003504123305901885,4.868760515819304e-05,-0.0005637971335090697,-0.0009331044275313616,8.546054596081376e-05,-0.0014195413095876575,0.0015017284313216805,0.004775673616677523,0.0030303674284368753,0.01025727391242981,0.0040024686604738235,-0.004065433517098427,-0.0010391599498689175],\"type\":\"scatter\"},{\"opacity\":0.8,\"x\":[0.01,0.0075,0.01,0.015,0.02,0.0375,0.08750000000000001,0.1625,0.2625,0.4,0.65,1.125,1.775,2.65,3.85,9.5,31.25,60.5,100.0],\"y\":[-0.0002219262532889843,-0.00022551510483026505,-0.0001727525523165241,-5.5578595492988825e-05,2.6697302018874325e-05,7.372525578830391e-05,0.0001459484192309901,-0.0019496413879096508,-0.0018204930238425732,-0.0027821336407214403,-0.0018833010690286756,-0.0035463599488139153,-0.007697452325373888,-0.012838099151849747,-0.014866126701235771,-0.008090165443718433,-0.009010519832372665,-0.015309778973460197,-0.006274456158280373],\"type\":\"scatter\"},{\"opacity\":0.8,\"x\":[0.01,0.0075,0.01,0.015,0.02,0.0375,0.08750000000000001,0.1625,0.2625,0.4,0.65,1.125,1.775,2.65,3.85,9.5,31.25,60.5,100.0],\"y\":[0.0004688462649937719,0.0005250144167803228,0.0005244818166829646,0.00048488937318325043,0.00048528797924518585,0.0003608367987908423,0.0010149400914087892,0.000631589675322175,-0.0005562230362556875,-0.002655734308063984,-0.0012126941001042724,-0.0007287359330803156,-0.001217210665345192,-0.0019415343413129449,-0.002979144686833024,-0.010957475751638412,-0.004712031688541174,-0.004488630220293999,-0.0012476261472329497],\"type\":\"scatter\"},{\"opacity\":0.8,\"x\":[0.01,0.0075,0.01,0.015,0.02,0.0375,0.08750000000000001,0.1625,0.2625,0.4,0.65,1.125,1.775,2.65,3.85,9.5,31.25,60.5,100.0],\"y\":[-0.0001661850983509794,3.62358537131513e-06,4.237713073962368e-05,-3.925275814253837e-05,-3.408931661397219e-05,-1.411095308867516e-05,-0.000154293273226358,-0.0007710996433161199,0.0015014930395409465,0.00010695063247112557,0.001397900516167283,0.002829564968124032,0.0036058526020497084,0.0035393366124480963,0.008744160644710064,0.013569992035627365,0.012762983329594135,0.00551290949806571,0.0034399335272610188],\"type\":\"scatter\"},{\"opacity\":0.8,\"x\":[0.01,0.0075,0.01,0.015,0.02,0.0375,0.08750000000000001,0.1625,0.2625,0.4,0.65,1.125,1.775,2.65,3.85,9.5,31.25,60.5,100.0],\"y\":[0.00024802115513011813,0.0003296484937891364,0.0002927865425590426,0.00027843110729008913,0.0003622098593041301,0.0005142571171745658,0.0011163810268044472,0.0030226996168494225,0.004274209029972553,0.003848860738798976,0.0033932486549019814,0.0035623800940811634,0.009963597171008587,0.009031031280755997,0.007327612955123186,-0.0013497049221768975,-0.0010304948082193732,-0.0012630888959392905,-0.0017349313711747527],\"type\":\"scatter\"},{\"opacity\":0.8,\"x\":[0.01,0.0075,0.01,0.015,0.02,0.0375,0.08750000000000001,0.1625,0.2625,0.4,0.65,1.125,1.775,2.65,3.85,9.5,31.25,60.5,100.0],\"y\":[0.0006094493437558413,0.0006516407593153417,0.0005760486237704754,0.0005376549088396132,0.00042920882697217166,8.003105904208496e-05,-0.00041870918357744813,-0.0014022315153852105,-0.0002079284458886832,0.0012321098474785686,0.0016909276600927114,0.004998439457267523,0.0075009409338235855,0.007986440323293209,0.010384399443864822,0.00938386656343937,0.0011740822810679674,0.00470485957339406,0.0014225913910195231],\"type\":\"scatter\"},{\"opacity\":0.8,\"x\":[0.01,0.0075,0.01,0.015,0.02,0.0375,0.08750000000000001,0.1625,0.2625,0.4,0.65,1.125,1.775,2.65,3.85,9.5,31.25,60.5,100.0],\"y\":[-0.000149011830217205,-1.3425823226498323e-06,0.00010653884964995086,0.00018473638920113444,0.00016096781473606825,0.00012026667536702007,0.0010378118604421616,0.0023801038041710854,0.0007585884304717183,-0.0005257869488559663,-0.0009352007182314992,-0.0007217592210508883,-0.00044833740685135126,0.003526105545461178,0.0030608188826590776,-0.005772297736257315,-0.014370550401508808,-0.012020953930914402,-0.0053786057978868484],\"type\":\"scatter\"},{\"opacity\":0.8,\"x\":[0.01,0.0075,0.01,0.015,0.02,0.0375,0.08750000000000001,0.1625,0.2625,0.4,0.65,1.125,1.775,2.65,3.85,9.5,31.25,60.5,100.0],\"y\":[0.0001874253066489473,0.00017385388491675258,0.00012375223741400987,0.00011949947656830773,0.0001509105204604566,0.0001746976631693542,0.00010024977382272482,-0.001626674085855484,-0.0005371023435145617,0.0005912526976317167,0.0019329581409692764,0.0016525888349860907,0.006916155572980642,0.007863994687795639,0.0055521526373922825,-0.005333014763891697,0.0053517185151577,0.0016100263455882668,0.0025306157767772675],\"type\":\"scatter\"},{\"opacity\":0.8,\"x\":[0.01,0.0075,0.01,0.015,0.02,0.0375,0.08750000000000001,0.1625,0.2625,0.4,0.65,1.125,1.775,2.65,3.85,9.5,31.25,60.5,100.0],\"y\":[-0.0002609533257782459,-5.9120371588505805e-05,1.0347018360334914e-05,7.931908476166427e-05,4.8891768528847024e-05,1.4637968888564501e-05,0.0004976240452378988,-0.00030792588950134814,0.002138612326234579,0.003929575439542532,0.0028860329184681177,0.004228756297379732,0.006366330664604902,0.005553897470235825,0.006989302579313517,0.011112621054053307,0.003418636741116643,0.001981510315090418,0.0001697606494417414],\"type\":\"scatter\"},{\"opacity\":0.8,\"x\":[0.01,0.0075,0.01,0.015,0.02,0.0375,0.08750000000000001,0.1625,0.2625,0.4,0.65,1.125,1.775,2.65,3.85,9.5,31.25,60.5,100.0],\"y\":[-0.00010515837493585423,-6.675251643173397e-05,-1.8227574400953017e-05,-7.135140185710043e-05,-2.0157836843281984e-05,-6.658251368207857e-05,-0.00032338721211999655,-0.00044881890062242746,-0.00020232317910995334,-0.0005139762652106583,0.002836270723491907,0.00501696253195405,0.0050005679950118065,-0.0013858500169590116,-0.0046633644960820675,-0.017382100224494934,-0.013230603188276291,-0.014057776890695095,-0.006979593075811863],\"type\":\"scatter\"},{\"opacity\":0.8,\"x\":[0.01,0.0075,0.01,0.015,0.02,0.0375,0.08750000000000001,0.1625,0.2625,0.4,0.65,1.125,1.775,2.65,3.85,9.5,31.25,60.5,100.0],\"y\":[-2.656400465639308e-05,-0.00021770580497104675,-0.00022916692250873893,-0.00028686027508229017,-0.00025090822600759566,-0.0002768408739939332,0.0005276676383800805,-0.0011978955008089542,-0.0006029331707395613,-6.735356146236882e-05,0.0012960776221007109,-0.0013239327818155289,0.0031342997681349516,0.009905658662319183,0.012192687019705772,0.011121087707579136,0.01164791826158762,0.0032921801321208477,0.0025813868269324303],\"type\":\"scatter\"},{\"opacity\":0.8,\"x\":[0.01,0.0075,0.01,0.015,0.02,0.0375,0.08750000000000001,0.1625,0.2625,0.4,0.65,1.125,1.775,2.65,3.85,9.5,31.25,60.5,100.0],\"y\":[-5.448979572975077e-05,2.210622187703848e-05,9.620723722036928e-05,0.0001434331643395126,0.0001438518229406327,0.00022895993606653064,0.0003298335359431803,0.0014613321982324123,0.0013875167351216078,0.0014147479087114334,0.0006169219268485904,-0.002769807120785117,-0.007384632248431444,-0.011151225306093693,-0.02029053121805191,-0.029973112046718597,-0.02773870900273323,-0.022343318909406662,-0.01078138966113329],\"type\":\"scatter\"},{\"opacity\":0.8,\"x\":[0.01,0.0075,0.01,0.015,0.02,0.0375,0.08750000000000001,0.1625,0.2625,0.4,0.65,1.125,1.775,2.65,3.85,9.5,31.25,60.5,100.0],\"y\":[-0.00041364607750438154,-0.00046643527457490563,-0.0004288545751478523,-0.0004087344277650118,-0.00046299025416374207,-0.0004902094951830804,-0.0010328617645427585,-0.001199596212245524,-0.0013661881675943732,-0.001989941345527768,-0.003272430505603552,-0.005231388844549656,-0.006792289204895496,-0.009336048737168312,-0.008587048389017582,-0.002415957162156701,-0.0008375962497666478,0.0014230465749278665,0.002100829966366291],\"type\":\"scatter\"},{\"opacity\":0.8,\"x\":[0.01,0.0075,0.01,0.015,0.02,0.0375,0.08750000000000001,0.1625,0.2625,0.4,0.65,1.125,1.775,2.65,3.85,9.5,31.25,60.5,100.0],\"y\":[-0.0005601558368653059,-0.0005391475860960782,-0.0005864737904630601,-0.0005914372159168124,-0.0005531597416847944,-0.00039493280928581953,0.0006179808988235891,0.0003377993998583406,-0.0012356622610241175,0.000212751270737499,0.0016442881897091866,0.001857055351138115,0.002799185924232006,0.0023337830789387226,0.006165354512631893,0.01761736534535885,-0.0061818864196538925,-0.001367039862088859,-0.00015611402341164649],\"type\":\"scatter\"},{\"opacity\":0.8,\"x\":[0.01,0.0075,0.01,0.015,0.02,0.0375,0.08750000000000001,0.1625,0.2625,0.4,0.65,1.125,1.775,2.65,3.85,9.5,31.25,60.5,100.0],\"y\":[0.0004907180555164814,0.0005624438053928316,0.0005874066846445203,0.000570586184039712,0.0004933516029268503,0.00016926076204981655,-0.00023242075985763222,-0.0009082744945771992,0.000911073642782867,0.001099510584026575,0.004748626612126827,0.00908826943486929,0.01212163083255291,0.01623513177037239,0.014267361722886562,0.020462503656744957,0.0009118157322518528,0.00420682318508625,0.003195760538801551],\"type\":\"scatter\"},{\"opacity\":0.8,\"x\":[0.01,0.0075,0.01,0.015,0.02,0.0375,0.08750000000000001,0.1625,0.2625,0.4,0.65,1.125,1.775,2.65,3.85,9.5,31.25,60.5,100.0],\"y\":[5.1815310143865645e-05,4.401784099172801e-05,1.20932809295482e-05,-5.321602657204494e-05,5.141062501934357e-05,0.0002872176992241293,4.31582702731248e-05,-0.00024985952768474817,-0.0014954251237213612,-0.0016415136633440852,-0.0036103641614317894,-0.006930588744580746,-0.007665700279176235,-0.0028412863612174988,-0.0039756642654538155,-0.002794308355078101,-0.0048501137644052505,-0.008003982715308666,-0.0029315075371414423],\"type\":\"scatter\"},{\"opacity\":0.8,\"x\":[0.01,0.0075,0.01,0.015,0.02,0.0375,0.08750000000000001,0.1625,0.2625,0.4,0.65,1.125,1.775,2.65,3.85,9.5,31.25,60.5,100.0],\"y\":[-0.0005457504885271192,-0.0006367676542140543,-0.0006655005272477865,-0.0007508483249694109,-0.0007912695873528719,-0.0006073721451684833,-0.000530927674844861,-0.001357527682557702,-0.0008346455870196223,-0.0012517281575128436,-0.0002981108846142888,-0.0012985519133508205,-0.004444959573447704,-0.010688597336411476,-0.00959508866071701,-0.01780882477760315,-0.012298326939344406,-0.010679406113922596,-0.005930389743298292],\"type\":\"scatter\"},{\"opacity\":0.8,\"x\":[0.01,0.0075,0.01,0.015,0.02,0.0375,0.08750000000000001,0.1625,0.2625,0.4,0.65,1.125,1.775,2.65,3.85,9.5,31.25,60.5,100.0],\"y\":[-0.0001964324328582734,-0.00013342250895220786,-4.9469308578409255e-05,2.055522782029584e-05,-8.356403122888878e-05,-0.00027259517810307443,-0.00039669909165240824,-0.002383045619353652,-0.0011740988120436668,0.0011391669977456331,0.0013837573351338506,0.0019811741076409817,0.0035798405297100544,-0.0012960988096892834,0.005980255547910929,-7.462940993718803e-05,-0.006151472683995962,-0.008601426146924496,-0.0046251071617007256],\"type\":\"scatter\"},{\"opacity\":0.8,\"x\":[0.01,0.0075,0.01,0.015,0.02,0.0375,0.08750000000000001,0.1625,0.2625,0.4,0.65,1.125,1.775,2.65,3.85,9.5,31.25,60.5,100.0],\"y\":[0.00027392921037971973,0.00014272629050537944,0.00010789689986268058,9.692545427242294e-05,3.58514953404665e-05,0.00028437390574254096,0.0012084078043699265,0.000851937395054847,-0.0011087649036198854,-0.0028121403884142637,-0.00119010207708925,4.24149475293234e-05,0.005083306692540646,0.0032774393912404776,0.0013927713735029101,-0.009544259868562222,-0.0029930798336863518,-0.005109341815114021,-0.0014465106651186943],\"type\":\"scatter\"},{\"opacity\":0.8,\"x\":[0.01,0.0075,0.01,0.015,0.02,0.0375,0.08750000000000001,0.1625,0.2625,0.4,0.65,1.125,1.775,2.65,3.85,9.5,31.25,60.5,100.0],\"y\":[0.00036824995186179876,0.0004989485023543239,0.0004998927470296621,0.000505893724039197,0.0004186989099252969,0.0005226453067734838,0.00023967873130459338,0.001276366994716227,0.00021193538850639015,-0.0005880295648239553,-0.0003931224055122584,0.00014502598787657917,-0.000477661844342947,-0.0009951242245733738,-0.0035809262190014124,-0.002669115550816059,-0.0032997631933540106,0.0017576577374711633,-0.0011167314369231462],\"type\":\"scatter\"},{\"opacity\":0.8,\"x\":[0.01,0.0075,0.01,0.015,0.02,0.0375,0.08750000000000001,0.1625,0.2625,0.4,0.65,1.125,1.775,2.65,3.85,9.5,31.25,60.5,100.0],\"y\":[-0.00035113899502903223,-0.0004001431807409972,-0.0004517069610301405,-0.0004091224109288305,-0.00045878946548327804,-0.0004283732268959284,-0.0015961825847625732,-0.0002951393835246563,0.0015432010404765606,0.0031999575439840555,0.0061674537137150764,0.0055443826131522655,0.01056344248354435,0.006729969289153814,0.0032864471431821585,0.00494737084954977,-0.005351463332772255,0.000973336398601532,0.0006736844079568982],\"type\":\"scatter\"},{\"opacity\":0.8,\"x\":[0.01,0.0075,0.01,0.015,0.02,0.0375,0.08750000000000001,0.1625,0.2625,0.4,0.65,1.125,1.775,2.65,3.85,9.5,31.25,60.5,100.0],\"y\":[-0.0005580584984272718,-0.0004779229639098048,-0.0004715129907708615,-0.0004231769999023527,-0.0004151290631853044,-0.00031915694125927985,-0.0010504168458282948,-0.000675222952850163,0.00020074132771696895,0.00026700759190134704,-0.0009114376152865589,-0.0028369082137942314,-0.005698512773960829,-0.01119434554129839,-0.011761408299207687,-0.015229723416268826,-0.01925186812877655,-0.02065347507596016,-0.010642755776643753],\"type\":\"scatter\"},{\"opacity\":0.8,\"x\":[0.01,0.0075,0.01,0.015,0.02,0.0375,0.08750000000000001,0.1625,0.2625,0.4,0.65,1.125,1.775,2.65,3.85,9.5,31.25,60.5,100.0],\"y\":[-0.0010567116551101208,-0.0010621765395626426,-0.0010523314122110605,-0.0009483454050496221,-0.0009777690283954144,-0.0009877270786091685,-0.0014296253211796284,-0.0006114448769949377,-0.001018394948914647,-0.001304561272263527,-0.0008317299070768058,-0.0006904060719534755,-0.0055872853845357895,-0.008331620134413242,-0.005187759641557932,0.001759589184075594,0.0012710568262264132,0.0005620624870061874,-0.0004676680837292224],\"type\":\"scatter\"},{\"opacity\":0.8,\"x\":[0.01,0.0075,0.01,0.015,0.02,0.0375,0.08750000000000001,0.1625,0.2625,0.4,0.65,1.125,1.775,2.65,3.85,9.5,31.25,60.5,100.0],\"y\":[-0.000528212811332196,-0.0005876811337657273,-0.0005925743607804179,-0.0006681053782813251,-0.0006617230828851461,-0.000714959460310638,-0.00037695368519052863,-0.0008040032116696239,-0.0013188831508159637,-0.0003771655901800841,0.0016218139789998531,0.003508203197270632,0.003959434572607279,0.005419648718088865,-0.005084455478936434,-0.0009920524898916483,-0.008040329441428185,-0.0037062738556414843,-0.0010545826517045498],\"type\":\"scatter\"},{\"opacity\":0.8,\"x\":[0.01,0.0075,0.01,0.015,0.02,0.0375,0.08750000000000001,0.1625,0.2625,0.4,0.65,1.125,1.775,2.65,3.85,9.5,31.25,60.5,100.0],\"y\":[0.00014347763499245048,5.134216553415172e-05,8.166229235939682e-05,2.497808964108117e-05,5.1588132919277996e-05,0.00010545900295255706,0.0008796953479759395,0.0022909860126674175,0.001954318257048726,0.0030988361686468124,0.0019316785037517548,-0.001608559163287282,-0.0035343137569725513,-0.0002731909044086933,0.0027767212595790625,0.0020966269075870514,0.015143177472054958,0.007044914644211531,0.0010817499132826924],\"type\":\"scatter\"},{\"opacity\":0.8,\"x\":[0.01,0.0075,0.01,0.015,0.02,0.0375,0.08750000000000001,0.1625,0.2625,0.4,0.65,1.125,1.775,2.65,3.85,9.5,31.25,60.5,100.0],\"y\":[0.00015142040501814336,0.00014830680447630584,0.00013510725693777204,6.251709419302642e-05,4.924252425553277e-05,-3.426490366109647e-05,-9.945596684701741e-05,-0.0005049197934567928,2.976171344926115e-05,0.0005908079911023378,0.0010826486395671964,-0.003100203350186348,-0.004803939256817102,-0.005525833461433649,-0.0034010992385447025,-0.005000528413802385,-0.012867358513176441,-0.010576602071523666,-0.004353747703135014],\"type\":\"scatter\"},{\"opacity\":0.8,\"x\":[0.01,0.0075,0.01,0.015,0.02,0.0375,0.08750000000000001,0.1625,0.2625,0.4,0.65,1.125,1.775,2.65,3.85,9.5,31.25,60.5,100.0],\"y\":[-0.00027232232969254255,-0.0002298379986314103,-0.00026641166186891496,-0.00031608008430339396,-0.0003798531542997807,-0.00026998159592039883,-8.169570355676115e-05,-0.0007126234704628587,-0.0013943393714725971,-0.0019597529899328947,-0.0018709237920120358,-0.0052927713841199875,-0.007657299283891916,-0.006655714008957148,-0.005260531324893236,0.007488706149160862,-0.0106903575360775,-0.004667680244892836,-0.0029390077106654644],\"type\":\"scatter\"}],                        {\"title\":{\"text\":\"Spectral dynamics: stanford-gpt2-small-d\"},\"template\":{\"data\":{\"histogram2dcontour\":[{\"type\":\"histogram2dcontour\",\"colorbar\":{\"outlinewidth\":0,\"ticks\":\"\"},\"colorscale\":[[0.0,\"#0d0887\"],[0.1111111111111111,\"#46039f\"],[0.2222222222222222,\"#7201a8\"],[0.3333333333333333,\"#9c179e\"],[0.4444444444444444,\"#bd3786\"],[0.5555555555555556,\"#d8576b\"],[0.6666666666666666,\"#ed7953\"],[0.7777777777777778,\"#fb9f3a\"],[0.8888888888888888,\"#fdca26\"],[1.0,\"#f0f921\"]]}],\"choropleth\":[{\"type\":\"choropleth\",\"colorbar\":{\"outlinewidth\":0,\"ticks\":\"\"}}],\"histogram2d\":[{\"type\":\"histogram2d\",\"colorbar\":{\"outlinewidth\":0,\"ticks\":\"\"},\"colorscale\":[[0.0,\"#0d0887\"],[0.1111111111111111,\"#46039f\"],[0.2222222222222222,\"#7201a8\"],[0.3333333333333333,\"#9c179e\"],[0.4444444444444444,\"#bd3786\"],[0.5555555555555556,\"#d8576b\"],[0.6666666666666666,\"#ed7953\"],[0.7777777777777778,\"#fb9f3a\"],[0.8888888888888888,\"#fdca26\"],[1.0,\"#f0f921\"]]}],\"heatmap\":[{\"type\":\"heatmap\",\"colorbar\":{\"outlinewidth\":0,\"ticks\":\"\"},\"colorscale\":[[0.0,\"#0d0887\"],[0.1111111111111111,\"#46039f\"],[0.2222222222222222,\"#7201a8\"],[0.3333333333333333,\"#9c179e\"],[0.4444444444444444,\"#bd3786\"],[0.5555555555555556,\"#d8576b\"],[0.6666666666666666,\"#ed7953\"],[0.7777777777777778,\"#fb9f3a\"],[0.8888888888888888,\"#fdca26\"],[1.0,\"#f0f921\"]]}],\"heatmapgl\":[{\"type\":\"heatmapgl\",\"colorbar\":{\"outlinewidth\":0,\"ticks\":\"\"},\"colorscale\":[[0.0,\"#0d0887\"],[0.1111111111111111,\"#46039f\"],[0.2222222222222222,\"#7201a8\"],[0.3333333333333333,\"#9c179e\"],[0.4444444444444444,\"#bd3786\"],[0.5555555555555556,\"#d8576b\"],[0.6666666666666666,\"#ed7953\"],[0.7777777777777778,\"#fb9f3a\"],[0.8888888888888888,\"#fdca26\"],[1.0,\"#f0f921\"]]}],\"contourcarpet\":[{\"type\":\"contourcarpet\",\"colorbar\":{\"outlinewidth\":0,\"ticks\":\"\"}}],\"contour\":[{\"type\":\"contour\",\"colorbar\":{\"outlinewidth\":0,\"ticks\":\"\"},\"colorscale\":[[0.0,\"#0d0887\"],[0.1111111111111111,\"#46039f\"],[0.2222222222222222,\"#7201a8\"],[0.3333333333333333,\"#9c179e\"],[0.4444444444444444,\"#bd3786\"],[0.5555555555555556,\"#d8576b\"],[0.6666666666666666,\"#ed7953\"],[0.7777777777777778,\"#fb9f3a\"],[0.8888888888888888,\"#fdca26\"],[1.0,\"#f0f921\"]]}],\"surface\":[{\"type\":\"surface\",\"colorbar\":{\"outlinewidth\":0,\"ticks\":\"\"},\"colorscale\":[[0.0,\"#0d0887\"],[0.1111111111111111,\"#46039f\"],[0.2222222222222222,\"#7201a8\"],[0.3333333333333333,\"#9c179e\"],[0.4444444444444444,\"#bd3786\"],[0.5555555555555556,\"#d8576b\"],[0.6666666666666666,\"#ed7953\"],[0.7777777777777778,\"#fb9f3a\"],[0.8888888888888888,\"#fdca26\"],[1.0,\"#f0f921\"]]}],\"mesh3d\":[{\"type\":\"mesh3d\",\"colorbar\":{\"outlinewidth\":0,\"ticks\":\"\"}}],\"scatter\":[{\"fillpattern\":{\"fillmode\":\"overlay\",\"size\":10,\"solidity\":0.2},\"type\":\"scatter\"}],\"parcoords\":[{\"type\":\"parcoords\",\"line\":{\"colorbar\":{\"outlinewidth\":0,\"ticks\":\"\"}}}],\"scatterpolargl\":[{\"type\":\"scatterpolargl\",\"marker\":{\"colorbar\":{\"outlinewidth\":0,\"ticks\":\"\"}}}],\"bar\":[{\"error_x\":{\"color\":\"#2a3f5f\"},\"error_y\":{\"color\":\"#2a3f5f\"},\"marker\":{\"line\":{\"color\":\"#E5ECF6\",\"width\":0.5},\"pattern\":{\"fillmode\":\"overlay\",\"size\":10,\"solidity\":0.2}},\"type\":\"bar\"}],\"scattergeo\":[{\"type\":\"scattergeo\",\"marker\":{\"colorbar\":{\"outlinewidth\":0,\"ticks\":\"\"}}}],\"scatterpolar\":[{\"type\":\"scatterpolar\",\"marker\":{\"colorbar\":{\"outlinewidth\":0,\"ticks\":\"\"}}}],\"histogram\":[{\"marker\":{\"pattern\":{\"fillmode\":\"overlay\",\"size\":10,\"solidity\":0.2}},\"type\":\"histogram\"}],\"scattergl\":[{\"type\":\"scattergl\",\"marker\":{\"colorbar\":{\"outlinewidth\":0,\"ticks\":\"\"}}}],\"scatter3d\":[{\"type\":\"scatter3d\",\"line\":{\"colorbar\":{\"outlinewidth\":0,\"ticks\":\"\"}},\"marker\":{\"colorbar\":{\"outlinewidth\":0,\"ticks\":\"\"}}}],\"scattermapbox\":[{\"type\":\"scattermapbox\",\"marker\":{\"colorbar\":{\"outlinewidth\":0,\"ticks\":\"\"}}}],\"scatterternary\":[{\"type\":\"scatterternary\",\"marker\":{\"colorbar\":{\"outlinewidth\":0,\"ticks\":\"\"}}}],\"scattercarpet\":[{\"type\":\"scattercarpet\",\"marker\":{\"colorbar\":{\"outlinewidth\":0,\"ticks\":\"\"}}}],\"carpet\":[{\"aaxis\":{\"endlinecolor\":\"#2a3f5f\",\"gridcolor\":\"white\",\"linecolor\":\"white\",\"minorgridcolor\":\"white\",\"startlinecolor\":\"#2a3f5f\"},\"baxis\":{\"endlinecolor\":\"#2a3f5f\",\"gridcolor\":\"white\",\"linecolor\":\"white\",\"minorgridcolor\":\"white\",\"startlinecolor\":\"#2a3f5f\"},\"type\":\"carpet\"}],\"table\":[{\"cells\":{\"fill\":{\"color\":\"#EBF0F8\"},\"line\":{\"color\":\"white\"}},\"header\":{\"fill\":{\"color\":\"#C8D4E3\"},\"line\":{\"color\":\"white\"}},\"type\":\"table\"}],\"barpolar\":[{\"marker\":{\"line\":{\"color\":\"#E5ECF6\",\"width\":0.5},\"pattern\":{\"fillmode\":\"overlay\",\"size\":10,\"solidity\":0.2}},\"type\":\"barpolar\"}],\"pie\":[{\"automargin\":true,\"type\":\"pie\"}]},\"layout\":{\"autotypenumbers\":\"strict\",\"colorway\":[\"#636efa\",\"#EF553B\",\"#00cc96\",\"#ab63fa\",\"#FFA15A\",\"#19d3f3\",\"#FF6692\",\"#B6E880\",\"#FF97FF\",\"#FECB52\"],\"font\":{\"color\":\"#2a3f5f\"},\"hovermode\":\"closest\",\"hoverlabel\":{\"align\":\"left\"},\"paper_bgcolor\":\"white\",\"plot_bgcolor\":\"#E5ECF6\",\"polar\":{\"bgcolor\":\"#E5ECF6\",\"angularaxis\":{\"gridcolor\":\"white\",\"linecolor\":\"white\",\"ticks\":\"\"},\"radialaxis\":{\"gridcolor\":\"white\",\"linecolor\":\"white\",\"ticks\":\"\"}},\"ternary\":{\"bgcolor\":\"#E5ECF6\",\"aaxis\":{\"gridcolor\":\"white\",\"linecolor\":\"white\",\"ticks\":\"\"},\"baxis\":{\"gridcolor\":\"white\",\"linecolor\":\"white\",\"ticks\":\"\"},\"caxis\":{\"gridcolor\":\"white\",\"linecolor\":\"white\",\"ticks\":\"\"}},\"coloraxis\":{\"colorbar\":{\"outlinewidth\":0,\"ticks\":\"\"}},\"colorscale\":{\"sequential\":[[0.0,\"#0d0887\"],[0.1111111111111111,\"#46039f\"],[0.2222222222222222,\"#7201a8\"],[0.3333333333333333,\"#9c179e\"],[0.4444444444444444,\"#bd3786\"],[0.5555555555555556,\"#d8576b\"],[0.6666666666666666,\"#ed7953\"],[0.7777777777777778,\"#fb9f3a\"],[0.8888888888888888,\"#fdca26\"],[1.0,\"#f0f921\"]],\"sequentialminus\":[[0.0,\"#0d0887\"],[0.1111111111111111,\"#46039f\"],[0.2222222222222222,\"#7201a8\"],[0.3333333333333333,\"#9c179e\"],[0.4444444444444444,\"#bd3786\"],[0.5555555555555556,\"#d8576b\"],[0.6666666666666666,\"#ed7953\"],[0.7777777777777778,\"#fb9f3a\"],[0.8888888888888888,\"#fdca26\"],[1.0,\"#f0f921\"]],\"diverging\":[[0,\"#8e0152\"],[0.1,\"#c51b7d\"],[0.2,\"#de77ae\"],[0.3,\"#f1b6da\"],[0.4,\"#fde0ef\"],[0.5,\"#f7f7f7\"],[0.6,\"#e6f5d0\"],[0.7,\"#b8e186\"],[0.8,\"#7fbc41\"],[0.9,\"#4d9221\"],[1,\"#276419\"]]},\"xaxis\":{\"gridcolor\":\"white\",\"linecolor\":\"white\",\"ticks\":\"\",\"title\":{\"standoff\":15},\"zerolinecolor\":\"white\",\"automargin\":true,\"zerolinewidth\":2},\"yaxis\":{\"gridcolor\":\"white\",\"linecolor\":\"white\",\"ticks\":\"\",\"title\":{\"standoff\":15},\"zerolinecolor\":\"white\",\"automargin\":true,\"zerolinewidth\":2},\"scene\":{\"xaxis\":{\"backgroundcolor\":\"#E5ECF6\",\"gridcolor\":\"white\",\"linecolor\":\"white\",\"showbackground\":true,\"ticks\":\"\",\"zerolinecolor\":\"white\",\"gridwidth\":2},\"yaxis\":{\"backgroundcolor\":\"#E5ECF6\",\"gridcolor\":\"white\",\"linecolor\":\"white\",\"showbackground\":true,\"ticks\":\"\",\"zerolinecolor\":\"white\",\"gridwidth\":2},\"zaxis\":{\"backgroundcolor\":\"#E5ECF6\",\"gridcolor\":\"white\",\"linecolor\":\"white\",\"showbackground\":true,\"ticks\":\"\",\"zerolinecolor\":\"white\",\"gridwidth\":2}},\"shapedefaults\":{\"line\":{\"color\":\"#2a3f5f\"}},\"annotationdefaults\":{\"arrowcolor\":\"#2a3f5f\",\"arrowhead\":0,\"arrowwidth\":1},\"geo\":{\"bgcolor\":\"white\",\"landcolor\":\"#E5ECF6\",\"subunitcolor\":\"white\",\"showland\":true,\"showlakes\":true,\"lakecolor\":\"white\"},\"title\":{\"x\":0.05},\"mapbox\":{\"style\":\"light\"}}},\"xaxis\":{\"title\":{\"text\":\"% Total Training Tokens\"},\"type\":\"log\"},\"shapes\":[{\"fillcolor\":\"gold\",\"line\":{\"width\":1},\"opacity\":0.2,\"type\":\"rect\",\"x0\":0.6,\"x1\":1.3,\"xref\":\"x\",\"y0\":0,\"y1\":1,\"yref\":\"y domain\"}]},                        {\"responsive\": true}                    ).then(function(){\n",
       "                            \n",
       "var gd = document.getElementById('9b0de7e0-1e75-4b79-8d96-39bef3aab2b1');\n",
       "var x = new MutationObserver(function (mutations, observer) {{\n",
       "        var display = window.getComputedStyle(gd).display;\n",
       "        if (!display || display === 'none') {{\n",
       "            console.log([gd, 'removed!']);\n",
       "            Plotly.purge(gd);\n",
       "            observer.disconnect();\n",
       "        }}\n",
       "}});\n",
       "\n",
       "// Listen for the removal of the full notebook cells\n",
       "var notebookContainer = gd.closest('#notebook-container');\n",
       "if (notebookContainer) {{\n",
       "    x.observe(notebookContainer, {childList: true});\n",
       "}}\n",
       "\n",
       "// Listen for the clearing of the current output cell\n",
       "var outputEl = gd.closest('.output');\n",
       "if (outputEl) {{\n",
       "    x.observe(outputEl, {childList: true});\n",
       "}}\n",
       "\n",
       "                        })                };                });            </script>        </div>"
      ]
     },
     "metadata": {},
     "output_type": "display_data"
    },
    {
     "data": {
      "text/html": [
       "<div>                            <div id=\"3ad306f6-5fa6-40a2-af26-56ef7f920a27\" class=\"plotly-graph-div\" style=\"height:525px; width:100%;\"></div>            <script type=\"text/javascript\">                require([\"plotly\"], function(Plotly) {                    window.PLOTLYENV=window.PLOTLYENV || {};                                    if (document.getElementById(\"3ad306f6-5fa6-40a2-af26-56ef7f920a27\")) {                    Plotly.newPlot(                        \"3ad306f6-5fa6-40a2-af26-56ef7f920a27\",                        [{\"opacity\":0.8,\"x\":[0.01,0.0075,0.01,0.015,0.02,0.0375,0.08750000000000001,0.1625,0.2625,0.4,0.65,1.125,1.775,2.65,3.85,9.5,31.25,60.5,100.0],\"y\":[-2.3758562747389078e-05,0.0008616761188022792,0.0008667272049933672,0.0008668782538734376,0.0008739651530049741,0.00090119888773188,0.0008948727045208216,0.0009908598149195313,0.0012351707555353642,0.0016601580427959561,0.0005824952386319637,0.0015904860338196158,0.002958972007036209,0.004064613953232765,0.00477459654211998,0.007475258316844702,0.007031378801912069,0.005948730278760195,0.004027214832603931],\"type\":\"scatter\"},{\"opacity\":0.8,\"x\":[0.01,0.0075,0.01,0.015,0.02,0.0375,0.08750000000000001,0.1625,0.2625,0.4,0.65,1.125,1.775,2.65,3.85,9.5,31.25,60.5,100.0],\"y\":[6.443798338295892e-05,0.00018261918739881366,0.00017972067871596664,0.00018050790822599083,0.00018941982125397772,0.00014836566697340459,0.00018916022963821888,0.00020984665025025606,0.0001913259766297415,8.58193016028963e-05,0.0001729460636852309,0.00013912426948081702,0.0002355993929086253,-0.0001428473915439099,0.000232349950238131,-0.0008460558019578457,0.0015559863531962037,0.0008831766899675131,0.0005531794158741832],\"type\":\"scatter\"},{\"opacity\":0.8,\"x\":[0.01,0.0075,0.01,0.015,0.02,0.0375,0.08750000000000001,0.1625,0.2625,0.4,0.65,1.125,1.775,2.65,3.85,9.5,31.25,60.5,100.0],\"y\":[-0.000125600301544182,0.0002526082971598953,0.0002543881128076464,0.00026273622643202543,0.0002737045579124242,0.00028253099299035966,0.00020306505030021071,5.788348425994627e-05,-0.00013236841186881065,-0.0001403468631906435,0.0004443730285856873,-0.00023619439161848277,-0.000622990948613733,-0.0006748012383468449,-0.0011056986404582858,0.0007180434768088162,0.0023215091787278652,0.0019460843177512288,0.0014041400281712413],\"type\":\"scatter\"},{\"opacity\":0.8,\"x\":[0.01,0.0075,0.01,0.015,0.02,0.0375,0.08750000000000001,0.1625,0.2625,0.4,0.65,1.125,1.775,2.65,3.85,9.5,31.25,60.5,100.0],\"y\":[-5.356536348699592e-05,-0.0006576277664862573,-0.000652873597573489,-0.000641185266431421,-0.0006320045213215053,-0.0006053698598407209,-0.0006286833086051047,-0.0007340734009630978,-0.0008499709074385464,-0.0008547416073270142,-0.0005404051626101136,-0.0006117603625170887,-0.0013633667258545756,-0.002063913270831108,-0.0017719488823786378,0.001496357494033873,0.0026444692630320787,0.002392863156273961,0.0015525607159361243],\"type\":\"scatter\"},{\"opacity\":0.8,\"x\":[0.01,0.0075,0.01,0.015,0.02,0.0375,0.08750000000000001,0.1625,0.2625,0.4,0.65,1.125,1.775,2.65,3.85,9.5,31.25,60.5,100.0],\"y\":[6.385851884260774e-05,-0.000307313195662573,-0.00030959711875766516,-0.00031161095830611885,-0.00031309135374613106,-0.00031311894417740405,-0.0003400362329557538,-0.0003628216218203306,-0.00037462005275301635,-0.00047862346400506794,-0.00029808375984430313,-0.0005558003322221339,-0.0006010368815623224,-0.00021495419787243009,-4.845927469432354e-05,0.0024388981983065605,0.002182840136811137,0.00021319092775229365,-0.00020146684255450964],\"type\":\"scatter\"},{\"opacity\":0.8,\"x\":[0.01,0.0075,0.01,0.015,0.02,0.0375,0.08750000000000001,0.1625,0.2625,0.4,0.65,1.125,1.775,2.65,3.85,9.5,31.25,60.5,100.0],\"y\":[-0.00012682910892181098,-0.00039948851917870343,-0.0003951729740947485,-0.00040068416274152696,-0.00039784563705325127,-0.00039547853521071374,-0.0003968992969021201,-0.00038131233304739,-0.00044944582623429596,-0.0003691969614010304,-0.00035634718369692564,-0.000528574048075825,-0.000989144784398377,-0.001826439518481493,-0.001645356067456305,-0.0008018831140361726,-0.0006812050123699009,-0.0008710149559192359,-0.0004977219505235553],\"type\":\"scatter\"},{\"opacity\":0.8,\"x\":[0.01,0.0075,0.01,0.015,0.02,0.0375,0.08750000000000001,0.1625,0.2625,0.4,0.65,1.125,1.775,2.65,3.85,9.5,31.25,60.5,100.0],\"y\":[-0.00012803434219677,-0.0005155261605978012,-0.0005161282024346292,-0.0005263991770334542,-0.0005268697277642787,-0.0005046634469181299,-0.00045552299707196653,-0.0005171559751033783,-0.0005063395365141332,-0.0008838970097713172,-0.00028753490187227726,-0.0008406864944845438,-0.0014441143721342087,-0.0017405557446181774,-0.002013794146478176,-0.000648529501631856,0.0014309539692476392,0.0021828904282301664,0.0015850970521569252],\"type\":\"scatter\"},{\"opacity\":0.8,\"x\":[0.01,0.0075,0.01,0.015,0.02,0.0375,0.08750000000000001,0.1625,0.2625,0.4,0.65,1.125,1.775,2.65,3.85,9.5,31.25,60.5,100.0],\"y\":[-4.269510100129992e-05,-0.0005420565139502287,-0.0005370868020690978,-0.0005240949685685337,-0.0005165010807104409,-0.0005188491195440292,-0.0005652412655763328,-0.000511062506120652,-0.00048319052439182997,-0.000646316388156265,-0.0005632249522022903,-0.0006464459584094584,-0.0007948631537146866,-0.0007482865476049483,-0.0007006475352682173,-0.0003608920087572187,0.0017569289775565267,0.001847806852310896,0.0016981972148641944],\"type\":\"scatter\"},{\"opacity\":0.8,\"x\":[0.01,0.0075,0.01,0.015,0.02,0.0375,0.08750000000000001,0.1625,0.2625,0.4,0.65,1.125,1.775,2.65,3.85,9.5,31.25,60.5,100.0],\"y\":[0.00024104112526401877,-0.001241755555383861,-0.0012370330514386296,-0.0012316306820139289,-0.0012303321855142713,-0.0012007637415081263,-0.0011638349387794733,-0.0010997244389727712,-0.0012250138679519296,-0.0012067138450220227,-0.0011562139261513948,-0.001463554915972054,-0.0018754886696115136,-0.0025192550383508205,-0.0031819744035601616,-0.004761472810059786,-0.003496771678328514,-0.0029963895212858915,-0.001809729146771133],\"type\":\"scatter\"},{\"opacity\":0.8,\"x\":[0.01,0.0075,0.01,0.015,0.02,0.0375,0.08750000000000001,0.1625,0.2625,0.4,0.65,1.125,1.775,2.65,3.85,9.5,31.25,60.5,100.0],\"y\":[0.00020334856526460499,-0.00019213567429687828,-0.00018662649381440133,-0.0001880439667729661,-0.00019510823767632246,-0.00017921108519658446,-0.00015164673095569015,-0.00019707514729816467,-0.000165577934239991,-0.00028196212952025235,-0.00024736960767768323,-0.00015857831749599427,-0.0003720530366990715,-0.0008513894281350076,-0.0009400960407219827,0.002987906336784363,0.0008362919907085598,-0.00037215533666312695,9.389383194502443e-06],\"type\":\"scatter\"},{\"opacity\":0.8,\"x\":[0.01,0.0075,0.01,0.015,0.02,0.0375,0.08750000000000001,0.1625,0.2625,0.4,0.65,1.125,1.775,2.65,3.85,9.5,31.25,60.5,100.0],\"y\":[0.00027219494222663343,-0.00022558344062417746,-0.00023070728639140725,-0.0002335035242140293,-0.00022618654475081712,-0.00021582665794994682,-0.0002103178558172658,-0.0001785472995834425,-0.0002163897588616237,-3.272632966400124e-05,-0.0002617507998365909,-0.0002553895756136626,-0.00014430006558541209,-0.0007131374441087246,-0.0012963373446837068,-0.001703142304904759,-0.0023755638394504786,-0.00196911976672709,-0.0010674091754481196],\"type\":\"scatter\"},{\"opacity\":0.8,\"x\":[0.01,0.0075,0.01,0.015,0.02,0.0375,0.08750000000000001,0.1625,0.2625,0.4,0.65,1.125,1.775,2.65,3.85,9.5,31.25,60.5,100.0],\"y\":[-0.00011517230450408533,0.0004913388402201235,0.0004939203499816358,0.0005025917780585587,0.0005023617413826287,0.000533703772816807,0.0006000047433190048,0.0006437305710278451,0.0007973567117005587,0.0009580008336342871,0.00034706093720160425,0.0007142917602322996,0.0012383238645270467,0.0018998124869540334,0.0027263397350907326,0.0019685321021825075,-0.0021955419797450304,-0.0019652042537927628,-0.001275623799301684],\"type\":\"scatter\"},{\"opacity\":0.8,\"x\":[0.01,0.0075,0.01,0.015,0.02,0.0375,0.08750000000000001,0.1625,0.2625,0.4,0.65,1.125,1.775,2.65,3.85,9.5,31.25,60.5,100.0],\"y\":[0.00018894446839112788,-0.0006978937890380621,-0.0006934044067747891,-0.0006894409307278693,-0.0006787179154343903,-0.0006857974804006517,-0.000711826141923666,-0.0007319583091884851,-0.0008527759346179664,-0.0009507292415946722,-0.0005823388346470892,-0.0009013989474624395,-0.0016097434563562274,-0.002131260000169277,-0.002059200080111623,-0.0036246711388230324,-0.005272421985864639,-0.004582136403769255,-0.003458162769675255],\"type\":\"scatter\"},{\"opacity\":0.8,\"x\":[0.01,0.0075,0.01,0.015,0.02,0.0375,0.08750000000000001,0.1625,0.2625,0.4,0.65,1.125,1.775,2.65,3.85,9.5,31.25,60.5,100.0],\"y\":[6.465113983722404e-05,7.81846247264184e-05,7.853204442653805e-05,7.709208148298785e-05,8.39025669847615e-05,0.0001028135884553194,8.158196578733623e-05,5.007685467717238e-05,1.0316706720914226e-05,7.169548189267516e-05,-8.821043593343347e-07,-5.788612179458141e-05,-0.0005766268004663289,-0.0009043046738952398,-0.0013225473230704665,-0.0014843447133898735,-0.0025558453053236008,-0.0035028804559260607,-0.0027372597251087427],\"type\":\"scatter\"},{\"opacity\":0.8,\"x\":[0.01,0.0075,0.01,0.015,0.02,0.0375,0.08750000000000001,0.1625,0.2625,0.4,0.65,1.125,1.775,2.65,3.85,9.5,31.25,60.5,100.0],\"y\":[-7.250845374073833e-05,-0.0006933406111784279,-0.0006955917924642563,-0.0006999371107667685,-0.0006965124048292637,-0.0006824381998740137,-0.0006804380682297051,-0.0006888319621793926,-0.0007493768353015184,-0.0007930882275104523,-0.000780401227530092,-0.0008182443561963737,-0.0014138893457129598,-0.0017973082140088081,-0.0018817562377080321,-0.0024783690460026264,-0.004542006645351648,-0.004074218217283487,-0.0025796147529035807],\"type\":\"scatter\"},{\"opacity\":0.8,\"x\":[0.01,0.0075,0.01,0.015,0.02,0.0375,0.08750000000000001,0.1625,0.2625,0.4,0.65,1.125,1.775,2.65,3.85,9.5,31.25,60.5,100.0],\"y\":[-0.0002874769561458379,-0.0006548584788106382,-0.000654607720207423,-0.0006507209618575871,-0.00064563297200948,-0.0006102276965975761,-0.0006595401209779084,-0.0007554974872618914,-0.0008262768969871104,-0.0009538300801068544,-0.0005485430010594428,-0.0011693766573444009,-0.001913340762257576,-0.0015004122396931052,-0.002081167185679078,-0.0011567859910428524,-0.0034598512575030327,-0.0035711966920644045,-0.0025421367026865482],\"type\":\"scatter\"},{\"opacity\":0.8,\"x\":[0.01,0.0075,0.01,0.015,0.02,0.0375,0.08750000000000001,0.1625,0.2625,0.4,0.65,1.125,1.775,2.65,3.85,9.5,31.25,60.5,100.0],\"y\":[-0.0001357585279038176,-0.0005722171044908464,-0.0005677586887031794,-0.0005658605368807912,-0.0005719648324884474,-0.0005684926290996373,-0.0005626216880045831,-0.0005370486178435385,-0.000363663537427783,-0.00047518310020677745,-0.0005327766411937773,-0.00040670615271665156,-0.0006631799042224884,-0.0009091619285754859,-0.0006235524197109044,-0.0007650461047887802,-0.001546926680020988,-0.0011418379144743085,-0.0008730145054869354],\"type\":\"scatter\"},{\"opacity\":0.8,\"x\":[0.01,0.0075,0.01,0.015,0.02,0.0375,0.08750000000000001,0.1625,0.2625,0.4,0.65,1.125,1.775,2.65,3.85,9.5,31.25,60.5,100.0],\"y\":[-0.00023963296553120017,-0.0015839688712731004,-0.001580528449267149,-0.001572039327584207,-0.0015570191899314523,-0.001528027351014316,-0.001455186284147203,-0.0013599200174212456,-0.0013569522416219115,-0.0015070802764967084,-0.0015238859923556447,-0.0014535179361701012,-0.002163869794458151,-0.002980110002681613,-0.004626028705388308,-0.004072211217135191,-0.005813194904476404,-0.004572749137878418,-0.00285190436989069],\"type\":\"scatter\"},{\"opacity\":0.8,\"x\":[0.01,0.0075,0.01,0.015,0.02,0.0375,0.08750000000000001,0.1625,0.2625,0.4,0.65,1.125,1.775,2.65,3.85,9.5,31.25,60.5,100.0],\"y\":[-8.777055336395279e-05,-0.0002975903626065701,-0.0002945785236079246,-0.0002965645689982921,-0.0002955397649202496,-0.00028090187697671354,-0.00030110066290944815,-0.00027859778492711484,-0.0003716311475727707,-0.0004758473951369524,-0.00030707259429618716,-0.0005025644204579294,-0.0007566763088107109,-0.000975827279035002,-0.0006200249190442264,-0.00041076401248574257,-0.0019050805130973458,-0.0014784322120249271,-0.000912599905859679],\"type\":\"scatter\"},{\"opacity\":0.8,\"x\":[0.01,0.0075,0.01,0.015,0.02,0.0375,0.08750000000000001,0.1625,0.2625,0.4,0.65,1.125,1.775,2.65,3.85,9.5,31.25,60.5,100.0],\"y\":[-0.00028188872965984046,0.00031735090306028724,0.00032375892624258995,0.00032259183353744447,0.00032834289595484734,0.00034319257247261703,0.00032752935658209026,0.0002820930676534772,0.00022671172337140888,0.00021663516236003488,0.00021364590793382376,0.0001786753418855369,0.00012093598343199119,-0.0001807102089514956,-0.0009696127381175756,-0.002950248308479786,-0.006071636453270912,-0.00515039311721921,-0.003340821946039796],\"type\":\"scatter\"},{\"opacity\":0.8,\"x\":[0.01,0.0075,0.01,0.015,0.02,0.0375,0.08750000000000001,0.1625,0.2625,0.4,0.65,1.125,1.775,2.65,3.85,9.5,31.25,60.5,100.0],\"y\":[-0.0002638784353621304,-0.0008097576792351902,-0.0008098047110252082,-0.0007995146443136036,-0.0007850847323425114,-0.0007428557728417218,-0.000708490377292037,-0.0006321507971733809,-0.0006171326385810971,-0.00043851579539477825,-0.0007356914575211704,-0.00038307125214487314,0.00010432091221446171,-7.389560778392479e-06,0.0007971666636876762,0.001604495570063591,0.001902523566968739,0.0005342509248293936,0.00010428156383568421],\"type\":\"scatter\"},{\"opacity\":0.8,\"x\":[0.01,0.0075,0.01,0.015,0.02,0.0375,0.08750000000000001,0.1625,0.2625,0.4,0.65,1.125,1.775,2.65,3.85,9.5,31.25,60.5,100.0],\"y\":[-0.000491560494992882,-0.0004587459552567452,-0.0004613288620021194,-0.00045483559370040894,-0.0004404517821967602,-0.0004404755018185824,-0.00041694045648910105,-0.00035803174250759184,-0.00034970729029737413,-0.0003214433090761304,-0.0004941172082908452,-0.00037584756501019,-0.0005287747480906546,-0.0008125132299028337,-0.001337071298621595,-0.0027729803696274757,-0.00332769681699574,-0.000844941649120301,-0.0005727646057493985],\"type\":\"scatter\"},{\"opacity\":0.8,\"x\":[0.01,0.0075,0.01,0.015,0.02,0.0375,0.08750000000000001,0.1625,0.2625,0.4,0.65,1.125,1.775,2.65,3.85,9.5,31.25,60.5,100.0],\"y\":[-0.0001721952430671081,-0.0006146719097159803,-0.000616489676758647,-0.0006181718781590462,-0.0006222002557478845,-0.0006103717023506761,-0.0006238353671506047,-0.000587367860134691,-0.0006619532941840589,-0.000571642944123596,-0.00044656440149992704,-0.0004923281958326697,-0.0006993768620304763,-0.0007830010144971311,-0.001092988415621221,-0.0010495205642655492,0.0014506200095638633,0.0009384427685290575,0.0003473151009529829],\"type\":\"scatter\"},{\"opacity\":0.8,\"x\":[0.01,0.0075,0.01,0.015,0.02,0.0375,0.08750000000000001,0.1625,0.2625,0.4,0.65,1.125,1.775,2.65,3.85,9.5,31.25,60.5,100.0],\"y\":[0.0003384517040103674,8.346515096491203e-05,8.401972445426509e-05,7.803305925335735e-05,6.656353798462078e-05,0.00011755940067814663,9.248730930266902e-05,1.7464850316173397e-05,-0.00012531822721939534,-0.00017047306755557656,0.00011920600809389725,-5.110619167680852e-05,-0.0005484335706569254,-0.0016522615915164351,-0.0019851969555020332,-0.003833605209365487,-0.0020354900043457747,-0.0008668930386193097,-0.0005534305819310248],\"type\":\"scatter\"},{\"opacity\":0.8,\"x\":[0.01,0.0075,0.01,0.015,0.02,0.0375,0.08750000000000001,0.1625,0.2625,0.4,0.65,1.125,1.775,2.65,3.85,9.5,31.25,60.5,100.0],\"y\":[-0.0002598929568193853,-0.0007473946898244321,-0.0007488798000849783,-0.0007481363136321306,-0.0007443358772434294,-0.0007473232108168304,-0.0007579116499982774,-0.0007252948707900941,-0.0007515151519328356,-0.0009233329328708351,-0.0007105243275873363,-0.0010099158389493823,-0.0009450715151615441,-0.00041666897595860064,-0.0007633832283318043,-0.0019650000613182783,-0.00391076086089015,-0.0037346966564655304,-0.0022859012242406607],\"type\":\"scatter\"},{\"opacity\":0.8,\"x\":[0.01,0.0075,0.01,0.015,0.02,0.0375,0.08750000000000001,0.1625,0.2625,0.4,0.65,1.125,1.775,2.65,3.85,9.5,31.25,60.5,100.0],\"y\":[0.00011468173033790663,-5.3520863730227575e-05,-5.416895146481693e-05,-4.967507629771717e-05,-4.604947389452718e-05,-4.32559427281376e-05,3.445861921136384e-06,2.1271234800224192e-05,4.102176262676949e-06,-1.163642718893243e-05,8.345106834894978e-06,-0.0003025097248610109,-0.000383232458261773,-0.0003520876925904304,0.0004458072653505951,0.000411435728892684,-0.0004374842392280698,-0.0003883818571921438,-0.00018129759700968862],\"type\":\"scatter\"},{\"opacity\":0.8,\"x\":[0.01,0.0075,0.01,0.015,0.02,0.0375,0.08750000000000001,0.1625,0.2625,0.4,0.65,1.125,1.775,2.65,3.85,9.5,31.25,60.5,100.0],\"y\":[-0.00018036224355455488,1.5977992006810382e-05,9.898359166982118e-06,8.471807632304262e-06,1.3022229722992051e-05,2.05077049031388e-06,2.148098474208382e-06,7.974788604769856e-05,0.00016723993758205324,9.6593787020538e-05,2.2434958736994304e-05,0.0001489520218456164,-0.0003372273640707135,-0.0006184927769936621,-0.0009288343717344105,-0.003167683258652687,-0.0062775928527116776,-0.005086822435259819,-0.0033742247615009546],\"type\":\"scatter\"},{\"opacity\":0.8,\"x\":[0.01,0.0075,0.01,0.015,0.02,0.0375,0.08750000000000001,0.1625,0.2625,0.4,0.65,1.125,1.775,2.65,3.85,9.5,31.25,60.5,100.0],\"y\":[0.00016718055121600628,0.00018397132225800306,0.0001834522554418072,0.0001739003200782463,0.00017370043497066945,0.00018544982594903558,0.0001995026832446456,2.8143256713519804e-05,-0.0001025862293317914,-0.00017678488802630454,0.0003262614191044122,-3.513379124342464e-05,-0.00033530776272527874,0.00010340623703086749,-3.552529597072862e-05,-0.0011450391029939055,-0.00276862527243793,-0.0027176516596227884,-0.0015072040259838104],\"type\":\"scatter\"},{\"opacity\":0.8,\"x\":[0.01,0.0075,0.01,0.015,0.02,0.0375,0.08750000000000001,0.1625,0.2625,0.4,0.65,1.125,1.775,2.65,3.85,9.5,31.25,60.5,100.0],\"y\":[-0.0001258088304894045,-0.0010769529035314918,-0.0010756750125437975,-0.0010830453829839826,-0.0010988457361236215,-0.0010896750027313828,-0.0011038255179300904,-0.001151385367847979,-0.0011100955307483673,-0.0011234356788918376,-0.001079860609024763,-0.0011294453870505095,-0.0010353360557928681,-0.0013081198558211327,-0.0015648057451471686,-0.002497943816706538,-0.0006659151404164732,-0.0023223215248435736,-0.0017972573405131698],\"type\":\"scatter\"},{\"opacity\":0.8,\"x\":[0.01,0.0075,0.01,0.015,0.02,0.0375,0.08750000000000001,0.1625,0.2625,0.4,0.65,1.125,1.775,2.65,3.85,9.5,31.25,60.5,100.0],\"y\":[9.110622340813279e-05,-0.00047743564937263727,-0.00047338983858935535,-0.00046259319060482085,-0.00046404663589783013,-0.0004789248341694474,-0.00043970951810479164,-0.00044142876868136227,-0.00042509377817623317,-0.0004451936110854149,-0.0004841572081204504,-0.00043514816206879914,-0.00041376054286956787,-0.00022772951342631131,-0.000494347361382097,-0.0023340703919529915,-0.004355445969849825,-0.0025390603113919497,-0.0014664485352113843],\"type\":\"scatter\"},{\"opacity\":0.8,\"x\":[0.01,0.0075,0.01,0.015,0.02,0.0375,0.08750000000000001,0.1625,0.2625,0.4,0.65,1.125,1.775,2.65,3.85,9.5,31.25,60.5,100.0],\"y\":[2.264437534904573e-05,0.0008027977892197669,0.0007973082247190177,0.0007928121485747397,0.0007937979535199702,0.0008122883155010641,0.0008095735101960599,0.0008793753222562373,0.0008612739038653672,0.0008813767344690859,0.0006361976847983897,0.000820529239717871,0.00038896920159459114,0.0005502868443727493,0.0012181628262624145,0.002292012097314,0.0018983484478667378,0.0008903881534934044,0.0005963945877738297],\"type\":\"scatter\"},{\"opacity\":0.8,\"x\":[0.01,0.0075,0.01,0.015,0.02,0.0375,0.08750000000000001,0.1625,0.2625,0.4,0.65,1.125,1.775,2.65,3.85,9.5,31.25,60.5,100.0],\"y\":[-1.6855843568919227e-05,-0.0009222244843840599,-0.0009135275613516569,-0.0009051077649928629,-0.0008991901413537562,-0.0008736615418456495,-0.0008645071648061275,-0.000794355059042573,-0.000888231152202934,-0.0008344945963472128,-0.0008587814518250525,-0.0007341141463257372,-0.0010155340423807502,-0.001382833463139832,-0.001856382004916668,-0.002975785406306386,-0.003041219199076295,-0.0017911368049681187,-0.0011037375079467893],\"type\":\"scatter\"},{\"opacity\":0.8,\"x\":[0.01,0.0075,0.01,0.015,0.02,0.0375,0.08750000000000001,0.1625,0.2625,0.4,0.65,1.125,1.775,2.65,3.85,9.5,31.25,60.5,100.0],\"y\":[-0.00013455860607791692,4.324205747252563e-06,8.196526323445141e-06,9.999423127737828e-06,2.1497531633940525e-05,-9.079117262444925e-06,-3.664622636279091e-05,-0.00015281645755749196,-0.0002528564946260303,-0.00036521072615869343,-9.345329999632668e-06,-0.000234584033023566,-0.0005139122367836535,-0.0008643185719847679,-0.0015754821943119168,-0.0038466500118374825,-0.0066154226660728455,-0.005675413180142641,-0.0038483021780848503],\"type\":\"scatter\"},{\"opacity\":0.8,\"x\":[0.01,0.0075,0.01,0.015,0.02,0.0375,0.08750000000000001,0.1625,0.2625,0.4,0.65,1.125,1.775,2.65,3.85,9.5,31.25,60.5,100.0],\"y\":[0.00021118471340741962,2.29064462473616e-05,2.3139791665016674e-05,2.8205717171658762e-05,3.287490471848287e-05,6.288273289101198e-05,0.0001023098811856471,7.754838588880375e-05,-5.557891199714504e-05,-0.00016208090528380126,2.113569098582957e-05,-0.00012811382475774735,0.00021677256154362112,0.0008766565006226301,0.0011826996924355626,0.0004543944087345153,0.00011463343253126368,0.0011665270430967212,0.0005098381661809981],\"type\":\"scatter\"},{\"opacity\":0.8,\"x\":[0.01,0.0075,0.01,0.015,0.02,0.0375,0.08750000000000001,0.1625,0.2625,0.4,0.65,1.125,1.775,2.65,3.85,9.5,31.25,60.5,100.0],\"y\":[0.00010278390254825354,-0.0009120256290771067,-0.0009071374661289155,-0.0008936586673371494,-0.0008799803908914328,-0.0008572416263632476,-0.0008530696504749358,-0.0009419263806194067,-0.001137024606578052,-0.0009903688915073872,-0.0006204334204085171,-0.0008927274029701948,-0.0005745262023992836,-0.0005759826744906604,-0.0005405721603892744,-0.0009733284823596478,-0.0012480622390285134,-0.0013859987957403064,-0.0009117138106375933],\"type\":\"scatter\"},{\"opacity\":0.8,\"x\":[0.01,0.0075,0.01,0.015,0.02,0.0375,0.08750000000000001,0.1625,0.2625,0.4,0.65,1.125,1.775,2.65,3.85,9.5,31.25,60.5,100.0],\"y\":[2.12400482269004e-05,-0.0004981689271517098,-0.0004989443114027381,-0.0005012956680729985,-0.0004992772592231631,-0.0005182285676710308,-0.0005024903803132474,-0.0006016628467477858,-0.0005157808773219585,-0.0005897178198210895,-0.0005852922913618386,-0.00046672733151353896,-0.000772504776250571,-0.0006236769841052592,-0.0009552589617669582,0.00015587553207296878,0.003236643970012665,0.002652155002579093,0.0014840586809441447],\"type\":\"scatter\"},{\"opacity\":0.8,\"x\":[0.01,0.0075,0.01,0.015,0.02,0.0375,0.08750000000000001,0.1625,0.2625,0.4,0.65,1.125,1.775,2.65,3.85,9.5,31.25,60.5,100.0],\"y\":[0.00020878331270068884,7.943495438667014e-05,8.282068301923573e-05,9.25869753700681e-05,0.00010284627933287993,0.00014536587696056813,0.00011686821380862966,0.0001503092353232205,0.0001964413677342236,0.0002810725418385118,0.00016403045447077602,0.00025110947899520397,0.00012328746379353106,-0.0002384947001701221,-0.0005903494893573225,-0.0005543495644815266,-0.0034228761214762926,-0.003331471001729369,-0.001999569358304143],\"type\":\"scatter\"},{\"opacity\":0.8,\"x\":[0.01,0.0075,0.01,0.015,0.02,0.0375,0.08750000000000001,0.1625,0.2625,0.4,0.65,1.125,1.775,2.65,3.85,9.5,31.25,60.5,100.0],\"y\":[-8.851295569911599e-05,0.00015795259969308972,0.00015378730313386768,0.00014362932415679097,0.00013934086018707603,0.0001353873376501724,0.00011900850950041786,4.749264917336404e-05,-6.91717941663228e-05,-0.0002683001512195915,0.0001118290820159018,0.000101380494015757,-0.00023289093223866075,-0.0003821511927526444,-0.0002297786413691938,0.00012197317118989304,0.0008180471486411989,-0.00024821775150485337,-0.0005083024152554572],\"type\":\"scatter\"},{\"opacity\":0.8,\"x\":[0.01,0.0075,0.01,0.015,0.02,0.0375,0.08750000000000001,0.1625,0.2625,0.4,0.65,1.125,1.775,2.65,3.85,9.5,31.25,60.5,100.0],\"y\":[-0.00020388107805047184,0.0004806775541510433,0.0004793519910890609,0.00048597660497762263,0.0004822069313377142,0.000493104278575629,0.0004535300249699503,0.0005753626464866102,0.0006488298531621695,0.000733867462258786,0.00029165332671254873,0.0005855080671608448,0.000624758773483336,0.000568204268347472,0.0009112924453802407,2.7334317564964294e-06,-0.001198656507767737,-0.0020710844546556473,-0.001607476850040257],\"type\":\"scatter\"},{\"opacity\":0.8,\"x\":[0.01,0.0075,0.01,0.015,0.02,0.0375,0.08750000000000001,0.1625,0.2625,0.4,0.65,1.125,1.775,2.65,3.85,9.5,31.25,60.5,100.0],\"y\":[0.0002889845927711576,0.0005876714712940156,0.0005911923944950104,0.0005936114466749132,0.0005957698449492455,0.000566245405934751,0.0005417608772404492,0.000546516093891114,0.0006308244774118066,0.0006613628356717527,0.0005617547431029379,0.000895639241207391,0.0009034655522555113,0.00110466533806175,0.000932618509978056,0.0008282964117825031,-0.0009124600910581648,-0.0009384024888277054,-0.0008479456300847232],\"type\":\"scatter\"},{\"opacity\":0.8,\"x\":[0.01,0.0075,0.01,0.015,0.02,0.0375,0.08750000000000001,0.1625,0.2625,0.4,0.65,1.125,1.775,2.65,3.85,9.5,31.25,60.5,100.0],\"y\":[-0.00013609985762741417,-0.00011226187780266628,-0.00011394632747396827,-0.00010662603745004162,-9.071196109289303e-05,-0.00010977519559673965,-6.629214476561174e-05,-9.86116356216371e-05,6.56060001347214e-05,-4.576119317789562e-05,-8.370317664230242e-05,-3.6950867070117965e-05,0.0002122628065990284,0.000893966993317008,0.0007042358047328889,7.892972644185647e-05,-0.0019153296016156673,-0.0016141380183398724,-0.0014603490708395839],\"type\":\"scatter\"},{\"opacity\":0.8,\"x\":[0.01,0.0075,0.01,0.015,0.02,0.0375,0.08750000000000001,0.1625,0.2625,0.4,0.65,1.125,1.775,2.65,3.85,9.5,31.25,60.5,100.0],\"y\":[0.00014288928650785238,0.00011746451491490006,0.00012186535604996607,0.0001256988471141085,0.00013046921230852604,0.00012568033707793802,0.00012738526856992394,0.0001426667149644345,0.00019351941591594368,0.00018423360597807914,0.00012292902101762593,7.43194468668662e-05,-2.536247302487027e-05,-0.00010973758617183194,0.0001324655895587057,0.002008044393733144,0.0013205823488533497,0.0010287674376741052,0.000720890995580703],\"type\":\"scatter\"},{\"opacity\":0.8,\"x\":[0.01,0.0075,0.01,0.015,0.02,0.0375,0.08750000000000001,0.1625,0.2625,0.4,0.65,1.125,1.775,2.65,3.85,9.5,31.25,60.5,100.0],\"y\":[-1.1414722393965349e-05,0.00013292493531480432,0.00013433439016807824,0.0001441255590179935,0.00014473972260020673,0.0001489671994931996,0.00014843394455965608,0.000113037989649456,-3.669341595013975e-06,-4.8081081331474707e-05,2.1098143406561576e-05,0.0002945302112493664,-5.902606062591076e-05,0.0002108597691403702,0.0005844701081514359,0.0011779878986999393,0.00027218644390814006,-4.2557880078675225e-05,-6.089021553634666e-05],\"type\":\"scatter\"},{\"opacity\":0.8,\"x\":[0.01,0.0075,0.01,0.015,0.02,0.0375,0.08750000000000001,0.1625,0.2625,0.4,0.65,1.125,1.775,2.65,3.85,9.5,31.25,60.5,100.0],\"y\":[0.0002602884778752923,0.0009767678566277027,0.0009732390753924847,0.0009819378610700369,0.0009778165258467197,0.0009456267580389977,0.0009795182850211859,0.0009867969201877713,0.0010083100060001016,0.0010907634859904647,0.0008763120858930051,0.0013545090332627296,0.0016784052131697536,0.0019689241889864206,0.0019155709305778146,0.00030127775971777737,-7.420697511406615e-05,-0.0008444989216513932,-0.0007876441814005375],\"type\":\"scatter\"},{\"opacity\":0.8,\"x\":[0.01,0.0075,0.01,0.015,0.02,0.0375,0.08750000000000001,0.1625,0.2625,0.4,0.65,1.125,1.775,2.65,3.85,9.5,31.25,60.5,100.0],\"y\":[-0.0004953491734340787,0.00015381512639578432,0.00015749898739159107,0.0001674105296842754,0.00017375231254845858,0.00018868637562263757,0.0002653957635629922,0.00012990058166906238,0.00029426044784486294,0.00039977289270609617,-4.522400558926165e-05,0.00024660085909999907,7.232456846395507e-05,-0.00026285529020242393,8.840835653245449e-05,0.0015266166301444173,0.0015965825878083706,0.0011379927163943648,0.0004974411567673087],\"type\":\"scatter\"},{\"opacity\":0.8,\"x\":[0.01,0.0075,0.01,0.015,0.02,0.0375,0.08750000000000001,0.1625,0.2625,0.4,0.65,1.125,1.775,2.65,3.85,9.5,31.25,60.5,100.0],\"y\":[4.477769834920764e-05,-0.00017017558275256306,-0.00017640031001064926,-0.0001792669645510614,-0.00018557107250671834,-0.00017857749480754137,-0.0001627420715522021,-0.00022405320487450808,-0.00029072558390907943,-0.00022130149591248482,-7.74432992329821e-05,-0.0003052757529076189,-0.00015680129581596702,-0.0003361835842952132,0.000706835591699928,0.0023685467895120382,0.004155613947659731,0.002362387254834175,0.001525615225546062],\"type\":\"scatter\"},{\"opacity\":0.8,\"x\":[0.01,0.0075,0.01,0.015,0.02,0.0375,0.08750000000000001,0.1625,0.2625,0.4,0.65,1.125,1.775,2.65,3.85,9.5,31.25,60.5,100.0],\"y\":[-0.00012890470679849386,0.00045481979032047093,0.0004615577927324921,0.0004677473334595561,0.00046026348718442023,0.000489631260279566,0.00045224957284517586,0.000418875744799152,0.0005119068664498627,0.0005877764779143035,0.0004279937129467726,0.0006746803992427886,0.000546140072401613,0.0005797619232907891,5.631476597045548e-05,0.0003561203193385154,0.00026215071557089686,-0.0006494662375189364,-0.0009957117727026343],\"type\":\"scatter\"},{\"opacity\":0.8,\"x\":[0.01,0.0075,0.01,0.015,0.02,0.0375,0.08750000000000001,0.1625,0.2625,0.4,0.65,1.125,1.775,2.65,3.85,9.5,31.25,60.5,100.0],\"y\":[-2.460856740071904e-05,-0.0003919667797163129,-0.0003865072794724256,-0.00037624803371727467,-0.0003695487102959305,-0.00034196380875073373,-0.0004147689032834023,-0.0003844137245323509,-0.0004692001675721258,-0.0004275169048923999,-0.0004342823813203722,-0.0004809340462088585,-0.00026427986449562013,-0.00023479213996324688,0.0006356437224894762,0.0035132216289639473,0.0023840484209358692,0.0018676994368433952,0.00101937644649297],\"type\":\"scatter\"},{\"opacity\":0.8,\"x\":[0.01,0.0075,0.01,0.015,0.02,0.0375,0.08750000000000001,0.1625,0.2625,0.4,0.65,1.125,1.775,2.65,3.85,9.5,31.25,60.5,100.0],\"y\":[-4.921604704577476e-05,-0.00023532281920779496,-0.00022817541321273893,-0.00022058322792872787,-0.0002177666174247861,-0.00019408347725402564,-0.00012398562103044242,-6.0196460253791884e-05,2.0621868316084146e-05,3.414827006054111e-06,-0.00027344448608346283,-0.00010296667460352182,-0.00013033516006544232,-0.0006036158301867545,-0.000738139555323869,0.00043460095184855163,0.0027574391569942236,0.0016431817784905434,0.0013817449798807502],\"type\":\"scatter\"},{\"opacity\":0.8,\"x\":[0.01,0.0075,0.01,0.015,0.02,0.0375,0.08750000000000001,0.1625,0.2625,0.4,0.65,1.125,1.775,2.65,3.85,9.5,31.25,60.5,100.0],\"y\":[-0.0001170681425719522,3.7827874621143565e-05,4.4231859646970406e-05,5.542225335375406e-05,6.855400715721771e-05,8.62524684634991e-05,5.748388866777532e-05,0.00015024903404992074,0.0003036429698113352,0.00032130596810020506,-0.00031951299752108753,0.00045781288645230234,0.0006987959495745599,0.0009022224694490433,0.0017306098015978932,0.0019372543320059776,0.0040778121910989285,0.003405219642445445,0.001787787303328514],\"type\":\"scatter\"},{\"opacity\":0.8,\"x\":[0.01,0.0075,0.01,0.015,0.02,0.0375,0.08750000000000001,0.1625,0.2625,0.4,0.65,1.125,1.775,2.65,3.85,9.5,31.25,60.5,100.0],\"y\":[0.00020466942805796862,0.0006278605433180928,0.000630469003226608,0.0006479815347120166,0.0006573786376975477,0.00070138368755579,0.000773230625782162,0.0008224413613788784,0.0009869060013443232,0.0013448767131194472,0.0004615112266037613,0.0010328067000955343,0.0017134947702288628,0.00254516932182014,0.003394927829504013,0.0021562939509749413,0.0016652696067467332,0.00026748530217446387,3.9723989175399765e-05],\"type\":\"scatter\"},{\"opacity\":0.8,\"x\":[0.01,0.0075,0.01,0.015,0.02,0.0375,0.08750000000000001,0.1625,0.2625,0.4,0.65,1.125,1.775,2.65,3.85,9.5,31.25,60.5,100.0],\"y\":[-0.00023973436327651143,0.0003832259972114116,0.0003829705237876624,0.0003831707581412047,0.0003869171778205782,0.0003879334544762969,0.0003389291523490101,0.00032905364059843123,0.0002595067780930549,0.0003373028011992574,0.00035466751432977617,0.0004779817536473274,0.0006958317826502025,0.0010610994650050998,0.0014613392995670438,0.0016326982295140624,0.002169280545786023,0.0006433685775846243,-0.00015851474017836154],\"type\":\"scatter\"},{\"opacity\":0.8,\"x\":[0.01,0.0075,0.01,0.015,0.02,0.0375,0.08750000000000001,0.1625,0.2625,0.4,0.65,1.125,1.775,2.65,3.85,9.5,31.25,60.5,100.0],\"y\":[-3.2412997825304046e-05,-4.110244117327966e-05,-3.923631811630912e-05,-3.1993859010981396e-05,-3.295155693194829e-05,-6.461655721068382e-05,-5.9875688748434186e-05,2.504219264665153e-05,-7.693484803894535e-05,-8.249061647802591e-05,-7.398075922537828e-06,-0.00019658467499539256,-0.00042754600872285664,-0.0004192741762381047,-0.0007582392427138984,-0.002655376447364688,-0.0036440787371248007,-0.003578351577743888,-0.002208697609603405],\"type\":\"scatter\"},{\"opacity\":0.8,\"x\":[0.01,0.0075,0.01,0.015,0.02,0.0375,0.08750000000000001,0.1625,0.2625,0.4,0.65,1.125,1.775,2.65,3.85,9.5,31.25,60.5,100.0],\"y\":[-0.00021824958093930036,-0.0004200729599688202,-0.0004138202639296651,-0.00040371212526224554,-0.0004021918575745076,-0.0003856989787891507,-0.0003429996722843498,-0.00030496338149532676,-0.0003060908638872206,-0.00014706766523886472,-0.00047203045687638223,-0.0004651049093808979,-0.0002111266367137432,8.040213288040832e-05,-0.000161273535923101,-0.0013373009860515594,0.0005401726812124252,0.0008243793272413313,0.0003106133663095534],\"type\":\"scatter\"},{\"opacity\":0.8,\"x\":[0.01,0.0075,0.01,0.015,0.02,0.0375,0.08750000000000001,0.1625,0.2625,0.4,0.65,1.125,1.775,2.65,3.85,9.5,31.25,60.5,100.0],\"y\":[0.0003168756084050983,-0.00015114899724721909,-0.00014921654656063765,-0.00015589634131174535,-0.00015420133422594517,-0.00015177483146544546,-0.00014450577145908028,-0.00012094947305740789,-0.00013897694589104503,-0.0001734663383103907,5.5740023526595905e-05,-0.0004795919230673462,-0.0005025014979764819,-0.0007190707256086171,-0.0010884945513680577,-0.0009860791033133864,-0.0001498592901043594,-0.0006900241132825613,-0.0005136426771059632],\"type\":\"scatter\"},{\"opacity\":0.8,\"x\":[0.01,0.0075,0.01,0.015,0.02,0.0375,0.08750000000000001,0.1625,0.2625,0.4,0.65,1.125,1.775,2.65,3.85,9.5,31.25,60.5,100.0],\"y\":[-2.723772922763601e-06,-0.000299142295261845,-0.00029740569880232215,-0.0002965896565001458,-0.00030550354858860373,-0.00030624642386101186,-0.00023430415603797883,-0.0003152019053231925,-0.0003007325576618314,-0.0004679793200921267,-0.00043006925261579454,-0.00012082857574569061,-0.00022779026767238975,-0.0004391743859741837,-0.0006569260149262846,-4.746145805256674e-06,-0.0003750829491764307,0.00026735319988802075,1.809142850106582e-05],\"type\":\"scatter\"},{\"opacity\":0.8,\"x\":[0.01,0.0075,0.01,0.015,0.02,0.0375,0.08750000000000001,0.1625,0.2625,0.4,0.65,1.125,1.775,2.65,3.85,9.5,31.25,60.5,100.0],\"y\":[8.160161087289453e-05,0.0006071877432987094,0.0006095977732911706,0.0006150333792902529,0.000618535210378468,0.0006497132126241922,0.0007090070866979659,0.0007020256016403437,0.0006294526974670589,0.0005745983798988163,0.0006366309826262295,0.0007686118478886783,0.0004265272291377187,0.00030880566919222474,3.034752626263071e-05,-0.0007109707221388817,-0.0014290614053606987,0.00013029568071942776,0.0004092675226274878],\"type\":\"scatter\"},{\"opacity\":0.8,\"x\":[0.01,0.0075,0.01,0.015,0.02,0.0375,0.08750000000000001,0.1625,0.2625,0.4,0.65,1.125,1.775,2.65,3.85,9.5,31.25,60.5,100.0],\"y\":[-8.776246249908581e-05,-0.00022641890973318368,-0.0002335397293791175,-0.00023694599804002792,-0.00023205157776828855,-0.0002260043256683275,-0.00020621220755856484,-0.00012354817590676248,-7.356124115176499e-05,-5.683791823685169e-05,-0.00018944793555419892,-0.00014531600754708052,0.00010489803389646113,-0.0004818554734811187,-0.00014030872262082994,-0.0004134580958634615,-0.0009352662600576878,0.0007385602220892906,0.0008573462255299091],\"type\":\"scatter\"},{\"opacity\":0.8,\"x\":[0.01,0.0075,0.01,0.015,0.02,0.0375,0.08750000000000001,0.1625,0.2625,0.4,0.65,1.125,1.775,2.65,3.85,9.5,31.25,60.5,100.0],\"y\":[0.00016336336557287723,0.00015640031779184937,0.00015252421144396067,0.00014895004278514534,0.00015412857464980334,0.0001803448103601113,0.00020515220239758492,0.00027421311824582517,0.0003507231594994664,0.0003711583267431706,0.00013025369844399393,0.00027111885719932616,0.0005958605906926095,0.0007655015797354281,0.0009745730203576386,-0.0004939701757393777,0.0005933517240919173,0.0013150296872481704,0.0008502842392772436],\"type\":\"scatter\"},{\"opacity\":0.8,\"x\":[0.01,0.0075,0.01,0.015,0.02,0.0375,0.08750000000000001,0.1625,0.2625,0.4,0.65,1.125,1.775,2.65,3.85,9.5,31.25,60.5,100.0],\"y\":[-0.00019175163470208645,8.874633203959092e-05,9.054487600224093e-05,8.432035247096792e-05,8.526248711859807e-05,8.976854587672278e-05,0.000148185616126284,0.0001904458476928994,0.0001767820940585807,0.0005214037373661995,-0.00012245183461345732,0.0004228231555316597,0.001112616271711886,0.0006997361197136343,0.0007392117404378951,0.001874393317848444,0.0018457366386428475,0.0006918401340954006,0.00015986242215149105],\"type\":\"scatter\"},{\"opacity\":0.8,\"x\":[0.01,0.0075,0.01,0.015,0.02,0.0375,0.08750000000000001,0.1625,0.2625,0.4,0.65,1.125,1.775,2.65,3.85,9.5,31.25,60.5,100.0],\"y\":[-0.000257202482316643,-0.000264890055404976,-0.0002631314273457974,-0.0002591216762084514,-0.0002532552171032876,-0.0002598799765110016,-0.00029090006137266755,-0.0002815948682837188,-0.0004151257744524628,-0.00024235791352111846,-0.00025090822600759566,-0.00033519076532684267,-0.0002554545644670725,-5.4369713325286284e-05,-0.0001399860339006409,0.00037027327925898135,0.002158279763534665,0.0015345030697062612,0.0010590959573164582],\"type\":\"scatter\"},{\"opacity\":0.8,\"x\":[0.01,0.0075,0.01,0.015,0.02,0.0375,0.08750000000000001,0.1625,0.2625,0.4,0.65,1.125,1.775,2.65,3.85,9.5,31.25,60.5,100.0],\"y\":[5.5854743550298735e-05,-0.0003768534807022661,-0.0003722710825968534,-0.00036044325679540634,-0.0003568543179426342,-0.00034989663981832564,-0.0003737497318070382,-0.00031668730662204325,-0.000174736138433218,-2.850766213668976e-05,-0.0004769517981912941,7.416116568492725e-05,0.00013866381777916104,0.00022667902521789074,6.533335545100272e-05,-0.0007485798560082912,0.0005177484126761556,0.0009347142768092453,0.0007106231641955674],\"type\":\"scatter\"},{\"opacity\":0.8,\"x\":[0.01,0.0075,0.01,0.015,0.02,0.0375,0.08750000000000001,0.1625,0.2625,0.4,0.65,1.125,1.775,2.65,3.85,9.5,31.25,60.5,100.0],\"y\":[0.00010084883979288861,-0.00024967227363958955,-0.0002533608640078455,-0.00024855637457221746,-0.0002535822568461299,-0.0002611175295896828,-0.0002505539741832763,-0.00024651570129208267,-0.00023861545196268708,-0.00042006431613117456,-0.0002071877388516441,-0.0004214122600387782,-0.0006299615488387644,-0.001246480387635529,-0.002188747515901923,-0.0032088092993944883,-0.004695971962064505,-0.003969320561736822,-0.002929533598944545],\"type\":\"scatter\"},{\"opacity\":0.8,\"x\":[0.01,0.0075,0.01,0.015,0.02,0.0375,0.08750000000000001,0.1625,0.2625,0.4,0.65,1.125,1.775,2.65,3.85,9.5,31.25,60.5,100.0],\"y\":[-0.00041213969234377146,0.00020737458544317633,0.00020945625146850944,0.0002081373822875321,0.000203225456061773,0.00018064449250232428,0.0002552593359723687,0.00030532723758369684,0.00019482261268422008,0.00024166860384866595,0.00027753112954087555,0.00026608473854139447,0.00012683299428317696,-0.0002751564607024193,-0.0008177671115845442,-0.0011403211392462254,0.0008062609122134745,0.00010094230674440041,0.00019523165246937424],\"type\":\"scatter\"}],                        {\"title\":{\"text\":\"Spectral dynamics: stanford-gpt2-medium-a\"},\"template\":{\"data\":{\"histogram2dcontour\":[{\"type\":\"histogram2dcontour\",\"colorbar\":{\"outlinewidth\":0,\"ticks\":\"\"},\"colorscale\":[[0.0,\"#0d0887\"],[0.1111111111111111,\"#46039f\"],[0.2222222222222222,\"#7201a8\"],[0.3333333333333333,\"#9c179e\"],[0.4444444444444444,\"#bd3786\"],[0.5555555555555556,\"#d8576b\"],[0.6666666666666666,\"#ed7953\"],[0.7777777777777778,\"#fb9f3a\"],[0.8888888888888888,\"#fdca26\"],[1.0,\"#f0f921\"]]}],\"choropleth\":[{\"type\":\"choropleth\",\"colorbar\":{\"outlinewidth\":0,\"ticks\":\"\"}}],\"histogram2d\":[{\"type\":\"histogram2d\",\"colorbar\":{\"outlinewidth\":0,\"ticks\":\"\"},\"colorscale\":[[0.0,\"#0d0887\"],[0.1111111111111111,\"#46039f\"],[0.2222222222222222,\"#7201a8\"],[0.3333333333333333,\"#9c179e\"],[0.4444444444444444,\"#bd3786\"],[0.5555555555555556,\"#d8576b\"],[0.6666666666666666,\"#ed7953\"],[0.7777777777777778,\"#fb9f3a\"],[0.8888888888888888,\"#fdca26\"],[1.0,\"#f0f921\"]]}],\"heatmap\":[{\"type\":\"heatmap\",\"colorbar\":{\"outlinewidth\":0,\"ticks\":\"\"},\"colorscale\":[[0.0,\"#0d0887\"],[0.1111111111111111,\"#46039f\"],[0.2222222222222222,\"#7201a8\"],[0.3333333333333333,\"#9c179e\"],[0.4444444444444444,\"#bd3786\"],[0.5555555555555556,\"#d8576b\"],[0.6666666666666666,\"#ed7953\"],[0.7777777777777778,\"#fb9f3a\"],[0.8888888888888888,\"#fdca26\"],[1.0,\"#f0f921\"]]}],\"heatmapgl\":[{\"type\":\"heatmapgl\",\"colorbar\":{\"outlinewidth\":0,\"ticks\":\"\"},\"colorscale\":[[0.0,\"#0d0887\"],[0.1111111111111111,\"#46039f\"],[0.2222222222222222,\"#7201a8\"],[0.3333333333333333,\"#9c179e\"],[0.4444444444444444,\"#bd3786\"],[0.5555555555555556,\"#d8576b\"],[0.6666666666666666,\"#ed7953\"],[0.7777777777777778,\"#fb9f3a\"],[0.8888888888888888,\"#fdca26\"],[1.0,\"#f0f921\"]]}],\"contourcarpet\":[{\"type\":\"contourcarpet\",\"colorbar\":{\"outlinewidth\":0,\"ticks\":\"\"}}],\"contour\":[{\"type\":\"contour\",\"colorbar\":{\"outlinewidth\":0,\"ticks\":\"\"},\"colorscale\":[[0.0,\"#0d0887\"],[0.1111111111111111,\"#46039f\"],[0.2222222222222222,\"#7201a8\"],[0.3333333333333333,\"#9c179e\"],[0.4444444444444444,\"#bd3786\"],[0.5555555555555556,\"#d8576b\"],[0.6666666666666666,\"#ed7953\"],[0.7777777777777778,\"#fb9f3a\"],[0.8888888888888888,\"#fdca26\"],[1.0,\"#f0f921\"]]}],\"surface\":[{\"type\":\"surface\",\"colorbar\":{\"outlinewidth\":0,\"ticks\":\"\"},\"colorscale\":[[0.0,\"#0d0887\"],[0.1111111111111111,\"#46039f\"],[0.2222222222222222,\"#7201a8\"],[0.3333333333333333,\"#9c179e\"],[0.4444444444444444,\"#bd3786\"],[0.5555555555555556,\"#d8576b\"],[0.6666666666666666,\"#ed7953\"],[0.7777777777777778,\"#fb9f3a\"],[0.8888888888888888,\"#fdca26\"],[1.0,\"#f0f921\"]]}],\"mesh3d\":[{\"type\":\"mesh3d\",\"colorbar\":{\"outlinewidth\":0,\"ticks\":\"\"}}],\"scatter\":[{\"fillpattern\":{\"fillmode\":\"overlay\",\"size\":10,\"solidity\":0.2},\"type\":\"scatter\"}],\"parcoords\":[{\"type\":\"parcoords\",\"line\":{\"colorbar\":{\"outlinewidth\":0,\"ticks\":\"\"}}}],\"scatterpolargl\":[{\"type\":\"scatterpolargl\",\"marker\":{\"colorbar\":{\"outlinewidth\":0,\"ticks\":\"\"}}}],\"bar\":[{\"error_x\":{\"color\":\"#2a3f5f\"},\"error_y\":{\"color\":\"#2a3f5f\"},\"marker\":{\"line\":{\"color\":\"#E5ECF6\",\"width\":0.5},\"pattern\":{\"fillmode\":\"overlay\",\"size\":10,\"solidity\":0.2}},\"type\":\"bar\"}],\"scattergeo\":[{\"type\":\"scattergeo\",\"marker\":{\"colorbar\":{\"outlinewidth\":0,\"ticks\":\"\"}}}],\"scatterpolar\":[{\"type\":\"scatterpolar\",\"marker\":{\"colorbar\":{\"outlinewidth\":0,\"ticks\":\"\"}}}],\"histogram\":[{\"marker\":{\"pattern\":{\"fillmode\":\"overlay\",\"size\":10,\"solidity\":0.2}},\"type\":\"histogram\"}],\"scattergl\":[{\"type\":\"scattergl\",\"marker\":{\"colorbar\":{\"outlinewidth\":0,\"ticks\":\"\"}}}],\"scatter3d\":[{\"type\":\"scatter3d\",\"line\":{\"colorbar\":{\"outlinewidth\":0,\"ticks\":\"\"}},\"marker\":{\"colorbar\":{\"outlinewidth\":0,\"ticks\":\"\"}}}],\"scattermapbox\":[{\"type\":\"scattermapbox\",\"marker\":{\"colorbar\":{\"outlinewidth\":0,\"ticks\":\"\"}}}],\"scatterternary\":[{\"type\":\"scatterternary\",\"marker\":{\"colorbar\":{\"outlinewidth\":0,\"ticks\":\"\"}}}],\"scattercarpet\":[{\"type\":\"scattercarpet\",\"marker\":{\"colorbar\":{\"outlinewidth\":0,\"ticks\":\"\"}}}],\"carpet\":[{\"aaxis\":{\"endlinecolor\":\"#2a3f5f\",\"gridcolor\":\"white\",\"linecolor\":\"white\",\"minorgridcolor\":\"white\",\"startlinecolor\":\"#2a3f5f\"},\"baxis\":{\"endlinecolor\":\"#2a3f5f\",\"gridcolor\":\"white\",\"linecolor\":\"white\",\"minorgridcolor\":\"white\",\"startlinecolor\":\"#2a3f5f\"},\"type\":\"carpet\"}],\"table\":[{\"cells\":{\"fill\":{\"color\":\"#EBF0F8\"},\"line\":{\"color\":\"white\"}},\"header\":{\"fill\":{\"color\":\"#C8D4E3\"},\"line\":{\"color\":\"white\"}},\"type\":\"table\"}],\"barpolar\":[{\"marker\":{\"line\":{\"color\":\"#E5ECF6\",\"width\":0.5},\"pattern\":{\"fillmode\":\"overlay\",\"size\":10,\"solidity\":0.2}},\"type\":\"barpolar\"}],\"pie\":[{\"automargin\":true,\"type\":\"pie\"}]},\"layout\":{\"autotypenumbers\":\"strict\",\"colorway\":[\"#636efa\",\"#EF553B\",\"#00cc96\",\"#ab63fa\",\"#FFA15A\",\"#19d3f3\",\"#FF6692\",\"#B6E880\",\"#FF97FF\",\"#FECB52\"],\"font\":{\"color\":\"#2a3f5f\"},\"hovermode\":\"closest\",\"hoverlabel\":{\"align\":\"left\"},\"paper_bgcolor\":\"white\",\"plot_bgcolor\":\"#E5ECF6\",\"polar\":{\"bgcolor\":\"#E5ECF6\",\"angularaxis\":{\"gridcolor\":\"white\",\"linecolor\":\"white\",\"ticks\":\"\"},\"radialaxis\":{\"gridcolor\":\"white\",\"linecolor\":\"white\",\"ticks\":\"\"}},\"ternary\":{\"bgcolor\":\"#E5ECF6\",\"aaxis\":{\"gridcolor\":\"white\",\"linecolor\":\"white\",\"ticks\":\"\"},\"baxis\":{\"gridcolor\":\"white\",\"linecolor\":\"white\",\"ticks\":\"\"},\"caxis\":{\"gridcolor\":\"white\",\"linecolor\":\"white\",\"ticks\":\"\"}},\"coloraxis\":{\"colorbar\":{\"outlinewidth\":0,\"ticks\":\"\"}},\"colorscale\":{\"sequential\":[[0.0,\"#0d0887\"],[0.1111111111111111,\"#46039f\"],[0.2222222222222222,\"#7201a8\"],[0.3333333333333333,\"#9c179e\"],[0.4444444444444444,\"#bd3786\"],[0.5555555555555556,\"#d8576b\"],[0.6666666666666666,\"#ed7953\"],[0.7777777777777778,\"#fb9f3a\"],[0.8888888888888888,\"#fdca26\"],[1.0,\"#f0f921\"]],\"sequentialminus\":[[0.0,\"#0d0887\"],[0.1111111111111111,\"#46039f\"],[0.2222222222222222,\"#7201a8\"],[0.3333333333333333,\"#9c179e\"],[0.4444444444444444,\"#bd3786\"],[0.5555555555555556,\"#d8576b\"],[0.6666666666666666,\"#ed7953\"],[0.7777777777777778,\"#fb9f3a\"],[0.8888888888888888,\"#fdca26\"],[1.0,\"#f0f921\"]],\"diverging\":[[0,\"#8e0152\"],[0.1,\"#c51b7d\"],[0.2,\"#de77ae\"],[0.3,\"#f1b6da\"],[0.4,\"#fde0ef\"],[0.5,\"#f7f7f7\"],[0.6,\"#e6f5d0\"],[0.7,\"#b8e186\"],[0.8,\"#7fbc41\"],[0.9,\"#4d9221\"],[1,\"#276419\"]]},\"xaxis\":{\"gridcolor\":\"white\",\"linecolor\":\"white\",\"ticks\":\"\",\"title\":{\"standoff\":15},\"zerolinecolor\":\"white\",\"automargin\":true,\"zerolinewidth\":2},\"yaxis\":{\"gridcolor\":\"white\",\"linecolor\":\"white\",\"ticks\":\"\",\"title\":{\"standoff\":15},\"zerolinecolor\":\"white\",\"automargin\":true,\"zerolinewidth\":2},\"scene\":{\"xaxis\":{\"backgroundcolor\":\"#E5ECF6\",\"gridcolor\":\"white\",\"linecolor\":\"white\",\"showbackground\":true,\"ticks\":\"\",\"zerolinecolor\":\"white\",\"gridwidth\":2},\"yaxis\":{\"backgroundcolor\":\"#E5ECF6\",\"gridcolor\":\"white\",\"linecolor\":\"white\",\"showbackground\":true,\"ticks\":\"\",\"zerolinecolor\":\"white\",\"gridwidth\":2},\"zaxis\":{\"backgroundcolor\":\"#E5ECF6\",\"gridcolor\":\"white\",\"linecolor\":\"white\",\"showbackground\":true,\"ticks\":\"\",\"zerolinecolor\":\"white\",\"gridwidth\":2}},\"shapedefaults\":{\"line\":{\"color\":\"#2a3f5f\"}},\"annotationdefaults\":{\"arrowcolor\":\"#2a3f5f\",\"arrowhead\":0,\"arrowwidth\":1},\"geo\":{\"bgcolor\":\"white\",\"landcolor\":\"#E5ECF6\",\"subunitcolor\":\"white\",\"showland\":true,\"showlakes\":true,\"lakecolor\":\"white\"},\"title\":{\"x\":0.05},\"mapbox\":{\"style\":\"light\"}}},\"xaxis\":{\"title\":{\"text\":\"% Total Training Tokens\"},\"type\":\"log\"},\"shapes\":[{\"fillcolor\":\"gold\",\"line\":{\"width\":1},\"opacity\":0.2,\"type\":\"rect\",\"x0\":0.6,\"x1\":1.3,\"xref\":\"x\",\"y0\":0,\"y1\":1,\"yref\":\"y domain\"}]},                        {\"responsive\": true}                    ).then(function(){\n",
       "                            \n",
       "var gd = document.getElementById('3ad306f6-5fa6-40a2-af26-56ef7f920a27');\n",
       "var x = new MutationObserver(function (mutations, observer) {{\n",
       "        var display = window.getComputedStyle(gd).display;\n",
       "        if (!display || display === 'none') {{\n",
       "            console.log([gd, 'removed!']);\n",
       "            Plotly.purge(gd);\n",
       "            observer.disconnect();\n",
       "        }}\n",
       "}});\n",
       "\n",
       "// Listen for the removal of the full notebook cells\n",
       "var notebookContainer = gd.closest('#notebook-container');\n",
       "if (notebookContainer) {{\n",
       "    x.observe(notebookContainer, {childList: true});\n",
       "}}\n",
       "\n",
       "// Listen for the clearing of the current output cell\n",
       "var outputEl = gd.closest('.output');\n",
       "if (outputEl) {{\n",
       "    x.observe(outputEl, {childList: true});\n",
       "}}\n",
       "\n",
       "                        })                };                });            </script>        </div>"
      ]
     },
     "metadata": {},
     "output_type": "display_data"
    },
    {
     "data": {
      "text/html": [
       "<div>                            <div id=\"0113f0e7-0fe5-4814-932d-e7184ed7c644\" class=\"plotly-graph-div\" style=\"height:525px; width:100%;\"></div>            <script type=\"text/javascript\">                require([\"plotly\"], function(Plotly) {                    window.PLOTLYENV=window.PLOTLYENV || {};                                    if (document.getElementById(\"0113f0e7-0fe5-4814-932d-e7184ed7c644\")) {                    Plotly.newPlot(                        \"0113f0e7-0fe5-4814-932d-e7184ed7c644\",                        [{\"opacity\":0.8,\"x\":[0.01,0.0075,0.01,0.015,0.02,0.0375,0.08750000000000001,0.1625,0.2625,0.4,0.65,1.125,1.775,2.65,3.85,9.5,31.25,60.5,100.0],\"y\":[-0.00010304144234396517,-0.0003823167644441128,-0.0004384440544527024,-0.0005644842749461532,-0.000568360963370651,-0.0004471337597351521,-0.00040597969200462103,-0.0005304885562509298,-0.0007331851520575583,-0.0008094147779047489,-0.0006884619942866266,-0.0006420031422749162,-0.0006856427062302828,0.0006177994073368609,0.0022914346773177385,0.006016645580530167,0.007479173596948385,0.0034479403402656317,0.001525458530522883],\"type\":\"scatter\"},{\"opacity\":0.8,\"x\":[0.01,0.0075,0.01,0.015,0.02,0.0375,0.08750000000000001,0.1625,0.2625,0.4,0.65,1.125,1.775,2.65,3.85,9.5,31.25,60.5,100.0],\"y\":[0.000377378222765401,0.0002962993457913399,0.00025459067546762526,0.00022427423391491175,0.0002269264659844339,0.0002663922787178308,0.00018891227955464274,0.0002902608539443463,0.00029371571145020425,0.000199586502276361,0.0005718278116546571,0.0006311676697805524,0.0005215912242420018,0.0008126943721435964,-0.00021704814571421593,-0.0011408902937546372,-0.0008216777350753546,0.0009900449076667428,0.001095433603040874],\"type\":\"scatter\"},{\"opacity\":0.8,\"x\":[0.01,0.0075,0.01,0.015,0.02,0.0375,0.08750000000000001,0.1625,0.2625,0.4,0.65,1.125,1.775,2.65,3.85,9.5,31.25,60.5,100.0],\"y\":[-5.530889393412508e-05,-8.792546577751637e-05,-8.307677489938214e-05,-0.00010253769141854718,-0.00011221468594158068,-9.15235941647552e-05,-0.0001051208600983955,-2.5293893486377783e-05,-0.0001134026751969941,-0.00033554635592736304,-0.0005479549872688949,-0.0006484313635155559,-6.242156814550981e-05,0.0006219701026566327,0.0013114828616380692,0.001495412434451282,0.0023340259213000536,0.0030646107625216246,0.0024796570651233196],\"type\":\"scatter\"},{\"opacity\":0.8,\"x\":[0.01,0.0075,0.01,0.015,0.02,0.0375,0.08750000000000001,0.1625,0.2625,0.4,0.65,1.125,1.775,2.65,3.85,9.5,31.25,60.5,100.0],\"y\":[-0.00013465892698150128,-0.0001385048817610368,-0.00013924115046393126,-0.0001350838429061696,-0.0001172604170278646,-6.259470683289692e-05,3.401528374524787e-06,1.8083488612319343e-05,-0.0001273916568607092,-0.0003860924334730953,-0.000808122509624809,-0.0005752866854891181,0.00010973980533890426,0.000583489949349314,0.0010992458555847406,0.0016877270536497235,0.002527770819142461,0.0009729645098559558,0.00033092827652581036],\"type\":\"scatter\"},{\"opacity\":0.8,\"x\":[0.01,0.0075,0.01,0.015,0.02,0.0375,0.08750000000000001,0.1625,0.2625,0.4,0.65,1.125,1.775,2.65,3.85,9.5,31.25,60.5,100.0],\"y\":[0.00010203016427112743,0.00010936361650237814,0.00010880002082558349,0.00011725638614734635,0.00014617989654652774,0.00018130354874301702,5.0963833928108215e-05,-0.0007109039579518139,-0.0011264638742431998,-0.0009217230253852904,-0.0012653243029490113,-0.0014365046517923474,-0.0006652739248238504,-0.000250552810030058,-0.0005903344135731459,-0.002074016723781824,-0.0024859958793967962,-0.0015291929012164474,-0.0008016413194127381],\"type\":\"scatter\"},{\"opacity\":0.8,\"x\":[0.01,0.0075,0.01,0.015,0.02,0.0375,0.08750000000000001,0.1625,0.2625,0.4,0.65,1.125,1.775,2.65,3.85,9.5,31.25,60.5,100.0],\"y\":[-2.1992951587890275e-05,9.243433851224836e-06,2.8240834581083618e-05,4.917432670481503e-05,9.169053373625502e-05,0.00010846467921510339,-3.256460331613198e-05,8.73146109370282e-06,-0.00034453358966857195,-0.000477234018035233,-0.0008824234246276319,-0.0009143739589489996,-0.0010863059433177114,-0.0006286384887062013,-0.0011666532373055816,-0.0022956510074436665,-0.006850189995020628,-0.005441000685095787,-0.0026943653356283903],\"type\":\"scatter\"},{\"opacity\":0.8,\"x\":[0.01,0.0075,0.01,0.015,0.02,0.0375,0.08750000000000001,0.1625,0.2625,0.4,0.65,1.125,1.775,2.65,3.85,9.5,31.25,60.5,100.0],\"y\":[-0.00011620225268416107,-8.714266732567921e-05,-0.00010569926962489262,-0.00011396833724575117,-0.00011293165880488232,-5.0874219596153125e-05,8.884941053111106e-06,0.00026137902750633657,0.00024086331541184336,0.00018304091645404696,0.000260112778050825,0.00023121661797631532,0.00038915788172744215,0.000668130349367857,0.0008584978058934212,0.0018452497897669673,0.002314763842150569,0.0016548138810321689,0.0012177928583696485],\"type\":\"scatter\"},{\"opacity\":0.8,\"x\":[0.01,0.0075,0.01,0.015,0.02,0.0375,0.08750000000000001,0.1625,0.2625,0.4,0.65,1.125,1.775,2.65,3.85,9.5,31.25,60.5,100.0],\"y\":[-6.60276273265481e-05,-5.9433659771457314e-05,-6.871094956295565e-05,-7.149844168452546e-05,-6.29756468697451e-05,-4.5210817916085944e-05,-0.0002347209519939497,-0.0004045905079692602,-0.00045194601989351213,-0.000482192583149299,-0.0006663870881311595,-0.0013372540706768632,-0.001525533851236105,-0.0019348718924447894,-0.0010237795067951083,0.002045351080596447,0.003390207188203931,0.0023622342851012945,0.0015677014598622918],\"type\":\"scatter\"},{\"opacity\":0.8,\"x\":[0.01,0.0075,0.01,0.015,0.02,0.0375,0.08750000000000001,0.1625,0.2625,0.4,0.65,1.125,1.775,2.65,3.85,9.5,31.25,60.5,100.0],\"y\":[4.3266842112643644e-05,1.822456943045836e-05,1.330252689513145e-05,3.1427738576894626e-05,4.270260615157895e-05,2.6648725906852633e-05,-0.00015397746756207198,-0.0005708734388463199,-0.0009351880289614201,-0.0009430996724404395,-0.0006254660547710955,-0.0006828662590123713,-0.000978735857643187,-0.0009439209825359285,-0.001189771224744618,-0.001892020576633513,-0.0007235932280309498,-0.001098983222618699,-0.0004536837514024228],\"type\":\"scatter\"},{\"opacity\":0.8,\"x\":[0.01,0.0075,0.01,0.015,0.02,0.0375,0.08750000000000001,0.1625,0.2625,0.4,0.65,1.125,1.775,2.65,3.85,9.5,31.25,60.5,100.0],\"y\":[0.0003882998425979167,0.000372781214537099,0.0003736596554517746,0.00039090481004677713,0.00040177220944315195,0.00040933373384177685,0.00030746820266358554,2.8259470127522945e-05,-0.00011346421524649486,-0.00015093007823452353,0.00021778845984954387,0.0003345487639307976,0.0008236116846092045,0.0007871333509683609,0.0003624572418630123,0.00167787354439497,-0.003370327642187476,-0.0025937522295862436,-0.0022498208563774824],\"type\":\"scatter\"},{\"opacity\":0.8,\"x\":[0.01,0.0075,0.01,0.015,0.02,0.0375,0.08750000000000001,0.1625,0.2625,0.4,0.65,1.125,1.775,2.65,3.85,9.5,31.25,60.5,100.0],\"y\":[-4.697939220932312e-05,-5.7554480008548126e-05,-5.948268517386168e-05,-5.59580403205473e-05,-4.523568713921122e-05,-6.792035947000841e-06,-9.90166372503154e-05,-0.0003452239034231752,-0.00034778224653564394,-0.0007018633768893778,-0.0008831058512441814,-0.0009574124123901129,-0.0002472092746756971,-0.00013357101124711335,0.0002387207350693643,0.0006360135157592595,0.0011727928649634123,0.0006553896237164736,0.0006998679600656033],\"type\":\"scatter\"},{\"opacity\":0.8,\"x\":[0.01,0.0075,0.01,0.015,0.02,0.0375,0.08750000000000001,0.1625,0.2625,0.4,0.65,1.125,1.775,2.65,3.85,9.5,31.25,60.5,100.0],\"y\":[-0.00020935571228619665,-0.00021205209486652166,-0.0002089335466735065,-0.00022299376723822206,-0.00022679392714053392,-0.00020771654089912772,-0.0003122894268017262,-0.00085468526231125,-0.001276938826777041,-0.001445699017494917,-0.0015934818657115102,-0.001479085418395698,-0.001967205898836255,-0.0021199185866862535,-0.0034190770238637924,-0.0035586354788392782,-0.0016595865599811077,-0.0010284283198416233,-0.0008861041278578341],\"type\":\"scatter\"},{\"opacity\":0.8,\"x\":[0.01,0.0075,0.01,0.015,0.02,0.0375,0.08750000000000001,0.1625,0.2625,0.4,0.65,1.125,1.775,2.65,3.85,9.5,31.25,60.5,100.0],\"y\":[-0.0002889763272833079,-0.0002597716811578721,-0.00025018589803949,-0.0002304595400346443,-0.00022270140470936894,-0.00023191604122985154,-0.00038026724359951913,-0.0006204120581969619,-0.0006014755344949663,-0.00043059306335635483,-0.0007561927777715027,-0.000930275593418628,-0.0010037223109975457,-0.0011902495753020048,-0.0008172033703885972,0.0009308102889917791,0.00014320462651085109,0.0012854896485805511,0.0008070571348071098],\"type\":\"scatter\"},{\"opacity\":0.8,\"x\":[0.01,0.0075,0.01,0.015,0.02,0.0375,0.08750000000000001,0.1625,0.2625,0.4,0.65,1.125,1.775,2.65,3.85,9.5,31.25,60.5,100.0],\"y\":[4.10142274631653e-05,6.357343954732642e-05,6.790251791244373e-05,7.4117022450082e-05,8.473710477119312e-05,4.635201548808254e-05,2.8474329155869782e-05,9.872111695585772e-05,2.1593368728645146e-05,-0.00012511263776104897,-0.0004626574518624693,-0.001059533329680562,-0.0018702950328588486,-0.002700645476579666,-0.0028811616357415915,-0.005236450117081404,-0.00327189639210701,-0.002062818966805935,-0.001249075634405017],\"type\":\"scatter\"},{\"opacity\":0.8,\"x\":[0.01,0.0075,0.01,0.015,0.02,0.0375,0.08750000000000001,0.1625,0.2625,0.4,0.65,1.125,1.775,2.65,3.85,9.5,31.25,60.5,100.0],\"y\":[-0.00025212354375980794,-0.0002653452684171498,-0.0002597241837065667,-0.00025847277720458806,-0.0002487403980921954,-0.00020158437837380916,-0.00012610794510692358,-0.0002703391946852207,-0.0004197742964606732,-0.0002832766913343221,-0.0001944503019331023,8.626480121165514e-05,-0.00029798896866850555,-0.0004097861237823963,-0.0006598670152015984,-0.0009150602272711694,-0.00015545122732874006,-0.0011362406658008695,-0.0007844159845262766],\"type\":\"scatter\"},{\"opacity\":0.8,\"x\":[0.01,0.0075,0.01,0.015,0.02,0.0375,0.08750000000000001,0.1625,0.2625,0.4,0.65,1.125,1.775,2.65,3.85,9.5,31.25,60.5,100.0],\"y\":[0.00022668507881462574,0.0002581361623015255,0.0002657532459124923,0.0002639859449118376,0.0002741627977229655,0.0003302387485746294,0.0001819507306208834,-5.138565393281169e-05,-8.406450069742277e-05,-0.0004456541792023927,-0.0006813232321292162,-0.0003130352997686714,1.3174067134968936e-05,-2.3318933017435484e-05,0.000284166686469689,0.00121940893586725,-0.0010116564808413386,-0.0009623797959648073,-0.00023017283820081502],\"type\":\"scatter\"},{\"opacity\":0.8,\"x\":[0.01,0.0075,0.01,0.015,0.02,0.0375,0.08750000000000001,0.1625,0.2625,0.4,0.65,1.125,1.775,2.65,3.85,9.5,31.25,60.5,100.0],\"y\":[2.1448926418088377e-05,7.31112013454549e-05,7.973983156261966e-05,8.510987390764058e-05,8.852354949340224e-05,0.0001481778162997216,0.00012830055493395776,-0.0001185657165478915,-4.604171044775285e-05,-0.0001500871148891747,-7.424168143188581e-05,0.00019800348673015833,9.5545437943656e-06,0.00010555485641816631,-0.00032616802491247654,-0.0018190924311056733,-0.003858130192384124,-0.003128831274807453,-0.0015579945174977183],\"type\":\"scatter\"},{\"opacity\":0.8,\"x\":[0.01,0.0075,0.01,0.015,0.02,0.0375,0.08750000000000001,0.1625,0.2625,0.4,0.65,1.125,1.775,2.65,3.85,9.5,31.25,60.5,100.0],\"y\":[-0.00013880115875508636,-0.00011815616744570434,-0.00010727671178756282,-7.803973130648956e-05,-5.8251356676919386e-05,-5.4908410675125197e-05,-6.366041634464636e-05,-0.000252488098340109,-0.0003203133528586477,-0.0006792201311327517,-0.0008449835586361587,-0.0006932034157216549,-0.0007209033356048167,-0.0015126493526622653,-0.001022633514367044,-0.0025931678246706724,-0.003107869066298008,-0.0015546191716566682,-0.0010139415971934795],\"type\":\"scatter\"},{\"opacity\":0.8,\"x\":[0.01,0.0075,0.01,0.015,0.02,0.0375,0.08750000000000001,0.1625,0.2625,0.4,0.65,1.125,1.775,2.65,3.85,9.5,31.25,60.5,100.0],\"y\":[-0.000112028734292835,-0.00014177936827763915,-0.00014281294716056436,-0.00012592320854309946,-0.0001036667381413281,-4.032515789731406e-05,-7.299339631572366e-05,-0.00018004841695073992,-0.00017630169168114662,-0.0003018281713593751,-0.0001532398018753156,2.6420353606226854e-05,0.00010115871555171907,0.0008359779603779316,0.0009403459844179451,-0.0010069126728922129,-0.0018848502077162266,-0.0019910798873752356,-0.0009492684039287269],\"type\":\"scatter\"},{\"opacity\":0.8,\"x\":[0.01,0.0075,0.01,0.015,0.02,0.0375,0.08750000000000001,0.1625,0.2625,0.4,0.65,1.125,1.775,2.65,3.85,9.5,31.25,60.5,100.0],\"y\":[-0.00025437885778956115,-0.0002556125109549612,-0.0002462842094246298,-0.00024195086734835058,-0.00023043576220516115,-0.0002407673018751666,-0.0002116379328072071,-0.0003035590925719589,-0.0005977398250252008,-0.0005353229935280979,-0.0002867360890377313,-5.8018526033265516e-05,-0.00014719668251927942,-0.00039936936809681356,-0.0004805050848517567,-0.0015604760264977813,-0.0017251893877983093,-0.00207696040160954,-0.0017114401562139392],\"type\":\"scatter\"},{\"opacity\":0.8,\"x\":[0.01,0.0075,0.01,0.015,0.02,0.0375,0.08750000000000001,0.1625,0.2625,0.4,0.65,1.125,1.775,2.65,3.85,9.5,31.25,60.5,100.0],\"y\":[0.000165814723004587,0.00014392913726624101,0.00014059970271773636,0.00015883255400694907,0.00017048777954187244,0.000218781060539186,0.00018604990327730775,6.175302405608818e-05,-8.135745156323537e-05,-6.361774012475507e-06,-0.00010625651339069009,4.803544652531855e-05,-0.0003638101916294545,-0.0009804802248254418,-0.0012643176596611738,-0.002197141293436289,-0.004202827345579863,-0.0025340274441987276,-0.0014123227447271347],\"type\":\"scatter\"},{\"opacity\":0.8,\"x\":[0.01,0.0075,0.01,0.015,0.02,0.0375,0.08750000000000001,0.1625,0.2625,0.4,0.65,1.125,1.775,2.65,3.85,9.5,31.25,60.5,100.0],\"y\":[-4.0636772610014305e-05,2.2456137230619788e-05,3.139446926070377e-05,2.9734153940808028e-05,3.502422259771265e-05,8.210760279325768e-05,7.95720043242909e-05,-0.0004931188304908574,-0.0005200979067012668,-0.0005518045509234071,-0.0005987588665448129,-0.00019725349557120353,-0.0001643620926188305,0.0006207145052030683,0.0003019464493263513,-0.0010456802556291223,-0.0035746311768889427,-0.0040495190769433975,-0.002752445638179779],\"type\":\"scatter\"},{\"opacity\":0.8,\"x\":[0.01,0.0075,0.01,0.015,0.02,0.0375,0.08750000000000001,0.1625,0.2625,0.4,0.65,1.125,1.775,2.65,3.85,9.5,31.25,60.5,100.0],\"y\":[-0.00023131158377509564,-0.0002589300856925547,-0.0002566759067121893,-0.0002502238203305751,-0.0002385668776696548,-0.0002217696892330423,-0.00025430545792914927,-0.0003100920293945819,-0.00044954230543226004,-0.0003862265439238399,-0.0003816847165580839,-0.00038994496571831405,-9.530136594548821e-05,-0.00046070455573499203,-0.0009719582740217447,-0.003110235556960106,-0.0073126512579619884,-0.005283485632389784,-0.0034801822621375322],\"type\":\"scatter\"},{\"opacity\":0.8,\"x\":[0.01,0.0075,0.01,0.015,0.02,0.0375,0.08750000000000001,0.1625,0.2625,0.4,0.65,1.125,1.775,2.65,3.85,9.5,31.25,60.5,100.0],\"y\":[0.0003008077328559011,0.0002981240686494857,0.00028826683410443366,0.0002764656092040241,0.00027239127666689456,0.0002687523665372282,0.0001923920790432021,0.0003499056620057672,0.00040775223169475794,0.0002548331976868212,0.00021435105009004474,7.55619621486403e-05,-0.00013854142162017524,-0.00011745465599233285,0.00029544797143898904,0.0018993085250258446,0.002650482812896371,0.0008034887723624706,0.0005129915080033243],\"type\":\"scatter\"},{\"opacity\":0.8,\"x\":[0.01,0.0075,0.01,0.015,0.02,0.0375,0.08750000000000001,0.1625,0.2625,0.4,0.65,1.125,1.775,2.65,3.85,9.5,31.25,60.5,100.0],\"y\":[-7.8570592449978e-05,-8.16370957181789e-05,-9.753511403687298e-05,-0.00011035773059120402,-9.199212217936292e-05,-6.174080044729635e-05,0.00010380681487731636,7.832233677618206e-05,5.668594894814305e-05,0.00042193883564323187,0.00035963262780569494,0.0004589511372614652,0.0006221295916475356,4.206504672765732e-05,-0.00020646634220611304,-0.00013873742136638612,-0.003132088342681527,-0.0027776884380728006,-0.0015110137173905969],\"type\":\"scatter\"},{\"opacity\":0.8,\"x\":[0.01,0.0075,0.01,0.015,0.02,0.0375,0.08750000000000001,0.1625,0.2625,0.4,0.65,1.125,1.775,2.65,3.85,9.5,31.25,60.5,100.0],\"y\":[0.00014169201313052326,0.00015619612531736493,0.00016859418246895075,0.00017680790915619582,0.00016459009202662855,0.00013678667892236263,7.923765952000394e-05,1.5966399587341584e-05,-0.0001715417456580326,-0.00018365116557106376,-0.00012700892693828791,0.00015771010657772422,0.00037572800647467375,-0.0002494403161108494,0.00018526606436353177,0.0015289918519556522,-0.0013304915046319366,-0.0016673607751727104,-0.0015055706026032567],\"type\":\"scatter\"},{\"opacity\":0.8,\"x\":[0.01,0.0075,0.01,0.015,0.02,0.0375,0.08750000000000001,0.1625,0.2625,0.4,0.65,1.125,1.775,2.65,3.85,9.5,31.25,60.5,100.0],\"y\":[-3.633684173109941e-05,-4.239136978867464e-05,-3.588866093195975e-05,-3.072110848734155e-05,-2.759026210696902e-05,-4.756047565024346e-05,-6.295124330790713e-05,-6.402899452950805e-05,-0.00035342539194971323,-0.0002898868697229773,-0.000335556484060362,0.0003134091675747186,0.0009247966227121651,0.0005051900516264141,-0.00012739210797008127,-0.002754973014816642,-0.0038630280178040266,-0.0016592295141890645,-0.000796138308942318],\"type\":\"scatter\"},{\"opacity\":0.8,\"x\":[0.01,0.0075,0.01,0.015,0.02,0.0375,0.08750000000000001,0.1625,0.2625,0.4,0.65,1.125,1.775,2.65,3.85,9.5,31.25,60.5,100.0],\"y\":[-0.0004532611055765301,-0.0004686489701271057,-0.00046493744594044983,-0.0004417704476509243,-0.0004286229668650776,-0.00034489724203012884,-0.00030735641485080123,-0.0003849577915389091,-0.00028746810858137906,-0.0001632359781069681,-4.109224028070457e-05,0.0001518600038252771,0.0006410111673176289,0.00030343979597091675,-0.0002937119279522449,-0.003049829276278615,-0.004769217688590288,-0.003940892871469259,-0.002864375477656722],\"type\":\"scatter\"},{\"opacity\":0.8,\"x\":[0.01,0.0075,0.01,0.015,0.02,0.0375,0.08750000000000001,0.1625,0.2625,0.4,0.65,1.125,1.775,2.65,3.85,9.5,31.25,60.5,100.0],\"y\":[-0.000326489913277328,-0.0002583062450867146,-0.00024039096024353057,-0.00025703574647195637,-0.00027384996064938605,-0.00028306394233368337,-0.00034991776919923723,-0.0003618658520281315,-0.0001396242732880637,-0.0002986405452247709,5.261603291728534e-05,0.0004221053095534444,0.0006253650062717497,0.0007260506972670555,0.0014340169727802277,0.0017501282272860408,0.0002601181622594595,9.90584958344698e-05,-1.672738289926201e-05],\"type\":\"scatter\"},{\"opacity\":0.8,\"x\":[0.01,0.0075,0.01,0.015,0.02,0.0375,0.08750000000000001,0.1625,0.2625,0.4,0.65,1.125,1.775,2.65,3.85,9.5,31.25,60.5,100.0],\"y\":[6.387814210029319e-05,8.19703855086118e-05,8.439496014034376e-05,9.488395153312013e-05,0.00010594163904897869,0.00012728130968753248,0.00013759343710262328,-8.373405580641702e-05,-0.00012685860565397888,-3.734626079676673e-05,7.951502630021423e-05,0.00015669198182877153,0.00011030345922335982,0.0007171072065830231,0.0007308446220122278,0.002111955778673291,-0.002574717625975609,-0.0024370350874960423,-0.0012889831559732556],\"type\":\"scatter\"},{\"opacity\":0.8,\"x\":[0.01,0.0075,0.01,0.015,0.02,0.0375,0.08750000000000001,0.1625,0.2625,0.4,0.65,1.125,1.775,2.65,3.85,9.5,31.25,60.5,100.0],\"y\":[1.6199475794564933e-05,5.966010576230474e-05,5.402982424129732e-05,4.1006151150213555e-05,1.846741361077875e-05,-3.316528818686493e-05,-0.0002373789466219023,-0.0004353127733338624,-0.0002740446070674807,-0.0005252784467302263,-0.0003830284404102713,-0.0002709072141442448,-0.0004360884486231953,-0.0009624704252928495,-0.0007620927062816918,-0.0015628929249942303,-0.0030667714308947325,-0.003421783447265625,-0.0025924465153366327],\"type\":\"scatter\"},{\"opacity\":0.8,\"x\":[0.01,0.0075,0.01,0.015,0.02,0.0375,0.08750000000000001,0.1625,0.2625,0.4,0.65,1.125,1.775,2.65,3.85,9.5,31.25,60.5,100.0],\"y\":[8.339669875567779e-05,6.288591248448938e-05,6.585560186067596e-05,7.642075070179999e-05,8.844739204505458e-05,7.387306686723605e-05,-1.7903972548083402e-05,6.792463409510674e-06,0.00011221517343074083,6.716510688420385e-05,-0.0001770575763657689,-0.00028370096697472036,-0.00031472049886360765,4.061961226398125e-05,-6.033810132066719e-05,0.0009444346651434898,0.0041257161647081375,0.005129136610776186,0.003690868616104126],\"type\":\"scatter\"},{\"opacity\":0.8,\"x\":[0.01,0.0075,0.01,0.015,0.02,0.0375,0.08750000000000001,0.1625,0.2625,0.4,0.65,1.125,1.775,2.65,3.85,9.5,31.25,60.5,100.0],\"y\":[-2.6626699764165096e-05,-2.3806191165931523e-05,-1.9668766981340013e-05,-8.510317456966732e-06,-1.0103508429892827e-05,1.0982905223499984e-05,7.302467565750703e-05,-0.0001790168898878619,-0.0002528896147850901,-4.8475791118107736e-05,0.00012691417941823602,2.240904541395139e-05,7.768737123114988e-05,0.00045085756573826075,0.0010756251867860556,0.0002673447015695274,0.0006193825392983854,0.0012338475789874792,0.0006326321163214743],\"type\":\"scatter\"},{\"opacity\":0.8,\"x\":[0.01,0.0075,0.01,0.015,0.02,0.0375,0.08750000000000001,0.1625,0.2625,0.4,0.65,1.125,1.775,2.65,3.85,9.5,31.25,60.5,100.0],\"y\":[7.125472166080726e-06,-4.6264531192719005e-06,-8.581552719988395e-06,9.641108590585645e-06,2.2062637071940117e-05,6.206789839779958e-05,0.00010267639299854636,-0.0003487580979708582,-0.00044750244705937803,-0.00023533675994258374,-0.0002584259200375527,0.0004435455484781414,0.0004984650295227766,0.0006223002565093338,0.0008926514419727027,0.001669703982770443,0.0015563148772343993,0.0010951986769214272,0.0013725683093070984],\"type\":\"scatter\"},{\"opacity\":0.8,\"x\":[0.01,0.0075,0.01,0.015,0.02,0.0375,0.08750000000000001,0.1625,0.2625,0.4,0.65,1.125,1.775,2.65,3.85,9.5,31.25,60.5,100.0],\"y\":[-0.00014697744336444885,-0.00014975559315644205,-0.0001405785296810791,-0.00015349384921137244,-0.00014800568169448525,-0.00014920996909495443,-0.00015197627362795174,-0.00010709095658967271,0.000105984479887411,-2.304069084857474e-06,0.0004980550147593021,0.001150790718384087,0.001349018537439406,0.0017212028615176678,0.0018701752414926887,0.002710367552936077,0.003187919734045863,0.003539441851899028,0.002690074732527137],\"type\":\"scatter\"},{\"opacity\":0.8,\"x\":[0.01,0.0075,0.01,0.015,0.02,0.0375,0.08750000000000001,0.1625,0.2625,0.4,0.65,1.125,1.775,2.65,3.85,9.5,31.25,60.5,100.0],\"y\":[-2.8777061743312515e-05,-2.6401738068670966e-05,-2.8680455216090195e-05,-9.14752763492288e-06,-2.1045490939286537e-05,-9.135939762927592e-06,4.08089799748268e-05,0.00010718375415308401,0.00023473317560274154,8.375427569262683e-07,-8.233125117840245e-05,-0.00028048455715179443,-0.00011311451089568436,-0.0002430552849546075,3.3439424441894516e-05,-0.0005935488734394312,-0.0005462164408527315,-0.0002059585676761344,-0.00010292155639035627],\"type\":\"scatter\"},{\"opacity\":0.8,\"x\":[0.01,0.0075,0.01,0.015,0.02,0.0375,0.08750000000000001,0.1625,0.2625,0.4,0.65,1.125,1.775,2.65,3.85,9.5,31.25,60.5,100.0],\"y\":[-0.0001378262968501076,-0.0001234792871400714,-0.00011989582708338276,-0.00013624427083414048,-0.00012491511006373912,-0.00016692224016878754,-0.0002573810052126646,9.861730359261855e-05,0.00012935255654156208,0.000276796956313774,0.0005641472525894642,0.0007908051484264433,0.0003937523579224944,-0.00029749429086223245,-0.0008471032488159835,-0.0021114733535796404,-0.0017643325263634324,-0.0012513167457655072,-0.0012846090830862522],\"type\":\"scatter\"},{\"opacity\":0.8,\"x\":[0.01,0.0075,0.01,0.015,0.02,0.0375,0.08750000000000001,0.1625,0.2625,0.4,0.65,1.125,1.775,2.65,3.85,9.5,31.25,60.5,100.0],\"y\":[0.00017509114695712924,0.00020804734958801419,0.00021202203060965985,0.00019394543778616935,0.0001913687592605129,0.00017984297301154584,0.00012227312254253775,-0.00010985628614434972,-0.00016052972932811826,-8.233616244979203e-05,-0.000377530261175707,-0.0007980777299962938,-0.0007182412664406002,-0.001805904321372509,-0.002823891816660762,-0.0030801426619291306,-0.003992489073425531,-0.003410232486203313,-0.0018889466300606728],\"type\":\"scatter\"},{\"opacity\":0.8,\"x\":[0.01,0.0075,0.01,0.015,0.02,0.0375,0.08750000000000001,0.1625,0.2625,0.4,0.65,1.125,1.775,2.65,3.85,9.5,31.25,60.5,100.0],\"y\":[1.64553384820465e-05,8.294443432532717e-06,3.468051318122889e-06,-7.724524039076641e-06,-9.542995940137189e-06,-2.6829986381926574e-05,-6.417199620045722e-05,-0.0002146671322407201,0.0002862641413230449,0.0004009264812339097,0.000476593995699659,0.00045362909440882504,0.0008086477755568922,0.0005913592758588493,0.00011102663847850636,0.0001541871315566823,-0.0017304853536188602,-0.00039541078149341047,3.146047311020084e-05],\"type\":\"scatter\"},{\"opacity\":0.8,\"x\":[0.01,0.0075,0.01,0.015,0.02,0.0375,0.08750000000000001,0.1625,0.2625,0.4,0.65,1.125,1.775,2.65,3.85,9.5,31.25,60.5,100.0],\"y\":[-5.4650237871101126e-05,-1.5883917512837797e-05,-4.103961600776529e-06,2.4503760869265534e-06,-2.4418975499429507e-06,3.8816810388198064e-07,0.0001052045336109586,2.856080243418546e-07,-0.0002601338492240757,-0.00035217279219068587,-0.0003873554232995957,0.00018738269864115864,0.00036336900666356087,0.0003307320876047015,0.00044807663653045893,0.0005432133912108839,-0.0028549053240567446,-0.002224326366558671,-0.001491982489824295],\"type\":\"scatter\"},{\"opacity\":0.8,\"x\":[0.01,0.0075,0.01,0.015,0.02,0.0375,0.08750000000000001,0.1625,0.2625,0.4,0.65,1.125,1.775,2.65,3.85,9.5,31.25,60.5,100.0],\"y\":[0.00019812195387203246,0.00017843137902673334,0.0001829635730246082,0.00017285726789850742,0.00017523432325106114,0.00020842715457547456,0.000278147344943136,0.000152029242599383,-0.0001804615749279037,-0.00036027925671078265,-9.401464922120795e-05,0.0004221460549160838,0.000755071232561022,0.0004167563747614622,0.0008850643062032759,-0.0014284254284575582,-0.0027261388022452593,-0.0020151122007519007,-0.001029934617690742],\"type\":\"scatter\"},{\"opacity\":0.8,\"x\":[0.01,0.0075,0.01,0.015,0.02,0.0375,0.08750000000000001,0.1625,0.2625,0.4,0.65,1.125,1.775,2.65,3.85,9.5,31.25,60.5,100.0],\"y\":[-0.00014232897956389934,-0.00015060324221849442,-0.00015291331510525197,-0.00013925982057116926,-0.00013436588051263243,-0.00012136887380620465,-0.00017450367158744484,-4.458401235751808e-05,-0.00018747818830888718,-0.00041706874617375433,-0.0006621002685278654,-0.000454166904091835,-0.000623744388576597,-0.0010167687432840466,-0.001438418752513826,0.0004412970447447151,0.0011265143984928727,0.0005337942275218666,0.0001250139466719702],\"type\":\"scatter\"},{\"opacity\":0.8,\"x\":[0.01,0.0075,0.01,0.015,0.02,0.0375,0.08750000000000001,0.1625,0.2625,0.4,0.65,1.125,1.775,2.65,3.85,9.5,31.25,60.5,100.0],\"y\":[-0.000322947307722643,-0.00032914173789322376,-0.00031220648088492453,-0.0002947978500742465,-0.0002917117963079363,-0.0002983960148412734,-0.00015994631394278258,-0.00017499102978035808,-8.581772999605164e-05,-0.00013087099068798125,0.00020984833827242255,0.00039882896817289293,0.0009910917142406106,0.0008405364933423698,0.0010601697722449899,0.001711181947030127,0.001761624007485807,0.001312894164584577,0.0012477557174861431],\"type\":\"scatter\"},{\"opacity\":0.8,\"x\":[0.01,0.0075,0.01,0.015,0.02,0.0375,0.08750000000000001,0.1625,0.2625,0.4,0.65,1.125,1.775,2.65,3.85,9.5,31.25,60.5,100.0],\"y\":[9.133256389759481e-05,9.027279884321615e-05,9.397352550877258e-05,0.00010226696031168103,0.00011831172014353797,0.0001357909059152007,0.00030360871460288763,0.00037853207322768867,-2.8028245651512407e-05,-3.3586533390916884e-05,3.731207470991649e-05,0.0002525411546230316,0.0006077782018110156,0.0007210829644463956,0.0008628656505607069,0.0005313363508321345,-0.001381704700179398,-0.0003956776636186987,-0.0007484841044060886],\"type\":\"scatter\"},{\"opacity\":0.8,\"x\":[0.01,0.0075,0.01,0.015,0.02,0.0375,0.08750000000000001,0.1625,0.2625,0.4,0.65,1.125,1.775,2.65,3.85,9.5,31.25,60.5,100.0],\"y\":[-0.0002208369696745649,-0.00021471420768648386,-0.00021613092394545674,-0.00021905875473748893,-0.000223653027205728,-0.00020846254483330995,-9.317276271758601e-05,7.051234661048511e-06,0.0001953405444510281,0.00033415318466722965,0.00045059574767947197,0.0005834916373714805,0.0008110166527330875,0.001010713167488575,0.0020380939822643995,0.0023773617576807737,0.0006854959647171199,0.0009725240524858236,0.0003108932578470558],\"type\":\"scatter\"},{\"opacity\":0.8,\"x\":[0.01,0.0075,0.01,0.015,0.02,0.0375,0.08750000000000001,0.1625,0.2625,0.4,0.65,1.125,1.775,2.65,3.85,9.5,31.25,60.5,100.0],\"y\":[-3.1413477699970827e-05,-2.8395223125698976e-05,-2.3941525796544738e-05,-3.601138087105937e-05,-3.956544605898671e-05,-1.0547845704422798e-05,1.8216231183032505e-05,0.00030103439348749816,0.0002488429599907249,0.0003519911551848054,0.0006755086942575872,0.0007652644999325275,0.0007163315895013511,0.00040682012331672013,0.0007366210338659585,0.0018594814464449883,0.0005026399157941341,0.0003442565503064543,0.00020474496704991907],\"type\":\"scatter\"},{\"opacity\":0.8,\"x\":[0.01,0.0075,0.01,0.015,0.02,0.0375,0.08750000000000001,0.1625,0.2625,0.4,0.65,1.125,1.775,2.65,3.85,9.5,31.25,60.5,100.0],\"y\":[-6.13376687397249e-05,-2.7057400075136684e-05,-2.4361897885682993e-05,-2.5466433726251125e-05,-3.70784146070946e-05,-2.796369699353818e-05,3.8439877243945375e-05,9.35375937842764e-05,-9.426574251847342e-05,-0.0001798218145268038,0.00020375533495098352,0.0007757458952255547,0.000588052615057677,0.0003295236674603075,0.0005903418059460819,-0.0007748634670861065,-1.3630415196530521e-05,0.0005180129664950073,0.00026208607596345246],\"type\":\"scatter\"},{\"opacity\":0.8,\"x\":[0.01,0.0075,0.01,0.015,0.02,0.0375,0.08750000000000001,0.1625,0.2625,0.4,0.65,1.125,1.775,2.65,3.85,9.5,31.25,60.5,100.0],\"y\":[-0.0005285705556161702,-0.0005333813023753464,-0.0005256514996290207,-0.000512526894453913,-0.00048774274182505906,-0.00045863111154176295,-0.0003381390415597707,-0.00045438724919222295,-0.0007328478968702257,-0.00044199483818374574,2.772892185021192e-05,0.0001573290501255542,0.00038174298242665827,0.0005629700026474893,0.0005297341267578304,0.001862485776655376,0.0004675209056586027,0.000861150911077857,0.0004471272695809603],\"type\":\"scatter\"},{\"opacity\":0.8,\"x\":[0.01,0.0075,0.01,0.015,0.02,0.0375,0.08750000000000001,0.1625,0.2625,0.4,0.65,1.125,1.775,2.65,3.85,9.5,31.25,60.5,100.0],\"y\":[7.622321845701663e-06,-4.930764703203749e-07,4.2475062400626484e-06,-2.3023836547508836e-05,-4.036887548863888e-05,-0.00010801705502672121,-5.1057239033980295e-05,0.0001630672049941495,-2.8560010832734406e-05,-9.189813863486052e-05,-0.00029110736795701087,-2.6439412977197208e-05,8.727490057935938e-05,-0.0006082208128646016,-0.0014862612588331103,0.0007788919028826058,0.0006672829040326178,-0.00021091377129778266,-0.00020771239360328764],\"type\":\"scatter\"},{\"opacity\":0.8,\"x\":[0.01,0.0075,0.01,0.015,0.02,0.0375,0.08750000000000001,0.1625,0.2625,0.4,0.65,1.125,1.775,2.65,3.85,9.5,31.25,60.5,100.0],\"y\":[-0.0001949043944478035,-0.00020770140690729022,-0.00021002499852329493,-0.00021645554807037115,-0.0002286693052155897,-0.0002322112995898351,-0.00023213594977278262,-9.063561446964741e-05,-0.0003320378309581429,-0.00041834465810097754,-0.0006147902458906174,-0.0009470260702073574,-0.0012380628613755107,-0.001576511189341545,-0.001759808510541916,0.0002025299472734332,0.0006175459129735827,-0.0003212769515812397,-0.0002753963053692132],\"type\":\"scatter\"},{\"opacity\":0.8,\"x\":[0.01,0.0075,0.01,0.015,0.02,0.0375,0.08750000000000001,0.1625,0.2625,0.4,0.65,1.125,1.775,2.65,3.85,9.5,31.25,60.5,100.0],\"y\":[0.000527137191966176,0.000517386884894222,0.000522011483553797,0.0005254223360680044,0.000516890489961952,0.0005277373711578548,0.0004154813941568136,-8.666083886055276e-07,-0.0001574002963025123,4.8749050620244816e-05,0.0002134972164640203,0.0004659334954340011,0.0004698355041909963,2.8630223823711276e-05,-0.00043455735431052744,-0.002035758225247264,-0.0033644416835159063,-0.0037396857514977455,-0.0025313885416835546],\"type\":\"scatter\"},{\"opacity\":0.8,\"x\":[0.01,0.0075,0.01,0.015,0.02,0.0375,0.08750000000000001,0.1625,0.2625,0.4,0.65,1.125,1.775,2.65,3.85,9.5,31.25,60.5,100.0],\"y\":[0.0003291719767730683,0.00028641754761338234,0.00026993892970494926,0.0002516763925086707,0.00025989010464400053,0.00024407885211985558,0.0003231055161450058,0.00039856837247498333,0.00040786192403174937,0.0003877754497807473,0.00033083264133892953,0.00030691357096657157,0.00019613606855273247,0.0004993772017769516,0.0006359588587656617,0.0009552673436701298,-0.001905122771859169,-0.001934521016664803,-0.0013136863708496094],\"type\":\"scatter\"},{\"opacity\":0.8,\"x\":[0.01,0.0075,0.01,0.015,0.02,0.0375,0.08750000000000001,0.1625,0.2625,0.4,0.65,1.125,1.775,2.65,3.85,9.5,31.25,60.5,100.0],\"y\":[0.00026298235752619803,0.00024748159921728075,0.0002521031128708273,0.0002563369052950293,0.00025997855118475854,0.00025331767392344773,0.0004144247795920819,0.0006200237548910081,0.0007271477370522916,0.0009266938432119787,0.0008548185578547418,0.0006481267046183348,0.0006443195161409676,0.0010209075408056378,0.0010699460981413722,-0.0018453090451657772,-0.004655285272747278,-0.002977295545861125,-0.001199057325720787],\"type\":\"scatter\"},{\"opacity\":0.8,\"x\":[0.01,0.0075,0.01,0.015,0.02,0.0375,0.08750000000000001,0.1625,0.2625,0.4,0.65,1.125,1.775,2.65,3.85,9.5,31.25,60.5,100.0],\"y\":[0.0001709563221083954,0.00016567997226957232,0.00015344959683716297,0.00013370293891057372,0.00013032756396569312,0.0001361589675070718,0.0001916398759931326,0.00018561621254775673,-0.00025598713546060026,-0.0006073687109164894,-0.0005979801644571126,-0.0002286108210682869,0.00018832896603271365,0.0003192144213244319,0.0014442651299759746,0.001776447519659996,0.00036050518974661827,0.0006092681433074176,0.000989207997918129],\"type\":\"scatter\"},{\"opacity\":0.8,\"x\":[0.01,0.0075,0.01,0.015,0.02,0.0375,0.08750000000000001,0.1625,0.2625,0.4,0.65,1.125,1.775,2.65,3.85,9.5,31.25,60.5,100.0],\"y\":[6.329989992082119e-05,4.853322388953529e-05,4.53655629826244e-05,3.0494071324937977e-05,2.9416076358756982e-05,8.301522029796615e-05,9.757938096299767e-05,0.00018278119387105107,-0.00015381006232928485,-0.000263145484495908,-0.000396091170841828,-0.0001942557719303295,-0.0002608355425763875,-0.00013462653441820294,-4.437142706592567e-05,0.0015691999578848481,0.0008834008476696908,1.3931344255979639e-05,-7.806249050190672e-05],\"type\":\"scatter\"},{\"opacity\":0.8,\"x\":[0.01,0.0075,0.01,0.015,0.02,0.0375,0.08750000000000001,0.1625,0.2625,0.4,0.65,1.125,1.775,2.65,3.85,9.5,31.25,60.5,100.0],\"y\":[0.00028666105936281383,0.0003073235566262156,0.00029531234758906066,0.0002914725919254124,0.0003061110037378967,0.0003629002021625638,0.0004171191540081054,0.0003623916709329933,0.00030317759956233203,0.0005281505873426795,0.000608616101089865,0.00030423051794059575,0.0008205616031773388,0.0016542138764634728,0.002417831216007471,0.002114327857270837,-0.0010957027552649379,-0.0015982486074790359,-0.0014745084336027503],\"type\":\"scatter\"},{\"opacity\":0.8,\"x\":[0.01,0.0075,0.01,0.015,0.02,0.0375,0.08750000000000001,0.1625,0.2625,0.4,0.65,1.125,1.775,2.65,3.85,9.5,31.25,60.5,100.0],\"y\":[-6.949484668439254e-05,-8.931494812713936e-05,-9.506682545179501e-05,-0.00011127805191790685,-0.0001224243751494214,-0.00011999833077425137,9.013932867674157e-05,0.00038676257827319205,0.0003945743665099144,0.0001872359571279958,0.0005114235100336373,0.0006472136010415852,0.0007090191938914359,0.001547886524349451,0.0031265763100236654,0.004233711864799261,-0.0007845309446565807,-0.00193359749391675,-0.0014574392698705196],\"type\":\"scatter\"},{\"opacity\":0.8,\"x\":[0.01,0.0075,0.01,0.015,0.02,0.0375,0.08750000000000001,0.1625,0.2625,0.4,0.65,1.125,1.775,2.65,3.85,9.5,31.25,60.5,100.0],\"y\":[4.392807386466302e-05,2.1455589376273565e-05,1.825505205488298e-05,5.9737340052379295e-06,1.0126900633622427e-05,2.2093912775744684e-05,-9.320676326751709e-05,-9.795088408282027e-05,6.575894076377153e-05,0.0002990683715324849,0.0003957139269914478,0.0007300670258700848,0.0005502096028067172,-9.162350761471316e-05,-0.0008338445331901312,-0.002195606706663966,-0.0028003377374261618,-0.0033040139824151993,-0.0017759725451469421],\"type\":\"scatter\"},{\"opacity\":0.8,\"x\":[0.01,0.0075,0.01,0.015,0.02,0.0375,0.08750000000000001,0.1625,0.2625,0.4,0.65,1.125,1.775,2.65,3.85,9.5,31.25,60.5,100.0],\"y\":[-0.0002450870524626225,-0.0002536866522859782,-0.00026321064797230065,-0.00026329155662097037,-0.0002620818268042058,-0.00027512895758263767,-0.000289763294858858,-0.0002047507296083495,-0.0003009651554748416,-0.00032009099959395826,-0.0005082323332317173,-0.0008183104800991714,-0.0012020942522212863,-0.0015831664204597473,-0.0012056665727868676,0.0009754950297065079,0.0020375761669129133,-0.00042089936323463917,-0.00032758445013314486],\"type\":\"scatter\"},{\"opacity\":0.8,\"x\":[0.01,0.0075,0.01,0.015,0.02,0.0375,0.08750000000000001,0.1625,0.2625,0.4,0.65,1.125,1.775,2.65,3.85,9.5,31.25,60.5,100.0],\"y\":[-0.0001080437286873348,-9.42183323786594e-05,-8.976960816653445e-05,-7.709991041338071e-05,-5.786333349533379e-05,-6.754058267688379e-05,-7.639722753083333e-05,-0.0004977622884325683,-0.000474304222734645,-0.0005435844650492072,-6.645136454608291e-05,8.214992703869939e-05,0.0004087831766810268,0.0009042836609296501,0.0011100213741883636,0.0007040977943688631,0.00098744488786906,-0.0007095551118254662,-0.000660696707200259],\"type\":\"scatter\"},{\"opacity\":0.8,\"x\":[0.01,0.0075,0.01,0.015,0.02,0.0375,0.08750000000000001,0.1625,0.2625,0.4,0.65,1.125,1.775,2.65,3.85,9.5,31.25,60.5,100.0],\"y\":[0.00021927262423560023,0.0002186415804317221,0.00021540983289014548,0.0002158372080884874,0.00022878930030856282,0.0002475487708579749,0.00020566392049659044,0.00038233379018492997,0.0002984321617987007,0.00025817297864705324,0.0003794289368670434,0.0006639483035542071,0.001189031987451017,0.0012854376109316945,0.0011213838588446379,-8.53883902891539e-05,-0.002197852125391364,-0.0020953789353370667,-0.0013562551466748118],\"type\":\"scatter\"},{\"opacity\":0.8,\"x\":[0.01,0.0075,0.01,0.015,0.02,0.0375,0.08750000000000001,0.1625,0.2625,0.4,0.65,1.125,1.775,2.65,3.85,9.5,31.25,60.5,100.0],\"y\":[0.00036568098585121334,0.00034123871591873467,0.00034482567571103573,0.00035084885894320905,0.0003422726003918797,0.00032651398214511573,0.0003043504257220775,0.0003809082554653287,0.00010616774670779705,-6.5883323259186e-05,-4.833567072637379e-05,0.00023478428192902356,0.00021626411762554199,-0.00021516710694413632,-0.000542813737411052,-0.0004918833146803081,-0.002804257906973362,-0.0026217505801469088,-0.001608520862646401],\"type\":\"scatter\"},{\"opacity\":0.8,\"x\":[0.01,0.0075,0.01,0.015,0.02,0.0375,0.08750000000000001,0.1625,0.2625,0.4,0.65,1.125,1.775,2.65,3.85,9.5,31.25,60.5,100.0],\"y\":[-0.0003839139826595783,-0.00043595294118858874,-0.0004266624746378511,-0.0004231951024848968,-0.0004200382682029158,-0.000453540007583797,-0.0005445870338007808,-0.0005674000713042915,-0.0006372148054651916,-0.000437050563050434,-0.00033646923839114606,-0.00016311730723828077,-0.00024142574693541974,0.00025222203112207353,-0.0005033010966144502,-0.000842022942379117,0.0004944392130710185,-5.753548975917511e-05,0.0001438457111362368],\"type\":\"scatter\"},{\"opacity\":0.8,\"x\":[0.01,0.0075,0.01,0.015,0.02,0.0375,0.08750000000000001,0.1625,0.2625,0.4,0.65,1.125,1.775,2.65,3.85,9.5,31.25,60.5,100.0],\"y\":[0.00015976735448930413,0.00017263076733797789,0.0001743652392178774,0.00017978012328967452,0.0001691730140009895,0.00016024270735215396,0.0003377163375262171,0.0002622196334414184,0.0001140061067417264,0.0001679055130807683,0.0005170481163077056,0.0007270632777363062,0.0011852179886773229,0.0012325792340561748,0.0004966069827787578,-0.0007773443940095603,-0.003030966268852353,-0.0032595014199614525,-0.0026250805240124464],\"type\":\"scatter\"}],                        {\"title\":{\"text\":\"Spectral dynamics: stanford-gpt2-medium-c\"},\"template\":{\"data\":{\"histogram2dcontour\":[{\"type\":\"histogram2dcontour\",\"colorbar\":{\"outlinewidth\":0,\"ticks\":\"\"},\"colorscale\":[[0.0,\"#0d0887\"],[0.1111111111111111,\"#46039f\"],[0.2222222222222222,\"#7201a8\"],[0.3333333333333333,\"#9c179e\"],[0.4444444444444444,\"#bd3786\"],[0.5555555555555556,\"#d8576b\"],[0.6666666666666666,\"#ed7953\"],[0.7777777777777778,\"#fb9f3a\"],[0.8888888888888888,\"#fdca26\"],[1.0,\"#f0f921\"]]}],\"choropleth\":[{\"type\":\"choropleth\",\"colorbar\":{\"outlinewidth\":0,\"ticks\":\"\"}}],\"histogram2d\":[{\"type\":\"histogram2d\",\"colorbar\":{\"outlinewidth\":0,\"ticks\":\"\"},\"colorscale\":[[0.0,\"#0d0887\"],[0.1111111111111111,\"#46039f\"],[0.2222222222222222,\"#7201a8\"],[0.3333333333333333,\"#9c179e\"],[0.4444444444444444,\"#bd3786\"],[0.5555555555555556,\"#d8576b\"],[0.6666666666666666,\"#ed7953\"],[0.7777777777777778,\"#fb9f3a\"],[0.8888888888888888,\"#fdca26\"],[1.0,\"#f0f921\"]]}],\"heatmap\":[{\"type\":\"heatmap\",\"colorbar\":{\"outlinewidth\":0,\"ticks\":\"\"},\"colorscale\":[[0.0,\"#0d0887\"],[0.1111111111111111,\"#46039f\"],[0.2222222222222222,\"#7201a8\"],[0.3333333333333333,\"#9c179e\"],[0.4444444444444444,\"#bd3786\"],[0.5555555555555556,\"#d8576b\"],[0.6666666666666666,\"#ed7953\"],[0.7777777777777778,\"#fb9f3a\"],[0.8888888888888888,\"#fdca26\"],[1.0,\"#f0f921\"]]}],\"heatmapgl\":[{\"type\":\"heatmapgl\",\"colorbar\":{\"outlinewidth\":0,\"ticks\":\"\"},\"colorscale\":[[0.0,\"#0d0887\"],[0.1111111111111111,\"#46039f\"],[0.2222222222222222,\"#7201a8\"],[0.3333333333333333,\"#9c179e\"],[0.4444444444444444,\"#bd3786\"],[0.5555555555555556,\"#d8576b\"],[0.6666666666666666,\"#ed7953\"],[0.7777777777777778,\"#fb9f3a\"],[0.8888888888888888,\"#fdca26\"],[1.0,\"#f0f921\"]]}],\"contourcarpet\":[{\"type\":\"contourcarpet\",\"colorbar\":{\"outlinewidth\":0,\"ticks\":\"\"}}],\"contour\":[{\"type\":\"contour\",\"colorbar\":{\"outlinewidth\":0,\"ticks\":\"\"},\"colorscale\":[[0.0,\"#0d0887\"],[0.1111111111111111,\"#46039f\"],[0.2222222222222222,\"#7201a8\"],[0.3333333333333333,\"#9c179e\"],[0.4444444444444444,\"#bd3786\"],[0.5555555555555556,\"#d8576b\"],[0.6666666666666666,\"#ed7953\"],[0.7777777777777778,\"#fb9f3a\"],[0.8888888888888888,\"#fdca26\"],[1.0,\"#f0f921\"]]}],\"surface\":[{\"type\":\"surface\",\"colorbar\":{\"outlinewidth\":0,\"ticks\":\"\"},\"colorscale\":[[0.0,\"#0d0887\"],[0.1111111111111111,\"#46039f\"],[0.2222222222222222,\"#7201a8\"],[0.3333333333333333,\"#9c179e\"],[0.4444444444444444,\"#bd3786\"],[0.5555555555555556,\"#d8576b\"],[0.6666666666666666,\"#ed7953\"],[0.7777777777777778,\"#fb9f3a\"],[0.8888888888888888,\"#fdca26\"],[1.0,\"#f0f921\"]]}],\"mesh3d\":[{\"type\":\"mesh3d\",\"colorbar\":{\"outlinewidth\":0,\"ticks\":\"\"}}],\"scatter\":[{\"fillpattern\":{\"fillmode\":\"overlay\",\"size\":10,\"solidity\":0.2},\"type\":\"scatter\"}],\"parcoords\":[{\"type\":\"parcoords\",\"line\":{\"colorbar\":{\"outlinewidth\":0,\"ticks\":\"\"}}}],\"scatterpolargl\":[{\"type\":\"scatterpolargl\",\"marker\":{\"colorbar\":{\"outlinewidth\":0,\"ticks\":\"\"}}}],\"bar\":[{\"error_x\":{\"color\":\"#2a3f5f\"},\"error_y\":{\"color\":\"#2a3f5f\"},\"marker\":{\"line\":{\"color\":\"#E5ECF6\",\"width\":0.5},\"pattern\":{\"fillmode\":\"overlay\",\"size\":10,\"solidity\":0.2}},\"type\":\"bar\"}],\"scattergeo\":[{\"type\":\"scattergeo\",\"marker\":{\"colorbar\":{\"outlinewidth\":0,\"ticks\":\"\"}}}],\"scatterpolar\":[{\"type\":\"scatterpolar\",\"marker\":{\"colorbar\":{\"outlinewidth\":0,\"ticks\":\"\"}}}],\"histogram\":[{\"marker\":{\"pattern\":{\"fillmode\":\"overlay\",\"size\":10,\"solidity\":0.2}},\"type\":\"histogram\"}],\"scattergl\":[{\"type\":\"scattergl\",\"marker\":{\"colorbar\":{\"outlinewidth\":0,\"ticks\":\"\"}}}],\"scatter3d\":[{\"type\":\"scatter3d\",\"line\":{\"colorbar\":{\"outlinewidth\":0,\"ticks\":\"\"}},\"marker\":{\"colorbar\":{\"outlinewidth\":0,\"ticks\":\"\"}}}],\"scattermapbox\":[{\"type\":\"scattermapbox\",\"marker\":{\"colorbar\":{\"outlinewidth\":0,\"ticks\":\"\"}}}],\"scatterternary\":[{\"type\":\"scatterternary\",\"marker\":{\"colorbar\":{\"outlinewidth\":0,\"ticks\":\"\"}}}],\"scattercarpet\":[{\"type\":\"scattercarpet\",\"marker\":{\"colorbar\":{\"outlinewidth\":0,\"ticks\":\"\"}}}],\"carpet\":[{\"aaxis\":{\"endlinecolor\":\"#2a3f5f\",\"gridcolor\":\"white\",\"linecolor\":\"white\",\"minorgridcolor\":\"white\",\"startlinecolor\":\"#2a3f5f\"},\"baxis\":{\"endlinecolor\":\"#2a3f5f\",\"gridcolor\":\"white\",\"linecolor\":\"white\",\"minorgridcolor\":\"white\",\"startlinecolor\":\"#2a3f5f\"},\"type\":\"carpet\"}],\"table\":[{\"cells\":{\"fill\":{\"color\":\"#EBF0F8\"},\"line\":{\"color\":\"white\"}},\"header\":{\"fill\":{\"color\":\"#C8D4E3\"},\"line\":{\"color\":\"white\"}},\"type\":\"table\"}],\"barpolar\":[{\"marker\":{\"line\":{\"color\":\"#E5ECF6\",\"width\":0.5},\"pattern\":{\"fillmode\":\"overlay\",\"size\":10,\"solidity\":0.2}},\"type\":\"barpolar\"}],\"pie\":[{\"automargin\":true,\"type\":\"pie\"}]},\"layout\":{\"autotypenumbers\":\"strict\",\"colorway\":[\"#636efa\",\"#EF553B\",\"#00cc96\",\"#ab63fa\",\"#FFA15A\",\"#19d3f3\",\"#FF6692\",\"#B6E880\",\"#FF97FF\",\"#FECB52\"],\"font\":{\"color\":\"#2a3f5f\"},\"hovermode\":\"closest\",\"hoverlabel\":{\"align\":\"left\"},\"paper_bgcolor\":\"white\",\"plot_bgcolor\":\"#E5ECF6\",\"polar\":{\"bgcolor\":\"#E5ECF6\",\"angularaxis\":{\"gridcolor\":\"white\",\"linecolor\":\"white\",\"ticks\":\"\"},\"radialaxis\":{\"gridcolor\":\"white\",\"linecolor\":\"white\",\"ticks\":\"\"}},\"ternary\":{\"bgcolor\":\"#E5ECF6\",\"aaxis\":{\"gridcolor\":\"white\",\"linecolor\":\"white\",\"ticks\":\"\"},\"baxis\":{\"gridcolor\":\"white\",\"linecolor\":\"white\",\"ticks\":\"\"},\"caxis\":{\"gridcolor\":\"white\",\"linecolor\":\"white\",\"ticks\":\"\"}},\"coloraxis\":{\"colorbar\":{\"outlinewidth\":0,\"ticks\":\"\"}},\"colorscale\":{\"sequential\":[[0.0,\"#0d0887\"],[0.1111111111111111,\"#46039f\"],[0.2222222222222222,\"#7201a8\"],[0.3333333333333333,\"#9c179e\"],[0.4444444444444444,\"#bd3786\"],[0.5555555555555556,\"#d8576b\"],[0.6666666666666666,\"#ed7953\"],[0.7777777777777778,\"#fb9f3a\"],[0.8888888888888888,\"#fdca26\"],[1.0,\"#f0f921\"]],\"sequentialminus\":[[0.0,\"#0d0887\"],[0.1111111111111111,\"#46039f\"],[0.2222222222222222,\"#7201a8\"],[0.3333333333333333,\"#9c179e\"],[0.4444444444444444,\"#bd3786\"],[0.5555555555555556,\"#d8576b\"],[0.6666666666666666,\"#ed7953\"],[0.7777777777777778,\"#fb9f3a\"],[0.8888888888888888,\"#fdca26\"],[1.0,\"#f0f921\"]],\"diverging\":[[0,\"#8e0152\"],[0.1,\"#c51b7d\"],[0.2,\"#de77ae\"],[0.3,\"#f1b6da\"],[0.4,\"#fde0ef\"],[0.5,\"#f7f7f7\"],[0.6,\"#e6f5d0\"],[0.7,\"#b8e186\"],[0.8,\"#7fbc41\"],[0.9,\"#4d9221\"],[1,\"#276419\"]]},\"xaxis\":{\"gridcolor\":\"white\",\"linecolor\":\"white\",\"ticks\":\"\",\"title\":{\"standoff\":15},\"zerolinecolor\":\"white\",\"automargin\":true,\"zerolinewidth\":2},\"yaxis\":{\"gridcolor\":\"white\",\"linecolor\":\"white\",\"ticks\":\"\",\"title\":{\"standoff\":15},\"zerolinecolor\":\"white\",\"automargin\":true,\"zerolinewidth\":2},\"scene\":{\"xaxis\":{\"backgroundcolor\":\"#E5ECF6\",\"gridcolor\":\"white\",\"linecolor\":\"white\",\"showbackground\":true,\"ticks\":\"\",\"zerolinecolor\":\"white\",\"gridwidth\":2},\"yaxis\":{\"backgroundcolor\":\"#E5ECF6\",\"gridcolor\":\"white\",\"linecolor\":\"white\",\"showbackground\":true,\"ticks\":\"\",\"zerolinecolor\":\"white\",\"gridwidth\":2},\"zaxis\":{\"backgroundcolor\":\"#E5ECF6\",\"gridcolor\":\"white\",\"linecolor\":\"white\",\"showbackground\":true,\"ticks\":\"\",\"zerolinecolor\":\"white\",\"gridwidth\":2}},\"shapedefaults\":{\"line\":{\"color\":\"#2a3f5f\"}},\"annotationdefaults\":{\"arrowcolor\":\"#2a3f5f\",\"arrowhead\":0,\"arrowwidth\":1},\"geo\":{\"bgcolor\":\"white\",\"landcolor\":\"#E5ECF6\",\"subunitcolor\":\"white\",\"showland\":true,\"showlakes\":true,\"lakecolor\":\"white\"},\"title\":{\"x\":0.05},\"mapbox\":{\"style\":\"light\"}}},\"xaxis\":{\"title\":{\"text\":\"% Total Training Tokens\"},\"type\":\"log\"},\"shapes\":[{\"fillcolor\":\"gold\",\"line\":{\"width\":1},\"opacity\":0.2,\"type\":\"rect\",\"x0\":0.6,\"x1\":1.3,\"xref\":\"x\",\"y0\":0,\"y1\":1,\"yref\":\"y domain\"}]},                        {\"responsive\": true}                    ).then(function(){\n",
       "                            \n",
       "var gd = document.getElementById('0113f0e7-0fe5-4814-932d-e7184ed7c644');\n",
       "var x = new MutationObserver(function (mutations, observer) {{\n",
       "        var display = window.getComputedStyle(gd).display;\n",
       "        if (!display || display === 'none') {{\n",
       "            console.log([gd, 'removed!']);\n",
       "            Plotly.purge(gd);\n",
       "            observer.disconnect();\n",
       "        }}\n",
       "}});\n",
       "\n",
       "// Listen for the removal of the full notebook cells\n",
       "var notebookContainer = gd.closest('#notebook-container');\n",
       "if (notebookContainer) {{\n",
       "    x.observe(notebookContainer, {childList: true});\n",
       "}}\n",
       "\n",
       "// Listen for the clearing of the current output cell\n",
       "var outputEl = gd.closest('.output');\n",
       "if (outputEl) {{\n",
       "    x.observe(outputEl, {childList: true});\n",
       "}}\n",
       "\n",
       "                        })                };                });            </script>        </div>"
      ]
     },
     "metadata": {},
     "output_type": "display_data"
    },
    {
     "data": {
      "text/html": [
       "<div>                            <div id=\"8f0ff005-9655-444f-8abf-dcd288a99983\" class=\"plotly-graph-div\" style=\"height:525px; width:100%;\"></div>            <script type=\"text/javascript\">                require([\"plotly\"], function(Plotly) {                    window.PLOTLYENV=window.PLOTLYENV || {};                                    if (document.getElementById(\"8f0ff005-9655-444f-8abf-dcd288a99983\")) {                    Plotly.newPlot(                        \"8f0ff005-9655-444f-8abf-dcd288a99983\",                        [{\"opacity\":0.8,\"x\":[0.01,0.0075,0.01,0.015,0.02,0.0375,0.08750000000000001,0.1625,0.2625,0.4,0.65,1.125,1.775,2.65,3.85,9.5,31.25,60.5,100.0],\"y\":[-0.00020862471137661487,-0.000383149366825819,-0.0004378723388072103,-0.0005462134722620249,-0.0005246512009762228,-0.00047076810733415186,-0.0005546337342821062,-0.0006946276989765465,-0.0006886043702252209,-0.0005962321883998811,-0.0008105139131657779,-0.0005237380391918123,0.0007413253770209849,0.0013828148366883397,0.0033050701022148132,0.006106385495513678,0.0026544276624917984,-1.058991415447963e-06,-0.0007068950799293816],\"type\":\"scatter\"},{\"opacity\":0.8,\"x\":[0.01,0.0075,0.01,0.015,0.02,0.0375,0.08750000000000001,0.1625,0.2625,0.4,0.65,1.125,1.775,2.65,3.85,9.5,31.25,60.5,100.0],\"y\":[-8.195759619411547e-06,-7.749546057311818e-05,-9.322232654085383e-05,-0.00013436205335892737,-0.00012793754285667092,-0.0001310293737333268,2.2947677280171774e-05,0.00016261280688922852,0.00016380648594349623,-2.689824759727344e-05,-0.00016939820488914847,-0.0004470220301300287,-0.0005166555056348443,-0.0006966881337575614,-0.0005928814061917365,-0.0008339310879819095,-0.0011268876260146499,-0.00026727464864961803,0.00018606532830744982],\"type\":\"scatter\"},{\"opacity\":0.8,\"x\":[0.01,0.0075,0.01,0.015,0.02,0.0375,0.08750000000000001,0.1625,0.2625,0.4,0.65,1.125,1.775,2.65,3.85,9.5,31.25,60.5,100.0],\"y\":[1.9602941392804496e-05,-0.00010777352144941688,-0.0001078148270607926,-0.00013790115190204233,-0.00015299748338293284,-0.00011966213787673041,-0.00015116161375772208,-0.00011766103125410154,-0.000250922137638554,-0.0002713642024900764,-0.00017840861983131617,-0.000337143981596455,-0.0008435377385467291,-0.0013549382565543056,-0.002324676373973489,-0.004453690722584724,-0.004630465060472488,-0.0019072460709139705,-0.0006712030153721571],\"type\":\"scatter\"},{\"opacity\":0.8,\"x\":[0.01,0.0075,0.01,0.015,0.02,0.0375,0.08750000000000001,0.1625,0.2625,0.4,0.65,1.125,1.775,2.65,3.85,9.5,31.25,60.5,100.0],\"y\":[0.00042126726475544274,0.0004035422171000391,0.0004031189309898764,0.00039927614852786064,0.00040447432547807693,0.0004016491584479809,0.00026214116951450706,-0.00016844416677486151,-0.00028235281934030354,-0.0004312210949137807,-0.00046631201985292137,-0.0003588015679270029,2.9691169402212836e-05,6.537371518788859e-05,0.00037256404175423086,0.0015874290838837624,0.0015942296013236046,0.0010216980008408427,0.0006803967407904565],\"type\":\"scatter\"},{\"opacity\":0.8,\"x\":[0.01,0.0075,0.01,0.015,0.02,0.0375,0.08750000000000001,0.1625,0.2625,0.4,0.65,1.125,1.775,2.65,3.85,9.5,31.25,60.5,100.0],\"y\":[-0.0002557603002060205,-0.00031045443029142916,-0.00032192133949138224,-0.0003351994091644883,-0.0003138629544992,-0.00028225945425219834,-0.00019896937010344118,-0.0006873705424368382,-0.00036077338154427707,-0.0005522830761037767,-0.0005806093686260283,-0.0007748282514512539,-0.0009598950855433941,-0.0006785940495319664,-0.00032949738670140505,0.0029532506596297026,0.005590639542788267,0.00484469486400485,0.0035293197724968195],\"type\":\"scatter\"},{\"opacity\":0.8,\"x\":[0.01,0.0075,0.01,0.015,0.02,0.0375,0.08750000000000001,0.1625,0.2625,0.4,0.65,1.125,1.775,2.65,3.85,9.5,31.25,60.5,100.0],\"y\":[-4.9410493375035e-05,-7.603609265061095e-05,-9.061941091204062e-05,-9.529814269626513e-05,-8.425643318332732e-05,-3.6046254535904154e-05,-0.00012363363930489868,-0.0005774584715254605,-0.00047760739107616246,-0.0005479796091094613,-0.0004185911675449461,-0.00030256345053203404,0.00033767687273211777,0.0007119051297195256,0.0004791226238012314,0.0010295266984030604,0.002355805365368724,0.001943112351000309,0.0019340448779985309],\"type\":\"scatter\"},{\"opacity\":0.8,\"x\":[0.01,0.0075,0.01,0.015,0.02,0.0375,0.08750000000000001,0.1625,0.2625,0.4,0.65,1.125,1.775,2.65,3.85,9.5,31.25,60.5,100.0],\"y\":[0.00021220749476924539,0.00021204707445576787,0.0002101016725646332,0.0002226997894467786,0.0002532558573875576,0.00025352282682433724,5.228387817624025e-05,-0.0005719804321415722,-0.0007079517818056047,-0.0009085714700631797,-0.0008287443197332323,-0.0010735540417954326,-0.0006045738700777292,-0.0007246450986713171,-0.0008908494492061436,-0.0029576204251497984,-0.003872266039252281,-0.0039231437258422375,-0.0026562681887298822],\"type\":\"scatter\"},{\"opacity\":0.8,\"x\":[0.01,0.0075,0.01,0.015,0.02,0.0375,0.08750000000000001,0.1625,0.2625,0.4,0.65,1.125,1.775,2.65,3.85,9.5,31.25,60.5,100.0],\"y\":[0.00035754116834141314,0.0003892345994245261,0.00039016929804347456,0.000403275596909225,0.0004364671476650983,0.0004671070200856775,0.0004411139234434813,0.0002432907494949177,0.00018124841153621674,0.00026667394558899105,-6.8928547989344224e-06,-0.00019283157598692924,-0.0005031409673392773,-0.0007561359670944512,-0.00029972827178426087,0.000515574065502733,-0.00163131149020046,-0.002348850015550852,-0.0014411526499316096],\"type\":\"scatter\"},{\"opacity\":0.8,\"x\":[0.01,0.0075,0.01,0.015,0.02,0.0375,0.08750000000000001,0.1625,0.2625,0.4,0.65,1.125,1.775,2.65,3.85,9.5,31.25,60.5,100.0],\"y\":[6.71309171593748e-05,8.36860272102058e-05,9.143474017037079e-05,0.00011202846508240327,0.00013812785618938506,0.00017245468916371465,0.00013084073725622147,-6.507215584861115e-05,-0.0005318303010426462,-0.0005813271855004132,-0.000489086436573416,-0.0004798296431545168,-7.85581796662882e-05,0.0005477389204315841,0.0012899439316242933,0.002969552529975772,-0.00033056200481951237,-0.0011065131984651089,-0.001140166656114161],\"type\":\"scatter\"},{\"opacity\":0.8,\"x\":[0.01,0.0075,0.01,0.015,0.02,0.0375,0.08750000000000001,0.1625,0.2625,0.4,0.65,1.125,1.775,2.65,3.85,9.5,31.25,60.5,100.0],\"y\":[-0.0004339641018304974,-0.00041928127757273614,-0.00041485889232717454,-0.00038106832653284073,-0.0003477717691566795,-0.0003868108906317502,-0.0004304834583308548,-0.0005443007103167474,-0.0007211013580672443,-0.0009623109363019466,-0.0009224858949892223,-0.0008791852742433548,-0.0005401158123277128,-0.0009011054062284529,-0.0015002954751253128,-0.0044791786931455135,-0.0026619229465723038,-0.0010964226676151156,-0.00021885645401198417],\"type\":\"scatter\"},{\"opacity\":0.8,\"x\":[0.01,0.0075,0.01,0.015,0.02,0.0375,0.08750000000000001,0.1625,0.2625,0.4,0.65,1.125,1.775,2.65,3.85,9.5,31.25,60.5,100.0],\"y\":[2.7467352992971428e-05,4.4641692511504516e-05,6.057120117475279e-05,6.910179945407435e-05,8.865482959663495e-05,9.252047311747447e-05,1.662243994360324e-05,-4.93279512738809e-05,-5.77492501179222e-05,-0.00010489585110917687,-3.519732126733288e-05,0.0005182504537515342,0.0009868337074294686,0.0016431167023256421,0.001046905992552638,0.0009777069790288806,-0.00021072097297292203,-0.001738399383611977,-0.0012261944357305765],\"type\":\"scatter\"},{\"opacity\":0.8,\"x\":[0.01,0.0075,0.01,0.015,0.02,0.0375,0.08750000000000001,0.1625,0.2625,0.4,0.65,1.125,1.775,2.65,3.85,9.5,31.25,60.5,100.0],\"y\":[0.00029556750087067485,0.00032065436244010925,0.00032213772647082806,0.0003217991616111249,0.00033492696820758283,0.00044095725752413273,0.00042094464879482985,0.00022827110660728067,-0.00028592123999260366,-0.0008970815688371658,-0.0009974127169698477,-0.0007506842375732958,-0.0011311345733702183,-0.001694906153716147,-0.002863026224076748,-0.0036391522735357285,-0.0022312263026833534,0.00032861484214663506,0.00045699728070758283],\"type\":\"scatter\"},{\"opacity\":0.8,\"x\":[0.01,0.0075,0.01,0.015,0.02,0.0375,0.08750000000000001,0.1625,0.2625,0.4,0.65,1.125,1.775,2.65,3.85,9.5,31.25,60.5,100.0],\"y\":[-0.00015541691391263157,-0.00023179191339295357,-0.00024577451404184103,-0.00024696887703612447,-0.00022851349785923958,-0.0001670992496656254,-0.0003011772350873798,-0.0005691972910426557,-0.0006022382294759154,-0.0010556754423305392,-0.001163002452813089,-0.0009860956342890859,-0.0008472073241136968,-0.0006432350492104888,-6.436081457650289e-05,-0.00034633793984539807,0.0008271122933365405,-0.0006370902410708368,-0.0005212266114540398],\"type\":\"scatter\"},{\"opacity\":0.8,\"x\":[0.01,0.0075,0.01,0.015,0.02,0.0375,0.08750000000000001,0.1625,0.2625,0.4,0.65,1.125,1.775,2.65,3.85,9.5,31.25,60.5,100.0],\"y\":[0.00018913681560661644,0.00019212218467146158,0.000194912136066705,0.00019212027837056667,0.00020408198179211468,0.0002598692080937326,0.00011608436034293845,0.00015785092546138912,0.00021687941625714302,0.000313199678203091,0.00046129358815960586,0.00013089094136375934,-0.0001350175734842196,-0.0005332523141987622,-0.0012709334259852767,0.0001942574162967503,-0.0010224523721262813,-0.002277292078360915,-0.0014457573415711522],\"type\":\"scatter\"},{\"opacity\":0.8,\"x\":[0.01,0.0075,0.01,0.015,0.02,0.0375,0.08750000000000001,0.1625,0.2625,0.4,0.65,1.125,1.775,2.65,3.85,9.5,31.25,60.5,100.0],\"y\":[5.193037850403925e-06,-8.825712029647548e-06,-1.4956031918700319e-05,-3.209078204235993e-05,-4.1808641981333494e-05,-1.4897530490998179e-05,3.461243977653794e-05,-0.00023789909027982503,2.0303568817325868e-05,-5.2875362598570064e-05,-0.00010895854939008132,4.1719700675457716e-05,0.00036396796349436045,0.0008538672118447721,0.0016187421279028058,0.0017796523170545697,-0.004182577133178711,-0.004695869516581297,-0.0025326439645141363],\"type\":\"scatter\"},{\"opacity\":0.8,\"x\":[0.01,0.0075,0.01,0.015,0.02,0.0375,0.08750000000000001,0.1625,0.2625,0.4,0.65,1.125,1.775,2.65,3.85,9.5,31.25,60.5,100.0],\"y\":[-0.00015561204054392874,-0.00017057413060683757,-0.00017532572383061051,-0.000178556889295578,-0.00017991033382713795,-0.00013255396333988756,-0.00018392880156170577,-0.0003000528959091753,-0.000437362672528252,-0.0005838911165483296,-0.0010397332953289151,-0.0007651047199033201,-0.0004998754593543708,3.091028702328913e-05,-9.340666110801976e-06,-0.0014539873227477074,-0.0015792339108884335,-0.0021317710634320974,-0.0016864086501300335],\"type\":\"scatter\"},{\"opacity\":0.8,\"x\":[0.01,0.0075,0.01,0.015,0.02,0.0375,0.08750000000000001,0.1625,0.2625,0.4,0.65,1.125,1.775,2.65,3.85,9.5,31.25,60.5,100.0],\"y\":[-3.593243673094548e-05,-4.4487907871371135e-05,-5.0224727601744235e-05,-4.871709461440332e-05,-6.105575448600575e-05,-6.245496479095891e-05,-3.3947253541555256e-05,-0.0002971900103148073,-0.0006607400719076395,-0.0010266609024256468,-0.0008985689491964877,-0.0007321613375097513,-0.0007578891236335039,-0.0013829730451107025,-0.002461446216329932,-0.002660313853994012,-0.0036124063190072775,-0.001507310662418604,-0.0012035288382321596],\"type\":\"scatter\"},{\"opacity\":0.8,\"x\":[0.01,0.0075,0.01,0.015,0.02,0.0375,0.08750000000000001,0.1625,0.2625,0.4,0.65,1.125,1.775,2.65,3.85,9.5,31.25,60.5,100.0],\"y\":[0.00010572004248388112,9.111135295825079e-05,8.682807674631476e-05,9.338033851236105e-05,9.459547436563298e-05,6.499124719994143e-05,2.5964764063246548e-05,-0.00013477941683959216,-0.0003412949445191771,-0.00020220362057443708,-0.00016443415370304137,0.00017327805107925087,0.00030593815608881414,0.0005850098677910864,0.0006131056579761207,-0.0006629347335547209,-0.0012515533016994596,-0.0014910065801814198,-0.0015469128265976906],\"type\":\"scatter\"},{\"opacity\":0.8,\"x\":[0.01,0.0075,0.01,0.015,0.02,0.0375,0.08750000000000001,0.1625,0.2625,0.4,0.65,1.125,1.775,2.65,3.85,9.5,31.25,60.5,100.0],\"y\":[0.0002910046314354986,0.0002784014795906842,0.0002804877294693142,0.0002847668656613678,0.0002878165105357766,0.00029292222461663187,0.0003032515523955226,0.00016019582108128816,-0.00010879409819608554,-0.0004294259415473789,-0.000588311580941081,-0.0007176458020694554,5.4635140259051695e-05,0.00045721253263764083,0.0003809410845860839,0.00011746602831408381,-0.0014051948674023151,-0.002106297295540571,-0.0014180764555931091],\"type\":\"scatter\"},{\"opacity\":0.8,\"x\":[0.01,0.0075,0.01,0.015,0.02,0.0375,0.08750000000000001,0.1625,0.2625,0.4,0.65,1.125,1.775,2.65,3.85,9.5,31.25,60.5,100.0],\"y\":[1.7177255358546972e-05,2.6617597541189753e-05,2.293942634423729e-05,2.1666382963303477e-06,-1.0410803952254355e-05,-5.2661707741208375e-06,4.015136710222578e-06,-0.00022100751812104136,-0.00042510393541306257,-0.0007351225358434021,-0.0006739536765962839,-0.0008503261487931013,-0.0007292865193448961,-0.0011989710619673133,-0.0018424520967528224,-0.0027800651732832193,-0.003402687842026353,-0.002276043873280287,-0.0010551604209467769],\"type\":\"scatter\"},{\"opacity\":0.8,\"x\":[0.01,0.0075,0.01,0.015,0.02,0.0375,0.08750000000000001,0.1625,0.2625,0.4,0.65,1.125,1.775,2.65,3.85,9.5,31.25,60.5,100.0],\"y\":[-0.00011127071775263175,-7.218967220978811e-05,-6.382767605828121e-05,-5.0933649617945775e-05,-6.0266669606789947e-05,-8.228595106629655e-05,-0.00010369825031375512,-0.00012445295578800142,1.3230345530246268e-06,-6.036643389961682e-05,2.0106363081140444e-06,-0.00010718353587435558,-0.00047962076496332884,-0.000906662258785218,-0.000455100234830752,-0.00028979129274375737,-0.0005536095122806728,0.0008281285990960896,0.0004017390019726008],\"type\":\"scatter\"},{\"opacity\":0.8,\"x\":[0.01,0.0075,0.01,0.015,0.02,0.0375,0.08750000000000001,0.1625,0.2625,0.4,0.65,1.125,1.775,2.65,3.85,9.5,31.25,60.5,100.0],\"y\":[0.00038079117075540125,0.00033266187529079616,0.0003231943119317293,0.0003245408006478101,0.0003266157291363925,0.0003434059035498649,0.00023605470778420568,-0.00018173268472310156,-0.00031563977245241404,-0.0005389793659560382,-0.0005397807690314949,-0.00046122047933749855,-0.0005009198794141412,-0.00024936601403169334,0.0001231374335475266,3.9086593460524455e-05,-0.0009526878129690886,-0.00030597043223679066,-0.00011515859659994021],\"type\":\"scatter\"},{\"opacity\":0.8,\"x\":[0.01,0.0075,0.01,0.015,0.02,0.0375,0.08750000000000001,0.1625,0.2625,0.4,0.65,1.125,1.775,2.65,3.85,9.5,31.25,60.5,100.0],\"y\":[-0.00031448036315850914,-0.00031049951212480664,-0.00031670372118242085,-0.00031566404504701495,-0.00031036403379403055,-0.0002834306505974382,-0.0002485810255166143,-0.0002601809974294156,-0.00030598064768128097,-8.902588160708547e-05,-0.0003151227720081806,-0.00043487033690325916,-0.0009928104700520635,-0.0016185493441298604,-0.002399266930297017,-0.0008967631147243083,-0.0029010262805968523,-0.002590653719380498,-0.002036136807873845],\"type\":\"scatter\"},{\"opacity\":0.8,\"x\":[0.01,0.0075,0.01,0.015,0.02,0.0375,0.08750000000000001,0.1625,0.2625,0.4,0.65,1.125,1.775,2.65,3.85,9.5,31.25,60.5,100.0],\"y\":[-3.113648926955648e-05,-4.010086922789924e-05,-4.765386984217912e-05,-5.383920870372094e-05,-4.0861585148377344e-05,-4.165924110566266e-05,-0.0001519822544651106,-0.0005555733223445714,-0.00038023898378014565,-0.00010121553350472823,6.7810935433954e-05,2.9525488571380265e-05,0.000172753119841218,-6.403909355867654e-05,-0.0009155391599051654,-0.002519468544051051,-0.003019594354555011,-0.0026409421116113663,-0.0024852403439581394],\"type\":\"scatter\"},{\"opacity\":0.8,\"x\":[0.01,0.0075,0.01,0.015,0.02,0.0375,0.08750000000000001,0.1625,0.2625,0.4,0.65,1.125,1.775,2.65,3.85,9.5,31.25,60.5,100.0],\"y\":[-0.00029550030012615025,-0.00022693858772981912,-0.0002115997631335631,-0.0002064145082840696,-0.00020657699496950954,-0.00018375743820797652,-8.728930697543547e-05,-0.00023431841691490263,6.072623000363819e-05,4.7764970076968893e-05,-0.00013291239156387746,-0.00037830989458598197,-0.0005859105731360614,-0.0013995030894875526,-0.002026183996349573,-0.0026924496050924063,-0.004126446787267923,-0.0032760773319751024,-0.002044153632596135],\"type\":\"scatter\"},{\"opacity\":0.8,\"x\":[0.01,0.0075,0.01,0.015,0.02,0.0375,0.08750000000000001,0.1625,0.2625,0.4,0.65,1.125,1.775,2.65,3.85,9.5,31.25,60.5,100.0],\"y\":[-0.0004185175057500601,-0.0004340815357863903,-0.00044419371988624334,-0.0004672624927479774,-0.0004764388140756637,-0.0004907686379738152,-0.0005279614706523716,-0.0008939930703490973,-0.0006119962781667709,-0.0004440325137693435,-0.0007319780415855348,-0.0007211025222204626,-0.0006935545243322849,-0.0010378204751759768,-0.0019435699796304107,-0.0020686292555183172,-0.003917632158845663,-0.0012482046149671078,-0.0006840077694505453],\"type\":\"scatter\"},{\"opacity\":0.8,\"x\":[0.01,0.0075,0.01,0.015,0.02,0.0375,0.08750000000000001,0.1625,0.2625,0.4,0.65,1.125,1.775,2.65,3.85,9.5,31.25,60.5,100.0],\"y\":[-0.0002529808843974024,-0.00024912008666433394,-0.0002615294069983065,-0.00025609295698814094,-0.00026576139498502016,-0.00029330069082789123,-0.0004573632322717458,-0.0004635038785636425,-0.0006559018511325121,-0.0005131472717039287,-0.00047043326776474714,-4.135636845603585e-05,0.00010420492617413402,0.0005590506480075419,0.0004650666087400168,-0.0009672882151789963,-0.0005513635114766657,-0.00010665690206224099,0.00027347321156412363],\"type\":\"scatter\"},{\"opacity\":0.8,\"x\":[0.01,0.0075,0.01,0.015,0.02,0.0375,0.08750000000000001,0.1625,0.2625,0.4,0.65,1.125,1.775,2.65,3.85,9.5,31.25,60.5,100.0],\"y\":[-5.148844502400607e-05,-4.884356530965306e-05,-5.249667810858227e-05,-5.491518822964281e-05,-4.335910125519149e-05,2.6742824047687463e-05,-7.848780660424381e-05,0.0002671506954357028,0.0006432314403355122,0.0004791620885953307,0.00035098075750283897,0.00032095942879095674,2.4601911718491465e-05,-0.00022224208805710077,0.0006695211050100625,0.0014359581982716918,-0.0004410349065437913,-0.0005755024612881243,-0.00040405092295259237],\"type\":\"scatter\"},{\"opacity\":0.8,\"x\":[0.01,0.0075,0.01,0.015,0.02,0.0375,0.08750000000000001,0.1625,0.2625,0.4,0.65,1.125,1.775,2.65,3.85,9.5,31.25,60.5,100.0],\"y\":[0.00012655458704102784,0.00014375592581927776,0.00014388175623025745,0.00014201836893334985,0.00015682888624724,0.00018303986871615052,0.0002531814679969102,0.0003069122030865401,0.00019629641610663384,1.9989693100797012e-06,-0.0005086946184746921,-0.0009223499218933284,-0.0011781203793361783,-0.001512326649390161,-0.002338336082175374,-0.00537550263106823,-0.003547554835677147,-0.0017170491628348827,-0.0007353113032877445],\"type\":\"scatter\"},{\"opacity\":0.8,\"x\":[0.01,0.0075,0.01,0.015,0.02,0.0375,0.08750000000000001,0.1625,0.2625,0.4,0.65,1.125,1.775,2.65,3.85,9.5,31.25,60.5,100.0],\"y\":[-0.00010217149974778295,-9.4602357421536e-05,-9.568064706400037e-05,-8.773507579462603e-05,-7.603762060170993e-05,-7.082406227709725e-05,-0.00015482099843211472,-0.0005450532189570367,-0.0004027560353279114,-0.0002883712586481124,-0.0003884805191773921,-0.0005407224525697529,-0.00022098807676229626,-0.0003521173493936658,-0.0009129666723310947,-0.0018183310749009252,-0.0015886005712673068,-0.0021176610607653856,-0.0014561349526047707],\"type\":\"scatter\"},{\"opacity\":0.8,\"x\":[0.01,0.0075,0.01,0.015,0.02,0.0375,0.08750000000000001,0.1625,0.2625,0.4,0.65,1.125,1.775,2.65,3.85,9.5,31.25,60.5,100.0],\"y\":[-8.574258390581235e-05,-0.00012266729027032852,-0.00011715549044311047,-0.00010920914792222902,-9.298887016484514e-05,-0.0001253608934348449,-0.0002566288167145103,-0.0005241077160462737,-0.0007021169294603169,-0.0005650286911986768,-0.0006556157604791224,-0.00020662099996116012,0.0004100512305740267,0.0011335589224472642,0.002392946043983102,0.001865725964307785,-0.00036592502146959305,3.150224802084267e-05,0.00028784925234504044],\"type\":\"scatter\"},{\"opacity\":0.8,\"x\":[0.01,0.0075,0.01,0.015,0.02,0.0375,0.08750000000000001,0.1625,0.2625,0.4,0.65,1.125,1.775,2.65,3.85,9.5,31.25,60.5,100.0],\"y\":[-0.0001050937280524522,-8.19701817817986e-05,-8.444088598480448e-05,-8.519122638972476e-05,-7.847288361517712e-05,-4.717891351901926e-05,2.9819289920851588e-05,-2.990199573105201e-05,-7.251672650454566e-05,-1.3581427083408926e-05,-1.659995541558601e-05,0.00024357459915336221,0.0007451695273630321,0.0005225458298809826,0.0011182373855262995,0.002448298502713442,0.002421316457912326,0.0006335730431601405,0.00017990324704442173],\"type\":\"scatter\"},{\"opacity\":0.8,\"x\":[0.01,0.0075,0.01,0.015,0.02,0.0375,0.08750000000000001,0.1625,0.2625,0.4,0.65,1.125,1.775,2.65,3.85,9.5,31.25,60.5,100.0],\"y\":[-7.750451914034784e-05,-9.589147521182895e-05,-0.00010446997475810349,-0.00011029092274839059,-0.00011372754670446739,-0.00016086302639450878,-0.00026107687153853476,-0.0004366394132375717,-0.000122561032185331,-0.00014151431969366968,5.577287811320275e-05,0.0004164548299741,0.0005188816576264799,0.0006761829718016088,0.001131113851442933,0.0030364571139216423,0.004910652060061693,0.0017903988482430577,0.0006235675537027419],\"type\":\"scatter\"},{\"opacity\":0.8,\"x\":[0.01,0.0075,0.01,0.015,0.02,0.0375,0.08750000000000001,0.1625,0.2625,0.4,0.65,1.125,1.775,2.65,3.85,9.5,31.25,60.5,100.0],\"y\":[-0.00028080467018298805,-0.0002489703765604645,-0.00023689288354944438,-0.00022645671560894698,-0.00023049651645123959,-0.00020637118723243475,-4.456583701539785e-05,-0.00021184590877965093,-0.0003787325695157051,-8.106391760520637e-05,0.0003455955593381077,0.0002014295314438641,-9.048826177604496e-05,-3.8312860851874575e-05,0.0003100559115409851,0.002130684908479452,0.001844562473706901,0.0010192354675382376,0.0006581007619388402],\"type\":\"scatter\"},{\"opacity\":0.8,\"x\":[0.01,0.0075,0.01,0.015,0.02,0.0375,0.08750000000000001,0.1625,0.2625,0.4,0.65,1.125,1.775,2.65,3.85,9.5,31.25,60.5,100.0],\"y\":[-0.00033815825008787215,-0.00030606568907387555,-0.000298998347716406,-0.00027335184859111905,-0.0002429092419333756,-0.00019331461226101965,-0.00018380320398136973,-0.0004947894485667348,-0.0004845492076128721,-0.0006520645110867918,-0.000245304690906778,0.00043267966248095036,0.001034111250191927,0.0017352624563500285,0.0021886765025556087,0.002172378823161125,-0.0009935041889548302,-0.002333501586690545,-0.0018865778110921383],\"type\":\"scatter\"},{\"opacity\":0.8,\"x\":[0.01,0.0075,0.01,0.015,0.02,0.0375,0.08750000000000001,0.1625,0.2625,0.4,0.65,1.125,1.775,2.65,3.85,9.5,31.25,60.5,100.0],\"y\":[0.00021031952928751707,0.0002051353658316657,0.00019764267199207097,0.00019565496768336743,0.00018634447769727558,0.00018578935123514384,0.00010771425877464935,-0.0001183554923045449,-0.0002293204452143982,0.0001284787431359291,-0.00010693619697121903,-0.00019036013691220433,1.699303356872406e-05,0.00019087929103989154,0.001018785173073411,8.130322385113686e-05,-0.0009729450102895498,-0.0022029804531484842,-0.00189022917766124],\"type\":\"scatter\"},{\"opacity\":0.8,\"x\":[0.01,0.0075,0.01,0.015,0.02,0.0375,0.08750000000000001,0.1625,0.2625,0.4,0.65,1.125,1.775,2.65,3.85,9.5,31.25,60.5,100.0],\"y\":[0.00019108901324216276,0.00023774542205501348,0.00024214050790760666,0.0002530872297938913,0.00025729581830091774,0.00021712278248742223,0.0002691408444661647,0.000283916451735422,5.708279422833584e-05,7.877316238591447e-05,0.00043209068826399744,0.0008302607457153499,0.0011381417280063033,0.0007937728078104556,0.0005949627957306802,0.00036123767495155334,3.435811959207058e-05,0.0004432870773598552,9.005326865008101e-05],\"type\":\"scatter\"},{\"opacity\":0.8,\"x\":[0.01,0.0075,0.01,0.015,0.02,0.0375,0.08750000000000001,0.1625,0.2625,0.4,0.65,1.125,1.775,2.65,3.85,9.5,31.25,60.5,100.0],\"y\":[-0.00010130623559234664,-6.615045276703313e-05,-6.595288141397759e-05,-4.093688039574772e-05,-4.4589822209673e-05,-1.6056183085311204e-05,-3.446522168815136e-05,-0.0002114446833729744,-0.00023575033992528915,-0.0003116910520475358,-0.0006756244110874832,-0.0008871517493389547,-0.000975429080426693,-0.0005704875802621245,0.0002402838581474498,-0.0007168790325522423,-0.001980042550712824,-0.0011759585468098521,-0.0008828340214677155],\"type\":\"scatter\"},{\"opacity\":0.8,\"x\":[0.01,0.0075,0.01,0.015,0.02,0.0375,0.08750000000000001,0.1625,0.2625,0.4,0.65,1.125,1.775,2.65,3.85,9.5,31.25,60.5,100.0],\"y\":[-0.0005621307645924389,-0.0005494725774042308,-0.0005533511284738779,-0.0005414116894826293,-0.0005234722630120814,-0.0004792871477548033,-0.00035806556115858257,-0.0003936245630029589,-0.0004962043021805584,-0.00024624099023640156,0.0003075352869927883,0.0002192708052461967,-0.000275994127150625,-0.0007192695629782975,-0.001798133016563952,-0.0030681283678859472,-0.0031430507078766823,-0.0009753694757819176,-0.0002183884644182399],\"type\":\"scatter\"},{\"opacity\":0.8,\"x\":[0.01,0.0075,0.01,0.015,0.02,0.0375,0.08750000000000001,0.1625,0.2625,0.4,0.65,1.125,1.775,2.65,3.85,9.5,31.25,60.5,100.0],\"y\":[0.00015567705850116909,0.0001606119330972433,0.00016179471276700497,0.00016027655510697514,0.00015146717487368733,0.00011831151641672477,7.757010462228209e-05,-7.22268086974509e-05,-3.029224717465695e-05,4.181734402664006e-05,0.00036837332299910486,0.0005916298250667751,0.0008697877638041973,0.0007135230698622763,0.00085501279681921,-0.0002354685711907223,0.00023873661120887846,-0.0006344589055515826,-0.0006811846978962421],\"type\":\"scatter\"},{\"opacity\":0.8,\"x\":[0.01,0.0075,0.01,0.015,0.02,0.0375,0.08750000000000001,0.1625,0.2625,0.4,0.65,1.125,1.775,2.65,3.85,9.5,31.25,60.5,100.0],\"y\":[-0.00010417838348075747,-0.00013569447037298232,-0.00014835837646387517,-0.00015498876746278256,-0.00017575953097548336,-0.00020819441124331206,-0.00035347091034054756,-0.0004333671822678298,3.268053478677757e-05,0.0005357326590456069,0.0005299179465509951,4.6497129346789734e-07,-0.00010664440924301744,-0.00024360250972677022,-0.0002652516996022314,0.00014579614799004048,0.0014486811123788357,0.0010125550907105207,0.0006739753298461437],\"type\":\"scatter\"},{\"opacity\":0.8,\"x\":[0.01,0.0075,0.01,0.015,0.02,0.0375,0.08750000000000001,0.1625,0.2625,0.4,0.65,1.125,1.775,2.65,3.85,9.5,31.25,60.5,100.0],\"y\":[8.961115236161277e-05,5.903545024921186e-05,5.858093572896905e-05,6.736465002177283e-05,7.478829502360895e-05,0.00011141211143694818,0.00012211593275424093,0.00030832699849270284,0.00023757269082125276,0.00020652699458878487,9.800901170819998e-05,4.252533017279347e-06,0.00012203888036310673,0.0003295570786576718,-6.760325049981475e-05,0.0015454223612323403,0.0031079791951924562,0.0017721448093652725,0.001066961674951017],\"type\":\"scatter\"},{\"opacity\":0.8,\"x\":[0.01,0.0075,0.01,0.015,0.02,0.0375,0.08750000000000001,0.1625,0.2625,0.4,0.65,1.125,1.775,2.65,3.85,9.5,31.25,60.5,100.0],\"y\":[0.00010078131890622899,8.366056135855615e-05,7.107111741788685e-05,6.906493217684329e-05,9.941108874045312e-05,0.00010980072693200782,0.00022009261010680348,0.00042634145938791335,0.0002710502885747701,-2.4142051188391633e-05,5.786967813037336e-05,1.2081818567821756e-05,0.00030967971542850137,0.000779386144131422,0.0007083488744683564,0.0010264695156365633,0.0018700239015743136,0.0014752453425899148,0.0008127184119075537],\"type\":\"scatter\"},{\"opacity\":0.8,\"x\":[0.01,0.0075,0.01,0.015,0.02,0.0375,0.08750000000000001,0.1625,0.2625,0.4,0.65,1.125,1.775,2.65,3.85,9.5,31.25,60.5,100.0],\"y\":[0.0001700516586424783,0.00016160857921931893,0.00015508683281950653,0.0001415503938915208,0.00012124746717745438,9.567957749823108e-05,8.371544390683994e-05,6.223572563612834e-05,0.0002271872799610719,0.00031675698119215667,0.0005632377578876913,0.0008338468614965677,0.0015522969188168645,0.0022873824927955866,0.002862936118617654,0.0035845376551151276,-0.00018727414135355502,0.00036930013447999954,0.0002699378237593919],\"type\":\"scatter\"},{\"opacity\":0.8,\"x\":[0.01,0.0075,0.01,0.015,0.02,0.0375,0.08750000000000001,0.1625,0.2625,0.4,0.65,1.125,1.775,2.65,3.85,9.5,31.25,60.5,100.0],\"y\":[0.00018198731413576752,0.00017504108836874366,0.00017331041453871876,0.00017325869703199714,0.00018438095867168158,0.00020013826724607497,0.000150195715832524,-0.00012962103937752545,-0.00022331054788082838,-0.00012991578842047602,-7.247074336191872e-06,0.00018013868248090148,-0.00024268979905173182,-0.00010348566138418391,0.0005899705574847758,0.0018447033362463117,0.0007686220924369991,-7.385800472547999e-06,-0.00012420657731126994],\"type\":\"scatter\"},{\"opacity\":0.8,\"x\":[0.01,0.0075,0.01,0.015,0.02,0.0375,0.08750000000000001,0.1625,0.2625,0.4,0.65,1.125,1.775,2.65,3.85,9.5,31.25,60.5,100.0],\"y\":[2.522240720281843e-05,5.7423847465543076e-05,6.326073344098404e-05,8.777614129940048e-05,0.00010181847756030038,0.00013236851373221725,0.00013617731747217476,3.706863572006114e-05,-0.00017412308079656214,-0.0002324402885278687,-7.238610851345584e-05,1.8879994968301617e-05,1.0320526598661672e-05,-0.0002602453751023859,0.0003997496096417308,0.0008780898060649633,0.0011074686190113425,-0.0001458880287827924,-0.0003629900747910142],\"type\":\"scatter\"},{\"opacity\":0.8,\"x\":[0.01,0.0075,0.01,0.015,0.02,0.0375,0.08750000000000001,0.1625,0.2625,0.4,0.65,1.125,1.775,2.65,3.85,9.5,31.25,60.5,100.0],\"y\":[-9.585890802554786e-05,-7.981831004144624e-05,-7.844568608561531e-05,-6.888469215482473e-05,-5.486902955453843e-05,-8.323459042003378e-05,-5.8964709751307964e-05,0.00026199573767371476,0.00012139444152126089,1.76473861301929e-06,-3.367163662915118e-05,0.0004430545086506754,0.0011434719199314713,0.0020515925716608763,0.001996836392208934,0.002564861439168453,0.000989483087323606,-9.059756848728284e-05,9.126287295657676e-06],\"type\":\"scatter\"},{\"opacity\":0.8,\"x\":[0.01,0.0075,0.01,0.015,0.02,0.0375,0.08750000000000001,0.1625,0.2625,0.4,0.65,1.125,1.775,2.65,3.85,9.5,31.25,60.5,100.0],\"y\":[2.9880241072532954e-06,8.71227427978738e-07,7.464989835170854e-07,-5.66279550184845e-06,-8.68773440743098e-06,3.5043642128584906e-05,-5.697616143152118e-05,-8.841903763823211e-05,7.432496204273775e-05,6.565466173924506e-05,6.789066901546903e-06,0.0001883006189018488,0.0002984063175972551,0.0004171459877397865,0.00012095222336938605,0.0008827855926938355,0.00027867144672200084,0.001327591948211193,0.0009691734449006617],\"type\":\"scatter\"},{\"opacity\":0.8,\"x\":[0.01,0.0075,0.01,0.015,0.02,0.0375,0.08750000000000001,0.1625,0.2625,0.4,0.65,1.125,1.775,2.65,3.85,9.5,31.25,60.5,100.0],\"y\":[-7.197737431852147e-05,-7.518416532548144e-05,-7.434016151819378e-05,-9.348605090053752e-05,-0.00011445162090240046,-0.00016027055971790105,-9.811137715587392e-05,-9.446539479540661e-05,-4.544063995126635e-05,0.0002691605477593839,0.0003086682118009776,0.0003599476476665586,0.0002835680788848549,0.0006342558772303164,0.0003508178342599422,0.0030359162483364344,0.003483743406832218,0.0015244834357872605,0.0016350277001038194],\"type\":\"scatter\"},{\"opacity\":0.8,\"x\":[0.01,0.0075,0.01,0.015,0.02,0.0375,0.08750000000000001,0.1625,0.2625,0.4,0.65,1.125,1.775,2.65,3.85,9.5,31.25,60.5,100.0],\"y\":[-0.00031807765481062233,-0.0002931348280981183,-0.0002912212221417576,-0.0002939574478659779,-0.00028990014106966555,-0.0002871913311537355,-0.00023663263709750026,-0.00023133897047955543,-1.2936917300976347e-05,-0.0001202656130772084,0.00011414234904805198,0.00017350421694573015,-3.285897764726542e-05,-6.949194357730448e-05,-0.0001945647381944582,0.0014749650144949555,0.0038224055897444487,0.002110524335876107,0.001492412411607802],\"type\":\"scatter\"},{\"opacity\":0.8,\"x\":[0.01,0.0075,0.01,0.015,0.02,0.0375,0.08750000000000001,0.1625,0.2625,0.4,0.65,1.125,1.775,2.65,3.85,9.5,31.25,60.5,100.0],\"y\":[0.0001488425041316077,0.00012498510477598757,0.00012274198525119573,0.00011727100354619324,0.00010096199548570439,0.00013825726637151092,0.00028294220101088285,0.0004527005658019334,0.00050437415484339,0.0005041552358306944,0.0004394110292196274,0.0006906799972057343,0.0010169919114559889,0.0013217258965596557,0.0010853302665054798,-0.001311692874878645,-0.002031277632340789,-0.0011505152797326446,-0.0009571765549480915],\"type\":\"scatter\"},{\"opacity\":0.8,\"x\":[0.01,0.0075,0.01,0.015,0.02,0.0375,0.08750000000000001,0.1625,0.2625,0.4,0.65,1.125,1.775,2.65,3.85,9.5,31.25,60.5,100.0],\"y\":[0.0002386133564868942,0.00023790345585439354,0.00024251236754935235,0.00024073502572719008,0.0002365031250519678,0.0002905591099988669,0.00043494507553987205,0.0007701811264269054,0.0005748661351390183,0.0003834747476503253,0.00025638187071308494,0.00022508531401399523,-0.00014218520664144307,-0.0002030231262324378,-0.0010473686270415783,-0.00195452687330544,-0.0021805064752697945,-0.0009933524997904897,-0.0006480635493062437],\"type\":\"scatter\"},{\"opacity\":0.8,\"x\":[0.01,0.0075,0.01,0.015,0.02,0.0375,0.08750000000000001,0.1625,0.2625,0.4,0.65,1.125,1.775,2.65,3.85,9.5,31.25,60.5,100.0],\"y\":[-0.00019100615463685244,-0.00018113975238520652,-0.0001798797311494127,-0.00017888900765683502,-0.00014358707994688302,-7.619581447215751e-05,-0.00013256145757623017,6.391393981175497e-05,0.00017169665079563856,-4.027902105008252e-05,-0.00012468725617509335,-2.8041999030392617e-05,-0.0003019290743395686,-0.0002920565602835268,0.000967702828347683,0.0010202777339145541,0.00030331432935781777,-0.0007692950312048197,-0.0006114792777225375],\"type\":\"scatter\"},{\"opacity\":0.8,\"x\":[0.01,0.0075,0.01,0.015,0.02,0.0375,0.08750000000000001,0.1625,0.2625,0.4,0.65,1.125,1.775,2.65,3.85,9.5,31.25,60.5,100.0],\"y\":[-0.0003695492632687092,-0.0003894390247296542,-0.00038595718797296286,-0.000397062482079491,-0.0004063108644913882,-0.00042652167030610144,-0.0004500607028603554,-0.0006601595669053495,-0.0007524667307734489,-0.0009456900297664106,-0.0009927423670887947,-0.0006164663354866207,-0.0003433334641158581,-0.0004263741138856858,-0.0006156734307296574,-0.0019507146207615733,-0.0007648839964531362,-0.0009854600066319108,-0.000992422690615058],\"type\":\"scatter\"},{\"opacity\":0.8,\"x\":[0.01,0.0075,0.01,0.015,0.02,0.0375,0.08750000000000001,0.1625,0.2625,0.4,0.65,1.125,1.775,2.65,3.85,9.5,31.25,60.5,100.0],\"y\":[0.0002388394350418821,0.00019979824719484895,0.00019715366943273693,0.00021079614816699177,0.00019971570873167366,0.00020000811491627246,0.0003777956299018115,0.00033290035207755864,0.0001328286889474839,6.755015783710405e-05,0.00029499916126951575,0.0005180332809686661,0.0008516593370586634,0.0008039334206841886,0.0011483583366498351,0.001164436456747353,0.0012234343448653817,-0.0005712926504202187,-0.0005450781900435686],\"type\":\"scatter\"},{\"opacity\":0.8,\"x\":[0.01,0.0075,0.01,0.015,0.02,0.0375,0.08750000000000001,0.1625,0.2625,0.4,0.65,1.125,1.775,2.65,3.85,9.5,31.25,60.5,100.0],\"y\":[0.00030387917649932206,0.00030151515966281295,0.000287363218376413,0.00027167474036104977,0.00026455038459971547,0.00026566433371044695,0.00017885515990201384,-0.000177550406078808,-0.00016702432185411453,-0.00021438764815684408,-0.00041239705751650035,-0.00041837431490421295,-0.0009011835209093988,-0.0009377624373883009,-0.0010081377113237977,-0.002361901802942157,-0.003110879100859165,-0.0014380579814314842,-0.0008645192719995975],\"type\":\"scatter\"},{\"opacity\":0.8,\"x\":[0.01,0.0075,0.01,0.015,0.02,0.0375,0.08750000000000001,0.1625,0.2625,0.4,0.65,1.125,1.775,2.65,3.85,9.5,31.25,60.5,100.0],\"y\":[-0.00020713276171591133,-0.0001771698152879253,-0.00016542128287255764,-0.00015907608030829579,-0.00015973165864124894,-0.00015971736866049469,-0.0001837096206145361,-0.00015907004126347601,-9.196774772135541e-05,-0.00027140756719745696,-0.00038850237615406513,-0.0004457555478438735,-0.00013451142876874655,9.347247396362945e-05,0.0005608653300441802,0.0010916166938841343,-7.273714436450973e-05,-0.0004607588052749634,-0.00042664643842726946],\"type\":\"scatter\"},{\"opacity\":0.8,\"x\":[0.01,0.0075,0.01,0.015,0.02,0.0375,0.08750000000000001,0.1625,0.2625,0.4,0.65,1.125,1.775,2.65,3.85,9.5,31.25,60.5,100.0],\"y\":[8.591543883085251e-05,6.449333886848763e-05,6.995773583184928e-05,8.430190064245835e-05,9.574085561325774e-05,0.0001490101421950385,0.00011043946869904175,0.0001938601490110159,0.00043990943231619895,0.0009283730760216713,0.0011880212696269155,0.0015086270868778229,0.0015157214365899563,0.0015485408948734403,0.002058936282992363,0.0026134459767490625,0.0026671169325709343,0.002216548193246126,0.0017016454366967082],\"type\":\"scatter\"},{\"opacity\":0.8,\"x\":[0.01,0.0075,0.01,0.015,0.02,0.0375,0.08750000000000001,0.1625,0.2625,0.4,0.65,1.125,1.775,2.65,3.85,9.5,31.25,60.5,100.0],\"y\":[-0.00012267207785043865,-0.00012696518388111144,-0.00013225343718659133,-0.000133455716422759,-0.000126697079394944,-9.72880152403377e-05,-0.00016233745554927737,2.6228372007608414e-07,7.864180224714801e-05,9.180827328236774e-05,0.00017665763152763247,0.0001359348389087245,0.0003035855188500136,0.00022100203204900026,9.543807391310111e-05,0.0004133145266678184,0.00198867148719728,-5.236408833297901e-05,0.00012197772593935952],\"type\":\"scatter\"},{\"opacity\":0.8,\"x\":[0.01,0.0075,0.01,0.015,0.02,0.0375,0.08750000000000001,0.1625,0.2625,0.4,0.65,1.125,1.775,2.65,3.85,9.5,31.25,60.5,100.0],\"y\":[9.334259812021628e-05,8.056014485191554e-05,7.786685455357656e-05,7.733811071375385e-05,7.988774450495839e-05,3.950600512325764e-05,0.00016699083789717406,0.000218357439734973,0.00029562783311121166,0.0003851689107250422,0.0003953664854634553,0.00038496137131005526,0.00014866921992506832,-0.00012903889000881463,-0.00015469608479179442,-0.000610261398833245,-0.001063506118953228,-0.000454888358945027,-0.0002810577570926398],\"type\":\"scatter\"},{\"opacity\":0.8,\"x\":[0.01,0.0075,0.01,0.015,0.02,0.0375,0.08750000000000001,0.1625,0.2625,0.4,0.65,1.125,1.775,2.65,3.85,9.5,31.25,60.5,100.0],\"y\":[6.619001942453906e-05,8.50564319989644e-05,9.379578841617331e-05,0.00010128421854460612,9.414523810846731e-05,8.861856622388586e-05,8.283869101433083e-05,0.0003351969353388995,0.00028636917704716325,0.00033463185536675155,0.0003947714576497674,0.0007663841242901981,0.0009419601410627365,0.0003171008138451725,0.0007490294519811869,-0.00036547626950778067,-0.0009397035464644432,0.0005558402626775205,0.00046739375102333724],\"type\":\"scatter\"},{\"opacity\":0.8,\"x\":[0.01,0.0075,0.01,0.015,0.02,0.0375,0.08750000000000001,0.1625,0.2625,0.4,0.65,1.125,1.775,2.65,3.85,9.5,31.25,60.5,100.0],\"y\":[0.00017283666238654405,0.00018613709835335612,0.0001842352794483304,0.00018360395915806293,0.00018660341447684914,0.00017291156109422445,0.00012395846715662628,-3.816666503553279e-05,-5.286519808578305e-05,-0.00026435512700118124,3.9047063182806596e-05,-8.114526281133294e-06,-0.0002490036131348461,-0.0001389022945659235,0.00018315028864890337,0.002648151246830821,0.0011977179674431682,0.0016432408010587096,0.0015579103492200375],\"type\":\"scatter\"},{\"opacity\":0.8,\"x\":[0.01,0.0075,0.01,0.015,0.02,0.0375,0.08750000000000001,0.1625,0.2625,0.4,0.65,1.125,1.775,2.65,3.85,9.5,31.25,60.5,100.0],\"y\":[-0.00028430650127120316,-0.000277654267847538,-0.0002770790597423911,-0.0002759096387308091,-0.0002586718474049121,-0.0002344323438592255,-0.00012816698290407658,-0.0004151625616941601,-0.00030723967938683927,4.2647283407859504e-05,6.960743485251442e-05,1.7757976820576005e-05,-0.0002053095231531188,0.000245141563937068,0.001003193436190486,0.002621541963890195,0.0019794763065874577,0.00042808378930203617,-3.84736449632328e-05],\"type\":\"scatter\"},{\"opacity\":0.8,\"x\":[0.01,0.0075,0.01,0.015,0.02,0.0375,0.08750000000000001,0.1625,0.2625,0.4,0.65,1.125,1.775,2.65,3.85,9.5,31.25,60.5,100.0],\"y\":[0.0001650558115215972,0.00017299554019700736,0.00017444197146687657,0.00018608431855682284,0.00020076672080904245,0.00020932465849909931,0.00030751893064007163,0.00022569049906451255,0.0003002724552061409,5.38498570676893e-05,0.00018741634266916662,0.00011386148253222927,0.00030883398721925914,0.00013950486027169973,0.00019615498604252934,-0.0005228815716691315,-0.002465814584866166,-0.0012100754538550973,-0.0008186821360141039],\"type\":\"scatter\"}],                        {\"title\":{\"text\":\"Spectral dynamics: stanford-gpt2-medium-d\"},\"template\":{\"data\":{\"histogram2dcontour\":[{\"type\":\"histogram2dcontour\",\"colorbar\":{\"outlinewidth\":0,\"ticks\":\"\"},\"colorscale\":[[0.0,\"#0d0887\"],[0.1111111111111111,\"#46039f\"],[0.2222222222222222,\"#7201a8\"],[0.3333333333333333,\"#9c179e\"],[0.4444444444444444,\"#bd3786\"],[0.5555555555555556,\"#d8576b\"],[0.6666666666666666,\"#ed7953\"],[0.7777777777777778,\"#fb9f3a\"],[0.8888888888888888,\"#fdca26\"],[1.0,\"#f0f921\"]]}],\"choropleth\":[{\"type\":\"choropleth\",\"colorbar\":{\"outlinewidth\":0,\"ticks\":\"\"}}],\"histogram2d\":[{\"type\":\"histogram2d\",\"colorbar\":{\"outlinewidth\":0,\"ticks\":\"\"},\"colorscale\":[[0.0,\"#0d0887\"],[0.1111111111111111,\"#46039f\"],[0.2222222222222222,\"#7201a8\"],[0.3333333333333333,\"#9c179e\"],[0.4444444444444444,\"#bd3786\"],[0.5555555555555556,\"#d8576b\"],[0.6666666666666666,\"#ed7953\"],[0.7777777777777778,\"#fb9f3a\"],[0.8888888888888888,\"#fdca26\"],[1.0,\"#f0f921\"]]}],\"heatmap\":[{\"type\":\"heatmap\",\"colorbar\":{\"outlinewidth\":0,\"ticks\":\"\"},\"colorscale\":[[0.0,\"#0d0887\"],[0.1111111111111111,\"#46039f\"],[0.2222222222222222,\"#7201a8\"],[0.3333333333333333,\"#9c179e\"],[0.4444444444444444,\"#bd3786\"],[0.5555555555555556,\"#d8576b\"],[0.6666666666666666,\"#ed7953\"],[0.7777777777777778,\"#fb9f3a\"],[0.8888888888888888,\"#fdca26\"],[1.0,\"#f0f921\"]]}],\"heatmapgl\":[{\"type\":\"heatmapgl\",\"colorbar\":{\"outlinewidth\":0,\"ticks\":\"\"},\"colorscale\":[[0.0,\"#0d0887\"],[0.1111111111111111,\"#46039f\"],[0.2222222222222222,\"#7201a8\"],[0.3333333333333333,\"#9c179e\"],[0.4444444444444444,\"#bd3786\"],[0.5555555555555556,\"#d8576b\"],[0.6666666666666666,\"#ed7953\"],[0.7777777777777778,\"#fb9f3a\"],[0.8888888888888888,\"#fdca26\"],[1.0,\"#f0f921\"]]}],\"contourcarpet\":[{\"type\":\"contourcarpet\",\"colorbar\":{\"outlinewidth\":0,\"ticks\":\"\"}}],\"contour\":[{\"type\":\"contour\",\"colorbar\":{\"outlinewidth\":0,\"ticks\":\"\"},\"colorscale\":[[0.0,\"#0d0887\"],[0.1111111111111111,\"#46039f\"],[0.2222222222222222,\"#7201a8\"],[0.3333333333333333,\"#9c179e\"],[0.4444444444444444,\"#bd3786\"],[0.5555555555555556,\"#d8576b\"],[0.6666666666666666,\"#ed7953\"],[0.7777777777777778,\"#fb9f3a\"],[0.8888888888888888,\"#fdca26\"],[1.0,\"#f0f921\"]]}],\"surface\":[{\"type\":\"surface\",\"colorbar\":{\"outlinewidth\":0,\"ticks\":\"\"},\"colorscale\":[[0.0,\"#0d0887\"],[0.1111111111111111,\"#46039f\"],[0.2222222222222222,\"#7201a8\"],[0.3333333333333333,\"#9c179e\"],[0.4444444444444444,\"#bd3786\"],[0.5555555555555556,\"#d8576b\"],[0.6666666666666666,\"#ed7953\"],[0.7777777777777778,\"#fb9f3a\"],[0.8888888888888888,\"#fdca26\"],[1.0,\"#f0f921\"]]}],\"mesh3d\":[{\"type\":\"mesh3d\",\"colorbar\":{\"outlinewidth\":0,\"ticks\":\"\"}}],\"scatter\":[{\"fillpattern\":{\"fillmode\":\"overlay\",\"size\":10,\"solidity\":0.2},\"type\":\"scatter\"}],\"parcoords\":[{\"type\":\"parcoords\",\"line\":{\"colorbar\":{\"outlinewidth\":0,\"ticks\":\"\"}}}],\"scatterpolargl\":[{\"type\":\"scatterpolargl\",\"marker\":{\"colorbar\":{\"outlinewidth\":0,\"ticks\":\"\"}}}],\"bar\":[{\"error_x\":{\"color\":\"#2a3f5f\"},\"error_y\":{\"color\":\"#2a3f5f\"},\"marker\":{\"line\":{\"color\":\"#E5ECF6\",\"width\":0.5},\"pattern\":{\"fillmode\":\"overlay\",\"size\":10,\"solidity\":0.2}},\"type\":\"bar\"}],\"scattergeo\":[{\"type\":\"scattergeo\",\"marker\":{\"colorbar\":{\"outlinewidth\":0,\"ticks\":\"\"}}}],\"scatterpolar\":[{\"type\":\"scatterpolar\",\"marker\":{\"colorbar\":{\"outlinewidth\":0,\"ticks\":\"\"}}}],\"histogram\":[{\"marker\":{\"pattern\":{\"fillmode\":\"overlay\",\"size\":10,\"solidity\":0.2}},\"type\":\"histogram\"}],\"scattergl\":[{\"type\":\"scattergl\",\"marker\":{\"colorbar\":{\"outlinewidth\":0,\"ticks\":\"\"}}}],\"scatter3d\":[{\"type\":\"scatter3d\",\"line\":{\"colorbar\":{\"outlinewidth\":0,\"ticks\":\"\"}},\"marker\":{\"colorbar\":{\"outlinewidth\":0,\"ticks\":\"\"}}}],\"scattermapbox\":[{\"type\":\"scattermapbox\",\"marker\":{\"colorbar\":{\"outlinewidth\":0,\"ticks\":\"\"}}}],\"scatterternary\":[{\"type\":\"scatterternary\",\"marker\":{\"colorbar\":{\"outlinewidth\":0,\"ticks\":\"\"}}}],\"scattercarpet\":[{\"type\":\"scattercarpet\",\"marker\":{\"colorbar\":{\"outlinewidth\":0,\"ticks\":\"\"}}}],\"carpet\":[{\"aaxis\":{\"endlinecolor\":\"#2a3f5f\",\"gridcolor\":\"white\",\"linecolor\":\"white\",\"minorgridcolor\":\"white\",\"startlinecolor\":\"#2a3f5f\"},\"baxis\":{\"endlinecolor\":\"#2a3f5f\",\"gridcolor\":\"white\",\"linecolor\":\"white\",\"minorgridcolor\":\"white\",\"startlinecolor\":\"#2a3f5f\"},\"type\":\"carpet\"}],\"table\":[{\"cells\":{\"fill\":{\"color\":\"#EBF0F8\"},\"line\":{\"color\":\"white\"}},\"header\":{\"fill\":{\"color\":\"#C8D4E3\"},\"line\":{\"color\":\"white\"}},\"type\":\"table\"}],\"barpolar\":[{\"marker\":{\"line\":{\"color\":\"#E5ECF6\",\"width\":0.5},\"pattern\":{\"fillmode\":\"overlay\",\"size\":10,\"solidity\":0.2}},\"type\":\"barpolar\"}],\"pie\":[{\"automargin\":true,\"type\":\"pie\"}]},\"layout\":{\"autotypenumbers\":\"strict\",\"colorway\":[\"#636efa\",\"#EF553B\",\"#00cc96\",\"#ab63fa\",\"#FFA15A\",\"#19d3f3\",\"#FF6692\",\"#B6E880\",\"#FF97FF\",\"#FECB52\"],\"font\":{\"color\":\"#2a3f5f\"},\"hovermode\":\"closest\",\"hoverlabel\":{\"align\":\"left\"},\"paper_bgcolor\":\"white\",\"plot_bgcolor\":\"#E5ECF6\",\"polar\":{\"bgcolor\":\"#E5ECF6\",\"angularaxis\":{\"gridcolor\":\"white\",\"linecolor\":\"white\",\"ticks\":\"\"},\"radialaxis\":{\"gridcolor\":\"white\",\"linecolor\":\"white\",\"ticks\":\"\"}},\"ternary\":{\"bgcolor\":\"#E5ECF6\",\"aaxis\":{\"gridcolor\":\"white\",\"linecolor\":\"white\",\"ticks\":\"\"},\"baxis\":{\"gridcolor\":\"white\",\"linecolor\":\"white\",\"ticks\":\"\"},\"caxis\":{\"gridcolor\":\"white\",\"linecolor\":\"white\",\"ticks\":\"\"}},\"coloraxis\":{\"colorbar\":{\"outlinewidth\":0,\"ticks\":\"\"}},\"colorscale\":{\"sequential\":[[0.0,\"#0d0887\"],[0.1111111111111111,\"#46039f\"],[0.2222222222222222,\"#7201a8\"],[0.3333333333333333,\"#9c179e\"],[0.4444444444444444,\"#bd3786\"],[0.5555555555555556,\"#d8576b\"],[0.6666666666666666,\"#ed7953\"],[0.7777777777777778,\"#fb9f3a\"],[0.8888888888888888,\"#fdca26\"],[1.0,\"#f0f921\"]],\"sequentialminus\":[[0.0,\"#0d0887\"],[0.1111111111111111,\"#46039f\"],[0.2222222222222222,\"#7201a8\"],[0.3333333333333333,\"#9c179e\"],[0.4444444444444444,\"#bd3786\"],[0.5555555555555556,\"#d8576b\"],[0.6666666666666666,\"#ed7953\"],[0.7777777777777778,\"#fb9f3a\"],[0.8888888888888888,\"#fdca26\"],[1.0,\"#f0f921\"]],\"diverging\":[[0,\"#8e0152\"],[0.1,\"#c51b7d\"],[0.2,\"#de77ae\"],[0.3,\"#f1b6da\"],[0.4,\"#fde0ef\"],[0.5,\"#f7f7f7\"],[0.6,\"#e6f5d0\"],[0.7,\"#b8e186\"],[0.8,\"#7fbc41\"],[0.9,\"#4d9221\"],[1,\"#276419\"]]},\"xaxis\":{\"gridcolor\":\"white\",\"linecolor\":\"white\",\"ticks\":\"\",\"title\":{\"standoff\":15},\"zerolinecolor\":\"white\",\"automargin\":true,\"zerolinewidth\":2},\"yaxis\":{\"gridcolor\":\"white\",\"linecolor\":\"white\",\"ticks\":\"\",\"title\":{\"standoff\":15},\"zerolinecolor\":\"white\",\"automargin\":true,\"zerolinewidth\":2},\"scene\":{\"xaxis\":{\"backgroundcolor\":\"#E5ECF6\",\"gridcolor\":\"white\",\"linecolor\":\"white\",\"showbackground\":true,\"ticks\":\"\",\"zerolinecolor\":\"white\",\"gridwidth\":2},\"yaxis\":{\"backgroundcolor\":\"#E5ECF6\",\"gridcolor\":\"white\",\"linecolor\":\"white\",\"showbackground\":true,\"ticks\":\"\",\"zerolinecolor\":\"white\",\"gridwidth\":2},\"zaxis\":{\"backgroundcolor\":\"#E5ECF6\",\"gridcolor\":\"white\",\"linecolor\":\"white\",\"showbackground\":true,\"ticks\":\"\",\"zerolinecolor\":\"white\",\"gridwidth\":2}},\"shapedefaults\":{\"line\":{\"color\":\"#2a3f5f\"}},\"annotationdefaults\":{\"arrowcolor\":\"#2a3f5f\",\"arrowhead\":0,\"arrowwidth\":1},\"geo\":{\"bgcolor\":\"white\",\"landcolor\":\"#E5ECF6\",\"subunitcolor\":\"white\",\"showland\":true,\"showlakes\":true,\"lakecolor\":\"white\"},\"title\":{\"x\":0.05},\"mapbox\":{\"style\":\"light\"}}},\"xaxis\":{\"title\":{\"text\":\"% Total Training Tokens\"},\"type\":\"log\"},\"shapes\":[{\"fillcolor\":\"gold\",\"line\":{\"width\":1},\"opacity\":0.2,\"type\":\"rect\",\"x0\":0.6,\"x1\":1.3,\"xref\":\"x\",\"y0\":0,\"y1\":1,\"yref\":\"y domain\"}]},                        {\"responsive\": true}                    ).then(function(){\n",
       "                            \n",
       "var gd = document.getElementById('8f0ff005-9655-444f-8abf-dcd288a99983');\n",
       "var x = new MutationObserver(function (mutations, observer) {{\n",
       "        var display = window.getComputedStyle(gd).display;\n",
       "        if (!display || display === 'none') {{\n",
       "            console.log([gd, 'removed!']);\n",
       "            Plotly.purge(gd);\n",
       "            observer.disconnect();\n",
       "        }}\n",
       "}});\n",
       "\n",
       "// Listen for the removal of the full notebook cells\n",
       "var notebookContainer = gd.closest('#notebook-container');\n",
       "if (notebookContainer) {{\n",
       "    x.observe(notebookContainer, {childList: true});\n",
       "}}\n",
       "\n",
       "// Listen for the clearing of the current output cell\n",
       "var outputEl = gd.closest('.output');\n",
       "if (outputEl) {{\n",
       "    x.observe(outputEl, {childList: true});\n",
       "}}\n",
       "\n",
       "                        })                };                });            </script>        </div>"
      ]
     },
     "metadata": {},
     "output_type": "display_data"
    }
   ],
   "source": [
    "for model_name in all_models:\n",
    "  spectrum = np.asarray(model_spectrum[model_name])\n",
    "  head_mean_spectrum = np.mean(spectrum, axis =(1,2)).T\n",
    "  fig = go.Figure(layout={'title': f'Spectral dynamics: {model_name}'})\n",
    "  fig.update_xaxes(title=\"% Total Training Tokens\", type='log')\n",
    "  fig.add_vrect(x0=0.6, x1=1.3, line_width=1, fillcolor=\"gold\", opacity=0.2)\n",
    "  for i, sp in enumerate(head_mean_spectrum):\n",
    "    tokens_trained_on = np.asarray(model_to_tokens_trained_on[model_name])\n",
    "    tokens_trained_on = 100 * (tokens_trained_on / tokens_trained_on[-1])\n",
    "    tokens_trained_on[0] = 1e-2\n",
    "    fig.add_trace(go.Scatter(x=tokens_trained_on, y=sp, opacity = 0.8))\n",
    "  fig.show()\n",
    "  fig.write_image(f\"qk_spectral_dynamics_{model_name}.png\", scale=6)\n"
   ]
  },
  {
   "cell_type": "code",
   "execution_count": null,
   "metadata": {},
   "outputs": [],
   "source": []
  }
 ],
 "metadata": {
  "kernelspec": {
   "display_name": "Python 3 (ipykernel)",
   "language": "python",
   "name": "python3"
  },
  "orig_nbformat": 4
 },
 "nbformat": 4,
 "nbformat_minor": 2
}
